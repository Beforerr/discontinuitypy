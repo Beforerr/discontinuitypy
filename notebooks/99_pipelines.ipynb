{
 "cells": [
  {
   "cell_type": "markdown",
   "metadata": {},
   "source": [
    "---\n",
    "title: Pipelines\n",
    "format:\n",
    "  html:\n",
    "    code-fold: true\n",
    "---"
   ]
  },
  {
   "cell_type": "code",
   "execution_count": null,
   "metadata": {},
   "outputs": [],
   "source": [
    "#| hide\n",
    "%load_ext kedro.ipython\n",
    "%load_ext autoreload\n",
    "%autoreload 2"
   ]
  },
  {
   "cell_type": "code",
   "execution_count": null,
   "metadata": {},
   "outputs": [],
   "source": [
    "#| default_exp pipelines/data_processing/pipeline"
   ]
  },
  {
   "cell_type": "code",
   "execution_count": null,
   "metadata": {},
   "outputs": [],
   "source": [
    "#| exports\n",
    "def combine_candidates(dict):\n",
    "    pass\n",
    "\n",
    "# node_thm_extract_features = node(\n",
    "#     extract_features,\n",
    "#     inputs=[\"primary_thm_rtn_1s\", \"params:tau\", \"params:thm_1s_params\"],\n",
    "#     outputs=\"candidates_thm_rtn_1s\",\n",
    "#     name=\"extract_ARTEMIS_features\",\n",
    "# )\n",
    "\n",
    "# node_combine_candidates = node(\n",
    "#     combine_candidates,\n",
    "#     inputs=dict(\n",
    "#         sta_candidates=\"candidates_sta_rtn_1s\",\n",
    "#         jno_candidates=\"candidates_jno_ss_se_1s\",\n",
    "#         thm_candidates=\"candidates_thm_rtn_1s\",\n",
    "#     ),\n",
    "#     outputs=\"candidates_all_1s\",\n",
    "#     name=\"combine_candidates\",\n",
    "# )"
   ]
  },
  {
   "cell_type": "code",
   "execution_count": null,
   "metadata": {},
   "outputs": [],
   "source": [
    "# | export\n",
    "from kedro.pipeline import Pipeline, pipeline, node\n",
    "\n",
    "def create_pipeline(**kwargs) -> Pipeline:\n",
    "    pass\n",
    "#     thm_pipeline = pipeline(\n",
    "#         [\n",
    "#             node_thm_extract_features,\n",
    "#         ]\n",
    "#     )\n",
    "#     return (\n",
    "#         + thm_pipeline\n",
    "#     )"
   ]
  }
 ],
 "metadata": {
  "kernelspec": {
   "display_name": "python3",
   "language": "python",
   "name": "python3"
  }
 },
 "nbformat": 4,
 "nbformat_minor": 2
}
