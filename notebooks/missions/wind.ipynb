{
 "cells": [
  {
   "cell_type": "code",
   "execution_count": null,
   "metadata": {},
   "outputs": [],
   "source": [
    "# | default_exp mission.wind\n",
    "# | export\n",
    "from discontinuitypy.datasets import IDsDataset\n",
    "from space_analysis.core import MagVariable\n",
    "from space_analysis.meta import TempDataset, PlasmaDataset\n",
    "from space_analysis.missions.wind import (\n",
    "    wi_mfi_h2_bgse,\n",
    "    wi_pm_3dp_ds,\n",
    "    wi_plsp_3dp_ds,\n",
    "    wi_elm2_3dp_ds,\n",
    ")"
   ]
  },
  {
   "cell_type": "code",
   "execution_count": null,
   "metadata": {},
   "outputs": [],
   "source": [
    "# | export\n",
    "class WindConfigBase(IDsDataset):\n",
    "    name: str = \"Wind\"\n",
    "    mag_meta: MagVariable = wi_mfi_h2_bgse\n",
    "    plasma_meta: PlasmaDataset = wi_pm_3dp_ds\n",
    "    ion_temp_meta: TempDataset = wi_plsp_3dp_ds\n",
    "    e_temp_meta: TempDataset = wi_elm2_3dp_ds"
   ]
  }
 ],
 "metadata": {
  "kernelspec": {
   "display_name": "python3",
   "language": "python",
   "name": "python3"
  }
 },
 "nbformat": 4,
 "nbformat_minor": 2
}
