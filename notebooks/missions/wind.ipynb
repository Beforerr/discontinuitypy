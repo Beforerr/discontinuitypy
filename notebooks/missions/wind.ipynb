{
 "cells": [
  {
   "cell_type": "code",
   "execution_count": 1,
   "metadata": {},
   "outputs": [],
   "source": [
    "# | default_exp mission.wind\n",
    "# | export\n",
    "from discontinuitypy.datasets import IDsDataset\n",
    "from space_analysis.meta import MagDataset, TempDataset, PlasmaDataset\n",
    "from space_analysis.missions.wind import (\n",
    "    wi_mfi_h2_ds,\n",
    "    wi_pm_3dp_ds,\n",
    "    wi_plsp_3dp_ds,\n",
    "    wi_elm2_3dp_ds,\n",
    ")"
   ]
  },
  {
   "cell_type": "code",
   "execution_count": 2,
   "metadata": {},
   "outputs": [],
   "source": [
    "# | export\n",
    "class WindConfigBase(IDsDataset):\n",
    "    name: str = \"Wind\"\n",
    "    mag_meta: MagDataset = wi_mfi_h2_ds\n",
    "    plasma_meta: PlasmaDataset = wi_pm_3dp_ds\n",
    "    ion_temp_meta: TempDataset = wi_plsp_3dp_ds\n",
    "    e_temp_meta: TempDataset = wi_elm2_3dp_ds"
   ]
  }
 ],
 "metadata": {
  "kernelspec": {
   "display_name": "python3",
   "language": "python",
   "name": "python3"
  },
  "language_info": {
   "codemirror_mode": {
    "name": "ipython",
    "version": 3
   },
   "file_extension": ".py",
   "mimetype": "text/x-python",
   "name": "python",
   "nbconvert_exporter": "python",
   "pygments_lexer": "ipython3",
   "version": "3.11.9"
  }
 },
 "nbformat": 4,
 "nbformat_minor": 2
}
