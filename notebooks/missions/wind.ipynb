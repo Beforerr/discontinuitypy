{
 "cells": [
  {
   "cell_type": "code",
   "execution_count": null,
   "metadata": {},
   "outputs": [],
   "source": [
    "# | default_exp mission.wind\n",
    "# | export\n",
    "from discontinuitypy.datasets import IDsDataset\n",
    "from space_analysis.meta import MagDataset, TempDataset, PlasmaDataset\n",
    "from space_analysis.missions.wind import (\n",
    "    wi_mfi_h2_ds,\n",
    "    wi_pm_3dp_ds,\n",
    "    wi_plsp_3dp_ds,\n",
    "    wi_elm2_3dp_ds,\n",
    ")"
   ]
  },
  {
   "cell_type": "code",
   "execution_count": null,
   "metadata": {},
   "outputs": [],
   "source": [
    "# | export\n",
    "class WindConfigBase(IDsDataset):\n",
    "    name: str = \"Wind\"\n",
    "    mag_meta: MagDataset = wi_mfi_h2_ds\n",
    "    plasma_meta: PlasmaDataset = wi_pm_3dp_ds\n",
    "    ion_temp_meta: TempDataset = wi_plsp_3dp_ds\n",
    "    e_temp_meta: TempDataset = wi_elm2_3dp_ds"
   ]
  }
 ],
 "metadata": {
  "kernelspec": {
   "display_name": "python3",
   "language": "python",
   "name": "python3"
  }
 },
 "nbformat": 4,
 "nbformat_minor": 2
}
