{
 "cells": [
  {
   "cell_type": "code",
   "execution_count": null,
   "metadata": {},
   "outputs": [],
   "source": [
    "# | default_exp mission.stereo\n",
    "# | export\n",
    "from discontinuitypy.datasets import IDsDataset\n",
    "from space_analysis.meta import MagDataset, PlasmaDataset\n",
    "from space_analysis.missions.stereo import sta_l1_mag_rtn, sta_l2_pla"
   ]
  },
  {
   "cell_type": "code",
   "execution_count": null,
   "metadata": {},
   "outputs": [],
   "source": [
    "# | export\n",
    "class StereoConfigBase(IDsDataset):\n",
    "    name: str = \"STEREO\"\n",
    "    mag_meta: MagDataset = sta_l1_mag_rtn\n",
    "    plasma_meta: PlasmaDataset = sta_l2_pla"
   ]
  }
 ],
 "metadata": {
  "kernelspec": {
   "display_name": "python3",
   "language": "python",
   "name": "python3"
  }
 },
 "nbformat": 4,
 "nbformat_minor": 2
}
