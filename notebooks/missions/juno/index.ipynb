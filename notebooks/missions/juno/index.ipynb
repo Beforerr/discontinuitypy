{
 "cells": [
  {
   "cell_type": "markdown",
   "metadata": {},
   "source": [
    "---\n",
    "title: IDs from Juno\n",
    "format:\n",
    "  html:\n",
    "    code-fold: true\n",
    "---"
   ]
  },
  {
   "cell_type": "markdown",
   "metadata": {},
   "source": [
    "## Background"
   ]
  },
  {
   "cell_type": "markdown",
   "metadata": {},
   "source": [
    "Spacecraft-Solar equatorial\n",
    "\n",
    "https://pds-ppi.igpp.ucla.edu/data/JNO-SS-3-FGM-CAL-V1.0/INDEX/INDEX.TAB"
   ]
  },
  {
   "cell_type": "markdown",
   "metadata": {},
   "source": [
    "### Coordinate System of Data"
   ]
  },
  {
   "cell_type": "markdown",
   "metadata": {},
   "source": [
    "1. **SE (Solar Equatorial)**\n",
    "    - Code: `se`\n",
    "    - Resampling options: \n",
    "        - Number of seconds (1 or 60): `se_rN[N]s`\n",
    "        - Resampled 1 hour: `se_r1h`\n",
    "\n",
    "2. **PC (Planetocentric)**\n",
    "    - Code: `pc`\n",
    "    - Resampling options: \n",
    "        - Number of seconds (1 or 60): `pc_rN[N]s`\n",
    "        \n",
    "3. **SS (Sun-State)**\n",
    "    - Code: `ss`\n",
    "    - Resampling options: \n",
    "        - Number of seconds (1 or 60): `ss_rN[N]s`\n",
    "        \n",
    "4. **PL (Payload)**\n",
    "    - Code: `pl`\n",
    "    - Resampling options: \n",
    "        - Number of seconds (1 or 60): `pl_rN[N]s`\n",
    "\n",
    "\n",
    "```txt\n",
    "------------------------------------------------------------------------------\n",
    "Juno Mission Phases                                                           \n",
    "------------------------------------------------------------------------------\n",
    "Start       Mission                                                           \n",
    "Date        Phase                                                             \n",
    "==============================================================================\n",
    "2011-08-05  Launch                                                            \n",
    "2011-08-08  Inner Cruise 1                                                    \n",
    "2011-10-10  Inner Cruise 2                                                    \n",
    "2013-05-28  Inner Cruise 3                                                    \n",
    "2013-11-05  Quiet Cruise                                                      \n",
    "2016-01-05  Jupiter Approach                                                  \n",
    "2016-06-30  Jupiter Orbital Insertion                                         \n",
    "2016-07-05  Capture Orbit                                                     \n",
    "2016-10-19  Period Reduction Maneuver                                         \n",
    "2016-10-20  Orbits 1-2                                                        \n",
    "2016-11-09  Science Orbits                                                    \n",
    "2017-10-11  Deorbit\n",
    "```\n",
    "\n",
    "```txt\n",
    "File Naming Convention                                                        \n",
    "==============================================================================\n",
    "Convention:                                                                   \n",
    "   fgm_jno_LL_CCYYDDDxx_vVV.ext                                               \n",
    "Where:                                                                        \n",
    "   fgm - Fluxgate Magnetometer three character instrument abbreviation        \n",
    "   jno - Juno                                                                 \n",
    "    LL - CODMAC Data level, for example, l3 for level 3                       \n",
    "    CC - The century portion of a date, 20                                    \n",
    "    YY - The year of century portion of a date, 00-99                         \n",
    "   DDD - The day of year, 001-366                                             \n",
    "    xx - Coordinate system of data (se = Solar equatorial, ser = Solar        \n",
    "         equatorial resampled, pc = Planetocentric, ss = Sun-State,           \n",
    "         pl = Payload)                                                        \n",
    "     v - separator to denote Version number                                   \n",
    "    VV - version                                                              \n",
    "   ext - file extension (sts = Standard Time Series (ASCII) file, lbl = Label \n",
    "         file)                                                                \n",
    "Example:                                                                      \n",
    "   fgm_jno_l3_2014055se_v00.sts    \n",
    "```"
   ]
  },
  {
   "cell_type": "markdown",
   "metadata": {},
   "source": [
    "There are three principal coordinate systems used to represent the data in this archive. The SE coordinate system is a Spacecraft- Solar equatorial system and it will be used for cruise data only. The sun-state (ss) and planetocentric (pc) will be used for Earth Fly By (EFB) and Jupiter orbital data. Cartesian representations are used for all three coordinate systems. These coordinate systems are specified relative to a “target body” which may be any solar system object (but for this orbital operations will Jupiter). In what follows we will reference Jupiter as the target body, but, for example, if observations near a satellite (such as Io) are desired in Io-centric coordinates, the satellite Io may be specified as the target body. \n",
    "\n",
    "The SE coordinate system is defined using the sun-spacecraft vector as the primary reference vector; sun’s rotation axis as the secondary reference vector (z). The x axis lies along the sun-spacecraft vector, the z axis is in the plane defined by the Sun’s rotation axis and the spacecraft-sun vector. The y axis completes the system.\n",
    "\n",
    "The ss coordinate system is defined using the instantaneous Jupiter-Sun vector as the primary reference vector (x direction). The X-axis lies along this vector and is taken to be positive toward the Sun. The Jupiter orbital velocity vector is the second vector used to define the coordinate system; the y axis lies in the plane determined by the Jupiter-Sun vector and the velocity vector and is orthogonal to the x axis (very nearly the negative of the velocity vector). The vector cross product of x and y yields a vector z parallel to the northward (upward) normal of the orbit plane of Jupiter. This system is sometimes called a sun-state (ss) coordinate system since its principal vectors are the Sun vector and the Jupiter state vector."
   ]
  },
  {
   "cell_type": "markdown",
   "metadata": {},
   "source": [
    "## Setup"
   ]
  },
  {
   "cell_type": "markdown",
   "metadata": {},
   "source": [
    "Need to run command in shell first as `pipeline` is project-specific command\n",
    "\n",
    "```{sh}\n",
    "kedro pipeline create juno\n",
    "```\n",
    "\n",
    "To get candidates data, run `kedro run --from-inputs=jno.feature_1s --to-outputs=candidates.jno_1s`"
   ]
  },
  {
   "cell_type": "code",
   "execution_count": null,
   "metadata": {},
   "outputs": [],
   "source": [
    "#| default_exp pipelines/juno/pipeline"
   ]
  },
  {
   "cell_type": "code",
   "execution_count": null,
   "metadata": {},
   "outputs": [],
   "source": [
    "#| hide\n",
    "%load_ext autoreload\n",
    "%autoreload 2"
   ]
  },
  {
   "cell_type": "code",
   "execution_count": null,
   "metadata": {},
   "outputs": [
    {
     "data": {
      "text/html": [
       "<pre style=\"white-space:pre;overflow-x:auto;line-height:normal;font-family:Menlo,'DejaVu Sans Mono',consolas,'Courier New',monospace\"><span style=\"color: #7fbfbf; text-decoration-color: #7fbfbf\">[10/20/23 11:56:31] </span><span style=\"color: #800000; text-decoration-color: #800000\">WARNING </span> TqdmExperimentalWarning: Using `tqdm.autonotebook.tqdm` in notebook    <a href=\"file:///Users/zijin/miniforge3/envs/cool_planet/lib/python3.10/warnings.py\" target=\"_blank\"><span style=\"color: #7f7f7f; text-decoration-color: #7f7f7f\">warnings.py</span></a><span style=\"color: #7f7f7f; text-decoration-color: #7f7f7f\">:</span><a href=\"file:///Users/zijin/miniforge3/envs/cool_planet/lib/python3.10/warnings.py#109\" target=\"_blank\"><span style=\"color: #7f7f7f; text-decoration-color: #7f7f7f\">109</span></a>\n",
       "<span style=\"color: #7fbfbf; text-decoration-color: #7fbfbf\">                    </span>         mode. Use `tqdm.tqdm` instead to force console mode <span style=\"font-weight: bold\">(</span>e.g. in jupyter   <span style=\"color: #7f7f7f; text-decoration-color: #7f7f7f\">               </span>\n",
       "<span style=\"color: #7fbfbf; text-decoration-color: #7fbfbf\">                    </span>         console<span style=\"font-weight: bold\">)</span>                                                               <span style=\"color: #7f7f7f; text-decoration-color: #7f7f7f\">               </span>\n",
       "<span style=\"color: #7fbfbf; text-decoration-color: #7fbfbf\">                    </span>                                                                                <span style=\"color: #7f7f7f; text-decoration-color: #7f7f7f\">               </span>\n",
       "</pre>\n"
      ],
      "text/plain": [
       "\u001b[2;36m[10/20/23 11:56:31]\u001b[0m\u001b[2;36m \u001b[0m\u001b[31mWARNING \u001b[0m TqdmExperimentalWarning: Using `tqdm.autonotebook.tqdm` in notebook    \u001b]8;id=156732;file:///Users/zijin/miniforge3/envs/cool_planet/lib/python3.10/warnings.py\u001b\\\u001b[2mwarnings.py\u001b[0m\u001b]8;;\u001b\\\u001b[2m:\u001b[0m\u001b]8;id=226162;file:///Users/zijin/miniforge3/envs/cool_planet/lib/python3.10/warnings.py#109\u001b\\\u001b[2m109\u001b[0m\u001b]8;;\u001b\\\n",
       "\u001b[2;36m                    \u001b[0m         mode. Use `tqdm.tqdm` instead to force console mode \u001b[1m(\u001b[0me.g. in jupyter   \u001b[2m               \u001b[0m\n",
       "\u001b[2;36m                    \u001b[0m         console\u001b[1m)\u001b[0m                                                               \u001b[2m               \u001b[0m\n",
       "\u001b[2;36m                    \u001b[0m                                                                                \u001b[2m               \u001b[0m\n"
      ]
     },
     "metadata": {},
     "output_type": "display_data"
    }
   ],
   "source": [
    "#| code-summary: import all the packages needed for the project\n",
    "#| export\n",
    "#| output: hide\n",
    "from ids_finder.core import extract_features\n",
    "from fastcore.utils import *\n",
    "from fastcore.test import *\n",
    "\n",
    "import polars as pl\n",
    "import pandas as pd\n",
    "\n",
    "from loguru import logger\n",
    "\n",
    "from typing import Callable\n"
   ]
  },
  {
   "cell_type": "markdown",
   "metadata": {},
   "source": [
    "#### `Kerdo`"
   ]
  },
  {
   "cell_type": "code",
   "execution_count": null,
   "metadata": {},
   "outputs": [],
   "source": [
    "#| export\n",
    "from kedro.pipeline import Pipeline, node\n",
    "from kedro.pipeline.modular_pipeline import pipeline"
   ]
  },
  {
   "cell_type": "code",
   "execution_count": null,
   "metadata": {},
   "outputs": [
    {
     "data": {
      "text/html": [
       "<pre style=\"white-space:pre;overflow-x:auto;line-height:normal;font-family:Menlo,'DejaVu Sans Mono',consolas,'Courier New',monospace\"><span style=\"color: #7fbfbf; text-decoration-color: #7fbfbf\">[10/20/23 11:56:32] </span><span style=\"color: #800000; text-decoration-color: #800000\">WARNING </span> KedroDeprecationWarning: <span style=\"color: #008000; text-decoration-color: #008000\">'PartitionedDataset'</span> has been moved to        <a href=\"file:///Users/zijin/miniforge3/envs/cool_planet/lib/python3.10/warnings.py\" target=\"_blank\"><span style=\"color: #7f7f7f; text-decoration-color: #7f7f7f\">warnings.py</span></a><span style=\"color: #7f7f7f; text-decoration-color: #7f7f7f\">:</span><a href=\"file:///Users/zijin/miniforge3/envs/cool_planet/lib/python3.10/warnings.py#109\" target=\"_blank\"><span style=\"color: #7f7f7f; text-decoration-color: #7f7f7f\">109</span></a>\n",
       "<span style=\"color: #7fbfbf; text-decoration-color: #7fbfbf\">                    </span>         `kedro-datasets` and will be removed in Kedro <span style=\"color: #008080; text-decoration-color: #008080; font-weight: bold\">0.19</span>.<span style=\"color: #008080; text-decoration-color: #008080; font-weight: bold\">0</span>.                  <span style=\"color: #7f7f7f; text-decoration-color: #7f7f7f\">               </span>\n",
       "<span style=\"color: #7fbfbf; text-decoration-color: #7fbfbf\">                    </span>                                                                                <span style=\"color: #7f7f7f; text-decoration-color: #7f7f7f\">               </span>\n",
       "</pre>\n"
      ],
      "text/plain": [
       "\u001b[2;36m[10/20/23 11:56:32]\u001b[0m\u001b[2;36m \u001b[0m\u001b[31mWARNING \u001b[0m KedroDeprecationWarning: \u001b[32m'PartitionedDataset'\u001b[0m has been moved to        \u001b]8;id=371269;file:///Users/zijin/miniforge3/envs/cool_planet/lib/python3.10/warnings.py\u001b\\\u001b[2mwarnings.py\u001b[0m\u001b]8;;\u001b\\\u001b[2m:\u001b[0m\u001b]8;id=952393;file:///Users/zijin/miniforge3/envs/cool_planet/lib/python3.10/warnings.py#109\u001b\\\u001b[2m109\u001b[0m\u001b]8;;\u001b\\\n",
       "\u001b[2;36m                    \u001b[0m         `kedro-datasets` and will be removed in Kedro \u001b[1;36m0.19\u001b[0m.\u001b[1;36m0\u001b[0m.                  \u001b[2m               \u001b[0m\n",
       "\u001b[2;36m                    \u001b[0m                                                                                \u001b[2m               \u001b[0m\n"
      ]
     },
     "metadata": {},
     "output_type": "display_data"
    },
    {
     "data": {
      "text/html": [
       "<pre style=\"white-space:pre;overflow-x:auto;line-height:normal;font-family:Menlo,'DejaVu Sans Mono',consolas,'Courier New',monospace\"><span style=\"color: #7fbfbf; text-decoration-color: #7fbfbf\">                    </span><span style=\"color: #800000; text-decoration-color: #800000\">WARNING </span> KedroDeprecationWarning: <span style=\"color: #008000; text-decoration-color: #008000\">'AbstractVersionedDataSet'</span> has been renamed   <a href=\"file:///Users/zijin/miniforge3/envs/cool_planet/lib/python3.10/warnings.py\" target=\"_blank\"><span style=\"color: #7f7f7f; text-decoration-color: #7f7f7f\">warnings.py</span></a><span style=\"color: #7f7f7f; text-decoration-color: #7f7f7f\">:</span><a href=\"file:///Users/zijin/miniforge3/envs/cool_planet/lib/python3.10/warnings.py#109\" target=\"_blank\"><span style=\"color: #7f7f7f; text-decoration-color: #7f7f7f\">109</span></a>\n",
       "<span style=\"color: #7fbfbf; text-decoration-color: #7fbfbf\">                    </span>         to <span style=\"color: #008000; text-decoration-color: #008000\">'AbstractVersionedDataset'</span>, and the alias will be removed in Kedro  <span style=\"color: #7f7f7f; text-decoration-color: #7f7f7f\">               </span>\n",
       "<span style=\"color: #7fbfbf; text-decoration-color: #7fbfbf\">                    </span>         <span style=\"color: #008080; text-decoration-color: #008080; font-weight: bold\">0.19</span>.<span style=\"color: #008080; text-decoration-color: #008080; font-weight: bold\">0</span>                                                                 <span style=\"color: #7f7f7f; text-decoration-color: #7f7f7f\">               </span>\n",
       "<span style=\"color: #7fbfbf; text-decoration-color: #7fbfbf\">                    </span>                                                                                <span style=\"color: #7f7f7f; text-decoration-color: #7f7f7f\">               </span>\n",
       "</pre>\n"
      ],
      "text/plain": [
       "\u001b[2;36m                   \u001b[0m\u001b[2;36m \u001b[0m\u001b[31mWARNING \u001b[0m KedroDeprecationWarning: \u001b[32m'AbstractVersionedDataSet'\u001b[0m has been renamed   \u001b]8;id=217176;file:///Users/zijin/miniforge3/envs/cool_planet/lib/python3.10/warnings.py\u001b\\\u001b[2mwarnings.py\u001b[0m\u001b]8;;\u001b\\\u001b[2m:\u001b[0m\u001b]8;id=136328;file:///Users/zijin/miniforge3/envs/cool_planet/lib/python3.10/warnings.py#109\u001b\\\u001b[2m109\u001b[0m\u001b]8;;\u001b\\\n",
       "\u001b[2;36m                    \u001b[0m         to \u001b[32m'AbstractVersionedDataset'\u001b[0m, and the alias will be removed in Kedro  \u001b[2m               \u001b[0m\n",
       "\u001b[2;36m                    \u001b[0m         \u001b[1;36m0.19\u001b[0m.\u001b[1;36m0\u001b[0m                                                                 \u001b[2m               \u001b[0m\n",
       "\u001b[2;36m                    \u001b[0m                                                                                \u001b[2m               \u001b[0m\n"
      ]
     },
     "metadata": {},
     "output_type": "display_data"
    },
    {
     "data": {
      "text/html": [
       "<pre style=\"white-space:pre;overflow-x:auto;line-height:normal;font-family:Menlo,'DejaVu Sans Mono',consolas,'Courier New',monospace\"></pre>\n"
      ],
      "text/plain": []
     },
     "metadata": {},
     "output_type": "display_data"
    },
    {
     "data": {
      "text/plain": [
       "\n",
       "\u001b[1m[\u001b[0m\n",
       "    \u001b[32m'thb.raw_state_sw'\u001b[0m,\n",
       "    \u001b[32m'sta.raw_state'\u001b[0m,\n",
       "    \u001b[32m'JNO_index'\u001b[0m,\n",
       "    \u001b[32m'jno.raw_mag_1s'\u001b[0m,\n",
       "    \u001b[32m'jno.raw_state'\u001b[0m,\n",
       "    \u001b[32m'model.raw_jno_ss_se_1min'\u001b[0m,\n",
       "    \u001b[32m'model.preprocessed_jno_ss_se_1min'\u001b[0m,\n",
       "    \u001b[32m'parameters'\u001b[0m,\n",
       "    \u001b[32m'params:tau'\u001b[0m,\n",
       "    \u001b[32m'params:jno_start_date'\u001b[0m,\n",
       "    \u001b[32m'params:jno_end_date'\u001b[0m,\n",
       "    \u001b[32m'params:jno_1s_params'\u001b[0m,\n",
       "    \u001b[32m'params:jno_1s_params.bcols'\u001b[0m,\n",
       "    \u001b[32m'params:jno_1s_params.data_resolution'\u001b[0m,\n",
       "    \u001b[32m'params:jno.extract_params'\u001b[0m,\n",
       "    \u001b[32m'params:jno.extract_params.bcols'\u001b[0m,\n",
       "    \u001b[32m'params:jno.extract_params.data_resolution'\u001b[0m,\n",
       "    \u001b[32m'params:sta.extract_params'\u001b[0m,\n",
       "    \u001b[32m'params:sta.extract_params.bcols'\u001b[0m,\n",
       "    \u001b[32m'params:sta.extract_params.data_resolution'\u001b[0m,\n",
       "    \u001b[32m'params:thb.mag'\u001b[0m,\n",
       "    \u001b[32m'params:thb.mag.coords'\u001b[0m,\n",
       "    \u001b[32m'params:thb.extract_params'\u001b[0m,\n",
       "    \u001b[32m'params:thb.extract_params.bcols'\u001b[0m,\n",
       "    \u001b[32m'params:thb.extract_params.data_resolution'\u001b[0m,\n",
       "    \u001b[32m'params:omni_vars'\u001b[0m,\n",
       "    \u001b[32m'params:omni_vars.N'\u001b[0m,\n",
       "    \u001b[32m'params:omni_vars.N.COLNAME'\u001b[0m,\n",
       "    \u001b[32m'params:omni_vars.N.FIELDNAM'\u001b[0m,\n",
       "    \u001b[32m'params:omni_vars.N.UNITS'\u001b[0m,\n",
       "    \u001b[32m'params:omni_vars.T'\u001b[0m,\n",
       "    \u001b[32m'params:omni_vars.T.COLNAME'\u001b[0m,\n",
       "    \u001b[32m'params:omni_vars.T.FIELDNAM'\u001b[0m,\n",
       "    \u001b[32m'params:omni_vars.T.UNITS'\u001b[0m,\n",
       "    \u001b[32m'params:omni_vars.V'\u001b[0m,\n",
       "    \u001b[32m'params:omni_vars.V.COLNAME'\u001b[0m,\n",
       "    \u001b[32m'params:omni_vars.V.FIELDNAM'\u001b[0m,\n",
       "    \u001b[32m'params:omni_vars.V.UNITS'\u001b[0m,\n",
       "    \u001b[32m'params:omni_vars.THETA-V'\u001b[0m,\n",
       "    \u001b[32m'params:omni_vars.THETA-V.COLNAME'\u001b[0m,\n",
       "    \u001b[32m'params:omni_vars.THETA-V.FIELDNAM'\u001b[0m,\n",
       "    \u001b[32m'params:omni_vars.THETA-V.UNITS'\u001b[0m,\n",
       "    \u001b[32m'params:omni_vars.PHI-V'\u001b[0m,\n",
       "    \u001b[32m'params:omni_vars.PHI-V.COLNAME'\u001b[0m,\n",
       "    \u001b[32m'params:omni_vars.PHI-V.FIELDNAM'\u001b[0m,\n",
       "    \u001b[32m'params:omni_vars.PHI-V.UNITS'\u001b[0m\n",
       "\u001b[1m]\u001b[0m"
      ]
     },
     "execution_count": null,
     "metadata": {},
     "output_type": "execute_result"
    }
   ],
   "source": [
    "#| eval: false\n",
    "from ids_finder.utils.basic import load_catalog\n",
    "catalog = load_catalog()\n",
    "catalog.list()"
   ]
  },
  {
   "cell_type": "markdown",
   "metadata": {},
   "source": [
    "## Dataset Overview"
   ]
  },
  {
   "cell_type": "markdown",
   "metadata": {},
   "source": [
    "### Index"
   ]
  },
  {
   "cell_type": "code",
   "execution_count": null,
   "metadata": {},
   "outputs": [],
   "source": [
    "pds_dir = \"https://pds-ppi.igpp.ucla.edu/data\"\n",
    "\n",
    "possible_coords = [\"se\", \"ser\", \"pc\", \"ss\", \"pl\"]\n",
    "possible_exts = [\"sts\", \"lbl\"]\n",
    "possible_data_rates = [\"1s\", \"1min\", \"1h\"]\n",
    "\n",
    "juno_ss_config = {\n",
    "    \"DATA_SET_ID\": \"JNO-SS-3-FGM-CAL-V1.0\",\n",
    "    \"FILE_SPECIFICATION_NAME\": \"INDEX/INDEX.LBL\",\n",
    "}\n",
    "\n",
    "juno_j_config = {\n",
    "    \"DATA_SET_ID\": \"JNO-J-3-FGM-CAL-V1.0\",\n",
    "    \"FILE_SPECIFICATION_NAME\": \"INDEX/INDEX.LBL\",\n",
    "}"
   ]
  },
  {
   "cell_type": "markdown",
   "metadata": {},
   "source": [
    "#### Process index"
   ]
  },
  {
   "cell_type": "code",
   "execution_count": null,
   "metadata": {},
   "outputs": [],
   "source": [
    "#| export\n",
    "import pandas\n",
    "import pdpipe as pdp"
   ]
  },
  {
   "cell_type": "code",
   "execution_count": null,
   "metadata": {},
   "outputs": [],
   "source": [
    "#| export\n",
    "def process_jno_index(df: pandas.DataFrame):\n",
    "    \n",
    "    _index_time_format = \"%Y-%jT%H:%M:%S.%f\"\n",
    "    \n",
    "    df.columns = df.columns.str.replace(\" \", \"\")\n",
    "    jno_index_pipeline = pdp.PdPipeline(\n",
    "        [\n",
    "            pdp.ColDrop([\"PRODUCT_ID\", \"CR_DATE\", \"PRODUCT_LABEL_MD5CHECKSUM\"]),\n",
    "            pdp.ApplyByCols(\"SID\", str.rstrip),\n",
    "            pdp.ApplyByCols(\"FILE_SPECIFICATION_NAME\", str.rstrip),\n",
    "            pdp.ColByFrameFunc(\n",
    "                \"START_TIME\",\n",
    "                lambda df: pandas.to_datetime(df[\"START_TIME\"], format=_index_time_format),\n",
    "            ),\n",
    "            pdp.ColByFrameFunc(\n",
    "                \"STOP_TIME\",\n",
    "                lambda df: pandas.to_datetime(df[\"STOP_TIME\"], format=_index_time_format),\n",
    "            ),\n",
    "            # pdp.ApplyByCols(['START_TIME', 'STOP_TIME'], pandas.to_datetime, format=_index_time_format), # NOTE: This is slow\n",
    "        ]\n",
    "    )\n",
    "    \n",
    "    return jno_index_pipeline(df)\n"
   ]
  },
  {
   "cell_type": "markdown",
   "metadata": {},
   "source": [
    "#### Pipleline"
   ]
  },
  {
   "cell_type": "code",
   "execution_count": null,
   "metadata": {},
   "outputs": [],
   "source": [
    "#| export\n",
    "from kedro.pipeline import pipeline, node"
   ]
  },
  {
   "cell_type": "code",
   "execution_count": null,
   "metadata": {},
   "outputs": [],
   "source": [
    "#| export\n",
    "def create_jno_index_pipeline():\n",
    "    jno_index_pipeline = pipeline([\n",
    "        node(process_jno_index, inputs=\"raw_JNO_SS_index\", outputs=\"JNO_SS_index\"),\n",
    "        node(process_jno_index, inputs=\"raw_JNO_J_index\", outputs=\"JNO_J_index\"),\n",
    "        node(lambda x1, x2: pandas.concat([x1, x2]), inputs=[\"JNO_SS_index\", \"JNO_J_index\"], outputs=\"JNO_index\")\n",
    "    ])\n",
    "    return jno_index_pipeline"
   ]
  },
  {
   "cell_type": "code",
   "execution_count": null,
   "metadata": {},
   "outputs": [
    {
     "data": {
      "text/html": [
       "<pre style=\"white-space:pre;overflow-x:auto;line-height:normal;font-family:Menlo,'DejaVu Sans Mono',consolas,'Courier New',monospace\"><span style=\"color: #7fbfbf; text-decoration-color: #7fbfbf\">                    </span><span style=\"color: #000080; text-decoration-color: #000080\">INFO    </span> Loading data from <span style=\"color: #008000; text-decoration-color: #008000\">'raw_JNO_SS_index'</span> <span style=\"font-weight: bold\">(</span>CSVDataset<span style=\"font-weight: bold\">)</span><span style=\"color: #808000; text-decoration-color: #808000\">...</span>               <a href=\"file:///Users/zijin/miniforge3/envs/cool_planet/lib/python3.10/site-packages/kedro/io/data_catalog.py\" target=\"_blank\"><span style=\"color: #7f7f7f; text-decoration-color: #7f7f7f\">data_catalog.py</span></a><span style=\"color: #7f7f7f; text-decoration-color: #7f7f7f\">:</span><a href=\"file:///Users/zijin/miniforge3/envs/cool_planet/lib/python3.10/site-packages/kedro/io/data_catalog.py#502\" target=\"_blank\"><span style=\"color: #7f7f7f; text-decoration-color: #7f7f7f\">502</span></a>\n",
       "</pre>\n"
      ],
      "text/plain": [
       "\u001b[2;36m                   \u001b[0m\u001b[2;36m \u001b[0m\u001b[34mINFO    \u001b[0m Loading data from \u001b[32m'raw_JNO_SS_index'\u001b[0m \u001b[1m(\u001b[0mCSVDataset\u001b[1m)\u001b[0m\u001b[33m...\u001b[0m               \u001b]8;id=203100;file:///Users/zijin/miniforge3/envs/cool_planet/lib/python3.10/site-packages/kedro/io/data_catalog.py\u001b\\\u001b[2mdata_catalog.py\u001b[0m\u001b]8;;\u001b\\\u001b[2m:\u001b[0m\u001b]8;id=596360;file:///Users/zijin/miniforge3/envs/cool_planet/lib/python3.10/site-packages/kedro/io/data_catalog.py#502\u001b\\\u001b[2m502\u001b[0m\u001b]8;;\u001b\\\n"
      ]
     },
     "metadata": {},
     "output_type": "display_data"
    },
    {
     "data": {
      "text/html": [
       "<pre style=\"white-space:pre;overflow-x:auto;line-height:normal;font-family:Menlo,'DejaVu Sans Mono',consolas,'Courier New',monospace\"><span style=\"color: #7fbfbf; text-decoration-color: #7fbfbf\">                    </span><span style=\"color: #000080; text-decoration-color: #000080\">INFO    </span> Loading data from <span style=\"color: #008000; text-decoration-color: #008000\">'raw_JNO_J_index'</span> <span style=\"font-weight: bold\">(</span>CSVDataset<span style=\"font-weight: bold\">)</span><span style=\"color: #808000; text-decoration-color: #808000\">...</span>                <a href=\"file:///Users/zijin/miniforge3/envs/cool_planet/lib/python3.10/site-packages/kedro/io/data_catalog.py\" target=\"_blank\"><span style=\"color: #7f7f7f; text-decoration-color: #7f7f7f\">data_catalog.py</span></a><span style=\"color: #7f7f7f; text-decoration-color: #7f7f7f\">:</span><a href=\"file:///Users/zijin/miniforge3/envs/cool_planet/lib/python3.10/site-packages/kedro/io/data_catalog.py#502\" target=\"_blank\"><span style=\"color: #7f7f7f; text-decoration-color: #7f7f7f\">502</span></a>\n",
       "</pre>\n"
      ],
      "text/plain": [
       "\u001b[2;36m                   \u001b[0m\u001b[2;36m \u001b[0m\u001b[34mINFO    \u001b[0m Loading data from \u001b[32m'raw_JNO_J_index'\u001b[0m \u001b[1m(\u001b[0mCSVDataset\u001b[1m)\u001b[0m\u001b[33m...\u001b[0m                \u001b]8;id=969655;file:///Users/zijin/miniforge3/envs/cool_planet/lib/python3.10/site-packages/kedro/io/data_catalog.py\u001b\\\u001b[2mdata_catalog.py\u001b[0m\u001b]8;;\u001b\\\u001b[2m:\u001b[0m\u001b]8;id=293555;file:///Users/zijin/miniforge3/envs/cool_planet/lib/python3.10/site-packages/kedro/io/data_catalog.py#502\u001b\\\u001b[2m502\u001b[0m\u001b]8;;\u001b\\\n"
      ]
     },
     "metadata": {},
     "output_type": "display_data"
    },
    {
     "data": {
      "text/html": [
       "<pre style=\"white-space:pre;overflow-x:auto;line-height:normal;font-family:Menlo,'DejaVu Sans Mono',consolas,'Courier New',monospace\"><span style=\"color: #7fbfbf; text-decoration-color: #7fbfbf\">                    </span><span style=\"color: #000080; text-decoration-color: #000080\">INFO    </span> Loading data from <span style=\"color: #008000; text-decoration-color: #008000\">'JNO_index'</span> <span style=\"font-weight: bold\">(</span>ParquetDataset<span style=\"font-weight: bold\">)</span><span style=\"color: #808000; text-decoration-color: #808000\">...</span>                  <a href=\"file:///Users/zijin/miniforge3/envs/cool_planet/lib/python3.10/site-packages/kedro/io/data_catalog.py\" target=\"_blank\"><span style=\"color: #7f7f7f; text-decoration-color: #7f7f7f\">data_catalog.py</span></a><span style=\"color: #7f7f7f; text-decoration-color: #7f7f7f\">:</span><a href=\"file:///Users/zijin/miniforge3/envs/cool_planet/lib/python3.10/site-packages/kedro/io/data_catalog.py#502\" target=\"_blank\"><span style=\"color: #7f7f7f; text-decoration-color: #7f7f7f\">502</span></a>\n",
       "</pre>\n"
      ],
      "text/plain": [
       "\u001b[2;36m                   \u001b[0m\u001b[2;36m \u001b[0m\u001b[34mINFO    \u001b[0m Loading data from \u001b[32m'JNO_index'\u001b[0m \u001b[1m(\u001b[0mParquetDataset\u001b[1m)\u001b[0m\u001b[33m...\u001b[0m                  \u001b]8;id=103799;file:///Users/zijin/miniforge3/envs/cool_planet/lib/python3.10/site-packages/kedro/io/data_catalog.py\u001b\\\u001b[2mdata_catalog.py\u001b[0m\u001b]8;;\u001b\\\u001b[2m:\u001b[0m\u001b]8;id=695264;file:///Users/zijin/miniforge3/envs/cool_planet/lib/python3.10/site-packages/kedro/io/data_catalog.py#502\u001b\\\u001b[2m502\u001b[0m\u001b]8;;\u001b\\\n"
      ]
     },
     "metadata": {},
     "output_type": "display_data"
    }
   ],
   "source": [
    "raw_JNO_SS_index = catalog.load('raw_JNO_SS_index')\n",
    "raw_JNO_J_index = catalog.load('raw_JNO_J_index')\n",
    "jno_index = catalog.load('JNO_index')\n",
    "\n",
    "jno_ss_index = jno_index[lambda df: df[\"DATA_SET_ID\"] == \"JNO-SS-3-FGM-CAL-V1.0\"]\n",
    "jno_j_index  = jno_index[lambda df: df[\"DATA_SET_ID\"] == \"JNO-J-3-FGM-CAL-V1.0\"]"
   ]
  },
  {
   "cell_type": "markdown",
   "metadata": {},
   "source": [
    "#### Check the data"
   ]
  },
  {
   "cell_type": "code",
   "execution_count": null,
   "metadata": {},
   "outputs": [
    {
     "name": "stdout",
     "output_type": "stream",
     "text": [
      "JNO-SS Starting date: 2011-08-25\n",
      "JNO-SS Ending date: 2016-06-29\n",
      "JNO-J Starting date: 2016-07-07\n",
      "JNO-J Ending date: 2022-12-15\n"
     ]
    }
   ],
   "source": [
    "#| echo: false\n",
    "starting_date = jno_ss_index['START_TIME'].min().date()\n",
    "ending_date = jno_ss_index['STOP_TIME'].max().date()\n",
    "\n",
    "print(f\"JNO-SS Starting date: {starting_date}\")\n",
    "print(f\"JNO-SS Ending date: {ending_date}\")\n",
    "\n",
    "starting_date = jno_j_index['START_TIME'].min().date()\n",
    "ending_date = jno_j_index['STOP_TIME'].max().date()\n",
    "print(f\"JNO-J Starting date: {starting_date}\")\n",
    "print(f\"JNO-J Ending date: {ending_date}\")"
   ]
  },
  {
   "cell_type": "code",
   "execution_count": null,
   "metadata": {},
   "outputs": [
    {
     "name": "stdout",
     "output_type": "stream",
     "text": [
      "The following days are missing\n",
      "(#2353) ['2016-07-07','2016-07-08','2016-07-09','2016-07-10','2016-07-11','2016-07-12','2016-07-13','2016-07-14','2016-07-15','2016-07-16'...]\n"
     ]
    }
   ],
   "source": [
    "#| echo: false\n",
    "available_dates = pandas.concat([jno_ss_index['START_TIME'].dt.date, jno_ss_index['STOP_TIME'].dt.date]).unique()\n",
    "full_year_range = pandas.date_range(start=starting_date, end=ending_date)\n",
    "\n",
    "missing_dates = full_year_range[~full_year_range.isin(available_dates)]\n",
    "\n",
    "if len(missing_dates) == 0:\n",
    "    print(f\"No days are missing.\")\n",
    "else:\n",
    "    print(f\"The following days are missing\")\n",
    "    print(coll_repr(missing_dates.map(lambda x: x.strftime(\"%Y-%m-%d\"))))"
   ]
  },
  {
   "cell_type": "markdown",
   "metadata": {},
   "source": [
    "## Processing the whole data"
   ]
  },
  {
   "cell_type": "code",
   "execution_count": null,
   "metadata": {},
   "outputs": [],
   "source": [
    "#| export\n",
    "from ids_finder.pipelines.juno.mag import create_pipeline as create_mag_data_pipeline\n",
    "from ids_finder.pipelines.juno.state import create_pipeline as create_state_data_pipeline\n",
    "from ids_finder.pipelines.default.mission import create_combined_data_pipeline\n"
   ]
  },
  {
   "cell_type": "code",
   "execution_count": null,
   "metadata": {},
   "outputs": [],
   "source": [
    "# | export\n",
    "def create_pipeline(\n",
    "    sat_id=\"jno\",\n",
    "    tau=\"60s\",\n",
    "    ts_mag=\"1s\",  # time resolution of magnetic field data\n",
    "    ts_state=\"1h\",  # time resolution of state data\n",
    ") -> Pipeline:\n",
    "    return (\n",
    "        create_mag_data_pipeline(sat_id, ts=ts_mag, tau=tau)\n",
    "        + create_state_data_pipeline(sat_id, ts=ts_state)\n",
    "        + create_combined_data_pipeline(sat_id, tau=tau, ts_state=ts_state)\n",
    "    )"
   ]
  },
  {
   "cell_type": "markdown",
   "metadata": {},
   "source": [
    "## Test"
   ]
  },
  {
   "cell_type": "code",
   "execution_count": null,
   "metadata": {},
   "outputs": [],
   "source": [
    "jno_ss_se_1s = catalog.load('primary_jno_ss_se_1s')\n",
    "jno_1s_params = catalog.load('params:jno_1s_params')\n",
    "candidates_jno_ss_se_1s = catalog.load('candidates_jno_ss_se_1s')"
   ]
  },
  {
   "cell_type": "markdown",
   "metadata": {},
   "source": [
    "### Estimate"
   ]
  },
  {
   "cell_type": "markdown",
   "metadata": {},
   "source": [
    "1 day of data resampled by 1 sec is about 12 MB.\n",
    "\n",
    "So 1 year of data is about 4 GB, and 6 years of JUNO Cruise data is about 24 GB.\n",
    "\n",
    "Downloading rate is about 250 KB/s, so it will take about 3 days to download all the data."
   ]
  },
  {
   "cell_type": "code",
   "execution_count": null,
   "metadata": {},
   "outputs": [
    {
     "name": "stdout",
     "output_type": "stream",
     "text": [
      "Time to download: 126.53 hours\n",
      "Disk space required: 113.88 GB\n",
      "Time to process: 36.50 hours\n"
     ]
    }
   ],
   "source": [
    "num_of_files = 6*365\n",
    "jno_file_size = 12e3\n",
    "thm_file_size = 40e3\n",
    "files_size = jno_file_size + thm_file_size\n",
    "downloading_rate = 250\n",
    "processing_rate = 1/60\n",
    "\n",
    "time_to_download = num_of_files * files_size / downloading_rate / 60 / 60\n",
    "space_required = num_of_files * files_size / 1e6\n",
    "time_to_process = num_of_files / processing_rate / 60 / 60\n",
    "\n",
    "print(f\"Time to download: {time_to_download:.2f} hours\")\n",
    "print(f\"Disk space required: {space_required:.2f} GB\")\n",
    "print(f\"Time to process: {time_to_process:.2f} hours\")"
   ]
  }
 ],
 "metadata": {
  "kernelspec": {
   "display_name": "python3",
   "language": "python",
   "name": "python3"
  },
  "language_info": {
   "name": "python",
   "version": "3.10.12"
  }
 },
 "nbformat": 4,
 "nbformat_minor": 2
}
