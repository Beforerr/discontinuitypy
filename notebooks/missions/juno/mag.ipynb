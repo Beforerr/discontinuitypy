{
 "cells": [
  {
   "cell_type": "markdown",
   "metadata": {},
   "source": [
    "---\n",
    "title: JUNO Magnetic field data pipeline\n",
    "---\n",
    "\n",
    "JUNO Magnetic field data can be downloaded from [PDS](https://pds-ppi.igpp.ucla.edu/mission/JUNO/JNO/FGM) website."
   ]
  },
  {
   "cell_type": "code",
   "execution_count": 3,
   "metadata": {},
   "outputs": [
    {
     "data": {
      "text/html": [
       "<pre style=\"white-space:pre;overflow-x:auto;line-height:normal;font-family:Menlo,'DejaVu Sans Mono',consolas,'Courier New',monospace\"><span style=\"color: #7fbfbf; text-decoration-color: #7fbfbf\">[11/29/23 21:10:53] </span><span style=\"color: #800000; text-decoration-color: #800000\">WARNING </span> TqdmExperimentalWarning: Using `tqdm.autonotebook.tqdm` in notebook    <a href=\"file:///Users/zijin/miniforge3/envs/cool_planet/lib/python3.10/warnings.py\" target=\"_blank\"><span style=\"color: #7f7f7f; text-decoration-color: #7f7f7f\">warnings.py</span></a><span style=\"color: #7f7f7f; text-decoration-color: #7f7f7f\">:</span><a href=\"file:///Users/zijin/miniforge3/envs/cool_planet/lib/python3.10/warnings.py#109\" target=\"_blank\"><span style=\"color: #7f7f7f; text-decoration-color: #7f7f7f\">109</span></a>\n",
       "<span style=\"color: #7fbfbf; text-decoration-color: #7fbfbf\">                    </span>         mode. Use `tqdm.tqdm` instead to force console mode <span style=\"font-weight: bold\">(</span>e.g. in jupyter   <span style=\"color: #7f7f7f; text-decoration-color: #7f7f7f\">               </span>\n",
       "<span style=\"color: #7fbfbf; text-decoration-color: #7fbfbf\">                    </span>         console<span style=\"font-weight: bold\">)</span>                                                               <span style=\"color: #7f7f7f; text-decoration-color: #7f7f7f\">               </span>\n",
       "<span style=\"color: #7fbfbf; text-decoration-color: #7fbfbf\">                    </span>                                                                                <span style=\"color: #7f7f7f; text-decoration-color: #7f7f7f\">               </span>\n",
       "</pre>\n"
      ],
      "text/plain": [
       "\u001b[2;36m[11/29/23 21:10:53]\u001b[0m\u001b[2;36m \u001b[0m\u001b[31mWARNING \u001b[0m TqdmExperimentalWarning: Using `tqdm.autonotebook.tqdm` in notebook    \u001b]8;id=531444;file:///Users/zijin/miniforge3/envs/cool_planet/lib/python3.10/warnings.py\u001b\\\u001b[2mwarnings.py\u001b[0m\u001b]8;;\u001b\\\u001b[2m:\u001b[0m\u001b]8;id=790524;file:///Users/zijin/miniforge3/envs/cool_planet/lib/python3.10/warnings.py#109\u001b\\\u001b[2m109\u001b[0m\u001b]8;;\u001b\\\n",
       "\u001b[2;36m                    \u001b[0m         mode. Use `tqdm.tqdm` instead to force console mode \u001b[1m(\u001b[0me.g. in jupyter   \u001b[2m               \u001b[0m\n",
       "\u001b[2;36m                    \u001b[0m         console\u001b[1m)\u001b[0m                                                               \u001b[2m               \u001b[0m\n",
       "\u001b[2;36m                    \u001b[0m                                                                                \u001b[2m               \u001b[0m\n"
      ]
     },
     "metadata": {},
     "output_type": "display_data"
    }
   ],
   "source": [
    "# | export\n",
    "from datetime import datetime\n",
    "\n",
    "import polars as pl\n",
    "import pandas as pd\n",
    "\n",
    "from ids_finder import ROOT_DIR\n",
    "from ids_finder.utils.pds import pds_download\n",
    "from ids_finder.utils.lbl import load_lbl\n",
    "from ids_finder.utils.basic import partition_data_by_year\n",
    "from ids_finder.utils.polars import create_partitions\n",
    "from ids_finder.pipelines.default.data_mag import create_pipeline_template\n",
    "\n",
    "\n",
    "from pipe import select, filter\n",
    "\n",
    "from typing import Literal"
   ]
  },
  {
   "cell_type": "code",
   "execution_count": 4,
   "metadata": {},
   "outputs": [],
   "source": [
    "# | hide\n",
    "# | default_exp pipelines/juno/mag\n",
    "%load_ext autoreload\n",
    "%autoreload 2"
   ]
  },
  {
   "cell_type": "markdown",
   "metadata": {},
   "source": [
    "```txt\n",
    "File Naming Convention                                                        \n",
    "==============================================================================\n",
    "Convention:                                                                   \n",
    "   fgm_jno_LL_CCYYDDDxx_vVV.ext                                               \n",
    "Where:                                                                        \n",
    "   fgm - Fluxgate Magnetometer three character instrument abbreviation        \n",
    "   jno - Juno                                                                 \n",
    "    LL - CODMAC Data level, for example, l3 for level 3                       \n",
    "    CC - The century portion of a date, 20                                    \n",
    "    YY - The year of century portion of a date, 00-99                         \n",
    "   DDD - The day of year, 001-366                                             \n",
    "    xx - Coordinate system of data (se = Solar equatorial, ser = Solar        \n",
    "         equatorial resampled, pc = Planetocentric, ss = Sun-State,           \n",
    "         pl = Payload)                                                        \n",
    "     v - separator to denote Version number                                   \n",
    "    VV - version                                                              \n",
    "   ext - file extension (sts = Standard Time Series (ASCII) file, lbl = Label \n",
    "         file)                                                                \n",
    "Example:                                                                      \n",
    "   fgm_jno_l3_2014055se_v00.sts    \n",
    "```"
   ]
  },
  {
   "cell_type": "markdown",
   "metadata": {},
   "source": [
    "## Downloading data "
   ]
  },
  {
   "cell_type": "code",
   "execution_count": 5,
   "metadata": {},
   "outputs": [],
   "source": [
    "#| code-summary: type definitions\n",
    "#| export\n",
    "JunoPhases = Literal[\"CRUISE\", \"JUPITER\"]\n",
    "JunoFGMCoords = Literal['SE', 'SS', 'PL']\n",
    "JunoFGMTimeResolutions = Literal[\"1SEC\", \"1MIN\"]"
   ]
  },
  {
   "cell_type": "code",
   "execution_count": 6,
   "metadata": {},
   "outputs": [],
   "source": [
    "# | export\n",
    "def download_data(\n",
    "    start=None,\n",
    "    end=None,\n",
    "    phase: JunoPhases = \"CRUISE\",\n",
    "    coord: JunoFGMCoords = \"SE\",\n",
    "    datatype: JunoFGMTimeResolutions = \"1SEC\",  # time resolution\n",
    ") -> list[str]:\n",
    "    files = pds_download(\n",
    "        mission=\"Juno\",\n",
    "        instrument=\"FGM\",\n",
    "        dataset=phase,\n",
    "        coord=coord,\n",
    "        datatype=datatype,\n",
    "        path=ROOT_DIR / \"data/01_raw/\",\n",
    "    )\n",
    "\n",
    "    return list(files | filter(lambda x: x.endswith(\".lbl\")))"
   ]
  },
  {
   "cell_type": "code",
   "execution_count": 7,
   "metadata": {},
   "outputs": [],
   "source": [
    "# | export\n",
    "def _load_func(file):\n",
    "    df = pl.from_dataframe(load_lbl(file))\n",
    "    return (\n",
    "        df.lazy()\n",
    "        .with_columns(time=pl.col(\"SAMPLE UTC\").str.to_datetime(\"%Y %j %H %M %S %f\"))\n",
    "        .drop([\"SAMPLE UTC\", \"DECIMAL DAY\", \"INSTRUMENT RANGE\", \"X\", \"Y\", \"Z\"])\n",
    "        .sort(\"time\")\n",
    "    )\n",
    "\n",
    "def parse_fp(fp):\n",
    "    fn = fp.split('/')[-1]\n",
    "    dt_str = fn.split('_')[3][0:7]\n",
    "    format = \"%Y%j\"\n",
    "    return datetime.strptime(dt_str, format)\n",
    "\n",
    "\n",
    "def load_data(\n",
    "    start,\n",
    "    end,\n",
    "    datatype: str = \"1SEC\",  # time resolution\n",
    ") -> pl.DataFrame:\n",
    "    start = pd.Timestamp(start)\n",
    "    end = pd.Timestamp(end)\n",
    "    files = download_data(start, end, datatype=datatype)\n",
    "    files_dict = {\n",
    "        file: parse_fp(file) for file in files\n",
    "    }\n",
    "    files = [k for k, v in files_dict.items() if start <= v < end]\n",
    "    return pl.concat(files | select(_load_func))"
   ]
  },
  {
   "cell_type": "markdown",
   "metadata": {},
   "source": [
    "## Preprocessing data\n",
    "\n",
    "Convert all files from `lbl` format to `parquet` format for faster processing"
   ]
  },
  {
   "cell_type": "code",
   "execution_count": 8,
   "metadata": {},
   "outputs": [],
   "source": [
    "# | export\n",
    "def preprocess_data(raw_data: pl.DataFrame) -> pl.DataFrame:\n",
    "    \"\"\"\n",
    "    Preprocess the raw dataset (only minor transformations)\n",
    "\n",
    "    - Applying naming conventions for columns\n",
    "    - Parsing and typing data\n",
    "    - Changing storing format (from `lbl` to `parquet`)\n",
    "    - Dropping useless columns\n",
    "    \"\"\"\n",
    "    return create_partitions(raw_data, _load_func)"
   ]
  },
  {
   "cell_type": "markdown",
   "metadata": {},
   "source": [
    "## Processing data"
   ]
  },
  {
   "cell_type": "code",
   "execution_count": 9,
   "metadata": {},
   "outputs": [],
   "source": [
    "# | export\n",
    "def process_data(\n",
    "    raw_data: pl.DataFrame,\n",
    "    ts: str = None,  # time resolution\n",
    ") -> pl.DataFrame | dict[str, pl.DataFrame]:\n",
    "    \"\"\"\n",
    "    Partitioning data, for the sake of memory\n",
    "    \"\"\"\n",
    "    data: pl.LazyFrame = pl.concat(func() for func in raw_data.values())\n",
    "    return (\n",
    "        data.with_columns(pl.col(\"time\").dt.cast_time_unit(\"us\"))  # issue: https://github.com/pola-rs/polars/issues/12023\n",
    "        .unique(\"time\")\n",
    "        .sort(\"time\")\n",
    "        .pipe(partition_data_by_year)\n",
    "    )"
   ]
  },
  {
   "cell_type": "markdown",
   "metadata": {},
   "source": [
    "## Pipeline"
   ]
  },
  {
   "cell_type": "code",
   "execution_count": null,
   "metadata": {},
   "outputs": [],
   "source": [
    "# | export\n",
    "def create_pipeline(sat_id=\"JNO\", source=\"MAG\"):\n",
    "    return create_pipeline_template(\n",
    "        sat_id=sat_id,\n",
    "        source=source,\n",
    "        load_data_fn=download_data,\n",
    "        preprocess_data_fn=preprocess_data,\n",
    "        process_data_fn=process_data,\n",
    "    )"
   ]
  },
  {
   "cell_type": "markdown",
   "metadata": {},
   "source": [
    "## Dataset Overview"
   ]
  },
  {
   "cell_type": "markdown",
   "metadata": {},
   "source": [
    "### Index"
   ]
  },
  {
   "cell_type": "code",
   "execution_count": null,
   "metadata": {},
   "outputs": [],
   "source": [
    "pds_dir = \"https://pds-ppi.igpp.ucla.edu/data\"\n",
    "\n",
    "possible_coords = [\"se\", \"ser\", \"pc\", \"ss\", \"pl\"]\n",
    "possible_exts = [\"sts\", \"lbl\"]\n",
    "possible_data_rates = [\"1s\", \"1min\", \"1h\"]\n",
    "\n",
    "juno_ss_config = {\n",
    "    \"DATA_SET_ID\": \"JNO-SS-3-FGM-CAL-V1.0\",\n",
    "    \"FILE_SPECIFICATION_NAME\": \"INDEX/INDEX.LBL\",\n",
    "}\n",
    "\n",
    "juno_j_config = {\n",
    "    \"DATA_SET_ID\": \"JNO-J-3-FGM-CAL-V1.0\",\n",
    "    \"FILE_SPECIFICATION_NAME\": \"INDEX/INDEX.LBL\",\n",
    "}"
   ]
  },
  {
   "cell_type": "markdown",
   "metadata": {},
   "source": [
    "#### Process index"
   ]
  },
  {
   "cell_type": "code",
   "execution_count": null,
   "metadata": {},
   "outputs": [],
   "source": [
    "# | export\n",
    "import pandas\n",
    "import pdpipe as pdp"
   ]
  },
  {
   "cell_type": "code",
   "execution_count": null,
   "metadata": {},
   "outputs": [],
   "source": [
    "# | export\n",
    "def process_jno_index(df: pandas.DataFrame):\n",
    "    _index_time_format = \"%Y-%jT%H:%M:%S.%f\"\n",
    "\n",
    "    df.columns = df.columns.str.replace(\" \", \"\")\n",
    "    jno_index_pipeline = pdp.PdPipeline(\n",
    "        [\n",
    "            pdp.ColDrop([\"PRODUCT_ID\", \"CR_DATE\", \"PRODUCT_LABEL_MD5CHECKSUM\"]),\n",
    "            pdp.ApplyByCols(\"SID\", str.rstrip),\n",
    "            pdp.ApplyByCols(\"FILE_SPECIFICATION_NAME\", str.rstrip),\n",
    "            pdp.ColByFrameFunc(\n",
    "                \"START_TIME\",\n",
    "                lambda df: pandas.to_datetime(\n",
    "                    df[\"START_TIME\"], format=_index_time_format\n",
    "                ),\n",
    "            ),\n",
    "            pdp.ColByFrameFunc(\n",
    "                \"STOP_TIME\",\n",
    "                lambda df: pandas.to_datetime(\n",
    "                    df[\"STOP_TIME\"], format=_index_time_format\n",
    "                ),\n",
    "            ),\n",
    "            # pdp.ApplyByCols(['START_TIME', 'STOP_TIME'], pandas.to_datetime, format=_index_time_format), # NOTE: This is slow\n",
    "        ]\n",
    "    )\n",
    "\n",
    "    return jno_index_pipeline(df)"
   ]
  },
  {
   "cell_type": "markdown",
   "metadata": {},
   "source": [
    "#### Pipleline"
   ]
  },
  {
   "cell_type": "code",
   "execution_count": null,
   "metadata": {},
   "outputs": [],
   "source": [
    "# | export\n",
    "from kedro.pipeline import pipeline, node"
   ]
  },
  {
   "cell_type": "code",
   "execution_count": null,
   "metadata": {},
   "outputs": [],
   "source": [
    "# | export\n",
    "def create_jno_index_pipeline():\n",
    "    jno_index_pipeline = pipeline(\n",
    "        [\n",
    "            node(process_jno_index, inputs=\"raw_JNO_SS_index\", outputs=\"JNO_SS_index\"),\n",
    "            node(process_jno_index, inputs=\"raw_JNO_J_index\", outputs=\"JNO_J_index\"),\n",
    "            node(\n",
    "                lambda x1, x2: pandas.concat([x1, x2]),\n",
    "                inputs=[\"JNO_SS_index\", \"JNO_J_index\"],\n",
    "                outputs=\"JNO_index\",\n",
    "            ),\n",
    "        ]\n",
    "    )\n",
    "    return jno_index_pipeline"
   ]
  },
  {
   "cell_type": "code",
   "execution_count": null,
   "metadata": {},
   "outputs": [],
   "source": [
    "raw_JNO_SS_index = catalog.load(\"raw_JNO_SS_index\")\n",
    "raw_JNO_J_index = catalog.load(\"raw_JNO_J_index\")\n",
    "jno_index = catalog.load(\"JNO_index\")\n",
    "\n",
    "jno_ss_index = jno_index[lambda df: df[\"DATA_SET_ID\"] == \"JNO-SS-3-FGM-CAL-V1.0\"]\n",
    "jno_j_index = jno_index[lambda df: df[\"DATA_SET_ID\"] == \"JNO-J-3-FGM-CAL-V1.0\"]"
   ]
  },
  {
   "cell_type": "markdown",
   "metadata": {},
   "source": [
    "#### Check the data"
   ]
  },
  {
   "cell_type": "code",
   "execution_count": null,
   "metadata": {},
   "outputs": [],
   "source": [
    "# | echo: false\n",
    "starting_date = jno_ss_index[\"START_TIME\"].min().date()\n",
    "ending_date = jno_ss_index[\"STOP_TIME\"].max().date()\n",
    "\n",
    "print(f\"JNO-SS Starting date: {starting_date}\")\n",
    "print(f\"JNO-SS Ending date: {ending_date}\")\n",
    "\n",
    "starting_date = jno_j_index[\"START_TIME\"].min().date()\n",
    "ending_date = jno_j_index[\"STOP_TIME\"].max().date()\n",
    "print(f\"JNO-J Starting date: {starting_date}\")\n",
    "print(f\"JNO-J Ending date: {ending_date}\")"
   ]
  },
  {
   "cell_type": "code",
   "execution_count": null,
   "metadata": {},
   "outputs": [],
   "source": [
    "# | echo: false\n",
    "available_dates = pandas.concat(\n",
    "    [jno_ss_index[\"START_TIME\"].dt.date, jno_ss_index[\"STOP_TIME\"].dt.date]\n",
    ").unique()\n",
    "full_year_range = pandas.date_range(start=starting_date, end=ending_date)\n",
    "\n",
    "missing_dates = full_year_range[~full_year_range.isin(available_dates)]\n",
    "\n",
    "if len(missing_dates) == 0:\n",
    "    print(f\"No days are missing.\")\n",
    "else:\n",
    "    print(f\"The following days are missing\")\n",
    "    print(coll_repr(missing_dates.map(lambda x: x.strftime(\"%Y-%m-%d\"))))"
   ]
  }
 ],
 "metadata": {
  "kernelspec": {
   "display_name": "cool_planet",
   "language": "python",
   "name": "python3"
  },
  "language_info": {
   "codemirror_mode": {
    "name": "ipython",
    "version": 3
   },
   "file_extension": ".py",
   "mimetype": "text/x-python",
   "name": "python",
   "nbconvert_exporter": "python",
   "pygments_lexer": "ipython3",
   "version": "3.10.12"
  }
 },
 "nbformat": 4,
 "nbformat_minor": 2
}
