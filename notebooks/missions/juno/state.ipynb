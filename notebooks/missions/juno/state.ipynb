{
 "cells": [
  {
   "cell_type": "markdown",
   "metadata": {},
   "source": [
    "---\n",
    "title: JUNO State data pipeline\n",
    "---"
   ]
  },
  {
   "cell_type": "code",
   "execution_count": null,
   "metadata": {},
   "outputs": [],
   "source": [
    "#| export\n",
    "from datetime import timedelta\n",
    "import polars as pl\n",
    "import pandas\n",
    "\n",
    "from kedro.pipeline import Pipeline, node\n",
    "from kedro.pipeline.modular_pipeline import pipeline"
   ]
  },
  {
   "cell_type": "code",
   "execution_count": null,
   "metadata": {},
   "outputs": [],
   "source": [
    "#| hide\n",
    "#| default_exp pipelines/juno/state\n",
    "%load_ext autoreload\n",
    "%autoreload 2"
   ]
  },
  {
   "cell_type": "markdown",
   "metadata": {},
   "source": [
    "## Downloading data\n",
    "\n",
    "For interpolated solar wind at JUNO's location, see [model output file](http://csem.engin.umich.edu/MSWIM2D/writable/mswim2d_interp_output_20231009173618.txt)."
   ]
  },
  {
   "cell_type": "markdown",
   "metadata": {},
   "source": [
    "## Preprocessing data\n",
    "\n",
    "```{txt}\n",
    "Coordinate System:  HGI\n",
    "Variables:\n",
    "  Date_Time: date and time in ISO format [UT]\n",
    "  hour: elapsed time since trajectory start [hr]\n",
    "  r: radial coordinate in HGI [AU]\n",
    "  phi: longitude coordinate in HGI [deg]\n",
    "  Rho: density [amu/cm^3]\n",
    "  Ux, Uy, Uz: bulk velocity components in HGI [km/s]\n",
    "  Bx, By, Bz: magnetic field components in HGI [nT]\n",
    "  Ti: ion temperature [K]\n",
    "```"
   ]
  },
  {
   "cell_type": "code",
   "execution_count": null,
   "metadata": {},
   "outputs": [],
   "source": [
    "# | export\n",
    "def preprocess_data(\n",
    "    raw_data: pandas.DataFrame,\n",
    "    start: str = None,\n",
    "    end: str = None,\n",
    "    ts: str = None,  # time resolution\n",
    "    coord: str = None,\n",
    ") -> pl.DataFrame:\n",
    "    \"\"\"\n",
    "    Preprocess the raw dataset (only minor transformations)\n",
    "\n",
    "    - Parsing and typing data (like from string to datetime for time columns)\n",
    "    - Changing storing format (like from `csv` to `parquet`)\n",
    "    \"\"\"\n",
    "    df = (\n",
    "        pl.from_pandas(raw_data)\n",
    "        .lazy()\n",
    "        .with_columns(\n",
    "            time=pl.col(\"Date_Time\").str.to_datetime(time_unit=\"ns\"),\n",
    "        )\n",
    "        .sort(\"time\")\n",
    "        .drop([\"Date_Time\", \"hour\"])\n",
    "    ).collect()\n",
    "    return df"
   ]
  },
  {
   "cell_type": "markdown",
   "metadata": {},
   "source": [
    "## Processing data"
   ]
  },
  {
   "cell_type": "code",
   "execution_count": null,
   "metadata": {},
   "outputs": [],
   "source": [
    "# | export\n",
    "bcols_hgi = [\"bx\", \"by\", \"bz\"]\n",
    "bcols_rtn = [\"b_r\", \"b_t\", \"b_n\"]\n",
    "vcols_hgi = [\"ux\", \"uy\", \"uz\"]\n",
    "vcols_rtn = [\"v_r\", \"v_t\", \"v_n\"]\n",
    "\n",
    "\n",
    "def hgi2rtn(df: pl.LazyFrame | pl.DataFrame):\n",
    "    \"\"\"Transform coordinates from HGI to RTN\"\"\"\n",
    "\n",
    "    phi_rad = pl.col(\"phi_rad\")\n",
    "    ux = pl.col(\"ux\")\n",
    "    uy = pl.col(\"uy\")\n",
    "    uz = pl.col(\"uz\")\n",
    "    result = (\n",
    "        df.with_columns(\n",
    "            phi_rad=pl.col(\"phi\").radians(),\n",
    "        )\n",
    "        .with_columns(\n",
    "            b_r=pl.col(\"bx\") * phi_rad.cos() + pl.col(\"by\") * phi_rad.sin(),\n",
    "            b_t=-pl.col(\"bx\") * phi_rad.sin() + pl.col(\"by\") * phi_rad.cos(),\n",
    "            b_n=pl.col(\"bz\"),\n",
    "            v_r=ux * phi_rad.cos() + uy * phi_rad.sin(),\n",
    "            v_t=-ux * phi_rad.sin() + uy * phi_rad.cos(),\n",
    "            v_n=uz,\n",
    "            plasma_speed=(ux**2 + uy**2 + uz**2).sqrt(),\n",
    "        )\n",
    "        .drop([\"phi\", \"phi_rad\"] + bcols_hgi + vcols_hgi)\n",
    "    )\n",
    "    return result"
   ]
  },
  {
   "cell_type": "code",
   "execution_count": null,
   "metadata": {},
   "outputs": [],
   "source": [
    "# | export\n",
    "def process_data(df: pl.DataFrame) -> pl.DataFrame:\n",
    "    \"\"\"\n",
    "    Corresponding to primary data layer, where source data models are transformed into domain data models\n",
    "\n",
    "    - Transforming data to RTN (Radial-Tangential-Normal) coordinate system\n",
    "    - Applying naming conventions for columns\n",
    "    \"\"\"\n",
    "\n",
    "    columns_name_mapping = {\n",
    "        \"r\": \"radial_distance\",\n",
    "        \"v_r\": \"v_x\",\n",
    "        \"v_t\": \"v_y\",\n",
    "        \"v_n\": \"v_z\",\n",
    "        \"b_r\": \"model_b_r\",\n",
    "        \"b_n\": \"model_b_n\",\n",
    "        \"b_t\": \"model_b_t\",\n",
    "        \"Ti\": \"plasma_temperature\",\n",
    "        \"rho\": \"plasma_density\",\n",
    "    }\n",
    "\n",
    "    return df.pipe(hgi2rtn).rename(columns_name_mapping)"
   ]
  },
  {
   "cell_type": "markdown",
   "metadata": {},
   "source": [
    "## Pipeline"
   ]
  },
  {
   "cell_type": "code",
   "execution_count": null,
   "metadata": {},
   "outputs": [],
   "source": [
    "# | export\n",
    "def create_pipeline(\n",
    "    sat_id,\n",
    "    ts: str = '1h',  # time resolution\n",
    ") -> Pipeline:\n",
    "    \n",
    "    node_preprocess_data = node(\n",
    "        preprocess_data,\n",
    "        inputs=dict(\n",
    "            start=\"params:start_date\",\n",
    "            end=\"params:end_date\",\n",
    "            raw_data=\"raw_state\",\n",
    "        ),\n",
    "        outputs=f\"inter_state_{ts}\",\n",
    "        name=f\"preprocess_{sat_id.upper()}_state_data\",\n",
    "    )\n",
    "    \n",
    "    node_process_data = node(\n",
    "        process_data,\n",
    "        inputs=f\"inter_state_{ts}\",\n",
    "        outputs=f\"primary_state_{ts}\",\n",
    "        name=f\"process_{sat_id.upper()}_state_data\",\n",
    "    )\n",
    "    \n",
    "    nodes = [\n",
    "        node_preprocess_data,\n",
    "        node_process_data,\n",
    "    ]\n",
    "    pipelines = pipeline(\n",
    "        nodes,\n",
    "        namespace=sat_id,\n",
    "        parameters={\n",
    "            \"params:start_date\": \"params:jno_start_date\",\n",
    "            \"params:end_date\": \"params:jno_end_date\",\n",
    "        },\n",
    "    )\n",
    "\n",
    "    return pipelines"
   ]
  }
 ],
 "metadata": {
  "kernelspec": {
   "display_name": "cool_planet",
   "language": "python",
   "name": "python3"
  },
  "language_info": {
   "name": "python",
   "version": "3.10.12"
  }
 },
 "nbformat": 4,
 "nbformat_minor": 2
}
