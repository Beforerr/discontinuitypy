{
 "cells": [
  {
   "cell_type": "markdown",
   "metadata": {},
   "source": [
    "---\n",
    "title: JUNO State data pipeline\n",
    "---\n",
    "\n",
    "JUNO state data is composed of two parts: the plasma data from MHD model and 1h-average magnetic field data from FGM, which providing background interplanetary magnetic field (IMF) information."
   ]
  },
  {
   "cell_type": "code",
   "execution_count": null,
   "metadata": {},
   "outputs": [],
   "source": [
    "#| export\n",
    "from datetime import timedelta\n",
    "import polars as pl\n",
    "import pandas as pd\n",
    "\n",
    "from ids_finder.utils.basic import resample\n",
    "from ids_finder.pipelines.default.data import create_pipeline_template\n",
    "\n",
    "from kedro.pipeline import node\n",
    "from kedro.pipeline.modular_pipeline import pipeline\n",
    "\n",
    "from typing import Dict, Callable"
   ]
  },
  {
   "cell_type": "code",
   "execution_count": null,
   "metadata": {},
   "outputs": [],
   "source": [
    "#| hide\n",
    "#| default_exp pipelines/juno/state\n",
    "%load_ext autoreload\n",
    "%autoreload 2"
   ]
  },
  {
   "cell_type": "markdown",
   "metadata": {},
   "source": [
    "## Getting background magnetic field"
   ]
  },
  {
   "cell_type": "code",
   "execution_count": null,
   "metadata": {},
   "outputs": [],
   "source": [
    "# | export\n",
    "def process_IMF_data(\n",
    "    raw_data: Dict[str, Callable[..., pl.LazyFrame]],\n",
    "    ts: str = 3600,  # time resolution\n",
    ") -> pl.DataFrame | dict[str, pl.DataFrame]:\n",
    "    \"\"\"\n",
    "    Resampling data to provide background magnetic field\n",
    "    \"\"\"\n",
    "\n",
    "    every = timedelta(seconds=ts)\n",
    "    period = every\n",
    "    offset = every / 2\n",
    "\n",
    "    data = pl.concat(\n",
    "        resample(func(), every=every, period=period, offset=offset)\n",
    "        for func in raw_data.values()\n",
    "    )\n",
    "\n",
    "    name_mapping = {\n",
    "        \"BX SE\": \"B_background_x\",\n",
    "        \"BY SE\": \"B_background_y\",\n",
    "        \"BZ SE\": \"B_background_z\",\n",
    "    }\n",
    "\n",
    "    return data.unique(\"time\").sort(\"time\").rename(name_mapping)"
   ]
  },
  {
   "cell_type": "markdown",
   "metadata": {},
   "source": [
    "## Loading data\n",
    "\n",
    "For interpolated solar wind at JUNO's location, see [model output file](http://csem.engin.umich.edu/MSWIM2D/writable/mswim2d_interp_output_20231009173618.txt)."
   ]
  },
  {
   "cell_type": "code",
   "execution_count": null,
   "metadata": {},
   "outputs": [],
   "source": [
    "#| export\n",
    "def load_data(\n",
    "    raw_data: pd.DataFrame,\n",
    "    start: str,\n",
    "    end: str,\n",
    ") -> pl.LazyFrame:\n",
    "    return pl.from_pandas(raw_data).lazy()\n"
   ]
  },
  {
   "cell_type": "markdown",
   "metadata": {},
   "source": [
    "## Preprocessing data\n",
    "\n",
    "```{txt}\n",
    "Coordinate System:  HGI\n",
    "Variables:\n",
    "  Date_Time: date and time in ISO format [UT]\n",
    "  hour: elapsed time since trajectory start [hr]\n",
    "  r: radial coordinate in HGI [AU]\n",
    "  phi: longitude coordinate in HGI [deg]\n",
    "  Rho: density [amu/cm^3]\n",
    "  Ux, Uy, Uz: bulk velocity components in HGI [km/s]\n",
    "  Bx, By, Bz: magnetic field components in HGI [nT]\n",
    "  Ti: ion temperature [K]\n",
    "```"
   ]
  },
  {
   "cell_type": "code",
   "execution_count": null,
   "metadata": {},
   "outputs": [],
   "source": [
    "# | export\n",
    "def preprocess_data(\n",
    "    raw_data: pl.LazyFrame,\n",
    "):\n",
    "    \"\"\"\n",
    "    Preprocess the raw dataset (only minor transformations)\n",
    "\n",
    "    - Parsing and typing data (like from string to datetime for time columns)\n",
    "    - Changing storing format (like from `csv` to `parquet`)\n",
    "    \"\"\"\n",
    "    df = (\n",
    "        raw_data\n",
    "        .with_columns(\n",
    "            time=pl.col(\"Date_Time\").str.to_datetime(),\n",
    "        )\n",
    "        .sort(\"time\")\n",
    "        .drop([\"Date_Time\", \"hour\"])\n",
    "    )\n",
    "    return df"
   ]
  },
  {
   "cell_type": "markdown",
   "metadata": {},
   "source": [
    "## Processing data\n",
    "\n",
    "Combining plasma data and background magnetic field"
   ]
  },
  {
   "cell_type": "code",
   "execution_count": null,
   "metadata": {},
   "outputs": [],
   "source": [
    "# | export\n",
    "bcols_hgi = [\"bx\", \"by\", \"bz\"]\n",
    "bcols_rtn = [\"b_r\", \"b_t\", \"b_n\"]\n",
    "vcols_hgi = [\"ux\", \"uy\", \"uz\"]\n",
    "vcols_rtn = [\"v_r\", \"v_t\", \"v_n\"]\n",
    "\n",
    "\n",
    "def hgi2rtn(df: pl.LazyFrame | pl.DataFrame):\n",
    "    \"\"\"Transform coordinates from HGI to RTN\"\"\"\n",
    "\n",
    "    phi_rad = pl.col(\"phi_rad\")\n",
    "    ux = pl.col(\"ux\")\n",
    "    uy = pl.col(\"uy\")\n",
    "    uz = pl.col(\"uz\")\n",
    "    result = (\n",
    "        df.with_columns(\n",
    "            phi_rad=pl.col(\"phi\").radians(),\n",
    "        )\n",
    "        .with_columns(\n",
    "            b_r=pl.col(\"bx\") * phi_rad.cos() + pl.col(\"by\") * phi_rad.sin(),\n",
    "            b_t=-pl.col(\"bx\") * phi_rad.sin() + pl.col(\"by\") * phi_rad.cos(),\n",
    "            b_n=pl.col(\"bz\"),\n",
    "            v_r=ux * phi_rad.cos() + uy * phi_rad.sin(),\n",
    "            v_t=-ux * phi_rad.sin() + uy * phi_rad.cos(),\n",
    "            v_n=uz,\n",
    "            plasma_speed=(ux**2 + uy**2 + uz**2).sqrt(),\n",
    "        )\n",
    "        .drop([\"phi\", \"phi_rad\"] + bcols_hgi + vcols_hgi)\n",
    "    )\n",
    "    return result"
   ]
  },
  {
   "cell_type": "code",
   "execution_count": null,
   "metadata": {},
   "outputs": [],
   "source": [
    "# | export\n",
    "def process_data(\n",
    "    model_data: pl.LazyFrame,\n",
    "    imf_data: pl.LazyFrame,\n",
    ") -> pl.DataFrame:\n",
    "    \"\"\"\n",
    "    Corresponding to primary data layer, where source data models are transformed into domain data models\n",
    "\n",
    "    - Transforming data to RTN (Radial-Tangential-Normal) coordinate system\n",
    "    - Applying naming conventions for columns\n",
    "    \"\"\"\n",
    "\n",
    "    columns_name_mapping = {\n",
    "        \"r\": \"radial_distance\",\n",
    "        \"v_r\": \"v_x\",\n",
    "        \"v_t\": \"v_y\",\n",
    "        \"v_n\": \"v_z\",\n",
    "        \"b_r\": \"model_b_r\",\n",
    "        \"b_n\": \"model_b_n\",\n",
    "        \"b_t\": \"model_b_t\",\n",
    "        \"Ti\": \"plasma_temperature\",\n",
    "        \"rho\": \"plasma_density\",\n",
    "    }\n",
    "\n",
    "    return model_data.pipe(hgi2rtn).rename(columns_name_mapping).join(imf_data, on=\"time\")"
   ]
  },
  {
   "cell_type": "markdown",
   "metadata": {},
   "source": [
    "## Pipeline"
   ]
  },
  {
   "cell_type": "code",
   "execution_count": null,
   "metadata": {},
   "outputs": [],
   "source": [
    "# | export\n",
    "def create_IMF_pipeline():\n",
    "    node_process_IMF_data = node(\n",
    "        process_IMF_data,\n",
    "        inputs=\"JNO.MAG.inter_data_1SEC\",\n",
    "        outputs=\"JNO.STATE.IMF_data\",\n",
    "    )\n",
    "\n",
    "    return pipeline([node_process_IMF_data])"
   ]
  },
  {
   "cell_type": "code",
   "execution_count": null,
   "metadata": {},
   "outputs": [],
   "source": [
    "# | export\n",
    "load_inputs = dict(\n",
    "    raw_data=\"model_data\",\n",
    "    start=\"params:start_date\", # necessary for the pipeline to work\n",
    "    end=\"params:end_date\",\n",
    ")\n",
    "\n",
    "process_inputs = dict(\n",
    "    model_data=\"inter_data_hourly\",\n",
    "    imf_data=\"IMF_data\",\n",
    ")\n",
    "\n",
    "def create_pipeline(sat_id=\"JNO\", source=\"STATE\"):\n",
    "    return create_IMF_pipeline() + create_pipeline_template(\n",
    "        sat_id=sat_id,\n",
    "        source=source,\n",
    "        load_data_fn=load_data,\n",
    "        preprocess_data_fn=preprocess_data,\n",
    "        process_data_fn=process_data,\n",
    "        load_inputs=load_inputs,\n",
    "        process_inputs=process_inputs,\n",
    "    )"
   ]
  }
 ],
 "metadata": {
  "kernelspec": {
   "display_name": "cool_planet",
   "language": "python",
   "name": "python3"
  },
  "language_info": {
   "codemirror_mode": {
    "name": "ipython",
    "version": 3
   },
   "file_extension": ".py",
   "mimetype": "text/x-python",
   "name": "python",
   "nbconvert_exporter": "python",
   "pygments_lexer": "ipython3",
   "version": "3.10.12"
  }
 },
 "nbformat": 4,
 "nbformat_minor": 2
}
