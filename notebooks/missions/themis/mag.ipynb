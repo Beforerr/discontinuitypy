{
 "cells": [
  {
   "cell_type": "markdown",
   "metadata": {},
   "source": [
    "---\n",
    "title: THEMIS Magnetic field data pipeline\n",
    "---\n",
    "\n",
    "- For convenience, we choose magnetic field data in **GSE** coordinate system\n",
    "- The `fgs` data are in 3-4s resolution"
   ]
  },
  {
   "cell_type": "code",
   "execution_count": null,
   "metadata": {},
   "outputs": [],
   "source": [
    "# | export\n",
    "from datetime import timedelta\n",
    "\n",
    "import polars as pl\n",
    "\n",
    "from kedro.pipeline import Pipeline, node\n",
    "from kedro.pipeline.modular_pipeline import pipeline"
   ]
  },
  {
   "cell_type": "code",
   "execution_count": null,
   "metadata": {},
   "outputs": [],
   "source": [
    "# | hide\n",
    "# | default_exp pipelines/themis/mag\n",
    "%load_ext autoreload\n",
    "%autoreload 2"
   ]
  },
  {
   "cell_type": "markdown",
   "metadata": {},
   "source": [
    "## Loading data"
   ]
  },
  {
   "cell_type": "code",
   "execution_count": null,
   "metadata": {},
   "outputs": [],
   "source": [
    "# | export\n",
    "import speasy as spz\n",
    "from speasy import SpeasyVariable"
   ]
  },
  {
   "cell_type": "code",
   "execution_count": null,
   "metadata": {},
   "outputs": [],
   "source": [
    "# | export\n",
    "def check_dataype(ts):\n",
    "    ts = timedelta(seconds=ts)\n",
    "    fgs_ts = timedelta(seconds=3)\n",
    "    fgl_ts = timedelta(seconds=0.1)\n",
    "\n",
    "    if ts > fgs_ts:\n",
    "        datatype = \"fgs\"\n",
    "    elif ts > fgl_ts:\n",
    "        datatype = \"fgl\"\n",
    "    else:\n",
    "        datatype = \"fgh\"\n",
    "    return datatype"
   ]
  },
  {
   "cell_type": "code",
   "execution_count": null,
   "metadata": {},
   "outputs": [],
   "source": [
    "# | export\n",
    "def download_data(\n",
    "    trange, probe: str = \"b\", datatype=\"fgs\", coord=\"gse\"\n",
    ") -> SpeasyVariable:\n",
    "    match probe:\n",
    "        case \"b\":\n",
    "            sat = \"thb\"\n",
    "\n",
    "    product = f\"cda/{sat.upper()}_L2_FGM/{sat}_{datatype}_{coord}\"\n",
    "    data = spz.get_data(product, trange, disable_proxy=True)\n",
    "\n",
    "    return data\n",
    "\n",
    "\n",
    "def spz2df(raw_data: SpeasyVariable):\n",
    "    return pl.from_dataframe(raw_data.to_dataframe().reset_index()).rename(\n",
    "        {\"index\": \"time\"}\n",
    "    )\n",
    "\n",
    "\n",
    "def load_data(\n",
    "    start,\n",
    "    end,\n",
    "    datatype=None,\n",
    "    ts=None,  # time resolution\n",
    "    probe: str = \"b\",\n",
    "    coord=\"gse\",\n",
    "):\n",
    "    trange = [start, end]\n",
    "\n",
    "    data = download_data(trange, probe, datatype, coord)\n",
    "    return spz2df(data).lazy()"
   ]
  },
  {
   "cell_type": "markdown",
   "metadata": {},
   "source": [
    "## Preprocessing data"
   ]
  },
  {
   "cell_type": "code",
   "execution_count": null,
   "metadata": {},
   "outputs": [],
   "source": [
    "# | export\n",
    "from ids_finder.utils.basic import resample"
   ]
  },
  {
   "cell_type": "code",
   "execution_count": null,
   "metadata": {},
   "outputs": [],
   "source": [
    "# | export\n",
    "def preprocess_data(\n",
    "    raw_data: pl.LazyFrame,\n",
    "    datatype: str = None,\n",
    "    coord: str = \"gse\",\n",
    ") -> pl.LazyFrame:\n",
    "    \"\"\"\n",
    "    Preprocess the raw dataset (only minor transformations)\n",
    "\n",
    "    - Applying naming conventions for columns\n",
    "    - Dropping duplicate time\n",
    "    - Changing storing format to `parquet`\n",
    "\n",
    "    \"\"\"\n",
    "\n",
    "    datatype = datatype.upper()\n",
    "    name_mapping = {\n",
    "        f\"Bx {datatype}-D\": \"B_x\",\n",
    "        f\"By {datatype}-D\": \"B_y\",\n",
    "        f\"Bz {datatype}-D\": \"B_z\",\n",
    "    }\n",
    "\n",
    "    return raw_data.sort(\"time\").unique(\"time\").rename(name_mapping)"
   ]
  },
  {
   "cell_type": "markdown",
   "metadata": {},
   "source": [
    "## Processing data"
   ]
  },
  {
   "cell_type": "code",
   "execution_count": null,
   "metadata": {},
   "outputs": [],
   "source": [
    "# | export\n",
    "from ids_finder.utils.basic import partition_data_by_year"
   ]
  },
  {
   "cell_type": "code",
   "execution_count": null,
   "metadata": {},
   "outputs": [],
   "source": [
    "# | export\n",
    "def process_data(\n",
    "    raw_data: pl.LazyFrame,\n",
    "    ts: int = None,  # time resolution\n",
    ") -> pl.DataFrame | dict[str, pl.DataFrame]:\n",
    "    \"\"\"\n",
    "    Partitioning data, for the sake of memory\n",
    "    \"\"\"\n",
    "\n",
    "    every = timedelta(seconds=ts)\n",
    "    period = 2 * every\n",
    "\n",
    "    return raw_data.pipe(resample, every=every, period=period).pipe(\n",
    "        partition_data_by_year\n",
    "    )"
   ]
  },
  {
   "cell_type": "markdown",
   "metadata": {},
   "source": [
    "## Pipeline"
   ]
  },
  {
   "cell_type": "code",
   "execution_count": 1,
   "metadata": {},
   "outputs": [],
   "source": [
    "# | export\n",
    "from ids_finder.core.pipeline import extract_features\n",
    "from ids_finder.pipelines.default.data_mag import create_pipeline_template\n",
    "\n",
    "\n",
    "def create_pipeline(sat_id=\"THB\", source=\"MAG\"):\n",
    "    return create_pipeline_template(\n",
    "        sat_id=sat_id,\n",
    "        source=source,\n",
    "        load_data_fn=load_data,\n",
    "        preprocess_data_fn=preprocess_data,\n",
    "        process_data_fn=process_data,\n",
    "        extract_features_fn=extract_features,\n",
    "    )"
   ]
  }
 ],
 "metadata": {
  "kernelspec": {
   "display_name": "cool_planet",
   "language": "python",
   "name": "python3"
  },
  "language_info": {
   "codemirror_mode": {
    "name": "ipython",
    "version": 3
   },
   "file_extension": ".py",
   "mimetype": "text/x-python",
   "name": "python",
   "nbconvert_exporter": "python",
   "pygments_lexer": "ipython3",
   "version": "3.10.12"
  }
 },
 "nbformat": 4,
 "nbformat_minor": 2
}
