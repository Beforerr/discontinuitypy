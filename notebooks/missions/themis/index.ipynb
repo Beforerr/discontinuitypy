{
 "cells": [
  {
   "cell_type": "markdown",
   "metadata": {},
   "source": [
    "---\n",
    "title: IDs from ARTHEMIS\n",
    "order: 12\n",
    "---"
   ]
  },
  {
   "cell_type": "markdown",
   "metadata": {},
   "source": [
    "## Background\n",
    "\n",
    "ARTEMIS spacecrafts will be exposed in the solar wind at 1 AU during its orbits around the Moon. So it's very interesting to look into its data.\n",
    "\n",
    "- For time inteval for THEMIS-B in solar wind, see [Link](https://omniweb.gsfc.nasa.gov/ftpbrowser/themis_b_sw.txt)\n",
    "- For time inteval for THEMIS-C in solar wind, see [Link](https://omniweb.gsfc.nasa.gov/ftpbrowser/themis_c_sw.txt)\n"
   ]
  },
  {
   "cell_type": "markdown",
   "metadata": {},
   "source": [
    "## Setup"
   ]
  },
  {
   "cell_type": "markdown",
   "metadata": {},
   "source": [
    "Need to run command in shell first as `pipeline` is project-specific command\n",
    "\n",
    "```{sh}\n",
    "kedro pipeline create themis\n",
    "```\n",
    "\n",
    "To get candidates data, run `kedro run --from-inputs=jno.feature_1s --to-outputs=candidates.jno_1s`"
   ]
  },
  {
   "cell_type": "code",
   "execution_count": null,
   "metadata": {},
   "outputs": [],
   "source": [
    "# | code-summary: import all the packages needed for the project\n",
    "# | output: hide\n",
    "# | export\n",
    "import polars as pl\n",
    "from kedro.pipeline import Pipeline, node\n",
    "from kedro.pipeline.modular_pipeline import pipeline\n",
    "\n",
    "from ids_finder.pipelines.themis.mag import create_pipeline as create_mag_data_pipeline\n",
    "from ids_finder.pipelines.themis.state import create_pipeline as create_state_data_pipeline\n",
    "from ids_finder.pipelines.default.mission import create_combined_data_pipeline"
   ]
  },
  {
   "cell_type": "code",
   "execution_count": null,
   "metadata": {},
   "outputs": [],
   "source": [
    "#| default_exp pipelines/themis/pipeline"
   ]
  },
  {
   "cell_type": "markdown",
   "metadata": {},
   "source": [
    "## Processing the whole data"
   ]
  },
  {
   "cell_type": "code",
   "execution_count": null,
   "metadata": {},
   "outputs": [],
   "source": [
    "#| export\n",
    "from ids_finder.utils.basic import filter_tranges_df\n",
    "\n",
    "def filter_sw_events(events: pl.LazyFrame, sw_state: pl.LazyFrame) -> pl.LazyFrame:\n",
    "    \n",
    "    start, end = sw_state.select(['start', 'end']).collect()\n",
    "    sw_events = filter_tranges_df(events.collect(), (start, end))\n",
    "    \n",
    "    return sw_events\n",
    "\n",
    "def create_sw_events_pipeline(\n",
    "    sat_id,\n",
    "    tau: int = 60,\n",
    "    ts_mag: int = 1,\n",
    "    \n",
    "):\n",
    "  \n",
    "    ts_mag_str = f\"ts_{ts_mag}s\"\n",
    "    tau_str = f\"tau_{tau}s\"\n",
    "    \n",
    "    node_filter_sw_events = node(\n",
    "        filter_sw_events,\n",
    "        inputs=[\n",
    "            f\"events.{sat_id}_{ts_mag_str}_{tau_str}\",\n",
    "            f\"{sat_id}.inter_state_sw\",\n",
    "        ],\n",
    "        outputs=f\"events.{sat_id}_sw_{ts_mag_str}_{tau_str}\"\n",
    "        \n",
    "    )\n",
    "\n",
    "    nodes = [node_filter_sw_events]\n",
    "    return pipeline(nodes)"
   ]
  },
  {
   "cell_type": "code",
   "execution_count": null,
   "metadata": {},
   "outputs": [],
   "source": [
    "# | export\n",
    "def create_pipeline(\n",
    "    sat_id=\"THB\",\n",
    "    tau=60, # time window, in seconds\n",
    "    ts_mag = 1, # time resolution of mag data, in seconds\n",
    ") -> Pipeline:\n",
    "    return (\n",
    "        create_mag_data_pipeline(sat_id)\n",
    "        + create_state_data_pipeline(sat_id)\n",
    "        + create_combined_data_pipeline(sat_id)\n",
    "        + create_sw_events_pipeline(sat_id, tau=tau, ts_mag= ts_mag)\n",
    "    )"
   ]
  }
 ],
 "metadata": {
  "kernelspec": {
   "display_name": "python3",
   "language": "python",
   "name": "python3"
  },
  "language_info": {
   "codemirror_mode": {
    "name": "ipython",
    "version": 3
   },
   "file_extension": ".py",
   "mimetype": "text/x-python",
   "name": "python",
   "nbconvert_exporter": "python",
   "pygments_lexer": "ipython3",
   "version": "3.10.12"
  }
 },
 "nbformat": 4,
 "nbformat_minor": 2
}
