{
 "cells": [
  {
   "cell_type": "markdown",
   "metadata": {},
   "source": [
    "---\n",
    "title: IDs from ARTHEMIS\n",
    "order: 13\n",
    "---\n",
    "\n",
    "See following notebooks for details:\n",
    "\n",
    "- [Magnetic field data](./mag.ipynb)\n",
    "- [State data](./state.ipynb)"
   ]
  },
  {
   "cell_type": "markdown",
   "metadata": {},
   "source": [
    "## Background\n",
    "\n",
    "ARTEMIS spacecrafts will be exposed in the solar wind at 1 AU during its orbits around the Moon. So it's very interesting to look into its data.\n",
    "\n",
    "- For time inteval for THEMIS-B in solar wind, see [Link](https://omniweb.gsfc.nasa.gov/ftpbrowser/themis_b_sw.txt)\n",
    "- For time inteval for THEMIS-C in solar wind, see [Link](https://omniweb.gsfc.nasa.gov/ftpbrowser/themis_c_sw.txt)\n"
   ]
  },
  {
   "cell_type": "markdown",
   "metadata": {},
   "source": [
    "## Setup"
   ]
  },
  {
   "cell_type": "markdown",
   "metadata": {},
   "source": [
    "Need to run command in shell first as `pipeline` is project-specific command\n",
    "\n",
    "```{sh}\n",
    "kedro pipeline create themis\n",
    "```\n",
    "\n",
    "To get candidates data, run `kedro run --from-inputs=jno.feature_1s --to-outputs=candidates.jno_1s`"
   ]
  },
  {
   "cell_type": "code",
   "execution_count": 1,
   "metadata": {},
   "outputs": [
    {
     "data": {
      "text/html": [
       "<pre style=\"white-space:pre;overflow-x:auto;line-height:normal;font-family:Menlo,'DejaVu Sans Mono',consolas,'Courier New',monospace\"><span style=\"color: #7fbfbf; text-decoration-color: #7fbfbf\">[11/21/23 16:37:49] </span><span style=\"color: #800000; text-decoration-color: #800000\">WARNING </span> TqdmExperimentalWarning: Using `tqdm.autonotebook.tqdm` in notebook    <a href=\"file:///Users/zijin/miniforge3/envs/cool_planet/lib/python3.10/warnings.py\" target=\"_blank\"><span style=\"color: #7f7f7f; text-decoration-color: #7f7f7f\">warnings.py</span></a><span style=\"color: #7f7f7f; text-decoration-color: #7f7f7f\">:</span><a href=\"file:///Users/zijin/miniforge3/envs/cool_planet/lib/python3.10/warnings.py#109\" target=\"_blank\"><span style=\"color: #7f7f7f; text-decoration-color: #7f7f7f\">109</span></a>\n",
       "<span style=\"color: #7fbfbf; text-decoration-color: #7fbfbf\">                    </span>         mode. Use `tqdm.tqdm` instead to force console mode <span style=\"font-weight: bold\">(</span>e.g. in jupyter   <span style=\"color: #7f7f7f; text-decoration-color: #7f7f7f\">               </span>\n",
       "<span style=\"color: #7fbfbf; text-decoration-color: #7fbfbf\">                    </span>         console<span style=\"font-weight: bold\">)</span>                                                               <span style=\"color: #7f7f7f; text-decoration-color: #7f7f7f\">               </span>\n",
       "<span style=\"color: #7fbfbf; text-decoration-color: #7fbfbf\">                    </span>                                                                                <span style=\"color: #7f7f7f; text-decoration-color: #7f7f7f\">               </span>\n",
       "</pre>\n"
      ],
      "text/plain": [
       "\u001b[2;36m[11/21/23 16:37:49]\u001b[0m\u001b[2;36m \u001b[0m\u001b[31mWARNING \u001b[0m TqdmExperimentalWarning: Using `tqdm.autonotebook.tqdm` in notebook    \u001b]8;id=299535;file:///Users/zijin/miniforge3/envs/cool_planet/lib/python3.10/warnings.py\u001b\\\u001b[2mwarnings.py\u001b[0m\u001b]8;;\u001b\\\u001b[2m:\u001b[0m\u001b]8;id=433809;file:///Users/zijin/miniforge3/envs/cool_planet/lib/python3.10/warnings.py#109\u001b\\\u001b[2m109\u001b[0m\u001b]8;;\u001b\\\n",
       "\u001b[2;36m                    \u001b[0m         mode. Use `tqdm.tqdm` instead to force console mode \u001b[1m(\u001b[0me.g. in jupyter   \u001b[2m               \u001b[0m\n",
       "\u001b[2;36m                    \u001b[0m         console\u001b[1m)\u001b[0m                                                               \u001b[2m               \u001b[0m\n",
       "\u001b[2;36m                    \u001b[0m                                                                                \u001b[2m               \u001b[0m\n"
      ]
     },
     "metadata": {},
     "output_type": "display_data"
    }
   ],
   "source": [
    "# | code-summary: import all the packages needed for the project\n",
    "# | output: hide\n",
    "# | export\n",
    "import polars as pl\n",
    "from kedro.pipeline import Pipeline, node\n",
    "from kedro.pipeline.modular_pipeline import pipeline\n",
    "\n",
    "from ids_finder import PARAMS\n",
    "from ids_finder.pipelines.themis.mag import create_pipeline as create_mag_data_pipeline\n",
    "from ids_finder.pipelines.themis.state import create_pipeline as create_state_data_pipeline\n",
    "from ids_finder.pipelines.default.mission import create_combined_data_pipeline\n",
    "\n",
    "from typing import Optional"
   ]
  },
  {
   "cell_type": "code",
   "execution_count": null,
   "metadata": {},
   "outputs": [],
   "source": [
    "#| default_exp pipelines/themis/pipeline"
   ]
  },
  {
   "cell_type": "markdown",
   "metadata": {},
   "source": [
    "## Solar wind pipeline"
   ]
  },
  {
   "cell_type": "code",
   "execution_count": null,
   "metadata": {},
   "outputs": [],
   "source": [
    "#| export\n",
    "from ids_finder.utils.basic import filter_tranges_df\n",
    "\n",
    "def filter_sw_events(events: pl.LazyFrame, sw_state: pl.LazyFrame) -> pl.LazyFrame:\n",
    "    \n",
    "    start, end = sw_state.select(['start', 'end']).collect()\n",
    "    sw_events = filter_tranges_df(events.collect(), (start, end))\n",
    "    \n",
    "    return sw_events\n",
    "\n",
    "def create_sw_events_pipeline(\n",
    "    sat_id,\n",
    "    tau: int = 60,\n",
    "    ts_mag: int = 1,\n",
    "    \n",
    "):\n",
    "  \n",
    "    ts_mag_str = f\"ts_{ts_mag}s\"\n",
    "    tau_str = f\"tau_{tau}s\"\n",
    "    \n",
    "    node_filter_sw_events = node(\n",
    "        filter_sw_events,\n",
    "        inputs=[\n",
    "            f\"events.{sat_id}_{ts_mag_str}_{tau_str}\",\n",
    "            f\"{sat_id}.STATE.inter_data_sw\",\n",
    "        ],\n",
    "        outputs=f\"events.{sat_id}_sw_{ts_mag_str}_{tau_str}\"\n",
    "        \n",
    "    )\n",
    "\n",
    "    nodes = [node_filter_sw_events]\n",
    "    return pipeline(nodes)"
   ]
  },
  {
   "cell_type": "markdown",
   "metadata": {},
   "source": [
    "## Pipelines"
   ]
  },
  {
   "cell_type": "code",
   "execution_count": null,
   "metadata": {},
   "outputs": [],
   "source": [
    "# | export\n",
    "def create_pipeline(\n",
    "    sat_id=\"THB\",\n",
    "    params: Optional[dict] = None,\n",
    "):\n",
    "    \n",
    "    if params is None:\n",
    "        params = PARAMS\n",
    "    tau = params[\"tau\"]\n",
    "    ts_state = params[sat_id][\"STATE\"][\"time_resolution\"]\n",
    "    ts_mag = params[sat_id][\"MAG\"][\"time_resolution\"]\n",
    "    ts_state_str = f\"ts_{ts_state}s\"\n",
    "\n",
    "\n",
    "    input_combined_data = {\n",
    "        f\"{sat_id}.STATE.primary_data_{ts_state_str}\": f\"OMNI.LowRes.primary_data_{ts_state_str}\"\n",
    "    }\n",
    "    \n",
    "    node_combined_data = pipeline(\n",
    "        create_combined_data_pipeline(sat_id),\n",
    "        inputs=input_combined_data,\n",
    "    )\n",
    "\n",
    "    return (\n",
    "        create_mag_data_pipeline(sat_id)\n",
    "        + create_state_data_pipeline(sat_id)\n",
    "        + node_combined_data\n",
    "        + create_sw_events_pipeline(sat_id, tau=tau, ts_mag=ts_mag)\n",
    "    )"
   ]
  }
 ],
 "metadata": {
  "kernelspec": {
   "display_name": "python3",
   "language": "python",
   "name": "python3"
  },
  "language_info": {
   "codemirror_mode": {
    "name": "ipython",
    "version": 3
   },
   "file_extension": ".py",
   "mimetype": "text/x-python",
   "name": "python",
   "nbconvert_exporter": "python",
   "pygments_lexer": "ipython3",
   "version": "3.10.12"
  }
 },
 "nbformat": 4,
 "nbformat_minor": 2
}
