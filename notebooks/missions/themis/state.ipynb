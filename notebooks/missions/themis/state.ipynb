{
 "cells": [
  {
   "cell_type": "markdown",
   "metadata": {},
   "source": [
    "---\n",
    "title: THEMIS State data pipeline\n",
    "---\n",
    "\n",
    "We use low resolution [OMNI data](https://omniweb.gsfc.nasa.gov/ow.html) for plasma state data, as we did in the [OMNI notebook](../omni/index.ipynb)"
   ]
  },
  {
   "cell_type": "code",
   "execution_count": null,
   "metadata": {},
   "outputs": [],
   "source": [
    "# | export\n",
    "import polars as pl\n",
    "import pandas\n",
    "\n",
    "from kedro.pipeline import node\n",
    "from kedro.pipeline.modular_pipeline import pipeline"
   ]
  },
  {
   "cell_type": "code",
   "execution_count": null,
   "metadata": {},
   "outputs": [],
   "source": [
    "# | default_exp pipelines/themis/state"
   ]
  },
  {
   "cell_type": "markdown",
   "metadata": {},
   "source": [
    "## Solar wind state\n",
    "Also we have additional data file that indicate if `THEMIS` is in solar wind or not."
   ]
  },
  {
   "cell_type": "code",
   "execution_count": null,
   "metadata": {},
   "outputs": [],
   "source": [
    "#| export\n",
    "def load_sw_data(raw_data: pandas.DataFrame):\n",
    "    return pl.from_dataframe(raw_data)"
   ]
  },
  {
   "cell_type": "code",
   "execution_count": null,
   "metadata": {},
   "outputs": [],
   "source": [
    "# | export\n",
    "def preprocess_sw_data(\n",
    "    raw_data: pl.LazyFrame,\n",
    ") -> pl.LazyFrame:\n",
    "    \"\"\"\n",
    "    - Applying naming conventions for columns\n",
    "    - Parsing and typing data (like from string to datetime for time columns)\n",
    "    \"\"\"\n",
    "\n",
    "    return raw_data.with_columns(\n",
    "        # Note: For `polars`, please either specify both hour and minute, or neither.\n",
    "        pl.concat_str(pl.col(\"start\"), pl.lit(\" 00\")).str.to_datetime(\n",
    "            format=\"%Y %j %H %M\"\n",
    "        ),\n",
    "        pl.concat_str(pl.col(\"end\"), pl.lit(\" 00\")).str.to_datetime(\n",
    "            format=\"%Y %j %H %M\"\n",
    "        ),\n",
    "    )"
   ]
  },
  {
   "cell_type": "markdown",
   "metadata": {},
   "source": [
    "## Pipelines"
   ]
  },
  {
   "cell_type": "code",
   "execution_count": null,
   "metadata": {},
   "outputs": [],
   "source": [
    "#| export\n",
    "def create_sw_pipeline(sat_id=\"THB\", source=\"STATE\"):\n",
    "    namespace = f\"{sat_id}.{source}\"\n",
    "    node_load_sw_data = node(\n",
    "        load_sw_data,\n",
    "        inputs=\"original_sw_data\",\n",
    "        outputs=\"raw_data_sw\",\n",
    "        name=\"load_solar_wind_data\",\n",
    "    )\n",
    "    node_preprocess_sw_state = node(\n",
    "        preprocess_sw_data,\n",
    "        inputs=\"raw_data_sw\",\n",
    "        outputs=\"inter_data_sw\",\n",
    "        name=\"preprocess_solar_wind_data\",\n",
    "    )\n",
    "    return pipeline(\n",
    "        [\n",
    "            node_load_sw_data,\n",
    "            node_preprocess_sw_state,\n",
    "        ],\n",
    "        namespace=namespace,\n",
    "    )"
   ]
  },
  {
   "cell_type": "code",
   "execution_count": null,
   "metadata": {},
   "outputs": [],
   "source": [
    "# | export\n",
    "def create_pipeline(sat_id=\"THB\", source=\"STATE\"):\n",
    "    return create_sw_pipeline(sat_id=sat_id, source=source)"
   ]
  }
 ],
 "metadata": {
  "kernelspec": {
   "display_name": "cool_planet",
   "language": "python",
   "name": "python3"
  },
  "language_info": {
   "codemirror_mode": {
    "name": "ipython",
    "version": 3
   },
   "file_extension": ".py",
   "mimetype": "text/x-python",
   "name": "python",
   "nbconvert_exporter": "python",
   "pygments_lexer": "ipython3",
   "version": "3.10.12"
  }
 },
 "nbformat": 4,
 "nbformat_minor": 2
}
