{
 "cells": [
  {
   "cell_type": "code",
   "execution_count": null,
   "metadata": {},
   "outputs": [],
   "source": [
    "# | default_exp mission.themis\n",
    "# | export\n",
    "from discontinuitypy.datasets import IDsDataset\n",
    "from space_analysis.meta import MagDataset, PlasmaDataset\n",
    "from space_analysis.missions.themis import thb_l2_fgm, thb_l2_mom"
   ]
  },
  {
   "cell_type": "code",
   "execution_count": null,
   "metadata": {},
   "outputs": [],
   "source": [
    "# | export\n",
    "class ThemisConfigBase(IDsDataset):\n",
    "    name: str = \"THEMIS\"\n",
    "    mag_meta: MagDataset = thb_l2_fgm\n",
    "    plasma_meta: PlasmaDataset = thb_l2_mom"
   ]
  }
 ],
 "metadata": {
  "kernelspec": {
   "display_name": "python3",
   "language": "python",
   "name": "python3"
  }
 },
 "nbformat": 4,
 "nbformat_minor": 2
}
