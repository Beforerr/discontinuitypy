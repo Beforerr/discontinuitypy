{
 "cells": [
  {
   "cell_type": "code",
   "execution_count": null,
   "metadata": {},
   "outputs": [],
   "source": [
    "# | default_exp mission.themis\n",
    "# | export\n",
    "from discontinuitypy.datasets import IDsDataset\n",
    "from space_analysis.meta import MagDataset, PlasmaDataset, TempDataset\n",
    "from space_analysis.missions.themis import (\n",
    "    thb_l2_fgm,\n",
    "    thb_l2_mom,\n",
    "    thb_l2_mom_e_temp,\n",
    "    thb_l2_mom_ion_temp,\n",
    ")"
   ]
  },
  {
   "cell_type": "code",
   "execution_count": null,
   "metadata": {},
   "outputs": [],
   "source": [
    "# | export\n",
    "class ThemisConfigBase(IDsDataset):\n",
    "    name: str = \"THEMIS\"\n",
    "    mag_meta: MagDataset = thb_l2_fgm\n",
    "    plasma_meta: PlasmaDataset = thb_l2_mom\n",
    "    ion_temp_meta: TempDataset = thb_l2_mom_ion_temp\n",
    "    e_temp_meta: TempDataset = thb_l2_mom_e_temp"
   ]
  }
 ],
 "metadata": {
  "kernelspec": {
   "display_name": "python3",
   "language": "python",
   "name": "python3"
  }
 },
 "nbformat": 4,
 "nbformat_minor": 2
}
