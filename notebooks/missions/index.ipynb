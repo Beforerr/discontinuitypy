{
 "cells": [
  {
   "cell_type": "markdown",
   "metadata": {},
   "source": [
    "---\n",
    "title: Mission-Ready Configurations\n",
    "---\n",
    "\n",
    "Re-export all mission base configs"
   ]
  },
  {
   "cell_type": "code",
   "execution_count": null,
   "metadata": {},
   "outputs": [],
   "source": [
    "# | default_exp mission.__init__\n",
    "# | export\n",
    "\n",
    "from discontinuitypy.mission.wind import WindConfigBase as WindConfigBase\n",
    "from discontinuitypy.mission.stereo import StereoConfigBase as StereoConfigBase\n",
    "from discontinuitypy.mission.themis import ThemisConfigBase as ThemisConfigBase\n",
    "from discontinuitypy.mission.solo import SoloConfigBase as SoloConfigBase"
   ]
  }
 ],
 "metadata": {
  "kernelspec": {
   "display_name": "python3",
   "language": "python",
   "name": "python3"
  }
 },
 "nbformat": 4,
 "nbformat_minor": 2
}
