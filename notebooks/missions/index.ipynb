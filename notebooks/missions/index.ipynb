{
 "cells": [
  {
   "cell_type": "markdown",
   "metadata": {},
   "source": [
    "Re-export all mission base configs"
   ]
  },
  {
   "cell_type": "code",
   "execution_count": 1,
   "metadata": {},
   "outputs": [],
   "source": [
    "# | default_exp mission.__init__\n",
    "# | export\n",
    "\n",
    "from discontinuitypy.mission.wind import WindConfigBase as WindConfigBase\n",
    "from discontinuitypy.mission.stereo import StereoConfigBase as StereoConfigBase\n",
    "from discontinuitypy.mission.themis import ThemisConfigBase as ThemisConfigBase"
   ]
  }
 ],
 "metadata": {
  "kernelspec": {
   "display_name": "Python 3",
   "language": "python",
   "name": "python3"
  },
  "language_info": {
   "codemirror_mode": {
    "name": "ipython",
    "version": 3
   },
   "file_extension": ".py",
   "mimetype": "text/x-python",
   "name": "python",
   "nbconvert_exporter": "python",
   "pygments_lexer": "ipython3",
   "version": "3.11.0"
  }
 },
 "nbformat": 4,
 "nbformat_minor": 2
}
