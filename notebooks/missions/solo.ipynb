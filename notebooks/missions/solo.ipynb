{
 "cells": [
  {
   "cell_type": "code",
   "execution_count": null,
   "metadata": {},
   "outputs": [],
   "source": [
    "# | default_exp mission.solo\n",
    "# | export\n",
    "from discontinuitypy.datasets import IDsDataset\n",
    "from space_analysis.meta import MagDataset, PlasmaDataset\n",
    "from space_analysis.missions.solo import (\n",
    "    solo_l2_mag_rtn_normal,\n",
    "    solo_l2_swa_pas_grnd_mom,\n",
    ")"
   ]
  },
  {
   "cell_type": "code",
   "execution_count": null,
   "metadata": {},
   "outputs": [],
   "source": [
    "# | export\n",
    "class SoloConfigBase(IDsDataset):\n",
    "    name: str = \"Solo\"\n",
    "    mag_meta: MagDataset = solo_l2_mag_rtn_normal\n",
    "    plasma_meta: PlasmaDataset = solo_l2_swa_pas_grnd_mom"
   ]
  }
 ],
 "metadata": {
  "kernelspec": {
   "display_name": "python3",
   "language": "python",
   "name": "python3"
  }
 },
 "nbformat": 4,
 "nbformat_minor": 2
}
