{
 "cells": [
  {
   "cell_type": "markdown",
   "metadata": {},
   "source": [
    "---\n",
    "title: IDs from Wind\n",
    "order: 12\n",
    "---\n",
    "\n",
    "See following notebooks for details:\n",
    "\n",
    "- [Magnetic field data](./mag.ipynb)\n",
    "- [State data](./state.ipynb)\n",
    "\n",
    "\n",
    "References:\n",
    "\n",
    "- [HPDE.io/Wind](https://hpde.io/NASA/NumericalData/Wind/index.html)\n",
    "- [Wind Data Sources](https://wind.nasa.gov/data_sources.php)\n",
    "- [WIND MFI high-resolution data file](https://cdaweb.gsfc.nasa.gov/misc/NotesW.html#WI_H4-RTN_MFI)\n",
    "- [PySPEDAS](https://pyspedas.readthedocs.io/en/latest/wind.html)\n",
    "\n",
    "Notes:\n",
    "\n",
    "- December 2014: Wind Data Notice - Data between September 24 and November 30, 2014 were not included at this definitive data set because of instrumental problem [*](https://omniweb.gsfc.nasa.gov/ftpbrowser/wind_swe_2m.html)"
   ]
  },
  {
   "cell_type": "markdown",
   "metadata": {},
   "source": [
    "## Setup"
   ]
  },
  {
   "cell_type": "markdown",
   "metadata": {},
   "source": [
    "Need to run command in shell first as `pipeline` is project-specific command\n",
    "\n",
    "```{sh}\n",
    "kedro pipeline create wind\n",
    "```"
   ]
  },
  {
   "cell_type": "code",
   "execution_count": 4,
   "metadata": {},
   "outputs": [],
   "source": [
    "# | code-summary: import all the packages needed for the project\n",
    "# | output: hide\n",
    "# | export\n",
    "from kedro.pipeline.modular_pipeline import pipeline\n",
    "\n",
    "from ids_finder import PARAMS\n",
    "from ids_finder.pipelines.wind.mag import create_pipeline as create_mag_data_pipeline\n",
    "from ids_finder.pipelines.default.mission import create_combined_data_pipeline\n",
    "\n",
    "from typing import Optional"
   ]
  },
  {
   "cell_type": "code",
   "execution_count": null,
   "metadata": {},
   "outputs": [],
   "source": [
    "#| default_exp pipelines/wind/pipeline"
   ]
  },
  {
   "cell_type": "code",
   "execution_count": null,
   "metadata": {},
   "outputs": [],
   "source": [
    "# | export\n",
    "def create_pipeline(\n",
    "    sat_id=\"Wind\",\n",
    "    params: Optional[dict] = None,\n",
    "):\n",
    "    if params is None:\n",
    "        params = PARAMS\n",
    "    ts_state = params[sat_id][\"STATE\"][\"time_resolution\"]\n",
    "    ts_state_str = f\"ts_{ts_state}s\"\n",
    "    \n",
    "    input_combined_data = {\n",
    "        f\"{sat_id}.STATE.primary_data_{ts_state_str}\": f\"OMNI.LowRes.primary_data_{ts_state_str}\"\n",
    "    }\n",
    "\n",
    "    node_combined_data = pipeline(\n",
    "        create_combined_data_pipeline(sat_id),\n",
    "        inputs=input_combined_data,\n",
    "    )\n",
    "    \n",
    "    return (\n",
    "        create_mag_data_pipeline(sat_id)\n",
    "        + node_combined_data\n",
    "    )"
   ]
  }
 ],
 "metadata": {
  "kernelspec": {
   "display_name": "cool_planet",
   "language": "python",
   "name": "python3"
  },
  "language_info": {
   "codemirror_mode": {
    "name": "ipython",
    "version": 3
   },
   "file_extension": ".py",
   "mimetype": "text/x-python",
   "name": "python",
   "nbconvert_exporter": "python",
   "pygments_lexer": "ipython3",
   "version": "3.10.12"
  }
 },
 "nbformat": 4,
 "nbformat_minor": 2
}
