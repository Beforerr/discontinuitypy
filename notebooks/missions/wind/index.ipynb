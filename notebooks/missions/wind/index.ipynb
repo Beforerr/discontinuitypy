{
 "cells": [
  {
   "cell_type": "markdown",
   "metadata": {},
   "source": [
    "---\n",
    "title: IDs from Wind\n",
    "---"
   ]
  },
  {
   "cell_type": "markdown",
   "metadata": {},
   "source": [
    "## Setup"
   ]
  },
  {
   "cell_type": "markdown",
   "metadata": {},
   "source": [
    "Need to run command in shell first as `pipeline` is project-specific command\n",
    "\n",
    "```{sh}\n",
    "kedro pipeline create wind\n",
    "```"
   ]
  },
  {
   "cell_type": "code",
   "execution_count": 4,
   "metadata": {},
   "outputs": [],
   "source": [
    "#| default_exp pipelines/wind/pipeline"
   ]
  },
  {
   "cell_type": "code",
   "execution_count": 5,
   "metadata": {},
   "outputs": [],
   "source": [
    "#| hide\n",
    "%load_ext autoreload\n",
    "%autoreload 2"
   ]
  },
  {
   "cell_type": "code",
   "execution_count": 6,
   "metadata": {},
   "outputs": [],
   "source": [
    "#| export\n",
    "import polars as pl"
   ]
  },
  {
   "cell_type": "markdown",
   "metadata": {},
   "source": [
    "## Magnetic field data pipeline\n",
    "\n",
    "- For convenience, we choose magnetic field data in **GSE** coordinate system\n",
    "- The `fgs` data are in 3-4s resolution"
   ]
  },
  {
   "cell_type": "code",
   "execution_count": 9,
   "metadata": {},
   "outputs": [],
   "source": [
    "# | export\n",
    "import pyspedas\n",
    "from ids_finder.utils.basic import cdf2pl, pmap, resample"
   ]
  },
  {
   "cell_type": "code",
   "execution_count": 18,
   "metadata": {},
   "outputs": [],
   "source": [
    "#| export\n",
    "def download_mag_data(trange: list[str], datatype) -> list[str]:\n",
    "    files = pyspedas.wind.mfi(trange, datatype=datatype, downloadonly=True)\n",
    "    return files\n",
    "\n",
    "def load_mag_data(\n",
    "    start: str = None,\n",
    "    end: str = None,\n",
    "    trange: list[str] = None,\n",
    "    datatype=\"h4-rtn\",\n",
    "):\n",
    "    if trange is None:\n",
    "        trange = [start, end]\n",
    "\n",
    "    files = download_mag_data(trange=trange, datatype=datatype)\n",
    "    var_names = [\"BRTN\", \"BF1\"]\n",
    "    df: pl.LazyFrame = pl.concat(files | pmap(cdf2pl, var_names=var_names))\n",
    "\n",
    "    return df"
   ]
  },
  {
   "cell_type": "code",
   "execution_count": 12,
   "metadata": {},
   "outputs": [],
   "source": [
    "def preprocess_mag_data(\n",
    "    raw_data: pl.LazyFrame,\n",
    ") -> pl.LazyFrame:\n",
    "    \"\"\"\n",
    "    Preprocess the raw dataset (only minor transformations)\n",
    "\n",
    "    - Downsample the data to a given time resolution\n",
    "    - Applying naming conventions for columns\n",
    "    \"\"\"\n",
    "    name_mapping = {\n",
    "        \"BRTN_0\": \"B_x\",\n",
    "        \"BRTN_1\": \"B_y\",\n",
    "        \"BRTN_2\": \"B_z\",\n",
    "        \"BF1\": \"B_mag\",\n",
    "    }\n",
    "\n",
    "    return raw_data.rename(name_mapping)"
   ]
  },
  {
   "cell_type": "code",
   "execution_count": null,
   "metadata": {},
   "outputs": [],
   "source": [
    "# | export\n",
    "from datetime import timedelta\n",
    "from ids_finder.utils.basic import partition_data_by_year"
   ]
  },
  {
   "cell_type": "code",
   "execution_count": null,
   "metadata": {},
   "outputs": [],
   "source": [
    "#| export\n",
    "def process_mag_data(\n",
    "    raw_data: pl.LazyFrame,\n",
    "    ts: str = None,  # time resolution\n",
    "    coord: str = None,\n",
    "):\n",
    "    \"\"\"\n",
    "    Corresponding to primary data layer, where source data models are transformed into domain data models\n",
    "\n",
    "    - Partitioning data, for the sake of memory\n",
    "    \"\"\"\n",
    "    \n",
    "    every = timedelta(seconds=ts)\n",
    "    period = 2 * every\n",
    "    \n",
    "    return partition_data_by_year(raw_data)"
   ]
  },
  {
   "cell_type": "code",
   "execution_count": null,
   "metadata": {},
   "outputs": [],
   "source": [
    "#| export\n",
    "def create_pipeline(\n",
    "    sat_id=\"sta\",\n",
    "    tau=\"60s\",\n",
    "    ts_mag=\"1s\",  # time resolution of magnetic field data\n",
    "    ts_state=\"1h\",  # time resolution of state data\n",
    "    **kwargs\n",
    "):\n",
    "    pass"
   ]
  }
 ],
 "metadata": {
  "kernelspec": {
   "display_name": "cool_planet",
   "language": "python",
   "name": "python3"
  },
  "language_info": {
   "codemirror_mode": {
    "name": "ipython",
    "version": 3
   },
   "file_extension": ".py",
   "mimetype": "text/x-python",
   "name": "python",
   "nbconvert_exporter": "python",
   "pygments_lexer": "ipython3",
   "version": "3.10.12"
  }
 },
 "nbformat": 4,
 "nbformat_minor": 2
}
