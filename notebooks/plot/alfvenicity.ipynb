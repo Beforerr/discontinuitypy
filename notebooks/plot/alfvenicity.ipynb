{
 "cells": [
  {
   "cell_type": "code",
   "execution_count": null,
   "metadata": {},
   "outputs": [],
   "source": [
    "# | default_exp plot.alfvenicity\n",
    "# | export\n",
    "from datetime import datetime, timedelta\n",
    "from discontinuitypy.utils.plot import ts_mva\n",
    "from space_analysis.ds.tplot.formulary import ts_Alfven_speed\n",
    "from space_analysis.ds.ts import set_ts_option\n",
    "from space_analysis.ds.ts.plot import tsplot\n",
    "from space_analysis.ds.tplot import get_data\n",
    "from xarray import DataArray\n",
    "import numpy as np"
   ]
  },
  {
   "cell_type": "code",
   "execution_count": null,
   "metadata": {},
   "outputs": [],
   "source": [
    "# | exporti\n",
    "def to_datetime(date: np.datetime64):\n",
    "    \"\"\"\n",
    "    Converts a numpy datetime64 object to a python datetime object\n",
    "    \"\"\"\n",
    "    return date.astype(\"datetime64[ms]\").astype(datetime)"
   ]
  },
  {
   "cell_type": "code",
   "execution_count": null,
   "metadata": {},
   "outputs": [],
   "source": [
    "# | export\n",
    "def tsplot_Alfvenicity(\n",
    "    mag_da: DataArray,\n",
    "    vec_da: DataArray,\n",
    "    den_da: DataArray,\n",
    "    start: datetime = None,\n",
    "    end: datetime = None,\n",
    "    offset=timedelta(seconds=0),\n",
    "):\n",
    "    \"\"\"Plot the candidate event with velocity profiles\"\"\"\n",
    "    start = start or to_datetime(mag_da.time.min().values)\n",
    "    end = end or to_datetime(mag_da.time.max().values)\n",
    "\n",
    "    trange = slice(start - offset, end + offset)\n",
    "\n",
    "    mag_da = mag_da.sel(time=trange)\n",
    "    vec_da = vec_da.sel(time=trange)\n",
    "    den_da = den_da.sel(time=trange)\n",
    "\n",
    "    mva_kwargs = dict(mva_data=mag_da, mva_tstart=start, mva_tstop=end)\n",
    "    mag_mva_da = ts_mva(mag_da, **mva_kwargs)\n",
    "    vec_mva_da = ts_mva(vec_da, **mva_kwargs)\n",
    "\n",
    "    Bl_da = mag_mva_da.isel(v_dim=0)\n",
    "    Alfven_l_da = ts_Alfven_speed(Bl_da, den_da)\n",
    "\n",
    "    Vl_da = vec_mva_da.isel(v_dim=0).interp_like(Alfven_l_da)\n",
    "    dVl_da = Vl_da - Vl_da.isel(time=abs(Alfven_l_da).argmin(\"time\"))\n",
    "\n",
    "    mag_mva_da = set_ts_option(mag_mva_da, type=\"B\")\n",
    "    vec_mva_da = set_ts_option(vec_mva_da, type=\"V\")\n",
    "    den_da = set_ts_option(den_da, type=\"n\")\n",
    "    Alfven_l_da.attrs[\"long_name\"] = r\"$V_{A,l}$\"\n",
    "    dVl_da.attrs[\"long_name\"] = r\"$dV_{i,l}$\"\n",
    "\n",
    "    layout = tsplot([mag_mva_da, vec_mva_da, [Alfven_l_da, dVl_da], den_da])\n",
    "    layout[2].opts(ylabel=r\"$V_l$ (km/s)\")\n",
    "    return layout\n",
    "\n",
    "\n",
    "def tplot_Alfvenicity(\n",
    "    start,\n",
    "    end,\n",
    "    mag_tname: str,\n",
    "    vec_tname: str,\n",
    "    den_tname: str,\n",
    "    offset=timedelta(seconds=0),\n",
    "):\n",
    "    \"\"\"Plot the candidate event with velocity profiles\"\"\"\n",
    "    mag_da, vec_da, den_da = get_data([mag_tname, vec_tname, den_tname])\n",
    "\n",
    "    return tsplot_Alfvenicity(\n",
    "        mag_da, vec_da, den_da, start=start, end=end, offset=offset\n",
    "    )"
   ]
  }
 ],
 "metadata": {
  "kernelspec": {
   "display_name": "python3",
   "language": "python",
   "name": "python3"
  }
 },
 "nbformat": 4,
 "nbformat_minor": 2
}
