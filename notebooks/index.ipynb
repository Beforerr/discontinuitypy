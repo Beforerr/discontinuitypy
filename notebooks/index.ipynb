{
 "cells": [
  {
   "cell_type": "raw",
   "metadata": {},
   "source": [
    "---\n",
    "description: Hello planets. Let us see if we could find magnetic discontinuities in\n",
    "  the solar wind when traveling the interplanetary space.\n",
    "output-file: index.html\n",
    "title: Planets? Yes!\n",
    "\n",
    "---\n",
    "\n"
   ]
  },
  {
   "cell_type": "markdown",
   "metadata": {},
   "source": [
    "## Install"
   ]
  },
  {
   "cell_type": "markdown",
   "metadata": {},
   "source": [
    "```sh\n",
    "pip install ids-finder\n",
    "```"
   ]
  },
  {
   "cell_type": "markdown",
   "metadata": {},
   "source": [
    "## How to use"
   ]
  },
  {
   "cell_type": "markdown",
   "metadata": {},
   "source": [
    "Import the package"
   ]
  },
  {
   "cell_type": "code",
   "execution_count": null,
   "metadata": {},
   "outputs": [],
   "source": [
    "from ids_finder.utils import *\n",
    "from ids_finder.core import *"
   ]
  },
  {
   "cell_type": "markdown",
   "metadata": {},
   "source": [
    "## Motivations"
   ]
  },
  {
   "cell_type": "markdown",
   "metadata": {},
   "source": []
  },
  {
   "cell_type": "markdown",
   "metadata": {},
   "source": [
    "## TODOs\n",
    "\n",
    "- Features\n",
    "    - [ ] investigate `d_star` too large\n",
    "- [ ] Distribution of |B| over radius\n",
    "- [ ] Compare with other methods of identifying IDs\n",
    "    - [ ] Verify with other methods of identifying IDs\n",
    "- [ ] Incorporate solar wind propagation model\n",
    "    - [ ] Verify with solar wind propagation model\n",
    "        - [ ] Coordinate transformation\n",
    "- [ ] Kedro\n",
    "    - [ ] Modular pipelines\n",
    "    - [ ] Incorporate `lineapy`\n"
   ]
  },
  {
   "cell_type": "markdown",
   "metadata": {},
   "source": [
    "## Optimizations"
   ]
  },
  {
   "cell_type": "code",
   "execution_count": 3,
   "metadata": {},
   "outputs": [
    {
     "data": {
      "text/markdown": [
       "python -X importtime -c 'from ids_finder.pipelines.juno.pipeline import download_juno_data, preprocess_jno' 2> import.log\n"
      ],
      "text/plain": [
       "<IPython.core.display.Markdown object>"
      ]
     },
     "metadata": {},
     "output_type": "display_data"
    }
   ],
   "source": [
    "%%markdown\n",
    "python -X importtime -c 'from ids_finder.pipelines.juno.pipeline import download_juno_data, preprocess_jno' 2> import.log && tuna import.log"
   ]
  },
  {
   "cell_type": "markdown",
   "metadata": {},
   "source": []
  }
 ],
 "metadata": {
  "kernelspec": {
   "display_name": "python3",
   "language": "python",
   "name": "python3"
  },
  "language_info": {
   "codemirror_mode": {
    "name": "ipython",
    "version": 3
   },
   "file_extension": ".py",
   "mimetype": "text/x-python",
   "name": "python",
   "nbconvert_exporter": "python",
   "pygments_lexer": "ipython3",
   "version": "3.10.12"
  }
 },
 "nbformat": 4,
 "nbformat_minor": 4
}
