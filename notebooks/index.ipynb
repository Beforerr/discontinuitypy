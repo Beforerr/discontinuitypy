{
 "cells": [
  {
   "cell_type": "raw",
   "metadata": {},
   "source": [
    "---\n",
    "description: Hello planets. Let us see if we could find magnetic discontinuities in\n",
    "  the solar wind when traveling the interplanetary space.\n",
    "output-file: index.html\n",
    "title: Planets? Yes!\n",
    "\n",
    "---\n",
    "\n"
   ]
  },
  {
   "cell_type": "markdown",
   "metadata": {},
   "source": [
    "## Install"
   ]
  },
  {
   "cell_type": "markdown",
   "metadata": {},
   "source": [
    "```sh\n",
    "pip install ids-finder\n",
    "```"
   ]
  },
  {
   "cell_type": "markdown",
   "metadata": {},
   "source": [
    "## How to use"
   ]
  },
  {
   "cell_type": "markdown",
   "metadata": {},
   "source": [
    "Import the package"
   ]
  },
  {
   "cell_type": "code",
   "execution_count": 3,
   "metadata": {},
   "outputs": [],
   "source": [
    "from ids_finder.utils import *\n",
    "from ids_finder.core import *"
   ]
  },
  {
   "cell_type": "markdown",
   "metadata": {},
   "source": [
    "## Motivations"
   ]
  },
  {
   "cell_type": "markdown",
   "metadata": {},
   "source": [
    "## Methods\n",
    "\n",
    "Traditional methods for ID identiﬁcation, such as the criteria of \n",
    "\n",
    "- Burlaga & Ness (1969; B-criterion) : a directional change of the magnetic ﬁeld larger than 30° during 60 s\n",
    "- Tsurutani & Smith (1979; TS-criterion) : $|ΔB|/|B| \\geq 0.5$ within 3 minutes\n",
    "\n",
    "Mostly rely on magnetic ﬁeld variations with a certain time lag. B-criterion has, as its main condition.\n",
    "\n",
    "In their methods, the IDs below the thresholds are artiﬁcially abandoned. Therefore, identiﬁcation criteria may affect the statistical results, and there is likely to be a discrepancy between the ﬁndings via B-criterion and TS- criterion."
   ]
  },
  {
   "cell_type": "markdown",
   "metadata": {},
   "source": [
    "### ID identification (limited feature extraction / anomaly detection)\n",
    "\n",
    "Liu's method : The ﬁrst two conditions guar- antee that the ﬁeld changes of the IDs identiﬁed are large enough to be distinguished from the stochastic ﬂuctuations on magnetic ﬁelds, while the third is a supplementary condition to reduce the uncertainty of recognition.\n",
    "\n",
    "\n",
    "$$ \\textrm{Index}_1 = \\frac{\\sigma(\\vec{B})}{Max(\\sigma(\\vec{B}_-),\\sigma(\\vec{B}_+))} $$\n",
    "\n",
    "$$ \\textrm{Index}_2 = \\frac{\\sigma(\\vec{B}_- + \\vec{B}_+)} {\\sigma(\\vec{B}_-) + \\sigma(\\vec{B}_+)} $$\n",
    "\n",
    "$$ \\textrm{Index}_3 = \\frac{| \\Delta \\vec{B} |}{|B_{bg}|} $$\n",
    "\n",
    "$$ \\textrm{Index}_1 \\ge 2, \\textrm{Index}_2 \\ge 1, \\textrm{Index}_3 \\ge 0.1 $$"
   ]
  },
  {
   "cell_type": "markdown",
   "metadata": {},
   "source": [
    "## Conventions\n",
    "\n",
    "As we are dealing with multiple spacecraft, we need to be careful about naming conventions. Here are the conventions we use in this project.\n",
    "\n",
    "- `sat_id`: name of the spacecraft. We also use abbreviation, for example\n",
    "    - `sta` for `STEREO-A`\n",
    "    - `thb` for `ARTEMIS-B`\n",
    "- `sat_state`: state data of the spacecraft\n",
    "- `b_vl`: maxium variance vector of the magnetic field, (major eigenvector)\n",
    "\n",
    "### Columns naming conventions\n",
    "- `radial_distance`: radial distance of the spacecraft, in units of $AU$\n",
    "- `sw_speed`: solar wind plasma speed, in units of $km/s$\n",
    "- `sw_elevation`: solar wind elevation angle, in units of $\\degree$\n",
    "- `sw_azimuth`: solar wind azimuth angle, in units of $\\degree$\n",
    "- `sw_vel_{r,t,n}`: solar wind plasma speed in the RTN coordinate system, in units of $km/s$\n",
    "- `sw_vel_lmn_{1,2,3}`: solar wind plasma speed in the LMN coordinate system, in units of $km/s$\n",
    "    - `sw_vel_l`: abbreviation for `sw_vel_lmn_1`\n",
    "    - `sw_vel_mn`\n",
    "- `sw_density`: solar wind plasma density, in units of $1/cm^{3}$\n",
    "- `sw_temperature`: solar wind plasma temperature, in units of $K$\n",
    "- `b_vecL_{r,t,n}`: maxium variance vector of the magnetic field in the RTN coordinate system\n",
    "- `b_{r,t,n}`: magnetic field in the RTN coordinate system\n",
    "- `b_mag`: magnetic field magnitude\n",
    "- `model_b_{r,t,n}`: modelled magnetic field in the RTN coordinate system\n",
    "\n",
    "Notes: we recommend use unique names for each variable, for example, `sw_speed` instead of `speed`. Because it is easier to search and replace the variable names in the code whenever necessary.\n",
    "\n",
    "For the dataframe unit, we use\n",
    "\n",
    "- length : $km$\n",
    "- time : $s$\n",
    "- magnetic field : $nT$\n",
    "- current : $A/m^2$"
   ]
  },
  {
   "cell_type": "markdown",
   "metadata": {},
   "source": [
    "## Optimizations"
   ]
  },
  {
   "cell_type": "code",
   "execution_count": 3,
   "metadata": {},
   "outputs": [
    {
     "data": {
      "text/markdown": [
       "python -X importtime -c 'from ids_finder.pipelines.juno.pipeline import download_juno_data, preprocess_jno' 2> import.log\n"
      ],
      "text/plain": [
       "<IPython.core.display.Markdown object>"
      ]
     },
     "metadata": {},
     "output_type": "display_data"
    }
   ],
   "source": [
    "%%markdown\n",
    "python -X importtime -c 'from ids_finder.pipelines.juno.pipeline import download_juno_data, preprocess_jno' 2> import.log && tuna import.log"
   ]
  },
  {
   "cell_type": "markdown",
   "metadata": {},
   "source": []
  },
  {
   "cell_type": "markdown",
   "metadata": {},
   "source": [
    "## TODOs\n",
    "\n",
    "- Analysis\n",
    "    - [ ] Check `STEREO-A` and `ARTEMIS-B` data\n",
    "- Identifaction\n",
    "    - [ ] Smoothing is important?\n",
    "    - [ ] Check change point algorithm\n",
    "- [ ] Refactor \n",
    "    - [ ] `process_candidates` to exclude `sat_state` logics\n",
    "    - [ ] renaming feature layer `candidates`\n",
    "- Features\n",
    "    - [ ] investigate `d_star` too large\n",
    "- [ ] Distribution of |B| over radius\n",
    "- [ ] Compare with other methods of identifying IDs\n",
    "    - [ ] Verify with other methods of identifying IDs\n",
    "- [ ] Incorporate solar wind propagation model\n",
    "    - [ ] Verify with solar wind propagation model\n",
    "        - [ ] Coordinate transformation\n",
    "- [ ] Kedro\n",
    "    - [ ] Modular pipelines\n",
    "    - [ ] Incorporate `lineapy`\n",
    "\n",
    "### bugs\n",
    "\n",
    "- [ ] juno `sw_temperature` type"
   ]
  },
  {
   "cell_type": "markdown",
   "metadata": {},
   "source": []
  }
 ],
 "metadata": {
  "kernelspec": {
   "display_name": "python3",
   "language": "python",
   "name": "python3"
  },
  "language_info": {
   "codemirror_mode": {
    "name": "ipython",
    "version": 3
   },
   "file_extension": ".py",
   "mimetype": "text/x-python",
   "name": "python",
   "nbconvert_exporter": "python",
   "pygments_lexer": "ipython3",
   "version": "3.10.12"
  }
 },
 "nbformat": 4,
 "nbformat_minor": 4
}
