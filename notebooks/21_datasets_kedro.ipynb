{
 "cells": [
  {
   "cell_type": "markdown",
   "metadata": {},
   "source": [
    "---\n",
    "title: \"Datasets\"\n",
    "description: Extended Dataset Class with support for `kedro`\n",
    "---"
   ]
  },
  {
   "cell_type": "code",
   "execution_count": null,
   "metadata": {},
   "outputs": [],
   "source": [
    "#| default_exp datasets_kedro\n",
    "#| export\n",
    "from discontinuitypy.datasets import IDsDataset\n",
    "\n",
    "from datetime import timedelta\n",
    "\n",
    "import polars as pl\n",
    "import polars.selectors as cs\n",
    "\n",
    "from kedro.io import DataCatalog\n",
    "from discontinuitypy.utils.basic import concat_partitions"
   ]
  },
  {
   "cell_type": "code",
   "execution_count": null,
   "metadata": {},
   "outputs": [],
   "source": [
    "# | export\n",
    "class E1IDsDataset(IDsDataset):\n",
    "    sat_id: str\n",
    "    tau: timedelta\n",
    "    ts: timedelta = timedelta(seconds=1)"
   ]
  },
  {
   "cell_type": "code",
   "execution_count": null,
   "metadata": {},
   "outputs": [],
   "source": [
    "# | export\n",
    "class cIDsDataset(E1IDsDataset):\n",
    "    catalog: DataCatalog = None\n",
    "\n",
    "    _load_data_format = \"{sat}.MAG.primary_data_{ts}\"\n",
    "    _load_events_format = \"events.{sat}_{ts}_{tau}\"\n",
    "    or_df: pl.DataFrame | None = None  # occurence rate\n",
    "    or_df_normalized: pl.DataFrame | None = None  # normalized occurence rate\n",
    "\n",
    "    def __init__(self, **data):\n",
    "        super().__init__(**data)\n",
    "\n",
    "        tau_str = f\"tau_{self.tau.seconds}s\"\n",
    "        ts_mag_str = f\"ts_{self.ts.seconds}s\"\n",
    "\n",
    "        self._tau_str = tau_str\n",
    "        self._ts_mag_str = ts_mag_str\n",
    "\n",
    "        self.events_format = self._load_events_format.format(\n",
    "            sat=self.sat_id, ts=ts_mag_str, tau=tau_str\n",
    "        )\n",
    "\n",
    "        if data.get(\"data_format\") is None:\n",
    "            self.data_format = self._load_data_format.format(\n",
    "                sat=self.sat_id, ts=ts_mag_str\n",
    "            )\n",
    "\n",
    "        if self.candidates is None:\n",
    "            self.load_events()\n",
    "        if self.mag_data is None:\n",
    "            self.load_data()\n",
    "\n",
    "    def load_events(self):\n",
    "        data_format = self.events_format\n",
    "        self.candidates = (\n",
    "            self.catalog.load(data_format)\n",
    "            .fill_nan(None)\n",
    "            .with_columns(\n",
    "                cs.float().cast(pl.Float64),\n",
    "                sat=pl.lit(self.sat_id),\n",
    "            )\n",
    "            .collect()\n",
    "        )\n",
    "\n",
    "    def load_data(self):\n",
    "        data_format = self.data_format\n",
    "        self.mag_data = concat_partitions(self.catalog.load(data_format))"
   ]
  }
 ],
 "metadata": {
  "kernelspec": {
   "display_name": "Python 3",
   "language": "python",
   "name": "python3"
  },
  "language_info": {
   "codemirror_mode": {
    "name": "ipython",
    "version": 3
   },
   "file_extension": ".py",
   "mimetype": "text/x-python",
   "name": "python",
   "nbconvert_exporter": "python",
   "pygments_lexer": "ipython3",
   "version": "3.10.13"
  }
 },
 "nbformat": 4,
 "nbformat_minor": 2
}
