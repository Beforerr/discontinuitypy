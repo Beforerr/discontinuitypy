{
 "cells": [
  {
   "cell_type": "markdown",
   "metadata": {},
   "source": [
    "---\n",
    "title: IDs from STEREO\n",
    "format:\n",
    "  html:\n",
    "    code-fold: true\n",
    "output-file: stereo.html\n",
    "---"
   ]
  },
  {
   "cell_type": "markdown",
   "metadata": {},
   "source": [
    "Need to run command in shell first as `pipeline` is project-specific command\n",
    "\n",
    "```{sh}\n",
    "kedro pipeline create stearo\n",
    "```\n",
    "\n",
    "To get STEREO-A state data, run `kedro run --to-outputs=sta.primary_state_rtn_1h`\n",
    "\n",
    "To get candidates data, run `kedro run --from-inputs=sta.feature_1s --to-outputs=candidates.sta_1s`"
   ]
  },
  {
   "cell_type": "code",
   "execution_count": null,
   "metadata": {},
   "outputs": [],
   "source": [
    "#| default_exp pipelines/stearo/pipeline"
   ]
  },
  {
   "cell_type": "code",
   "execution_count": null,
   "metadata": {},
   "outputs": [],
   "source": [
    "#| hide\n",
    "%load_ext autoreload\n",
    "%autoreload 2"
   ]
  },
  {
   "cell_type": "code",
   "execution_count": null,
   "metadata": {},
   "outputs": [],
   "source": [
    "#| code-summary: import all the packages needed for the project\n",
    "#| export\n",
    "#| output: hide\n",
    "import os\n",
    "\n",
    "from fastcore.utils import *\n",
    "from fastcore.test import *\n",
    "from ids_finder.utils.basic import *\n",
    "from ids_finder.core import *\n",
    "\n",
    "import polars as pl\n",
    "import pandas\n",
    "import numpy as np\n",
    "\n",
    "from datetime import timedelta\n",
    "from loguru import logger\n",
    "\n",
    "from typing import Callable, Dict\n",
    "\n",
    "os.environ['SPEDAS_DATA_DIR'] = f\"{os.environ['HOME']}/data\""
   ]
  },
  {
   "cell_type": "code",
   "execution_count": null,
   "metadata": {},
   "outputs": [],
   "source": [
    "#| export\n",
    "from ids_finder.core import extract_features"
   ]
  },
  {
   "cell_type": "markdown",
   "metadata": {},
   "source": [
    "#### `Kerdo`"
   ]
  },
  {
   "cell_type": "code",
   "execution_count": null,
   "metadata": {},
   "outputs": [],
   "source": [
    "#| export\n",
    "from kedro.pipeline import Pipeline, node\n",
    "from kedro.pipeline.modular_pipeline import pipeline"
   ]
  },
  {
   "cell_type": "code",
   "execution_count": null,
   "metadata": {},
   "outputs": [
    {
     "data": {
      "text/html": [
       "<pre style=\"white-space:pre;overflow-x:auto;line-height:normal;font-family:Menlo,'DejaVu Sans Mono',consolas,'Courier New',monospace\"><span style=\"color: #7fbfbf; text-decoration-color: #7fbfbf\">[10/16/23 17:08:34] </span><span style=\"color: #800000; text-decoration-color: #800000\">WARNING </span> KedroDeprecationWarning: <span style=\"color: #008000; text-decoration-color: #008000\">'ParquetDataSet'</span> has been renamed to          <a href=\"file:///Users/zijin/mambaforge/envs/cool_planet/lib/python3.10/warnings.py\" target=\"_blank\"><span style=\"color: #7f7f7f; text-decoration-color: #7f7f7f\">warnings.py</span></a><span style=\"color: #7f7f7f; text-decoration-color: #7f7f7f\">:</span><a href=\"file:///Users/zijin/mambaforge/envs/cool_planet/lib/python3.10/warnings.py#109\" target=\"_blank\"><span style=\"color: #7f7f7f; text-decoration-color: #7f7f7f\">109</span></a>\n",
       "<span style=\"color: #7fbfbf; text-decoration-color: #7fbfbf\">                    </span>         <span style=\"color: #008000; text-decoration-color: #008000\">'ParquetDataset'</span>, and the alias will be removed in Kedro-Datasets      <span style=\"color: #7f7f7f; text-decoration-color: #7f7f7f\">               </span>\n",
       "<span style=\"color: #7fbfbf; text-decoration-color: #7fbfbf\">                    </span>         <span style=\"color: #008080; text-decoration-color: #008080; font-weight: bold\">2.0</span>.<span style=\"color: #008080; text-decoration-color: #008080; font-weight: bold\">0</span>                                                                  <span style=\"color: #7f7f7f; text-decoration-color: #7f7f7f\">               </span>\n",
       "<span style=\"color: #7fbfbf; text-decoration-color: #7fbfbf\">                    </span>                                                                                <span style=\"color: #7f7f7f; text-decoration-color: #7f7f7f\">               </span>\n",
       "</pre>\n"
      ],
      "text/plain": [
       "\u001b[2;36m[10/16/23 17:08:34]\u001b[0m\u001b[2;36m \u001b[0m\u001b[31mWARNING \u001b[0m KedroDeprecationWarning: \u001b[32m'ParquetDataSet'\u001b[0m has been renamed to          \u001b]8;id=392624;file:///Users/zijin/mambaforge/envs/cool_planet/lib/python3.10/warnings.py\u001b\\\u001b[2mwarnings.py\u001b[0m\u001b]8;;\u001b\\\u001b[2m:\u001b[0m\u001b]8;id=471812;file:///Users/zijin/mambaforge/envs/cool_planet/lib/python3.10/warnings.py#109\u001b\\\u001b[2m109\u001b[0m\u001b]8;;\u001b\\\n",
       "\u001b[2;36m                    \u001b[0m         \u001b[32m'ParquetDataset'\u001b[0m, and the alias will be removed in Kedro-Datasets      \u001b[2m               \u001b[0m\n",
       "\u001b[2;36m                    \u001b[0m         \u001b[1;36m2.0\u001b[0m.\u001b[1;36m0\u001b[0m                                                                  \u001b[2m               \u001b[0m\n",
       "\u001b[2;36m                    \u001b[0m                                                                                \u001b[2m               \u001b[0m\n"
      ]
     },
     "metadata": {},
     "output_type": "display_data"
    },
    {
     "data": {
      "text/html": [
       "<pre style=\"white-space:pre;overflow-x:auto;line-height:normal;font-family:Menlo,'DejaVu Sans Mono',consolas,'Courier New',monospace\"><span style=\"color: #7fbfbf; text-decoration-color: #7fbfbf\">                    </span><span style=\"color: #800000; text-decoration-color: #800000\">WARNING </span> FutureWarning: Defining the <span style=\"color: #008000; text-decoration-color: #008000\">'layer'</span> attribute at the top level is      <a href=\"file:///Users/zijin/mambaforge/envs/cool_planet/lib/python3.10/warnings.py\" target=\"_blank\"><span style=\"color: #7f7f7f; text-decoration-color: #7f7f7f\">warnings.py</span></a><span style=\"color: #7f7f7f; text-decoration-color: #7f7f7f\">:</span><a href=\"file:///Users/zijin/mambaforge/envs/cool_planet/lib/python3.10/warnings.py#109\" target=\"_blank\"><span style=\"color: #7f7f7f; text-decoration-color: #7f7f7f\">109</span></a>\n",
       "<span style=\"color: #7fbfbf; text-decoration-color: #7fbfbf\">                    </span>         deprecated and will be removed in Kedro <span style=\"color: #008080; text-decoration-color: #008080; font-weight: bold\">0.19</span>.<span style=\"color: #008080; text-decoration-color: #008080; font-weight: bold\">0</span>. Please move <span style=\"color: #008000; text-decoration-color: #008000\">'layer'</span>    <span style=\"color: #7f7f7f; text-decoration-color: #7f7f7f\">               </span>\n",
       "<span style=\"color: #7fbfbf; text-decoration-color: #7fbfbf\">                    </span>         inside the <span style=\"color: #008000; text-decoration-color: #008000\">'metadata'</span> -&gt; <span style=\"color: #008000; text-decoration-color: #008000\">'kedro-viz'</span> attributes. See                   <span style=\"color: #7f7f7f; text-decoration-color: #7f7f7f\">               </span>\n",
       "<span style=\"color: #7fbfbf; text-decoration-color: #7fbfbf\">                    </span>         <span style=\"color: #0000ff; text-decoration-color: #0000ff; text-decoration: underline\">https://docs.kedro.org/en/latest/visualisation/kedro-viz_visualisation</span> <span style=\"color: #7f7f7f; text-decoration-color: #7f7f7f\">               </span>\n",
       "<span style=\"color: #7fbfbf; text-decoration-color: #7fbfbf\">                    </span>         <span style=\"color: #0000ff; text-decoration-color: #0000ff; text-decoration: underline\">.html#visualise-layers</span> for more information.                           <span style=\"color: #7f7f7f; text-decoration-color: #7f7f7f\">               </span>\n",
       "<span style=\"color: #7fbfbf; text-decoration-color: #7fbfbf\">                    </span>                                                                                <span style=\"color: #7f7f7f; text-decoration-color: #7f7f7f\">               </span>\n",
       "</pre>\n"
      ],
      "text/plain": [
       "\u001b[2;36m                   \u001b[0m\u001b[2;36m \u001b[0m\u001b[31mWARNING \u001b[0m FutureWarning: Defining the \u001b[32m'layer'\u001b[0m attribute at the top level is      \u001b]8;id=22531;file:///Users/zijin/mambaforge/envs/cool_planet/lib/python3.10/warnings.py\u001b\\\u001b[2mwarnings.py\u001b[0m\u001b]8;;\u001b\\\u001b[2m:\u001b[0m\u001b]8;id=834025;file:///Users/zijin/mambaforge/envs/cool_planet/lib/python3.10/warnings.py#109\u001b\\\u001b[2m109\u001b[0m\u001b]8;;\u001b\\\n",
       "\u001b[2;36m                    \u001b[0m         deprecated and will be removed in Kedro \u001b[1;36m0.19\u001b[0m.\u001b[1;36m0\u001b[0m. Please move \u001b[32m'layer'\u001b[0m    \u001b[2m               \u001b[0m\n",
       "\u001b[2;36m                    \u001b[0m         inside the \u001b[32m'metadata'\u001b[0m -> \u001b[32m'kedro-viz'\u001b[0m attributes. See                   \u001b[2m               \u001b[0m\n",
       "\u001b[2;36m                    \u001b[0m         \u001b[4;94mhttps://docs.kedro.org/en/latest/visualisation/kedro-viz_visualisation\u001b[0m \u001b[2m               \u001b[0m\n",
       "\u001b[2;36m                    \u001b[0m         \u001b[4;94m.html#visualise-layers\u001b[0m for more information.                           \u001b[2m               \u001b[0m\n",
       "\u001b[2;36m                    \u001b[0m                                                                                \u001b[2m               \u001b[0m\n"
      ]
     },
     "metadata": {},
     "output_type": "display_data"
    },
    {
     "data": {
      "text/html": [
       "<pre style=\"white-space:pre;overflow-x:auto;line-height:normal;font-family:Menlo,'DejaVu Sans Mono',consolas,'Courier New',monospace\"><span style=\"color: #7fbfbf; text-decoration-color: #7fbfbf\">                    </span><span style=\"color: #800000; text-decoration-color: #800000\">WARNING </span> KedroDeprecationWarning: <span style=\"color: #008000; text-decoration-color: #008000\">'CSVDataSet'</span> has been renamed to              <a href=\"file:///Users/zijin/mambaforge/envs/cool_planet/lib/python3.10/warnings.py\" target=\"_blank\"><span style=\"color: #7f7f7f; text-decoration-color: #7f7f7f\">warnings.py</span></a><span style=\"color: #7f7f7f; text-decoration-color: #7f7f7f\">:</span><a href=\"file:///Users/zijin/mambaforge/envs/cool_planet/lib/python3.10/warnings.py#109\" target=\"_blank\"><span style=\"color: #7f7f7f; text-decoration-color: #7f7f7f\">109</span></a>\n",
       "<span style=\"color: #7fbfbf; text-decoration-color: #7fbfbf\">                    </span>         <span style=\"color: #008000; text-decoration-color: #008000\">'CSVDataset'</span>, and the alias will be removed in Kedro-Datasets <span style=\"color: #008080; text-decoration-color: #008080; font-weight: bold\">2.0</span>.<span style=\"color: #008080; text-decoration-color: #008080; font-weight: bold\">0</span>    <span style=\"color: #7f7f7f; text-decoration-color: #7f7f7f\">               </span>\n",
       "<span style=\"color: #7fbfbf; text-decoration-color: #7fbfbf\">                    </span>                                                                                <span style=\"color: #7f7f7f; text-decoration-color: #7f7f7f\">               </span>\n",
       "</pre>\n"
      ],
      "text/plain": [
       "\u001b[2;36m                   \u001b[0m\u001b[2;36m \u001b[0m\u001b[31mWARNING \u001b[0m KedroDeprecationWarning: \u001b[32m'CSVDataSet'\u001b[0m has been renamed to              \u001b]8;id=788510;file:///Users/zijin/mambaforge/envs/cool_planet/lib/python3.10/warnings.py\u001b\\\u001b[2mwarnings.py\u001b[0m\u001b]8;;\u001b\\\u001b[2m:\u001b[0m\u001b]8;id=955333;file:///Users/zijin/mambaforge/envs/cool_planet/lib/python3.10/warnings.py#109\u001b\\\u001b[2m109\u001b[0m\u001b]8;;\u001b\\\n",
       "\u001b[2;36m                    \u001b[0m         \u001b[32m'CSVDataset'\u001b[0m, and the alias will be removed in Kedro-Datasets \u001b[1;36m2.0\u001b[0m.\u001b[1;36m0\u001b[0m    \u001b[2m               \u001b[0m\n",
       "\u001b[2;36m                    \u001b[0m                                                                                \u001b[2m               \u001b[0m\n"
      ]
     },
     "metadata": {},
     "output_type": "display_data"
    },
    {
     "data": {
      "text/html": [
       "<pre style=\"white-space:pre;overflow-x:auto;line-height:normal;font-family:Menlo,'DejaVu Sans Mono',consolas,'Courier New',monospace\"><span style=\"color: #7fbfbf; text-decoration-color: #7fbfbf\">[10/16/23 17:08:35] </span><span style=\"color: #800000; text-decoration-color: #800000\">WARNING </span> KedroDeprecationWarning: <span style=\"color: #008000; text-decoration-color: #008000\">'GenericDataSet'</span> has been renamed to          <a href=\"file:///Users/zijin/mambaforge/envs/cool_planet/lib/python3.10/warnings.py\" target=\"_blank\"><span style=\"color: #7f7f7f; text-decoration-color: #7f7f7f\">warnings.py</span></a><span style=\"color: #7f7f7f; text-decoration-color: #7f7f7f\">:</span><a href=\"file:///Users/zijin/mambaforge/envs/cool_planet/lib/python3.10/warnings.py#109\" target=\"_blank\"><span style=\"color: #7f7f7f; text-decoration-color: #7f7f7f\">109</span></a>\n",
       "<span style=\"color: #7fbfbf; text-decoration-color: #7fbfbf\">                    </span>         <span style=\"color: #008000; text-decoration-color: #008000\">'GenericDataset'</span>, and the alias will be removed in Kedro-Datasets      <span style=\"color: #7f7f7f; text-decoration-color: #7f7f7f\">               </span>\n",
       "<span style=\"color: #7fbfbf; text-decoration-color: #7fbfbf\">                    </span>         <span style=\"color: #008080; text-decoration-color: #008080; font-weight: bold\">2.0</span>.<span style=\"color: #008080; text-decoration-color: #008080; font-weight: bold\">0</span>                                                                  <span style=\"color: #7f7f7f; text-decoration-color: #7f7f7f\">               </span>\n",
       "<span style=\"color: #7fbfbf; text-decoration-color: #7fbfbf\">                    </span>                                                                                <span style=\"color: #7f7f7f; text-decoration-color: #7f7f7f\">               </span>\n",
       "</pre>\n"
      ],
      "text/plain": [
       "\u001b[2;36m[10/16/23 17:08:35]\u001b[0m\u001b[2;36m \u001b[0m\u001b[31mWARNING \u001b[0m KedroDeprecationWarning: \u001b[32m'GenericDataSet'\u001b[0m has been renamed to          \u001b]8;id=298216;file:///Users/zijin/mambaforge/envs/cool_planet/lib/python3.10/warnings.py\u001b\\\u001b[2mwarnings.py\u001b[0m\u001b]8;;\u001b\\\u001b[2m:\u001b[0m\u001b]8;id=711730;file:///Users/zijin/mambaforge/envs/cool_planet/lib/python3.10/warnings.py#109\u001b\\\u001b[2m109\u001b[0m\u001b]8;;\u001b\\\n",
       "\u001b[2;36m                    \u001b[0m         \u001b[32m'GenericDataset'\u001b[0m, and the alias will be removed in Kedro-Datasets      \u001b[2m               \u001b[0m\n",
       "\u001b[2;36m                    \u001b[0m         \u001b[1;36m2.0\u001b[0m.\u001b[1;36m0\u001b[0m                                                                  \u001b[2m               \u001b[0m\n",
       "\u001b[2;36m                    \u001b[0m                                                                                \u001b[2m               \u001b[0m\n"
      ]
     },
     "metadata": {},
     "output_type": "display_data"
    },
    {
     "data": {
      "text/html": [
       "<pre style=\"white-space:pre;overflow-x:auto;line-height:normal;font-family:Menlo,'DejaVu Sans Mono',consolas,'Courier New',monospace\"></pre>\n"
      ],
      "text/plain": []
     },
     "metadata": {},
     "output_type": "display_data"
    },
    {
     "data": {
      "text/plain": [
       "\n",
       "\u001b[1m[\u001b[0m\n",
       "    \u001b[32m'JNO_index'\u001b[0m,\n",
       "    \u001b[32m'jno.raw_jno_ss_se_1sec'\u001b[0m,\n",
       "    \u001b[32m'jno.inter_jno_ss_se_1s'\u001b[0m,\n",
       "    \u001b[32m'jno.raw_state'\u001b[0m,\n",
       "    \u001b[32m'model.raw_jno_ss_se_1min'\u001b[0m,\n",
       "    \u001b[32m'model.preprocessed_jno_ss_se_1min'\u001b[0m,\n",
       "    \u001b[32m'candidates_all_1s'\u001b[0m,\n",
       "    \u001b[32m'sta.raw_sta_state'\u001b[0m,\n",
       "    \u001b[32m'parameters'\u001b[0m,\n",
       "    \u001b[32m'params:tau'\u001b[0m,\n",
       "    \u001b[32m'params:jno_start_date'\u001b[0m,\n",
       "    \u001b[32m'params:jno_end_date'\u001b[0m,\n",
       "    \u001b[32m'params:jno_1s_params'\u001b[0m,\n",
       "    \u001b[32m'params:jno_1s_params.bcols'\u001b[0m,\n",
       "    \u001b[32m'params:jno_1s_params.data_resolution'\u001b[0m,\n",
       "    \u001b[32m'params:jno.extract_params'\u001b[0m,\n",
       "    \u001b[32m'params:jno.extract_params.bcols'\u001b[0m,\n",
       "    \u001b[32m'params:jno.extract_params.data_resolution'\u001b[0m,\n",
       "    \u001b[32m'params:sta.extract_params'\u001b[0m,\n",
       "    \u001b[32m'params:sta.extract_params.bcols'\u001b[0m,\n",
       "    \u001b[32m'params:sta.extract_params.data_resolution'\u001b[0m\n",
       "\u001b[1m]\u001b[0m"
      ]
     },
     "execution_count": null,
     "metadata": {},
     "output_type": "execute_result"
    }
   ],
   "source": [
    "#| eval: false\n",
    "from ids_finder.utils.basic import load_catalog\n",
    "\n",
    "catalog = load_catalog()\n",
    "catalog.list()"
   ]
  },
  {
   "cell_type": "markdown",
   "metadata": {},
   "source": [
    "## Dataset Overview"
   ]
  },
  {
   "cell_type": "code",
   "execution_count": null,
   "metadata": {},
   "outputs": [
    {
     "data": {
      "text/html": [
       "<pre style=\"white-space:pre;overflow-x:auto;line-height:normal;font-family:Menlo,'DejaVu Sans Mono',consolas,'Courier New',monospace\"><span style=\"color: #7fbfbf; text-decoration-color: #7fbfbf\">                    </span><span style=\"color: #000080; text-decoration-color: #000080\">INFO    </span> Loading data from <span style=\"color: #008000; text-decoration-color: #008000\">'params:jno_start_date'</span> <span style=\"font-weight: bold\">(</span>MemoryDataset<span style=\"font-weight: bold\">)</span><span style=\"color: #808000; text-decoration-color: #808000\">...</span>       <a href=\"file:///Users/zijin/mambaforge/envs/cool_planet/lib/python3.10/site-packages/kedro/io/data_catalog.py\" target=\"_blank\"><span style=\"color: #7f7f7f; text-decoration-color: #7f7f7f\">data_catalog.py</span></a><span style=\"color: #7f7f7f; text-decoration-color: #7f7f7f\">:</span><a href=\"file:///Users/zijin/mambaforge/envs/cool_planet/lib/python3.10/site-packages/kedro/io/data_catalog.py#492\" target=\"_blank\"><span style=\"color: #7f7f7f; text-decoration-color: #7f7f7f\">492</span></a>\n",
       "</pre>\n"
      ],
      "text/plain": [
       "\u001b[2;36m                   \u001b[0m\u001b[2;36m \u001b[0m\u001b[34mINFO    \u001b[0m Loading data from \u001b[32m'params:jno_start_date'\u001b[0m \u001b[1m(\u001b[0mMemoryDataset\u001b[1m)\u001b[0m\u001b[33m...\u001b[0m       \u001b]8;id=770440;file:///Users/zijin/mambaforge/envs/cool_planet/lib/python3.10/site-packages/kedro/io/data_catalog.py\u001b\\\u001b[2mdata_catalog.py\u001b[0m\u001b]8;;\u001b\\\u001b[2m:\u001b[0m\u001b]8;id=228825;file:///Users/zijin/mambaforge/envs/cool_planet/lib/python3.10/site-packages/kedro/io/data_catalog.py#492\u001b\\\u001b[2m492\u001b[0m\u001b]8;;\u001b\\\n"
      ]
     },
     "metadata": {},
     "output_type": "display_data"
    },
    {
     "data": {
      "text/html": [
       "<pre style=\"white-space:pre;overflow-x:auto;line-height:normal;font-family:Menlo,'DejaVu Sans Mono',consolas,'Courier New',monospace\"><span style=\"color: #7fbfbf; text-decoration-color: #7fbfbf\">                    </span><span style=\"color: #000080; text-decoration-color: #000080\">INFO    </span> Loading data from <span style=\"color: #008000; text-decoration-color: #008000\">'params:jno_end_date'</span> <span style=\"font-weight: bold\">(</span>MemoryDataset<span style=\"font-weight: bold\">)</span><span style=\"color: #808000; text-decoration-color: #808000\">...</span>         <a href=\"file:///Users/zijin/mambaforge/envs/cool_planet/lib/python3.10/site-packages/kedro/io/data_catalog.py\" target=\"_blank\"><span style=\"color: #7f7f7f; text-decoration-color: #7f7f7f\">data_catalog.py</span></a><span style=\"color: #7f7f7f; text-decoration-color: #7f7f7f\">:</span><a href=\"file:///Users/zijin/mambaforge/envs/cool_planet/lib/python3.10/site-packages/kedro/io/data_catalog.py#492\" target=\"_blank\"><span style=\"color: #7f7f7f; text-decoration-color: #7f7f7f\">492</span></a>\n",
       "</pre>\n"
      ],
      "text/plain": [
       "\u001b[2;36m                   \u001b[0m\u001b[2;36m \u001b[0m\u001b[34mINFO    \u001b[0m Loading data from \u001b[32m'params:jno_end_date'\u001b[0m \u001b[1m(\u001b[0mMemoryDataset\u001b[1m)\u001b[0m\u001b[33m...\u001b[0m         \u001b]8;id=897474;file:///Users/zijin/mambaforge/envs/cool_planet/lib/python3.10/site-packages/kedro/io/data_catalog.py\u001b\\\u001b[2mdata_catalog.py\u001b[0m\u001b]8;;\u001b\\\u001b[2m:\u001b[0m\u001b]8;id=969811;file:///Users/zijin/mambaforge/envs/cool_planet/lib/python3.10/site-packages/kedro/io/data_catalog.py#492\u001b\\\u001b[2m492\u001b[0m\u001b]8;;\u001b\\\n"
      ]
     },
     "metadata": {},
     "output_type": "display_data"
    },
    {
     "name": "stdout",
     "output_type": "stream",
     "text": [
      "2011-08-25 2016-06-30\n"
     ]
    }
   ],
   "source": [
    "jno_start_date = catalog.load('params:jno_start_date')\n",
    "jno_end_date = catalog.load('params:jno_end_date')\n",
    "print(jno_start_date, jno_end_date)\n",
    "trange = [jno_start_date, jno_end_date]\n",
    "test_trange = [\"2011-08-25\", \"2011-09-01\"]"
   ]
  },
  {
   "cell_type": "markdown",
   "metadata": {},
   "source": [
    "### Magnetic field data\n",
    "\n",
    "STEREO magnetic field is already in RTN coordinates, so no need to transform it.\n",
    "\n",
    "Download data using `pyspedas`, but load it using `pycdfpp` (using `pyspedas` to load the data directly into `xarray` is very slow)"
   ]
  },
  {
   "cell_type": "markdown",
   "metadata": {},
   "source": [
    "#### Downloading data"
   ]
  },
  {
   "cell_type": "code",
   "execution_count": null,
   "metadata": {},
   "outputs": [],
   "source": [
    "#| export\n",
    "import pyspedas"
   ]
  },
  {
   "cell_type": "code",
   "execution_count": null,
   "metadata": {},
   "outputs": [],
   "source": [
    "# | export\n",
    "def download_mag_data(\n",
    "    start: str = None,\n",
    "    end: str = None,\n",
    "    probe: str = \"a\",\n",
    ") -> Iterable[str]:\n",
    "    trange = [start, end]\n",
    "    files = pyspedas.stereo.mag(trange, downloadonly=True, probe=probe)\n",
    "    return files"
   ]
  },
  {
   "cell_type": "markdown",
   "metadata": {},
   "source": [
    "#### Preprocessing data"
   ]
  },
  {
   "cell_type": "code",
   "execution_count": null,
   "metadata": {},
   "outputs": [],
   "source": [
    "from ids_finder.utils.basic import cdf2pl\n",
    "from pipe import select\n",
    "from typing import Iterable"
   ]
  },
  {
   "cell_type": "code",
   "execution_count": null,
   "metadata": {},
   "outputs": [],
   "source": [
    "# | export\n",
    "def preprocess_mag_data(\n",
    "    raw_data: Iterable[str] = None,\n",
    "    ts: str = \"1s\",  # time resolution\n",
    ") -> pl.DataFrame:\n",
    "    \"\"\"\n",
    "    Preprocess the raw dataset (only minor transformations)\n",
    "\n",
    "    - Downsample the data to a given time resolution\n",
    "    - Applying naming conventions for columns\n",
    "    \"\"\"\n",
    "    every = pandas.Timedelta(ts)\n",
    "    period = 2 * every\n",
    "\n",
    "    df: pl.LazyFrame = pl.concat(raw_data | pmap(cdf2pl, var_name=\"BFIELD\"))\n",
    "\n",
    "    return (\n",
    "        df.pipe(resample, every=every, period=period)\n",
    "        .rename(\n",
    "            {\n",
    "                \"BFIELD_0\": \"b_r\",\n",
    "                \"BFIELD_1\": \"b_t\",\n",
    "                \"BFIELD_2\": \"b_n\",\n",
    "                \"BFIELD_3\": \"b_mag\",\n",
    "            }\n",
    "        )\n",
    "        .collect()\n",
    "    )"
   ]
  },
  {
   "cell_type": "markdown",
   "metadata": {},
   "source": [
    "#### Processing data"
   ]
  },
  {
   "cell_type": "code",
   "execution_count": null,
   "metadata": {},
   "outputs": [],
   "source": [
    "#| export\n",
    "def process_mag_data(\n",
    "    raw_data: pl.DataFrame,\n",
    "    ts: str = None,  # time resolution\n",
    "    coord: str = None,\n",
    ") -> Dict[str, pl.DataFrame]:\n",
    "    \"\"\"\n",
    "    Corresponding to primary data layer, where source data models are transformed into domain data models\n",
    "\n",
    "    - Partitioning data, for the sake of memory\n",
    "    \"\"\"\n",
    "    return partition_data_by_year(raw_data)"
   ]
  },
  {
   "cell_type": "markdown",
   "metadata": {},
   "source": [
    "#### Pipeline"
   ]
  },
  {
   "cell_type": "code",
   "execution_count": null,
   "metadata": {},
   "outputs": [],
   "source": [
    "#| export\n",
    "def create_mag_data_pipeline(\n",
    "    sat_id,\n",
    "    ts: str = \"1s\",  # time resolution,\n",
    "    tau: str = \"60s\",  # time window\n",
    "    **kwargs,\n",
    ") -> Pipeline:\n",
    "    node_download_mag_data = node(\n",
    "        download_mag_data,\n",
    "        inputs=dict(\n",
    "            start=\"params:start_date\",\n",
    "            end=\"params:end_date\",\n",
    "        ),\n",
    "        outputs=f\"raw_mag\",\n",
    "        name=f\"download_{sat_id.upper()}_magnetic_field_data\",\n",
    "    )\n",
    "\n",
    "    node_preprocess_mag_data = node(\n",
    "        preprocess_mag_data,\n",
    "        inputs=dict(\n",
    "            raw_data=f\"raw_mag\",\n",
    "        ),\n",
    "        outputs=f\"inter_mag_{ts}\",\n",
    "        name=f\"preprocess_{sat_id.upper()}_magnetic_field_data\",\n",
    "    )\n",
    "\n",
    "    node_process_mag_data = node(\n",
    "        process_mag_data,\n",
    "        inputs=f\"inter_mag_{ts}\",\n",
    "        outputs=f\"primary_mag_rtn_{ts}\",\n",
    "        name=f\"process_{sat_id.upper()}_magnetic_field_data\",\n",
    "    )\n",
    "\n",
    "    node_extract_features = node(\n",
    "        extract_features,\n",
    "        inputs=[f\"primary_mag_rtn_{ts}\", \"params:tau\", \"params:extract_params\"],\n",
    "        outputs=f\"feature_tau_{tau}\",\n",
    "        name=f\"extract_{sat_id}_features\",\n",
    "    )\n",
    "\n",
    "    nodes = [\n",
    "        node_download_mag_data,\n",
    "        node_preprocess_mag_data,\n",
    "        node_process_mag_data,\n",
    "        node_extract_features,\n",
    "    ]\n",
    "\n",
    "    pipelines = pipeline(\n",
    "        nodes,\n",
    "        namespace=sat_id,\n",
    "        parameters={\n",
    "            \"params:start_date\": \"params:jno_start_date\",\n",
    "            \"params:end_date\": \"params:jno_end_date\",\n",
    "            \"params:tau\": \"params:tau\",\n",
    "        },\n",
    "    )\n",
    "\n",
    "    return pipelines"
   ]
  },
  {
   "cell_type": "markdown",
   "metadata": {},
   "source": [
    "### State data\n",
    "We use [COHOWeb](https://omniweb.gsfc.nasa.gov/coho/) for state data.\n",
    "\n",
    "See [STEREO ASCII merged data](https://spdf.gsfc.nasa.gov/pub/data/stereo/ahead/l2/merged/aareadme_sta) and one sample file [here](https://spdf.gsfc.nasa.gov/pub/data/stereo/ahead/l2/merged/stereoa2011.asc\n",
    "\n",
    "Plasma in RTN (Radial-Tangential-Normal) coordinate system\n",
    "- Proton Flow Speed, km/sec\n",
    "- Proton Flow Elevation Angle/Latitude, deg.\n",
    "- Proton Flow Azimuth Angle/Longitude, deg.\n",
    "- Proton Density, n/cc\n",
    "- Proton Temperature, K)\n",
    "\n",
    "Notes\n",
    "- Note1: There is a big gap 2014/12/16 - 2015/07/20 in plasma data\n",
    "- Note2: There is a big gap 2015/03/21 - 2015/07/09 and 2015/10/27 - 2015/11/15 in mag data\n",
    "- Note that for missing data, fill values consisting of a blank followed by 9's which together constitute the format are used"
   ]
  },
  {
   "cell_type": "markdown",
   "metadata": {},
   "source": [
    "#### Get state data"
   ]
  },
  {
   "cell_type": "code",
   "execution_count": null,
   "metadata": {},
   "outputs": [],
   "source": [
    "#| export\n",
    "import pooch"
   ]
  },
  {
   "cell_type": "code",
   "execution_count": null,
   "metadata": {},
   "outputs": [],
   "source": [
    "# | export\n",
    "def download_stereo_state_data(tstart, tend):\n",
    "    download = partial(pooch.retrieve, known_hash=None)\n",
    "\n",
    "    start_time = pandas.Timestamp(tstart)\n",
    "    end_time = pandas.Timestamp(tend)\n",
    "\n",
    "    url = \"https://spdf.gsfc.nasa.gov/pub/data/stereo/ahead/l2/merged/stereoa{year}.asc\"\n",
    "\n",
    "    files = list(\n",
    "        range(start_time.year, end_time.year + 1)\n",
    "        | select(lambda x: url.format(year=x))\n",
    "        | select(download)\n",
    "    )\n",
    "    return files\n",
    "\n",
    "\n",
    "headers = \"\"\"Year\n",
    "DOY\n",
    "Hour\n",
    "Radial Distance, AU\n",
    "HGI Lat. of the S/C\n",
    "HGI Long. of the S/C\n",
    "IMF BR, nT (RTN)\n",
    "IMF BT, nT (RTN)\n",
    "IMF BN, nT (RTN)\n",
    "IMF B Scalar, nT\n",
    "SW Plasma Speed, km/s\n",
    "SW Lat. Angle RTN, deg.\n",
    "SW Long. Angle RTN, deg.\n",
    "SW Plasma Density, N/cm^3\n",
    "SW Plasma Temperature, K\n",
    "1.8-3.6 MeV H flux,LET\n",
    "4.0-6.0 MeV H flux,LET\n",
    "6.0-10.0 MeV H flux, LET\n",
    "10.0-12.0 MeV H flux,LET\n",
    "13.6-15.1 MeV H flux, HET\n",
    "14.9-17.1 MeV H flux, HET\n",
    "17.0-19.3 MeV H flux, HET\n",
    "20.8-23.8 MeV H flux, HET\n",
    "23.8-26.4 MeV H flux, HET\n",
    "26.3-29.7 MeV H flux, HET\n",
    "29.5-33.4 MeV H flux, HET\n",
    "33.4-35.8 MeV H flux, HET\n",
    "35.5-40.5 MeV H flux, HET\n",
    "40.0-60.0 MeV H flux, HET\n",
    "60.0-100.0 MeV H flux, HET\n",
    "0.320-0.452 MeV H flux, SIT\n",
    "0.452-0.64 MeV H flux, SIT\n",
    "0.640-0.905 MeV H flux, SIT\n",
    "0.905-1.28 MeV H flux, SIT\n",
    "1.280-1.81 MeV H flux, SIT\n",
    "1.810-2.56 MeV H flux, SIT\n",
    "2.560-3.62 MeV H flux, SIT\"\"\"\n",
    "\n",
    "columns_position = [\n",
    "    \"Radial Distance, AU\",\n",
    "    \"HGI Lat. of the S/C\",\n",
    "    \"HGI Long. of the S/C\",\n",
    "]\n",
    "\n",
    "columns_plasma = [\n",
    "    \"SW Plasma Speed, km/s\",\n",
    "    \"SW Lat. Angle RTN, deg.\",\n",
    "    \"SW Long. Angle RTN, deg.\",\n",
    "    \"SW Plasma Density, N/cm^3\",\n",
    "    \"SW Plasma Temperature, K\",\n",
    "]\n",
    "columns_with_interested_features = columns_position + columns_plasma\n",
    "\n",
    "columns_name_mapping = {\n",
    "    \"SW Plasma Speed, km/s\": \"sw_speed\",\n",
    "    \"SW Lat. Angle RTN, deg.\": \"sw_elevation\",\n",
    "    \"SW Long. Angle RTN, deg.\": \"sw_azimuth\",\n",
    "    \"SW Plasma Density, N/cm^3\": \"sw_density\",\n",
    "    \"SW Plasma Temperature, K\": \"sw_temperature\",\n",
    "    \"Radial Distance, AU\": \"radial_distance\",\n",
    "}\n",
    "\n",
    "\n",
    "def get_state_data(\n",
    "    tstart, tend, columns=columns_with_interested_features\n",
    ") -> pl.DataFrame:\n",
    "    files = download_stereo_state_data(tstart, tend)\n",
    "\n",
    "    labels = headers.split(\"\\n\")\n",
    "    missing_values = [\"999.99\", \"9999.9\", \"9999999.\"]\n",
    "\n",
    "    df = pl.concat(\n",
    "        files\n",
    "        | pmap(\n",
    "            pandas.read_csv,\n",
    "            delim_whitespace=True,\n",
    "            names=labels,\n",
    "            na_values=missing_values,\n",
    "        )\n",
    "        | select(pl.from_pandas)\n",
    "    )\n",
    "\n",
    "    return df.select(\n",
    "        columns,\n",
    "        time=(\n",
    "            pl.datetime(pl.col(\"Year\"), month=1, day=1)\n",
    "            + pl.duration(days=pl.col(\"DOY\") - 1, hours=pl.col(\"Hour\"))\n",
    "        ).dt.cast_time_unit(\"ns\"),\n",
    "    ).rename(columns_name_mapping)"
   ]
  },
  {
   "cell_type": "markdown",
   "metadata": {},
   "source": [
    "#### Processs state data"
   ]
  },
  {
   "cell_type": "code",
   "execution_count": null,
   "metadata": {},
   "outputs": [],
   "source": [
    "#| export\n",
    "def convert_state_to_rtn(df: pl.DataFrame) -> pl.DataFrame:\n",
    "    \"\"\"Convert state data to RTN coordinates\n",
    "    \"\"\"\n",
    "    return df.with_columns(\n",
    "        sw_vel_r=pl.col('sw_speed') * pl.col('sw_elevation').radians().cos() * pl.col('sw_azimuth').radians().cos(),\n",
    "        sw_vel_t=pl.col('sw_speed') * pl.col('sw_elevation').radians().cos() * pl.col('sw_azimuth').radians().sin(),\n",
    "        sw_vel_n=pl.col('sw_speed') * pl.col('sw_elevation').radians().sin(),\n",
    "    ).drop([\"sw_elevation\", \"sw_azimuth\"])\n",
    "    \n",
    "def processs_state_data(df: pl.DataFrame) -> pl.DataFrame:\n",
    "    return convert_state_to_rtn(df)"
   ]
  },
  {
   "cell_type": "markdown",
   "metadata": {},
   "source": [
    "#### Pipelines"
   ]
  },
  {
   "cell_type": "code",
   "execution_count": null,
   "metadata": {},
   "outputs": [],
   "source": [
    "# | export\n",
    "def create_state_data_pipeline(**kwargs) -> Pipeline:\n",
    "    sat_id = \"sta\"\n",
    "    node_get_state_data = node(\n",
    "        get_state_data,\n",
    "        inputs=[\"params:start_date\", \"params:end_date\"],\n",
    "        outputs=\"inter_state_rtn_1h\",\n",
    "        name=f\"get_{sat_id.upper()}_state_data\",\n",
    "    )\n",
    "\n",
    "    node_processs_state_data = node(\n",
    "        processs_state_data,\n",
    "        inputs=\"inter_state_rtn_1h\",\n",
    "        outputs=\"primary_state_rtn_1h\",\n",
    "        name=f\"process_{sat_id.upper()}_state_data\",\n",
    "    )\n",
    "\n",
    "    nodes = [node_get_state_data, node_processs_state_data]\n",
    "    pipelines = pipeline(\n",
    "        nodes,\n",
    "        namespace=sat_id,\n",
    "        parameters={\n",
    "            \"params:start_date\": \"params:jno_start_date\",\n",
    "            \"params:end_date\": \"params:jno_end_date\",\n",
    "        },\n",
    "    )\n",
    "\n",
    "    return pipelines"
   ]
  },
  {
   "cell_type": "markdown",
   "metadata": {},
   "source": [
    "## Processing the whole data"
   ]
  },
  {
   "cell_type": "markdown",
   "metadata": {},
   "source": [
    "### Pipelines"
   ]
  },
  {
   "cell_type": "markdown",
   "metadata": {},
   "source": [
    "## Pipelines"
   ]
  },
  {
   "cell_type": "code",
   "execution_count": null,
   "metadata": {},
   "outputs": [],
   "source": [
    "#| export\n",
    "from ids_finder.candidates import create_candidate_pipeline"
   ]
  },
  {
   "cell_type": "code",
   "execution_count": null,
   "metadata": {},
   "outputs": [],
   "source": [
    "# | export\n",
    "def create_pipeline(**kwargs) -> Pipeline:\n",
    "    sat_id = \"sta\"\n",
    "    return (\n",
    "        create_mag_data_pipeline(sat_id)\n",
    "        + create_state_data_pipeline()\n",
    "        + create_candidate_pipeline(sat_id)\n",
    "    )"
   ]
  },
  {
   "cell_type": "markdown",
   "metadata": {},
   "source": [
    "## Obsolete codes"
   ]
  },
  {
   "cell_type": "markdown",
   "metadata": {},
   "source": [
    "NOTE: one can also use `speasy` to download data, however this is slower for `STEREO` data."
   ]
  },
  {
   "cell_type": "code",
   "execution_count": null,
   "metadata": {},
   "outputs": [],
   "source": [
    "%%markdown\n",
    "sat_fgm_product = cda_tree.STEREO.Ahead.IMPACT_MAG.STA_L1_MAG_RTN.BFIELD\n",
    "sat_fgm_product = 'cda/STA_L1_MAG_RTN/BFIELD'\n",
    "products = [sat_fgm_product]\n",
    "\n",
    "dataset = spz.get_data(products, test_trange, disable_proxy=True)\n",
    "sat_fgm_data  = dataset[0]\n",
    "data_preview(sat_fgm_data)"
   ]
  },
  {
   "cell_type": "markdown",
   "metadata": {},
   "source": [
    "Download data in a background thread"
   ]
  },
  {
   "cell_type": "code",
   "execution_count": null,
   "metadata": {},
   "outputs": [],
   "source": [
    "%%markdown\n",
    "\n",
    "@threaded\n",
    "def download_data(products, trange):\n",
    "    logger.info(\"Downloading data\")\n",
    "    spz.get_data(products, trange, disable_proxy=True)\n",
    "    logger.info(\"Data downloaded\")\n",
    "    \n",
    "download_data(products, trange)"
   ]
  },
  {
   "cell_type": "code",
   "execution_count": null,
   "metadata": {},
   "outputs": [],
   "source": [
    "import speasy as spz"
   ]
  },
  {
   "cell_type": "code",
   "execution_count": null,
   "metadata": {},
   "outputs": [],
   "source": [
    "cda_tree: spz.SpeasyIndex = spz.inventories.tree.cda\n",
    "product = cda_tree.STEREO.Ahead.IMPACT_MAG.STA_L1_MAG_RTN\n",
    "\n",
    "logger.info(product.description)\n",
    "logger.info(product.ID)\n",
    "logger.info(product.BFIELD.CATDESC)\n",
    "logger.info(product.BFIELD.spz_uid())\n",
    "\n",
    "# spz.inventories.data_tree.cda.STEREO.Ahead.IMPACT_MAG.STA_L1_MAG_RTN.\n",
    "# spz.inventories.data_tree.cda.STEREO.STEREOA.IMPACT_MAG.STA_LB_MAG_RTN.description\n",
    "# spz.inventories.data_tree.cda.STEREO.Ahead.IMPACT_MAG.STA_L1_MAG_RTN.MAGFLAGUC.CATDESC\n",
    "spz.inventories.data_tree.cda.STEREO.Ahead.IMPACT_MAG.STA_L1_MAG_RTN.BFIELD.CATDESC\n",
    "# spz.inventories.data_tree.cda.STEREO.Ahead.IMPACT_MAG.STA_L1_MAG_RTN.BFIELD."
   ]
  }
 ],
 "metadata": {
  "kernelspec": {
   "display_name": "python3",
   "language": "python",
   "name": "python3"
  }
 },
 "nbformat": 4,
 "nbformat_minor": 2
}
