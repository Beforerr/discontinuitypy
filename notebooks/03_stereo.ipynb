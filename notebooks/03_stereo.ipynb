{
 "cells": [
  {
   "cell_type": "markdown",
   "metadata": {},
   "source": [
    "---\n",
    "title: IDs from STEREO\n",
    "format:\n",
    "  html:\n",
    "    code-fold: true\n",
    "output-file: stereo.html\n",
    "---"
   ]
  },
  {
   "cell_type": "markdown",
   "metadata": {},
   "source": [
    "Need to run command in shell first as `pipeline` is project-specific command\n",
    "\n",
    "```{sh}\n",
    "kedro pipeline create stearo\n",
    "```"
   ]
  },
  {
   "cell_type": "code",
   "execution_count": 3,
   "metadata": {},
   "outputs": [],
   "source": [
    "#| default_exp pipelines/stearo/pipeline"
   ]
  },
  {
   "cell_type": "code",
   "execution_count": null,
   "metadata": {},
   "outputs": [],
   "source": [
    "#| hide\n",
    "%load_ext autoreload\n",
    "%autoreload 2"
   ]
  },
  {
   "cell_type": "code",
   "execution_count": null,
   "metadata": {},
   "outputs": [],
   "source": [
    "import numpy"
   ]
  },
  {
   "cell_type": "code",
   "execution_count": null,
   "metadata": {},
   "outputs": [],
   "source": [
    "#| code-summary: import all the packages needed for the project\n",
    "#| export\n",
    "#| output: hide\n",
    "import os\n",
    "\n",
    "from fastcore.utils import *\n",
    "from fastcore.test import *\n",
    "from ids_finder.utils.basic import partition_data_by_year\n",
    "from ids_finder.core import *\n",
    "\n",
    "import polars as pl\n",
    "import pandas\n",
    "import numpy as np\n",
    "\n",
    "from datetime import timedelta\n",
    "from loguru import logger\n",
    "\n",
    "from typing import Callable\n",
    "\n",
    "os.environ['SPEDAS_DATA_DIR'] = f\"{os.environ['HOME']}/data\""
   ]
  },
  {
   "cell_type": "markdown",
   "metadata": {},
   "source": [
    "#### `Kerdo`"
   ]
  },
  {
   "cell_type": "code",
   "execution_count": null,
   "metadata": {},
   "outputs": [],
   "source": [
    "#| export\n",
    "from kedro.pipeline import Pipeline, pipeline, node\n",
    "from ids_finder.pipelines.data_processing.pipeline import extract_features"
   ]
  },
  {
   "cell_type": "markdown",
   "metadata": {},
   "source": [
    "## Dataset Overview"
   ]
  },
  {
   "cell_type": "code",
   "execution_count": null,
   "metadata": {},
   "outputs": [],
   "source": [
    "jno_start_date = catalog.load('params:jno_start_date')\n",
    "jno_end_date = catalog.load('params:jno_end_date')\n",
    "trange = [jno_start_date, jno_end_date]\n",
    "test_trange = [\"2011-08-25\", \"2011-09-01\"]"
   ]
  },
  {
   "cell_type": "markdown",
   "metadata": {},
   "source": [
    "### Download and transform magnetic field and state data\n",
    "\n",
    "Download data using `pyspedas`, but load it using `pycdfpp` (using `pyspedas` to load the data directly into `xarray` is very slow)\n",
    "\n",
    "When downsampling, the magnetic field data is too large to process at once, split it into multiple time intervals.\n",
    "\n",
    "Using `wget` does not work.\n",
    "\n",
    "`wget --recursive --no-parent --no-clobber http://sprg.ssl.berkeley.edu/data/misc/stereo/impact/level1/ahead/mag/RTN/2014`"
   ]
  },
  {
   "cell_type": "code",
   "execution_count": null,
   "metadata": {},
   "outputs": [],
   "source": [
    "\n",
    "#| export\n",
    "import pyspedas\n",
    "import pycdfpp\n",
    "from sunpy.time import TimeRange\n",
    "from pipe import select"
   ]
  },
  {
   "cell_type": "code",
   "execution_count": null,
   "metadata": {},
   "outputs": [],
   "source": [
    "# | export\n",
    "def spedas2pl(trange, pyspedas_func: Callable, probe=\"a\"):\n",
    "    if isinstance(trange, TimeRange):\n",
    "        trange = [trange.start.strftime(\"%Y-%m-%d\"), trange.end.strftime(\"%Y-%m-%d\")]\n",
    "\n",
    "    files = pyspedas_func(trange, downloadonly=True, probe=probe)\n",
    "\n",
    "    cdfs = [pycdfpp.load(file) for file in files]\n",
    "    times = [pycdfpp.to_datetime64(cdf[\"Epoch\"]) for cdf in cdfs]\n",
    "    BFIELDs = [cdf[\"BFIELD\"].values for cdf in cdfs]\n",
    "\n",
    "    time = np.concatenate(times)\n",
    "    BFIELD = np.concatenate(BFIELDs)\n",
    "\n",
    "    df = pl.DataFrame(\n",
    "        {\n",
    "            \"time\": time,\n",
    "            \"BX\": BFIELD[:, 0],\n",
    "            \"BY\": BFIELD[:, 1],\n",
    "            \"BZ\": BFIELD[:, 2],\n",
    "            \"B\": BFIELD[:, 3],\n",
    "        }\n",
    "    )\n",
    "    return df\n",
    "\n",
    "\n",
    "def get_stereo_mag_data(\n",
    "    tstart, tend, every: int = 1  # in units of seconds\n",
    ") -> pl.DataFrame:\n",
    "    \"\"\"Get stereo downsampled magnetic field data\"\"\"\n",
    "\n",
    "    trange = [tstart, tend]\n",
    "    every = timedelta(seconds=every)\n",
    "    period = 2 * every\n",
    "\n",
    "    df_downsampled = pl.concat(\n",
    "        TimeRange(trange).split(16)\n",
    "        | select(partial(spedas2pl, pyspedas_func=pyspedas.stereo.mag))\n",
    "        | select(partial(resample, every=every, period=period))\n",
    "    )\n",
    "      \n",
    "    return df_downsampled"
   ]
  },
  {
   "cell_type": "code",
   "execution_count": null,
   "metadata": {},
   "outputs": [],
   "source": [
    "# | export\n",
    "def download_stereo_state_data(tstart, tend):\n",
    "    import pooch\n",
    "\n",
    "    download = partial(pooch.retrieve, known_hash=None)\n",
    "\n",
    "    start_time = pandas.Timestamp(tstart)\n",
    "    end_time = pandas.Timestamp(tend)\n",
    "\n",
    "    url = \"https://spdf.gsfc.nasa.gov/pub/data/stereo/ahead/l2/merged/stereoa{year}.asc\"\n",
    "\n",
    "    files = list(\n",
    "        range(start_time.year, end_time.year + 1)\n",
    "        | select(lambda x: url.format(year=x))\n",
    "        | select(download)\n",
    "    )\n",
    "    return files\n",
    "\n",
    "\n",
    "parameters = \"\"\"Year\n",
    "DOY\n",
    "Hour\n",
    "Radial Distance, AU\n",
    "HGI Lat. of the S/C\n",
    "HGI Long. of the S/C\n",
    "IMF BR, nT (RTN)\n",
    "IMF BT, nT (RTN)\n",
    "IMF BN, nT (RTN)\n",
    "IMF B Scalar, nT\n",
    "SW Plasma Speed, km/s\n",
    "SW Lat. Angle RTN, deg.\n",
    "SW Long. Angle RTN, deg.\n",
    "SW Plasma Density, N/cm^3\n",
    "SW Plasma Temperature, K\n",
    "1.8-3.6 MeV H flux,LET\n",
    "4.0-6.0 MeV H flux,LET\n",
    "6.0-10.0 MeV H flux, LET\n",
    "10.0-12.0 MeV H flux,LET\n",
    "13.6-15.1 MeV H flux, HET\n",
    "14.9-17.1 MeV H flux, HET\n",
    "17.0-19.3 MeV H flux, HET\n",
    "20.8-23.8 MeV H flux, HET\n",
    "23.8-26.4 MeV H flux, HET\n",
    "26.3-29.7 MeV H flux, HET\n",
    "29.5-33.4 MeV H flux, HET\n",
    "33.4-35.8 MeV H flux, HET\n",
    "35.5-40.5 MeV H flux, HET\n",
    "40.0-60.0 MeV H flux, HET\n",
    "60.0-100.0 MeV H flux, HET\n",
    "0.320-0.452 MeV H flux, SIT\n",
    "0.452-0.64 MeV H flux, SIT\n",
    "0.640-0.905 MeV H flux, SIT\n",
    "0.905-1.28 MeV H flux, SIT\n",
    "1.280-1.81 MeV H flux, SIT\n",
    "1.810-2.56 MeV H flux, SIT\n",
    "2.560-3.62 MeV H flux, SIT\"\"\"\n",
    "\n",
    "\n",
    "def get_stereo_state_data(tstart, tend) -> pl.DataFrame:\n",
    "    files = download_stereo_state_data(tstart, tend)\n",
    "    columns = parameters.split(\"\\n\")\n",
    "\n",
    "    df = pl.concat(\n",
    "        files\n",
    "        | select(partial(pandas.read_csv, delim_whitespace=True, names=columns))\n",
    "        | select(pl.from_pandas)\n",
    "    )\n",
    "    \n",
    "    return df.select(\n",
    "        [\"Radial Distance, AU\", \"HGI Lat. of the S/C\", \"HGI Long. of the S/C\"],\n",
    "        time=(\n",
    "            pl.datetime(pl.col(\"Year\"), month=1, day=1)\n",
    "            + pl.duration(days=pl.col(\"DOY\") - 1, hours=pl.col(\"Hour\"))\n",
    "        ).dt.cast_time_unit(\"ns\"),\n",
    "    )"
   ]
  },
  {
   "cell_type": "code",
   "execution_count": null,
   "metadata": {},
   "outputs": [],
   "source": [
    "# download_stereo_state_data(*trange)\n",
    "# get_stereo_state_data(*trange)"
   ]
  },
  {
   "cell_type": "markdown",
   "metadata": {},
   "source": [
    "## Processing the whole data"
   ]
  },
  {
   "cell_type": "markdown",
   "metadata": {},
   "source": [
    "### Combine STEREO magnetic field and state data"
   ]
  },
  {
   "cell_type": "code",
   "execution_count": null,
   "metadata": {},
   "outputs": [],
   "source": [
    "# | export\n",
    "def combine_stereo_data(mag_df: pl.DataFrame, state_df) -> dict:\n",
    "    result = (\n",
    "        mag_df.lazy()\n",
    "        .with_columns(pl.col(\"time\").dt.cast_time_unit(\"ns\"))\n",
    "        .sort(\"time\")\n",
    "        .join_asof(state_df.lazy().sort(\"time\"), on=\"time\")\n",
    "    )\n",
    "\n",
    "    # TODO: having some overlap between partitions would be nice\n",
    "    # trange = [f\"{year}-01-01\", f\"{year+1}-01-01T01\"]\n",
    "    \n",
    "    return partition_data_by_year(result)"
   ]
  },
  {
   "cell_type": "markdown",
   "metadata": {},
   "source": [
    "### Nodes"
   ]
  },
  {
   "cell_type": "code",
   "execution_count": null,
   "metadata": {},
   "outputs": [],
   "source": [
    "# | export\n",
    "node_sta_get_mag_data = node(\n",
    "    get_stereo_mag_data,\n",
    "    inputs=[\"params:jno_start_date\", \"params:jno_end_date\"],\n",
    "    outputs=\"sta_mag_rtn_1s\",\n",
    "    name=\"get_STEREO_mag_data\",\n",
    ")\n",
    "\n",
    "node_sta_get_state_data = node(\n",
    "    get_stereo_state_data,\n",
    "    inputs=[\"params:jno_start_date\", \"params:jno_end_date\"],\n",
    "    outputs=\"sta_state_rtn_1h\",\n",
    "    name=\"get_STEREO_state_data\",\n",
    ")\n",
    "\n",
    "node_sta_combine_mag_state_data = node(\n",
    "    combine_stereo_data,\n",
    "    inputs=[\"sta_mag_rtn_1s\", \"sta_state_rtn_1h\"],\n",
    "    outputs=\"primary_sta_rtn_1s\",\n",
    "    name=\"commbine_STEREO_mag_and_state_data\",\n",
    ")\n",
    "\n",
    "node_sta_extract_features = node(\n",
    "    extract_features,\n",
    "    inputs=[\"primary_sta_rtn_1s\", \"params:tau\", \"params:sta_1s_params\"],\n",
    "    outputs=\"candidates_sta_rtn_1s\",\n",
    "    name=\"extract_STEREO-A_features\",\n",
    ")"
   ]
  },
  {
   "cell_type": "code",
   "execution_count": null,
   "metadata": {},
   "outputs": [],
   "source": [
    "# | export\n",
    "def create_pipeline(**kwargs) -> Pipeline:\n",
    "    sta_pipeline = pipeline(\n",
    "        [\n",
    "            node_sta_get_mag_data,\n",
    "            node_sta_get_state_data,\n",
    "            node_sta_combine_mag_state_data,\n",
    "            node_sta_extract_features,\n",
    "        ]\n",
    "    )\n",
    "\n",
    "    return sta_pipeline"
   ]
  },
  {
   "cell_type": "code",
   "execution_count": null,
   "metadata": {},
   "outputs": [],
   "source": [
    "# kedro run --to-outputs=sta_mag_rtn_1s\n",
    "# kedro run --to-outputs=sta_state_rtn_1s\n",
    "# kedro run --from-inputs=sta_mag_rtn_1s --to-outputs=primary_sta_rtn_1s\n",
    "\n",
    "# sta_state_rtn_1h = catalog.load('sta_state_rtn_1h')\n",
    "# sta_mag_rtn_1s = catalog.load('sta_mag_rtn_1s')\n",
    "\n",
    "# get_memory_usage(sta_mag_rtn_1s)"
   ]
  },
  {
   "cell_type": "markdown",
   "metadata": {},
   "source": [
    "## Caveats"
   ]
  },
  {
   "cell_type": "markdown",
   "metadata": {},
   "source": [
    "> Note that for missing data, fill values consisting of a blank followed \n",
    "by 9's which together constitute the format are used"
   ]
  },
  {
   "cell_type": "markdown",
   "metadata": {},
   "source": [
    "## Obsolete codes"
   ]
  },
  {
   "cell_type": "markdown",
   "metadata": {},
   "source": [
    "NOTE: one can also use `speasy` to download data, however this is slower for `STEREO` data."
   ]
  },
  {
   "cell_type": "code",
   "execution_count": null,
   "metadata": {},
   "outputs": [],
   "source": [
    "%%markdown\n",
    "sat_fgm_product = cda_tree.STEREO.Ahead.IMPACT_MAG.STA_L1_MAG_RTN.BFIELD\n",
    "sat_fgm_product = 'cda/STA_L1_MAG_RTN/BFIELD'\n",
    "products = [sat_fgm_product]\n",
    "\n",
    "dataset = spz.get_data(products, test_trange, disable_proxy=True)\n",
    "sat_fgm_data  = dataset[0]\n",
    "data_preview(sat_fgm_data)"
   ]
  },
  {
   "cell_type": "markdown",
   "metadata": {},
   "source": [
    "Download data in a background thread"
   ]
  },
  {
   "cell_type": "code",
   "execution_count": null,
   "metadata": {},
   "outputs": [],
   "source": [
    "%%markdown\n",
    "\n",
    "@threaded\n",
    "def download_data(products, trange):\n",
    "    logger.info(\"Downloading data\")\n",
    "    spz.get_data(products, trange, disable_proxy=True)\n",
    "    logger.info(\"Data downloaded\")\n",
    "    \n",
    "download_data(products, trange)"
   ]
  },
  {
   "cell_type": "code",
   "execution_count": null,
   "metadata": {},
   "outputs": [],
   "source": [
    "import speasy as spz"
   ]
  },
  {
   "cell_type": "code",
   "execution_count": null,
   "metadata": {},
   "outputs": [],
   "source": [
    "cda_tree: spz.SpeasyIndex = spz.inventories.tree.cda\n",
    "product = cda_tree.STEREO.Ahead.IMPACT_MAG.STA_L1_MAG_RTN\n",
    "\n",
    "logger.info(product.description)\n",
    "logger.info(product.ID)\n",
    "logger.info(product.BFIELD.CATDESC)\n",
    "logger.info(product.BFIELD.spz_uid())\n",
    "\n",
    "# spz.inventories.data_tree.cda.STEREO.Ahead.IMPACT_MAG.STA_L1_MAG_RTN.\n",
    "# spz.inventories.data_tree.cda.STEREO.STEREOA.IMPACT_MAG.STA_LB_MAG_RTN.description\n",
    "# spz.inventories.data_tree.cda.STEREO.Ahead.IMPACT_MAG.STA_L1_MAG_RTN.MAGFLAGUC.CATDESC\n",
    "spz.inventories.data_tree.cda.STEREO.Ahead.IMPACT_MAG.STA_L1_MAG_RTN.BFIELD.CATDESC\n",
    "# spz.inventories.data_tree.cda.STEREO.Ahead.IMPACT_MAG.STA_L1_MAG_RTN.BFIELD."
   ]
  }
 ],
 "metadata": {
  "kernelspec": {
   "display_name": "python3",
   "language": "python",
   "name": "python3"
  }
 },
 "nbformat": 4,
 "nbformat_minor": 2
}
