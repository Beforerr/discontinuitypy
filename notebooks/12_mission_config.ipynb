{
 "cells": [
  {
   "cell_type": "code",
   "execution_count": null,
   "metadata": {},
   "outputs": [],
   "source": [
    "#| default_exp missions\n",
    "#| export\n",
    "from space_analysis.ds.meta import Meta, PlasmaMeta, TempMeta\n",
    "from discontinuitypy.config import SpeasyIDsConfig\n",
    "from datetime import timedelta\n",
    "from pydantic import BaseModel"
   ]
  },
  {
   "cell_type": "code",
   "execution_count": null,
   "metadata": {},
   "outputs": [],
   "source": [
    "#| export\n",
    "\n",
    "wind_plasma_3dp_meta = PlasmaMeta(\n",
    "    dataset=\"WI_PM_3DP\",\n",
    "    parameters=[\"P_DENS\", \"P_VELS\", \"P_TEMP\"],  # Proton velocity vector (GSE)\n",
    "    description = \"Wind 3dp, PESA LOW 1 spin resolution ion (proton and alpha) moments (computed on spacecraft)\"\n",
    ")\n",
    "\n",
    "wind_plasma_k0_swe_meta = PlasmaMeta(\n",
    "    dataset=\"WI_K0_SWE\", parameters=[\"Np\", \"V_GSE\", \"THERMAL_SPD\"]\n",
    ")\n",
    "\n",
    "wind_mag_h2_meta = Meta(dataset=\"WI_H2_MFI\", parameters=[\"BGSE\"])\n",
    "wind_mag_h4_rtn_meta: Meta = Meta(dataset=\"WI_H4-RTN_MFI\", parameters=[\"BRTN\"])"
   ]
  },
  {
   "cell_type": "code",
   "execution_count": null,
   "metadata": {},
   "outputs": [],
   "source": [
    "# | export\n",
    "class WindMeta(BaseModel):\n",
    "    name: str = \"Wind\"\n",
    "    ts: timedelta = timedelta(seconds=1 / 11)\n",
    "\n",
    "    mag_meta: Meta = wind_mag_h2_meta\n",
    "    plasma_meta: PlasmaMeta = wind_plasma_3dp_meta\n",
    "\n",
    "    ion_temp_meta: TempMeta = TempMeta(\n",
    "        dataset=\"WI_PLSP_3DP\",\n",
    "        parameters=[\"MOM.P.MAGT3\"],  # T_perp = (MAGT3[0] + MAGT3[1])/2\n",
    "        para_col=\"proton_MagT3_Z\",\n",
    "        perp_cols=[\"proton_MagT3_X\", \"proton_MagT3_Y\"],\n",
    "    )\n",
    "\n",
    "    e_temp_meta: TempMeta = TempMeta(\n",
    "        dataset=\"WI_ELM2_3DP\",\n",
    "        parameters=[\"MAGT3\"],\n",
    "        para_col=\"electron_MagT3_Para\",\n",
    "        perp_cols=[\"electron_MagT3_Perp1\", \"electron_MagT3_Perp2\"],\n",
    "    )"
   ]
  },
  {
   "cell_type": "code",
   "execution_count": null,
   "metadata": {},
   "outputs": [],
   "source": [
    "#| export\n",
    "class WindConfig(WindMeta, SpeasyIDsConfig):\n",
    "    pass"
   ]
  },
  {
   "cell_type": "code",
   "execution_count": null,
   "metadata": {},
   "outputs": [
    {
     "data": {
      "text/plain": [
       "PlasmaMeta(dataset='WI_PM_3DP', parameters=['P_DENS', 'P_VELS', 'P_TEMP'], density_col=None, velocity_cols=None, speed_col=None, temperature_col=None)"
      ]
     },
     "execution_count": null,
     "metadata": {},
     "output_type": "execute_result"
    }
   ],
   "source": [
    "config = WindConfig(\n",
    "    tau=timedelta(minutes=1),\n",
    ")\n",
    "config.plasma_meta"
   ]
  }
 ],
 "metadata": {
  "kernelspec": {
   "display_name": "python3",
   "language": "python",
   "name": "python3"
  }
 },
 "nbformat": 4,
 "nbformat_minor": 2
}
