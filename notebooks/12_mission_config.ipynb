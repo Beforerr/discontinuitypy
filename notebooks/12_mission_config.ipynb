{
 "cells": [
  {
   "cell_type": "code",
   "execution_count": 1,
   "metadata": {},
   "outputs": [],
   "source": [
    "#| default_exp missions\n",
    "#| export\n",
    "from space_analysis.ds.meta import Meta, PlasmaMeta, TempMeta\n",
    "from discontinuitypy.config import SpeasyIDsConfig\n",
    "from datetime import timedelta\n",
    "from pydantic import BaseModel"
   ]
  },
  {
   "cell_type": "code",
   "execution_count": 2,
   "metadata": {},
   "outputs": [],
   "source": [
    "#| export\n",
    "class WindMeta(BaseModel):\n",
    "    name: str = \"Wind\"\n",
    "    ts: timedelta = timedelta(seconds=1 / 11)\n",
    "    \n",
    "    mag_meta: Meta = Meta(\n",
    "        dataset=\"WI_H2_MFI\",\n",
    "        parameters=[\"BGSE\"],\n",
    "    )\n",
    "\n",
    "    plasma_meta: PlasmaMeta = PlasmaMeta(\n",
    "        dataset=\"WI_PM_3DP\",\n",
    "        parameters=[\"P_DENS\", \"P_VELS\", \"P_TEMP\"],  # Proton velocity vector (GSE)\n",
    "        # dataset=\"WI_K0_SWE\",\n",
    "        # parameters=[\"Np\", \"V_GSE\", \"THERMAL_SPD\"],\n",
    "    )\n",
    "\n",
    "    ion_temp_meta: TempMeta = TempMeta(\n",
    "        dataset=\"WI_PLSP_3DP\",\n",
    "        parameters=[\"MOM.P.MAGT3\"],  # T_perp = (MAGT3[0] + MAGT3[1])/2\n",
    "        para_col=\"proton_MagT3_Z\",\n",
    "        perp_cols=[\"proton_MagT3_X\", \"proton_MagT3_Y\"],\n",
    "    )\n",
    "\n",
    "    e_temp_meta: TempMeta = TempMeta(\n",
    "        dataset=\"WI_ELM2_3DP\",\n",
    "        parameters=[\"MAGT3\"],\n",
    "        para_col=\"electron_MagT3_Para\",\n",
    "        perp_cols=[\"electron_MagT3_Perp1\", \"electron_MagT3_Perp2\"],\n",
    "    )"
   ]
  },
  {
   "cell_type": "code",
   "execution_count": 3,
   "metadata": {},
   "outputs": [],
   "source": [
    "#| export\n",
    "class WindConfig(WindMeta, SpeasyIDsConfig):\n",
    "    pass"
   ]
  },
  {
   "cell_type": "code",
   "execution_count": 10,
   "metadata": {},
   "outputs": [
    {
     "data": {
      "text/plain": [
       "PlasmaMeta(dataset='WI_PM_3DP', parameters=['P_DENS', 'P_VELS', 'P_TEMP'], density_col=None, velocity_cols=None, speed_col=None, temperature_col=None)"
      ]
     },
     "execution_count": 10,
     "metadata": {},
     "output_type": "execute_result"
    }
   ],
   "source": [
    "config = WindConfig(\n",
    "    tau=timedelta(minutes=1),\n",
    ")\n",
    "config.plasma_meta"
   ]
  }
 ],
 "metadata": {
  "kernelspec": {
   "display_name": "Python 3",
   "language": "python",
   "name": "python3"
  },
  "language_info": {
   "codemirror_mode": {
    "name": "ipython",
    "version": 3
   },
   "file_extension": ".py",
   "mimetype": "text/x-python",
   "name": "python",
   "nbconvert_exporter": "python",
   "pygments_lexer": "ipython3",
   "version": "3.11.7"
  }
 },
 "nbformat": 4,
 "nbformat_minor": 2
}
