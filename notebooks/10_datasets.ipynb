{
 "cells": [
  {
   "cell_type": "markdown",
   "metadata": {},
   "source": [
    "---\n",
    "title: \"Datasets\"\n",
    "description: This module contains the useful functions to deal with candidates datasets and individual candidate.\n",
    "---"
   ]
  },
  {
   "cell_type": "code",
   "execution_count": 1,
   "metadata": {},
   "outputs": [],
   "source": [
    "#| default_exp datasets\n",
    "#| export\n",
    "import polars as pl\n",
    "import hvplot.polars\n",
    "import polars.selectors as cs\n",
    "from loguru import logger\n",
    "from random import sample\n",
    "from datetime import timedelta\n",
    "\n",
    "from pydantic import BaseModel, Field"
   ]
  },
  {
   "cell_type": "markdown",
   "metadata": {},
   "source": [
    "## Datasets"
   ]
  },
  {
   "cell_type": "markdown",
   "metadata": {},
   "source": [
    "Foundational Dataset Class"
   ]
  },
  {
   "cell_type": "code",
   "execution_count": 2,
   "metadata": {},
   "outputs": [
    {
     "name": "stderr",
     "output_type": "stream",
     "text": [
      "08-Feb-24 10:13:42: UserWarning: Traceback (most recent call last):\n",
      "  File \"/Users/zijin/micromamba/envs/discontinuitypy/lib/python3.10/site-packages/pdpipe/__init__.py\", line 105, in <module>\n",
      "    from . import nltk_stages\n",
      "  File \"/Users/zijin/micromamba/envs/discontinuitypy/lib/python3.10/site-packages/pdpipe/nltk_stages.py\", line 19, in <module>\n",
      "    import nltk\n",
      "ModuleNotFoundError: No module named 'nltk'\n",
      "\n",
      "\n",
      "08-Feb-24 10:13:42: UserWarning: pdpipe: nltk import failed. nltk-dependent  pipeline stages will not be loaded.\n",
      "\n"
     ]
    }
   ],
   "source": [
    "#| export\n",
    "from discontinuitypy.utils.basic import df2ts\n",
    "from discontinuitypy.utils.plot import plot_candidate as _plot_candidate\n",
    "from discontinuitypy.integration import combine_features, calc_combined_features\n",
    "from discontinuitypy.core.pipeline import ids_finder"
   ]
  },
  {
   "cell_type": "code",
   "execution_count": 8,
   "metadata": {},
   "outputs": [],
   "source": [
    "# | export\n",
    "class IdsEvents(BaseModel):\n",
    "    class Config:\n",
    "        extra = \"allow\"\n",
    "        arbitrary_types_allowed = True\n",
    "\n",
    "    name: str = None\n",
    "    events: pl.DataFrame = None\n",
    "\n",
    "    data: pl.LazyFrame = None\n",
    "    ts: timedelta = None\n",
    "    \"\"\"time resolution of the dataset\"\"\"\n",
    "    tau: timedelta = None\n",
    "    \"\"\"time interval used to find events\"\"\"\n",
    "\n",
    "    def export(self, path, format=\"arrow\", clean=True, **kwargs):\n",
    "        if self.events is None:\n",
    "            self.find_events()\n",
    "        _df = self.events\n",
    "        if clean:\n",
    "            _df = _df.select(cs.datetime(), cs.duration(), cs.numeric())\n",
    "\n",
    "        match format:\n",
    "            case \"arrow\":\n",
    "                _df.write_ipc(path, **kwargs)\n",
    "            case \"csv\":\n",
    "                _df.write_csv(path, **kwargs)\n",
    "            case \"parquet\":\n",
    "                _df.write_parquet(path, **kwargs)\n",
    "        return self\n",
    "\n",
    "    def find_events(self, **kwargs):\n",
    "        self.events = ids_finder(self.data, ts=self.ts, tau=self.tau, **kwargs)\n",
    "        return self\n",
    "\n",
    "    def get_event(self, index=None, predicates=None, random: bool = True, **kwargs):\n",
    "        if index:\n",
    "            candidate = self.events.row(index, named=True)\n",
    "        elif predicates:\n",
    "            candidate = self.events.filter(predicates).row(0, named=True)\n",
    "        else:\n",
    "            index = sample(range(len(self.events)), 1)[0] if random else 0\n",
    "            candidate = self.events.row(index, named=True)\n",
    "        return candidate\n",
    "\n",
    "    def get_event_data(self, candidate=None, index=None, predicates=None, **kwargs):\n",
    "        if candidate is None:\n",
    "            candidate = self.get_event(index, predicates, **kwargs)\n",
    "\n",
    "        _data = self.data.filter(\n",
    "            pl.col(\"time\").is_between(candidate[\"tstart\"], candidate[\"tstop\"])\n",
    "        )\n",
    "        return df2ts(_data, self.bcols)"
   ]
  },
  {
   "cell_type": "code",
   "execution_count": 28,
   "metadata": {},
   "outputs": [],
   "source": [
    "# | export\n",
    "class IDsDataset(IdsEvents):\n",
    "\n",
    "    data: pl.LazyFrame = Field(default=None, alias=\"mag_data\")\n",
    "    plasma_data: pl.LazyFrame = None\n",
    "\n",
    "    bcols: list[str] = None\n",
    "    vec_cols: list[str] = None\n",
    "\n",
    "    density_col: str = \"n\"\n",
    "    speed_col: str = \"v\"\n",
    "    temperature_col: str = \"T\"\n",
    "    plasma_meta: dict = None\n",
    "\n",
    "    def update_candidates_with_plasma_data(self, **kwargs):\n",
    "        df_combined = combine_features(\n",
    "            self.events,\n",
    "            self.plasma_data.collect(),\n",
    "            subset_cols=self.vec_cols\n",
    "            + [self.density_col, self.speed_col, self.temperature_col],\n",
    "            **kwargs,\n",
    "        )\n",
    "\n",
    "        self.events = calc_combined_features(\n",
    "            df_combined, vec_cols=self.vec_cols, **kwargs, density_col=self.density_col\n",
    "        )\n",
    "        return self\n",
    "\n",
    "    def plot(self, type=\"overview\", event=None, index=None, predicates=None, **kwargs):\n",
    "\n",
    "        event = event or self.get_event(index, predicates, **kwargs)\n",
    "        if type == \"overview\":\n",
    "            return self.overview_plot(event, **kwargs)\n",
    "\n",
    "    def overview_plot(self, event: dict, start=None, stop=None, **kwargs):\n",
    "        start = start or event[\"tstart\"]\n",
    "        stop = stop or event[\"tstop\"]\n",
    "\n",
    "        _plasma_data = self.plasma_data.filter(\n",
    "            pl.col(\"time\").is_between(start, stop)\n",
    "        ).collect()\n",
    "\n",
    "        _mag_data = (\n",
    "            self.data.filter(pl.col(\"time\").is_between(start, stop))\n",
    "            .collect()\n",
    "            .melt(\n",
    "                id_vars=[\"time\"],\n",
    "                value_vars=self.bcols,\n",
    "                variable_name=\"B comp\",\n",
    "                value_name=\"B\",\n",
    "            )\n",
    "        )\n",
    "\n",
    "        v_df = _plasma_data.melt(\n",
    "            id_vars=[\"time\"],\n",
    "            value_vars=self.vec_cols,\n",
    "            variable_name=\"veloity comp\",\n",
    "            value_name=\"v\",\n",
    "        )\n",
    "\n",
    "        panel_mag = _mag_data.hvplot(\n",
    "            x=\"time\", y=\"B\", by=\"B comp\", ylabel=\"Magnetic Field\", **kwargs\n",
    "        )\n",
    "        panel_n = _plasma_data.hvplot(x=\"time\", y=self.density_col, **kwargs)\n",
    "        panel_v = v_df.hvplot(\n",
    "            x=\"time\", y=\"v\", by=\"veloity comp\", ylabel=\"Plasma Velocity\", **kwargs\n",
    "        )\n",
    "        panel_temp = _plasma_data.hvplot(x=\"time\", y=self.temperature_col, **kwargs)\n",
    "\n",
    "        logger.info(f\"Overview plot: {event['tstart']} - {event['tstop']}\")\n",
    "        logger.debug(\n",
    "            f\"n.change: {event['n.change']}, $\\Delta v_{{ion}}$: {event['v.ion.change']}, T.change: {event['T.change']}, v.Alfven.change: {event['v.Alfven.change']}\"\n",
    "        )\n",
    "\n",
    "        return (panel_mag + panel_n + panel_v + panel_temp).cols(1)\n",
    "\n",
    "    def plot_candidate(self, candidate=None, index=None, predicates=None, **kwargs):\n",
    "        if candidate is None:\n",
    "            candidate = self.get_event(index, predicates, **kwargs)\n",
    "        sat_fgm = self.get_event_data(candidate)\n",
    "\n",
    "        return _plot_candidate(candidate, sat_fgm, **kwargs)\n",
    "\n",
    "    def plot_candidates(self, indices=None, num=4, random=True, **kwargs):\n",
    "        if indices is None:\n",
    "            indices = sample(range(len(self.events)), num) if random else range(num)\n",
    "            logger.info(f\"Candidates indices: {indices}\")\n",
    "\n",
    "        return [self.plot_candidate(index=i, **kwargs) for i in indices]"
   ]
  },
  {
   "cell_type": "code",
   "execution_count": 2,
   "metadata": {},
   "outputs": [
    {
     "data": {
      "text/plain": [
       "1"
      ]
     },
     "execution_count": 2,
     "metadata": {},
     "output_type": "execute_result"
    }
   ],
   "source": [
    "len({'a':1})"
   ]
  },
  {
   "cell_type": "code",
   "execution_count": 37,
   "metadata": {},
   "outputs": [],
   "source": [
    "#| hide\n",
    "from nbdev import nbdev_export\n",
    "nbdev_export()"
   ]
  },
  {
   "cell_type": "code",
   "execution_count": null,
   "metadata": {},
   "outputs": [],
   "source": []
  }
 ],
 "metadata": {
  "kernelspec": {
   "display_name": "Python 3",
   "language": "python",
   "name": "python3"
  },
  "language_info": {
   "codemirror_mode": {
    "name": "ipython",
    "version": 3
   },
   "file_extension": ".py",
   "mimetype": "text/x-python",
   "name": "python",
   "nbconvert_exporter": "python",
   "pygments_lexer": "ipython3",
   "version": "3.10.13"
  }
 },
 "nbformat": 4,
 "nbformat_minor": 2
}
