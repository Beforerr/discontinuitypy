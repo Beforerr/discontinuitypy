{
 "cells": [
  {
   "cell_type": "markdown",
   "metadata": {},
   "source": [
    "---\n",
    "title: Combine magnetic field data and plasma data\n",
    "---\n",
    "\n",
    "- combine features from different sources/instruments (magnetic field, state data, etc.)\n",
    "- generate new features"
   ]
  },
  {
   "cell_type": "code",
   "execution_count": null,
   "metadata": {},
   "outputs": [],
   "source": [
    "#| default_exp integration\n",
    "#| export \n",
    "import polars as pl\n",
    "import polars.selectors as cs"
   ]
  },
  {
   "cell_type": "code",
   "execution_count": null,
   "metadata": {},
   "outputs": [],
   "source": [
    "# | export\n",
    "def combine_features(candidates: pl.DataFrame, states_data: pl.DataFrame):\n",
    "    # change time format: see issue: https://github.com/pola-rs/polars/issues/12023\n",
    "    states_data = states_data.with_columns(\n",
    "        cs.datetime().dt.cast_time_unit(\"ns\"),\n",
    "    )\n",
    "    candidates = candidates.with_columns(\n",
    "        cs.datetime().dt.cast_time_unit(\"ns\"),\n",
    "    )\n",
    "\n",
    "    return candidates.sort(\"time\").join_asof(states_data.sort(\"time\"), on=\"time\")"
   ]
  },
  {
   "cell_type": "markdown",
   "metadata": {},
   "source": [
    "## Additional features after combining\n",
    "\n",
    "With combined dataset, we calculate additional features for each candidate.\n",
    "\n",
    "Length\n",
    "\n",
    "the length along the n direction of LMN coordinate system.\n",
    "\n",
    "$$L_{n} = v_{n}  T_{duration}$$\n",
    "\n",
    "However this may not be accurate due to the MVA method.\n",
    "\n",
    "$$L_{mn} = v_{mn}  T_{duration}$$\n",
    "\n",
    "If we have the normal vector of the current sheet, we can calculate the length along the normal direction.\n",
    "\n",
    "$$L_{normal} = L_{k} = v_{normal}  T_{duration}$$\n",
    "\n",
    "Additionally, we can calculate the length projected into RTN coordinate system.\n",
    "\n",
    "$$L_{R} = L_{k} \\cos \\theta$$\n",
    "\n",
    "$$ j_0 = (\\frac{d B}{d t})_{max} \\frac{1}{v_{mn}}$$"
   ]
  },
  {
   "cell_type": "code",
   "execution_count": null,
   "metadata": {},
   "outputs": [],
   "source": [
    "#| export\n",
    "import astropy.units as u\n",
    "from astropy.constants import mu0, e\n",
    "from plasmapy.formulary.lengths import inertial_length\n",
    "from plasmapy.formulary.speeds import Alfven_speed\n",
    "from xarray_einstats import linalg\n",
    "from discontinuitypy.utils.basic import df2ts\n",
    "from discontinuitypy.core.propeties import calc_rotation_angle\n",
    "import xarray as xr"
   ]
  },
  {
   "cell_type": "code",
   "execution_count": null,
   "metadata": {},
   "outputs": [],
   "source": [
    "#| export\n",
    "def vector_project(v1,v2, dim=\"v_dim\"):\n",
    "    return xr.dot(v1 , v2, dims=dim) / linalg.norm(v2, dims=dim)\n",
    "\n",
    "def vector_project_pl(df: pl.LazyFrame, v1_cols, v2_cols, name=None):\n",
    "    \n",
    "    v1 = df2ts(df, v1_cols).assign_coords(v_dim=[\"x\",\"y\",\"z\"])\n",
    "    v2 = df2ts(df, v2_cols).assign_coords(v_dim=[\"x\",\"y\",\"z\"])  \n",
    "    result = vector_project(v1, v2, dim=\"v_dim\")\n",
    "    \n",
    "    return df.with_columns(\n",
    "        pl.Series(result.data).alias(name or \"v_proj\")\n",
    "    )"
   ]
  },
  {
   "cell_type": "code",
   "execution_count": null,
   "metadata": {},
   "outputs": [],
   "source": [
    "#| export\n",
    "def calc_rotation_angle_pl(ldf: pl.LazyFrame, v1_cols, v2_cols, name):\n",
    "    df = ldf.collect()\n",
    "    v1 = df.select(v1_cols).to_numpy()\n",
    "    v2 = df.select(v2_cols).to_numpy()\n",
    "    \n",
    "    result = calc_rotation_angle(v1, v2)\n",
    "    \n",
    "    return ldf.with_columns(\n",
    "        pl.Series(result).alias(name)\n",
    "    )"
   ]
  },
  {
   "cell_type": "markdown",
   "metadata": {},
   "source": [
    "### Inertial length"
   ]
  },
  {
   "cell_type": "code",
   "execution_count": null,
   "metadata": {},
   "outputs": [],
   "source": [
    "# | export\n",
    "def compute_inertial_length(ldf: pl.LazyFrame, density_col = \"plasma_density\"):\n",
    "    df = ldf.collect()\n",
    "\n",
    "    density = df[density_col].to_numpy() * u.cm ** (-3)\n",
    "    result = inertial_length(density, \"H+\").to(u.km)\n",
    "\n",
    "    return df.with_columns(ion_inertial_length=pl.Series(result.value)).lazy()"
   ]
  },
  {
   "cell_type": "markdown",
   "metadata": {},
   "source": [
    "### Alfven current"
   ]
  },
  {
   "cell_type": "code",
   "execution_count": null,
   "metadata": {},
   "outputs": [],
   "source": [
    "#| export\n",
    "def compute_Alfven_speed(\n",
    "    ldf: pl.LazyFrame,\n",
    "    density_col = \"plasma_density\",\n",
    "):\n",
    "    df = ldf.collect()\n",
    "\n",
    "    B = df[\"B\"] if \"B\" in df.columns else df[\"b_mag\"]  # backwards compatiblity\n",
    "    density = df[density_col].to_numpy() * u.cm ** (-3)\n",
    "    result = Alfven_speed(B.to_numpy() * u.nT, density=density, ion=\"p+\").to(u.km / u.s)\n",
    "\n",
    "    return df.with_columns(Alfven_speed=pl.Series(result.value)).lazy()\n",
    "\n",
    "\n",
    "def compute_Alfven_current(\n",
    "    ldf: pl.LazyFrame,\n",
    "    density_col = \"plasma_density\",\n",
    "):\n",
    "    df = ldf.collect()\n",
    "\n",
    "    Alfven_speed = df[\"Alfven_speed\"].to_numpy() * u.km / u.s\n",
    "    density = df[density_col].to_numpy() * u.cm ** (-3)\n",
    "\n",
    "    result = (e.si * Alfven_speed * density)\n",
    "    result = result.to(u.nA / u.m**2)\n",
    "\n",
    "    return df.with_columns(j_Alfven=pl.Series(result.value)).lazy()"
   ]
  },
  {
   "cell_type": "markdown",
   "metadata": {},
   "source": [
    "## All features"
   ]
  },
  {
   "cell_type": "code",
   "execution_count": null,
   "metadata": {},
   "outputs": [],
   "source": [
    "# | export\n",
    "def calc_combined_features(\n",
    "    df: pl.LazyFrame,\n",
    "    vec_cols = [\"v_x\", \"v_y\", \"v_z\"],  # plasma velocity vector in any fixed coordinate system,\n",
    "    normal_cols = [\"k_x\", \"k_y\", \"k_z\"], # normal vector of the discontinuity plane\n",
    "    b_cols = None, # [\"B_background_x\", \"B_background_y\", \"B_background_z\"]\n",
    "):\n",
    "    \n",
    "    Vl_cols = [\"Vl_x\", \"Vl_y\", \"Vl_z\"]\n",
    "    Vn_cols = [\"Vn_x\", \"Vn_y\", \"Vn_z\"]\n",
    "    \n",
    "    j_factor = ((u.nT / u.s) * (1 / mu0 / (u.km / u.s))).to(u.nA / u.m**2)\n",
    "\n",
    "    result = df.with_columns( duration = pl.col(\"d_tstop\") - pl.col(\"d_tstart\"))\n",
    "\n",
    "    if b_cols is not None:\n",
    "        result = result.pipe(calc_rotation_angle_pl, b_cols, normal_cols, name=\"theta_n_b\")\n",
    "        \n",
    "    result = (\n",
    "        result\n",
    "        .pipe(vector_project_pl, vec_cols, Vl_cols, name=\"v_l\")\n",
    "        .pipe(vector_project_pl, vec_cols, Vn_cols, name=\"v_n\")\n",
    "        .pipe(vector_project_pl, vec_cols, normal_cols, name=\"v_k\")\n",
    "        .with_columns(\n",
    "            pl.col(\"v_n\").abs(),\n",
    "            pl.col(\"v_k\").abs(),\n",
    "            v_mn=(pl.col(\"plasma_speed\") ** 2 - pl.col(\"v_l\") ** 2).sqrt(),\n",
    "        )\n",
    "        .with_columns(\n",
    "            L_n=pl.col(\"v_n\") * pl.col(\"duration\").dt.nanoseconds() / 1e9,\n",
    "            L_mn=pl.col(\"v_mn\") * pl.col(\"duration\").dt.nanoseconds() / 1e9,\n",
    "            L_k=pl.col(\"v_k\") * pl.col(\"duration\").dt.nanoseconds() / 1e9,\n",
    "            j0=pl.col(\"d_star\") / pl.col(\"v_mn\"),\n",
    "            j0_k=pl.col(\"d_star\") / pl.col(\"v_k\"),\n",
    "        )\n",
    "        .pipe(compute_inertial_length)\n",
    "        .pipe(compute_Alfven_speed)\n",
    "        .pipe(compute_Alfven_current)\n",
    "        .with_columns(\n",
    "            cs.by_name(\"j0\", \"j0_k\") * j_factor.value,\n",
    "        )\n",
    "    )\n",
    "    return result"
   ]
  }
 ],
 "metadata": {
  "kernelspec": {
   "display_name": "Python 3",
   "language": "python",
   "name": "python3"
  },
  "language_info": {
   "name": "python",
   "version": "3.10.13"
  }
 },
 "nbformat": 4,
 "nbformat_minor": 2
}
