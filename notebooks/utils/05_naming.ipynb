{
 "cells": [
  {
   "cell_type": "markdown",
   "metadata": {},
   "source": [
    "# Standardization"
   ]
  },
  {
   "cell_type": "markdown",
   "metadata": {},
   "source": [
    "## Renaming"
   ]
  },
  {
   "cell_type": "code",
   "execution_count": null,
   "metadata": {},
   "outputs": [],
   "source": [
    "# | default_exp utils/naming\n",
    "# | export\n",
    "import polars as pl\n",
    "from space_analysis.meta import PlasmaDataset\n",
    "from discontinuitypy.naming import DENSITY_COL, TEMP_COL"
   ]
  },
  {
   "cell_type": "code",
   "execution_count": null,
   "metadata": {},
   "outputs": [],
   "source": [
    "# | export\n",
    "def standardize_plasma_data(data: pl.LazyFrame, meta: PlasmaDataset):\n",
    "    \"\"\"\n",
    "    Standardize plasma data columns across different datasets.\n",
    "\n",
    "    Notes: meta will be updated with the new column names\n",
    "    \"\"\"\n",
    "\n",
    "    mapping = dict()\n",
    "    if meta.density_col:\n",
    "        mapping[meta.density_col] = DENSITY_COL\n",
    "        meta.density_col = DENSITY_COL\n",
    "    if meta.temperature_col:\n",
    "        mapping[meta.temperature_col] = TEMP_COL\n",
    "        meta.temperature_col = TEMP_COL\n",
    "    data = data.rename(mapping=mapping)\n",
    "    return data"
   ]
  }
 ],
 "metadata": {
  "kernelspec": {
   "display_name": "python3",
   "language": "python",
   "name": "python3"
  }
 },
 "nbformat": 4,
 "nbformat_minor": 2
}
