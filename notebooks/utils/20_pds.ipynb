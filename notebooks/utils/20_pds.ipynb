{
 "cells": [
  {
   "cell_type": "markdown",
   "metadata": {},
   "source": [
    "---\n",
    "title: Planetary Data System (PDS)\n",
    "---\n",
    "\n",
    "References:\n",
    "\n",
    "- [Planetary Data System](https://pds.nasa.gov/)\n",
    "    - [PDS Planetary Plasma Interactions Node](https://pds-ppi.igpp.ucla.edu/)\n",
    "    - [PDS Geosciences Node](https://pds-geosciences.wustl.edu/)\n",
    "    - [PDS Imaging Node](https://pds-imaging.jpl.nasa.gov/)\n",
    "    - [PDS Atmospheres Node](https://pds-atmospheres.nmsu.edu/)\n",
    "    - [PDS Small Bodies Node](https://pdssbn.astro.umd.edu/)\n",
    "    - [PDS Ring-Moon Systems Node](https://pds-rings.seti.org/)\n",
    "    - [PDS Cartography and Imaging Sciences Node](https://astrogeology.usgs.gov/search)\n",
    "    - [PDS Planetary Rings Node](https://pds-rings.seti.org/)\n",
    "- [PlanetaryPy](https://planetarypy.org) and [Michael Aye's Library](https://michaelaye.github.io/nbplanetary/)\n"
   ]
  },
  {
   "cell_type": "code",
   "execution_count": null,
   "metadata": {},
   "outputs": [],
   "source": [
    "#| default_exp utils/pds\n",
    "#| export\n",
    "from ids_finder import PARAMS\n",
    "\n",
    "import pooch\n",
    "from pooch import Unzip"
   ]
  },
  {
   "cell_type": "markdown",
   "metadata": {},
   "source": [
    "## PDS Planetary Plasma Interactions Node"
   ]
  },
  {
   "cell_type": "markdown",
   "metadata": {},
   "source": [
    "See [configuration](../../conf/base/parameters_pds.yml)"
   ]
  },
  {
   "cell_type": "code",
   "execution_count": null,
   "metadata": {},
   "outputs": [],
   "source": [
    "#| export\n",
    "def pds_download(\n",
    "    mission,  # planetary missions\n",
    "    instrument,\n",
    "    dataset,  # Dataset may correspond to a phase of the mission\n",
    "    coord,\n",
    "    datatype,\n",
    "    path,\n",
    "    sat = None  # satellite name, for missions with multiple satellites\n",
    ") -> list[str]:\n",
    "    \"Downloading file from PDS server\"\n",
    "    pds_url = PARAMS[\"pds-download-url\"]\n",
    "    phase_url = PARAMS[mission][instrument][dataset][\"url_format\"]\n",
    "    url = f\"{pds_url}/{phase_url}/{coord}/{datatype}\"\n",
    "\n",
    "    files = pooch.retrieve(\n",
    "        url=url,\n",
    "        known_hash=None,\n",
    "        path=path,\n",
    "        processor=Unzip(\n",
    "            extract_dir=f\"{mission}/{instrument}/{dataset}/{coord}/{datatype}\"\n",
    "        ),\n",
    "    )\n",
    "\n",
    "    return files"
   ]
  }
 ],
 "metadata": {
  "kernelspec": {
   "display_name": "cool_planet",
   "language": "python",
   "name": "python3"
  },
  "language_info": {
   "name": "python",
   "version": "3.10.12"
  }
 },
 "nbformat": 4,
 "nbformat_minor": 2
}
