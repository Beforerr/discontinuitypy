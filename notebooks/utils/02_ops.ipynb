{
 "cells": [
  {
   "cell_type": "code",
   "execution_count": null,
   "metadata": {},
   "outputs": [],
   "source": [
    "# | default_exp utils.ops\n",
    "# | export\n",
    "import xarray as xr\n",
    "import polars as pl\n",
    "from xarray_einstats import linalg\n",
    "from discontinuitypy.utils.basic import df2ts"
   ]
  },
  {
   "cell_type": "code",
   "execution_count": null,
   "metadata": {},
   "outputs": [],
   "source": [
    "# | export\n",
    "def vector_project(v1: xr.DataArray, v2: xr.DataArray, dim=\"v_dim\"):\n",
    "    return xr.dot(v1, v2, dims=dim) / linalg.norm(v2, dims=dim)\n",
    "\n",
    "\n",
    "def vector_project_pl(df: pl.DataFrame, v1_cols, v2_cols, name=None):\n",
    "    v1 = df2ts(df, v1_cols).assign_coords(v_dim=[\"x\", \"y\", \"z\"])\n",
    "    v2 = df2ts(df, v2_cols).assign_coords(v_dim=[\"x\", \"y\", \"z\"])\n",
    "    result = vector_project(v1, v2, dim=\"v_dim\")\n",
    "\n",
    "    return df.with_columns(pl.Series(result.data).alias(name or \"v_proj\"))"
   ]
  }
 ],
 "metadata": {},
 "nbformat": 4,
 "nbformat_minor": 2
}
