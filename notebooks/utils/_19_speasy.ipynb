{
 "cells": [
  {
   "cell_type": "code",
   "execution_count": null,
   "metadata": {},
   "outputs": [],
   "source": [
    "from fastcore.utils import patch\n",
    "from speasy.products import SpeasyVariable\n",
    "from humanize import naturalsize"
   ]
  },
  {
   "cell_type": "code",
   "execution_count": null,
   "metadata": {},
   "outputs": [],
   "source": [
    "@patch\n",
    "def preview(self: SpeasyVariable):\n",
    "    print(\"===========================================\")\n",
    "    print(f\"Name:         {self.name}\")\n",
    "    print(f\"Columns:      {self.columns}\")\n",
    "    print(f\"Values Unit:  {self.unit}\")\n",
    "    print(f\"Memory usage: {naturalsize(self.nbytes)}\")\n",
    "    print(f\"Axes Labels:  {self.axes_labels}\")\n",
    "    print(\"-------------------------------------------\")\n",
    "    print(f\"Meta-data:    {self.meta}\")\n",
    "    print(\"-------------------------------------------\")\n",
    "    print(f\"Time Axis:    {self.time[:3]}\")\n",
    "    print(\"-------------------------------------------\")\n",
    "    print(f\"Values:       {self.values[:3]}\")\n",
    "    print(\"===========================================\")\n"
   ]
  }
 ],
 "metadata": {
  "kernelspec": {
   "display_name": "cool_planet",
   "language": "python",
   "name": "python3"
  },
  "language_info": {
   "name": "python",
   "version": "3.10.12"
  }
 },
 "nbformat": 4,
 "nbformat_minor": 2
}
