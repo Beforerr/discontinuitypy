{
 "cells": [
  {
   "cell_type": "markdown",
   "metadata": {},
   "source": [
    "---\n",
    "title: Utils for CDF file format\n",
    "---"
   ]
  },
  {
   "cell_type": "code",
   "execution_count": null,
   "metadata": {},
   "outputs": [],
   "source": [
    "#| default_exp utils/cdf\n",
    "#| export\n",
    "import pycdfpp\n",
    "import numpy as np\n",
    "import polars as pl"
   ]
  },
  {
   "cell_type": "code",
   "execution_count": null,
   "metadata": {},
   "outputs": [],
   "source": [
    "#| export\n",
    "def cdf2pl(file_path: str, var_names: str | list[str]) -> pl.LazyFrame:\n",
    "    \"\"\"\n",
    "    Convert a CDF file to Polars Dataframe.\n",
    "\n",
    "    Parameters:\n",
    "        file_path (str): The path to the CDF file.\n",
    "        var_names (Union[str, List[str]]): The name(s) of the variable(s) to retrieve from the CDF file.\n",
    "\n",
    "    Returns:\n",
    "        pl.LazyFrame: A lazy dataframe containing the requested data.\n",
    "    \"\"\"\n",
    "    \n",
    "    # Ensure var_names is always a list\n",
    "    if isinstance(var_names, str):\n",
    "        var_names = [var_names]\n",
    "\n",
    "    cdf = pycdfpp.load(file_path)\n",
    "    epoch_time = pycdfpp.to_datetime64(cdf[\"Epoch\"])\n",
    "    \n",
    "    columns = {\"time\": epoch_time}\n",
    "    \n",
    "    for var_name in var_names:\n",
    "        \n",
    "        var = cdf[var_name]\n",
    "        var_values = var.values\n",
    "        var_attrs = var.attributes\n",
    "        \n",
    "        # Handle FILLVAL\n",
    "        if \"FILLVAL\" in var_attrs:\n",
    "            fillval = var_attrs[\"FILLVAL\"][0]\n",
    "            var_values[var_values == fillval] = np.nan\n",
    "\n",
    "        if var_values.shape[1] == 1:  # One-dimensional data\n",
    "            columns[var_name] = var_values[:, 0]\n",
    "        else:  # Multi-dimensional data\n",
    "            # Dynamically create column names based on the shape of the field values\n",
    "            for i in range(var_values.shape[1]):\n",
    "                columns[f\"{var_name}_{i}\"] = var_values[:, i]\n",
    "\n",
    "    df = pl.DataFrame(columns).fill_nan(None).lazy()\n",
    "    return df"
   ]
  }
 ],
 "metadata": {
  "kernelspec": {
   "display_name": "cool_planet",
   "language": "python",
   "name": "python3"
  },
  "language_info": {
   "name": "python",
   "version": "3.10.12"
  }
 },
 "nbformat": 4,
 "nbformat_minor": 2
}
