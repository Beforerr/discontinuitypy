{
 "cells": [
  {
   "cell_type": "markdown",
   "metadata": {},
   "source": [
    "---\n",
    "title: Utils\n",
    "---"
   ]
  },
  {
   "cell_type": "code",
   "execution_count": null,
   "metadata": {},
   "outputs": [],
   "source": [
    "#| default_exp utils/analysis"
   ]
  },
  {
   "cell_type": "code",
   "execution_count": null,
   "metadata": {},
   "outputs": [],
   "source": [
    "#| export\n",
    "import polars as pl\n",
    "import pandas as pd"
   ]
  },
  {
   "cell_type": "code",
   "execution_count": null,
   "metadata": {},
   "outputs": [],
   "source": [
    "#| export\n",
    "def link_coord2dim(df: pl.DataFrame, dim=\"time\", coord: str = \"radial_distance\"):\n",
    "    \"\"\"Link the coord to a dimension across different subgroups\n",
    "\n",
    "    Note: this idea is borrowed from the `xarray.DataArray.coords`.\n",
    "    \"\"\"\n",
    "    base_df = df.filter(sat=\"JNO\").select(dim, coord).rename({coord: f\"ref_{coord}\"})\n",
    "    return df.join(base_df, on=dim, how=\"left\")"
   ]
  },
  {
   "cell_type": "code",
   "execution_count": null,
   "metadata": {},
   "outputs": [],
   "source": [
    "#| export\n",
    "from discontinuitypy.datasets import IDsDataset\n",
    "from discontinuitypy.utils.basic import filter_tranges_df"
   ]
  },
  {
   "cell_type": "code",
   "execution_count": null,
   "metadata": {},
   "outputs": [],
   "source": [
    "#| export\n",
    "def filter_tranges_ds(ds: IDsDataset, tranges: tuple[list, list]):\n",
    "    \"\"\"Filter a dataset by a list of time ranges\"\"\"\n",
    "    new_ds = ds.copy()\n",
    "    new_ds.candidates = filter_tranges_df(ds.candidates, tranges)\n",
    "    new_ds.data = filter_tranges_df(ds.data.collect(), tranges).lazy()\n",
    "    \n",
    "    return new_ds"
   ]
  },
  {
   "cell_type": "code",
   "execution_count": null,
   "metadata": {},
   "outputs": [],
   "source": [
    "# | export\n",
    "def filter_before_jupiter(df: pl.DataFrame):\n",
    "    return df.filter(pl.col(\"time\") < pd.Timestamp(\"2016-05-01\"))"
   ]
  },
  {
   "cell_type": "code",
   "execution_count": null,
   "metadata": {},
   "outputs": [],
   "source": [
    "# | export\n",
    "AVG_SATS = [\"STA\", \"THB\", \"Wind\"]\n",
    "\n",
    "\n",
    "def n2_normalize(df: pl.DataFrame, cols, avg_sats: list = AVG_SATS):\n",
    "    exprs = [pl.col(f\"{col}\").mean().alias(f\"{col}_n2_factor\") for col in cols]\n",
    "\n",
    "    avg_df = df.filter(pl.col(\"sat\").is_in(avg_sats)).group_by(\"time\").agg(exprs)\n",
    "\n",
    "    exprs = [\n",
    "        (pl.col(f\"{col}\") / pl.col(f\"{col}_n2_factor\")).alias(f\"{col}_n2\")\n",
    "        for col in cols\n",
    "    ]\n",
    "\n",
    "    return df.join(avg_df, on=\"time\").with_columns(exprs)"
   ]
  },
  {
   "cell_type": "markdown",
   "metadata": {},
   "source": [
    "## Common codes used across notebooks"
   ]
  },
  {
   "cell_type": "markdown",
   "metadata": {},
   "source": []
  }
 ],
 "metadata": {
  "kernelspec": {
   "display_name": "python3",
   "language": "python",
   "name": "python3"
  },
  "language_info": {
   "codemirror_mode": {
    "name": "ipython",
    "version": 3
   },
   "file_extension": ".py",
   "mimetype": "text/x-python",
   "name": "python",
   "nbconvert_exporter": "python",
   "pygments_lexer": "ipython3",
   "version": "3.10.12"
  }
 },
 "nbformat": 4,
 "nbformat_minor": 2
}
