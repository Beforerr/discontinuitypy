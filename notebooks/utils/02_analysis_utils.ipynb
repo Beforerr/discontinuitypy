{
 "cells": [
  {
   "cell_type": "markdown",
   "metadata": {},
   "source": [
    "---\n",
    "title: Utils\n",
    "---"
   ]
  },
  {
   "cell_type": "code",
   "execution_count": null,
   "metadata": {},
   "outputs": [],
   "source": [
    "#| default_exp utils/analysis"
   ]
  },
  {
   "cell_type": "code",
   "execution_count": null,
   "metadata": {},
   "outputs": [],
   "source": [
    "#| export\n",
    "import polars as pl"
   ]
  },
  {
   "cell_type": "code",
   "execution_count": null,
   "metadata": {},
   "outputs": [],
   "source": [
    "#| export\n",
    "def link_coord2dim(df: pl.DataFrame, dim=\"time\", coord: str = \"radial_distance\"):\n",
    "    \"\"\"Link the coord to a dimension across different subgroups\n",
    "\n",
    "    Note: this idea is borrowed from the `xarray.DataArray.coords`.\n",
    "    \"\"\"\n",
    "    base_df = df.filter(sat=\"JNO\").select(dim, coord).rename({coord: f\"ref_{coord}\"})\n",
    "    return df.join(base_df, on=dim)"
   ]
  }
 ],
 "metadata": {
  "kernelspec": {
   "display_name": "python3",
   "language": "python",
   "name": "python3"
  }
 },
 "nbformat": 4,
 "nbformat_minor": 2
}
