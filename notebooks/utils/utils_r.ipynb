{
 "cells": [
  {
   "cell_type": "markdown",
   "metadata": {},
   "source": [
    "---\n",
    "title:  \"`R` utils\"\n",
    "---"
   ]
  },
  {
   "cell_type": "markdown",
   "metadata": {},
   "source": [
    "Utils for using R with python in Jupyter\n",
    "\n",
    "You need to install depending package with `pip install rpy2 rpy2-arrow`"
   ]
  },
  {
   "cell_type": "code",
   "execution_count": null,
   "metadata": {},
   "outputs": [],
   "source": [
    "#| default_exp utils/r"
   ]
  },
  {
   "cell_type": "code",
   "execution_count": null,
   "metadata": {},
   "outputs": [],
   "source": [
    "#| export\n",
    "import rpy2\n",
    "import rpy2_arrow.arrow as pyra\n",
    "from rpy2.robjects.packages import importr\n",
    "import polars as pl"
   ]
  },
  {
   "cell_type": "code",
   "execution_count": null,
   "metadata": {},
   "outputs": [],
   "source": [
    "#| export\n",
    "def py2rpy_polars():\n",
    "    \"Helper functions to convert between `polars` and `R` dataframes\"\n",
    "    base = importr('base')\n",
    "\n",
    "    conv_pl = rpy2.robjects.conversion.Converter(\n",
    "        'Pandas to pyarrow',\n",
    "        template=pyra.converter)\n",
    "\n",
    "    @conv_pl.py2rpy.register(pl.DataFrame)\n",
    "    def py2rpy_pandas(dataf: pl.DataFrame):\n",
    "        pa_tbl = dataf.to_arrow()\n",
    "        return base.as_data_frame(pa_tbl)\n",
    "        # return pyra.converter.py2rpy(pa_tbl) # NOTE: not working for ggplot2\n",
    "\n",
    "    conv_pl = rpy2.ipython.rmagic.converter + conv_pl\n",
    "    return conv_pl"
   ]
  },
  {
   "cell_type": "markdown",
   "metadata": {},
   "source": [
    "Here is how you can use it, remember to load the extension first:\n",
    "\n",
    "```{python}\n",
    "%load_ext rpy2.ipython\n",
    "from ids_finder.utils.r import py2rpy_polars\n",
    "conv_pl = py2rpy_polars()\n",
    "```\n",
    "\n",
    "Then you can use it like this to export a dataframe `df` to R:\n",
    "\n",
    "```{python}\n",
    "%R -i df -c conv_pl\n",
    "```"
   ]
  },
  {
   "cell_type": "code",
   "execution_count": null,
   "metadata": {},
   "outputs": [],
   "source": [
    "#| eval: false\n",
    "#| hide\n",
    "df = pl.DataFrame({\n",
    "    'a': [1, 2, 3],\n",
    "    'b': [4, 5, 6],\n",
    "    'c': ['a', 'b', 'c']\n",
    "})\n",
    "\n",
    "%load_ext rpy2.ipython\n",
    "conv_pl = py2rpy_polars()\n",
    "\n",
    "%R print(df)"
   ]
  }
 ],
 "metadata": {
  "kernelspec": {
   "display_name": "python3",
   "language": "python",
   "name": "python3"
  }
 },
 "nbformat": 4,
 "nbformat_minor": 2
}
