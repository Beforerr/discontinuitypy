{
 "cells": [
  {
   "cell_type": "markdown",
   "metadata": {},
   "source": [
    "---\n",
    "title: Utils for Polars\n",
    "---"
   ]
  },
  {
   "cell_type": "code",
   "execution_count": null,
   "metadata": {},
   "outputs": [],
   "source": [
    "#| default_exp utils/polars"
   ]
  },
  {
   "cell_type": "code",
   "execution_count": null,
   "metadata": {},
   "outputs": [],
   "source": [
    "\n",
    "#| export\n",
    "import polars as pl\n",
    "import modin.pandas as mpd\n",
    "\n",
    "from typing import Any, Collection\n",
    "\n",
    "from functools import partial\n"
   ]
  },
  {
   "cell_type": "code",
   "execution_count": null,
   "metadata": {},
   "outputs": [],
   "source": [
    "#| export\n",
    "def create_partitions(files, func):\n",
    "    keys = [file.split(\"/\")[-1] for file in files]\n",
    "    return {key: partial(func, file) for key, file in zip(keys, files)}"
   ]
  },
  {
   "cell_type": "markdown",
   "metadata": {},
   "source": [
    "## IO"
   ]
  },
  {
   "cell_type": "code",
   "execution_count": null,
   "metadata": {},
   "outputs": [],
   "source": [
    "#| export\n",
    "def convert_to_pd_dataframe(\n",
    "    df: pl.DataFrame | pl.LazyFrame, # original DataFrame or LazyFrame\n",
    "    modin: bool = False # whether to use modin or not\n",
    "):\n",
    "    \"\"\"\n",
    "    Convert a Polars DataFrame or LazyFrame into a pandas-like DataFrame.\n",
    "    If modin=True, returns a Modin DataFrame.\n",
    "    \"\"\"\n",
    "    if isinstance(df, pl.LazyFrame):\n",
    "        df = df.collect()\n",
    "    elif not isinstance(df, pl.DataFrame):\n",
    "        raise TypeError(\"Input must be a Polars DataFrame or LazyFrame\")\n",
    "\n",
    "    data = df.to_pandas(use_pyarrow_extension_array=True)\n",
    "\n",
    "    if modin:\n",
    "        return mpd.DataFrame(data)\n",
    "    else:\n",
    "        return data\n"
   ]
  },
  {
   "cell_type": "markdown",
   "metadata": {},
   "source": [
    "## Functions"
   ]
  },
  {
   "cell_type": "code",
   "execution_count": null,
   "metadata": {},
   "outputs": [],
   "source": [
    "#| export\n",
    "def sort(df: pl.DataFrame, col=\"time\"):\n",
    "    if df.get_column(col).is_sorted():\n",
    "        return df.set_sorted(col)\n",
    "    else:\n",
    "        return df.sort(col)\n"
   ]
  },
  {
   "cell_type": "code",
   "execution_count": null,
   "metadata": {},
   "outputs": [],
   "source": [
    "#| export\n",
    "def _expand_selectors(items: Any, *more_items: Any) -> list[Any]:\n",
    "    \"\"\"\n",
    "    See `_expand_selectors` in `polars`.\n",
    "    \"\"\"\n",
    "    expanded: list[Any] = []\n",
    "    for item in (\n",
    "        *(\n",
    "            items\n",
    "            if isinstance(items, Collection) and not isinstance(items, str)\n",
    "            else [items]\n",
    "        ),\n",
    "        *more_items,\n",
    "    ):\n",
    "        expanded.append(item)\n",
    "    return expanded"
   ]
  },
  {
   "cell_type": "code",
   "execution_count": null,
   "metadata": {},
   "outputs": [],
   "source": [
    "#| export\n",
    "\n",
    "def pl_norm(columns, *more_columns) -> pl.Expr:\n",
    "    \"\"\"\n",
    "    Computes the square root of the sum of squares for the given columns.\n",
    "\n",
    "    Args:\n",
    "    *columns (str): Names of the columns.\n",
    "\n",
    "    Returns:\n",
    "    pl.Expr: Expression representing the square root of the sum of squares.\n",
    "    \"\"\"\n",
    "    all_columns = _expand_selectors(columns, *more_columns)\n",
    "    squares = [pl.col(column).pow(2) for column in all_columns]\n",
    "\n",
    "    return sum(squares).sqrt()"
   ]
  },
  {
   "cell_type": "code",
   "execution_count": null,
   "metadata": {},
   "outputs": [],
   "source": [
    "#| export\n",
    "def decompose_vector(df: pl.LazyFrame, vector_col, name=None):\n",
    "    if name is None:\n",
    "        name = vector_col\n",
    "\n",
    "    return df.with_columns(\n",
    "        pl.col(vector_col).list.get(0).alias(f\"{name}_x\"),\n",
    "        pl.col(vector_col).list.get(1).alias(f\"{name}_y\"),\n",
    "        pl.col(vector_col).list.get(2).alias(f\"{name}_z\"),\n",
    "    )\n"
   ]
  }
 ],
 "metadata": {
  "kernelspec": {
   "display_name": "cool_planet",
   "language": "python",
   "name": "python3"
  },
  "language_info": {
   "codemirror_mode": {
    "name": "ipython",
    "version": 3
   },
   "file_extension": ".py",
   "mimetype": "text/x-python",
   "name": "python",
   "nbconvert_exporter": "python",
   "pygments_lexer": "ipython3",
   "version": "3.10.12"
  }
 },
 "nbformat": 4,
 "nbformat_minor": 2
}
