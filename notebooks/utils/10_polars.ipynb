{
 "cells": [
  {
   "cell_type": "markdown",
   "metadata": {},
   "source": [
    "---\n",
    "title: Utils for Polars\n",
    "---"
   ]
  },
  {
   "cell_type": "code",
   "execution_count": null,
   "metadata": {},
   "outputs": [],
   "source": [
    "#| default_exp utils/polars"
   ]
  },
  {
   "cell_type": "code",
   "execution_count": null,
   "metadata": {},
   "outputs": [],
   "source": [
    "\n",
    "#| export\n",
    "import polars as pl\n",
    "import modin.pandas as mpd\n",
    "\n",
    "from typing import Any, Collection\n",
    "\n",
    "from functools import partial\n"
   ]
  },
  {
   "cell_type": "code",
   "execution_count": null,
   "metadata": {},
   "outputs": [],
   "source": [
    "#| export\n",
    "def create_partitions(files, func):\n",
    "    keys = [file.split(\"/\")[-1] for file in files]\n",
    "    return {key: partial(func, file) for key, file in zip(keys, files)}"
   ]
  },
  {
   "cell_type": "markdown",
   "metadata": {},
   "source": [
    "## IO"
   ]
  },
  {
   "cell_type": "code",
   "execution_count": null,
   "metadata": {},
   "outputs": [],
   "source": [
    "#| export\n",
    "def convert_to_pd_dataframe(\n",
    "    df: pl.DataFrame | pl.LazyFrame, # original DataFrame or LazyFrame\n",
    "    modin: bool = False # whether to use modin or not\n",
    "):\n",
    "    \"\"\"\n",
    "    Convert a Polars DataFrame or LazyFrame into a pandas-like DataFrame.\n",
    "    If modin=True, returns a Modin DataFrame.\n",
    "    \"\"\"\n",
    "    if isinstance(df, pl.LazyFrame):\n",
    "        df = df.collect()\n",
    "    elif not isinstance(df, pl.DataFrame):\n",
    "        raise TypeError(\"Input must be a Polars DataFrame or LazyFrame\")\n",
    "\n",
    "    data = df.to_pandas(use_pyarrow_extension_array=True)\n",
    "\n",
    "    if modin:\n",
    "        return mpd.DataFrame(data)\n",
    "    else:\n",
    "        return data\n"
   ]
  },
  {
   "cell_type": "markdown",
   "metadata": {},
   "source": [
    "## Functions"
   ]
  },
  {
   "cell_type": "code",
   "execution_count": null,
   "metadata": {},
   "outputs": [],
   "source": [
    "#| export\n",
    "def sort(df: pl.DataFrame, col=\"time\"):\n",
    "    if df.get_column(col).is_sorted():\n",
    "        return df.set_sorted(col)\n",
    "    else:\n",
    "        return df.sort(col)\n"
   ]
  },
  {
   "cell_type": "code",
   "execution_count": null,
   "metadata": {},
   "outputs": [],
   "source": [
    "#| export\n",
    "def _expand_selectors(items: Any, *more_items: Any) -> list[Any]:\n",
    "    \"\"\"\n",
    "    See `_expand_selectors` in `polars`.\n",
    "    \"\"\"\n",
    "    expanded: list[Any] = []\n",
    "    for item in (\n",
    "        *(\n",
    "            items\n",
    "            if isinstance(items, Collection) and not isinstance(items, str)\n",
    "            else [items]\n",
    "        ),\n",
    "        *more_items,\n",
    "    ):\n",
    "        expanded.append(item)\n",
    "    return expanded"
   ]
  },
  {
   "cell_type": "code",
   "execution_count": null,
   "metadata": {},
   "outputs": [],
   "source": [
    "#| export\n",
    "\n",
    "def pl_norm(columns, *more_columns) -> pl.Expr:\n",
    "    \"\"\"\n",
    "    Computes the square root of the sum of squares for the given columns.\n",
    "\n",
    "    Args:\n",
    "    *columns (str): Names of the columns.\n",
    "\n",
    "    Returns:\n",
    "    pl.Expr: Expression representing the square root of the sum of squares.\n",
    "    \"\"\"\n",
    "    all_columns = _expand_selectors(columns, *more_columns)\n",
    "    squares = [pl.col(column).pow(2) for column in all_columns]\n",
    "\n",
    "    return sum(squares).sqrt()"
   ]
  },
  {
   "cell_type": "code",
   "execution_count": null,
   "metadata": {},
   "outputs": [],
   "source": [
    "# | export\n",
    "def decompose_vector(\n",
    "    df: pl.DataFrame, vector_col, name=None, suffixes: list = [\"_x\", \"_y\", \"_z\"]\n",
    "):\n",
    "    \"\"\"\n",
    "    Decompose a vector column in a DataFrame into separate columns for each component with custom suffixes.\n",
    "\n",
    "    Parameters:\n",
    "    - df (pl.DataFrame): The input DataFrame.\n",
    "    - vector_col (str): The name of the vector column to decompose.\n",
    "    - name (str, optional): Base name for the decomposed columns. If None, uses `vector_col` as the base name.\n",
    "    - suffixes (list, optional): A list of suffixes to use for the decomposed columns.\n",
    "      If None or not enough suffixes are provided, defaults to '_0', '_1', etc.\n",
    "\n",
    "    Returns:\n",
    "    - pl.DataFrame: A DataFrame with the original vector column decomposed into separate columns.\n",
    "    \"\"\"\n",
    "\n",
    "    if name is None:\n",
    "        name = vector_col\n",
    "\n",
    "    # Determine the maximum length of vectors in the column to handle dynamic vector lengths\n",
    "    max_length = df.select(pl.col(vector_col).list.len()).max()[0, 0]\n",
    "\n",
    "    if suffixes is None or len(suffixes) < max_length:\n",
    "        if suffixes is None:\n",
    "            suffixes = []\n",
    "        # Extend or create the list of suffixes with default values\n",
    "        suffixes.extend([f\"_{i}\" for i in range(len(suffixes), max_length)])\n",
    "\n",
    "    # Create column expressions for each element in the vector\n",
    "    column_expressions = [\n",
    "        pl.col(vector_col).list.get(i).alias(name).name.suffix(suffixes[i])\n",
    "        for i in range(max_length)\n",
    "    ]\n",
    "\n",
    "    return df.with_columns(column_expressions)"
   ]
  }
 ],
 "metadata": {
  "kernelspec": {
   "display_name": "cool_planet",
   "language": "python",
   "name": "python3"
  },
  "language_info": {
   "codemirror_mode": {
    "name": "ipython",
    "version": 3
   },
   "file_extension": ".py",
   "mimetype": "text/x-python",
   "name": "python",
   "nbconvert_exporter": "python",
   "pygments_lexer": "ipython3",
   "version": "3.10.13"
  }
 },
 "nbformat": 4,
 "nbformat_minor": 2
}
