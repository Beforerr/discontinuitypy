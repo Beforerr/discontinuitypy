{
 "cells": [
  {
   "cell_type": "code",
   "execution_count": 1,
   "metadata": {},
   "outputs": [],
   "source": [
    "#| default_exp utils/plot"
   ]
  },
  {
   "cell_type": "code",
   "execution_count": null,
   "metadata": {},
   "outputs": [],
   "source": [
    "#| export\n",
    "import matplotlib.pyplot as plt"
   ]
  },
  {
   "cell_type": "code",
   "execution_count": null,
   "metadata": {},
   "outputs": [],
   "source": [
    "#| export\n",
    "def savefig(name, **kwargs):\n",
    "    plt.savefig(f\"../figures/{name}.png\", bbox_inches=\"tight\", **kwargs)\n",
    "    plt.savefig(f\"../figures/{name}.pdf\", bbox_inches=\"tight\", **kwargs)"
   ]
  },
  {
   "cell_type": "markdown",
   "metadata": {},
   "source": [
    "### MVA plotting"
   ]
  },
  {
   "cell_type": "code",
   "execution_count": 2,
   "metadata": {},
   "outputs": [],
   "source": [
    "#| export\n",
    "import xarray as xr\n",
    "import pandas as pd\n",
    "from datetime import timedelta, datetime\n",
    "\n",
    "from pyspedas.cotrans.minvar_matrix_make import minvar_matrix_make\n",
    "from pyspedas import tvector_rotate\n",
    "from pyspedas.analysis.tvectot import tvectot\n",
    "\n",
    "from pytplot import tplot\n",
    "from pytplot import store_data, get_data, split_vec, join_vec\n",
    "from pytplot import timebar, highlight, degap, options\n"
   ]
  },
  {
   "cell_type": "code",
   "execution_count": null,
   "metadata": {},
   "outputs": [],
   "source": [
    "#| export\n",
    "import matplotlib.pyplot as plt\n",
    "import scienceplots\n",
    "from ids_finder.utils.plot import savefig\n",
    "\n",
    "plt.style.use(['science', 'nature', 'notebook'])"
   ]
  },
  {
   "cell_type": "code",
   "execution_count": null,
   "metadata": {},
   "outputs": [],
   "source": [
    "# | export\n",
    "def time_stamp(ts):\n",
    "    \"Return POSIX timestamp as float.\"\n",
    "    return pd.Timestamp(ts, tz=\"UTC\").timestamp()\n",
    "\n",
    "\n",
    "def setup_mva_plot(\n",
    "    data: xr.DataArray,\n",
    "    tstart: datetime,\n",
    "    tstop: datetime,\n",
    "    mva_tstart: datetime = None,\n",
    "    mva_tstop: datetime = None,\n",
    "):\n",
    "    if mva_tstart is None:\n",
    "        mva_tstart = tstart\n",
    "    if mva_tstop is None:\n",
    "        mva_tstop = tstop\n",
    "\n",
    "    mva_b = data.sel(time=slice(mva_tstart, mva_tstop))\n",
    "    store_data(\"fgm\", data={\"x\": mva_b.time, \"y\": mva_b})\n",
    "    minvar_matrix_make(\"fgm\")  # get the MVA matrix\n",
    "\n",
    "    temp_b = data.sel(time=slice(tstart, tstop))\n",
    "    store_data(\"fgm\", data={\"x\": temp_b.time, \"y\": temp_b})\n",
    "    tvar = tvector_rotate(\"fgm_mva_mat\", \"fgm\")[0]\n",
    "    ysubtitle = \"[nT LMN]\"\n",
    "    legend_names = [r\"$B_l$\", r\"$B_m$\", r\"$B_n$\"]\n",
    "    \n",
    "    tvar2plot = tvectot(tvar, join_component=True)\n",
    "    legend_names = legend_names + [r\"$B_{total}$\"]\n",
    "\n",
    "    options(tvar2plot, \"ytitle\", \"$B$\")\n",
    "    options(tvar2plot, \"ysubtitle\", ysubtitle)\n",
    "    options(tvar2plot, \"legend_names\", legend_names)\n",
    "    \n",
    "    options(tvar2plot, \"thick\", 2)\n",
    "    options(tvar2plot, \"char_size\", 16)\n",
    "    \n",
    "    # tstart_ts = time_stamp(tstart)\n",
    "    # tstop_ts = time_stamp(tstop)\n",
    "    # highlight(tvar2plot, [tstart_ts, tstop_ts])\n",
    "    degap(tvar2plot)\n",
    "    return tvar2plot"
   ]
  },
  {
   "cell_type": "code",
   "execution_count": null,
   "metadata": {},
   "outputs": [],
   "source": [
    "def format_candidate_title(candidate: dict):\n",
    "    format_float = (\n",
    "        lambda x: rf\"$\\bf {x:.2f} $\" if isinstance(x, (float, int)) else rf\"$\\bf {x} $\"\n",
    "    )\n",
    "\n",
    "    base_line = rf'$\\bf {candidate.get(\"type\", \"N/A\")} $ candidate (time: {candidate.get(\"time\", \"N/A\")}) with index '\n",
    "    index_line = rf'i1: {format_float(candidate.get(\"index_std\", \"N/A\"))}, i2: {format_float(candidate.get(\"index_fluctuation\", \"N/A\"))}, i3: {format_float(candidate.get(\"index_diff\", \"N/A\"))}'\n",
    "    info_line = rf'$B_n/B$: {format_float(candidate.get(\"BnOverB\", \"N/A\"))}, $dB/B$: {format_float(candidate.get(\"dBOverB\", \"N/A\"))}, $(dB/B)_{{max}}$: {format_float(candidate.get(\"dBOverB_max\", \"N/A\"))},  $Q_{{mva}}$: {format_float(candidate.get(\"Q_mva\", \"N/A\"))}'\n",
    "    title = rf\"\"\"{base_line}\n",
    "    {index_line}\n",
    "    {info_line}\"\"\"\n",
    "    return title"
   ]
  },
  {
   "cell_type": "code",
   "execution_count": null,
   "metadata": {},
   "outputs": [],
   "source": [
    "#| export\n",
    "def plot_candidate(candidate: dict, sat_fgm: xr.DataArray, **kwargs):\n",
    "    if pd.notnull(candidate.get(\"d_tstart\")) and pd.notnull(candidate.get(\"d_tstop\")):\n",
    "        tvar = setup_mva_plot(\n",
    "            sat_fgm,\n",
    "            candidate[\"tstart\"],\n",
    "            candidate[\"tstop\"],\n",
    "            candidate[\"d_tstart\"],\n",
    "            candidate[\"d_tstop\"],\n",
    "        )\n",
    "    else:\n",
    "        tvar = setup_mva_plot(sat_fgm, candidate[\"tstart\"], candidate[\"tstop\"])\n",
    "\n",
    "\n",
    "    if \"d_time\" in candidate.keys():\n",
    "        d_time_ts = time_stamp(candidate[\"d_time\"])\n",
    "        timebar(d_time_ts, color=\"red\")\n",
    "    if \"d_tstart\" in candidate.keys() and not pd.isnull(candidate[\"d_tstart\"]):\n",
    "        d_start_ts = time_stamp(candidate[\"d_tstart\"])\n",
    "        timebar(d_start_ts)\n",
    "    if \"d_tstop\" in candidate.keys() and not pd.isnull(candidate[\"d_tstop\"]):\n",
    "        d_stop_ts = time_stamp(candidate[\"d_tstop\"])\n",
    "        timebar(d_stop_ts)\n",
    "\n",
    "    return tplot(tvar, **kwargs)"
   ]
  },
  {
   "cell_type": "code",
   "execution_count": null,
   "metadata": {},
   "outputs": [],
   "source": [
    "\n",
    "def plot_candidates(\n",
    "    candidates: pd.DataFrame, candidate_type=None, num=4, plot_func=plot_candidate\n",
    "):\n",
    "    \"\"\"Plot a set of candidates.\n",
    "\n",
    "    Parameters:\n",
    "    - candidates (pd.DataFrame): DataFrame containing the candidates.\n",
    "    - candidate_type (str, optional): Filter candidates based on a specific type.\n",
    "    - num (int): Number of candidates to plot, selected randomly.\n",
    "    - plot_func (callable): Function used to plot an individual candidate.\n",
    "\n",
    "    \"\"\"\n",
    "\n",
    "    # Filter by candidate_type if provided\n",
    "    \n",
    "    candidates = get_candidates(candidates, candidate_type, num)\n",
    "\n",
    "    # Plot each candidate using the provided plotting function\n",
    "    for _, candidate in candidates.iterrows():\n",
    "        plot_func(candidate)"
   ]
  },
  {
   "cell_type": "code",
   "execution_count": null,
   "metadata": {},
   "outputs": [],
   "source": [
    "def plot_basic(\n",
    "    data: xr.DataArray, \n",
    "    tstart: datetime, \n",
    "    tstop: datetime,\n",
    "    tau: timedelta, \n",
    "    mva_tstart=None, mva_tstop=None, neighbor: int = 1\n",
    "):\n",
    "    if mva_tstart is None:\n",
    "        mva_tstart = tstart\n",
    "    if mva_tstop is None:\n",
    "        mva_tstop = tstop\n",
    "\n",
    "    mva_b = data.sel(time=slice(mva_tstart, mva_tstop))\n",
    "    store_data(\"fgm\", data={\"x\": mva_b.time, \"y\": mva_b})\n",
    "    minvar_matrix_make(\"fgm\")  # get the MVA matrix\n",
    "\n",
    "    temp_tstart = tstart - neighbor * tau\n",
    "    temp_tstop = tstop + neighbor * tau\n",
    "\n",
    "    temp_b = data.sel(time=slice(temp_tstart, temp_tstop))\n",
    "    store_data(\"fgm\", data={\"x\": temp_b.time, \"y\": temp_b})\n",
    "    temp_btotal = calc_vec_mag(temp_b)\n",
    "    store_data(\"fgm_btotal\", data={\"x\": temp_btotal.time, \"y\": temp_btotal})\n",
    "\n",
    "    tvector_rotate(\"fgm_mva_mat\", \"fgm\")\n",
    "    split_vec(\"fgm_rot\")\n",
    "    pytplot.data_quants[\"fgm_btotal\"][\"time\"] = pytplot.data_quants[\"fgm_rot\"][\n",
    "        \"time\"\n",
    "    ]  # NOTE: whenever using `get_data`, we may lose precision in the time values. This is a workaround.\n",
    "    join_vec(\n",
    "        [\n",
    "            \"fgm_rot_x\",\n",
    "            \"fgm_rot_y\",\n",
    "            \"fgm_rot_z\",\n",
    "            \"fgm_btotal\",\n",
    "        ],\n",
    "        new_tvar=\"fgm_all\",\n",
    "    )\n",
    "\n",
    "    options(\"fgm\", \"legend_names\", [r\"$B_x$\", r\"$B_y$\", r\"$B_z$\"])\n",
    "    options(\"fgm_all\", \"legend_names\", [r\"$B_l$\", r\"$B_m$\", r\"$B_n$\", r\"$B_{total}$\"])\n",
    "    options(\"fgm_all\", \"ysubtitle\", \"[nT LMN]\")\n",
    "    tstart_ts = time_stamp(tstart)\n",
    "    tstop_ts = time_stamp(tstop)\n",
    "    # .replace(tzinfo=ZoneInfo('UTC')).timestamp()\n",
    "    highlight([\"fgm\", \"fgm_all\"], [tstart_ts, tstop_ts])\n",
    "    \n",
    "    degap(\"fgm\")\n",
    "    degap(\"fgm_all\")\n"
   ]
  }
 ],
 "metadata": {
  "kernelspec": {
   "display_name": "cool_planet",
   "language": "python",
   "name": "python3"
  },
  "language_info": {
   "codemirror_mode": {
    "name": "ipython",
    "version": 3
   },
   "file_extension": ".py",
   "mimetype": "text/x-python",
   "name": "python",
   "nbconvert_exporter": "python",
   "pygments_lexer": "ipython3",
   "version": "3.10.12"
  }
 },
 "nbformat": 4,
 "nbformat_minor": 2
}
