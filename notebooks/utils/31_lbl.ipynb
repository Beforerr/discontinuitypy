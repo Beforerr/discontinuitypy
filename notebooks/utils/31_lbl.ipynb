{
 "cells": [
  {
   "cell_type": "markdown",
   "metadata": {},
   "source": [
    "---\n",
    "title: Utils for dealing with lbl file format\n",
    "---"
   ]
  },
  {
   "cell_type": "markdown",
   "metadata": {},
   "source": [
    "#### Read `lbl` file"
   ]
  },
  {
   "cell_type": "code",
   "execution_count": null,
   "metadata": {},
   "outputs": [],
   "source": [
    "#| default_exp utils/lbl\n",
    "#| export\n",
    "from pathlib import PurePosixPath\n",
    "import fsspec\n",
    "\n",
    "from kedro.io import AbstractDataset\n",
    "from kedro.io.core import get_filepath_str, get_protocol_and_path\n",
    "\n",
    "import pandas\n",
    "import pdr\n",
    "import pooch\n",
    "\n",
    "from typing import Any, Dict"
   ]
  },
  {
   "cell_type": "code",
   "execution_count": null,
   "metadata": {},
   "outputs": [],
   "source": [
    "# | export\n",
    "HTTP_PROTOCOLS = (\"http\", \"https\")\n",
    "\n",
    "\n",
    "def load_lbl(filepath: str, type: str = \"table\") -> pandas.DataFrame:\n",
    "    \"\"\"Load LBL data.\n",
    "\n",
    "    Args:\n",
    "        filepath: File path to load the data from.\n",
    "        type: Type of data to load. Options are 'table' and 'index'.\n",
    "\n",
    "    Returns:\n",
    "        A pandas DataFrame containing the loaded data.\n",
    "    \"\"\"\n",
    "    if type == \"table\":\n",
    "        df = pdr.read(filepath).TABLE\n",
    "    elif type == \"index\":\n",
    "        df = pandas.read_csv(filepath, delimiter=\",\", quotechar='\"')\n",
    "        df.columns = df.columns.str.replace(\" \", \"\")\n",
    "\n",
    "    return df\n",
    "\n",
    "\n",
    "class LblDataset(AbstractDataset):\n",
    "    def __init__(\n",
    "        self,\n",
    "        filepath: str,\n",
    "        load_type: str = \"table\",\n",
    "        metadata: Dict[str, Any] = None,\n",
    "    ):\n",
    "        # parse the path and protocol (e.g. file, http, s3, etc.)\n",
    "        protocol, path = get_protocol_and_path(filepath)\n",
    "        self._protocol = protocol\n",
    "        self._filepath = PurePosixPath(path)\n",
    "\n",
    "        self._fs = fsspec.filesystem(self._protocol)\n",
    "\n",
    "        self.load_type = load_type\n",
    "        self.metadata = metadata\n",
    "\n",
    "    def _load(self):\n",
    "        # using get_filepath_str ensures that the protocol and path are appended correctly for different filesystems\n",
    "        load_path = get_filepath_str(self._filepath, self._protocol)\n",
    "\n",
    "        if self._protocol in HTTP_PROTOCOLS:\n",
    "            local_fp = pooch.retrieve(load_path, known_hash=None)\n",
    "        else:\n",
    "            local_fp = load_path\n",
    "\n",
    "        return load_lbl(local_fp, self.load_type)\n",
    "\n",
    "    def _save(self):\n",
    "        pass\n",
    "\n",
    "    def _describe(self):\n",
    "        \"\"\"Returns a dict that describes the attributes of the dataset.\"\"\"\n",
    "        return dict(filepath=self._filepath, protocol=self._protocol)"
   ]
  }
 ],
 "metadata": {
  "kernelspec": {
   "display_name": "cool_planet",
   "language": "python",
   "name": "python3"
  },
  "language_info": {
   "name": "python",
   "version": "3.10.12"
  }
 },
 "nbformat": 4,
 "nbformat_minor": 2
}
