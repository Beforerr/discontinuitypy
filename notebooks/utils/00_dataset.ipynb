{
 "cells": [
  {
   "cell_type": "code",
   "execution_count": null,
   "metadata": {},
   "outputs": [],
   "source": [
    "# | default_exp utils/dataset\n",
    "# | export\n",
    "from discontinuitypy.naming import start_col, end_col\n",
    "import polars as pl"
   ]
  },
  {
   "cell_type": "code",
   "execution_count": null,
   "metadata": {},
   "outputs": [],
   "source": [
    "# | export\n",
    "def keep_good_fit(df: pl.DataFrame, rsquared=0.9):\n",
    "    return df.filter(pl.col(\"fit.stat.rsquared\") > rsquared)"
   ]
  },
  {
   "cell_type": "code",
   "execution_count": null,
   "metadata": {},
   "outputs": [],
   "source": [
    "# | export\n",
    "def unique_events(df: pl.DataFrame, subset: list[str] = [start_col, end_col]):\n",
    "    return df.unique(subset=subset)"
   ]
  }
 ],
 "metadata": {
  "kernelspec": {
   "display_name": "python3",
   "language": "python",
   "name": "python3"
  }
 },
 "nbformat": 4,
 "nbformat_minor": 2
}
