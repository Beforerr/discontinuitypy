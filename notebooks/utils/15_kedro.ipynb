{
 "cells": [
  {
   "cell_type": "code",
   "execution_count": null,
   "metadata": {},
   "outputs": [],
   "source": [
    "#| default_exp utils/kedro\n",
    "#| export\n",
    "from kedro.config import OmegaConfigLoader\n",
    "from kedro.io import DataCatalog\n",
    "\n",
    "from kedro.framework.session import KedroSession\n",
    "from kedro.framework.startup import bootstrap_project\n",
    "from kedro.ipython import _resolve_project_path"
   ]
  },
  {
   "cell_type": "markdown",
   "metadata": {},
   "source": [
    "## `Kedro`"
   ]
  },
  {
   "cell_type": "markdown",
   "metadata": {},
   "source": [
    "Standard import\n",
    "```{python}\n",
    "from kedro.pipeline import Pipeline, node\n",
    "from kedro.pipeline.modular_pipeline import pipeline\n",
    "\n",
    "def create_pipeline(**kwargs) -> Pipeline:\n",
    "    return pipeline([\n",
    "        ...\n",
    "    ])\n",
    "```"
   ]
  },
  {
   "cell_type": "code",
   "execution_count": null,
   "metadata": {},
   "outputs": [],
   "source": [
    "def load_catalog(conf_source: str, catalog_source: str = \"catalog\"):\n",
    "    # Initialise a ConfigLoader\n",
    "    conf_loader = OmegaConfigLoader(conf_source)\n",
    "\n",
    "    # Load the data catalog configuration from catalog.yml\n",
    "    conf_catalog = conf_loader.get(catalog_source)\n",
    "\n",
    "    # Create the DataCatalog instance from the configuration\n",
    "    catalog = DataCatalog.from_config(conf_catalog)\n",
    "    \n",
    "    return catalog"
   ]
  },
  {
   "cell_type": "markdown",
   "metadata": {},
   "source": [
    "The following `load_catalog` provides project-aware access to the catalog. The preceding `load_catalog` only works when notebook is run from the project root."
   ]
  },
  {
   "cell_type": "code",
   "execution_count": null,
   "metadata": {},
   "outputs": [],
   "source": [
    "#| export\n",
    "def load_context(project_path: str, params_only: bool = False, catalog_only: bool = False):\n",
    "    project_path = _resolve_project_path(project_path)\n",
    "    metadata = bootstrap_project(project_path)\n",
    "    # configure_project(metadata.package_name)\n",
    "\n",
    "    session = KedroSession.create(\n",
    "        metadata.package_name, project_path,\n",
    "    )\n",
    "    context = session.load_context()\n",
    "\n",
    "    if params_only:\n",
    "        return context.params\n",
    "    if catalog_only:\n",
    "        return context.catalog\n",
    "    else:\n",
    "        return context"
   ]
  }
 ],
 "metadata": {
  "kernelspec": {
   "display_name": "cool_planet",
   "language": "python",
   "name": "python3"
  },
  "language_info": {
   "name": "python",
   "version": "3.10.12"
  }
 },
 "nbformat": 4,
 "nbformat_minor": 2
}
