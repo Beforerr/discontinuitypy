{
 "cells": [
  {
   "cell_type": "markdown",
   "metadata": {},
   "source": [
    "---\n",
    "title: Models\n",
    "format:\n",
    "  html:\n",
    "    code-fold: true\n",
    "---"
   ]
  },
  {
   "cell_type": "markdown",
   "metadata": {},
   "source": [
    "Need to run command in shell first as `pipeline` is project-specific command\n",
    "\n",
    "```{sh}\n",
    "kedro pipeline create model\n",
    "```"
   ]
  },
  {
   "cell_type": "code",
   "execution_count": null,
   "metadata": {},
   "outputs": [],
   "source": [
    "#| default_exp pipelines/model/pipeline"
   ]
  },
  {
   "cell_type": "code",
   "execution_count": null,
   "metadata": {},
   "outputs": [],
   "source": [
    "#| hide\n",
    "%load_ext lineapy\n",
    "%load_ext autoreload\n",
    "%autoreload 2"
   ]
  },
  {
   "cell_type": "code",
   "execution_count": null,
   "metadata": {},
   "outputs": [],
   "source": [
    "import hvplot.pandas\n",
    "import lineapy\n",
    "import seaborn as sns"
   ]
  },
  {
   "cell_type": "code",
   "execution_count": null,
   "metadata": {},
   "outputs": [],
   "source": [
    "#| export\n",
    "from loguru import logger\n",
    "from typing import Union, Collection, Callable, Optional, Tuple\n",
    "from typing import Any, Dict\n",
    "\n",
    "\n",
    "import numpy as np\n",
    "import polars as pl\n",
    "import pandas"
   ]
  },
  {
   "cell_type": "code",
   "execution_count": null,
   "metadata": {},
   "outputs": [],
   "source": [
    "from ids_finder.utils.basic import pl_norm, resample"
   ]
  },
  {
   "cell_type": "markdown",
   "metadata": {},
   "source": [
    "#### `Kerdo`"
   ]
  },
  {
   "cell_type": "code",
   "execution_count": null,
   "metadata": {},
   "outputs": [],
   "source": [
    "#| export\n",
    "from kedro.pipeline import Pipeline, node\n",
    "from kedro.pipeline.modular_pipeline import pipeline\n"
   ]
  },
  {
   "cell_type": "code",
   "execution_count": null,
   "metadata": {},
   "outputs": [],
   "source": [
    "from ids_finder.utils.basic import load_catalog"
   ]
  },
  {
   "cell_type": "code",
   "execution_count": null,
   "metadata": {},
   "outputs": [],
   "source": [
    "catalog = load_catalog()"
   ]
  },
  {
   "cell_type": "code",
   "execution_count": null,
   "metadata": {},
   "outputs": [],
   "source": [
    "catalog.list()"
   ]
  },
  {
   "cell_type": "markdown",
   "metadata": {},
   "source": [
    "## Process model data"
   ]
  },
  {
   "cell_type": "markdown",
   "metadata": {},
   "source": [
    "```{txt}\n",
    "Coordinate System:  HGI\n",
    "Variables:\n",
    "  Date_Time: date and time in ISO format [UT]\n",
    "  hour: elapsed time since trajectory start [hr]\n",
    "  r: radial coordinate in HGI [AU]\n",
    "  phi: longitude coordinate in HGI [deg]\n",
    "  Rho: density [amu/cm^3]\n",
    "  Ux, Uy, Uz: bulk velocity components in HGI [km/s]\n",
    "  Bx, By, Bz: magnetic field components in HGI [nT]\n",
    "  Ti: ion temperature [K]\n",
    "```"
   ]
  },
  {
   "cell_type": "code",
   "execution_count": null,
   "metadata": {},
   "outputs": [],
   "source": [
    "#| export\n",
    "bcols_hgi = ['bx', 'by', 'bz']\n",
    "bcols_rtn = ['br', 'bt', 'bn']\n",
    "vcols_hgi = ['ux', 'uy', 'uz']\n",
    "vcols_rtn = ['ur', 'ut', 'un']\n",
    "\n",
    "\n",
    "def hgi2rtn(df: pl.LazyFrame | pl.DataFrame):\n",
    "    \"\"\"Transform coordinates from HGI to RTN\"\"\"\n",
    "\n",
    "    # Compute RTN components for B\n",
    "    br = pl.col(\"bx\") * pl.col(\"phi_rad\").cos() + pl.col(\"by\") * pl.col(\"phi_rad\").sin()\n",
    "    bt = -pl.col(\"bx\") * pl.col(\"phi_rad\").sin() + pl.col(\"by\") * pl.col(\"phi_rad\").cos()\n",
    "    bn = pl.col(\"bz\")\n",
    "    \n",
    "    # Compute RTN components for V\n",
    "    ur = pl.col(\"ux\") * pl.col(\"phi_rad\").cos() + pl.col(\"uy\") * pl.col(\"phi_rad\").sin()\n",
    "    ut = -pl.col(\"ux\") * pl.col(\"phi_rad\").sin() + pl.col(\"uy\") * pl.col(\"phi_rad\").cos()\n",
    "    un = pl.col(\"uz\")\n",
    "\n",
    "    result = df.with_columns(\n",
    "        phi_rad=pl.col(\"phi\").radians(),\n",
    "    ).with_columns(\n",
    "        br=br,\n",
    "        bt=bt,\n",
    "        bn=bn,\n",
    "        ur=ur,\n",
    "        ut=ut,\n",
    "        un=un\n",
    "    ).drop([\"phi\", \"phi_rad\"] + bcols_hgi + vcols_hgi)\n",
    "    return result\n",
    "\n",
    "\n",
    "def process_model(df: pandas.DataFrame) -> pl.DataFrame:\n",
    "    \"\"\"Process the model data\"\"\"\n",
    "    df_pl = pl.from_pandas(df).lazy()\n",
    "\n",
    "    return (\n",
    "        df_pl\n",
    "        .with_columns(\n",
    "            time=pl.col(\"Date_Time\").str.to_datetime(time_unit=\"ns\"),\n",
    "        )\n",
    "        .drop([\"Date_Time\", \"hour\"])\n",
    "        .sort(\"time\")\n",
    "        .collect()\n",
    "    )"
   ]
  },
  {
   "cell_type": "code",
   "execution_count": null,
   "metadata": {},
   "outputs": [],
   "source": [
    "# | code-summary: load jno model data\n",
    "raw_jno_mswim2d = catalog.load(\"model.raw_jno_mswim2d\")\n",
    "processed_jno_mswim2d = process_model(raw_jno_mswim2d)\n",
    "jno_mswim2d_rtn = processed_jno_mswim2d.pipe(hgi2rtn)"
   ]
  },
  {
   "cell_type": "code",
   "execution_count": null,
   "metadata": {},
   "outputs": [],
   "source": [
    "def overview(df: pl.DataFrame):\n",
    "    \"\"\"Overview of the data\"\"\"\n",
    "    df_pd = df.to_pandas()\n",
    "    df_pd.hvplot(x=\"time\", y=bcols_rtn)\n",
    "    \n",
    "    b_fig = df_pd.hvplot.line(x=\"time\", y=bcols_rtn)\n",
    "    v_fig = df_pd.hvplot.line(x=\"time\", y=vcols_rtn)\n",
    "    rho_fig = df_pd.hvplot.line(x=\"time\", y=\"rho\", logy=True)\n",
    "    Ti_fig = df_pd.hvplot.line(x=\"time\", y=\"Ti\", logy=True)\n",
    "    return (b_fig + v_fig + rho_fig + Ti_fig).cols(1).opts(shared_axes=False)\n",
    "\n",
    "\n",
    "jno_mswim2d_rtn.pipe(overview)"
   ]
  },
  {
   "cell_type": "markdown",
   "metadata": {},
   "source": [
    "#### Pipelines\n",
    "\n",
    "```{sh}\n",
    "kedro run --namespace=model\n",
    "```"
   ]
  },
  {
   "cell_type": "code",
   "execution_count": null,
   "metadata": {},
   "outputs": [],
   "source": [
    "# | export\n",
    "def create_pipeline(**kwargs) -> Pipeline:\n",
    "    nodes = [\n",
    "        node(process_model, inputs=\"raw_jno_mswim2d\", outputs=\"processed_jno_mswim2d\"),\n",
    "        node(hgi2rtn, inputs=\"processed_jno_mswim2d\", outputs=\"jno_mswim2d_rtn\"),\n",
    "    ]\n",
    "    return pipeline(nodes, namespace=\"model\")"
   ]
  },
  {
   "cell_type": "markdown",
   "metadata": {},
   "source": [
    "## Compare JUNO data with model\n",
    "\n",
    "We are using juno 1min data to compare with model data"
   ]
  },
  {
   "cell_type": "code",
   "execution_count": 1,
   "metadata": {},
   "outputs": [],
   "source": [
    "from ids_finder.pipelines.juno.pipeline import download_juno_data, preprocess_jno"
   ]
  },
  {
   "cell_type": "code",
   "execution_count": null,
   "metadata": {},
   "outputs": [],
   "source": [
    "node(\n",
    "    download_juno_data,\n",
    "    inputs=None,\n",
    "    outputs=\"raw_jno_ss_se_1min\",\n",
    "    name=\"download_JUNO_data_1min\",\n",
    "),\n",
    "node(\n",
    "    preprocess_jno,\n",
    "    inputs=\"raw_jno_ss_se_1min\",\n",
    "    outputs=\"preprocessed_jno_ss_se_1min\",\n",
    "    name=\"preprocess_JUNO_node_1min\",\n",
    ")"
   ]
  },
  {
   "cell_type": "markdown",
   "metadata": {},
   "source": []
  },
  {
   "cell_type": "code",
   "execution_count": null,
   "metadata": {},
   "outputs": [],
   "source": [
    "#| code-summary: load jno data and resample to 1h to match model resolution\n",
    "preprocessed_jno_ss_se_1min: pl.DataFrame = catalog.load('preprocessed_jno_ss_se_1min')\n",
    "jno_ss_se_1min = preprocessed_jno_ss_se_1min.lazy().rename(\n",
    "    {\"BX SE\": \"br\", \"BY SE\": \"bt\", \"BZ SE\": \"bn\"}\n",
    ")\n",
    "\n",
    "jno_ss_se_1h = jno_ss_se_1min.pipe(resample, every=\"1h\", period='2h')"
   ]
  },
  {
   "cell_type": "code",
   "execution_count": null,
   "metadata": {},
   "outputs": [],
   "source": [
    "import plotly.graph_objects as go;\n",
    "from plotly_resampler import register_plotly_resampler\n",
    "from plotly_resampler import FigureResampler\n",
    "import plotly.express as px"
   ]
  },
  {
   "cell_type": "code",
   "execution_count": null,
   "metadata": {},
   "outputs": [],
   "source": [
    "jno_mswim2d_1h = processed_jno_mswim2d.lazy()"
   ]
  },
  {
   "cell_type": "code",
   "execution_count": null,
   "metadata": {},
   "outputs": [],
   "source": [
    "def _tf(df: pl.DataFrame):\n",
    "    \"temporal function to select interesting columns and add norm\"\n",
    "    cols = [\"time\", \"br\", \"bt\", \"bn\"]\n",
    "\n",
    "    return df.select(cols).with_columns(\n",
    "        b=pl_norm(bcols_rtn),\n",
    "    )\n",
    "\n",
    "\n",
    "jno_joint_1h_wide: pl.DataFrame = (\n",
    "    jno_ss_se_1h.pipe(_tf).join(\n",
    "        jno_mswim2d_1h.pipe(_tf),\n",
    "        on=\"time\",\n",
    "        suffix=\"_model\",\n",
    "    )\n",
    ").collect()\n",
    "\n",
    "jno_joint_1h_long = pl.concat(\n",
    "    [\n",
    "        jno_ss_se_1h.pipe(_tf).with_columns(type=pl.lit(\"1h\")),\n",
    "        jno_mswim2d_1h.pipe(_tf).with_columns(type=pl.lit(\"1h_model\")),\n",
    "    ]\n",
    ").collect()"
   ]
  },
  {
   "cell_type": "markdown",
   "metadata": {},
   "source": [
    "#### Data Porfiling\n",
    "\n",
    "Results are showed in the following links\n",
    "\n",
    "[Timeseries Report Result](jno_model_ts.html)\n",
    "\n",
    "[Comparison Report Result](jno_model_comparison.html)"
   ]
  },
  {
   "cell_type": "code",
   "execution_count": null,
   "metadata": {},
   "outputs": [],
   "source": [
    "#| eval: false\n",
    "from ydata_profiling import ProfileReport, compare"
   ]
  },
  {
   "cell_type": "code",
   "execution_count": null,
   "metadata": {},
   "outputs": [],
   "source": [
    "from fastcore.utils import threaded"
   ]
  },
  {
   "cell_type": "code",
   "execution_count": null,
   "metadata": {},
   "outputs": [],
   "source": [
    "@threaded\n",
    "def get_report_t(df: pl.DataFrame, output, **kwargs):\n",
    "    '''get report and save to file in a thread\n",
    "    '''\n",
    "    get_report(df, **kwargs).to_file(output)\n",
    "    return output\n",
    "\n",
    "def get_report(df: pl.DataFrame, **kwargs):\n",
    "    return ProfileReport(\n",
    "        df.to_pandas().set_index(\"time\"), **kwargs\n",
    "    )\n",
    "\n",
    "def get_comparison_report(df: pl.DataFrame, compare_col=None, tsmode=False, **kwargs):\n",
    "    \n",
    "    dfs_dict: Dict[str, pl.DataFrame] = df.partition_by(compare_col, as_dict=True)\n",
    "    \n",
    "    if tsmode:\n",
    "        raise NotImplementedError(\"tsmode for comparison is not implemented yet in `ydata_profiling`\")\n",
    "        # UnionMatchError: can not match type \"list\" to any type of \"time_index_analysis.period\" union: typing.Union[float,  \n",
    "        \n",
    "        # Notes: for `tsmode`, we need to match the time first\n",
    "        # select common timestamps\n",
    "        from functools import reduce\n",
    "        basetimestamps = reduce(np.intersect1d, [df.get_column('time') for df in dfs_dict.values()])\n",
    "        dfs_dict = {\n",
    "            k: df.filter(pl.col(\"time\").is_in(basetimestamps))\n",
    "            for k, df in dfs_dict.items()\n",
    "        }\n",
    "\n",
    "        for k, df in dfs_dict.items():\n",
    "            logger.info(f\"{k}: {len(df)}\")\n",
    "    \n",
    "    comparison_report = compare(\n",
    "        [get_report(df, title=k, **kwargs) for k, df in dfs_dict.items()]\n",
    "    )\n",
    "    \n",
    "    # Obtain merged statistics\n",
    "    comparison_report.get_description()\n",
    "\n",
    "    return comparison_report"
   ]
  },
  {
   "cell_type": "code",
   "execution_count": null,
   "metadata": {},
   "outputs": [],
   "source": [
    "get_report_t(\n",
    "    jno_joint_1h_wide,\n",
    "    output=\"jno_model_ts.html\",\n",
    "    tsmode=True,\n",
    "    title=\"JUNO Model Timeseries Report\",\n",
    ")"
   ]
  },
  {
   "cell_type": "code",
   "execution_count": null,
   "metadata": {},
   "outputs": [],
   "source": [
    "get_comparison_report(jno_joint_1h_long, compare_col=\"type\").to_file(\n",
    "    \"jno_model_comparison.html\"\n",
    ")"
   ]
  },
  {
   "cell_type": "markdown",
   "metadata": {},
   "source": [
    "## Validation"
   ]
  },
  {
   "cell_type": "markdown",
   "metadata": {},
   "source": [
    "#### Connect `python` with `R` kernel"
   ]
  },
  {
   "cell_type": "code",
   "execution_count": null,
   "metadata": {},
   "outputs": [],
   "source": [
    "%load_ext rpy2.ipython\n",
    "\n",
    "from ids_finder.utils.r import py2rpy_polars\n",
    "conv_pl = py2rpy_polars()"
   ]
  },
  {
   "cell_type": "code",
   "execution_count": null,
   "metadata": {},
   "outputs": [],
   "source": [
    "%%R\n",
    "library(ggplot2)\n",
    "library(ggpubr)\n",
    "library(viridis)\n",
    "\n",
    "library(glue)\n",
    "library(arrow)"
   ]
  },
  {
   "cell_type": "code",
   "execution_count": null,
   "metadata": {},
   "outputs": [],
   "source": [
    "import warnings\n",
    "\n",
    "# This will filter out all FutureWarnings\n",
    "warnings.simplefilter(action='ignore', category=FutureWarning)"
   ]
  },
  {
   "cell_type": "code",
   "execution_count": null,
   "metadata": {},
   "outputs": [],
   "source": [
    "#| column: screen\n",
    "fig = px.line(\n",
    "    jno_joint_1h_long.sort(\"time\"),\n",
    "    x=\"time\",\n",
    "    y=\"b\",\n",
    "    color=\"type\",\n",
    ")\n",
    "fig"
   ]
  },
  {
   "cell_type": "markdown",
   "metadata": {},
   "source": [
    "### Compare directly with scatter plot"
   ]
  },
  {
   "cell_type": "code",
   "execution_count": null,
   "metadata": {},
   "outputs": [],
   "source": [
    "def bb_jointplot(data):\n",
    "    g = sns.jointplot(\n",
    "        x = 'b',\n",
    "        y = 'b_model',\n",
    "        data = data,\n",
    "        kind = 'hist',\n",
    "    )\n",
    "    return g"
   ]
  },
  {
   "cell_type": "code",
   "execution_count": null,
   "metadata": {},
   "outputs": [],
   "source": [
    "g = bb_jointplot(jno_joint_1h_wide)\n",
    "g.ax_marg_x.set_xlim(0, 5)\n",
    "g.ax_marg_y.set_ylim(0, 5)"
   ]
  },
  {
   "cell_type": "code",
   "execution_count": null,
   "metadata": {},
   "outputs": [],
   "source": [
    "%%R -i jno_joint_1h_wide -c conv_pl\n",
    "p1 <- ggplot(jno_joint_1h_wide, aes(x=b, y=b_model) ) +\n",
    "  geom_bin2d() +\n",
    "  geom_density_2d( colour=\"white\" ) +\n",
    "  scale_fill_continuous(trans=\"log\", type = \"viridis\") +\n",
    "  stat_regline_equation() + \n",
    "  xlim(-0.1, 10) +  # Set x-axis limits\n",
    "  ylim(-0.1, 10) +  # Set y-axis limits\n",
    "  theme_pubr(legend = 'right')\n",
    "  # theme(legend.position = c(0.8,0.8))\n",
    "  # stat_density_2d(aes(fill = ..level..), geom = \"polygon\", colour=\"white\")\n",
    "\n",
    "p1"
   ]
  },
  {
   "cell_type": "markdown",
   "metadata": {},
   "source": [
    "#### Test: remove outliers"
   ]
  },
  {
   "cell_type": "code",
   "execution_count": null,
   "metadata": {},
   "outputs": [],
   "source": [
    "from pyod.models.ecod import ECOD\n",
    "\n",
    "data = jno_joint_1h_wide[['b', 'b_model']]\n",
    "\n",
    "clf = ECOD()\n",
    "clf.fit(data)"
   ]
  },
  {
   "cell_type": "code",
   "execution_count": null,
   "metadata": {},
   "outputs": [],
   "source": [
    "y_train_scores = clf.decision_scores_  # raw outlier scores on the train data\n",
    "y_train_pred = clf.labels_  # binary labels (0: inliers, 1: outliers)"
   ]
  },
  {
   "cell_type": "code",
   "execution_count": null,
   "metadata": {},
   "outputs": [],
   "source": [
    "bb_jointplot(jno_joint_1h_wide.filter(y_train_pred==1))\n",
    "data = jno_joint_1h_wide.filter(y_train_pred==0)\n",
    "g = sns.jointplot(\n",
    "    x = 'b',\n",
    "    y = 'b_model',\n",
    "    data = data,\n",
    "    kind = 'hist',\n",
    ")\n",
    "\n",
    "g.plot_joint(sns.kdeplot, color=\"r\", zorder=0, levels=6)\n"
   ]
  },
  {
   "cell_type": "code",
   "execution_count": null,
   "metadata": {},
   "outputs": [],
   "source": [
    "from kedro.pipeline import Pipeline, pipeline, node\n",
    "\n",
    "def create_pipeline(**kwargs) -> Pipeline:\n",
    "    return pipeline([\n",
    "        node(process_model, inputs=\"jno_mswim2d\", outputs=\"processed_jno_mswim2d\", name=\"preprocess model data\")\n",
    "    ])"
   ]
  }
 ],
 "metadata": {
  "kernelspec": {
   "display_name": "python3",
   "language": "python",
   "name": "python3"
  }
 },
 "nbformat": 4,
 "nbformat_minor": 2
}
