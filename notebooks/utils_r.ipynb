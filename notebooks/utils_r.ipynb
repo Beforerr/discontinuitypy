{
 "cells": [
  {
   "cell_type": "code",
   "execution_count": null,
   "metadata": {},
   "outputs": [],
   "source": [
    "#| default_exp utils/r"
   ]
  },
  {
   "cell_type": "markdown",
   "metadata": {},
   "source": [
    "You can install the package with `pip install rpy2 rpy2-arrow`"
   ]
  },
  {
   "cell_type": "code",
   "execution_count": null,
   "metadata": {},
   "outputs": [],
   "source": [
    "#| export\n",
    "import rpy2\n",
    "import rpy2_arrow.arrow as pyra\n",
    "from rpy2.robjects.packages import importr\n",
    "import polars as pl\n",
    "\n",
    "def py2rpy_polars():\n",
    "    #| code-summary: helper functions to convert between `python` and `R` dataframes\n",
    "    base = importr('base')\n",
    "\n",
    "    conv_pl = rpy2.robjects.conversion.Converter(\n",
    "        'Pandas to pyarrow',\n",
    "        template=pyra.converter)\n",
    "\n",
    "    @conv_pl.py2rpy.register(pl.DataFrame)\n",
    "    def py2rpy_pandas(dataf: pl.DataFrame):\n",
    "        pa_tbl = dataf.to_arrow()\n",
    "        return base.as_data_frame(pa_tbl)\n",
    "        # return pyra.converter.py2rpy(pa_tbl) # NOTE: not working for ggplot2\n",
    "\n",
    "    conv_pl = rpy2.ipython.rmagic.converter + conv_pl\n",
    "    return conv_pl"
   ]
  },
  {
   "cell_type": "code",
   "execution_count": null,
   "metadata": {},
   "outputs": [
    {
     "name": "stdout",
     "output_type": "stream",
     "text": [
      "The rpy2.ipython extension is already loaded. To reload it, use:\n",
      "  %reload_ext rpy2.ipython\n",
      "  a b c\n",
      "1 1 4 a\n",
      "2 2 5 b\n",
      "3 3 6 c\n"
     ]
    },
    {
     "data": {
      "text/html": [
       "<div>\n",
       "<style scoped>\n",
       "    .dataframe tbody tr th:only-of-type {\n",
       "        vertical-align: middle;\n",
       "    }\n",
       "\n",
       "    .dataframe tbody tr th {\n",
       "        vertical-align: top;\n",
       "    }\n",
       "\n",
       "    .dataframe thead th {\n",
       "        text-align: right;\n",
       "    }\n",
       "</style>\n",
       "<table border=\"1\" class=\"dataframe\">\n",
       "  <thead>\n",
       "    <tr style=\"text-align: right;\">\n",
       "      <th></th>\n",
       "      <th>a</th>\n",
       "      <th>b</th>\n",
       "      <th>c</th>\n",
       "    </tr>\n",
       "  </thead>\n",
       "  <tbody>\n",
       "    <tr>\n",
       "      <th>1</th>\n",
       "      <td>1</td>\n",
       "      <td>4</td>\n",
       "      <td>a</td>\n",
       "    </tr>\n",
       "    <tr>\n",
       "      <th>2</th>\n",
       "      <td>2</td>\n",
       "      <td>5</td>\n",
       "      <td>b</td>\n",
       "    </tr>\n",
       "    <tr>\n",
       "      <th>3</th>\n",
       "      <td>3</td>\n",
       "      <td>6</td>\n",
       "      <td>c</td>\n",
       "    </tr>\n",
       "  </tbody>\n",
       "</table>\n",
       "</div>"
      ],
      "text/plain": [
       "   a  b  c\n",
       "1  1  4  a\n",
       "2  2  5  b\n",
       "3  3  6  c"
      ]
     },
     "execution_count": null,
     "metadata": {},
     "output_type": "execute_result"
    }
   ],
   "source": [
    "# test\n",
    "%load_ext rpy2.ipython\n",
    "conv_pl = py2rpy_polars()\n",
    "df = pl.DataFrame({\n",
    "    'a': [1, 2, 3],\n",
    "    'b': [4, 5, 6],\n",
    "    'c': ['a', 'b', 'c']\n",
    "})\n",
    "%R -i df -c conv_pl\n",
    "%R print(df)"
   ]
  }
 ],
 "metadata": {
  "kernelspec": {
   "display_name": "python3",
   "language": "python",
   "name": "python3"
  }
 },
 "nbformat": 4,
 "nbformat_minor": 2
}
