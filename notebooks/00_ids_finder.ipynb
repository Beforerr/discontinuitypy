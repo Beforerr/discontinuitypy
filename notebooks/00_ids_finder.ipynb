{
 "cells": [
  {
   "cell_type": "markdown",
   "metadata": {},
   "source": [
    "---\n",
    "title: Finding magnetic discontinuities\n",
    "order: 0\n",
    "---\n",
    "\n",
    "It can be divided into two parts:\n",
    "\n",
    "1. Finding the discontinuities, see [this notebook](./01_ids_detection.ipynb)\n",
    "    - Corresponding to limited feature extraction / anomaly detection\n",
    "2. Calculating the properties of the discontinuities, see [this notebook](./02_ids_properties.ipynb)\n",
    "    - One can use higher time resolution data"
   ]
  },
  {
   "cell_type": "code",
   "execution_count": null,
   "metadata": {},
   "outputs": [],
   "source": [
    "#| default_exp core/pipeline"
   ]
  },
  {
   "cell_type": "code",
   "execution_count": 1,
   "metadata": {},
   "outputs": [
    {
     "data": {
      "text/html": [
       "<pre style=\"white-space:pre;overflow-x:auto;line-height:normal;font-family:Menlo,'DejaVu Sans Mono',consolas,'Courier New',monospace\"><span style=\"color: #7fbfbf; text-decoration-color: #7fbfbf\">[11/18/23 10:15:25] </span><span style=\"color: #800000; text-decoration-color: #800000\">WARNING </span> TqdmExperimentalWarning: Using `tqdm.autonotebook.tqdm` in notebook    <a href=\"file:///Users/zijin/miniforge3/envs/cool_planet/lib/python3.10/warnings.py\" target=\"_blank\"><span style=\"color: #7f7f7f; text-decoration-color: #7f7f7f\">warnings.py</span></a><span style=\"color: #7f7f7f; text-decoration-color: #7f7f7f\">:</span><a href=\"file:///Users/zijin/miniforge3/envs/cool_planet/lib/python3.10/warnings.py#109\" target=\"_blank\"><span style=\"color: #7f7f7f; text-decoration-color: #7f7f7f\">109</span></a>\n",
       "<span style=\"color: #7fbfbf; text-decoration-color: #7fbfbf\">                    </span>         mode. Use `tqdm.tqdm` instead to force console mode <span style=\"font-weight: bold\">(</span>e.g. in jupyter   <span style=\"color: #7f7f7f; text-decoration-color: #7f7f7f\">               </span>\n",
       "<span style=\"color: #7fbfbf; text-decoration-color: #7fbfbf\">                    </span>         console<span style=\"font-weight: bold\">)</span>                                                               <span style=\"color: #7f7f7f; text-decoration-color: #7f7f7f\">               </span>\n",
       "<span style=\"color: #7fbfbf; text-decoration-color: #7fbfbf\">                    </span>                                                                                <span style=\"color: #7f7f7f; text-decoration-color: #7f7f7f\">               </span>\n",
       "</pre>\n"
      ],
      "text/plain": [
       "\u001b[2;36m[11/18/23 10:15:25]\u001b[0m\u001b[2;36m \u001b[0m\u001b[31mWARNING \u001b[0m TqdmExperimentalWarning: Using `tqdm.autonotebook.tqdm` in notebook    \u001b]8;id=256656;file:///Users/zijin/miniforge3/envs/cool_planet/lib/python3.10/warnings.py\u001b\\\u001b[2mwarnings.py\u001b[0m\u001b]8;;\u001b\\\u001b[2m:\u001b[0m\u001b]8;id=668127;file:///Users/zijin/miniforge3/envs/cool_planet/lib/python3.10/warnings.py#109\u001b\\\u001b[2m109\u001b[0m\u001b]8;;\u001b\\\n",
       "\u001b[2;36m                    \u001b[0m         mode. Use `tqdm.tqdm` instead to force console mode \u001b[1m(\u001b[0me.g. in jupyter   \u001b[2m               \u001b[0m\n",
       "\u001b[2;36m                    \u001b[0m         console\u001b[1m)\u001b[0m                                                               \u001b[2m               \u001b[0m\n",
       "\u001b[2;36m                    \u001b[0m                                                                                \u001b[2m               \u001b[0m\n"
      ]
     },
     "metadata": {},
     "output_type": "display_data"
    }
   ],
   "source": [
    "#| export\n",
    "#| code-summary: \"Import all the packages needed for the project\"\n",
    "import polars as pl\n",
    "from discontinuitypy.core.propeties import process_events\n",
    "from discontinuitypy.core.detection import detect_events\n",
    "from discontinuitypy.utils.basic import df2ts\n",
    "import numpy as np\n",
    "\n",
    "from datetime import timedelta\n",
    "\n",
    "from typing import Callable"
   ]
  },
  {
   "cell_type": "markdown",
   "metadata": {},
   "source": [
    "## Processing the whole dataset"
   ]
  },
  {
   "cell_type": "markdown",
   "metadata": {},
   "source": [
    "Notes that the candidates only require a small portion of the data so we can compress the data to speed up the processing."
   ]
  },
  {
   "cell_type": "code",
   "execution_count": null,
   "metadata": {},
   "outputs": [],
   "source": [
    "# | export\n",
    "def compress_data_by_cands(\n",
    "    data: pl.DataFrame, candidates: pl.DataFrame\n",
    "):\n",
    "    \"\"\"Compress the data for parallel processing\"\"\"\n",
    "    ttstarts = candidates[\"tstart\"]\n",
    "    ttstops = candidates[\"tstop\"]\n",
    "\n",
    "    ttstarts_index = data[\"time\"].search_sorted(ttstarts)\n",
    "    ttstops_index = data[\"time\"].search_sorted(ttstops)\n",
    "\n",
    "    indices = np.concatenate(\n",
    "        [\n",
    "            np.arange(ttstart_index, ttstop_index + 1)\n",
    "            for ttstart_index, ttstop_index in zip(ttstarts_index, ttstops_index)\n",
    "        ]\n",
    "    )  # faster than `pl.arange`\n",
    "    indices_unique = (\n",
    "        pl.Series(indices).unique().sort()\n",
    "    )  # faster than `np.unique(index)`\n",
    "    return data[indices_unique]\n"
   ]
  },
  {
   "cell_type": "code",
   "execution_count": null,
   "metadata": {},
   "outputs": [],
   "source": [
    "# | export\n",
    "def ids_finder(\n",
    "    detection_df: pl.LazyFrame, # data used for anomaly dectection (typically low cadence data)\n",
    "    tau: timedelta,\n",
    "    ts: timedelta, \n",
    "    bcols = None,\n",
    "    extract_df: pl.LazyFrame = None, # data used for feature extraction (typically high cadence data)\n",
    "):\n",
    "    if extract_df is None:\n",
    "        extract_df = detection_df\n",
    "    if bcols is None:\n",
    "        bcols = detection_df.columns\n",
    "        bcols.remove(\"time\")\n",
    "    \n",
    "    detection_df = detection_df.sort(\"time\").with_columns(pl.col(\"time\").dt.cast_time_unit(\"us\")) # https://github.com/pola-rs/polars/issues/12023\n",
    "    extract_df = extract_df.sort(\"time\").with_columns(pl.col(\"time\").dt.cast_time_unit(\"us\"))\n",
    "\n",
    "    events = detect_events(detection_df, tau, ts, bcols)\n",
    "    \n",
    "    data_c = compress_data_by_cands(extract_df.collect(), events)\n",
    "    sat_fgm = df2ts(data_c, bcols)\n",
    "    ids = process_events(events, sat_fgm, ts)\n",
    "    return ids"
   ]
  },
  {
   "cell_type": "markdown",
   "metadata": {},
   "source": [
    "wrapper function for partitioned input used in `Kedro`"
   ]
  },
  {
   "cell_type": "code",
   "execution_count": null,
   "metadata": {},
   "outputs": [],
   "source": [
    "# | export\n",
    "def extract_features(\n",
    "    partitioned_input: dict[str, Callable[..., pl.LazyFrame]],\n",
    "    tau: float,  # in seconds, yaml input\n",
    "    ts: float,  # in seconds, yaml input\n",
    "    **kwargs,\n",
    ") -> pl.DataFrame:\n",
    "    \"wrapper function for partitioned input\"\n",
    "\n",
    "    _tau = timedelta(seconds=tau)\n",
    "    _ts = timedelta(seconds=ts)\n",
    "\n",
    "    ids = pl.concat(\n",
    "        [\n",
    "            ids_finder(partition_load(), _tau, _ts, **kwargs)\n",
    "            for partition_load in partitioned_input.values()\n",
    "        ]\n",
    "    )\n",
    "    return ids.unique([\"d_time\", \"d_tstart\", \"d_tstop\"])"
   ]
  },
  {
   "cell_type": "markdown",
   "metadata": {},
   "source": [
    "## Conventions\n",
    "\n",
    "As we are dealing with multiple spacecraft, we need to be careful about naming conventions. Here are the conventions we use in this project.\n",
    "\n",
    "-   `sat_id`: name of the spacecraft. We also use abbreviation, for example\n",
    "    -   `sta` for `STEREO-A`\n",
    "    -   `thb` for `ARTEMIS-B`\n",
    "-   `sat_state`: state data of the spacecraft\n",
    "-   `b_vl`: maximum variance vector of the magnetic field, (major eigenvector)\n",
    "\n",
    "Data Level\n",
    "\n",
    "-   l0: unprocessed\n",
    "\n",
    "-   l1: cleaned data, fill null value, add useful columns\n",
    "\n",
    "-   l2: time-averaged data\n",
    "\n",
    "### Columns naming conventions\n",
    "\n",
    "-   `radial_distance`: radial distance of the spacecraft, in units of $AU$\n",
    "\n",
    "-   `plasma_speed`: solar wind plasma speed, in units of $km/s$\n",
    "\n",
    "-   `sw_elevation`: solar wind elevation angle, in units of $\\degree$\n",
    "\n",
    "-   `sw_azimuth`: solar wind azimuth angle, in units of $\\degree$\n",
    "\n",
    "-   `v_{x,y,z}` or `sw_vel_{X,Y,Z}`: solar wind plasma speed in the *ANY* coordinate system, in units of $km/s$\n",
    "\n",
    "    -   `sw_vel_{r,t,n}`: solar wind plasma speed in the RTN coordinate system, in units of $km/s$\n",
    "    -   `sw_vel_gse_{x,y,z}`: solar wind plasma speed in the GSE coordinate system, in units of $km/s$\n",
    "    -   `sw_vel_lmn_{x,y,z}`: solar wind plasma speed in the LMN coordinate system, in units of $km/s$\n",
    "        -   `v_l` or `sw_vel_l`: abbreviation for `sw_vel_lmn_1`\n",
    "        -   `v_mn` or `sw_vel_mn` (deprecated)\n",
    "\n",
    "-   `plasma_density`: plasma density, in units of $1/cm^{3}$\n",
    "\n",
    "-   `plasma_temperature`: plasma temperature, in units of $K$\n",
    "\n",
    "-   `B_{x,y,z}`: magnetic field in *ANY* coordinate system\n",
    "\n",
    "    -   `b_rtn_{x,y,z}` or `b_{r,t,n}`: magnetic field in the RTN coordinate system\n",
    "    -   `b_gse_{x,y,z}`: magnetic field in the GSE coordinate system\n",
    "\n",
    "-   `B_mag`: magnetic field magnitude\n",
    "\n",
    "-   `Vl_{x,y,z}` or `b_vecL_{X,Y,Z}`: maxium variance vector of the magnetic field in *ANY* coordinate system\n",
    "\n",
    "    -   `b_vecL_{r,t,n}`: maxium variance vector of the magnetic field in the RTN coordinate system\n",
    "\n",
    "-   `model_b_{r,t,n}`: modelled magnetic field in the RTN coordinate system\n",
    "\n",
    "-   `state` : *1* for *solar wind*, *0* for *non-solar wind*\n",
    "\n",
    "-   `L_mn{_norm}`: thickness of the current sheet in MN direction, in units of $km$\n",
    "\n",
    "-   `j0{_norm}`: current density, in units of $nA/m^2$\n",
    "\n",
    "Notes: we recommend use unique names for each variable, for example, `plasma_speed` instead of `speed`. Because it is easier to search and replace the variable names in the code whenever necessary.\n",
    "\n",
    "For the unit, by default we use\n",
    "\n",
    "-   length : $km$\n",
    "-   time : $s$\n",
    "-   magnetic field : $nT$\n",
    "-   current : $nA/m^2$"
   ]
  },
  {
   "cell_type": "markdown",
   "metadata": {},
   "source": [
    "## Test"
   ]
  },
  {
   "cell_type": "markdown",
   "metadata": {},
   "source": [
    "### Test feature engineering"
   ]
  },
  {
   "cell_type": "code",
   "execution_count": null,
   "metadata": {},
   "outputs": [],
   "source": [
    "# from tsflex.features import MultipleFeatureDescriptors, FeatureCollection\n",
    "\n",
    "# from tsflex.features.integrations import catch22_wrapper\n",
    "# from pycatch22 import catch22_all"
   ]
  },
  {
   "cell_type": "code",
   "execution_count": null,
   "metadata": {},
   "outputs": [],
   "source": [
    "# tau_pd = pd.Timedelta(tau)\n",
    "\n",
    "# catch22_feats = MultipleFeatureDescriptors(\n",
    "#     functions=catch22_wrapper(catch22_all),\n",
    "#     series_names=bcols,  # list of signal names\n",
    "#     windows = tau_pd, strides=tau_pd/2,\n",
    "# )\n",
    "\n",
    "# fc = FeatureCollection(catch22_feats)\n",
    "# features = fc.calculate(data, return_df=True)  # calculate the features on your data"
   ]
  },
  {
   "cell_type": "code",
   "execution_count": null,
   "metadata": {},
   "outputs": [],
   "source": [
    "# features_pl = pl.DataFrame(features.reset_index()).sort('time')\n",
    "# df = candidates_pl.join_asof(features_pl, on='time').to_pandas()"
   ]
  },
  {
   "cell_type": "code",
   "execution_count": null,
   "metadata": {},
   "outputs": [],
   "source": [
    "# profile = ProfileReport(df, title=\"JUNO Candidates Report\")\n",
    "# profile.to_file(\"jno.html\")"
   ]
  },
  {
   "cell_type": "markdown",
   "metadata": {},
   "source": [
    "### Benchmark"
   ]
  },
  {
   "cell_type": "markdown",
   "metadata": {},
   "source": [
    "## Notes"
   ]
  },
  {
   "cell_type": "markdown",
   "metadata": {},
   "source": [
    "### TODOs\n",
    "\n",
    "1. Feature engineering\n",
    "2. Feature selection"
   ]
  },
  {
   "cell_type": "markdown",
   "metadata": {},
   "source": [
    "## Obsolete codes"
   ]
  }
 ],
 "metadata": {
  "kernelspec": {
   "display_name": "python3",
   "language": "python",
   "name": "python3"
  },
  "language_info": {
   "codemirror_mode": {
    "name": "ipython",
    "version": 3
   },
   "file_extension": ".py",
   "mimetype": "text/x-python",
   "name": "python",
   "nbconvert_exporter": "python",
   "pygments_lexer": "ipython3",
   "version": "3.10.13"
  }
 },
 "nbformat": 4,
 "nbformat_minor": 2
}
