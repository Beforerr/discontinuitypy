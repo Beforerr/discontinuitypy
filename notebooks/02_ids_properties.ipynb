{
 "cells": [
  {
   "cell_type": "markdown",
   "metadata": {},
   "source": [
    "---\n",
    "title: ID properties\n",
    "subtitle: Full feature extraction\n",
    "---"
   ]
  },
  {
   "cell_type": "code",
   "execution_count": null,
   "metadata": {},
   "outputs": [],
   "source": [
    "# | default_exp core/propeties\n",
    "# | export\n",
    "# | code-summary: \"Import all the packages needed for the project\"\n",
    "import polars as pl\n",
    "import xarray as xr\n",
    "import numpy as np\n",
    "import ray\n",
    "\n",
    "from discontinuitypy.propeties.duration import calc_duration\n",
    "from discontinuitypy.propeties.mva import calc_mva_features_all\n",
    "from typing import Literal\n",
    "\n",
    "ray.init(ignore_reinit_error=True)"
   ]
  },
  {
   "cell_type": "code",
   "execution_count": null,
   "metadata": {},
   "outputs": [],
   "source": [
    "# | export\n",
    "def get_data_at_times(data: xr.DataArray, times) -> np.ndarray:\n",
    "    \"\"\"\n",
    "    Select data at specified times.\n",
    "    \"\"\"\n",
    "    # Use xarray's selection capability if data supports it\n",
    "    return data.sel(time=times, method=\"nearest\").to_numpy()\n",
    "\n",
    "\n",
    "def select_data_by_timerange(data: xr.DataArray, tstart, tstop, neighbor: int = 0):\n",
    "    duration = tstop - tstart\n",
    "    offset = neighbor * duration\n",
    "    timerange = slice(tstart - offset, tstop + offset)\n",
    "    return data.sel(time=timerange)\n",
    "\n",
    "\n",
    "def get_candidate_data(candidate: dict, data: xr.DataArray, **kwargs):\n",
    "    return select_data_by_timerange(\n",
    "        data, candidate[\"tstart\"], candidate[\"tstop\"], **kwargs\n",
    "    )"
   ]
  },
  {
   "cell_type": "markdown",
   "metadata": {},
   "source": [
    "## Pipelines"
   ]
  },
  {
   "cell_type": "code",
   "execution_count": null,
   "metadata": {},
   "outputs": [],
   "source": [
    "# | exporti\n",
    "def ld2dl(listdict: list[dict], func=np.array):\n",
    "    \"\"\"Convert a list of dictionaries to a dictionary of lists.\"\"\"\n",
    "    return {key: func([result[key] for result in listdict]) for key in listdict[0]}"
   ]
  },
  {
   "cell_type": "code",
   "execution_count": null,
   "metadata": {},
   "outputs": [],
   "source": [
    "# | export\n",
    "def calc_events_tr_features(\n",
    "    df: pl.DataFrame, data, tr_cols=[\"tstart\", \"tstop\"], func=None, **kwargs\n",
    "):\n",
    "    tranges = df.select(tr_cols).to_numpy()\n",
    "    data_ref = ray.put(data)\n",
    "\n",
    "    @ray.remote\n",
    "    def remote(tr, **kwargs):\n",
    "        data = select_data_by_timerange(ray.get(data_ref), tr[0], tr[1])\n",
    "        return func(data, **kwargs)\n",
    "\n",
    "    results = ray.get([remote.remote(tr, **kwargs) for tr in tranges])\n",
    "    return df.with_columns(**ld2dl(results))\n",
    "\n",
    "\n",
    "def calc_events_duration(df, data, tr_cols=[\"tstart\", \"tstop\"], **kwargs):\n",
    "    return calc_events_tr_features(\n",
    "        df, data, tr_cols, func=calc_duration, **kwargs\n",
    "    ).drop_nulls()\n",
    "\n",
    "\n",
    "def calc_events_mva_features(df, data, tr_cols=[\"t.d_start\", \"t.d_end\"], **kwargs):\n",
    "    return calc_events_tr_features(\n",
    "        df, data, tr_cols, func=calc_mva_features_all, **kwargs\n",
    "    )"
   ]
  },
  {
   "cell_type": "code",
   "execution_count": null,
   "metadata": {},
   "outputs": [],
   "source": [
    "# | export\n",
    "def calc_normal_direction(v1, v2):\n",
    "    \"\"\"\n",
    "    Computes the normal direction of two vectors.\n",
    "\n",
    "    Parameters\n",
    "    ----------\n",
    "    v1 : array_like\n",
    "        The first vector(s).\n",
    "    v2 : array_like\n",
    "        The second vector(s).\n",
    "    \"\"\"\n",
    "    c = np.cross(v1, v2)\n",
    "    return c / np.linalg.norm(c, axis=-1, keepdims=True)"
   ]
  },
  {
   "cell_type": "code",
   "execution_count": null,
   "metadata": {},
   "outputs": [],
   "source": [
    "# | export\n",
    "def calc_events_normal_direction(\n",
    "    df: pl.DataFrame, data: xr.DataArray, name=\"k\", start=\"t.d_start\", end=\"t.d_end\"\n",
    "):\n",
    "    \"\"\"\n",
    "    Computes the normal directions(s) at two different time steps.\n",
    "    \"\"\"\n",
    "    tstart, tstop = df[start].to_numpy(), df[end].to_numpy()\n",
    "\n",
    "    vecs_before = get_data_at_times(data, tstart)\n",
    "    vecs_after = get_data_at_times(data, tstop)\n",
    "\n",
    "    normal_directions = calc_normal_direction(vecs_before, vecs_after)\n",
    "    # need to convert to list first, as only 1D array is supported\n",
    "    return df.with_columns(pl.Series(name, normal_directions))\n",
    "\n",
    "\n",
    "# | export\n",
    "def calc_events_vec_change(\n",
    "    df: pl.DataFrame, data: xr.DataArray, name=\"dB\", start=\"t.d_start\", end=\"t.d_end\"\n",
    "):\n",
    "    \"\"\"\n",
    "    Utils function to calculate features related to the change of the magnetic field\n",
    "    \"\"\"\n",
    "    tstart, tstop = df[start].to_numpy(), df[end].to_numpy()\n",
    "\n",
    "    vecs_before = get_data_at_times(data, tstart)\n",
    "    vecs_after = get_data_at_times(data, tstop)\n",
    "    dvecs = vecs_after - vecs_before\n",
    "\n",
    "    return df.with_columns(pl.Series(name, dvecs))"
   ]
  },
  {
   "cell_type": "markdown",
   "metadata": {},
   "source": [
    "## Data processing"
   ]
  },
  {
   "cell_type": "code",
   "execution_count": null,
   "metadata": {},
   "outputs": [],
   "source": [
    "# | export\n",
    "def process_events(\n",
    "    events: pl.DataFrame,  # potential candidates DataFrame\n",
    "    data: xr.DataArray,\n",
    "    method: Literal[\"fit\", \"derivative\"] = \"fit\",\n",
    "    **kwargs,\n",
    "):\n",
    "    \"Process candidates DataFrame\"\n",
    "\n",
    "    if method == \"fit\":\n",
    "        duration_method = \"distance\"\n",
    "        duration_expr = pl.col(\"fit.vars.sigma\") * 2\n",
    "    else:\n",
    "        duration_method = \"derivative\"\n",
    "        duration_expr = (\n",
    "            pl.col(\"t.d_end\") - pl.col(\"t.d_start\")\n",
    "        ).dt.total_nanoseconds() / 1e9\n",
    "\n",
    "    return (\n",
    "        events.pipe(calc_events_duration, data=data, method=duration_method)\n",
    "        .pipe(calc_events_mva_features, data=data, method=method)\n",
    "        .pipe(calc_events_vec_change, data=data, name=\"dB\")\n",
    "        .pipe(calc_events_normal_direction, data=data, name=\"k\")\n",
    "    ).with_columns(duration=duration_expr)"
   ]
  }
 ],
 "metadata": {
  "kernelspec": {
   "display_name": "python3",
   "language": "python",
   "name": "python3"
  }
 },
 "nbformat": 4,
 "nbformat_minor": 2
}
