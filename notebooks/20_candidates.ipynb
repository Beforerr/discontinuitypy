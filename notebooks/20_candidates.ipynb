{
 "cells": [
  {
   "cell_type": "markdown",
   "metadata": {},
   "source": [
    "---\n",
    "title: \"Datasets\"\n",
    "description: This notebook contains the code to deal with all candidates and individual candidate.\n",
    "---"
   ]
  },
  {
   "cell_type": "code",
   "execution_count": 2,
   "metadata": {},
   "outputs": [],
   "source": [
    "#| default_exp candidates"
   ]
  },
  {
   "cell_type": "code",
   "execution_count": 3,
   "metadata": {},
   "outputs": [],
   "source": [
    "#| export\n",
    "import polars as pl\n",
    "import polars.selectors as cs\n",
    "import pandas as pd\n",
    "import pandas\n",
    "import xarray as xr\n",
    "\n",
    "from datetime import timedelta"
   ]
  },
  {
   "cell_type": "markdown",
   "metadata": {},
   "source": [
    "#### `Kerdo`"
   ]
  },
  {
   "cell_type": "code",
   "execution_count": 4,
   "metadata": {},
   "outputs": [],
   "source": [
    "#| export\n",
    "from kedro.pipeline import Pipeline, node\n",
    "from kedro.pipeline.modular_pipeline import pipeline\n",
    "from ids_finder.utils.basic import load_catalog"
   ]
  },
  {
   "cell_type": "code",
   "execution_count": 5,
   "metadata": {},
   "outputs": [
    {
     "data": {
      "text/html": [
       "<pre style=\"white-space:pre;overflow-x:auto;line-height:normal;font-family:Menlo,'DejaVu Sans Mono',consolas,'Courier New',monospace\"><span style=\"color: #7fbfbf; text-decoration-color: #7fbfbf\">[10/26/23 22:41:41] </span><span style=\"color: #800000; text-decoration-color: #800000\">WARNING </span> <span style=\"color: #800080; text-decoration-color: #800080\">/Users/zijin/miniforge3/envs/cool_planet/lib/python3.10/site-packages/</span> <a href=\"file:///Users/zijin/miniforge3/envs/cool_planet/lib/python3.10/warnings.py\" target=\"_blank\"><span style=\"color: #7f7f7f; text-decoration-color: #7f7f7f\">warnings.py</span></a><span style=\"color: #7f7f7f; text-decoration-color: #7f7f7f\">:</span><a href=\"file:///Users/zijin/miniforge3/envs/cool_planet/lib/python3.10/warnings.py#109\" target=\"_blank\"><span style=\"color: #7f7f7f; text-decoration-color: #7f7f7f\">109</span></a>\n",
       "<span style=\"color: #7fbfbf; text-decoration-color: #7fbfbf\">                    </span>         <span style=\"color: #800080; text-decoration-color: #800080\">kedro/io/</span><span style=\"color: #ff00ff; text-decoration-color: #ff00ff\">partitioned_dataset.py</span>:<span style=\"color: #008080; text-decoration-color: #008080; font-weight: bold\">200</span>: KedroDeprecationWarning:          <span style=\"color: #7f7f7f; text-decoration-color: #7f7f7f\">               </span>\n",
       "<span style=\"color: #7fbfbf; text-decoration-color: #7fbfbf\">                    </span>         <span style=\"color: #008000; text-decoration-color: #008000\">'PartitionedDataset'</span> has been moved to `kedro-datasets` and will be    <span style=\"color: #7f7f7f; text-decoration-color: #7f7f7f\">               </span>\n",
       "<span style=\"color: #7fbfbf; text-decoration-color: #7fbfbf\">                    </span>         removed in Kedro <span style=\"color: #008080; text-decoration-color: #008080; font-weight: bold\">0.19</span>.<span style=\"color: #008080; text-decoration-color: #008080; font-weight: bold\">0</span>.                                               <span style=\"color: #7f7f7f; text-decoration-color: #7f7f7f\">               </span>\n",
       "<span style=\"color: #7fbfbf; text-decoration-color: #7fbfbf\">                    </span>           <span style=\"color: #800080; text-decoration-color: #800080; font-weight: bold\">warnings.warn</span><span style=\"font-weight: bold\">(</span>                                                       <span style=\"color: #7f7f7f; text-decoration-color: #7f7f7f\">               </span>\n",
       "<span style=\"color: #7fbfbf; text-decoration-color: #7fbfbf\">                    </span>                                                                                <span style=\"color: #7f7f7f; text-decoration-color: #7f7f7f\">               </span>\n",
       "</pre>\n"
      ],
      "text/plain": [
       "\u001b[2;36m[10/26/23 22:41:41]\u001b[0m\u001b[2;36m \u001b[0m\u001b[31mWARNING \u001b[0m \u001b[35m/Users/zijin/miniforge3/envs/cool_planet/lib/python3.10/site-packages/\u001b[0m \u001b]8;id=287778;file:///Users/zijin/miniforge3/envs/cool_planet/lib/python3.10/warnings.py\u001b\\\u001b[2mwarnings.py\u001b[0m\u001b]8;;\u001b\\\u001b[2m:\u001b[0m\u001b]8;id=406775;file:///Users/zijin/miniforge3/envs/cool_planet/lib/python3.10/warnings.py#109\u001b\\\u001b[2m109\u001b[0m\u001b]8;;\u001b\\\n",
       "\u001b[2;36m                    \u001b[0m         \u001b[35mkedro/io/\u001b[0m\u001b[95mpartitioned_dataset.py\u001b[0m:\u001b[1;36m200\u001b[0m: KedroDeprecationWarning:          \u001b[2m               \u001b[0m\n",
       "\u001b[2;36m                    \u001b[0m         \u001b[32m'PartitionedDataset'\u001b[0m has been moved to `kedro-datasets` and will be    \u001b[2m               \u001b[0m\n",
       "\u001b[2;36m                    \u001b[0m         removed in Kedro \u001b[1;36m0.19\u001b[0m.\u001b[1;36m0\u001b[0m.                                               \u001b[2m               \u001b[0m\n",
       "\u001b[2;36m                    \u001b[0m           \u001b[1;35mwarnings.warn\u001b[0m\u001b[1m(\u001b[0m                                                       \u001b[2m               \u001b[0m\n",
       "\u001b[2;36m                    \u001b[0m                                                                                \u001b[2m               \u001b[0m\n"
      ]
     },
     "metadata": {},
     "output_type": "display_data"
    },
    {
     "data": {
      "text/html": [
       "<pre style=\"white-space:pre;overflow-x:auto;line-height:normal;font-family:Menlo,'DejaVu Sans Mono',consolas,'Courier New',monospace\"><span style=\"color: #7fbfbf; text-decoration-color: #7fbfbf\">                    </span><span style=\"color: #800000; text-decoration-color: #800000\">WARNING </span> <span style=\"color: #800080; text-decoration-color: #800080\">/Users/zijin/miniforge3/envs/cool_planet/lib/python3.10/site-packages/</span> <a href=\"file:///Users/zijin/miniforge3/envs/cool_planet/lib/python3.10/warnings.py\" target=\"_blank\"><span style=\"color: #7f7f7f; text-decoration-color: #7f7f7f\">warnings.py</span></a><span style=\"color: #7f7f7f; text-decoration-color: #7f7f7f\">:</span><a href=\"file:///Users/zijin/miniforge3/envs/cool_planet/lib/python3.10/warnings.py#109\" target=\"_blank\"><span style=\"color: #7f7f7f; text-decoration-color: #7f7f7f\">109</span></a>\n",
       "<span style=\"color: #7fbfbf; text-decoration-color: #7fbfbf\">                    </span>         <span style=\"color: #800080; text-decoration-color: #800080\">kedro/io/</span><span style=\"color: #ff00ff; text-decoration-color: #ff00ff\">partitioned_dataset.py</span>:<span style=\"color: #008080; text-decoration-color: #008080; font-weight: bold\">200</span>: KedroDeprecationWarning:          <span style=\"color: #7f7f7f; text-decoration-color: #7f7f7f\">               </span>\n",
       "<span style=\"color: #7fbfbf; text-decoration-color: #7fbfbf\">                    </span>         <span style=\"color: #008000; text-decoration-color: #008000\">'PartitionedDataset'</span> has been moved to `kedro-datasets` and will be    <span style=\"color: #7f7f7f; text-decoration-color: #7f7f7f\">               </span>\n",
       "<span style=\"color: #7fbfbf; text-decoration-color: #7fbfbf\">                    </span>         removed in Kedro <span style=\"color: #008080; text-decoration-color: #008080; font-weight: bold\">0.19</span>.<span style=\"color: #008080; text-decoration-color: #008080; font-weight: bold\">0</span>.                                               <span style=\"color: #7f7f7f; text-decoration-color: #7f7f7f\">               </span>\n",
       "<span style=\"color: #7fbfbf; text-decoration-color: #7fbfbf\">                    </span>           <span style=\"color: #800080; text-decoration-color: #800080; font-weight: bold\">warnings.warn</span><span style=\"font-weight: bold\">(</span>                                                       <span style=\"color: #7f7f7f; text-decoration-color: #7f7f7f\">               </span>\n",
       "<span style=\"color: #7fbfbf; text-decoration-color: #7fbfbf\">                    </span>                                                                                <span style=\"color: #7f7f7f; text-decoration-color: #7f7f7f\">               </span>\n",
       "</pre>\n"
      ],
      "text/plain": [
       "\u001b[2;36m                   \u001b[0m\u001b[2;36m \u001b[0m\u001b[31mWARNING \u001b[0m \u001b[35m/Users/zijin/miniforge3/envs/cool_planet/lib/python3.10/site-packages/\u001b[0m \u001b]8;id=213813;file:///Users/zijin/miniforge3/envs/cool_planet/lib/python3.10/warnings.py\u001b\\\u001b[2mwarnings.py\u001b[0m\u001b]8;;\u001b\\\u001b[2m:\u001b[0m\u001b]8;id=563935;file:///Users/zijin/miniforge3/envs/cool_planet/lib/python3.10/warnings.py#109\u001b\\\u001b[2m109\u001b[0m\u001b]8;;\u001b\\\n",
       "\u001b[2;36m                    \u001b[0m         \u001b[35mkedro/io/\u001b[0m\u001b[95mpartitioned_dataset.py\u001b[0m:\u001b[1;36m200\u001b[0m: KedroDeprecationWarning:          \u001b[2m               \u001b[0m\n",
       "\u001b[2;36m                    \u001b[0m         \u001b[32m'PartitionedDataset'\u001b[0m has been moved to `kedro-datasets` and will be    \u001b[2m               \u001b[0m\n",
       "\u001b[2;36m                    \u001b[0m         removed in Kedro \u001b[1;36m0.19\u001b[0m.\u001b[1;36m0\u001b[0m.                                               \u001b[2m               \u001b[0m\n",
       "\u001b[2;36m                    \u001b[0m           \u001b[1;35mwarnings.warn\u001b[0m\u001b[1m(\u001b[0m                                                       \u001b[2m               \u001b[0m\n",
       "\u001b[2;36m                    \u001b[0m                                                                                \u001b[2m               \u001b[0m\n"
      ]
     },
     "metadata": {},
     "output_type": "display_data"
    },
    {
     "data": {
      "text/html": [
       "<pre style=\"white-space:pre;overflow-x:auto;line-height:normal;font-family:Menlo,'DejaVu Sans Mono',consolas,'Courier New',monospace\"><span style=\"color: #7fbfbf; text-decoration-color: #7fbfbf\">                    </span><span style=\"color: #800000; text-decoration-color: #800000\">WARNING </span> <span style=\"color: #800080; text-decoration-color: #800080\">/Users/zijin/miniforge3/envs/cool_planet/lib/python3.10/site-packages/</span> <a href=\"file:///Users/zijin/miniforge3/envs/cool_planet/lib/python3.10/warnings.py\" target=\"_blank\"><span style=\"color: #7f7f7f; text-decoration-color: #7f7f7f\">warnings.py</span></a><span style=\"color: #7f7f7f; text-decoration-color: #7f7f7f\">:</span><a href=\"file:///Users/zijin/miniforge3/envs/cool_planet/lib/python3.10/warnings.py#109\" target=\"_blank\"><span style=\"color: #7f7f7f; text-decoration-color: #7f7f7f\">109</span></a>\n",
       "<span style=\"color: #7fbfbf; text-decoration-color: #7fbfbf\">                    </span>         <span style=\"color: #800080; text-decoration-color: #800080\">kedro_datasets/polars/</span><span style=\"color: #ff00ff; text-decoration-color: #ff00ff\">lazy_polars_dataset.py</span>:<span style=\"color: #008080; text-decoration-color: #008080; font-weight: bold\">14</span>:                       <span style=\"color: #7f7f7f; text-decoration-color: #7f7f7f\">               </span>\n",
       "<span style=\"color: #7fbfbf; text-decoration-color: #7fbfbf\">                    </span>         KedroDeprecationWarning: <span style=\"color: #008000; text-decoration-color: #008000\">'AbstractVersionedDataSet'</span> has been renamed   <span style=\"color: #7f7f7f; text-decoration-color: #7f7f7f\">               </span>\n",
       "<span style=\"color: #7fbfbf; text-decoration-color: #7fbfbf\">                    </span>         to <span style=\"color: #008000; text-decoration-color: #008000\">'AbstractVersionedDataset'</span>, and the alias will be removed in Kedro  <span style=\"color: #7f7f7f; text-decoration-color: #7f7f7f\">               </span>\n",
       "<span style=\"color: #7fbfbf; text-decoration-color: #7fbfbf\">                    </span>         <span style=\"color: #008080; text-decoration-color: #008080; font-weight: bold\">0.19</span>.<span style=\"color: #008080; text-decoration-color: #008080; font-weight: bold\">0</span>                                                                 <span style=\"color: #7f7f7f; text-decoration-color: #7f7f7f\">               </span>\n",
       "<span style=\"color: #7fbfbf; text-decoration-color: #7fbfbf\">                    </span>           from kedro.io.core import <span style=\"font-weight: bold\">(</span>                                          <span style=\"color: #7f7f7f; text-decoration-color: #7f7f7f\">               </span>\n",
       "<span style=\"color: #7fbfbf; text-decoration-color: #7fbfbf\">                    </span>                                                                                <span style=\"color: #7f7f7f; text-decoration-color: #7f7f7f\">               </span>\n",
       "</pre>\n"
      ],
      "text/plain": [
       "\u001b[2;36m                   \u001b[0m\u001b[2;36m \u001b[0m\u001b[31mWARNING \u001b[0m \u001b[35m/Users/zijin/miniforge3/envs/cool_planet/lib/python3.10/site-packages/\u001b[0m \u001b]8;id=324709;file:///Users/zijin/miniforge3/envs/cool_planet/lib/python3.10/warnings.py\u001b\\\u001b[2mwarnings.py\u001b[0m\u001b]8;;\u001b\\\u001b[2m:\u001b[0m\u001b]8;id=197627;file:///Users/zijin/miniforge3/envs/cool_planet/lib/python3.10/warnings.py#109\u001b\\\u001b[2m109\u001b[0m\u001b]8;;\u001b\\\n",
       "\u001b[2;36m                    \u001b[0m         \u001b[35mkedro_datasets/polars/\u001b[0m\u001b[95mlazy_polars_dataset.py\u001b[0m:\u001b[1;36m14\u001b[0m:                       \u001b[2m               \u001b[0m\n",
       "\u001b[2;36m                    \u001b[0m         KedroDeprecationWarning: \u001b[32m'AbstractVersionedDataSet'\u001b[0m has been renamed   \u001b[2m               \u001b[0m\n",
       "\u001b[2;36m                    \u001b[0m         to \u001b[32m'AbstractVersionedDataset'\u001b[0m, and the alias will be removed in Kedro  \u001b[2m               \u001b[0m\n",
       "\u001b[2;36m                    \u001b[0m         \u001b[1;36m0.19\u001b[0m.\u001b[1;36m0\u001b[0m                                                                 \u001b[2m               \u001b[0m\n",
       "\u001b[2;36m                    \u001b[0m           from kedro.io.core import \u001b[1m(\u001b[0m                                          \u001b[2m               \u001b[0m\n",
       "\u001b[2;36m                    \u001b[0m                                                                                \u001b[2m               \u001b[0m\n"
      ]
     },
     "metadata": {},
     "output_type": "display_data"
    },
    {
     "data": {
      "text/html": [
       "<pre style=\"white-space:pre;overflow-x:auto;line-height:normal;font-family:Menlo,'DejaVu Sans Mono',consolas,'Courier New',monospace\"></pre>\n"
      ],
      "text/plain": []
     },
     "metadata": {},
     "output_type": "display_data"
    },
    {
     "data": {
      "text/plain": [
       "\n",
       "\u001b[1m[\u001b[0m\n",
       "    \u001b[32m'jno.raw_mag_1s'\u001b[0m,\n",
       "    \u001b[32m'jno.raw_state'\u001b[0m,\n",
       "    \u001b[32m'model.raw_jno_ss_se_1min'\u001b[0m,\n",
       "    \u001b[32m'model.preprocessed_jno_ss_se_1min'\u001b[0m,\n",
       "    \u001b[32m'JNO_index'\u001b[0m,\n",
       "    \u001b[32m'sta.raw_state_merged'\u001b[0m,\n",
       "    \u001b[32m'thb.raw_state_sw'\u001b[0m,\n",
       "    \u001b[32m'parameters'\u001b[0m,\n",
       "    \u001b[32m'params:tau'\u001b[0m,\n",
       "    \u001b[32m'params:jno_start_date'\u001b[0m,\n",
       "    \u001b[32m'params:jno_end_date'\u001b[0m,\n",
       "    \u001b[32m'params:jno_1s_params'\u001b[0m,\n",
       "    \u001b[32m'params:jno_1s_params.bcols'\u001b[0m,\n",
       "    \u001b[32m'params:jno_1s_params.data_resolution'\u001b[0m,\n",
       "    \u001b[32m'params:jno.extract_params'\u001b[0m,\n",
       "    \u001b[32m'params:jno.extract_params.bcols'\u001b[0m,\n",
       "    \u001b[32m'params:jno.extract_params.data_resolution'\u001b[0m,\n",
       "    \u001b[32m'params:sta.extract_params'\u001b[0m,\n",
       "    \u001b[32m'params:sta.extract_params.bcols'\u001b[0m,\n",
       "    \u001b[32m'params:sta.extract_params.data_resolution'\u001b[0m,\n",
       "    \u001b[32m'params:thb'\u001b[0m,\n",
       "    \u001b[32m'params:thb.mag'\u001b[0m,\n",
       "    \u001b[32m'params:thb.mag.bcols'\u001b[0m,\n",
       "    \u001b[32m'params:thb.mag.time_resolution'\u001b[0m,\n",
       "    \u001b[32m'params:thb.mag.coords'\u001b[0m,\n",
       "    \u001b[32m'params:jno.mag'\u001b[0m,\n",
       "    \u001b[32m'params:jno.mag.coords'\u001b[0m,\n",
       "    \u001b[32m'params:sta.mag'\u001b[0m,\n",
       "    \u001b[32m'params:sta.mag.coords'\u001b[0m,\n",
       "    \u001b[32m'params:thb.extract_params'\u001b[0m,\n",
       "    \u001b[32m'params:thb.extract_params.bcols'\u001b[0m,\n",
       "    \u001b[32m'params:thb.extract_params.data_resolution'\u001b[0m,\n",
       "    \u001b[32m'params:omni_vars'\u001b[0m,\n",
       "    \u001b[32m'params:omni_vars.N'\u001b[0m,\n",
       "    \u001b[32m'params:omni_vars.N.COLNAME'\u001b[0m,\n",
       "    \u001b[32m'params:omni_vars.N.FIELDNAM'\u001b[0m,\n",
       "    \u001b[32m'params:omni_vars.N.UNITS'\u001b[0m,\n",
       "    \u001b[32m'params:omni_vars.T'\u001b[0m,\n",
       "    \u001b[32m'params:omni_vars.T.COLNAME'\u001b[0m,\n",
       "    \u001b[32m'params:omni_vars.T.FIELDNAM'\u001b[0m,\n",
       "    \u001b[32m'params:omni_vars.T.UNITS'\u001b[0m,\n",
       "    \u001b[32m'params:omni_vars.V'\u001b[0m,\n",
       "    \u001b[32m'params:omni_vars.V.COLNAME'\u001b[0m,\n",
       "    \u001b[32m'params:omni_vars.V.FIELDNAM'\u001b[0m,\n",
       "    \u001b[32m'params:omni_vars.V.UNITS'\u001b[0m,\n",
       "    \u001b[32m'params:omni_vars.THETA-V'\u001b[0m,\n",
       "    \u001b[32m'params:omni_vars.THETA-V.COLNAME'\u001b[0m,\n",
       "    \u001b[32m'params:omni_vars.THETA-V.FIELDNAM'\u001b[0m,\n",
       "    \u001b[32m'params:omni_vars.THETA-V.UNITS'\u001b[0m,\n",
       "    \u001b[32m'params:omni_vars.PHI-V'\u001b[0m,\n",
       "    \u001b[32m'params:omni_vars.PHI-V.COLNAME'\u001b[0m,\n",
       "    \u001b[32m'params:omni_vars.PHI-V.FIELDNAM'\u001b[0m,\n",
       "    \u001b[32m'params:omni_vars.PHI-V.UNITS'\u001b[0m\n",
       "\u001b[1m]\u001b[0m"
      ]
     },
     "execution_count": 5,
     "metadata": {},
     "output_type": "execute_result"
    }
   ],
   "source": [
    "#| output: false\n",
    "catalog = load_catalog('../')\n",
    "catalog.list()\n"
   ]
  },
  {
   "cell_type": "markdown",
   "metadata": {},
   "source": [
    "## Combining magnetic field data and state data"
   ]
  },
  {
   "cell_type": "code",
   "execution_count": 6,
   "metadata": {},
   "outputs": [],
   "source": [
    "#| export\n",
    "import polars as pl\n",
    "\n",
    "from ids_finder.utils.basic import df2ts, pl_norm\n",
    "import xarray as xr\n",
    "from xarray_einstats import linalg"
   ]
  },
  {
   "cell_type": "code",
   "execution_count": 7,
   "metadata": {},
   "outputs": [],
   "source": [
    "# | export\n",
    "def combine(candidates: pl.LazyFrame, states_data: pl.LazyFrame):\n",
    "    vec_cols = [\"v_x\", \"v_y\", \"v_z\"]  # plasma velocity vector in any coordinate system\n",
    "    b_vecL_cols = [\"Vl_x\", \"Vl_y\", \"Vl_z\"]  # major eigenvector in any coordinate system\n",
    "    if not set(vec_cols).issubset(states_data.columns):\n",
    "        raise ValueError(f\"Missing columns {vec_cols}\")\n",
    "    if not set(b_vecL_cols).issubset(candidates.columns):\n",
    "        raise ValueError(f\"Missing columns {b_vecL_cols}\")\n",
    "\n",
    "    return candidates.sort(\"time\").join_asof(states_data.sort(\"time\"), on=\"time\")"
   ]
  },
  {
   "cell_type": "markdown",
   "metadata": {},
   "source": [
    "### Calculating additional features for the combined dataset"
   ]
  },
  {
   "cell_type": "code",
   "execution_count": 8,
   "metadata": {},
   "outputs": [],
   "source": [
    "#| export\n",
    "import astropy.units as u\n",
    "from astropy.constants import mu0, e\n",
    "from plasmapy.formulary.lengths import inertial_length\n",
    "from plasmapy.formulary.speeds import Alfven_speed"
   ]
  },
  {
   "cell_type": "code",
   "execution_count": 9,
   "metadata": {},
   "outputs": [],
   "source": [
    "#| export\n",
    "def vector_project(v1,v2, dim=\"v_dim\"):\n",
    "    return xr.dot(v1 , v2, dims=dim) / linalg.norm(v2, dims=dim)\n",
    "\n",
    "def vector_project_pl(df: pl.DataFrame, v1_cols, v2_cols, name=None):\n",
    "    \n",
    "    v1 = df2ts(df, v1_cols).assign_coords(v_dim=[\"r\",\"t\",\"n\"])\n",
    "    v2 = df2ts(df, v2_cols).assign_coords(v_dim=[\"r\",\"t\",\"n\"]) \n",
    "    result = vector_project(v1, v2, dim=\"v_dim\")\n",
    "    \n",
    "    return df.with_columns(\n",
    "        pl.Series(result.data).alias(name or \"v_proj\")\n",
    "    )"
   ]
  },
  {
   "cell_type": "code",
   "execution_count": 10,
   "metadata": {},
   "outputs": [],
   "source": [
    "# | export\n",
    "def compute_inertial_length(ldf: pl.LazyFrame):\n",
    "    df = ldf.collect()\n",
    "\n",
    "    density = df[\"plasma_density\"].to_numpy() * u.cm ** (-3)\n",
    "    result = inertial_length(density, \"H+\").to(u.km)\n",
    "\n",
    "    return df.with_columns(ion_inertial_length=pl.Series(result.value)).lazy()\n",
    "\n",
    "\n",
    "def compute_Alfven_speed(ldf: pl.LazyFrame):\n",
    "    df = ldf.collect()\n",
    "\n",
    "    B = df[\"B\"] if \"B\" in df.columns else df[\"b_mag\"]  # backwards compatiblity\n",
    "    density = df[\"plasma_density\"].to_numpy() * u.cm ** (-3)\n",
    "    result = Alfven_speed(B.to_numpy() * u.nT, density=density, ion=\"p+\").to(u.km / u.s)\n",
    "\n",
    "    return df.with_columns(Alfven_speed=pl.Series(result.value)).lazy()\n",
    "\n",
    "\n",
    "def compute_Alfven_current(ldf: pl.LazyFrame):\n",
    "    df = ldf.collect()\n",
    "\n",
    "    Alfven_speed = df[\"Alfven_speed\"].to_numpy() * u.km / u.s\n",
    "    density = df[\"plasma_density\"].to_numpy() * u.cm ** (-3)\n",
    "\n",
    "    result = (e.si * Alfven_speed * density)\n",
    "    result = result.to(u.nA / u.m**2)\n",
    "\n",
    "    return df.with_columns(j_Alfven=pl.Series(result.value)).lazy()"
   ]
  },
  {
   "cell_type": "code",
   "execution_count": 11,
   "metadata": {},
   "outputs": [],
   "source": [
    "# | export\n",
    "def calc_combined_features(df: pl.LazyFrame):\n",
    "    vec_cols = [\"v_x\", \"v_y\", \"v_z\"]  # plasma velocity vector in any coordinate system\n",
    "    b_vecL_cols = [\"Vl_x\", \"Vl_y\", \"Vl_z\"]  # major eigenvector in any coordinate system\n",
    "\n",
    "    j_factor = ((u.nT / u.s) * (1 / mu0 / (u.km / u.s))).to(u.nA / u.m**2)\n",
    "\n",
    "    result = (\n",
    "        df.with_columns(\n",
    "            duration=pl.col(\"d_tstop\") - pl.col(\"d_tstart\"),\n",
    "        )\n",
    "        .pipe(vector_project_pl, vec_cols, b_vecL_cols, name=\"v_l\")\n",
    "        .with_columns(v_mn=(pl.col(\"plasma_speed\") ** 2 - pl.col(\"v_l\") ** 2).sqrt())\n",
    "        .with_columns(\n",
    "            L_mn=pl.col(\"v_mn\") * pl.col(\"duration\").dt.nanoseconds() / 1e9,\n",
    "            j0=pl.col(\"d_star\") / pl.col(\"v_mn\"),\n",
    "        )\n",
    "        .pipe(compute_inertial_length)\n",
    "        .pipe(compute_Alfven_speed)\n",
    "        .pipe(compute_Alfven_current)\n",
    "        .pipe(j0=pl.col(\"j0\") * j_factor.value)\n",
    "        .with_columns(\n",
    "            L_mn_norm=pl.col(\"L_mn\") / pl.col(\"ion_inertial_length\"),\n",
    "            j0_norm=pl.col(\"j0\") / pl.col(\"j_Alfven\"),\n",
    "        )\n",
    "    )\n",
    "    return result"
   ]
  },
  {
   "cell_type": "markdown",
   "metadata": {},
   "source": [
    "### Pipelines"
   ]
  },
  {
   "cell_type": "code",
   "execution_count": 12,
   "metadata": {},
   "outputs": [],
   "source": [
    "#| export\n",
    "def combine_features(candidates: pl.LazyFrame, states_data: pl.LazyFrame):\n",
    "    df = combine(candidates, states_data)\n",
    "    updated_df = calc_combined_features(df)\n",
    "\n",
    "    return updated_df.collect()"
   ]
  },
  {
   "cell_type": "code",
   "execution_count": 13,
   "metadata": {},
   "outputs": [],
   "source": [
    "#| export\n",
    "from kedro.pipeline import Pipeline, node\n",
    "from kedro.pipeline.modular_pipeline import pipeline"
   ]
  },
  {
   "cell_type": "code",
   "execution_count": 14,
   "metadata": {},
   "outputs": [],
   "source": [
    "# | export\n",
    "def create_candidate_pipeline(\n",
    "    sat_id, \n",
    "    tau: int = 60,\n",
    "    ts_mag: int = 1,\n",
    "    ts_state: str = \"1h\",\n",
    "    **kwargs) -> Pipeline:\n",
    "\n",
    "    ts_mag_str = f\"ts_{ts_mag}s\"\n",
    "    tau_str = f\"tau_{tau}s\"\n",
    "\n",
    "    node_combine_features = node(\n",
    "        combine_features,\n",
    "        inputs=[\n",
    "            f\"{sat_id}.feature_{ts_mag_str}_{tau_str}\",\n",
    "            f\"{sat_id}.primary_state_{ts_state}\",\n",
    "        ],\n",
    "        outputs=f\"candidates.{sat_id}_{ts_mag_str}_{tau_str}\",\n",
    "    )\n",
    "\n",
    "    nodes = [node_combine_features]\n",
    "    return pipeline(nodes)"
   ]
  },
  {
   "cell_type": "markdown",
   "metadata": {},
   "source": [
    "## Datasets"
   ]
  },
  {
   "cell_type": "code",
   "execution_count": 15,
   "metadata": {},
   "outputs": [],
   "source": [
    "#| export\n",
    "from pydantic import BaseModel\n",
    "from kedro.io import DataCatalog\n",
    "from ids_finder.utils.basic import concat_partitions"
   ]
  },
  {
   "cell_type": "markdown",
   "metadata": {},
   "source": [
    "Foundational Dataset Class"
   ]
  },
  {
   "cell_type": "code",
   "execution_count": null,
   "metadata": {},
   "outputs": [],
   "source": [
    "#| export\n",
    "from ids_finder.utils.basic import df2ts\n",
    "from ids_finder.utils.plot import plot_candidate"
   ]
  },
  {
   "cell_type": "code",
   "execution_count": null,
   "metadata": {},
   "outputs": [],
   "source": [
    "# | export\n",
    "class IDsDataset(BaseModel):\n",
    "    class Config:\n",
    "        arbitrary_types_allowed = True\n",
    "        extra = \"allow\"\n",
    "\n",
    "    sat_id: str\n",
    "    tau: timedelta\n",
    "    ts: timedelta = timedelta(seconds=1)\n",
    "\n",
    "    candidates: pl.DataFrame | None = None\n",
    "    data: pl.LazyFrame | None = None # data is large, so we use `pl.LazyFrame` to save memory\n",
    "\n",
    "    def plot_candidate(self, index = None, predicates = None):\n",
    "        if index is not None:\n",
    "            candidate = self.candidates.row(index, named=True)\n",
    "        elif predicates is not None:\n",
    "            candidate = self.candidates.filter(predicates).row(0, named=True)\n",
    "\n",
    "        _data = self.data.filter(\n",
    "            pl.col(\"time\").is_between(candidate[\"tstart\"], candidate[\"tstop\"])\n",
    "        )\n",
    "        sat_fgm = df2ts(_data, [ 'B_x', 'B_y', 'B_z'] )\n",
    "        plot_candidate(candidate, sat_fgm)\n",
    "        pass\n",
    "\n",
    "    def plot_candidates(self, **kwargs):\n",
    "        pass"
   ]
  },
  {
   "cell_type": "markdown",
   "metadata": {},
   "source": [
    "Extended Dataset Class with support for `kedro`"
   ]
  },
  {
   "cell_type": "code",
   "execution_count": null,
   "metadata": {},
   "outputs": [],
   "source": [
    "#| export\n",
    "class cIDsDataset(IDsDataset):\n",
    "    catalog: DataCatalog\n",
    "    \n",
    "    or_df: pl.DataFrame | None = None  # occurence rate\n",
    "    or_df_normalized: pl.DataFrame | None = None # normalized occurence rate\n",
    "\n",
    "    def __init__(self, **data):\n",
    "        super().__init__(**data)\n",
    "        \n",
    "        self._tau_str = f\"tau_{self.tau.seconds}s\"\n",
    "        self._ts_mag_str = f\"ts_{self.ts.seconds}s\"\n",
    "        \n",
    "        if self.candidates is None:\n",
    "            self.load_candidates()\n",
    "        if self.data is None:\n",
    "            self.load_data()\n",
    "\n",
    "    def load_candidates(self):\n",
    "\n",
    "        candidates_format = f\"candidates.{self.sat_id}_{self._ts_mag_str}_{self._tau_str}\"\n",
    "\n",
    "        self.candidates = self.catalog.load(candidates_format).fill_nan(None).with_columns(\n",
    "            cs.float().cast(pl.Float64),\n",
    "            sat=pl.lit(self.sat_id),\n",
    "        ).collect()\n",
    "\n",
    "    def load_data(self):\n",
    "        data_format = f\"{self.sat_id}.primary_mag_{self._ts_mag_str}\"\n",
    "        self.data = concat_partitions(self.catalog.load(data_format))"
   ]
  },
  {
   "cell_type": "markdown",
   "metadata": {},
   "source": [
    "## Candidate class"
   ]
  },
  {
   "cell_type": "code",
   "execution_count": null,
   "metadata": {},
   "outputs": [],
   "source": [
    "#| export\n",
    "from pprint import pprint"
   ]
  },
  {
   "cell_type": "code",
   "execution_count": null,
   "metadata": {},
   "outputs": [],
   "source": [
    "#| export\n",
    "class CandidateID:\n",
    "    def __init__(self, time, df: pl.DataFrame) -> None:\n",
    "        self.time = pd.Timestamp(time)\n",
    "        self.data = df.row(\n",
    "            by_predicate=(pl.col(\"time\") == self.time), \n",
    "            named=True\n",
    "        )\n",
    "\n",
    "    def __repr__(self) -> str:\n",
    "        # return self.data.__repr__()\n",
    "        pprint(self.data)\n",
    "        return ''\n",
    "    \n",
    "    def plot(self, sat_fgm, tau):\n",
    "        plot_candidate_xr(self.data, sat_fgm, tau)\n",
    "        pass\n",
    "        "
   ]
  },
  {
   "cell_type": "code",
   "execution_count": null,
   "metadata": {},
   "outputs": [],
   "source": [
    "sta_candidates_1s: pl.DataFrame = catalog.load('candidates.sta_1s')\n",
    "jno_candidates_1s = catalog.load('candidates.jno_1s')\n",
    "\n",
    "sta_mag : pl.LazyFrame = catalog.load('sta.inter_mag_rtn_1s')\n",
    "jno_mag : pl.LazyFrame = catalog.load('sta.inter_mag_rtn_1s')"
   ]
  },
  {
   "cell_type": "code",
   "execution_count": null,
   "metadata": {},
   "outputs": [],
   "source": [
    "from ids_finder.utils.basic import df2ts, pmap\n",
    "from fastcore.utils import *"
   ]
  },
  {
   "cell_type": "code",
   "execution_count": null,
   "metadata": {},
   "outputs": [],
   "source": [
    "\n",
    "def plot_candidate(candidate, mag_data: pl.LazyFrame, b_cols = ['BX', 'BY', 'BZ']):\n",
    "    temp_tstart = candidate[\"tstart\"]\n",
    "    tmep_tstop = candidate[\"tstop\"]\n",
    "    tau = tmep_tstop - temp_tstart\n",
    "\n",
    "    temp_mag_data = (\n",
    "        mag_data.filter(pl.col(\"time\").is_between(temp_tstart - tau, tmep_tstop + tau))\n",
    "        .with_columns(pl.col(\"time\").dt.cast_time_unit(\"ns\"))\n",
    "        .collect()\n",
    "    )\n",
    "    \n",
    "    sat_fgm = df2ts(temp_mag_data, b_cols)\n",
    "    plot_candidate_xr(candidate, sat_fgm, tau)"
   ]
  },
  {
   "cell_type": "code",
   "execution_count": null,
   "metadata": {},
   "outputs": [],
   "source": [
    "n = 3\n",
    "# list(sta_candidates_1s.sample(n).iter_rows(named=True) | pmap(plot_candidate, mag_data=sta_mag))\n",
    "\n",
    "candidates = jno_candidates_1s.sample(n)\n",
    "list(candidates.iter_rows(named=True) | pmap(plot_candidate, mag_data=jno_mag))\n"
   ]
  }
 ],
 "metadata": {
  "kernelspec": {
   "display_name": "python3",
   "language": "python",
   "name": "python3"
  },
  "language_info": {
   "codemirror_mode": {
    "name": "ipython",
    "version": 3
   },
   "file_extension": ".py",
   "mimetype": "text/x-python",
   "name": "python",
   "nbconvert_exporter": "python",
   "pygments_lexer": "ipython3",
   "version": "3.10.12"
  }
 },
 "nbformat": 4,
 "nbformat_minor": 2
}
