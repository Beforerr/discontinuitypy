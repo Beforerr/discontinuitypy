{
 "cells": [
  {
   "cell_type": "markdown",
   "metadata": {},
   "source": [
    "## Gradient method\n",
    "\n",
    "@tsurutaniInterplanetaryDiscontinuitiesTemporal1979\n",
    "\n",
    "> Our criteria were applied to 1-min averages of the three field components representing an average vector $B_i$. The vector field change between this vector and the vector averaged 3 min earlier was computed, i.e., $ΔB = B_i - B_{i-3}$, as were the three field magnitude $|B_i|$, $|B_{i-3}|$, and $|ΔB|$. Discontinuities were selected by requiring that the magnitude of the vector change equal or exceed one half the larger of $|B_i|$ and $|B_{i-3}|$, which we call $B_L$; that is, we require that $|ΔB|> B_L/2$."
   ]
  },
  {
   "cell_type": "code",
   "execution_count": null,
   "metadata": {},
   "outputs": [],
   "source": [
    "# | default_exp detection/gradient\n",
    "# | export\n",
    "import polars as pl\n",
    "from datetime import timedelta\n",
    "from beforerr.polars import pl_norm, format_time"
   ]
  },
  {
   "cell_type": "code",
   "execution_count": null,
   "metadata": {},
   "outputs": [],
   "source": [
    "# | export\n",
    "def detect_gradient(\n",
    "    df: pl.LazyFrame,\n",
    "    cols: list[str],\n",
    "    time: str = \"time\",\n",
    "    avg_interval=timedelta(minutes=1),\n",
    "    window=timedelta(minutes=3),\n",
    "):\n",
    "    \"\"\"\n",
    "    Identifies discontinuities in the averaged vector field and specified criteria:\n",
    "    |ΔB| > max(|B_i|, |B_{i-window}|) / 2\n",
    "\n",
    "    Parameters\n",
    "    ----------\n",
    "    df : pl.LazyFrame\n",
    "        Dataframe containing the raw vector components.\n",
    "    time : str\n",
    "        Column name for time.\n",
    "    avg_interval : timedelta\n",
    "        Time interval for averaging (e.g., '1m' for 1 minute).\n",
    "    window : timedelta\n",
    "        Time interval to look back for computing ΔB.\n",
    "    \"\"\"\n",
    "    # Step 1: 1-Minute Averaging\n",
    "    averaged_df = df.group_by_dynamic(time, every=avg_interval).mean()\n",
    "\n",
    "    # Step 2: Shifted Columns\n",
    "    suffix = \"_shifted\"\n",
    "    prev_df = averaged_df.with_columns(pl.col(time) + window).pipe(format_time)\n",
    "    combined_df = averaged_df.join(prev_df, on=time, suffix=suffix)\n",
    "    shifted_cols = [col + suffix for col in cols]\n",
    "\n",
    "    # Step 3: Compute ΔB Components\n",
    "    delta_cols = [pl.col(col) - pl.col(col + suffix) for col in cols]\n",
    "\n",
    "    # Step 4: Compute Magnitudes |B_i|, |B_{i-window}|, and |ΔB|\n",
    "    magnitude_Bi = pl_norm(cols)\n",
    "    magnitude_Biw = pl_norm(shifted_cols)\n",
    "    magnitude_deltaB = pl_norm(delta_cols)\n",
    "\n",
    "    # Step 5: Compute B_L = max(|B_i|, |B_{i-window}|)\n",
    "    B_L = pl.max_horizontal(magnitude_Bi, magnitude_Biw)\n",
    "\n",
    "    # Step 6: Apply Transformations and Filter\n",
    "    return (\n",
    "        combined_df.with_columns(\n",
    "            magnitude_deltaB.alias(\"|ΔB|\"),\n",
    "            B_L.alias(\"B_L\"),\n",
    "        )\n",
    "        .filter(pl.col(\"|ΔB|\") > pl.col(\"B_L\") / 2)\n",
    "        .drop(cols + shifted_cols)\n",
    "        .with_columns(\n",
    "            tstart=pl.col(\"time\") - window,\n",
    "            tstop=pl.col(\"time\") + avg_interval,\n",
    "            time=pl.col(\"time\") + (avg_interval - window) / 2,\n",
    "        )\n",
    "        .pipe(format_time)\n",
    "        .collect()\n",
    "    )"
   ]
  }
 ],
 "metadata": {
  "kernelspec": {
   "display_name": "python3",
   "language": "python",
   "name": "python3"
  }
 },
 "nbformat": 4,
 "nbformat_minor": 2
}
