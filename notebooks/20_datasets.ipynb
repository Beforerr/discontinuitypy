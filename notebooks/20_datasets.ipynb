{
 "cells": [
  {
   "cell_type": "markdown",
   "metadata": {},
   "source": [
    "---\n",
    "title: \"Datasets\"\n",
    "description: This module contains the useful functions to deal with candidates datasets and individual candidate.\n",
    "---"
   ]
  },
  {
   "cell_type": "code",
   "execution_count": 2,
   "metadata": {},
   "outputs": [],
   "source": [
    "#| default_exp datasets"
   ]
  },
  {
   "cell_type": "code",
   "execution_count": 3,
   "metadata": {},
   "outputs": [],
   "source": [
    "#| export\n",
    "import polars as pl\n",
    "import polars.selectors as cs\n",
    "import pandas as pd\n",
    "import pandas\n",
    "import xarray as xr\n",
    "\n",
    "from datetime import timedelta"
   ]
  },
  {
   "cell_type": "markdown",
   "metadata": {},
   "source": [
    "## Datasets"
   ]
  },
  {
   "cell_type": "code",
   "execution_count": 15,
   "metadata": {},
   "outputs": [],
   "source": [
    "#| export\n",
    "from pydantic import BaseModel\n",
    "from kedro.io import DataCatalog\n",
    "from ids_finder.utils.basic import concat_partitions"
   ]
  },
  {
   "cell_type": "markdown",
   "metadata": {},
   "source": [
    "Foundational Dataset Class"
   ]
  },
  {
   "cell_type": "code",
   "execution_count": null,
   "metadata": {},
   "outputs": [],
   "source": [
    "#| export\n",
    "from ids_finder.utils.basic import df2ts\n",
    "from ids_finder.utils.plot import plot_candidate as _plot_candidate"
   ]
  },
  {
   "cell_type": "code",
   "execution_count": null,
   "metadata": {},
   "outputs": [],
   "source": [
    "# | export\n",
    "class IDsDataset(BaseModel):\n",
    "    class Config:\n",
    "        arbitrary_types_allowed = True\n",
    "        extra = \"allow\"\n",
    "\n",
    "    sat_id: str\n",
    "    tau: timedelta\n",
    "    ts: timedelta = timedelta(seconds=1)\n",
    "\n",
    "    candidates: pl.DataFrame | None = None\n",
    "    data: pl.LazyFrame | None = (\n",
    "        None  # data is large, so we use `pl.LazyFrame` to save memory\n",
    "    )\n",
    "    bcols: list[str] = [\"B_x\", \"B_y\", \"B_z\"]\n",
    "\n",
    "    def get_candidate(self, index=None, predicates=None, **kwargs):\n",
    "        if index is not None:\n",
    "            candidate = self.candidates.row(index, named=True)\n",
    "        elif predicates is not None:\n",
    "            candidate = self.candidates.filter(predicates).row(0, named=True)\n",
    "        return candidate\n",
    "\n",
    "    def get_candidate_data(self, candidate=None, index=None, predicates=None, **kwargs):\n",
    "        if candidate is None:\n",
    "            candidate = self.get_candidate(index, predicates, **kwargs)\n",
    "\n",
    "        _data = self.data.filter(\n",
    "            pl.col(\"time\").is_between(candidate[\"tstart\"], candidate[\"tstop\"])\n",
    "        )\n",
    "        return df2ts(_data, self.bcols)\n",
    "\n",
    "    def plot_candidate(self, candidate=None, index=None, predicates=None, **kwargs):\n",
    "        if candidate is None:\n",
    "            candidate = self.get_candidate(index, predicates, **kwargs)\n",
    "        sat_fgm = self.get_candidate_data(candidate)\n",
    "\n",
    "        return _plot_candidate(candidate, sat_fgm, **kwargs)\n",
    "\n",
    "    def plot_candidates(self, **kwargs):\n",
    "        pass"
   ]
  },
  {
   "cell_type": "markdown",
   "metadata": {},
   "source": [
    "Extended Dataset Class with support for `kedro`"
   ]
  },
  {
   "cell_type": "code",
   "execution_count": null,
   "metadata": {},
   "outputs": [],
   "source": [
    "# | export\n",
    "class cIDsDataset(IDsDataset):\n",
    "    catalog: DataCatalog\n",
    "\n",
    "    _load_data_format = \"{sat}.MAG.primary_data_{ts}\"\n",
    "    _load_events_format = \"events.{sat}_{ts}_{tau}\"\n",
    "    or_df: pl.DataFrame | None = None  # occurence rate\n",
    "    or_df_normalized: pl.DataFrame | None = None  # normalized occurence rate\n",
    "\n",
    "    def __init__(self, **data):\n",
    "        super().__init__(**data)\n",
    "\n",
    "        tau_str = f\"tau_{self.tau.seconds}s\"\n",
    "        ts_mag_str = f\"ts_{self.ts.seconds}s\"\n",
    "\n",
    "        self._tau_str = tau_str\n",
    "        self._ts_mag_str = ts_mag_str\n",
    "\n",
    "        self.events_format = self._load_events_format.format(\n",
    "            sat=self.sat_id, ts=ts_mag_str, tau=tau_str\n",
    "        )\n",
    "\n",
    "        if data.get(\"data_format\") is None:\n",
    "            self.data_format = self._load_data_format.format(\n",
    "                sat=self.sat_id, ts=ts_mag_str\n",
    "            )\n",
    "\n",
    "        if self.candidates is None:\n",
    "            self.load_events()\n",
    "        if self.data is None:\n",
    "            self.load_data()\n",
    "\n",
    "    def load_events(self):\n",
    "        data_format = self.events_format\n",
    "        self.candidates = (\n",
    "            self.catalog.load(data_format)\n",
    "            .fill_nan(None)\n",
    "            .with_columns(\n",
    "                cs.float().cast(pl.Float64),\n",
    "                sat=pl.lit(self.sat_id),\n",
    "            )\n",
    "            .collect()\n",
    "        )\n",
    "\n",
    "    def load_data(self):\n",
    "        data_format = self.data_format\n",
    "        self.data = concat_partitions(self.catalog.load(data_format))"
   ]
  },
  {
   "cell_type": "markdown",
   "metadata": {},
   "source": [
    "## Candidate class"
   ]
  },
  {
   "cell_type": "code",
   "execution_count": null,
   "metadata": {},
   "outputs": [],
   "source": [
    "#| export\n",
    "from pprint import pprint"
   ]
  },
  {
   "cell_type": "code",
   "execution_count": null,
   "metadata": {},
   "outputs": [],
   "source": [
    "#| export\n",
    "class CandidateID:\n",
    "    def __init__(self, time, df: pl.DataFrame) -> None:\n",
    "        self.time = pd.Timestamp(time)\n",
    "        self.data = df.row(\n",
    "            by_predicate=(pl.col(\"time\") == self.time), \n",
    "            named=True\n",
    "        )\n",
    "\n",
    "    def __repr__(self) -> str:\n",
    "        # return self.data.__repr__()\n",
    "        pprint(self.data)\n",
    "        return ''"
   ]
  },
  {
   "cell_type": "code",
   "execution_count": null,
   "metadata": {},
   "outputs": [],
   "source": [
    "from ids_finder.utils.basic import df2ts, pmap\n",
    "from fastcore.utils import *"
   ]
  }
 ],
 "metadata": {
  "kernelspec": {
   "display_name": "python3",
   "language": "python",
   "name": "python3"
  },
  "language_info": {
   "codemirror_mode": {
    "name": "ipython",
    "version": 3
   },
   "file_extension": ".py",
   "mimetype": "text/x-python",
   "name": "python",
   "nbconvert_exporter": "python",
   "pygments_lexer": "ipython3",
   "version": "3.10.12"
  }
 },
 "nbformat": 4,
 "nbformat_minor": 2
}
