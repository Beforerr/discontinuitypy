{
 "cells": [
  {
   "cell_type": "markdown",
   "metadata": {},
   "source": [
    "---\n",
    "title: \"Datasets\"\n",
    "description: This module contains the useful functions to deal with candidates datasets and individual candidate.\n",
    "---"
   ]
  },
  {
   "cell_type": "code",
   "execution_count": 1,
   "metadata": {},
   "outputs": [],
   "source": [
    "#| default_exp datasets\n",
    "#| export\n",
    "import polars as pl\n",
    "import pandas as pd\n",
    "from loguru import logger\n",
    "from random import sample\n",
    "\n",
    "from pydantic import BaseModel, Field"
   ]
  },
  {
   "cell_type": "markdown",
   "metadata": {},
   "source": [
    "## Datasets"
   ]
  },
  {
   "cell_type": "markdown",
   "metadata": {},
   "source": [
    "Foundational Dataset Class"
   ]
  },
  {
   "cell_type": "code",
   "execution_count": null,
   "metadata": {},
   "outputs": [],
   "source": [
    "#| export\n",
    "from discontinuitypy.utils.basic import df2ts\n",
    "from discontinuitypy.utils.plot import plot_candidate as _plot_candidate\n",
    "from discontinuitypy.integration import combine_features, calc_combined_features"
   ]
  },
  {
   "cell_type": "code",
   "execution_count": null,
   "metadata": {},
   "outputs": [],
   "source": [
    "# | export\n",
    "class IDsDataset(BaseModel):\n",
    "    class Config:\n",
    "        arbitrary_types_allowed = True\n",
    "        extra = \"allow\"\n",
    "\n",
    "    mag_data: pl.LazyFrame = Field(alias=\"data\")\n",
    "    candidates: pl.DataFrame = None\n",
    "    plasma_data: pl.LazyFrame = None\n",
    "\n",
    "    bcols: list[str] = None\n",
    "    vec_cols: list[str] = None\n",
    "\n",
    "    def update_candidates_with_plasma_data(self):\n",
    "        df_combined = combine_features(\n",
    "            self.candidates, self.plasma_data.collect()\n",
    "        ).lazy()\n",
    "\n",
    "        self.candidates = calc_combined_features(\n",
    "            df_combined, vec_cols=self.vec_cols\n",
    "        ).collect()\n",
    "\n",
    "    def get_candidate(self, index=None, predicates=None, **kwargs):\n",
    "        if index is not None:\n",
    "            candidate = self.candidates.row(index, named=True)\n",
    "        elif predicates is not None:\n",
    "            candidate = self.candidates.filter(predicates).row(0, named=True)\n",
    "        return candidate\n",
    "\n",
    "    def get_candidate_data(self, candidate=None, index=None, predicates=None, **kwargs):\n",
    "        if candidate is None:\n",
    "            candidate = self.get_candidate(index, predicates, **kwargs)\n",
    "\n",
    "        _data = self.mag_data.filter(\n",
    "            pl.col(\"time\").is_between(candidate[\"tstart\"], candidate[\"tstop\"])\n",
    "        )\n",
    "        return df2ts(_data, self.bcols)\n",
    "\n",
    "    def plot_candidate(self, candidate=None, index=None, predicates=None, **kwargs):\n",
    "        if candidate is None:\n",
    "            candidate = self.get_candidate(index, predicates, **kwargs)\n",
    "        sat_fgm = self.get_candidate_data(candidate)\n",
    "\n",
    "        return _plot_candidate(candidate, sat_fgm, **kwargs)\n",
    "\n",
    "    def plot_candidates(self, indices=None, num=4, random=True, **kwargs):\n",
    "        if indices is None:\n",
    "            indices = sample(range(len(self.candidates)), num) if random else range(num)\n",
    "            logger.info(f\"Candidates indices: {indices}\")\n",
    "\n",
    "        return [self.plot_candidate(index=i, **kwargs) for i in indices]"
   ]
  }
 ],
 "metadata": {
  "kernelspec": {
   "display_name": "Python 3",
   "language": "python",
   "name": "python3"
  },
  "language_info": {
   "codemirror_mode": {
    "name": "ipython",
    "version": 3
   },
   "file_extension": ".py",
   "mimetype": "text/x-python",
   "name": "python",
   "nbconvert_exporter": "python",
   "pygments_lexer": "ipython3",
   "version": "3.10.13"
  }
 },
 "nbformat": 4,
 "nbformat_minor": 2
}
