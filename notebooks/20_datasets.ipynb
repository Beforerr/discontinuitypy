{
 "cells": [
  {
   "cell_type": "markdown",
   "metadata": {},
   "source": [
    "---\n",
    "title: \"Datasets\"\n",
    "description: This notebook contains the code to deal with all candidates and individual candidate.\n",
    "---"
   ]
  },
  {
   "cell_type": "code",
   "execution_count": 2,
   "metadata": {},
   "outputs": [],
   "source": [
    "#| default_exp datasets"
   ]
  },
  {
   "cell_type": "code",
   "execution_count": 3,
   "metadata": {},
   "outputs": [],
   "source": [
    "#| export\n",
    "import polars as pl\n",
    "import polars.selectors as cs\n",
    "import pandas as pd\n",
    "import pandas\n",
    "import xarray as xr\n",
    "\n",
    "from datetime import timedelta"
   ]
  },
  {
   "cell_type": "markdown",
   "metadata": {},
   "source": [
    "#### `Kerdo`"
   ]
  },
  {
   "cell_type": "code",
   "execution_count": 4,
   "metadata": {},
   "outputs": [],
   "source": [
    "#| export\n",
    "from kedro.pipeline import Pipeline, node\n",
    "from kedro.pipeline.modular_pipeline import pipeline\n",
    "from ids_finder.utils.basic import load_catalog"
   ]
  },
  {
   "cell_type": "markdown",
   "metadata": {},
   "source": [
    "## Datasets"
   ]
  },
  {
   "cell_type": "code",
   "execution_count": 15,
   "metadata": {},
   "outputs": [],
   "source": [
    "#| export\n",
    "from pydantic import BaseModel\n",
    "from kedro.io import DataCatalog\n",
    "from ids_finder.utils.basic import concat_partitions"
   ]
  },
  {
   "cell_type": "markdown",
   "metadata": {},
   "source": [
    "Foundational Dataset Class"
   ]
  },
  {
   "cell_type": "code",
   "execution_count": null,
   "metadata": {},
   "outputs": [],
   "source": [
    "#| export\n",
    "from ids_finder.utils.basic import df2ts\n",
    "from ids_finder.utils.plot import plot_candidate"
   ]
  },
  {
   "cell_type": "code",
   "execution_count": null,
   "metadata": {},
   "outputs": [],
   "source": [
    "\n",
    "# | export\n",
    "class IDsDataset(BaseModel):\n",
    "    class Config:\n",
    "        arbitrary_types_allowed = True\n",
    "        extra = \"allow\"\n",
    "\n",
    "    sat_id: str\n",
    "    tau: timedelta\n",
    "    ts: timedelta = timedelta(seconds=1)\n",
    "\n",
    "    candidates: pl.DataFrame | None = None\n",
    "    data: pl.LazyFrame | None = None # data is large, so we use `pl.LazyFrame` to save memory\n",
    "\n",
    "    def plot_candidate(self, index = None, predicates = None):\n",
    "        if index is not None:\n",
    "            candidate = self.candidates.row(index, named=True)\n",
    "        elif predicates is not None:\n",
    "            candidate = self.candidates.filter(predicates).row(0, named=True)\n",
    "\n",
    "        _data = self.data.filter(\n",
    "            pl.col(\"time\").is_between(candidate[\"tstart\"], candidate[\"tstop\"])\n",
    "        )\n",
    "        bcols = [\"B_x\", \"B_y\", \"B_z\"] if \"B_x\" in _data.columns else [\"BX\", \"BY\", \"BZ\"]\n",
    "        sat_fgm = df2ts(_data, bcols)\n",
    "        plot_candidate(candidate, sat_fgm)\n",
    "        pass\n",
    "\n",
    "    def plot_candidates(self, **kwargs):\n",
    "        pass"
   ]
  },
  {
   "cell_type": "markdown",
   "metadata": {},
   "source": [
    "Extended Dataset Class with support for `kedro`"
   ]
  },
  {
   "cell_type": "code",
   "execution_count": null,
   "metadata": {},
   "outputs": [],
   "source": [
    "#| export\n",
    "class cIDsDataset(IDsDataset):\n",
    "    catalog: DataCatalog\n",
    "    \n",
    "    or_df: pl.DataFrame | None = None  # occurence rate\n",
    "    or_df_normalized: pl.DataFrame | None = None # normalized occurence rate\n",
    "\n",
    "    def __init__(self, **data):\n",
    "        super().__init__(**data)\n",
    "        \n",
    "        self._tau_str = f\"tau_{self.tau.seconds}s\"\n",
    "        self._ts_mag_str = f\"ts_{self.ts.seconds}s\"\n",
    "        \n",
    "        if self.candidates is None:\n",
    "            self.load_candidates()\n",
    "        if self.data is None:\n",
    "            self.load_data()\n",
    "\n",
    "    def load_candidates(self):\n",
    "\n",
    "        candidates_format = f\"events.{self.sat_id.upper()}_{self._ts_mag_str}_{self._tau_str}\"\n",
    "\n",
    "        self.candidates = self.catalog.load(candidates_format).fill_nan(None).with_columns(\n",
    "            cs.float().cast(pl.Float64),\n",
    "            sat=pl.lit(self.sat_id),\n",
    "        ).collect()\n",
    "\n",
    "    def load_data(self):\n",
    "        data_format = f\"{self.sat_id}.MAG.primary_data_{self._ts_mag_str}\"\n",
    "        self.data = concat_partitions(self.catalog.load(data_format))"
   ]
  },
  {
   "cell_type": "markdown",
   "metadata": {},
   "source": [
    "## Candidate class"
   ]
  },
  {
   "cell_type": "code",
   "execution_count": null,
   "metadata": {},
   "outputs": [],
   "source": [
    "#| export\n",
    "from pprint import pprint"
   ]
  },
  {
   "cell_type": "code",
   "execution_count": null,
   "metadata": {},
   "outputs": [],
   "source": [
    "#| export\n",
    "class CandidateID:\n",
    "    def __init__(self, time, df: pl.DataFrame) -> None:\n",
    "        self.time = pd.Timestamp(time)\n",
    "        self.data = df.row(\n",
    "            by_predicate=(pl.col(\"time\") == self.time), \n",
    "            named=True\n",
    "        )\n",
    "\n",
    "    def __repr__(self) -> str:\n",
    "        # return self.data.__repr__()\n",
    "        pprint(self.data)\n",
    "        return ''\n",
    "    \n",
    "    def plot(self, sat_fgm, tau):\n",
    "        plot_candidate_xr(self.data, sat_fgm, tau)\n",
    "        pass\n",
    "        "
   ]
  },
  {
   "cell_type": "code",
   "execution_count": null,
   "metadata": {},
   "outputs": [],
   "source": [
    "from ids_finder.utils.basic import df2ts, pmap\n",
    "from fastcore.utils import *"
   ]
  },
  {
   "cell_type": "code",
   "execution_count": null,
   "metadata": {},
   "outputs": [],
   "source": [
    "\n",
    "def plot_candidate(candidate, mag_data: pl.LazyFrame, b_cols = ['BX', 'BY', 'BZ']):\n",
    "    temp_tstart = candidate[\"tstart\"]\n",
    "    tmep_tstop = candidate[\"tstop\"]\n",
    "    tau = tmep_tstop - temp_tstart\n",
    "\n",
    "    temp_mag_data = (\n",
    "        mag_data.filter(pl.col(\"time\").is_between(temp_tstart - tau, tmep_tstop + tau))\n",
    "        .with_columns(pl.col(\"time\").dt.cast_time_unit(\"ns\"))\n",
    "        .collect()\n",
    "    )\n",
    "    \n",
    "    sat_fgm = df2ts(temp_mag_data, b_cols)\n",
    "    plot_candidate_xr(candidate, sat_fgm, tau)"
   ]
  },
  {
   "cell_type": "code",
   "execution_count": null,
   "metadata": {},
   "outputs": [],
   "source": [
    "n = 3\n",
    "# list(sta_candidates_1s.sample(n).iter_rows(named=True) | pmap(plot_candidate, mag_data=sta_mag))\n",
    "\n",
    "candidates = jno_candidates_1s.sample(n)\n",
    "list(candidates.iter_rows(named=True) | pmap(plot_candidate, mag_data=jno_mag))\n"
   ]
  }
 ],
 "metadata": {
  "kernelspec": {
   "display_name": "python3",
   "language": "python",
   "name": "python3"
  },
  "language_info": {
   "codemirror_mode": {
    "name": "ipython",
    "version": 3
   },
   "file_extension": ".py",
   "mimetype": "text/x-python",
   "name": "python",
   "nbconvert_exporter": "python",
   "pygments_lexer": "ipython3",
   "version": "3.10.12"
  }
 },
 "nbformat": 4,
 "nbformat_minor": 2
}
