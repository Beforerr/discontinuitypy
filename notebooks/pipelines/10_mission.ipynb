{
 "cells": [
  {
   "cell_type": "markdown",
   "metadata": {},
   "source": [
    "---\n",
    "title: Mission Pipeline\n",
    "subtitle: Mission impossible\n",
    "description: Mission pipeline process data from a specific mission.\n",
    "---\n",
    "\n",
    "Generally, it includes the following steps:\n",
    "\n",
    "- combine features from different sources/instruments (magnetic field, state data, etc.)\n",
    "- generate new features\n",
    "\n",
    "Additional components:\n",
    "\n",
    "- `create_events_pipeline` | `create_candidate_pipeline` \n",
    "    - `create_sw_events_pipeline` : (Optional) pipeline for solar wind candidates (used in mission `JUNO` and `ARTEMIS`) to exclude events that may be influenced by planetary magnetosphere.\n",
    "\n"
   ]
  },
  {
   "cell_type": "code",
   "execution_count": null,
   "metadata": {},
   "outputs": [],
   "source": [
    "#| default_exp pipelines/default/mission"
   ]
  },
  {
   "cell_type": "code",
   "execution_count": null,
   "metadata": {},
   "outputs": [],
   "source": [
    "#| export\n",
    "from ids_finder import PARAMS\n",
    "import polars as pl\n",
    "import polars.selectors as cs\n",
    "\n",
    "from typing import Optional"
   ]
  },
  {
   "cell_type": "markdown",
   "metadata": {},
   "source": [
    "## Combine features"
   ]
  },
  {
   "cell_type": "code",
   "execution_count": null,
   "metadata": {},
   "outputs": [],
   "source": [
    "# | export\n",
    "def combine_features(candidates: pl.LazyFrame, states_data: pl.LazyFrame):\n",
    "    vec_cols = [\"v_x\", \"v_y\", \"v_z\"]  # plasma velocity vector in any coordinate system\n",
    "    b_vecL_cols = [\"Vl_x\", \"Vl_y\", \"Vl_z\"]  # major eigenvector in any coordinate system\n",
    "    if not set(vec_cols).issubset(states_data.columns):\n",
    "        raise ValueError(f\"Missing columns {vec_cols}\")\n",
    "    if not set(b_vecL_cols).issubset(candidates.columns):\n",
    "        raise ValueError(f\"Missing columns {b_vecL_cols}\")\n",
    "\n",
    "    return candidates.with_columns( \n",
    "        cs.datetime().dt.cast_time_unit(\"ns\"), # issue: https://github.com/pola-rs/polars/issues/12023\n",
    "    ).sort(\"time\").join_asof(states_data.sort(\"time\"), on=\"time\")"
   ]
  },
  {
   "cell_type": "markdown",
   "metadata": {},
   "source": [
    "## Combining magnetic field data and state data\n",
    "\n",
    "With combined dataset, we calculate additional features for each candidate.\n",
    "\n",
    "$$L_{mn} = v_{mn}  T_{duration}$$\n",
    "\n",
    "$$ j_0 = (\\frac{d B}{d t})_{max} \\frac{1}{v_{mn}}$$"
   ]
  },
  {
   "cell_type": "markdown",
   "metadata": {},
   "source": [
    "### Calculating additional features for the combined dataset"
   ]
  },
  {
   "cell_type": "code",
   "execution_count": null,
   "metadata": {},
   "outputs": [],
   "source": [
    "#| export\n",
    "import astropy.units as u\n",
    "from astropy.constants import mu0, e\n",
    "from plasmapy.formulary.lengths import inertial_length\n",
    "from plasmapy.formulary.speeds import Alfven_speed\n",
    "from xarray_einstats import linalg\n",
    "from ids_finder.utils.basic import df2ts, pl_norm\n",
    "import xarray as xr"
   ]
  },
  {
   "cell_type": "code",
   "execution_count": null,
   "metadata": {},
   "outputs": [],
   "source": [
    "#| export\n",
    "def vector_project(v1,v2, dim=\"v_dim\"):\n",
    "    return xr.dot(v1 , v2, dims=dim) / linalg.norm(v2, dims=dim)\n",
    "\n",
    "def vector_project_pl(df: pl.DataFrame, v1_cols, v2_cols, name=None):\n",
    "    \n",
    "    v1 = df2ts(df, v1_cols).assign_coords(v_dim=[\"r\",\"t\",\"n\"])\n",
    "    v2 = df2ts(df, v2_cols).assign_coords(v_dim=[\"r\",\"t\",\"n\"]) \n",
    "    result = vector_project(v1, v2, dim=\"v_dim\")\n",
    "    \n",
    "    return df.with_columns(\n",
    "        pl.Series(result.data).alias(name or \"v_proj\")\n",
    "    )"
   ]
  },
  {
   "cell_type": "markdown",
   "metadata": {},
   "source": [
    "### Inertial length"
   ]
  },
  {
   "cell_type": "code",
   "execution_count": null,
   "metadata": {},
   "outputs": [],
   "source": [
    "# | export\n",
    "def compute_inertial_length(ldf: pl.LazyFrame, density_col = \"plasma_density\"):\n",
    "    df = ldf.collect()\n",
    "\n",
    "    density = df[density_col].to_numpy() * u.cm ** (-3)\n",
    "    result = inertial_length(density, \"H+\").to(u.km)\n",
    "\n",
    "    return df.with_columns(ion_inertial_length=pl.Series(result.value)).lazy()"
   ]
  },
  {
   "cell_type": "markdown",
   "metadata": {},
   "source": [
    "### Alfven current"
   ]
  },
  {
   "cell_type": "code",
   "execution_count": null,
   "metadata": {},
   "outputs": [],
   "source": [
    "#| export\n",
    "def compute_Alfven_speed(ldf: pl.LazyFrame):\n",
    "    df = ldf.collect()\n",
    "\n",
    "    B = df[\"B\"] if \"B\" in df.columns else df[\"b_mag\"]  # backwards compatiblity\n",
    "    density = df[\"plasma_density\"].to_numpy() * u.cm ** (-3)\n",
    "    result = Alfven_speed(B.to_numpy() * u.nT, density=density, ion=\"p+\").to(u.km / u.s)\n",
    "\n",
    "    return df.with_columns(Alfven_speed=pl.Series(result.value)).lazy()\n",
    "\n",
    "\n",
    "def compute_Alfven_current(ldf: pl.LazyFrame):\n",
    "    df = ldf.collect()\n",
    "\n",
    "    Alfven_speed = df[\"Alfven_speed\"].to_numpy() * u.km / u.s\n",
    "    density = df[\"plasma_density\"].to_numpy() * u.cm ** (-3)\n",
    "\n",
    "    result = (e.si * Alfven_speed * density)\n",
    "    result = result.to(u.nA / u.m**2)\n",
    "\n",
    "    return df.with_columns(j_Alfven=pl.Series(result.value)).lazy()"
   ]
  },
  {
   "cell_type": "markdown",
   "metadata": {},
   "source": [
    "## Pipelines"
   ]
  },
  {
   "cell_type": "code",
   "execution_count": null,
   "metadata": {},
   "outputs": [],
   "source": [
    "# | export\n",
    "def calc_combined_features(df: pl.LazyFrame):\n",
    "    vec_cols = [\"v_x\", \"v_y\", \"v_z\"]  # plasma velocity vector in any coordinate system\n",
    "    b_vecL_cols = [\"Vl_x\", \"Vl_y\", \"Vl_z\"]  # major eigenvector in any coordinate system\n",
    "\n",
    "    j_factor = ((u.nT / u.s) * (1 / mu0 / (u.km / u.s))).to(u.nA / u.m**2)\n",
    "\n",
    "    result = (\n",
    "        df.with_columns(\n",
    "            duration=pl.col(\"d_tstop\") - pl.col(\"d_tstart\"),\n",
    "        )\n",
    "        .pipe(vector_project_pl, vec_cols, b_vecL_cols, name=\"v_l\")\n",
    "        .with_columns(v_mn=(pl.col(\"plasma_speed\") ** 2 - pl.col(\"v_l\") ** 2).sqrt())\n",
    "        .with_columns(\n",
    "            L_mn=pl.col(\"v_mn\") * pl.col(\"duration\").dt.nanoseconds() / 1e9,\n",
    "            j0=pl.col(\"d_star\") / pl.col(\"v_mn\"),\n",
    "        )\n",
    "        .pipe(compute_inertial_length)\n",
    "        .pipe(compute_Alfven_speed)\n",
    "        .pipe(compute_Alfven_current)\n",
    "        .with_columns(j0=pl.col(\"j0\") * j_factor.value)\n",
    "        .with_columns(\n",
    "            L_mn_norm=pl.col(\"L_mn\") / pl.col(\"ion_inertial_length\"),\n",
    "            j0_norm=pl.col(\"j0\") / pl.col(\"j_Alfven\"),\n",
    "        )\n",
    "    )\n",
    "    return result"
   ]
  },
  {
   "cell_type": "markdown",
   "metadata": {},
   "source": [
    "## Pipelines"
   ]
  },
  {
   "cell_type": "code",
   "execution_count": 1,
   "metadata": {},
   "outputs": [],
   "source": [
    "#| export\n",
    "from kedro.pipeline import Pipeline, node\n",
    "from kedro.pipeline.modular_pipeline import pipeline\n",
    "from ids_finder.utils.basic import load_params"
   ]
  },
  {
   "cell_type": "code",
   "execution_count": null,
   "metadata": {},
   "outputs": [],
   "source": [
    "# | export\n",
    "def create_combined_data_pipeline(\n",
    "    sat_id, # satellite id, used for namespace\n",
    "    params : Optional[dict] = None,\n",
    "    **kwargs\n",
    ") -> Pipeline:\n",
    "    \n",
    "    if params is None:\n",
    "        params = PARAMS\n",
    "    \n",
    "    tau = params[\"tau\"]\n",
    "    ts_mag = params[sat_id][\"MAG\"][\"time_resolution\"]\n",
    "    ts_state = params[sat_id][\"STATE\"][\"time_resolution\"]\n",
    "    \n",
    "    ts_mag_str = f\"ts_{ts_mag}s\"\n",
    "    ts_state_str = f\"ts_{ts_state}s\"\n",
    "    tau_str = f\"tau_{tau}s\"\n",
    "\n",
    "    node_combine_features = node(\n",
    "        combine_features,\n",
    "        inputs=[\n",
    "            f\"MAG.feature_{ts_mag_str}_{tau_str}\",\n",
    "            f\"STATE.primary_data_{ts_state_str}\",\n",
    "        ],\n",
    "        outputs=\"combined_data\",\n",
    "    )\n",
    "\n",
    "    node_calc_new_features = node(\n",
    "        calc_combined_features,\n",
    "        inputs=\"combined_data\",\n",
    "        outputs=f\"events_{ts_mag_str}_{tau_str}\",\n",
    "    )\n",
    "\n",
    "    nodes = [node_combine_features, node_calc_new_features]\n",
    "    return pipeline(\n",
    "        nodes,\n",
    "        namespace=sat_id,\n",
    "        outputs={\n",
    "            f\"events_{ts_mag_str}_{tau_str}\": f\"events.{sat_id}_{ts_mag_str}_{tau_str}\",\n",
    "        }\n",
    "    )"
   ]
  }
 ],
 "metadata": {
  "kernelspec": {
   "display_name": "cool_planet",
   "language": "python",
   "name": "python3"
  },
  "language_info": {
   "codemirror_mode": {
    "name": "ipython",
    "version": 3
   },
   "file_extension": ".py",
   "mimetype": "text/x-python",
   "name": "python",
   "nbconvert_exporter": "python",
   "pygments_lexer": "ipython3",
   "version": "3.10.12"
  }
 },
 "nbformat": 4,
 "nbformat_minor": 2
}
