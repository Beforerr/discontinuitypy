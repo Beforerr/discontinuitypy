{
 "cells": [
  {
   "cell_type": "markdown",
   "metadata": {},
   "source": [
    "---\n",
    "title: State data pipeline\n",
    "---\n",
    "\n",
    "Here we define state data to be the complementary data of the magnetic field data, useful for the analysis of the magnetic field data. It may include:\n",
    "\n",
    "- Plasma data\n",
    "- Satellite location data"
   ]
  }
 ],
 "metadata": {
  "language_info": {
   "name": "python"
  }
 },
 "nbformat": 4,
 "nbformat_minor": 2
}
