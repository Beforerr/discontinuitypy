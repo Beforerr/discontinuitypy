{
 "cells": [
  {
   "cell_type": "markdown",
   "metadata": {},
   "source": [
    "---\n",
    "title: Magnetic field data pipeline\n",
    "---\n",
    "\n",
    "In additional to the general data pipeline, we add feature extraction to the pipeline...\n",
    "\n",
    "The product of this pipeline is a data set of interesting magnetic field events."
   ]
  },
  {
   "cell_type": "code",
   "execution_count": null,
   "metadata": {},
   "outputs": [],
   "source": [
    "#| hide\n",
    "#| export\n",
    "from kedro.pipeline import Pipeline, node\n",
    "from kedro.pipeline.modular_pipeline import pipeline\n",
    "\n",
    "from ids_finder.utils.basic import load_params\n",
    "from ids_finder.pipelines.default.data import (\n",
    "    create_pipeline_template as create_pipeline_template_base,\n",
    ")\n",
    "\n",
    "from typing import Callable, Optional"
   ]
  },
  {
   "cell_type": "code",
   "execution_count": null,
   "metadata": {},
   "outputs": [],
   "source": [
    "#| default_exp pipelines/default/data_mag"
   ]
  },
  {
   "cell_type": "code",
   "execution_count": null,
   "metadata": {},
   "outputs": [],
   "source": [
    "# | export\n",
    "def create_pipeline_template(\n",
    "    sat_id: str,  # satellite id, used for namespace\n",
    "    source: str,  # source data, like \"mag\" or \"plasma\"\n",
    "    extract_features_fn: Optional[Callable] = None,\n",
    "    **kwargs,\n",
    ") -> Pipeline:\n",
    "    params = load_params()\n",
    "    sat_id = sat_id.upper()\n",
    "    source = source.upper()\n",
    "\n",
    "    namespace = f\"{sat_id}.{source}\"\n",
    "\n",
    "    tau = params[\"tau\"]\n",
    "    ts = params[sat_id][source][\"time_resolution\"]\n",
    "    tau_str = f\"tau_{tau}s\"\n",
    "    ts_str = f\"ts_{ts}s\"\n",
    "\n",
    "    node_extract_features = node(\n",
    "        extract_features_fn,\n",
    "        inputs=[f\"primary_data_{ts_str}\", \"params:tau\", \"params:extract_params\"],\n",
    "        outputs=f\"feature_{tau_str}\",\n",
    "        name=\"extract_features\",\n",
    "    )\n",
    "\n",
    "    nodes = [node_extract_features]\n",
    "\n",
    "    pipelines = pipeline(nodes, namespace=namespace)\n",
    "\n",
    "    base_pipelines = create_pipeline_template_base(\n",
    "        sat_id=sat_id, source=source, **kwargs\n",
    "    )\n",
    "    return base_pipelines + pipelines"
   ]
  }
 ],
 "metadata": {
  "kernelspec": {
   "display_name": "cool_planet",
   "language": "python",
   "name": "python3"
  },
  "language_info": {
   "name": "python",
   "version": "3.10.12"
  }
 },
 "nbformat": 4,
 "nbformat_minor": 2
}
