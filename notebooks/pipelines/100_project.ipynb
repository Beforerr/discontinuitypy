{
 "cells": [
  {
   "cell_type": "markdown",
   "metadata": {},
   "source": [
    "---\n",
    "title: Project Pipeline\n",
    "description: Project pipeline produces dataset for analysis for a specific purpose (project).\n",
    "---\n",
    "\n",
    "Generally, it includes the following steps:\n",
    "\n",
    "- Combining data/events from different missions into a single dataset for analysis."
   ]
  },
  {
   "cell_type": "code",
   "execution_count": null,
   "metadata": {},
   "outputs": [],
   "source": [
    "\n",
    "def combine_candidates(dict):\n",
    "    pass\n",
    "\n",
    "# node_thm_extract_features = node(\n",
    "#     extract_features,\n",
    "#     inputs=[\"primary_thm_rtn_1s\", \"params:tau\", \"params:thm_1s_params\"],\n",
    "#     outputs=\"candidates_thm_rtn_1s\",\n",
    "#     name=\"extract_ARTEMIS_features\",\n",
    "# )\n",
    "\n",
    "# node_combine_candidates = node(\n",
    "#     combine_candidates,\n",
    "#     inputs=dict(\n",
    "#         sta_candidates=\"candidates_sta_rtn_1s\",\n",
    "#         jno_candidates=\"candidates_jno_ss_se_1s\",\n",
    "#         thm_candidates=\"candidates_thm_rtn_1s\",\n",
    "#     ),\n",
    "#     outputs=\"candidates_all_1s\",\n",
    "#     name=\"combine_candidates\",\n",
    "# )"
   ]
  }
 ],
 "metadata": {
  "language_info": {
   "name": "python"
  }
 },
 "nbformat": 4,
 "nbformat_minor": 2
}
