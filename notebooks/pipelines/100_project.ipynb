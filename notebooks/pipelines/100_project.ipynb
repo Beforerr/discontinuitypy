{
 "cells": [
  {
   "cell_type": "markdown",
   "metadata": {},
   "source": [
    "---\n",
    "title: Project Pipeline\n",
    "description: Project pipeline produces dataset for analysis for a specific purpose (project).\n",
    "---\n",
    "\n",
    "Generally, it includes the following steps:\n",
    "\n",
    "- Combining data/events from different missions into a single dataset for analysis."
   ]
  },
  {
   "cell_type": "code",
   "execution_count": null,
   "metadata": {},
   "outputs": [],
   "source": [
    "#| default_exp pipelines/project/pipeline\n"
   ]
  },
  {
   "cell_type": "code",
   "execution_count": 1,
   "metadata": {},
   "outputs": [
    {
     "data": {
      "text/html": [
       "<pre style=\"white-space:pre;overflow-x:auto;line-height:normal;font-family:Menlo,'DejaVu Sans Mono',consolas,'Courier New',monospace\"><span style=\"color: #7fbfbf; text-decoration-color: #7fbfbf\">[11/16/23 21:44:47] </span><span style=\"color: #800000; text-decoration-color: #800000\">WARNING </span> <span style=\"color: #800080; text-decoration-color: #800080\">/Users/zijin/miniforge3/envs/cool_planet/lib/python3.10/site-packages/</span> <a href=\"file:///Users/zijin/miniforge3/envs/cool_planet/lib/python3.10/warnings.py\" target=\"_blank\"><span style=\"color: #7f7f7f; text-decoration-color: #7f7f7f\">warnings.py</span></a><span style=\"color: #7f7f7f; text-decoration-color: #7f7f7f\">:</span><a href=\"file:///Users/zijin/miniforge3/envs/cool_planet/lib/python3.10/warnings.py#109\" target=\"_blank\"><span style=\"color: #7f7f7f; text-decoration-color: #7f7f7f\">109</span></a>\n",
       "<span style=\"color: #7fbfbf; text-decoration-color: #7fbfbf\">                    </span>         <span style=\"color: #800080; text-decoration-color: #800080\">kedro_datasets/polars/</span><span style=\"color: #ff00ff; text-decoration-color: #ff00ff\">lazy_polars_dataset.py</span>:<span style=\"color: #008080; text-decoration-color: #008080; font-weight: bold\">14</span>:                       <span style=\"color: #7f7f7f; text-decoration-color: #7f7f7f\">               </span>\n",
       "<span style=\"color: #7fbfbf; text-decoration-color: #7fbfbf\">                    </span>         KedroDeprecationWarning: <span style=\"color: #008000; text-decoration-color: #008000\">'AbstractVersionedDataSet'</span> has been renamed   <span style=\"color: #7f7f7f; text-decoration-color: #7f7f7f\">               </span>\n",
       "<span style=\"color: #7fbfbf; text-decoration-color: #7fbfbf\">                    </span>         to <span style=\"color: #008000; text-decoration-color: #008000\">'AbstractVersionedDataset'</span>, and the alias will be removed in Kedro  <span style=\"color: #7f7f7f; text-decoration-color: #7f7f7f\">               </span>\n",
       "<span style=\"color: #7fbfbf; text-decoration-color: #7fbfbf\">                    </span>         <span style=\"color: #008080; text-decoration-color: #008080; font-weight: bold\">0.19</span>.<span style=\"color: #008080; text-decoration-color: #008080; font-weight: bold\">0</span>                                                                 <span style=\"color: #7f7f7f; text-decoration-color: #7f7f7f\">               </span>\n",
       "<span style=\"color: #7fbfbf; text-decoration-color: #7fbfbf\">                    </span>           from kedro.io.core import <span style=\"font-weight: bold\">(</span>                                          <span style=\"color: #7f7f7f; text-decoration-color: #7f7f7f\">               </span>\n",
       "<span style=\"color: #7fbfbf; text-decoration-color: #7fbfbf\">                    </span>                                                                                <span style=\"color: #7f7f7f; text-decoration-color: #7f7f7f\">               </span>\n",
       "</pre>\n"
      ],
      "text/plain": [
       "\u001b[2;36m[11/16/23 21:44:47]\u001b[0m\u001b[2;36m \u001b[0m\u001b[31mWARNING \u001b[0m \u001b[35m/Users/zijin/miniforge3/envs/cool_planet/lib/python3.10/site-packages/\u001b[0m \u001b]8;id=978598;file:///Users/zijin/miniforge3/envs/cool_planet/lib/python3.10/warnings.py\u001b\\\u001b[2mwarnings.py\u001b[0m\u001b]8;;\u001b\\\u001b[2m:\u001b[0m\u001b]8;id=376018;file:///Users/zijin/miniforge3/envs/cool_planet/lib/python3.10/warnings.py#109\u001b\\\u001b[2m109\u001b[0m\u001b]8;;\u001b\\\n",
       "\u001b[2;36m                    \u001b[0m         \u001b[35mkedro_datasets/polars/\u001b[0m\u001b[95mlazy_polars_dataset.py\u001b[0m:\u001b[1;36m14\u001b[0m:                       \u001b[2m               \u001b[0m\n",
       "\u001b[2;36m                    \u001b[0m         KedroDeprecationWarning: \u001b[32m'AbstractVersionedDataSet'\u001b[0m has been renamed   \u001b[2m               \u001b[0m\n",
       "\u001b[2;36m                    \u001b[0m         to \u001b[32m'AbstractVersionedDataset'\u001b[0m, and the alias will be removed in Kedro  \u001b[2m               \u001b[0m\n",
       "\u001b[2;36m                    \u001b[0m         \u001b[1;36m0.19\u001b[0m.\u001b[1;36m0\u001b[0m                                                                 \u001b[2m               \u001b[0m\n",
       "\u001b[2;36m                    \u001b[0m           from kedro.io.core import \u001b[1m(\u001b[0m                                          \u001b[2m               \u001b[0m\n",
       "\u001b[2;36m                    \u001b[0m                                                                                \u001b[2m               \u001b[0m\n"
      ]
     },
     "metadata": {},
     "output_type": "display_data"
    }
   ],
   "source": [
    "#| output: False\n",
    "from ids_finder.utils.basic import load_catalog\n",
    "\n",
    "catalog = load_catalog('../../')"
   ]
  },
  {
   "cell_type": "code",
   "execution_count": 3,
   "metadata": {},
   "outputs": [],
   "source": [
    "#| export\n",
    "import polars as pl\n",
    "from beforerr.basics import pmap\n"
   ]
  },
  {
   "cell_type": "code",
   "execution_count": 4,
   "metadata": {},
   "outputs": [
    {
     "data": {
      "text/html": [
       "<pre style=\"white-space:pre;overflow-x:auto;line-height:normal;font-family:Menlo,'DejaVu Sans Mono',consolas,'Courier New',monospace\"><span style=\"color: #7fbfbf; text-decoration-color: #7fbfbf\">[11/16/23 21:51:33] </span><span style=\"color: #000080; text-decoration-color: #000080\">INFO    </span> Loading data from <span style=\"color: #008000; text-decoration-color: #008000\">'events.JNO_ts_1s_tau_60s'</span>                       <a href=\"file:///Users/zijin/miniforge3/envs/cool_planet/lib/python3.10/site-packages/kedro/io/data_catalog.py\" target=\"_blank\"><span style=\"color: #7f7f7f; text-decoration-color: #7f7f7f\">data_catalog.py</span></a><span style=\"color: #7f7f7f; text-decoration-color: #7f7f7f\">:</span><a href=\"file:///Users/zijin/miniforge3/envs/cool_planet/lib/python3.10/site-packages/kedro/io/data_catalog.py#502\" target=\"_blank\"><span style=\"color: #7f7f7f; text-decoration-color: #7f7f7f\">502</span></a>\n",
       "<span style=\"color: #7fbfbf; text-decoration-color: #7fbfbf\">                    </span>         <span style=\"font-weight: bold\">(</span>LazyPolarsDataset<span style=\"font-weight: bold\">)</span><span style=\"color: #808000; text-decoration-color: #808000\">...</span>                                             <span style=\"color: #7f7f7f; text-decoration-color: #7f7f7f\">                   </span>\n",
       "</pre>\n"
      ],
      "text/plain": [
       "\u001b[2;36m[11/16/23 21:51:33]\u001b[0m\u001b[2;36m \u001b[0m\u001b[34mINFO    \u001b[0m Loading data from \u001b[32m'events.JNO_ts_1s_tau_60s'\u001b[0m                       \u001b]8;id=786275;file:///Users/zijin/miniforge3/envs/cool_planet/lib/python3.10/site-packages/kedro/io/data_catalog.py\u001b\\\u001b[2mdata_catalog.py\u001b[0m\u001b]8;;\u001b\\\u001b[2m:\u001b[0m\u001b]8;id=235991;file:///Users/zijin/miniforge3/envs/cool_planet/lib/python3.10/site-packages/kedro/io/data_catalog.py#502\u001b\\\u001b[2m502\u001b[0m\u001b]8;;\u001b\\\n",
       "\u001b[2;36m                    \u001b[0m         \u001b[1m(\u001b[0mLazyPolarsDataset\u001b[1m)\u001b[0m\u001b[33m...\u001b[0m                                             \u001b[2m                   \u001b[0m\n"
      ]
     },
     "metadata": {},
     "output_type": "display_data"
    },
    {
     "data": {
      "text/html": [
       "<pre style=\"white-space:pre;overflow-x:auto;line-height:normal;font-family:Menlo,'DejaVu Sans Mono',consolas,'Courier New',monospace\"></pre>\n"
      ],
      "text/plain": []
     },
     "metadata": {},
     "output_type": "display_data"
    },
    {
     "data": {
      "text/html": [
       "<i>naive plan: (run <b>LazyFrame.explain(optimized=True)</b> to see the optimized plan)</i>\n",
       "    <p></p>\n",
       "    <div><p></p>  Parquet SCAN /Users/zijin/projects/ids_finder/data/08_reporting/events_JNO_ts_1s_tau_60s.parquet<p></p>  PROJECT */68 COLUMNS</div>"
      ],
      "text/plain": [
       "\u001b[1m<\u001b[0m\u001b[1;95mLazyFrame\u001b[0m\u001b[39m \u001b[0m\u001b[1;39m[\u001b[0m\u001b[1;36m68\u001b[0m\u001b[39m cols, \u001b[0m\u001b[1;39m{\u001b[0m\u001b[32m\"count\"\u001b[0m\u001b[39m: UInt32 … \u001b[0m\u001b[32m\"j0_norm\"\u001b[0m\u001b[39m: Float64\u001b[0m\u001b[1;39m}\u001b[0m\u001b[1;39m]\u001b[0m\u001b[39m at \u001b[0m\u001b[1;36m0x10422A3E0\u001b[0m\u001b[1m>\u001b[0m"
      ]
     },
     "execution_count": 4,
     "metadata": {},
     "output_type": "execute_result"
    }
   ],
   "source": [
    "catalog.load('events.JNO_ts_1s_tau_60s')"
   ]
  },
  {
   "cell_type": "code",
   "execution_count": null,
   "metadata": {},
   "outputs": [],
   "source": [
    "#| export\n",
    "from kedro.pipeline import Pipeline, node\n",
    "from kedro.pipeline.modular_pipeline import pipeline"
   ]
  },
  {
   "cell_type": "code",
   "execution_count": 11,
   "metadata": {},
   "outputs": [],
   "source": [
    "# | export\n",
    "\n",
    "from datetime import timedelta\n",
    "from loguru import logger\n",
    "import polars.selectors as cs\n",
    "\n",
    "\n",
    "def process_events_l1(events: pl.LazyFrame):\n",
    "    \"clean data to remove extreme values\"\n",
    "    events = events.collect()\n",
    "\n",
    "    df = events.filter(\n",
    "        pl.col(\"d_star\") < 100,  # exclude extreme values\n",
    "        pl.col(\"v_mn\") > 10,\n",
    "        pl.col(\"duration\") < timedelta(seconds=60),\n",
    "    ).with_columns(\n",
    "        cs.float().cast(pl.Float64),\n",
    "        j0_norm_log=pl.col(\"j0_norm\").log10(),\n",
    "        L_mn_norm_log=pl.col(\"L_mn_norm\").log10(),\n",
    "    )\n",
    "\n",
    "    logger.info(\n",
    "        f\"candidates_l1: {len(df)}, with effective ratio: {len(df) / len(events):.2%}\"\n",
    "    )\n",
    "\n",
    "    return df.lazy()"
   ]
  },
  {
   "cell_type": "code",
   "execution_count": null,
   "metadata": {},
   "outputs": [],
   "source": [
    "#| export\n",
    "def create_l1_node(sat=\"JNO\", ts=1, tau=60):\n",
    "    ts_str = f\"ts_{ts}s\"\n",
    "    tau_str = f\"tau_{tau}s\"\n",
    "    return node(\n",
    "        process_events_l1,\n",
    "        inputs=f\"events.{sat}_{ts_str}_{tau_str}\",\n",
    "        outputs=f\"events.l1.{sat}_{ts_str}_{tau_str}\",\n",
    "    )"
   ]
  },
  {
   "cell_type": "code",
   "execution_count": null,
   "metadata": {},
   "outputs": [],
   "source": [
    "# | export\n",
    "def combine_events(**datasets):\n",
    "    datasets = [v.with_columns(sat=pl.lit(key)) for key, v in datasets.items()]\n",
    "    combined_dataset = pl.concat(datasets, how=\"diagonal\")\n",
    "    return combined_dataset.with_columns(\n",
    "        pl.col(\"radial_distance\").fill_null(1),  # by default, fill with 1 AU\n",
    "    ).with_columns(\n",
    "        r_bin=pl.col(\"radial_distance\").round(),\n",
    "    )\n",
    "\n",
    "\n",
    "def create_pipeline():\n",
    "    combine_layer = \"events.l1\"\n",
    "    node_combine_events = node(\n",
    "        combine_events,\n",
    "        inputs=dict(\n",
    "            JNO=f\"{combine_layer}.JNO_ts_1s_tau_60s\",\n",
    "            STA=f\"{combine_layer}.STA_ts_1s_tau_60s\",\n",
    "            THB=f\"{combine_layer}.THB_sw_ts_1s_tau_60s\",\n",
    "        ),\n",
    "        outputs=f\"{combine_layer}.ALL_sw_ts_1s_tau_60s\",\n",
    "        # namespace=\"events.l1\",\n",
    "    )\n",
    "\n",
    "    nodes = [\n",
    "        create_l1_node(\"JNO\"),\n",
    "        create_l1_node(\"STA\"),\n",
    "        create_l1_node(\"THB_sw\"),\n",
    "        node_combine_events,\n",
    "        \n",
    "    ]\n",
    "    return pipeline(nodes)"
   ]
  },
  {
   "cell_type": "code",
   "execution_count": null,
   "metadata": {},
   "outputs": [],
   "source": [
    "def combine_candidates(dict):\n",
    "    pass\n",
    "\n",
    "# node_thm_extract_features = node(\n",
    "#     extract_features,\n",
    "#     inputs=[\"primary_thm_rtn_1s\", \"params:tau\", \"params:thm_1s_params\"],\n",
    "#     outputs=\"candidates_thm_rtn_1s\",\n",
    "#     name=\"extract_ARTEMIS_features\",\n",
    "# )\n",
    "\n",
    "# node_combine_candidates = node(\n",
    "#     combine_candidates,\n",
    "#     inputs=dict(\n",
    "#         sta_candidates=\"candidates_sta_rtn_1s\",\n",
    "#         jno_candidates=\"candidates_jno_ss_se_1s\",\n",
    "#         thm_candidates=\"candidates_thm_rtn_1s\",\n",
    "#     ),\n",
    "#     outputs=\"candidates_all_1s\",\n",
    "#     name=\"combine_candidates\",\n",
    "# )"
   ]
  }
 ],
 "metadata": {
  "kernelspec": {
   "display_name": "cool_planet",
   "language": "python",
   "name": "python3"
  },
  "language_info": {
   "codemirror_mode": {
    "name": "ipython",
    "version": 3
   },
   "file_extension": ".py",
   "mimetype": "text/x-python",
   "name": "python",
   "nbconvert_exporter": "python",
   "pygments_lexer": "ipython3",
   "version": "3.10.12"
  }
 },
 "nbformat": 4,
 "nbformat_minor": 2
}
