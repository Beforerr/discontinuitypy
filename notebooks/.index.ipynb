{
 "cells": [
  {
   "cell_type": "markdown",
   "metadata": {},
   "source": [
    "---\n",
    "title: Discontinuities? Yes!\n",
    "subtitle: All statistics are wrong, but some may be useful:)\n",
    "author: \n",
    "  - name: Zijin Zhang\n",
    "  - name: Anton Artemyev\n",
    "  - name: Vassilis Angelopoulos\n",
    "  - name: Shi Chen\n",
    "  - name: Zesen Huang\n",
    "output-file: index.html\n",
    "---\n",
    "\n",
    "Hello chaos. Let us see if we could find magnetic discontinuities in\n",
    "  the solar wind and see how it evolves when traveling the interplanetary space."
   ]
  },
  {
   "cell_type": "markdown",
   "metadata": {},
   "source": [
    "## Install"
   ]
  },
  {
   "cell_type": "markdown",
   "metadata": {},
   "source": [
    "```sh\n",
    "pip install ids-finder\n",
    "```"
   ]
  },
  {
   "cell_type": "markdown",
   "metadata": {},
   "source": [
    "## How to use"
   ]
  },
  {
   "cell_type": "markdown",
   "metadata": {},
   "source": [
    "Import the package"
   ]
  },
  {
   "cell_type": "code",
   "execution_count": null,
   "metadata": {},
   "outputs": [],
   "source": [
    "from ids_finder.utils.basic import *\n",
    "from ids_finder.core import *"
   ]
  },
  {
   "cell_type": "markdown",
   "metadata": {},
   "source": [
    "## Background\n",
    "\n",
    "‘Discontinuities’ are discontinuous spatial changes in plasmas parameters/characteristics and magnetic ﬁelds.\n",
    "\n",
    "\n",
    "### Importance\n",
    "\n",
    "- Contribution of Strong Discontinuities to the Power Spectrum\n",
    "\n",
    "    > The strong discontinuities produce a power-law spectrum in the ‘inertial subrange’ with a spectral index near the Kolmogorov -5/3 index. The discontinuity spectrum contains about half of the power of the full solar-wind magnetic ﬁeld over this ‘inertial subrange’. [@Borosky2010]"
   ]
  },
  {
   "cell_type": "markdown",
   "metadata": {},
   "source": [
    "### Motivations\n",
    "\n",
    "Studying the radial distribution of occurrence rate, as well as the properties of solar wind discontinuities may help answer the following questions:\n",
    "\n",
    "- How does the discontinuities change with the radial distance from the Sun?\n",
    "- How is solar wind discontinuities formed? What is the physical mechanisms?\n",
    "    - Generated at or near the sun?\n",
    "    - Locally generated in the interplanetary space by turbulence?\n",
    "\n",
    "JUNO mission really provides a unique opportunity!!!\n",
    "\n",
    "- Five-year cruise to Jupiter from 2011 to 2016\n",
    "- One earth flyby in 2013\n",
    "- Nearly the same Heliographic latitude as Earth\n",
    "\n",
    "To eliminate the effect of the solar wind structure, we use data from other missions (mainly at 1AU) to provide a way of normalization.\n",
    "\n",
    "| Mission | r [AU] | $\\delta t_B$ | $\\delta t_{plasma}$ |  Data availability |\n",
    "| --- | --- | --- | --- | --- |\n",
    "| JUNO | 1-5.5 | 1s | 1h **model** [*](#solar-wind-model) | 2011-2016 |\n",
    "| ARTEMIS | 1 | 4s | 1h OMNI | 2011-2016 (solar wind) |\n",
    "| STEREO-A | 1 | 1s | 1h averaged | 2011-2016 |\n"
   ]
  },
  {
   "cell_type": "markdown",
   "metadata": {},
   "source": [
    "## Methods\n",
    "\n",
    "Traditional methods for ID identiﬁcation, such as the criteria of \n",
    "\n",
    "- Burlaga & Ness (1969; B-criterion) : a directional change of the magnetic ﬁeld larger than 30° during 60 s\n",
    "- Tsurutani & Smith (1979; TS-criterion) : $|ΔB|/|B| \\geq 0.5$ within 3 minutes\n",
    "\n",
    "Mostly rely on magnetic ﬁeld variations with a certain time lag. B-criterion has, as its main condition.\n",
    "\n",
    "In their methods, the IDs below the thresholds are artiﬁcially abandoned. Therefore, identiﬁcation criteria may affect the statistical results, and there is likely to be a discrepancy between the ﬁndings via B-criterion and TS- criterion."
   ]
  },
  {
   "cell_type": "markdown",
   "metadata": {},
   "source": [
    "### ID identification (limited feature extraction / anomaly detection)\n",
    "\n",
    "Liu's method : The ﬁrst two conditions guar- antee that the ﬁeld changes of the IDs identiﬁed are large enough to be distinguished from the stochastic ﬂuctuations on magnetic ﬁelds, while the third is a supplementary condition to reduce the uncertainty of recognition.\n",
    "\n",
    "\n",
    "$$ \\textrm{Index}_1 = \\frac{\\sigma(\\vec{B})}{Max(\\sigma(\\vec{B}_-),\\sigma(\\vec{B}_+))} $$\n",
    "\n",
    "$$ \\textrm{Index}_2 = \\frac{\\sigma(\\vec{B}_- + \\vec{B}_+)} {\\sigma(\\vec{B}_-) + \\sigma(\\vec{B}_+)} $$\n",
    "\n",
    "$$ \\textrm{Index}_3 = \\frac{| \\Delta \\vec{B} |}{|B_{bg}|} $$\n",
    "\n",
    "$$ \\textrm{Index}_1 \\ge 2, \\textrm{Index}_2 \\ge 1, \\textrm{Index}_3 \\ge 0.1 $$"
   ]
  },
  {
   "cell_type": "markdown",
   "metadata": {},
   "source": [
    "### Solar Wind Model\n",
    "\n",
    "Sadly, JUNO does not provide plasma data during the cruise phase, so to estimate the plasma state we will use MHD model. For model validation part, please see [JUNO Model Report](./01_model.ipynb).\n",
    "\n",
    "We are using [Michigan Solar WInd Model 2D (MSWIM2D)](http://csem.engin.umich.edu/MSWIM2D/), which models the solar wind propagation in 2D using the BATSRUS MHD solver."
   ]
  },
  {
   "cell_type": "markdown",
   "metadata": {},
   "source": [
    "## Conventions\n",
    "\n",
    "As we are dealing with multiple spacecraft, we need to be careful about naming conventions. Here are the conventions we use in this project.\n",
    "\n",
    "- `sat_id`: name of the spacecraft. We also use abbreviation, for example\n",
    "    - `sta` for `STEREO-A`\n",
    "    - `thb` for `ARTEMIS-B`\n",
    "- `sat_state`: state data of the spacecraft\n",
    "- `b_vl`: maxium variance vector of the magnetic field, (major eigenvector)\n",
    "\n",
    "### Columns naming conventions\n",
    "- `radial_distance`: radial distance of the spacecraft, in units of $AU$\n",
    "- `plasma_speed`: solar wind plasma speed, in units of $km/s$\n",
    "- `sw_elevation`: solar wind elevation angle, in units of $\\degree$\n",
    "- `sw_azimuth`: solar wind azimuth angle, in units of $\\degree$\n",
    "- `v_{x,y,z}` or `sw_vel_{X,Y,Z}`: solar wind plasma speed in the *ANY* coordinate system, in units of $km/s$\n",
    "    - `sw_vel_{r,t,n}`: solar wind plasma speed in the RTN coordinate system, in units of $km/s$\n",
    "    - `sw_vel_gse_{x,y,z}`: solar wind plasma speed in the GSE coordinate system, in units of $km/s$\n",
    "    - `sw_vel_lmn_{x,y,z}`: solar wind plasma speed in the LMN coordinate system, in units of $km/s$\n",
    "        - `v_l` or `sw_vel_l`: abbreviation for `sw_vel_lmn_1`\n",
    "        - `v_mn` or `sw_vel_mn` (deprecated)\n",
    "- `plasma_density`: plasma density, in units of $1/cm^{3}$\n",
    "- `plasma_temperature`: plasma temperature, in units of $K$\n",
    "- `b_{x,y,z}`: magnetic field in *ANY* coordinate system\n",
    "    - `b_rtn_{x,y,z}` or `b_{r,t,n}`: magnetic field in the RTN coordinate system\n",
    "    - `b_gse_{x,y,z}`: magnetic field in the GSE coordinate system\n",
    "- `b_mag` | `B_mag`: magnetic field magnitude\n",
    "- `Vl_{x,y,z}` or `b_vecL_{X,Y,Z}`: maxium variance vector of the magnetic field in *ANY* coordinate system\n",
    "    - `b_vecL_{r,t,n}`: maxium variance vector of the magnetic field in the RTN coordinate system\n",
    "- `model_b_{r,t,n}`: modelled magnetic field in the RTN coordinate system\n",
    "- `state` : _1_ for _solar wind_, _0_ for _non-solar wind_\n",
    "\n",
    "- `L_mn{_norm}`: thickness of the current sheet in MN direction, in units of $km$\n",
    "- `j0{_norm}`: current density, in units of $nA/m^2$\n",
    "\n",
    "Notes: we recommend use unique names for each variable, for example, `plasma_speed` instead of `speed`. Because it is easier to search and replace the variable names in the code whenever necessary.\n",
    "\n",
    "For the dataframe unit, we use\n",
    "\n",
    "- length : $km$\n",
    "- time : $s$\n",
    "- magnetic field : $nT$\n",
    "- current : $A/m^2$"
   ]
  },
  {
   "cell_type": "markdown",
   "metadata": {},
   "source": [
    "## Optimizations"
   ]
  },
  {
   "cell_type": "code",
   "execution_count": null,
   "metadata": {},
   "outputs": [
    {
     "data": {
      "text/markdown": [
       "python -X importtime -c 'from ids_finder.pipelines.juno.pipeline import download_juno_data, preprocess_jno' 2> import.log\n"
      ],
      "text/plain": [
       "<IPython.core.display.Markdown object>"
      ]
     },
     "metadata": {},
     "output_type": "display_data"
    }
   ],
   "source": [
    "%%markdown\n",
    "python -X importtime -c 'from ids_finder.pipelines.juno.pipeline import download_juno_data, preprocess_jno' 2> import.log && tuna import.log\n",
    "\n",
    "python -X importtime -c 'import ids_finder.utils.basic' 2> import.log && tuna import.log\n"
   ]
  },
  {
   "cell_type": "markdown",
   "metadata": {},
   "source": [
    "## TODOs\n",
    "\n",
    "Science part \n",
    "\n",
    "- Analysis\n",
    "    - [x] Check `STEREO-A` and `ARTEMIS-B` data\n",
    "    - [ ] Check Datagap\n",
    "    - [ ] Check `ARTEMIS-B` data in different states (solar wind, magnetosheath, magnetotail, moon wake)\n",
    "- Identifaction\n",
    "    - [ ] Ensemble forest?\n",
    "    - [ ] Smoothing is important?\n",
    "    - [ ] Check change point algorithm\n",
    "- Visualize data gaps\n",
    "- Features\n",
    "    - [ ] investigate `d_star` too large\n",
    "    - [ ] Thickness in N direction\n",
    "- [ ] Distribution of |B| over radius\n",
    "- [ ] Compare with other methods of identifying IDs\n",
    "    - [ ] Verify with other methods of identifying IDs\n",
    "- [x] Incorporate solar wind propagation model\n",
    "    - [x] Verify with solar wind propagation model\n",
    "        - [x] Coordinate transformation\n",
    "\n",
    "Code part\n",
    "\n",
    "- Optimization\n",
    "    - [ ] `JAX` library for `numpy` optimization\n",
    "- Refactor \n",
    "    - [x] `process_candidates` to exclude `sat_state` logics\n",
    "    - [x] renaming feature layer `candidates`\n",
    "- [x] Kedro\n",
    "    - [x] Modular pipelines\n",
    "    - ~~Incorporate `lineapy`~~\n",
    "\n",
    "### bugs\n",
    "\n",
    "- [ ] juno `sw_temperature` type\n",
    "- [ ] STEREO `B` less than zero (after downsampling?)"
   ]
  },
  {
   "cell_type": "markdown",
   "metadata": {},
   "source": []
  }
 ],
 "metadata": {
  "kernelspec": {
   "display_name": "python3",
   "language": "python",
   "name": "python3"
  }
 },
 "nbformat": 4,
 "nbformat_minor": 4
}
