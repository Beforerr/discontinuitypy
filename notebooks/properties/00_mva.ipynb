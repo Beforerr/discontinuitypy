{
 "cells": [
  {
   "cell_type": "markdown",
   "metadata": {},
   "source": [
    "---\n",
    "title: Minimum variance analysis (MVA)\n",
    "---\n",
    "\n",
    "Notes:\n",
    "\n",
    "- To ensure the accuracy of MVA, only when the ratio of the middle to the minimum eigenvalue (labeled QMVA for simplicity) is larger than 3 are the results used for further analysis.\n"
   ]
  },
  {
   "cell_type": "code",
   "execution_count": 88,
   "metadata": {},
   "outputs": [],
   "source": [
    "# | default_exp propeties/mva\n",
    "# | export\n",
    "import xarray as xr\n",
    "import numpy as np\n",
    "import pandas as pd\n",
    "from datetime import timedelta\n",
    "\n",
    "from lmfit.models import StepModel, ConstantModel, Model\n",
    "from lmfit import Parameters"
   ]
  },
  {
   "cell_type": "markdown",
   "metadata": {},
   "source": [
    "The following method implicitly assumes the data is evenly sampled, otherwise, data resampling is needed.\n"
   ]
  },
  {
   "cell_type": "code",
   "execution_count": 89,
   "metadata": {},
   "outputs": [],
   "source": [
    "# | exports\n",
    "def minvar(data):\n",
    "    \"\"\"\n",
    "    see `pyspedas.cotrans.minvar`\n",
    "\n",
    "    This program computes the principal variance directions and variances of a\n",
    "    vector quantity as well as the associated eigenvalues.\n",
    "\n",
    "    Parameters\n",
    "    -----------\n",
    "    data:\n",
    "        Vxyz, an (npoints, ndim) array of data(ie Nx3)\n",
    "\n",
    "    Returns\n",
    "    -------\n",
    "    vrot:\n",
    "        an array of (npoints, ndim) containing the rotated data in the new coordinate system, ijk.\n",
    "        Vi(maximum direction)=vrot[0,:]\n",
    "        Vj(intermediate direction)=vrot[1,:]\n",
    "        Vk(minimum variance direction)=Vrot[2,:]\n",
    "    v:\n",
    "        an (ndim,ndim) array containing the principal axes vectors\n",
    "        Maximum variance direction eigenvector, Vi=v[*,0]\n",
    "        Intermediate variance direction, Vj=v[*,1] (descending order)\n",
    "    w:\n",
    "        the eigenvalues of the computation\n",
    "    \"\"\"\n",
    "\n",
    "    #  Min var starts here\n",
    "    # data must be Nx3\n",
    "    vecavg = np.nanmean(np.nan_to_num(data, nan=0.0), axis=0)\n",
    "\n",
    "    mvamat = np.zeros((3, 3))\n",
    "    for i in range(3):\n",
    "        for j in range(3):\n",
    "            mvamat[i, j] = (\n",
    "                np.nanmean(np.nan_to_num(data[:, i] * data[:, j], nan=0.0))\n",
    "                - vecavg[i] * vecavg[j]\n",
    "            )\n",
    "\n",
    "    # Calculate eigenvalues and eigenvectors\n",
    "    w, v = np.linalg.eigh(mvamat, UPLO=\"U\")\n",
    "\n",
    "    # Sorting to ensure descending order\n",
    "    w = np.abs(w)\n",
    "    idx = np.flip(np.argsort(w))\n",
    "\n",
    "    # IDL compatability\n",
    "    if True:\n",
    "        if np.sum(w) == 0.0:\n",
    "            idx = [0, 2, 1]\n",
    "\n",
    "    w = w[idx]\n",
    "    v = v[:, idx]\n",
    "\n",
    "    # Rotate intermediate var direction if system is not Right Handed\n",
    "    YcrossZdotX = v[0, 0] * (v[1, 1] * v[2, 2] - v[2, 1] * v[1, 2])\n",
    "    if YcrossZdotX < 0:\n",
    "        v[:, 1] = -v[:, 1]\n",
    "        # v[:, 2] = -v[:, 2] # Should not it is being flipped at Z-axis?\n",
    "\n",
    "    # Ensure minvar direction is along +Z (for FAC system)\n",
    "    if v[2, 2] < 0:\n",
    "        v[:, 2] = -v[:, 2]\n",
    "        v[:, 1] = -v[:, 1]\n",
    "\n",
    "    vrot = np.array([np.dot(row, v) for row in data])\n",
    "\n",
    "    return vrot, v, w"
   ]
  },
  {
   "cell_type": "markdown",
   "metadata": {},
   "source": [
    "## MVA related features\n"
   ]
  },
  {
   "cell_type": "code",
   "execution_count": 90,
   "metadata": {},
   "outputs": [],
   "source": [
    "# | export\n",
    "def calc_mva_features(data: np.ndarray):\n",
    "    \"\"\"\n",
    "    Compute MVA features based on the given data array.\n",
    "\n",
    "    Parameters:\n",
    "    - data (np.ndarray): Input data\n",
    "\n",
    "    Returns:\n",
    "    - List: Computed features\n",
    "    \"\"\"\n",
    "\n",
    "    # Compute variance properties\n",
    "    vrot, v, eigs = minvar(data)\n",
    "\n",
    "    # Maximum variance direction eigenvector\n",
    "    Vl = v[:, 0]\n",
    "    Vn = v[:, 2]\n",
    "\n",
    "    vec_mag = np.linalg.norm(vrot, axis=1)\n",
    "\n",
    "    # Compute changes in each component of B_rot\n",
    "    dvec = [vrot[0, i] - vrot[-1, i] for i in range(3)]\n",
    "\n",
    "    # Compute mean values\n",
    "    vec_mag_mean = np.mean(vec_mag)\n",
    "    vec_n_mean = np.mean(vrot[:, 2])\n",
    "    VnOverVmag = vec_n_mean / vec_mag_mean\n",
    "\n",
    "    # Compute relative changes in magnitude\n",
    "    dvec_mag = vec_mag[-1] - vec_mag[0]\n",
    "    dBOverB = np.abs(dvec_mag / vec_mag_mean)\n",
    "    dBOverB_max = (np.max(vec_mag) - np.min(vec_mag)) / vec_mag_mean\n",
    "\n",
    "    output_names = [\n",
    "        \"Vl\",\n",
    "        \"Vn\",\n",
    "        \"b_mag\",\n",
    "        \"b_n\",\n",
    "        \"db_mag\",\n",
    "        \"bn_over_b\",\n",
    "        \"db_over_b\",\n",
    "        \"db_over_b_max\",\n",
    "        \"dB_lmn\",\n",
    "    ]\n",
    "\n",
    "    results = [\n",
    "        Vl,\n",
    "        Vn,\n",
    "        vec_mag_mean,\n",
    "        vec_n_mean,\n",
    "        dvec_mag,\n",
    "        VnOverVmag,\n",
    "        dBOverB,\n",
    "        dBOverB_max,\n",
    "        dvec,\n",
    "    ]\n",
    "\n",
    "    return pd.Series(results, index=output_names), vrot"
   ]
  },
  {
   "cell_type": "markdown",
   "metadata": {},
   "source": [
    "## Fit maximum variance direction\n"
   ]
  },
  {
   "cell_type": "markdown",
   "metadata": {},
   "source": [
    "$$\n",
    "f(x; A, \\mu, \\sigma, {\\mathrm{form={}'logistic{}'}}) = A \\left[1 - \\frac{1}{1 + e^{\\alpha}} \\right]\n",
    "$$\n",
    "\n",
    "where $\\alpha = (x - \\mu)/{\\sigma}$. And the derivative is\n",
    "\n",
    "$$\n",
    "\\frac{df}{dx} = \\frac{A}{\\sigma} \\frac{e^{\\alpha}}{(1 + e^{\\alpha})^2}\n",
    "$$\n",
    "\n",
    "at center $x = \\mu$, the derivative is\n",
    "\n",
    "$$\n",
    "\\frac{df}{dx} = \\frac{A}{4 \\sigma}\n",
    "$$\n"
   ]
  },
  {
   "cell_type": "code",
   "execution_count": 55,
   "metadata": {},
   "outputs": [],
   "source": [
    "# | export\n",
    "def fit_maxiumum_variance_direction(\n",
    "    ts: xr.DataArray, datetime_unit=\"s\", return_best_fit: bool = True, **kwargs\n",
    "):\n",
    "    \"\"\"\n",
    "    Fit maximum variance direction data by model\n",
    "\n",
    "    Note: \n",
    "        - see `datetime_to_numeric` in `xarray.core.duck_array_ops` for more details about converting datetime to numeric\n",
    "        - Xarray uses the numpy dtypes datetime64[ns] and timedelta64[ns] to represent datetime data.\n",
    "    \"\"\"\n",
    "    time = ts[\"time\"].values\n",
    "    x = (time - min(time)) / np.timedelta64(1, datetime_unit)\n",
    "    y = ts.values\n",
    "\n",
    "    xmin, xmax = min(x), max(x)\n",
    "    ymin, ymax = min(y), max(y)\n",
    "\n",
    "    # Create a model\n",
    "    step_mod = StepModel(form=\"logistic\")\n",
    "    const_mod = ConstantModel()\n",
    "    mod = step_mod + const_mod\n",
    "\n",
    "    # Create parameters\n",
    "    params = Parameters()\n",
    "    params.add(\"c\", value=0)\n",
    "    params.add(\"center\", value=(xmax + xmin) / 2.0, min=xmin, max=xmax)\n",
    "    params.add(\"amplitude\", value=(ymax - ymin))\n",
    "    params.add(\"sigma\", value=(xmax - xmin) / 7.0, min=0)\n",
    "\n",
    "    out = mod.fit(y, params, x=x)\n",
    "\n",
    "    amplitude = out.params[\"amplitude\"].value\n",
    "    sigma = out.params[\"sigma\"].value\n",
    "    center = out.params[\"center\"].value\n",
    "    max_df = amplitude / (4 * sigma)\n",
    "\n",
    "    d_time = min(time) + center * np.timedelta64(1, datetime_unit).astype(\"timedelta64[ns]\")\n",
    "\n",
    "    result = pd.Series(\n",
    "        {\n",
    "            \"fit.vars.amplitude\": amplitude,\n",
    "            \"fit.vars.sigma\": sigma,\n",
    "            \"d_time\": d_time,\n",
    "            \"d_star\": max_df,\n",
    "            \"fit.vars.c\": out.params[\"c\"].value,\n",
    "            \"fit.stat.rsquared\": out.rsquared,\n",
    "            \"fit.stat.chisqr\": out.chisqr,\n",
    "        }\n",
    "    )\n",
    "    if return_best_fit:\n",
    "        result[\"fit.best_fit\"] = out.best_fit\n",
    "        result[\"fit.time\"] = time\n",
    "    return result"
   ]
  },
  {
   "cell_type": "code",
   "execution_count": 56,
   "metadata": {},
   "outputs": [],
   "source": [
    "# | export\n",
    "def calc_candidate_mva_features(event, data: xr.DataArray, **kwargs):\n",
    "    event_data = data.sel(time=slice(event[\"d_tstart\"], event[\"d_tstop\"]))\n",
    "\n",
    "    mva_features, vrot = calc_mva_features(event_data.to_numpy())\n",
    "\n",
    "    event_data_l = xr.DataArray(\n",
    "        vrot[:, 0], dims=[\"time\"], coords={\"time\": event_data.time}\n",
    "    )\n",
    "\n",
    "    fit_result = fit_maxiumum_variance_direction(event_data_l, **kwargs)\n",
    "\n",
    "    return pd.concat([mva_features, fit_result])"
   ]
  },
  {
   "cell_type": "markdown",
   "metadata": {},
   "source": [
    "## Test\n"
   ]
  },
  {
   "cell_type": "code",
   "execution_count": 99,
   "metadata": {},
   "outputs": [
    {
     "data": {
      "text/plain": [
       "array([ 1.01476962,  0.92001526,  0.75955714,  0.5124786 ,  0.18267077,\n",
       "       -0.18267075, -0.51247858, -0.75955714, -0.92001527, -1.01476964])"
      ]
     },
     "execution_count": 99,
     "metadata": {},
     "output_type": "execute_result"
    }
   ],
   "source": [
    "# | code-summary: test for ts_max_distance function\n",
    "time = pd.date_range(\"2000-01-01\", periods=10)\n",
    "x = np.linspace(0, np.pi, 10)\n",
    "# generate data circular in three dimensions, so the biggest distance is between the first and the last point\n",
    "data = np.zeros((10, 3))\n",
    "data[:, 0] = np.cos(x)\n",
    "data[:, 1] = np.sin(x)\n",
    "ts = xr.DataArray(data, coords={\"time\": time}, dims=[\"time\", \"space\"])\n",
    "fit_ts(ts[:, 0]).best_fit"
   ]
  },
  {
   "cell_type": "code",
   "execution_count": 120,
   "metadata": {},
   "outputs": [
    {
     "data": {
      "text/plain": [
       "numpy.timedelta64(1000000,'us')"
      ]
     },
     "execution_count": 120,
     "metadata": {},
     "output_type": "execute_result"
    }
   ],
   "source": [
    "np.timedelta64()"
   ]
  },
  {
   "cell_type": "code",
   "execution_count": 73,
   "metadata": {},
   "outputs": [
    {
     "data": {
      "text/plain": [
       "(10, 3)"
      ]
     },
     "execution_count": 73,
     "metadata": {},
     "output_type": "execute_result"
    }
   ],
   "source": [
    "mva_features, vrot = calc_mva_features(data)\n",
    "vrot.shape"
   ]
  },
  {
   "cell_type": "code",
   "execution_count": null,
   "metadata": {},
   "outputs": [],
   "source": [
    "# | eval: false\n",
    "from fastcore.test import test_eq\n",
    "\n",
    "# Generate synthetic data\n",
    "np.random.seed(42)  # for reproducibility\n",
    "data = np.random.rand(100, 3)  # 100 time points, 3-dimensional data\n",
    "# Call the mva_features function\n",
    "features, vrot = calc_mva_features(data)\n",
    "_features = [\n",
    "    0.3631060892452051,\n",
    "    0.8978455426527485,\n",
    "    -0.24905290500542857,\n",
    "    0.09753158579102299,\n",
    "    0.086943767300213,\n",
    "    0.07393142040422575,\n",
    "    1.1760056390752571,\n",
    "    0.9609421690770317,\n",
    "    0.6152039820297959,\n",
    "    -0.5922397773398479,\n",
    "    0.6402091632847049,\n",
    "    0.61631157045453,\n",
    "    1.2956351134759623,\n",
    "    0.19091785005728523,\n",
    "    0.5182488424049534,\n",
    "    0.4957624347593598,\n",
    "]\n",
    "test_eq(features, _features)"
   ]
  }
 ],
 "metadata": {
  "kernelspec": {
   "display_name": "Python 3",
   "language": "python",
   "name": "python3"
  },
  "language_info": {
   "codemirror_mode": {
    "name": "ipython",
    "version": 3
   },
   "file_extension": ".py",
   "mimetype": "text/x-python",
   "name": "python",
   "nbconvert_exporter": "python",
   "pygments_lexer": "ipython3",
   "version": "3.10.13"
  }
 },
 "nbformat": 4,
 "nbformat_minor": 2
}
