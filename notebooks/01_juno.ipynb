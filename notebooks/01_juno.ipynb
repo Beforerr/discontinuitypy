{
 "cells": [
  {
   "cell_type": "markdown",
   "metadata": {},
   "source": [
    "---\n",
    "title: IDs from Juno\n",
    "format:\n",
    "  html:\n",
    "    code-fold: true\n",
    "output-file: juno.html\n",
    "\n",
    "---"
   ]
  },
  {
   "cell_type": "markdown",
   "metadata": {},
   "source": [
    "Need to run command in shell first as `pipeline` is project-specific command\n",
    "\n",
    "```{sh}\n",
    "kedro pipeline create juno\n",
    "```"
   ]
  },
  {
   "cell_type": "code",
   "execution_count": null,
   "metadata": {},
   "outputs": [],
   "source": [
    "#| default_exp pipelines/juno/pipeline\n",
    "#| hide\n",
    "%load_ext autoreload\n",
    "%autoreload 2"
   ]
  },
  {
   "cell_type": "code",
   "execution_count": null,
   "metadata": {},
   "outputs": [],
   "source": [
    "#| output: hide\n",
    "#| code-summary: import all the packages needed for the project\n",
    "from ids_finder.core import *\n",
    "from fastcore.utils import *\n",
    "from fastcore.test import *\n",
    "\n",
    "import polars as pl\n",
    "try:\n",
    "    import modin.pandas as pd\n",
    "except ImportError:\n",
    "    import pandas as pd\n",
    "\n",
    "import pandas\n",
    "\n",
    "from loguru import logger\n",
    "\n",
    "import pdr\n",
    "\n",
    "from typing import Callable"
   ]
  },
  {
   "cell_type": "markdown",
   "metadata": {},
   "source": [
    "#### `Kerdo`"
   ]
  },
  {
   "cell_type": "code",
   "execution_count": null,
   "metadata": {},
   "outputs": [
    {
     "data": {
      "text/html": [
       "<pre style=\"white-space:pre;overflow-x:auto;line-height:normal;font-family:Menlo,'DejaVu Sans Mono',consolas,'Courier New',monospace\"><span style=\"color: #7fbfbf; text-decoration-color: #7fbfbf\">[10/13/23 10:22:47] </span><span style=\"color: #800000; text-decoration-color: #800000\">WARNING </span> <span style=\"color: #800080; text-decoration-color: #800080\">/Users/zijin/mambaforge/envs/cool_planet/lib/python3.10/site-packages/</span> <a href=\"file:///Users/zijin/mambaforge/envs/cool_planet/lib/python3.10/warnings.py\" target=\"_blank\"><span style=\"color: #7f7f7f; text-decoration-color: #7f7f7f\">warnings.py</span></a><span style=\"color: #7f7f7f; text-decoration-color: #7f7f7f\">:</span><a href=\"file:///Users/zijin/mambaforge/envs/cool_planet/lib/python3.10/warnings.py#109\" target=\"_blank\"><span style=\"color: #7f7f7f; text-decoration-color: #7f7f7f\">109</span></a>\n",
       "<span style=\"color: #7fbfbf; text-decoration-color: #7fbfbf\">                    </span>         <span style=\"color: #800080; text-decoration-color: #800080\">kedro/io/</span><span style=\"color: #ff00ff; text-decoration-color: #ff00ff\">data_catalog.py</span>:<span style=\"color: #008080; text-decoration-color: #008080; font-weight: bold\">300</span>: FutureWarning: Defining the <span style=\"color: #008000; text-decoration-color: #008000\">'layer'</span>      <span style=\"color: #7f7f7f; text-decoration-color: #7f7f7f\">               </span>\n",
       "<span style=\"color: #7fbfbf; text-decoration-color: #7fbfbf\">                    </span>         attribute at the top level is deprecated and will be removed in Kedro  <span style=\"color: #7f7f7f; text-decoration-color: #7f7f7f\">               </span>\n",
       "<span style=\"color: #7fbfbf; text-decoration-color: #7fbfbf\">                    </span>         <span style=\"color: #008080; text-decoration-color: #008080; font-weight: bold\">0.19</span>.<span style=\"color: #008080; text-decoration-color: #008080; font-weight: bold\">0</span>. Please move <span style=\"color: #008000; text-decoration-color: #008000\">'layer'</span> inside the <span style=\"color: #008000; text-decoration-color: #008000\">'metadata'</span> -&gt; <span style=\"color: #008000; text-decoration-color: #008000\">'kedro-viz'</span>       <span style=\"color: #7f7f7f; text-decoration-color: #7f7f7f\">               </span>\n",
       "<span style=\"color: #7fbfbf; text-decoration-color: #7fbfbf\">                    </span>         attributes. See                                                        <span style=\"color: #7f7f7f; text-decoration-color: #7f7f7f\">               </span>\n",
       "<span style=\"color: #7fbfbf; text-decoration-color: #7fbfbf\">                    </span>         <span style=\"color: #0000ff; text-decoration-color: #0000ff; text-decoration: underline\">https://docs.kedro.org/en/latest/visualisation/kedro-viz_visualisation</span> <span style=\"color: #7f7f7f; text-decoration-color: #7f7f7f\">               </span>\n",
       "<span style=\"color: #7fbfbf; text-decoration-color: #7fbfbf\">                    </span>         <span style=\"color: #0000ff; text-decoration-color: #0000ff; text-decoration: underline\">.html#visualise-layers</span> for more information.                           <span style=\"color: #7f7f7f; text-decoration-color: #7f7f7f\">               </span>\n",
       "<span style=\"color: #7fbfbf; text-decoration-color: #7fbfbf\">                    </span>           <span style=\"color: #800080; text-decoration-color: #800080; font-weight: bold\">warnings.warn</span><span style=\"font-weight: bold\">(</span>                                                       <span style=\"color: #7f7f7f; text-decoration-color: #7f7f7f\">               </span>\n",
       "<span style=\"color: #7fbfbf; text-decoration-color: #7fbfbf\">                    </span>                                                                                <span style=\"color: #7f7f7f; text-decoration-color: #7f7f7f\">               </span>\n",
       "</pre>\n"
      ],
      "text/plain": [
       "\u001b[2;36m[10/13/23 10:22:47]\u001b[0m\u001b[2;36m \u001b[0m\u001b[31mWARNING \u001b[0m \u001b[35m/Users/zijin/mambaforge/envs/cool_planet/lib/python3.10/site-packages/\u001b[0m \u001b]8;id=817366;file:///Users/zijin/mambaforge/envs/cool_planet/lib/python3.10/warnings.py\u001b\\\u001b[2mwarnings.py\u001b[0m\u001b]8;;\u001b\\\u001b[2m:\u001b[0m\u001b]8;id=838666;file:///Users/zijin/mambaforge/envs/cool_planet/lib/python3.10/warnings.py#109\u001b\\\u001b[2m109\u001b[0m\u001b]8;;\u001b\\\n",
       "\u001b[2;36m                    \u001b[0m         \u001b[35mkedro/io/\u001b[0m\u001b[95mdata_catalog.py\u001b[0m:\u001b[1;36m300\u001b[0m: FutureWarning: Defining the \u001b[32m'layer'\u001b[0m      \u001b[2m               \u001b[0m\n",
       "\u001b[2;36m                    \u001b[0m         attribute at the top level is deprecated and will be removed in Kedro  \u001b[2m               \u001b[0m\n",
       "\u001b[2;36m                    \u001b[0m         \u001b[1;36m0.19\u001b[0m.\u001b[1;36m0\u001b[0m. Please move \u001b[32m'layer'\u001b[0m inside the \u001b[32m'metadata'\u001b[0m -> \u001b[32m'kedro-viz'\u001b[0m       \u001b[2m               \u001b[0m\n",
       "\u001b[2;36m                    \u001b[0m         attributes. See                                                        \u001b[2m               \u001b[0m\n",
       "\u001b[2;36m                    \u001b[0m         \u001b[4;94mhttps://docs.kedro.org/en/latest/visualisation/kedro-viz_visualisation\u001b[0m \u001b[2m               \u001b[0m\n",
       "\u001b[2;36m                    \u001b[0m         \u001b[4;94m.html#visualise-layers\u001b[0m for more information.                           \u001b[2m               \u001b[0m\n",
       "\u001b[2;36m                    \u001b[0m           \u001b[1;35mwarnings.warn\u001b[0m\u001b[1m(\u001b[0m                                                       \u001b[2m               \u001b[0m\n",
       "\u001b[2;36m                    \u001b[0m                                                                                \u001b[2m               \u001b[0m\n"
      ]
     },
     "metadata": {},
     "output_type": "display_data"
    }
   ],
   "source": [
    "from ids_finder.utils.basic import load_catalog"
   ]
  },
  {
   "cell_type": "code",
   "execution_count": null,
   "metadata": {},
   "outputs": [],
   "source": [
    "catalog = load_catalog()\n",
    "catalog.list()"
   ]
  },
  {
   "cell_type": "code",
   "execution_count": 1,
   "metadata": {},
   "outputs": [],
   "source": [
    "#| export\n",
    "from kedro.pipeline import Pipeline, pipeline, node\n",
    "\n",
    "from ids_finder.core import extract_features\n",
    "    "
   ]
  },
  {
   "cell_type": "markdown",
   "metadata": {},
   "source": [
    "## Background"
   ]
  },
  {
   "cell_type": "markdown",
   "metadata": {},
   "source": [
    "Spacecraft-Solar equatorial"
   ]
  },
  {
   "cell_type": "markdown",
   "metadata": {},
   "source": [
    "### Coordinate System of Data"
   ]
  },
  {
   "cell_type": "markdown",
   "metadata": {},
   "source": [
    "1. **SE (Solar Equatorial)**\n",
    "    - Code: `se`\n",
    "    - Resampling options: \n",
    "        - Number of seconds (1 or 60): `se_rN[N]s`\n",
    "        - Resampled 1 hour: `se_r1h`\n",
    "\n",
    "2. **PC (Planetocentric)**\n",
    "    - Code: `pc`\n",
    "    - Resampling options: \n",
    "        - Number of seconds (1 or 60): `pc_rN[N]s`\n",
    "        \n",
    "3. **SS (Sun-State)**\n",
    "    - Code: `ss`\n",
    "    - Resampling options: \n",
    "        - Number of seconds (1 or 60): `ss_rN[N]s`\n",
    "        \n",
    "4. **PL (Payload)**\n",
    "    - Code: `pl`\n",
    "    - Resampling options: \n",
    "        - Number of seconds (1 or 60): `pl_rN[N]s`\n",
    "\n",
    "\n",
    "```txt\n",
    "------------------------------------------------------------------------------\n",
    "Juno Mission Phases                                                           \n",
    "------------------------------------------------------------------------------\n",
    "Start       Mission                                                           \n",
    "Date        Phase                                                             \n",
    "==============================================================================\n",
    "2011-08-05  Launch                                                            \n",
    "2011-08-08  Inner Cruise 1                                                    \n",
    "2011-10-10  Inner Cruise 2                                                    \n",
    "2013-05-28  Inner Cruise 3                                                    \n",
    "2013-11-05  Quiet Cruise                                                      \n",
    "2016-01-05  Jupiter Approach                                                  \n",
    "2016-06-30  Jupiter Orbital Insertion                                         \n",
    "2016-07-05  Capture Orbit                                                     \n",
    "2016-10-19  Period Reduction Maneuver                                         \n",
    "2016-10-20  Orbits 1-2                                                        \n",
    "2016-11-09  Science Orbits                                                    \n",
    "2017-10-11  Deorbit\n",
    "```\n",
    "\n",
    "```txt\n",
    "File Naming Convention                                                        \n",
    "==============================================================================\n",
    "Convention:                                                                   \n",
    "   fgm_jno_LL_CCYYDDDxx_vVV.ext                                               \n",
    "Where:                                                                        \n",
    "   fgm - Fluxgate Magnetometer three character instrument abbreviation        \n",
    "   jno - Juno                                                                 \n",
    "    LL - CODMAC Data level, for example, l3 for level 3                       \n",
    "    CC - The century portion of a date, 20                                    \n",
    "    YY - The year of century portion of a date, 00-99                         \n",
    "   DDD - The day of year, 001-366                                             \n",
    "    xx - Coordinate system of data (se = Solar equatorial, ser = Solar        \n",
    "         equatorial resampled, pc = Planetocentric, ss = Sun-State,           \n",
    "         pl = Payload)                                                        \n",
    "     v - separator to denote Version number                                   \n",
    "    VV - version                                                              \n",
    "   ext - file extension (sts = Standard Time Series (ASCII) file, lbl = Label \n",
    "         file)                                                                \n",
    "Example:                                                                      \n",
    "   fgm_jno_l3_2014055se_v00.sts    \n",
    "```"
   ]
  },
  {
   "cell_type": "markdown",
   "metadata": {},
   "source": [
    "## Dataset Overview"
   ]
  },
  {
   "cell_type": "markdown",
   "metadata": {},
   "source": [
    "### Index"
   ]
  },
  {
   "cell_type": "code",
   "execution_count": null,
   "metadata": {},
   "outputs": [],
   "source": [
    "pds_dir = \"https://pds-ppi.igpp.ucla.edu/data\"\n",
    "\n",
    "possible_coords = [\"se\", \"ser\", \"pc\", \"ss\", \"pl\"]\n",
    "possible_exts = [\"sts\", \"lbl\"]\n",
    "possible_data_rates = [\"1s\", \"1min\", \"1h\"]\n",
    "\n",
    "juno_ss_config = {\n",
    "    \"DATA_SET_ID\": \"JNO-SS-3-FGM-CAL-V1.0\",\n",
    "    \"FILE_SPECIFICATION_NAME\": \"INDEX/INDEX.LBL\",\n",
    "}\n",
    "\n",
    "juno_j_config = {\n",
    "    \"DATA_SET_ID\": \"JNO-J-3-FGM-CAL-V1.0\",\n",
    "    \"FILE_SPECIFICATION_NAME\": \"INDEX/INDEX.LBL\",\n",
    "}"
   ]
  },
  {
   "cell_type": "markdown",
   "metadata": {},
   "source": [
    "#### Process index"
   ]
  },
  {
   "cell_type": "code",
   "execution_count": null,
   "metadata": {},
   "outputs": [],
   "source": [
    "#| export\n",
    "import pandas\n",
    "import pdpipe as pdp"
   ]
  },
  {
   "cell_type": "code",
   "execution_count": null,
   "metadata": {},
   "outputs": [],
   "source": [
    "#| export\n",
    "def process_jno_index(df: pandas.DataFrame):\n",
    "    \n",
    "    _index_time_format = \"%Y-%jT%H:%M:%S.%f\"\n",
    "    \n",
    "    df.columns = df.columns.str.replace(\" \", \"\")\n",
    "    jno_index_pipeline = pdp.PdPipeline(\n",
    "        [\n",
    "            pdp.ColDrop([\"PRODUCT_ID\", \"CR_DATE\", \"PRODUCT_LABEL_MD5CHECKSUM\"]),\n",
    "            pdp.ApplyByCols(\"SID\", str.rstrip),\n",
    "            pdp.ApplyByCols(\"FILE_SPECIFICATION_NAME\", str.rstrip),\n",
    "            pdp.ColByFrameFunc(\n",
    "                \"START_TIME\",\n",
    "                lambda df: pandas.to_datetime(df[\"START_TIME\"], format=_index_time_format),\n",
    "            ),\n",
    "            pdp.ColByFrameFunc(\n",
    "                \"STOP_TIME\",\n",
    "                lambda df: pandas.to_datetime(df[\"STOP_TIME\"], format=_index_time_format),\n",
    "            ),\n",
    "            # pdp.ApplyByCols(['START_TIME', 'STOP_TIME'], pandas.to_datetime, format=_index_time_format), # NOTE: This is slow\n",
    "        ]\n",
    "    )\n",
    "    \n",
    "    return jno_index_pipeline(df)\n"
   ]
  },
  {
   "cell_type": "markdown",
   "metadata": {},
   "source": [
    "#### Pipleline"
   ]
  },
  {
   "cell_type": "code",
   "execution_count": null,
   "metadata": {},
   "outputs": [],
   "source": [
    "#| export\n",
    "from kedro.pipeline import pipeline, node"
   ]
  },
  {
   "cell_type": "code",
   "execution_count": null,
   "metadata": {},
   "outputs": [],
   "source": [
    "#| export\n",
    "def create_jno_index_pipeline():\n",
    "    jno_index_pipeline = pipeline([\n",
    "        node(process_jno_index, inputs=\"raw_JNO_SS_index\", outputs=\"JNO_SS_index\"),\n",
    "        node(process_jno_index, inputs=\"raw_JNO_J_index\", outputs=\"JNO_J_index\"),\n",
    "        node(lambda x1, x2: pandas.concat([x1, x2]), inputs=[\"JNO_SS_index\", \"JNO_J_index\"], outputs=\"JNO_index\")\n",
    "    ])\n",
    "    return jno_index_pipeline"
   ]
  },
  {
   "cell_type": "code",
   "execution_count": null,
   "metadata": {},
   "outputs": [
    {
     "data": {
      "text/html": [
       "<pre style=\"white-space:pre;overflow-x:auto;line-height:normal;font-family:Menlo,'DejaVu Sans Mono',consolas,'Courier New',monospace\"><span style=\"color: #7fbfbf; text-decoration-color: #7fbfbf\">[10/11/23 14:33:17] </span><span style=\"color: #000080; text-decoration-color: #000080\">INFO    </span> Loading data from <span style=\"color: #008000; text-decoration-color: #008000\">'raw_JNO_SS_index'</span> <span style=\"font-weight: bold\">(</span>CSVDataSet<span style=\"font-weight: bold\">)</span><span style=\"color: #808000; text-decoration-color: #808000\">...</span>               <a href=\"file:///Users/zijin/mambaforge/envs/cool_planet/lib/python3.10/site-packages/kedro/io/data_catalog.py\" target=\"_blank\"><span style=\"color: #7f7f7f; text-decoration-color: #7f7f7f\">data_catalog.py</span></a><span style=\"color: #7f7f7f; text-decoration-color: #7f7f7f\">:</span><a href=\"file:///Users/zijin/mambaforge/envs/cool_planet/lib/python3.10/site-packages/kedro/io/data_catalog.py#492\" target=\"_blank\"><span style=\"color: #7f7f7f; text-decoration-color: #7f7f7f\">492</span></a>\n",
       "</pre>\n"
      ],
      "text/plain": [
       "\u001b[2;36m[10/11/23 14:33:17]\u001b[0m\u001b[2;36m \u001b[0m\u001b[34mINFO    \u001b[0m Loading data from \u001b[32m'raw_JNO_SS_index'\u001b[0m \u001b[1m(\u001b[0mCSVDataSet\u001b[1m)\u001b[0m\u001b[33m...\u001b[0m               \u001b]8;id=842924;file:///Users/zijin/mambaforge/envs/cool_planet/lib/python3.10/site-packages/kedro/io/data_catalog.py\u001b\\\u001b[2mdata_catalog.py\u001b[0m\u001b]8;;\u001b\\\u001b[2m:\u001b[0m\u001b]8;id=51547;file:///Users/zijin/mambaforge/envs/cool_planet/lib/python3.10/site-packages/kedro/io/data_catalog.py#492\u001b\\\u001b[2m492\u001b[0m\u001b]8;;\u001b\\\n"
      ]
     },
     "metadata": {},
     "output_type": "display_data"
    },
    {
     "data": {
      "text/html": [
       "<pre style=\"white-space:pre;overflow-x:auto;line-height:normal;font-family:Menlo,'DejaVu Sans Mono',consolas,'Courier New',monospace\"><span style=\"color: #7fbfbf; text-decoration-color: #7fbfbf\">                    </span><span style=\"color: #000080; text-decoration-color: #000080\">INFO    </span> Loading data from <span style=\"color: #008000; text-decoration-color: #008000\">'raw_JNO_J_index'</span> <span style=\"font-weight: bold\">(</span>CSVDataSet<span style=\"font-weight: bold\">)</span><span style=\"color: #808000; text-decoration-color: #808000\">...</span>                <a href=\"file:///Users/zijin/mambaforge/envs/cool_planet/lib/python3.10/site-packages/kedro/io/data_catalog.py\" target=\"_blank\"><span style=\"color: #7f7f7f; text-decoration-color: #7f7f7f\">data_catalog.py</span></a><span style=\"color: #7f7f7f; text-decoration-color: #7f7f7f\">:</span><a href=\"file:///Users/zijin/mambaforge/envs/cool_planet/lib/python3.10/site-packages/kedro/io/data_catalog.py#492\" target=\"_blank\"><span style=\"color: #7f7f7f; text-decoration-color: #7f7f7f\">492</span></a>\n",
       "</pre>\n"
      ],
      "text/plain": [
       "\u001b[2;36m                   \u001b[0m\u001b[2;36m \u001b[0m\u001b[34mINFO    \u001b[0m Loading data from \u001b[32m'raw_JNO_J_index'\u001b[0m \u001b[1m(\u001b[0mCSVDataSet\u001b[1m)\u001b[0m\u001b[33m...\u001b[0m                \u001b]8;id=964594;file:///Users/zijin/mambaforge/envs/cool_planet/lib/python3.10/site-packages/kedro/io/data_catalog.py\u001b\\\u001b[2mdata_catalog.py\u001b[0m\u001b]8;;\u001b\\\u001b[2m:\u001b[0m\u001b]8;id=460535;file:///Users/zijin/mambaforge/envs/cool_planet/lib/python3.10/site-packages/kedro/io/data_catalog.py#492\u001b\\\u001b[2m492\u001b[0m\u001b]8;;\u001b\\\n"
      ]
     },
     "metadata": {},
     "output_type": "display_data"
    },
    {
     "data": {
      "text/html": [
       "<pre style=\"white-space:pre;overflow-x:auto;line-height:normal;font-family:Menlo,'DejaVu Sans Mono',consolas,'Courier New',monospace\"><span style=\"color: #7fbfbf; text-decoration-color: #7fbfbf\">                    </span><span style=\"color: #000080; text-decoration-color: #000080\">INFO    </span> Loading data from <span style=\"color: #008000; text-decoration-color: #008000\">'JNO_index'</span> <span style=\"font-weight: bold\">(</span>ParquetDataSet<span style=\"font-weight: bold\">)</span><span style=\"color: #808000; text-decoration-color: #808000\">...</span>                  <a href=\"file:///Users/zijin/mambaforge/envs/cool_planet/lib/python3.10/site-packages/kedro/io/data_catalog.py\" target=\"_blank\"><span style=\"color: #7f7f7f; text-decoration-color: #7f7f7f\">data_catalog.py</span></a><span style=\"color: #7f7f7f; text-decoration-color: #7f7f7f\">:</span><a href=\"file:///Users/zijin/mambaforge/envs/cool_planet/lib/python3.10/site-packages/kedro/io/data_catalog.py#492\" target=\"_blank\"><span style=\"color: #7f7f7f; text-decoration-color: #7f7f7f\">492</span></a>\n",
       "</pre>\n"
      ],
      "text/plain": [
       "\u001b[2;36m                   \u001b[0m\u001b[2;36m \u001b[0m\u001b[34mINFO    \u001b[0m Loading data from \u001b[32m'JNO_index'\u001b[0m \u001b[1m(\u001b[0mParquetDataSet\u001b[1m)\u001b[0m\u001b[33m...\u001b[0m                  \u001b]8;id=868457;file:///Users/zijin/mambaforge/envs/cool_planet/lib/python3.10/site-packages/kedro/io/data_catalog.py\u001b\\\u001b[2mdata_catalog.py\u001b[0m\u001b]8;;\u001b\\\u001b[2m:\u001b[0m\u001b]8;id=304979;file:///Users/zijin/mambaforge/envs/cool_planet/lib/python3.10/site-packages/kedro/io/data_catalog.py#492\u001b\\\u001b[2m492\u001b[0m\u001b]8;;\u001b\\\n"
      ]
     },
     "metadata": {},
     "output_type": "display_data"
    }
   ],
   "source": [
    "raw_JNO_SS_index = catalog.load('raw_JNO_SS_index')\n",
    "raw_JNO_J_index = catalog.load('raw_JNO_J_index')\n",
    "jno_index = catalog.load('JNO_index')\n",
    "\n",
    "jno_ss_index = jno_index[lambda df: df[\"DATA_SET_ID\"] == \"JNO-SS-3-FGM-CAL-V1.0\"]\n",
    "jno_j_index  = jno_index[lambda df: df[\"DATA_SET_ID\"] == \"JNO-J-3-FGM-CAL-V1.0\"]"
   ]
  },
  {
   "cell_type": "markdown",
   "metadata": {},
   "source": [
    "### Check the data"
   ]
  },
  {
   "cell_type": "code",
   "execution_count": null,
   "metadata": {},
   "outputs": [
    {
     "name": "stdout",
     "output_type": "stream",
     "text": [
      "JNO-SS Starting date: 2011-08-25\n",
      "JNO-SS Ending date: 2016-06-29\n",
      "JNO-J Starting date: 2016-07-07\n",
      "JNO-J Ending date: 2022-12-15\n"
     ]
    }
   ],
   "source": [
    "#| echo: false\n",
    "starting_date = jno_ss_index['START_TIME'].min().date()\n",
    "ending_date = jno_ss_index['STOP_TIME'].max().date()\n",
    "\n",
    "print(f\"JNO-SS Starting date: {starting_date}\")\n",
    "print(f\"JNO-SS Ending date: {ending_date}\")\n",
    "\n",
    "starting_date = jno_j_index['START_TIME'].min().date()\n",
    "ending_date = jno_j_index['STOP_TIME'].max().date()\n",
    "print(f\"JNO-J Starting date: {starting_date}\")\n",
    "print(f\"JNO-J Ending date: {ending_date}\")"
   ]
  },
  {
   "cell_type": "code",
   "execution_count": null,
   "metadata": {},
   "outputs": [
    {
     "name": "stdout",
     "output_type": "stream",
     "text": [
      "The following days are missing\n",
      "(#2353) ['2016-07-07','2016-07-08','2016-07-09','2016-07-10','2016-07-11','2016-07-12','2016-07-13','2016-07-14','2016-07-15','2016-07-16'...]\n"
     ]
    }
   ],
   "source": [
    "#| echo: false\n",
    "available_dates = pandas.concat([jno_ss_index['START_TIME'].dt.date, jno_ss_index['STOP_TIME'].dt.date]).unique()\n",
    "full_year_range = pandas.date_range(start=starting_date, end=ending_date)\n",
    "\n",
    "missing_dates = full_year_range[~full_year_range.isin(available_dates)]\n",
    "\n",
    "if len(missing_dates) == 0:\n",
    "    print(f\"No days are missing.\")\n",
    "else:\n",
    "    print(f\"The following days are missing\")\n",
    "    print(coll_repr(missing_dates.map(lambda x: x.strftime(\"%Y-%m-%d\"))))"
   ]
  },
  {
   "cell_type": "markdown",
   "metadata": {},
   "source": [
    "### Download all data files"
   ]
  },
  {
   "cell_type": "code",
   "execution_count": null,
   "metadata": {},
   "outputs": [],
   "source": [
    "# | export\n",
    "import pooch\n",
    "from pooch import Unzip\n",
    "\n",
    "time_resolutions = ['1sec', '1min']\n",
    "\n",
    "def download_juno_data(time_resolution: str = 'sec'):\n",
    "    base_url = 'https://pds-ppi.igpp.ucla.edu/ditdos/download?id=pds://PPI/JNO-SS-3-FGM-CAL-V1.0/DATA/CRUISE/SE'\n",
    "    pooch.retrieve(\n",
    "        url=f\"{base_url}/{time_resolution.upper()}\",\n",
    "        known_hash=None,\n",
    "        path = \"../data/01_raw/\",\n",
    "        processor=Unzip(extract_dir=f\"jno_ss_se_{time_resolution}\")\n",
    "    )\n",
    "    "
   ]
  },
  {
   "cell_type": "code",
   "execution_count": null,
   "metadata": {},
   "outputs": [],
   "source": [
    "#| export\n",
    "import polars as pl\n",
    "import pandas    "
   ]
  },
  {
   "cell_type": "markdown",
   "metadata": {},
   "source": [
    "### Convert all files from `lbl` format to `parquet` format for faster processing"
   ]
  },
  {
   "cell_type": "code",
   "execution_count": null,
   "metadata": {},
   "outputs": [],
   "source": [
    "# | export\n",
    "from ids_finder.utils.basic import partition_data_by_year, concat_partitions"
   ]
  },
  {
   "cell_type": "code",
   "execution_count": null,
   "metadata": {},
   "outputs": [],
   "source": [
    "# | export\n",
    "def preprocess_jno(partitioned_input) -> pl.DataFrame:\n",
    "    \"\"\"Preprocess the jno dataset: Cleaning column names, parsing dates and dropping completely null columns are other 'transformations' commonly performed at this stage.\n",
    "\n",
    "    Args:\n",
    "        df: Input DataFrame.\n",
    "\n",
    "    Returns:\n",
    "        Preprocessed DataFrame.\n",
    "    \"\"\"\n",
    "\n",
    "    df = concat_partitions(partitioned_input)\n",
    "    df_pl = (\n",
    "        pl.DataFrame(df)\n",
    "        .lazy()\n",
    "        .with_columns(time=pl.col(\"SAMPLE UTC\").str.to_datetime(\"%Y %j %H %M %S %f\"))\n",
    "        .drop([\"SAMPLE UTC\", \"DECIMAL DAY\", \"INSTRUMENT RANGE\"])\n",
    "        .sort(\"time\")\n",
    "        .collect()\n",
    "    )\n",
    "    return df_pl"
   ]
  },
  {
   "cell_type": "markdown",
   "metadata": {},
   "source": [
    "### Nodes"
   ]
  },
  {
   "cell_type": "code",
   "execution_count": null,
   "metadata": {},
   "outputs": [],
   "source": [
    "\n",
    "# | export\n",
    "from kedro.pipeline import Pipeline, node\n",
    "from kedro.pipeline.modular_pipeline import pipeline\n",
    "\n",
    "\n",
    "def create_jno_data_pipeline():\n",
    "    jno_data_pipeline = pipeline(\n",
    "        [\n",
    "            node(\n",
    "                download_juno_data,\n",
    "                inputs=None,\n",
    "                outputs=\"raw_jno_ss_se_1sec\",\n",
    "                name=\"download_JUNO_data_1sec\",\n",
    "            ),\n",
    "            node(\n",
    "                preprocess_jno,\n",
    "                inputs=\"raw_jno_ss_se_1sec\",\n",
    "                outputs=\"inter_jno_ss_se_1s\",\n",
    "                name=\"preprocess_JUNO_1s\",\n",
    "            ),\n",
    "            node(\n",
    "                partition_data_by_year,\n",
    "                inputs=\"inter_jno_ss_se_1s\",\n",
    "                outputs=\"primary_jno_ss_se_1s\",\n",
    "                name=\"partition_JUNO_1s\",\n",
    "            ),\n",
    "            node(\n",
    "                extract_features,\n",
    "                inputs=[\"primary.jno_ss_se_1s\", \"params:tau\", \"params:jno_1s_params\"],\n",
    "                outputs=\"candidates_jno_ss_se_1s\",\n",
    "                name=\"extract_JUNO_features\",\n",
    "            ),\n",
    "        ]\n",
    "    )\n",
    "    return jno_data_pipeline"
   ]
  },
  {
   "cell_type": "code",
   "execution_count": null,
   "metadata": {},
   "outputs": [],
   "source": [
    "#| export\n",
    "def create_pipeline(**kwargs) -> Pipeline:\n",
    "    return create_jno_data_pipeline() + create_jno_index_pipeline()"
   ]
  },
  {
   "cell_type": "markdown",
   "metadata": {},
   "source": [
    "## Processing the whole data"
   ]
  },
  {
   "cell_type": "markdown",
   "metadata": {},
   "source": [
    "Note: we process the data every year to minimize the memory usage and to avoid the failure of the processing (so need to process all the data again if only fails sometimes)."
   ]
  },
  {
   "cell_type": "code",
   "execution_count": null,
   "metadata": {},
   "outputs": [],
   "source": [
    "# !kedro run --to-nodes=extract_features"
   ]
  },
  {
   "cell_type": "code",
   "execution_count": null,
   "metadata": {},
   "outputs": [
    {
     "data": {
      "text/html": [
       "<pre style=\"white-space:pre;overflow-x:auto;line-height:normal;font-family:Menlo,'DejaVu Sans Mono',consolas,'Courier New',monospace\"><span style=\"color: #7fbfbf; text-decoration-color: #7fbfbf\">[10/11/23 14:15:49] </span><span style=\"color: #000080; text-decoration-color: #000080\">INFO    </span> Loading data from <span style=\"color: #008000; text-decoration-color: #008000\">'primary_jno_ss_se_1s'</span> <span style=\"font-weight: bold\">(</span>PartitionedDataset<span style=\"font-weight: bold\">)</span><span style=\"color: #808000; text-decoration-color: #808000\">...</span>   <a href=\"file:///Users/zijin/mambaforge/envs/cool_planet/lib/python3.10/site-packages/kedro/io/data_catalog.py\" target=\"_blank\"><span style=\"color: #7f7f7f; text-decoration-color: #7f7f7f\">data_catalog.py</span></a><span style=\"color: #7f7f7f; text-decoration-color: #7f7f7f\">:</span><a href=\"file:///Users/zijin/mambaforge/envs/cool_planet/lib/python3.10/site-packages/kedro/io/data_catalog.py#492\" target=\"_blank\"><span style=\"color: #7f7f7f; text-decoration-color: #7f7f7f\">492</span></a>\n",
       "</pre>\n"
      ],
      "text/plain": [
       "\u001b[2;36m[10/11/23 14:15:49]\u001b[0m\u001b[2;36m \u001b[0m\u001b[34mINFO    \u001b[0m Loading data from \u001b[32m'primary_jno_ss_se_1s'\u001b[0m \u001b[1m(\u001b[0mPartitionedDataset\u001b[1m)\u001b[0m\u001b[33m...\u001b[0m   \u001b]8;id=411771;file:///Users/zijin/mambaforge/envs/cool_planet/lib/python3.10/site-packages/kedro/io/data_catalog.py\u001b\\\u001b[2mdata_catalog.py\u001b[0m\u001b]8;;\u001b\\\u001b[2m:\u001b[0m\u001b]8;id=122275;file:///Users/zijin/mambaforge/envs/cool_planet/lib/python3.10/site-packages/kedro/io/data_catalog.py#492\u001b\\\u001b[2m492\u001b[0m\u001b]8;;\u001b\\\n"
      ]
     },
     "metadata": {},
     "output_type": "display_data"
    },
    {
     "data": {
      "text/html": [
       "<pre style=\"white-space:pre;overflow-x:auto;line-height:normal;font-family:Menlo,'DejaVu Sans Mono',consolas,'Courier New',monospace\"><span style=\"color: #7fbfbf; text-decoration-color: #7fbfbf\">                    </span><span style=\"color: #000080; text-decoration-color: #000080\">INFO    </span> Loading data from <span style=\"color: #008000; text-decoration-color: #008000\">'params:jno_1s_params'</span> <span style=\"font-weight: bold\">(</span>MemoryDataset<span style=\"font-weight: bold\">)</span><span style=\"color: #808000; text-decoration-color: #808000\">...</span>        <a href=\"file:///Users/zijin/mambaforge/envs/cool_planet/lib/python3.10/site-packages/kedro/io/data_catalog.py\" target=\"_blank\"><span style=\"color: #7f7f7f; text-decoration-color: #7f7f7f\">data_catalog.py</span></a><span style=\"color: #7f7f7f; text-decoration-color: #7f7f7f\">:</span><a href=\"file:///Users/zijin/mambaforge/envs/cool_planet/lib/python3.10/site-packages/kedro/io/data_catalog.py#492\" target=\"_blank\"><span style=\"color: #7f7f7f; text-decoration-color: #7f7f7f\">492</span></a>\n",
       "</pre>\n"
      ],
      "text/plain": [
       "\u001b[2;36m                   \u001b[0m\u001b[2;36m \u001b[0m\u001b[34mINFO    \u001b[0m Loading data from \u001b[32m'params:jno_1s_params'\u001b[0m \u001b[1m(\u001b[0mMemoryDataset\u001b[1m)\u001b[0m\u001b[33m...\u001b[0m        \u001b]8;id=980193;file:///Users/zijin/mambaforge/envs/cool_planet/lib/python3.10/site-packages/kedro/io/data_catalog.py\u001b\\\u001b[2mdata_catalog.py\u001b[0m\u001b]8;;\u001b\\\u001b[2m:\u001b[0m\u001b]8;id=456118;file:///Users/zijin/mambaforge/envs/cool_planet/lib/python3.10/site-packages/kedro/io/data_catalog.py#492\u001b\\\u001b[2m492\u001b[0m\u001b]8;;\u001b\\\n"
      ]
     },
     "metadata": {},
     "output_type": "display_data"
    },
    {
     "data": {
      "text/html": [
       "<pre style=\"white-space:pre;overflow-x:auto;line-height:normal;font-family:Menlo,'DejaVu Sans Mono',consolas,'Courier New',monospace\"><span style=\"color: #7fbfbf; text-decoration-color: #7fbfbf\">                    </span><span style=\"color: #000080; text-decoration-color: #000080\">INFO    </span> Loading data from <span style=\"color: #008000; text-decoration-color: #008000\">'candidates_jno_ss_se_1s'</span> <span style=\"font-weight: bold\">(</span>GenericDataSet<span style=\"font-weight: bold\">)</span><span style=\"color: #808000; text-decoration-color: #808000\">...</span>    <a href=\"file:///Users/zijin/mambaforge/envs/cool_planet/lib/python3.10/site-packages/kedro/io/data_catalog.py\" target=\"_blank\"><span style=\"color: #7f7f7f; text-decoration-color: #7f7f7f\">data_catalog.py</span></a><span style=\"color: #7f7f7f; text-decoration-color: #7f7f7f\">:</span><a href=\"file:///Users/zijin/mambaforge/envs/cool_planet/lib/python3.10/site-packages/kedro/io/data_catalog.py#492\" target=\"_blank\"><span style=\"color: #7f7f7f; text-decoration-color: #7f7f7f\">492</span></a>\n",
       "</pre>\n"
      ],
      "text/plain": [
       "\u001b[2;36m                   \u001b[0m\u001b[2;36m \u001b[0m\u001b[34mINFO    \u001b[0m Loading data from \u001b[32m'candidates_jno_ss_se_1s'\u001b[0m \u001b[1m(\u001b[0mGenericDataSet\u001b[1m)\u001b[0m\u001b[33m...\u001b[0m    \u001b]8;id=245750;file:///Users/zijin/mambaforge/envs/cool_planet/lib/python3.10/site-packages/kedro/io/data_catalog.py\u001b\\\u001b[2mdata_catalog.py\u001b[0m\u001b]8;;\u001b\\\u001b[2m:\u001b[0m\u001b]8;id=366573;file:///Users/zijin/mambaforge/envs/cool_planet/lib/python3.10/site-packages/kedro/io/data_catalog.py#492\u001b\\\u001b[2m492\u001b[0m\u001b]8;;\u001b\\\n"
      ]
     },
     "metadata": {},
     "output_type": "display_data"
    }
   ],
   "source": [
    "jno_ss_se_1s = catalog.load('primary_jno_ss_se_1s')\n",
    "jno_1s_params = catalog.load('params:jno_1s_params')\n",
    "candidates_jno_ss_se_1s = catalog.load('candidates_jno_ss_se_1s')"
   ]
  },
  {
   "cell_type": "markdown",
   "metadata": {},
   "source": [
    "## Obsolete codes"
   ]
  },
  {
   "cell_type": "code",
   "execution_count": null,
   "metadata": {},
   "outputs": [],
   "source": [
    "#| hide\n",
    "def download_and_read_lbl_file(config, index_table=False):\n",
    "    \"\"\"Download and read file for each config.\n",
    "\n",
    "    Returns:\n",
    "        DataFrame: The data read from the file.\n",
    "    \"\"\"\n",
    "    # BUG: index file is not formatted properly according to `lbl` file, so can not be used with `pdr` for.\n",
    "    # ValueError: time data \"282T00:00:31.130,2019\" doesn't match format \"%Y-%jT%H:%M:%S.%f\", at position 3553. You might want to try:\n",
    "    # - passing `format` if your strings have a consistent format;\n",
    "    # - passing `format='ISO8601'` if your strings are all ISO8601 but not necessarily in exactly the same format;\n",
    "    # - passing `format='mixed'`, and the format will be inferred for each element individually. You might want to use `dayfirst` alongside this.\n",
    "\n",
    "    local_dir = os.path.join(os.environ[\"HOME\"], \"juno\", config[\"DATA_SET_ID\"])\n",
    "    base_url = f\"{pds_dir}/{config['DATA_SET_ID']}\"\n",
    "\n",
    "    lbl_fn = config[\"FILE_SPECIFICATION_NAME\"]\n",
    "\n",
    "    if not index_table:\n",
    "        parquet_fn = lbl_fn.replace(\"lbl\", \"parquet\")\n",
    "        parquet_fp = os.path.join(local_dir, parquet_fn)\n",
    "        if os.path.exists(parquet_fp):\n",
    "            return pandas.read_parquet(os.path.join(local_dir, parquet_fn))\n",
    "\n",
    "    lbl_file_url = f\"{base_url}/{lbl_fn}\"\n",
    "    lbl_fp = download_file(lbl_file_url, local_dir, lbl_fn)\n",
    "    logger.debug(f\"Reading {lbl_fp}\")\n",
    "\n",
    "    if index_table:\n",
    "        tab_fn = lbl_fn.replace(\"LBL\", \"TAB\")\n",
    "        tab_fp = download_file(f\"{base_url}/{tab_fn}\", local_dir, tab_fn)\n",
    "        tab_index = pandas.read_csv(tab_fp, delimiter=\",\", quotechar='\"')\n",
    "        tab_index.columns = tab_index.columns.str.replace(\" \", \"\")\n",
    "        return tab_index\n",
    "    else:\n",
    "        sts_fn = lbl_fn.replace(\"lbl\", \"sts\")\n",
    "        download_file(f\"{base_url}/{sts_fn}\", local_dir, sts_fn)\n",
    "        return pdr.read(lbl_fp).TABLE"
   ]
  },
  {
   "cell_type": "code",
   "execution_count": null,
   "metadata": {},
   "outputs": [
    {
     "name": "stderr",
     "output_type": "stream",
     "text": [
      "\u001b[32m2023-10-10 14:55:49.890\u001b[0m | \u001b[34m\u001b[1mDEBUG   \u001b[0m | \u001b[36m__main__\u001b[0m:\u001b[36mdownload_and_read_lbl_file\u001b[0m:\u001b[36m27\u001b[0m - \u001b[34m\u001b[1mReading /Users/zijin/juno/JNO-SS-3-FGM-CAL-V1.0/INDEX/INDEX.LBL\u001b[0m\n",
      "\u001b[32m2023-10-10 14:55:49.913\u001b[0m | \u001b[34m\u001b[1mDEBUG   \u001b[0m | \u001b[36m__main__\u001b[0m:\u001b[36mdownload_and_read_lbl_file\u001b[0m:\u001b[36m27\u001b[0m - \u001b[34m\u001b[1mReading /Users/zijin/juno/JNO-J-3-FGM-CAL-V1.0/INDEX/INDEX.LBL\u001b[0m\n"
     ]
    }
   ],
   "source": [
    "\n",
    "#| hide\n",
    "# jno_ss_index = download_and_read_lbl_file(juno_ss_config, index_table=True)\n",
    "# jno_j_index = download_and_read_lbl_file(juno_j_config, index_table=True)\n",
    "\n",
    "# jno_ss_index = jno_pipeline(jno_ss_index)\n",
    "# jno_j_index = jno_pipeline(jno_j_index)\n",
    "\n",
    "# index_df = pandas.concat(\n",
    "#     [jno_ss_index, jno_j_index], ignore_index=True\n",
    "# )"
   ]
  },
  {
   "cell_type": "markdown",
   "metadata": {},
   "source": [
    "#### Download and read file from the server (one by one)"
   ]
  },
  {
   "cell_type": "code",
   "execution_count": null,
   "metadata": {},
   "outputs": [],
   "source": [
    "#| eval: false\n",
    "import pdpipe as pdp\n",
    "\n",
    "def juno_load_fgm(trange: list, coord=\"se\", data_rate=\"1s\") -> pandas.DataFrame:\n",
    "    \"\"\"\n",
    "    Get the data array for a given time range and coordinate.\n",
    "\n",
    "    Parameters:\n",
    "        trange (list): The time range.\n",
    "        coord (str, optional): The coordinate. Defaults to 'se'.\n",
    "        data_rate (str, optional): The data rate. Defaults to '1s'.\n",
    "\n",
    "    Returns:\n",
    "        pandas.DataFrame: The dataframe for the given time range and coordinate.\n",
    "    \"\"\"\n",
    "\n",
    "    if len(trange) != 2:\n",
    "        raise ValueError(\n",
    "            \"Expected trange to have exactly 2 elements: start and stop time.\"\n",
    "        )\n",
    "\n",
    "    start_time = pandas.Timestamp(trange[0])\n",
    "    stop_time = pandas.Timestamp(trange[1])\n",
    "\n",
    "    temp_index_df = index_df[\n",
    "        (index_df[\"SID\"] == get_sid(coord, data_rate))\n",
    "    ].reset_index(drop=True)\n",
    "\n",
    "    # Filtering\n",
    "    relevant_files = temp_index_df[\n",
    "        (temp_index_df[\"STOP_TIME\"] > start_time)\n",
    "        & (temp_index_df[\"START_TIME\"] < stop_time)\n",
    "    ]\n",
    "    dataframes = [download_and_read_lbl_file(row) for _, row in relevant_files.iterrows()]\n",
    "\n",
    "    # rows = [row for _, row in relevant_files.iterrows()]\n",
    "    # with concurrent.futures.ThreadPoolExecutor() as executor:\n",
    "    #     dataframes = list(executor.map(download_and_read_file, rows))\n",
    "\n",
    "    combined_data = pandas.concat(dataframes)\n",
    "\n",
    "    return pdp_process_juno_df(combined_data)\n",
    "\n",
    "def get_sid(coord, data_rate):\n",
    "    sid_mapping = {\n",
    "        \"pc\": {\"1s\": \"PC 1 SECOND\", \"1min\": \"PC 1 MINUTE\", \"\": \"PCENTRIC\"},\n",
    "        \"pl\": {\"1s\": \"PAYLOAD 1 SECOND\", \"\": \"PAYLOAD\"},\n",
    "        \"ss\": {\"1s\": \"SS 1 SECOND\", \"1min\": \"SS 1 MINUTE\", \"\": \"SUNSTATE\"},\n",
    "        \"se\": {\"1s\": \"SE 1 SECOND\", \"1min\": \"SE 1 MINUTE\", \"\": \"SE\"},\n",
    "    }\n",
    "    try:\n",
    "        return sid_mapping[coord][data_rate]\n",
    "    except KeyError:\n",
    "        return None\n",
    "\n",
    "_skip_cond = ~pdp.cond.HasAllColumns([\"SAMPLE UTC\", \"DECIMAL DAY\", \"INSTRUMENT RANGE\"])\n",
    "pdp_process_juno_df = pdp.PdPipeline(\n",
    "    [\n",
    "        pdp.ColByFrameFunc(\n",
    "            \"time\",\n",
    "            lambda df: pandas.to_datetime(df[\"SAMPLE UTC\"], format=\"%Y %j %H %M %S %f\"),\n",
    "            skip=_skip_cond,\n",
    "        ),\n",
    "        pdp.ColDrop([\"SAMPLE UTC\", \"DECIMAL DAY\", \"INSTRUMENT RANGE\"], skip=_skip_cond),\n",
    "        pdp.df.set_index(\"time\"),\n",
    "        pdp.ColRename(col_renamer)\n",
    "        # pdp.AggByCols('SAMPLE UTC', func=lambda time: pandas.to_datetime(time, format='%Y %j %H %M %S %f'), func_desc='Convert time to datetime') # NOTE: this is quite slow\n",
    "        # pdp.df['time'] << pandas.to_datetime(pdp.df['SAMPLE UTC'], format='%Y %j %H %M %S %f'), # NOTE: this is not work\n",
    "    ],\n",
    ")"
   ]
  },
  {
   "cell_type": "markdown",
   "metadata": {},
   "source": [
    "### Convert all files from `lbl` to `parquet` for faster processing"
   ]
  },
  {
   "cell_type": "code",
   "execution_count": null,
   "metadata": {},
   "outputs": [],
   "source": [
    "import pdr"
   ]
  },
  {
   "cell_type": "code",
   "execution_count": null,
   "metadata": {},
   "outputs": [
    {
     "name": "stderr",
     "output_type": "stream",
     "text": [
      "\u001b[32m2023-10-09 22:52:06.335\u001b[0m | \u001b[1mINFO    \u001b[0m | \u001b[36m__main__\u001b[0m:\u001b[36mconvert_files\u001b[0m:\u001b[36m32\u001b[0m - \u001b[1mDone converting files\u001b[0m\n"
     ]
    }
   ],
   "source": [
    "#| code-summary: Convert data from `lbl` to `parquet` format\n",
    "def lbl2parquet(src: Path, dest: Path) -> None:\n",
    "    df = pdr.read(src).TABLE\n",
    "    df.to_parquet(dest)\n",
    "\n",
    "\n",
    "def convert_file(\n",
    "    file_path: Path,\n",
    "    target_format: str,\n",
    "    conversion_func: Callable,\n",
    "    check_existence=True\n",
    ") -> None:\n",
    "    \n",
    "    target_suffix = f\".{target_format.lstrip('.')}\"\n",
    "    target_file = file_path.with_suffix(target_suffix)\n",
    "\n",
    "    if check_existence and target_file.exists():\n",
    "        return True\n",
    "\n",
    "    try:\n",
    "        conversion_func(file_path, target_file)\n",
    "    except Exception as e:\n",
    "        logger.error(f\"Error converting {file_path} to {target_file}: {e}\")\n",
    "        return False\n",
    "\n",
    "@startthread\n",
    "def convert_files(format_from = \"lbl\", format_to = \"parquet\", convert_func = lbl2parquet):\n",
    "    local_dir = Path(\"../data/01_raw/jno\")\n",
    "    pattern = f\"**/*.{format_from}\"\n",
    "    for file in local_dir.glob(pattern):\n",
    "        convert_file(file, format_to, convert_func)\n",
    "    logger.info(\"Done converting files\")"
   ]
  },
  {
   "cell_type": "code",
   "execution_count": null,
   "metadata": {},
   "outputs": [],
   "source": [
    "# delete all files with extension\n",
    "# find . -type f -name '*.parquet' -delete\n",
    "# find . -type f -name '*.orc' -delete\n",
    "# find . -type f -name '*.lbl' -delete"
   ]
  },
  {
   "cell_type": "code",
   "execution_count": null,
   "metadata": {},
   "outputs": [
    {
     "name": "stderr",
     "output_type": "stream",
     "text": [
      "\u001b[32m2023-10-07 10:26:12.793\u001b[0m | \u001b[1mINFO    \u001b[0m | \u001b[36m__main__\u001b[0m:\u001b[36m_batch_pre_process\u001b[0m:\u001b[36m10\u001b[0m - \u001b[1mFile ../data/jno_data_2011.parquet exists. Skipping\u001b[0m\n",
      "\u001b[32m2023-10-07 10:26:12.794\u001b[0m | \u001b[1mINFO    \u001b[0m | \u001b[36m__main__\u001b[0m:\u001b[36m_batch_pre_process\u001b[0m:\u001b[36m10\u001b[0m - \u001b[1mFile ../data/jno_data_2012.parquet exists. Skipping\u001b[0m\n",
      "\u001b[32m2023-10-07 10:26:12.795\u001b[0m | \u001b[1mINFO    \u001b[0m | \u001b[36m__main__\u001b[0m:\u001b[36m_batch_pre_process\u001b[0m:\u001b[36m10\u001b[0m - \u001b[1mFile ../data/jno_data_2013.parquet exists. Skipping\u001b[0m\n",
      "\u001b[32m2023-10-07 10:26:12.795\u001b[0m | \u001b[1mINFO    \u001b[0m | \u001b[36m__main__\u001b[0m:\u001b[36m_batch_pre_process\u001b[0m:\u001b[36m10\u001b[0m - \u001b[1mFile ../data/jno_data_2014.parquet exists. Skipping\u001b[0m\n",
      "\u001b[32m2023-10-07 10:26:12.796\u001b[0m | \u001b[1mINFO    \u001b[0m | \u001b[36m__main__\u001b[0m:\u001b[36m_batch_pre_process\u001b[0m:\u001b[36m10\u001b[0m - \u001b[1mFile ../data/jno_data_2015.parquet exists. Skipping\u001b[0m\n"
     ]
    }
   ],
   "source": [
    "def _batch_pre_process(year, force=False):\n",
    "    trange = [f\"{year}-01-01\", f\"{year+1}-01-01T01\"]  # having some overlap\n",
    "    dir_path = Path(\"data/juno/JNO-SS-3-FGM-CAL-V1.0/\")\n",
    "    pattern = \"**/*.parquet\"\n",
    "    data = dir_path / pattern\n",
    "    \n",
    "    output = Path(f\"../data/jno_data_{year}.parquet\")\n",
    "    output.parent.mkdir(parents=True, exist_ok=True)\n",
    "    if os.path.exists(output) and not force:\n",
    "        logger.info(f\"File {output} exists. Skipping\")\n",
    "        return output\n",
    "    logger.info(f\"Preprocessing data for year {year}\")\n",
    "    \n",
    "    lazy_df = pl.scan_parquet(data)\n",
    "    temp_df = (\n",
    "        lazy_df.filter(\n",
    "            pl.col(\"time\").is_between(pd.Timestamp(trange[0]), pd.Timestamp(trange[1])),\n",
    "        )\n",
    "        .sort(\n",
    "            \"time\"\n",
    "        )  # needed for `compute_index_std` to work properly as `group_by_dynamic` requires the data to be sorted\n",
    "        .filter(\n",
    "            pl.col(\n",
    "                \"time\"\n",
    "            ).is_first_distinct()  # remove duplicate time values for xarray to select data properly, though significantly slows down the computation\n",
    "        )\n",
    "        .rename({\"BX SE\": \"BX\", \"BY SE\": \"BY\", \"BZ SE\": \"BZ\"})\n",
    "    )\n",
    "    temp_df.collect().write_parquet(output)\n",
    "    return output\n",
    "\n",
    "@startthread\n",
    "def batch_pre_process():\n",
    "    starting_year = starting_date.year\n",
    "    ending_year = ending_date.year\n",
    "\n",
    "    for year in range(starting_year, ending_year+1):\n",
    "        _batch_pre_process(year)"
   ]
  },
  {
   "cell_type": "markdown",
   "metadata": {},
   "source": [
    "### Estimate"
   ]
  },
  {
   "cell_type": "markdown",
   "metadata": {},
   "source": [
    "1 day of data resampled by 1 sec is about 12 MB.\n",
    "\n",
    "So 1 year of data is about 4 GB, and 6 years of JUNO Cruise data is about 24 GB.\n",
    "\n",
    "Downloading rate is about 250 KB/s, so it will take about 3 days to download all the data."
   ]
  },
  {
   "cell_type": "code",
   "execution_count": null,
   "metadata": {},
   "outputs": [
    {
     "name": "stdout",
     "output_type": "stream",
     "text": [
      "Time to download: 126.53 hours\n",
      "Disk space required: 113.88 GB\n",
      "Time to process: 36.50 hours\n"
     ]
    }
   ],
   "source": [
    "num_of_files = 6*365\n",
    "jno_file_size = 12e3\n",
    "thm_file_size = 40e3\n",
    "files_size = jno_file_size + thm_file_size\n",
    "downloading_rate = 250\n",
    "processing_rate = 1/60\n",
    "\n",
    "time_to_download = num_of_files * files_size / downloading_rate / 60 / 60\n",
    "space_required = num_of_files * files_size / 1e6\n",
    "time_to_process = num_of_files / processing_rate / 60 / 60\n",
    "\n",
    "print(f\"Time to download: {time_to_download:.2f} hours\")\n",
    "print(f\"Disk space required: {space_required:.2f} GB\")\n",
    "print(f\"Time to process: {time_to_process:.2f} hours\")"
   ]
  }
 ],
 "metadata": {
  "kernelspec": {
   "display_name": "python3",
   "language": "python",
   "name": "python3"
  },
  "language_info": {
   "codemirror_mode": {
    "name": "ipython",
    "version": 3
   },
   "file_extension": ".py",
   "mimetype": "text/x-python",
   "name": "python",
   "nbconvert_exporter": "python",
   "pygments_lexer": "ipython3",
   "version": "3.10.12"
  }
 },
 "nbformat": 4,
 "nbformat_minor": 2
}
