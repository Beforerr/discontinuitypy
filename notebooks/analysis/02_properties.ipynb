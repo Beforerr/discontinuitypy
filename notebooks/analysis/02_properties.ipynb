{
 "cells": [
  {
   "cell_type": "markdown",
   "metadata": {},
   "source": [
    "---\n",
    "title: \"SWD Properties\"\n",
    "---"
   ]
  },
  {
   "cell_type": "markdown",
   "metadata": {},
   "source": [
    "## Setup"
   ]
  },
  {
   "cell_type": "code",
   "execution_count": 1,
   "metadata": {},
   "outputs": [],
   "source": [
    "#| hide\n",
    "import polars as pl\n",
    "import polars.selectors as cs\n",
    "\n",
    "from loguru import logger\n",
    "from ids_finder.utils.basic import load_catalog\n",
    "\n",
    "%load_ext autoreload\n",
    "%autoreload 2"
   ]
  },
  {
   "cell_type": "code",
   "execution_count": 6,
   "metadata": {},
   "outputs": [],
   "source": [
    "from ids_finder import ROOT_DIR\n",
    "\n",
    "catalog = load_catalog(ROOT_DIR)"
   ]
  },
  {
   "cell_type": "markdown",
   "metadata": {},
   "source": [
    "Connect `python` with `R` kernel"
   ]
  },
  {
   "cell_type": "code",
   "execution_count": null,
   "metadata": {},
   "outputs": [],
   "source": [
    "%load_ext rpy2.ipython\n",
    "from beforerr.r import py2rpy_polars\n",
    "import rpy2.robjects as robjects\n",
    "r = robjects.r\n",
    "r.source('utils.R')\n",
    "\n",
    "conv_pl = py2rpy_polars()"
   ]
  },
  {
   "cell_type": "markdown",
   "metadata": {},
   "source": [
    "### Loading all datasets from different sources"
   ]
  },
  {
   "cell_type": "code",
   "execution_count": null,
   "metadata": {},
   "outputs": [],
   "source": [
    "from beforerr.basics import pmap\n",
    "from ids_finder.utils.analysis import filter_tranges_ds\n"
   ]
  },
  {
   "cell_type": "code",
   "execution_count": null,
   "metadata": {},
   "outputs": [],
   "source": [
    "from ids_finder.datasets import cIDsDataset\n",
    "\n",
    "sta_dataset = cIDsDataset(sat_id=\"STA\", tau=60, ts=1, catalog=catalog)\n",
    "jno_dataset = cIDsDataset(sat_id=\"JNO\", tau=60, ts=1, catalog=catalog)\n",
    "thb_dataset = cIDsDataset(sat_id=\"THB\", tau=60, ts=1, catalog=catalog)"
   ]
  },
  {
   "cell_type": "code",
   "execution_count": null,
   "metadata": {},
   "outputs": [],
   "source": [
    "thb_inter_state_sw: pl.LazyFrame = catalog.load('THB.STATE.inter_data_sw')\n",
    "start, end = thb_inter_state_sw.select(['start', 'end']).collect()\n",
    "\n",
    "thb_sw_dataset = filter_tranges_ds(thb_dataset, (start, end))"
   ]
  },
  {
   "cell_type": "code",
   "execution_count": null,
   "metadata": {},
   "outputs": [],
   "source": [
    "all_datasets = [sta_dataset, jno_dataset, thb_sw_dataset]"
   ]
  },
  {
   "cell_type": "code",
   "execution_count": null,
   "metadata": {},
   "outputs": [],
   "source": [
    "all_candidates_l0 : pl.DataFrame = pl.concat(\n",
    "    all_datasets | pmap(lambda x: x.candidates),\n",
    "    how=\"diagonal\",\n",
    ")"
   ]
  },
  {
   "cell_type": "markdown",
   "metadata": {},
   "source": [
    "## Processing datasets"
   ]
  },
  {
   "cell_type": "markdown",
   "metadata": {},
   "source": [
    "Some extreme values are present in the data. We will remove them."
   ]
  },
  {
   "cell_type": "code",
   "execution_count": null,
   "metadata": {},
   "outputs": [],
   "source": [
    "NVARS = ['d_star', 'L_mn', 'L_mn_norm', 'j0', 'j0_norm', 'duration', 'v_mn']\n",
    "DISPLAY_VARS = ['time', 'sat'] + NVARS\n",
    "\n",
    "\n",
    "def check_candidates(df):\n",
    "    return df[NVARS].describe()\n",
    "\n",
    "check_candidates(all_candidates_l0)"
   ]
  },
  {
   "cell_type": "code",
   "execution_count": null,
   "metadata": {},
   "outputs": [],
   "source": [
    "from datetime import timedelta\n",
    "def process_candidates_l1(raw_df: pl.DataFrame):\n",
    "    \"clean data to remove extreme values\"\n",
    "\n",
    "    df = raw_df.filter(\n",
    "        pl.col(\"d_star\") < 100, # exclude JUNO extreme values\n",
    "        pl.col('v_mn') > 10,\n",
    "        pl.col('duration') < timedelta(seconds=60),\n",
    "        # pl.col(\"j0\") < 100\n",
    "    ).with_columns(\n",
    "        pl.col('radial_distance').fill_null(1) # by default, fill with 1 AU\n",
    "    ).with_columns(\n",
    "        r_bin = pl.col('radial_distance').round(),\n",
    "        j0_norm_log = pl.col('j0_norm').log10(),\n",
    "        L_mn_norm_log = pl.col('L_mn_norm').log10(),\n",
    "    )\n",
    "\n",
    "    logger.info(\n",
    "        f\"candidates_l1: {len(df)}, with effective ratio: {len(df) / len(raw_df):.2%}\"\n",
    "    )\n",
    "\n",
    "    return df\n",
    "\n",
    "all_events_l1 = process_candidates_l1(all_candidates_l0)\n",
    "%R -i all_events_l1 -c conv_pl\n",
    "check_candidates(all_events_l1)\n"
   ]
  },
  {
   "cell_type": "code",
   "execution_count": null,
   "metadata": {},
   "outputs": [],
   "source": [
    "# all_events_l1 : pl.LazyFrame = catalog.load('events.l1.ALL_sw_ts_1s_tau_60s')\n",
    "# JUNO_events_l1 : pl.LazyFrame = catalog.load('events.l1.JNO_ts_1s_tau_60s')"
   ]
  },
  {
   "cell_type": "code",
   "execution_count": null,
   "metadata": {},
   "outputs": [],
   "source": [
    "jno_candidates_l1 = all_events_l1.filter(pl.col('sat') == 'JNO')\n",
    "%R -i jno_candidates_l1 -c conv_pl"
   ]
  },
  {
   "cell_type": "code",
   "execution_count": null,
   "metadata": {},
   "outputs": [],
   "source": [
    "from ids_finder.utils.analysis import filter_before_jupiter\n",
    "from ids_finder.utils.analysis import link_coord2dim"
   ]
  },
  {
   "cell_type": "code",
   "execution_count": null,
   "metadata": {},
   "outputs": [],
   "source": [
    "def process_events_l2(raw_df: pl.DataFrame, avg_window=\"30d\"):\n",
    "    \"\"\"L2 level datasets\n",
    "    - Filter out events before Jupiter (Move it into L1?)\n",
    "    - Time average\n",
    "    - Link time and radial distance\n",
    "    \"\"\"\n",
    "    time_col = \"time\"\n",
    "\n",
    "    df = raw_df.pipe(filter_before_jupiter)\n",
    "    df = (\n",
    "        df.sort(time_col)\n",
    "        .group_by_dynamic(time_col, every=avg_window, by=\"sat\")\n",
    "        .agg(cs.numeric().mean(), cs.duration().mean(), id_count=pl.count())\n",
    "        .filter(pl.col(\"id_count\") > 25)  # make sure each group has enough data, filter out JUNO extreme large thickness\n",
    "        .sort(time_col)\n",
    "        .upsample(time_col, every=avg_window, by=\"sat\", maintain_order=True)\n",
    "        .with_columns(pl.col(\"sat\").forward_fill())\n",
    "    )\n",
    "    df = df.pipe(link_coord2dim)\n",
    "    return df"
   ]
  },
  {
   "cell_type": "code",
   "execution_count": null,
   "metadata": {},
   "outputs": [],
   "source": [
    "all_events_l2 = all_events_l1.pipe(process_events_l2)"
   ]
  },
  {
   "cell_type": "code",
   "execution_count": null,
   "metadata": {},
   "outputs": [],
   "source": [
    "inspect_df = all_events_l2[NVARS]\n",
    "inspect_df.describe()"
   ]
  },
  {
   "cell_type": "code",
   "execution_count": null,
   "metadata": {},
   "outputs": [],
   "source": [
    "from ids_finder.utils.analysis import n2_normalize\n",
    "\n",
    "all_events_l2_n2 = n2_normalize(all_events_l2, NVARS)"
   ]
  },
  {
   "cell_type": "markdown",
   "metadata": {},
   "source": [
    "## Orientation"
   ]
  },
  {
   "cell_type": "code",
   "execution_count": null,
   "metadata": {},
   "outputs": [],
   "source": [
    "import hvplot.polars\n",
    "import warnings\n",
    "\n",
    "# Suppress specific FutureWarning from pandas in Holoviews\n",
    "warnings.filterwarnings(\n",
    "    \"ignore\", category=FutureWarning, module=\"holoviews.core.data.pandas\"\n",
    ")\n",
    "\n",
    "\n",
    "def dist_plot(df: pl.LazyFrame, var, by=\"sat\"):\n",
    "    return df.hvplot.density(var, by=by, subplots=True, width=300, height=300).cols(1)"
   ]
  },
  {
   "cell_type": "code",
   "execution_count": null,
   "metadata": {},
   "outputs": [],
   "source": [
    "(\n",
    "    dist_plot(all_events_l1, \"Vl_x\")\n",
    "    + dist_plot(all_events_l1, \"Vl_y\")\n",
    "    + dist_plot(all_events_l1, \"Vl_z\")\n",
    ")"
   ]
  },
  {
   "cell_type": "code",
   "execution_count": null,
   "metadata": {},
   "outputs": [],
   "source": [
    "import pandas # noqa\n",
    "import hvplot.pandas\n",
    "import panel.widgets as pnw\n",
    "slider = pnw.FloatSlider(name='Vl_x', start=-1, end=1)\n"
   ]
  },
  {
   "cell_type": "code",
   "execution_count": null,
   "metadata": {},
   "outputs": [],
   "source": [
    "thresold = 0.67\n",
    "\n",
    "def temp_plot(l1_df, y=\"j0_norm\"):\n",
    "    return l1_df.pipe(process_events_l2).hvplot(\n",
    "        x=\"time\", y=y, by=\"sat\", hover_cols=[\"id_count\"], width=300, height=300, legend=False\n",
    "    )\n",
    "\n",
    "\n",
    "((\n",
    "    all_events_l1.pipe(temp_plot, y=\"j0_norm\")\n",
    "    + all_events_l1.filter(pl.col(\"Vl_x\").abs() > thresold).pipe(temp_plot, y=\"j0_norm\")\n",
    "    + all_events_l1.filter(pl.col(\"Vl_x\").abs() < thresold).pipe(temp_plot, y=\"j0_norm\")\n",
    ") + (\n",
    "    all_events_l1.pipe(temp_plot, y=\"L_mn_norm\")\n",
    "    + all_events_l1.filter(pl.col(\"Vl_x\").abs() > thresold).pipe(temp_plot, y=\"L_mn_norm\")\n",
    "    + all_events_l1.filter(pl.col(\"Vl_x\").abs() < thresold).pipe(temp_plot, y=\"L_mn_norm\")\n",
    ")).cols(3)"
   ]
  },
  {
   "cell_type": "markdown",
   "metadata": {},
   "source": [
    "## Plotting function"
   ]
  },
  {
   "cell_type": "markdown",
   "metadata": {},
   "source": [
    "Plotting function for Level 1 data.\n",
    "\n",
    "Similar to the `geom_bin2d` function, but with added functionality\n",
    "\n",
    "- Normalize the data to every x-axis value\n",
    "- Add peak values\n",
    "- Add mean values with error bars"
   ]
  },
  {
   "cell_type": "code",
   "execution_count": null,
   "metadata": {},
   "outputs": [],
   "source": [
    "%%R\n",
    "library(scales)\n",
    "# Helper function to calculate summary statistics for x-binned data\n",
    "calculate_summary <- function(data, x_col, y_col, x_seq) {\n",
    "  data %>%\n",
    "    mutate(!!x_col := x_seq[findInterval(data[[x_col]], x_seq, rightmost.closed = TRUE)]) %>%\n",
    "    group_by(!!sym(x_col)) %>%\n",
    "    summarise(\n",
    "      mean_y = mean(!!sym(y_col), na.rm = TRUE),\n",
    "      sd_y = sd(!!sym(y_col), na.rm = TRUE),\n",
    "      se_y = sd_y / sqrt(n())\n",
    "    )\n",
    "}\n",
    "\n",
    "\n",
    "plot_binned_data <- function(data, x_col, y_col, x_bins, y_bins, y_lim=NULL, log_y=FALSE) {\n",
    "  \n",
    "  # If y_lim is provided, filter the data\n",
    "  if (!is.null(y_lim)) {\n",
    "    data <- data %>%\n",
    "      filter(!!sym(y_col) >= y_lim[1], !!sym(y_col) <= y_lim[2])\n",
    "  }\n",
    "  \n",
    "  # If transform_log_y is TRUE, transform y_col to log scale\n",
    "  if (log_y) {\n",
    "    data[[y_col]] <- log10(data[[y_col]])\n",
    "    y_label <- paste(\"Log10\", y_col)\n",
    "  } else {\n",
    "    y_label <- y_col\n",
    "  }\n",
    "  \n",
    "  # Define bins for x and y based on the input parameters\n",
    "  x_seq <- seq(min(data[[x_col]]), max(data[[x_col]]), length.out = x_bins + 1)\n",
    "  y_seq <- seq(min(data[[y_col]]), max(data[[y_col]]), length.out = y_bins + 1)\n",
    "  \n",
    "  data_binned_normalized <- data %>%\n",
    "    mutate(\n",
    "      !!x_col := x_seq[findInterval(data[[x_col]], x_seq, rightmost.closed = TRUE,)],\n",
    "      !!y_col := y_seq[findInterval(data[[y_col]], y_seq, rightmost.closed = TRUE,)]\n",
    "    ) %>%\n",
    "    count(!!sym(x_col), !!sym(y_col)) %>%\n",
    "    group_by(!!sym(x_col)) %>%\n",
    "    mutate(n = n/sum(n))\n",
    "\n",
    "  plot <- ggplot() +\n",
    "    geom_tile(data = data_binned_normalized, aes(x = !!sym(x_col), y = !!sym(y_col), fill = n))\n",
    "\n",
    "  # Calculate mode for each x-bin\n",
    "  modes <- data_binned_normalized %>%\n",
    "    group_by(!!sym(x_col)) %>%\n",
    "    slice_max(n, n = 1)\n",
    "    \n",
    " # Add the mode line\n",
    "  plot <- plot + geom_line(data = modes, aes(x = !!sym(x_col), y = !!sym(y_col), group = 1), linetype = \"dashed\")\n",
    "\n",
    "  data_xbinned <- calculate_summary(data, x_col, y_col, x_seq)\n",
    "  \n",
    "  plot <- plot +\n",
    "    geom_errorbar(data = data_xbinned, aes(x = !!sym(x_col), ymin = mean_y - sd_y, ymax = mean_y + sd_y), width = 0.2) +\n",
    "    geom_line(data = data_xbinned, aes(x = !!sym(x_col), y = mean_y))\n",
    "    # Note: ggline will produce another figure, so we use geom_line instead\n",
    "\n",
    "\n",
    "  plot <- plot + labs(y = y_label) + # Set y-axis label\n",
    "    scale_fill_viridis_c() +\n",
    "    # scale_fill_viridis_c(trans = 'log', labels = label_number(accuracy = 0.001)) +\n",
    "    theme_pubr(base_size = 16, legend = \"r\")\n",
    "\n",
    "  return(plot)\n",
    "}"
   ]
  },
  {
   "cell_type": "markdown",
   "metadata": {},
   "source": [
    "Plotting function for Level 2 averaged data."
   ]
  },
  {
   "cell_type": "code",
   "execution_count": null,
   "metadata": {},
   "outputs": [],
   "source": [
    "%%R\n",
    "# Utility function for plotting\n",
    "plot_util <- function(df, x_var, y_var, y_lab, y_var_norm, y_lab_norm) {\n",
    "  # Plot for the main variable\n",
    "  p1 <- ggplot(df, aes(x = .data[[x_var]], y = .data[[y_var]], color = .data$sat, linetype = .data$sat)) + \n",
    "    geom_line() + geom_point() +\n",
    "    labs(y = y_lab)\n",
    "      \n",
    "  # Plot for normalized variable\n",
    "  p2 <- ggplot(df, aes(x = .data[[x_var]], y = .data[[y_var_norm]], color = .data$sat, linetype = .data$sat)) + \n",
    "    geom_line() + geom_point() +\n",
    "    labs(y = y_lab_norm)\n",
    "\n",
    "  # Common elements for plots\n",
    "  common_elements <- list(\n",
    "    labs(x = x_var, color=\"Satellites\", linetype=\"Satellites\"),\n",
    "    theme_pubr(base_size = 16),\n",
    "    theme(legend.text = element_text(size=16)),\n",
    "    scale_color_okabeito(palette = \"black_first\")\n",
    "  )\n",
    "  \n",
    "  # Apply common elements and combine the plots vertically\n",
    "  p1 <- ggpar(p1 + common_elements, xlab=FALSE)\n",
    "  p2 <- ggpar(p2 + common_elements, legend = \"none\")\n",
    "  p <- p1 / p2\n",
    "  \n",
    "  return(p)\n",
    "}"
   ]
  },
  {
   "cell_type": "markdown",
   "metadata": {},
   "source": [
    "Histogram"
   ]
  },
  {
   "cell_type": "markdown",
   "metadata": {},
   "source": [
    "## Thickness"
   ]
  },
  {
   "cell_type": "markdown",
   "metadata": {},
   "source": [
    "Note since want different y-axis titles (labels) for each facet, not different facet titles, it is not clear how to do this with `facet_wrap` after `pivot_longer`. Also these are different units, so it is better to plot them separately and combine them together."
   ]
  },
  {
   "cell_type": "markdown",
   "metadata": {},
   "source": [
    "### Evolution"
   ]
  },
  {
   "cell_type": "code",
   "execution_count": null,
   "metadata": {},
   "outputs": [],
   "source": [
    "%%R\n",
    "plot_thickness <- function(df, x_var = \"time\") {\n",
    "  plot_util(df, x_var, \"L_mn\", \"Thickness (km)\", \"L_mn_norm\", \"Normalized thickness (d_i)\")\n",
    "}"
   ]
  },
  {
   "cell_type": "code",
   "execution_count": null,
   "metadata": {},
   "outputs": [],
   "source": [
    "%%R -i all_events_l2 -c conv_pl\n",
    "p <- plot_thickness(all_events_l2)\n",
    "p <- ggpar(p, xlab=\"Time\")\n",
    "print(p)\n",
    "\n",
    "save_plot(\"thickness_time\")"
   ]
  },
  {
   "cell_type": "code",
   "execution_count": null,
   "metadata": {},
   "outputs": [],
   "source": [
    "%%R -i all_events_l2_n2 -c conv_pl\n",
    "plot_thickness_n2 <- function(df, x_var = \"time\") {\n",
    "  plot_util(df, x_var, \"L_mn\", \"Thickness (km)\", \"L_mn_n2\", \"Normalized thickness (d_i)\")\n",
    "}\n",
    "\n",
    "p <- plot_thickness_n2(all_events_l2_n2, x_var=\"ref_radial_distance\")\n",
    "print(p)\n"
   ]
  },
  {
   "cell_type": "code",
   "execution_count": null,
   "metadata": {},
   "outputs": [],
   "source": [
    "%%R\n",
    "p <- plot_thickness(all_events_l2, x_var=\"ref_radial_distance\")\n",
    "p <- ggpar(p, xlab=\"Referred Radial Distance (AU)\")\n",
    "print(p)\n",
    "\n",
    "save_plot(\"thickness_r\")"
   ]
  },
  {
   "cell_type": "markdown",
   "metadata": {},
   "source": [
    "### Map"
   ]
  },
  {
   "cell_type": "code",
   "execution_count": null,
   "metadata": {},
   "outputs": [],
   "source": [
    "%%R\n",
    "y_lim <- NULL\n",
    "p <- plot_binned_data(jno_candidates_l1, x_col = \"radial_distance\", y_col = \"L_mn\", x_bins = 8, y_bins = 32, y_lim = y_lim, log_y = TRUE)\n",
    "p <- ggpar(p, xlab=\"Radial Distance (AU)\", ylab=\"Log Thickness (km)\")\n",
    "print(p)\n",
    "\n",
    "save_plot(\"thickness_r_dist\")"
   ]
  },
  {
   "cell_type": "code",
   "execution_count": null,
   "metadata": {},
   "outputs": [],
   "source": [
    "%%R\n",
    "y_lim <- c(0,100)\n",
    "p <- plot_binned_data(jno_candidates_l1, x_col = \"radial_distance\", y_col = \"L_mn_norm\", x_bins = 8, y_bins = 32, y_lim = y_lim, log_y = TRUE)\n",
    "p <- p + labs(x = \"Radial Distance (AU)\", y= expression(Log~Normalized~Thickness~(d[i])))\n",
    "print(p)\n",
    "\n",
    "save_plot(\"thickness_N1_r_dist\")"
   ]
  },
  {
   "cell_type": "markdown",
   "metadata": {},
   "source": [
    "### Histogram"
   ]
  },
  {
   "cell_type": "code",
   "execution_count": null,
   "metadata": {},
   "outputs": [],
   "source": [
    "%%R\n",
    "x <- \"L_mn_norm\"\n",
    "x_lim <- c(0,60)\n",
    "facet_var <- \"r_bin\"\n",
    "\n",
    "p <- plot_limited_histogram(all_candidates_l1, x = x, x_lim = x_lim , bins = 10, facet_var=facet_var)\n",
    "print(p)\n",
    "\n",
    "save_plot(\"thickness_N1_r_hist\")"
   ]
  },
  {
   "cell_type": "code",
   "execution_count": null,
   "metadata": {},
   "outputs": [],
   "source": [
    "%%R\n",
    "x <- \"L_mn_norm_log\"\n",
    "x_lim <- c(0, 2)\n",
    "facet_var <- \"r_bin\"\n",
    "\n",
    "p <- plot_limited_histogram(all_candidates_l1, x = x, x_lim = x_lim , bins = 10, facet_var=facet_var)\n",
    "print(p)\n",
    "\n",
    "save_plot(\"thickness_N1_log_r_hist\")"
   ]
  },
  {
   "cell_type": "markdown",
   "metadata": {},
   "source": [
    "## Current intensity"
   ]
  },
  {
   "cell_type": "markdown",
   "metadata": {},
   "source": [
    "### Mean value"
   ]
  },
  {
   "cell_type": "code",
   "execution_count": null,
   "metadata": {},
   "outputs": [],
   "source": [
    "%%R\n",
    "plot_j <- function(df, x_var = \"time\") {\n",
    "  plot_util(df, x_var, \"j0\", \"J (nA/m^2)\", \"j0_norm\", \"Normalized J (J_A)\")\n",
    "}"
   ]
  },
  {
   "cell_type": "code",
   "execution_count": null,
   "metadata": {},
   "outputs": [],
   "source": [
    "%%R\n",
    "p <- plot_j(all_events_l2, x_var=\"time\")\n",
    "p <- ggpar(p, xlab=\"Time\")\n",
    "print(p)\n",
    "\n",
    "save_plot(\"current_time\")"
   ]
  },
  {
   "cell_type": "code",
   "execution_count": null,
   "metadata": {},
   "outputs": [],
   "source": [
    "%%R\n",
    "p <- plot_j(all_events_l2, x_var=\"ref_radial_distance\")\n",
    "p <- ggpar(p, xlab=\"Referred Radial Distance (AU)\")\n",
    "print(p)\n",
    "\n",
    "save_plot(\"current_r\")"
   ]
  },
  {
   "cell_type": "markdown",
   "metadata": {},
   "source": [
    "### Map"
   ]
  },
  {
   "cell_type": "code",
   "execution_count": null,
   "metadata": {},
   "outputs": [],
   "source": [
    "%%R\n",
    "y_lim <- c(0, 15)\n",
    "p <- plot_binned_data(jno_candidates_l1, x_col = \"radial_distance\", y_col = \"j0\", x_bins = 8, y_bins = 32, y_lim = y_lim, log_y = TRUE)\n",
    "p <- p + labs(x = \"Radial Distance (AU)\", y= expression(Log~J~(nA~m^-2)))\n",
    "print(p)\n",
    "\n",
    "save_plot(\"current_r_dist\")"
   ]
  },
  {
   "cell_type": "code",
   "execution_count": null,
   "metadata": {},
   "outputs": [],
   "source": [
    "%%R\n",
    "p<-plot_binned_data(jno_candidates_l1, x_col = \"radial_distance\", y_col = \"j0_norm\", x_bins = 8, y_bins = 32, y_lim = c(0, 1), log_y = TRUE)\n",
    "p <- p + labs(x = \"Radial Distance (AU)\", y= expression(Log~Normalized~J~(J[A])))\n",
    "print(p)\n",
    "\n",
    "save_plot(\"current_N1_r_dist\")"
   ]
  },
  {
   "cell_type": "markdown",
   "metadata": {},
   "source": [
    "### Histogram"
   ]
  },
  {
   "cell_type": "code",
   "execution_count": null,
   "metadata": {},
   "outputs": [],
   "source": [
    "%%R\n",
    "x <- \"j0_norm\"\n",
    "x_lim <- c(0, 1)\n",
    "facet_var <- \"r_bin\"\n",
    "\n",
    "p <- plot_limited_histogram(all_candidates_l1, x = x, x_lim = x_lim, bins = 8, facet_var=facet_var)\n",
    "print(p)\n",
    "\n",
    "save_plot(\"current_N1_r_hist\")"
   ]
  },
  {
   "cell_type": "code",
   "execution_count": null,
   "metadata": {},
   "outputs": [],
   "source": [
    "%%R\n",
    "x <- \"j0_norm_log\"\n",
    "x_lim <- c(-2, 0)\n",
    "facet_var <- \"r_bin\"\n",
    "\n",
    "p <- plot_limited_histogram(all_candidates_l1, x = x, x_lim = x_lim, bins = 8, facet_var=facet_var)\n",
    "print(p)\n",
    "\n",
    "save_plot(\"current_N1_log_r_hist\")"
   ]
  },
  {
   "cell_type": "markdown",
   "metadata": {},
   "source": [
    "## Map of thickness and current intensity"
   ]
  },
  {
   "cell_type": "code",
   "execution_count": null,
   "metadata": {},
   "outputs": [],
   "source": [
    "%R -i all_events_l1 -c conv_pl"
   ]
  },
  {
   "cell_type": "markdown",
   "metadata": {},
   "source": [
    "Why bin over `L_mn_norm_log` does not work as expected?"
   ]
  },
  {
   "cell_type": "code",
   "execution_count": null,
   "metadata": {},
   "outputs": [],
   "source": [
    "def bin_df(df: pl.DataFrame, col_to_bin, bins=10):\n",
    "    binned_col = f\"{col_to_bin}_bin\"\n",
    "    \n",
    "    return (\n",
    "        df.with_columns(\n",
    "            pl.col(col_to_bin).qcut(bins).alias(binned_col),\n",
    "        )\n",
    "        .group_by(binned_col)\n",
    "        .agg(cs.numeric().median(), pl.count().alias(\"bin_count\"))\n",
    "        .drop(binned_col)\n",
    "    )\n",
    "\n",
    "col_to_bin=\"L_mn_norm_log\"\n",
    "# col_to_bin=\"j0_norm_log\"\n",
    "\n",
    "all_candidates_l1_L_binned = pl.concat(\n",
    "    [\n",
    "        data.pipe(bin_df, col_to_bin=col_to_bin, bins=64).with_columns(sat= pl.lit(name))\n",
    "        for name, data in all_events_l1.group_by(\"sat\")\n",
    "    ]\n",
    ")\n",
    "\n",
    "jno_events_l1_L_binned = pl.concat(\n",
    "    [\n",
    "        data.pipe(bin_df, col_to_bin=col_to_bin, bins=64).with_columns(sat= pl.lit(name))\n",
    "        for name, data in jno_candidates_l1.group_by(\"r_bin\")\n",
    "    ]\n",
    ")\n",
    "%R -i all_candidates_l1_L_binned -c conv_pl\n"
   ]
  },
  {
   "cell_type": "code",
   "execution_count": null,
   "metadata": {},
   "outputs": [],
   "source": [
    "%%R -w 1000 -h 500\n",
    "# Creating a list of layers for the binned data\n",
    "# model <- lm(j0_norm_log ~ L_mn_norm_log, data = all_candidates_l1_L_binned)\n",
    "# slope <- coef(model)[2]\n",
    "\n",
    "binned_layer <- list(\n",
    "  geom_line(data = all_candidates_l1_L_binned, color = 'blue'),\n",
    "  geom_point(data = all_candidates_l1_L_binned, color = 'blue'), \n",
    "  geom_smooth(data = all_candidates_l1_L_binned, method = \"glm\", color = 'red')\n",
    ")\n",
    "\n",
    "# Plot creation\n",
    "p <- ggplot(mapping = aes(x = L_mn_norm_log, y = j0_norm_log)) +\n",
    "  stat_density_2d(data = all_events_l1, aes(fill = after_stat(density)), geom = \"raster\", contour = FALSE) +\n",
    "  binned_layer +\n",
    "  facet_wrap(~ sat, scales = \"free\")\n",
    "\n",
    "  \n",
    "# Print the plot\n",
    "print(p)\n"
   ]
  },
  {
   "cell_type": "code",
   "execution_count": null,
   "metadata": {},
   "outputs": [],
   "source": [
    "%%R\n",
    "p <- ggplot() +\n",
    "  geom_point(data = all_events_l1, aes(x = L_mn_norm_log, y = j0_norm_log)) +\n",
    "  binned_layer +\n",
    "  facet_wrap(~ sat, scales = \"free\")\n",
    "\n",
    "print(p)\n"
   ]
  },
  {
   "cell_type": "code",
   "execution_count": null,
   "metadata": {},
   "outputs": [],
   "source": [
    "%%R\n",
    "# Fit a linear model to the log-transformed data\n",
    "lm_fit <- lm(j0_norm_log ~ L_mn_norm_log, data = all_events_l1)\n",
    "\n",
    "# Extract the coefficients\n",
    "intercept <- coef(lm_fit)[1]\n",
    "slope <- coef(lm_fit)[2]\n",
    "\n",
    "# Create a scatter plot with the log-log transformation\n",
    "p <- ggplot(all_events_l1, aes(x = L_mn_norm_log, y = j0_norm_log)) +\n",
    "  geom_point() + # Add the scatter points\n",
    "  geom_abline(intercept = intercept, slope = slope, color = 'blue', size = 1) + # Add the fitted line\n",
    "  facet_wrap(~ sat, scales = \"free\") + # Facet by 'sat'\n",
    "  labs(x = \"Log10(L_mn_norm)\", y = \"Log10(j0_norm)\") # Label axes\n",
    "\n",
    "print(p)"
   ]
  },
  {
   "cell_type": "code",
   "execution_count": null,
   "metadata": {},
   "outputs": [],
   "source": [
    "%%R\n",
    "# Plot creation\n",
    "p <- ggplot(all_candidates_l1_L_binned, aes(x = L_mn_norm_log, y = j0_norm_log)) +\n",
    "    geom_line(color = 'blue') +\n",
    "    geom_point(color = 'blue') +\n",
    "    geom_smooth(method = \"glm\", color = 'red') +\n",
    "    facet_wrap(~ sat, scales = \"free\") +\n",
    "    stat_regline_equation()\n",
    "\n",
    "  \n",
    "# Print the plot\n",
    "print(p)\n"
   ]
  },
  {
   "cell_type": "code",
   "execution_count": null,
   "metadata": {},
   "outputs": [],
   "source": [
    "%%R -i jno_events_l1_L_binned -c conv_pl\n",
    "# Plot creation\n",
    "p <- ggplot(jno_events_l1_L_binned, aes(x = L_mn_norm_log, y = j0_norm_log)) +\n",
    "    geom_line(color = 'blue') +\n",
    "    geom_point(color = 'blue') +\n",
    "    geom_smooth(method = \"glm\", color = 'red') +\n",
    "    facet_wrap(~ r_bin, scales = \"free\") +\n",
    "    stat_regline_equation()\n",
    "\n",
    "  \n",
    "# Print the plot\n",
    "print(p)\n"
   ]
  },
  {
   "cell_type": "code",
   "execution_count": null,
   "metadata": {},
   "outputs": [],
   "source": [
    "%%R -i jno_candidates_l1 -c conv_pl\n",
    "\n",
    "p <- ggplot(jno_candidates_l1, aes(x = L_mn_norm, y = j0_norm)) +\n",
    "  stat_density_2d(aes(fill = ..density..), geom = \"raster\", contour = FALSE) +\n",
    "  facet_wrap(~ r_bin, nrow = length(unique(jno_candidates_l1$r_bin))) +\n",
    "  scale_x_log10() + \n",
    "  scale_y_log10() +\n",
    "  labs(fill = \"Density\")\n",
    "\n",
    "\n",
    "print(p)\n"
   ]
  }
 ],
 "metadata": {
  "kernelspec": {
   "display_name": "python3",
   "language": "python",
   "name": "python3"
  },
  "language_info": {
   "codemirror_mode": {
    "name": "ipython",
    "version": 3
   },
   "file_extension": ".py",
   "mimetype": "text/x-python",
   "name": "python",
   "nbconvert_exporter": "python",
   "pygments_lexer": "ipython3",
   "version": "3.10.12"
  }
 },
 "nbformat": 4,
 "nbformat_minor": 2
}
