{
 "cells": [
  {
   "cell_type": "markdown",
   "metadata": {},
   "source": [
    "---\n",
    "title: \"SWD Properties\"\n",
    "---"
   ]
  },
  {
   "cell_type": "code",
   "execution_count": 49,
   "metadata": {},
   "outputs": [
    {
     "name": "stdout",
     "output_type": "stream",
     "text": [
      "The autoreload extension is already loaded. To reload it, use:\n",
      "  %reload_ext autoreload\n"
     ]
    }
   ],
   "source": [
    "#| hide\n",
    "%load_ext autoreload\n",
    "%autoreload 2"
   ]
  },
  {
   "cell_type": "markdown",
   "metadata": {},
   "source": [
    "## Setup"
   ]
  },
  {
   "cell_type": "code",
   "execution_count": 50,
   "metadata": {},
   "outputs": [],
   "source": [
    "#| hide\n",
    "import polars as pl\n",
    "import polars.selectors as cs\n",
    "\n",
    "from ids_finder.utils.basic import load_catalog"
   ]
  },
  {
   "cell_type": "code",
   "execution_count": 51,
   "metadata": {},
   "outputs": [],
   "source": [
    "catalog = load_catalog()"
   ]
  },
  {
   "cell_type": "markdown",
   "metadata": {},
   "source": [
    "Connect `python` with `R` kernel"
   ]
  },
  {
   "cell_type": "code",
   "execution_count": 52,
   "metadata": {},
   "outputs": [
    {
     "name": "stdout",
     "output_type": "stream",
     "text": [
      "The rpy2.ipython extension is already loaded. To reload it, use:\n",
      "  %reload_ext rpy2.ipython\n",
      "\n",
      " Found  80  deps for  1/1  pkgs [⠋] Checking installed packages\n",
      " \n",
      "ℹ No downloads are needed\n",
      "\n",
      "Installing...\n",
      "✔ 1 pkg + 77 deps: kept 62 [671ms]\n"
     ]
    }
   ],
   "source": [
    "%load_ext rpy2.ipython\n",
    "from beforerr.r import py2rpy_polars\n",
    "import rpy2.robjects as robjects\n",
    "r = robjects.r\n",
    "r.source('utils.R')\n",
    "\n",
    "conv_pl = py2rpy_polars()"
   ]
  },
  {
   "cell_type": "markdown",
   "metadata": {},
   "source": [
    "## Processing datasets"
   ]
  },
  {
   "cell_type": "code",
   "execution_count": 53,
   "metadata": {},
   "outputs": [
    {
     "data": {
      "text/html": [
       "<pre style=\"white-space:pre;overflow-x:auto;line-height:normal;font-family:Menlo,'DejaVu Sans Mono',consolas,'Courier New',monospace\"><span style=\"color: #7fbfbf; text-decoration-color: #7fbfbf\">[11/27/23 23:11:46] </span><span style=\"color: #000080; text-decoration-color: #000080\">INFO    </span> Loading data from <span style=\"color: #008000; text-decoration-color: #008000\">'events.l1.ALL_sw_ts_1s_tau_60s'</span>                 <a href=\"file:///Users/zijin/miniforge3/envs/cool_planet/lib/python3.10/site-packages/kedro/io/data_catalog.py\" target=\"_blank\"><span style=\"color: #7f7f7f; text-decoration-color: #7f7f7f\">data_catalog.py</span></a><span style=\"color: #7f7f7f; text-decoration-color: #7f7f7f\">:</span><a href=\"file:///Users/zijin/miniforge3/envs/cool_planet/lib/python3.10/site-packages/kedro/io/data_catalog.py#502\" target=\"_blank\"><span style=\"color: #7f7f7f; text-decoration-color: #7f7f7f\">502</span></a>\n",
       "<span style=\"color: #7fbfbf; text-decoration-color: #7fbfbf\">                    </span>         <span style=\"font-weight: bold\">(</span>LazyPolarsDataset<span style=\"font-weight: bold\">)</span><span style=\"color: #808000; text-decoration-color: #808000\">...</span>                                             <span style=\"color: #7f7f7f; text-decoration-color: #7f7f7f\">                   </span>\n",
       "</pre>\n"
      ],
      "text/plain": [
       "\u001b[2;36m[11/27/23 23:11:46]\u001b[0m\u001b[2;36m \u001b[0m\u001b[34mINFO    \u001b[0m Loading data from \u001b[32m'events.l1.ALL_sw_ts_1s_tau_60s'\u001b[0m                 \u001b]8;id=385617;file:///Users/zijin/miniforge3/envs/cool_planet/lib/python3.10/site-packages/kedro/io/data_catalog.py\u001b\\\u001b[2mdata_catalog.py\u001b[0m\u001b]8;;\u001b\\\u001b[2m:\u001b[0m\u001b]8;id=437716;file:///Users/zijin/miniforge3/envs/cool_planet/lib/python3.10/site-packages/kedro/io/data_catalog.py#502\u001b\\\u001b[2m502\u001b[0m\u001b]8;;\u001b\\\n",
       "\u001b[2;36m                    \u001b[0m         \u001b[1m(\u001b[0mLazyPolarsDataset\u001b[1m)\u001b[0m\u001b[33m...\u001b[0m                                             \u001b[2m                   \u001b[0m\n"
      ]
     },
     "metadata": {},
     "output_type": "display_data"
    },
    {
     "data": {
      "text/html": [
       "<pre style=\"white-space:pre;overflow-x:auto;line-height:normal;font-family:Menlo,'DejaVu Sans Mono',consolas,'Courier New',monospace\"><span style=\"color: #7fbfbf; text-decoration-color: #7fbfbf\">                    </span><span style=\"color: #000080; text-decoration-color: #000080\">INFO    </span> Loading data from <span style=\"color: #008000; text-decoration-color: #008000\">'events.l1.JNO_ts_1s_tau_60s'</span>                    <a href=\"file:///Users/zijin/miniforge3/envs/cool_planet/lib/python3.10/site-packages/kedro/io/data_catalog.py\" target=\"_blank\"><span style=\"color: #7f7f7f; text-decoration-color: #7f7f7f\">data_catalog.py</span></a><span style=\"color: #7f7f7f; text-decoration-color: #7f7f7f\">:</span><a href=\"file:///Users/zijin/miniforge3/envs/cool_planet/lib/python3.10/site-packages/kedro/io/data_catalog.py#502\" target=\"_blank\"><span style=\"color: #7f7f7f; text-decoration-color: #7f7f7f\">502</span></a>\n",
       "<span style=\"color: #7fbfbf; text-decoration-color: #7fbfbf\">                    </span>         <span style=\"font-weight: bold\">(</span>LazyPolarsDataset<span style=\"font-weight: bold\">)</span><span style=\"color: #808000; text-decoration-color: #808000\">...</span>                                             <span style=\"color: #7f7f7f; text-decoration-color: #7f7f7f\">                   </span>\n",
       "</pre>\n"
      ],
      "text/plain": [
       "\u001b[2;36m                   \u001b[0m\u001b[2;36m \u001b[0m\u001b[34mINFO    \u001b[0m Loading data from \u001b[32m'events.l1.JNO_ts_1s_tau_60s'\u001b[0m                    \u001b]8;id=699584;file:///Users/zijin/miniforge3/envs/cool_planet/lib/python3.10/site-packages/kedro/io/data_catalog.py\u001b\\\u001b[2mdata_catalog.py\u001b[0m\u001b]8;;\u001b\\\u001b[2m:\u001b[0m\u001b]8;id=205746;file:///Users/zijin/miniforge3/envs/cool_planet/lib/python3.10/site-packages/kedro/io/data_catalog.py#502\u001b\\\u001b[2m502\u001b[0m\u001b]8;;\u001b\\\n",
       "\u001b[2;36m                    \u001b[0m         \u001b[1m(\u001b[0mLazyPolarsDataset\u001b[1m)\u001b[0m\u001b[33m...\u001b[0m                                             \u001b[2m                   \u001b[0m\n"
      ]
     },
     "metadata": {},
     "output_type": "display_data"
    }
   ],
   "source": [
    "all_events_l1 : pl.DataFrame = catalog.load('events.l1.ALL_sw_ts_1s_tau_60s').collect()\n",
    "JUNO_events_l1 : pl.LazyFrame = catalog.load('events.l1.JNO_ts_1s_tau_60s').collect()\n",
    "\n",
    "%R -i all_events_l1 -c conv_pl"
   ]
  },
  {
   "cell_type": "markdown",
   "metadata": {},
   "source": [
    "Some extreme values are present in the data. We will remove them."
   ]
  },
  {
   "cell_type": "code",
   "execution_count": 54,
   "metadata": {},
   "outputs": [
    {
     "data": {
      "text/html": [
       "<pre style=\"white-space:pre;overflow-x:auto;line-height:normal;font-family:Menlo,'DejaVu Sans Mono',consolas,'Courier New',monospace\"></pre>\n"
      ],
      "text/plain": []
     },
     "metadata": {},
     "output_type": "display_data"
    },
    {
     "data": {
      "text/html": [
       "<div><style>\n",
       ".dataframe > thead > tr,\n",
       ".dataframe > tbody > tr {\n",
       "  text-align: right;\n",
       "  white-space: pre-wrap;\n",
       "}\n",
       "</style>\n",
       "<small>shape: (9, 8)</small><table border=\"1\" class=\"dataframe\"><thead><tr><th>describe</th><th>d_star</th><th>L_mn</th><th>L_mn_norm</th><th>j0</th><th>j0_norm</th><th>duration</th><th>v_mn</th></tr><tr><td>str</td><td>f64</td><td>f64</td><td>f64</td><td>f64</td><td>f64</td><td>str</td><td>f64</td></tr></thead><tbody><tr><td>&quot;count&quot;</td><td>280744.0</td><td>280744.0</td><td>280744.0</td><td>280744.0</td><td>280744.0</td><td>&quot;280744&quot;</td><td>280744.0</td></tr><tr><td>&quot;null_count&quot;</td><td>0.0</td><td>0.0</td><td>524.0</td><td>0.0</td><td>524.0</td><td>&quot;0&quot;</td><td>0.0</td></tr><tr><td>&quot;mean&quot;</td><td>0.919973</td><td>2368.159563</td><td>20.57975</td><td>2.584395</td><td>0.079967</td><td>&quot;0:00:07.200577…</td><td>329.574182</td></tr><tr><td>&quot;std&quot;</td><td>0.917587</td><td>1597.407716</td><td>15.016923</td><td>3.960862</td><td>0.105745</td><td>null</td><td>107.557727</td></tr><tr><td>&quot;min&quot;</td><td>0.025615</td><td>40.087321</td><td>0.227812</td><td>0.048355</td><td>0.001512</td><td>&quot;0:00:02&quot;</td><td>10.02183</td></tr><tr><td>&quot;25%&quot;</td><td>0.32078</td><td>1347.83019</td><td>11.000497</td><td>0.820308</td><td>0.030139</td><td>&quot;0:00:04&quot;</td><td>267.769087</td></tr><tr><td>&quot;50%&quot;</td><td>0.643569</td><td>1946.814069</td><td>16.804147</td><td>1.640207</td><td>0.054373</td><td>&quot;0:00:06&quot;</td><td>332.026347</td></tr><tr><td>&quot;75%&quot;</td><td>1.200591</td><td>2916.686158</td><td>25.689274</td><td>3.093725</td><td>0.095976</td><td>&quot;0:00:09&quot;</td><td>393.690885</td></tr><tr><td>&quot;max&quot;</td><td>17.98526</td><td>32939.36824</td><td>358.25329</td><td>309.826988</td><td>9.634978</td><td>&quot;0:00:56&quot;</td><td>864.808497</td></tr></tbody></table></div>"
      ],
      "text/plain": [
       "\n",
       "shape: \u001b[1m(\u001b[0m\u001b[1;36m9\u001b[0m, \u001b[1;36m8\u001b[0m\u001b[1m)\u001b[0m\n",
       "┌────────────┬──────────┬────────────┬───────────┬────────────┬──────────┬────────────┬────────────┐\n",
       "│ describe   ┆ d_star   ┆ L_mn       ┆ L_mn_norm ┆ j0         ┆ j0_norm  ┆ duration   ┆ v_mn       │\n",
       "│ ---        ┆ ---      ┆ ---        ┆ ---       ┆ ---        ┆ ---      ┆ ---        ┆ ---        │\n",
       "│ str        ┆ f64      ┆ f64        ┆ f64       ┆ f64        ┆ f64      ┆ str        ┆ f64        │\n",
       "╞════════════╪══════════╪════════════╪═══════════╪════════════╪══════════╪════════════╪════════════╡\n",
       "│ count      ┆ \u001b[1;36m280744.0\u001b[0m ┆ \u001b[1;36m280744.0\u001b[0m   ┆ \u001b[1;36m280744.0\u001b[0m  ┆ \u001b[1;36m280744.0\u001b[0m   ┆ \u001b[1;36m280744.0\u001b[0m ┆ \u001b[1;36m280744\u001b[0m     ┆ \u001b[1;36m280744.0\u001b[0m   │\n",
       "│ null_count ┆ \u001b[1;36m0.0\u001b[0m      ┆ \u001b[1;36m0.0\u001b[0m        ┆ \u001b[1;36m524.0\u001b[0m     ┆ \u001b[1;36m0.0\u001b[0m        ┆ \u001b[1;36m524.0\u001b[0m    ┆ \u001b[1;36m0\u001b[0m          ┆ \u001b[1;36m0.0\u001b[0m        │\n",
       "│ mean       ┆ \u001b[1;36m0.919973\u001b[0m ┆ \u001b[1;36m2368.15956\u001b[0m ┆ \u001b[1;36m20.57975\u001b[0m  ┆ \u001b[1;36m2.584395\u001b[0m   ┆ \u001b[1;36m0.079967\u001b[0m ┆ \u001b[1;92m0:00:07\u001b[0m.\u001b[1;36m20\u001b[0m ┆ \u001b[1;36m329.574182\u001b[0m │\n",
       "│            ┆          ┆ \u001b[1;36m3\u001b[0m          ┆           ┆            ┆          ┆ \u001b[1;36m0577\u001b[0m       ┆            │\n",
       "│ std        ┆ \u001b[1;36m0.917587\u001b[0m ┆ \u001b[1;36m1597.40771\u001b[0m ┆ \u001b[1;36m15.016923\u001b[0m ┆ \u001b[1;36m3.960862\u001b[0m   ┆ \u001b[1;36m0.105745\u001b[0m ┆ null       ┆ \u001b[1;36m107.557727\u001b[0m │\n",
       "│            ┆          ┆ \u001b[1;36m6\u001b[0m          ┆           ┆            ┆          ┆            ┆            │\n",
       "│ min        ┆ \u001b[1;36m0.025615\u001b[0m ┆ \u001b[1;36m40.087321\u001b[0m  ┆ \u001b[1;36m0.227812\u001b[0m  ┆ \u001b[1;36m0.048355\u001b[0m   ┆ \u001b[1;36m0.001512\u001b[0m ┆ \u001b[1;92m0:00:02\u001b[0m    ┆ \u001b[1;36m10.02183\u001b[0m   │\n",
       "│ \u001b[1;36m25\u001b[0m%        ┆ \u001b[1;36m0.32078\u001b[0m  ┆ \u001b[1;36m1347.83019\u001b[0m ┆ \u001b[1;36m11.000497\u001b[0m ┆ \u001b[1;36m0.820308\u001b[0m   ┆ \u001b[1;36m0.030139\u001b[0m ┆ \u001b[1;92m0:00:04\u001b[0m    ┆ \u001b[1;36m267.769087\u001b[0m │\n",
       "│ \u001b[1;36m50\u001b[0m%        ┆ \u001b[1;36m0.643569\u001b[0m ┆ \u001b[1;36m1946.81406\u001b[0m ┆ \u001b[1;36m16.804147\u001b[0m ┆ \u001b[1;36m1.640207\u001b[0m   ┆ \u001b[1;36m0.054373\u001b[0m ┆ \u001b[1;92m0:00:06\u001b[0m    ┆ \u001b[1;36m332.026347\u001b[0m │\n",
       "│            ┆          ┆ \u001b[1;36m9\u001b[0m          ┆           ┆            ┆          ┆            ┆            │\n",
       "│ \u001b[1;36m75\u001b[0m%        ┆ \u001b[1;36m1.200591\u001b[0m ┆ \u001b[1;36m2916.68615\u001b[0m ┆ \u001b[1;36m25.689274\u001b[0m ┆ \u001b[1;36m3.093725\u001b[0m   ┆ \u001b[1;36m0.095976\u001b[0m ┆ \u001b[1;92m0:00:09\u001b[0m    ┆ \u001b[1;36m393.690885\u001b[0m │\n",
       "│            ┆          ┆ \u001b[1;36m8\u001b[0m          ┆           ┆            ┆          ┆            ┆            │\n",
       "│ max        ┆ \u001b[1;36m17.98526\u001b[0m ┆ \u001b[1;36m32939.3682\u001b[0m ┆ \u001b[1;36m358.25329\u001b[0m ┆ \u001b[1;36m309.826988\u001b[0m ┆ \u001b[1;36m9.634978\u001b[0m ┆ \u001b[1;92m0:00:56\u001b[0m    ┆ \u001b[1;36m864.808497\u001b[0m │\n",
       "│            ┆          ┆ \u001b[1;36m4\u001b[0m          ┆           ┆            ┆          ┆            ┆            │\n",
       "└────────────┴──────────┴────────────┴───────────┴────────────┴──────────┴────────────┴────────────┘"
      ]
     },
     "execution_count": 54,
     "metadata": {},
     "output_type": "execute_result"
    }
   ],
   "source": [
    "NVARS = ['d_star', 'L_mn', 'L_mn_norm', 'j0', 'j0_norm', 'duration', 'v_mn']\n",
    "DISPLAY_VARS = ['time', 'sat'] + NVARS\n",
    "\n",
    "\n",
    "def check_candidates(df):\n",
    "    if isinstance(df, pl.LazyFrame):\n",
    "        df = df.collect()\n",
    "    return df.select(NVARS).describe()\n",
    "\n",
    "check_candidates(all_events_l1)"
   ]
  },
  {
   "cell_type": "code",
   "execution_count": 55,
   "metadata": {},
   "outputs": [],
   "source": [
    "jno_candidates_l1 = all_events_l1.filter(pl.col('sat') == 'JNO')\n",
    "%R -i jno_candidates_l1 -c conv_pl"
   ]
  },
  {
   "cell_type": "code",
   "execution_count": 56,
   "metadata": {},
   "outputs": [],
   "source": [
    "from ids_finder.pipelines.project.pipeline import process_events_l2"
   ]
  },
  {
   "cell_type": "code",
   "execution_count": 57,
   "metadata": {},
   "outputs": [],
   "source": [
    "all_events_l2 = all_events_l1.pipe(process_events_l2)"
   ]
  },
  {
   "cell_type": "code",
   "execution_count": 58,
   "metadata": {},
   "outputs": [
    {
     "data": {
      "text/html": [
       "<pre style=\"white-space:pre;overflow-x:auto;line-height:normal;font-family:Menlo,'DejaVu Sans Mono',consolas,'Courier New',monospace\"></pre>\n"
      ],
      "text/plain": []
     },
     "metadata": {},
     "output_type": "display_data"
    },
    {
     "data": {
      "text/html": [
       "<div><style>\n",
       ".dataframe > thead > tr,\n",
       ".dataframe > tbody > tr {\n",
       "  text-align: right;\n",
       "  white-space: pre-wrap;\n",
       "}\n",
       "</style>\n",
       "<small>shape: (9, 8)</small><table border=\"1\" class=\"dataframe\"><thead><tr><th>describe</th><th>d_star</th><th>L_mn</th><th>L_mn_norm</th><th>j0</th><th>j0_norm</th><th>duration</th><th>v_mn</th></tr><tr><td>str</td><td>f64</td><td>f64</td><td>f64</td><td>f64</td><td>f64</td><td>str</td><td>f64</td></tr></thead><tbody><tr><td>&quot;count&quot;</td><td>230.0</td><td>230.0</td><td>230.0</td><td>230.0</td><td>230.0</td><td>&quot;230&quot;</td><td>230.0</td></tr><tr><td>&quot;null_count&quot;</td><td>19.0</td><td>19.0</td><td>19.0</td><td>19.0</td><td>19.0</td><td>&quot;19&quot;</td><td>19.0</td></tr><tr><td>&quot;mean&quot;</td><td>0.8777</td><td>2532.113644</td><td>20.405734</td><td>2.524322</td><td>0.092208</td><td>&quot;0:00:07.666801…</td><td>330.596358</td></tr><tr><td>&quot;std&quot;</td><td>0.403322</td><td>511.710044</td><td>5.956528</td><td>1.246752</td><td>0.042525</td><td>null</td><td>37.203</td></tr><tr><td>&quot;min&quot;</td><td>0.110787</td><td>1817.802966</td><td>6.912295</td><td>0.234345</td><td>0.048246</td><td>&quot;0:00:06.390404…</td><td>255.313629</td></tr><tr><td>&quot;25%&quot;</td><td>0.726833</td><td>2184.782668</td><td>18.368551</td><td>1.988046</td><td>0.069698</td><td>&quot;0:00:06.831121…</td><td>304.836154</td></tr><tr><td>&quot;50%&quot;</td><td>0.941395</td><td>2398.748205</td><td>21.023224</td><td>2.779766</td><td>0.078657</td><td>&quot;0:00:07.195599…</td><td>329.466847</td></tr><tr><td>&quot;75%&quot;</td><td>1.129473</td><td>2751.132375</td><td>24.169994</td><td>3.241188</td><td>0.092763</td><td>&quot;0:00:08.172248…</td><td>353.839774</td></tr><tr><td>&quot;max&quot;</td><td>1.775508</td><td>4249.960369</td><td>37.964232</td><td>5.746615</td><td>0.298918</td><td>&quot;0:00:11.522727…</td><td>444.819813</td></tr></tbody></table></div>"
      ],
      "text/plain": [
       "\n",
       "shape: \u001b[1m(\u001b[0m\u001b[1;36m9\u001b[0m, \u001b[1;36m8\u001b[0m\u001b[1m)\u001b[0m\n",
       "┌────────────┬──────────┬─────────────┬───────────┬──────────┬──────────┬─────────────┬────────────┐\n",
       "│ describe   ┆ d_star   ┆ L_mn        ┆ L_mn_norm ┆ j0       ┆ j0_norm  ┆ duration    ┆ v_mn       │\n",
       "│ ---        ┆ ---      ┆ ---         ┆ ---       ┆ ---      ┆ ---      ┆ ---         ┆ ---        │\n",
       "│ str        ┆ f64      ┆ f64         ┆ f64       ┆ f64      ┆ f64      ┆ str         ┆ f64        │\n",
       "╞════════════╪══════════╪═════════════╪═══════════╪══════════╪══════════╪═════════════╪════════════╡\n",
       "│ count      ┆ \u001b[1;36m230.0\u001b[0m    ┆ \u001b[1;36m230.0\u001b[0m       ┆ \u001b[1;36m230.0\u001b[0m     ┆ \u001b[1;36m230.0\u001b[0m    ┆ \u001b[1;36m230.0\u001b[0m    ┆ \u001b[1;36m230\u001b[0m         ┆ \u001b[1;36m230.0\u001b[0m      │\n",
       "│ null_count ┆ \u001b[1;36m19.0\u001b[0m     ┆ \u001b[1;36m19.0\u001b[0m        ┆ \u001b[1;36m19.0\u001b[0m      ┆ \u001b[1;36m19.0\u001b[0m     ┆ \u001b[1;36m19.0\u001b[0m     ┆ \u001b[1;36m19\u001b[0m          ┆ \u001b[1;36m19.0\u001b[0m       │\n",
       "│ mean       ┆ \u001b[1;36m0.8777\u001b[0m   ┆ \u001b[1;36m2532.113644\u001b[0m ┆ \u001b[1;36m20.405734\u001b[0m ┆ \u001b[1;36m2.524322\u001b[0m ┆ \u001b[1;36m0.092208\u001b[0m ┆ \u001b[1;92m0:00:07\u001b[0m.\u001b[1;36m666\u001b[0m ┆ \u001b[1;36m330.596358\u001b[0m │\n",
       "│            ┆          ┆             ┆           ┆          ┆          ┆ \u001b[1;36m801\u001b[0m         ┆            │\n",
       "│ std        ┆ \u001b[1;36m0.403322\u001b[0m ┆ \u001b[1;36m511.710044\u001b[0m  ┆ \u001b[1;36m5.956528\u001b[0m  ┆ \u001b[1;36m1.246752\u001b[0m ┆ \u001b[1;36m0.042525\u001b[0m ┆ null        ┆ \u001b[1;36m37.203\u001b[0m     │\n",
       "│ min        ┆ \u001b[1;36m0.110787\u001b[0m ┆ \u001b[1;36m1817.802966\u001b[0m ┆ \u001b[1;36m6.912295\u001b[0m  ┆ \u001b[1;36m0.234345\u001b[0m ┆ \u001b[1;36m0.048246\u001b[0m ┆ \u001b[1;92m0:00:06\u001b[0m.\u001b[1;36m390\u001b[0m ┆ \u001b[1;36m255.313629\u001b[0m │\n",
       "│            ┆          ┆             ┆           ┆          ┆          ┆ \u001b[1;36m404\u001b[0m         ┆            │\n",
       "│ \u001b[1;36m25\u001b[0m%        ┆ \u001b[1;36m0.726833\u001b[0m ┆ \u001b[1;36m2184.782668\u001b[0m ┆ \u001b[1;36m18.368551\u001b[0m ┆ \u001b[1;36m1.988046\u001b[0m ┆ \u001b[1;36m0.069698\u001b[0m ┆ \u001b[1;92m0:00:06\u001b[0m.\u001b[1;36m831\u001b[0m ┆ \u001b[1;36m304.836154\u001b[0m │\n",
       "│            ┆          ┆             ┆           ┆          ┆          ┆ \u001b[1;36m121\u001b[0m         ┆            │\n",
       "│ \u001b[1;36m50\u001b[0m%        ┆ \u001b[1;36m0.941395\u001b[0m ┆ \u001b[1;36m2398.748205\u001b[0m ┆ \u001b[1;36m21.023224\u001b[0m ┆ \u001b[1;36m2.779766\u001b[0m ┆ \u001b[1;36m0.078657\u001b[0m ┆ \u001b[1;92m0:00:07\u001b[0m.\u001b[1;36m195\u001b[0m ┆ \u001b[1;36m329.466847\u001b[0m │\n",
       "│            ┆          ┆             ┆           ┆          ┆          ┆ \u001b[1;36m599\u001b[0m         ┆            │\n",
       "│ \u001b[1;36m75\u001b[0m%        ┆ \u001b[1;36m1.129473\u001b[0m ┆ \u001b[1;36m2751.132375\u001b[0m ┆ \u001b[1;36m24.169994\u001b[0m ┆ \u001b[1;36m3.241188\u001b[0m ┆ \u001b[1;36m0.092763\u001b[0m ┆ \u001b[1;92m0:00:08\u001b[0m.\u001b[1;36m172\u001b[0m ┆ \u001b[1;36m353.839774\u001b[0m │\n",
       "│            ┆          ┆             ┆           ┆          ┆          ┆ \u001b[1;36m248\u001b[0m         ┆            │\n",
       "│ max        ┆ \u001b[1;36m1.775508\u001b[0m ┆ \u001b[1;36m4249.960369\u001b[0m ┆ \u001b[1;36m37.964232\u001b[0m ┆ \u001b[1;36m5.746615\u001b[0m ┆ \u001b[1;36m0.298918\u001b[0m ┆ \u001b[1;92m0:00:11\u001b[0m.\u001b[1;36m522\u001b[0m ┆ \u001b[1;36m444.819813\u001b[0m │\n",
       "│            ┆          ┆             ┆           ┆          ┆          ┆ \u001b[1;36m727\u001b[0m         ┆            │\n",
       "└────────────┴──────────┴─────────────┴───────────┴──────────┴──────────┴─────────────┴────────────┘"
      ]
     },
     "execution_count": 58,
     "metadata": {},
     "output_type": "execute_result"
    }
   ],
   "source": [
    "inspect_df = all_events_l2[NVARS]\n",
    "inspect_df.describe()"
   ]
  },
  {
   "cell_type": "code",
   "execution_count": 59,
   "metadata": {},
   "outputs": [],
   "source": [
    "%R -i all_events_l2 -c conv_pl"
   ]
  },
  {
   "cell_type": "markdown",
   "metadata": {},
   "source": [
    "## Plotting function"
   ]
  },
  {
   "cell_type": "markdown",
   "metadata": {},
   "source": [
    "Plotting function for Level 1 data.\n",
    "\n",
    "Similar to the `geom_bin2d` function, but with added functionality\n",
    "\n",
    "- Normalize the data to every x-axis value\n",
    "- Add peak values\n",
    "- Add mean values with error bars"
   ]
  },
  {
   "cell_type": "code",
   "execution_count": 71,
   "metadata": {},
   "outputs": [],
   "source": [
    "%%R\n",
    "library(scales)\n",
    "# Helper function to calculate summary statistics for x-binned data\n",
    "calculate_summary <- function(data, x_col, y_col, x_seq) {\n",
    "  data %>%\n",
    "    mutate(!!x_col := x_seq[findInterval(data[[x_col]], x_seq, rightmost.closed = TRUE)]) %>%\n",
    "    group_by(.data[[x_col]]) %>%\n",
    "    summarise(\n",
    "      mean_y = mean(.data[[y_col]], na.rm = TRUE),\n",
    "      sd_y = sd(.data[[y_col]], na.rm = TRUE),\n",
    "      se_y = sd_y / sqrt(n())\n",
    "    )\n",
    "}\n",
    "\n",
    "\n",
    "plot_binned_data <- function(data, x_col, y_col, x_bins, y_bins, y_lim=NULL, log_y=FALSE) {\n",
    "  \n",
    "  # If y_lim is provided, filter the data\n",
    "  if (!is.null(y_lim)) {\n",
    "    data <- data %>%\n",
    "      filter(.data[[y_col]] >= y_lim[1], .data[[y_col]] <= y_lim[2])\n",
    "  }\n",
    "  \n",
    "  # If transform_log_y is TRUE, transform y_col to log scale\n",
    "  if (log_y) {\n",
    "    data[[y_col]] <- log10(data[[y_col]])\n",
    "    y_label <- paste(\"Log10\", y_col)\n",
    "  } else {\n",
    "    y_label <- y_col\n",
    "  }\n",
    "  \n",
    "  # Define bins for x and y based on the input parameters\n",
    "  x_seq <- seq(min(data[[x_col]]), max(data[[x_col]]), length.out = x_bins + 1)\n",
    "  y_seq <- seq(min(data[[y_col]]), max(data[[y_col]]), length.out = y_bins + 1)\n",
    "  \n",
    "  data_binned_normalized <- data %>%\n",
    "    mutate(\n",
    "      !!x_col := x_seq[findInterval(data[[x_col]], x_seq, rightmost.closed = TRUE,)],\n",
    "      !!y_col := y_seq[findInterval(data[[y_col]], y_seq, rightmost.closed = TRUE,)]\n",
    "    ) %>%\n",
    "    count(!!sym(x_col), !!sym(y_col)) %>%\n",
    "    group_by(!!sym(x_col)) %>%\n",
    "    mutate(n = n/sum(n))\n",
    "\n",
    "  plot <- ggplot() +\n",
    "    geom_tile(data = data_binned_normalized, aes(x = .data[[x_col]], y = .data[[y_col]], fill = n))\n",
    "\n",
    "  # Calculate mode for each x-bin\n",
    "  modes <- data_binned_normalized %>%\n",
    "    group_by(.data[[x_col]]) %>%\n",
    "    slice_max(n, n = 1)\n",
    "    \n",
    " # Add the mode line\n",
    "  plot <- plot + geom_line(data = modes, aes(x = .data[[x_col]], y = .data[[y_col]], group = 1), linetype = \"dashed\")\n",
    "\n",
    "  data_xbinned <- calculate_summary(data, x_col, y_col, x_seq)\n",
    "  \n",
    "  plot <- plot +\n",
    "    geom_errorbar(data = data_xbinned, aes(x = .data[[x_col]], ymin = mean_y - sd_y, ymax = mean_y + sd_y), width = 0.2) +\n",
    "    geom_line(data = data_xbinned, aes(x = .data[[x_col]], y = mean_y))\n",
    "    # Note: ggline will produce another figure, so we use geom_line instead\n",
    "\n",
    "\n",
    "  plot <- plot + labs(y = y_label) + # Set y-axis label\n",
    "    scale_fill_viridis_c() +\n",
    "    theme_pubr(base_size = 16, legend = \"r\")\n",
    "\n",
    "  return(plot)\n",
    "}"
   ]
  },
  {
   "cell_type": "markdown",
   "metadata": {},
   "source": [
    "### Plotting function for Level 2 averaged data."
   ]
  },
  {
   "cell_type": "code",
   "execution_count": 61,
   "metadata": {},
   "outputs": [],
   "source": [
    "%%R\n",
    "# Utility function for plotting\n",
    "plot_util <- function(df, x_var, y_vars, xlab, ylabs, color=\"sat\", linetype=\"sat\") {\n",
    "  # Initialize an empty list for storing plots\n",
    "  plots <- list()\n",
    "  \n",
    "  # Iterate over each y_var and its corresponding label\n",
    "  for (i in seq_along(y_vars)) {\n",
    "    y_var <- y_vars[i]\n",
    "    y_lab <- ylabs[i]\n",
    "    \n",
    "    # Create plot for the current y variable\n",
    "    p <- ggplot(df, aes(x = .data[[x_var]], y = .data[[y_var]], color = .data[[color]], linetype = .data[[linetype]])) +\n",
    "      geom_line() + geom_point() +\n",
    "      labs(y = y_lab, x = x_var, color = \"Satellites\", linetype = \"Satellites\") +\n",
    "      theme_pubr(base_size = 16) +\n",
    "      theme(legend.text = element_text(size = 16)) +\n",
    "      scale_color_okabeito(palette = \"black_first\")\n",
    "\n",
    "    # Apply modifications specific to the position of the plot\n",
    "    p <- ggpar(p, legend = \"none\")\n",
    "    if (i != length(y_vars)) {\n",
    "      p <- ggpar(p, xlab = FALSE)\n",
    "    }\n",
    "    if (i == length(y_vars)) {\n",
    "      p <- ggpar(p, xlab = xlab)\n",
    "    }\n",
    "    if (i == 1) {\n",
    "      p <- ggpar(p, legend = \"top\")\n",
    "    }\n",
    "    \n",
    "    # Add the plot to the list\n",
    "    plots[[i]] <- p\n",
    "  }\n",
    "\n",
    "  # Combine all the plots vertically\n",
    "  combined_plot <- wrap_plots(plots) + plot_layout(ncol = 1)\n",
    "\n",
    "  return(combined_plot)\n",
    "}\n"
   ]
  },
  {
   "cell_type": "markdown",
   "metadata": {},
   "source": [
    "### Histogram"
   ]
  },
  {
   "cell_type": "code",
   "execution_count": 62,
   "metadata": {},
   "outputs": [],
   "source": [
    "%%R\n",
    "plot_limited_histogram <- function(df, x, x_lim, bins, facet_var) {\n",
    "    data <- df %>%\n",
    "        filter(!!sym(x) >= x_lim[1], !!sym(x) <= x_lim[2])\n",
    "\n",
    "    p <- gghistogram(data, x = x, y=\"density\", color = \"sat\", bins = bins, facet.by = facet_var)\n",
    "    \n",
    "    return(p)\n",
    "}   "
   ]
  },
  {
   "cell_type": "markdown",
   "metadata": {},
   "source": [
    "## Orientation"
   ]
  },
  {
   "cell_type": "code",
   "execution_count": 63,
   "metadata": {},
   "outputs": [],
   "source": [
    "import hvplot.polars\n",
    "import warnings\n",
    "\n",
    "# Suppress specific FutureWarning from pandas in Holoviews\n",
    "warnings.filterwarnings(\n",
    "    \"ignore\", category=FutureWarning, module=\"holoviews.core.data.pandas\"\n",
    ")\n",
    "\n",
    "\n",
    "def dist_plot(df: pl.LazyFrame, var, by=\"sat\"):\n",
    "    return df.hvplot.density(var, by=by, subplots=True, width=300, height=300).cols(1)"
   ]
  },
  {
   "cell_type": "code",
   "execution_count": 64,
   "metadata": {},
   "outputs": [
    {
     "data": {},
     "metadata": {},
     "output_type": "display_data"
    },
    {
     "data": {
      "text/html": [
       "<pre style=\"white-space:pre;overflow-x:auto;line-height:normal;font-family:Menlo,'DejaVu Sans Mono',consolas,'Courier New',monospace\"></pre>\n"
      ],
      "text/plain": []
     },
     "metadata": {},
     "output_type": "display_data"
    },
    {
     "data": {
      "application/vnd.holoviews_exec.v0+json": "",
      "text/html": [
       "<div id='4884'>\n",
       "  <div class=\"bk-root\" id=\"d5d6c557-5e62-4e56-a709-a6e5dcdeb549\" data-root-id=\"4884\"></div>\n",
       "</div>\n",
       "<script type=\"application/javascript\">(function(root) {\n",
       "  function embed_document(root) {\n",
       "    var docs_json = {\"14d187ad-34dc-401a-8645-48def13b2d4a\":{\"defs\":[{\"extends\":null,\"module\":null,\"name\":\"ReactiveHTML1\",\"overrides\":[],\"properties\":[]},{\"extends\":null,\"module\":null,\"name\":\"FlexBox1\",\"overrides\":[],\"properties\":[{\"default\":\"flex-start\",\"kind\":null,\"name\":\"align_content\"},{\"default\":\"flex-start\",\"kind\":null,\"name\":\"align_items\"},{\"default\":\"row\",\"kind\":null,\"name\":\"flex_direction\"},{\"default\":\"wrap\",\"kind\":null,\"name\":\"flex_wrap\"},{\"default\":\"flex-start\",\"kind\":null,\"name\":\"justify_content\"}]},{\"extends\":null,\"module\":null,\"name\":\"GridStack1\",\"overrides\":[],\"properties\":[{\"default\":\"warn\",\"kind\":null,\"name\":\"mode\"},{\"default\":null,\"kind\":null,\"name\":\"ncols\"},{\"default\":null,\"kind\":null,\"name\":\"nrows\"},{\"default\":true,\"kind\":null,\"name\":\"allow_resize\"},{\"default\":true,\"kind\":null,\"name\":\"allow_drag\"},{\"default\":[],\"kind\":null,\"name\":\"state\"}]},{\"extends\":null,\"module\":null,\"name\":\"click1\",\"overrides\":[],\"properties\":[{\"default\":\"\",\"kind\":null,\"name\":\"terminal_output\"},{\"default\":\"\",\"kind\":null,\"name\":\"debug_name\"},{\"default\":0,\"kind\":null,\"name\":\"clears\"}]},{\"extends\":null,\"module\":null,\"name\":\"NotificationAreaBase1\",\"overrides\":[],\"properties\":[{\"default\":\"bottom-right\",\"kind\":null,\"name\":\"position\"},{\"default\":0,\"kind\":null,\"name\":\"_clear\"}]},{\"extends\":null,\"module\":null,\"name\":\"NotificationArea1\",\"overrides\":[],\"properties\":[{\"default\":[],\"kind\":null,\"name\":\"notifications\"},{\"default\":\"bottom-right\",\"kind\":null,\"name\":\"position\"},{\"default\":0,\"kind\":null,\"name\":\"_clear\"},{\"default\":[{\"background\":\"#ffc107\",\"icon\":{\"className\":\"fas fa-exclamation-triangle\",\"color\":\"white\",\"tagName\":\"i\"},\"type\":\"warning\"},{\"background\":\"#007bff\",\"icon\":{\"className\":\"fas fa-info-circle\",\"color\":\"white\",\"tagName\":\"i\"},\"type\":\"info\"}],\"kind\":null,\"name\":\"types\"}]},{\"extends\":null,\"module\":null,\"name\":\"Notification\",\"overrides\":[],\"properties\":[{\"default\":null,\"kind\":null,\"name\":\"background\"},{\"default\":3000,\"kind\":null,\"name\":\"duration\"},{\"default\":null,\"kind\":null,\"name\":\"icon\"},{\"default\":\"\",\"kind\":null,\"name\":\"message\"},{\"default\":null,\"kind\":null,\"name\":\"notification_type\"},{\"default\":false,\"kind\":null,\"name\":\"_destroyed\"}]},{\"extends\":null,\"module\":null,\"name\":\"TemplateActions1\",\"overrides\":[],\"properties\":[{\"default\":0,\"kind\":null,\"name\":\"open_modal\"},{\"default\":0,\"kind\":null,\"name\":\"close_modal\"}]},{\"extends\":null,\"module\":null,\"name\":\"MaterialTemplateActions1\",\"overrides\":[],\"properties\":[{\"default\":0,\"kind\":null,\"name\":\"open_modal\"},{\"default\":0,\"kind\":null,\"name\":\"close_modal\"}]}],\"roots\":{\"references\":[{\"attributes\":{},\"id\":\"5013\",\"type\":\"WheelZoomTool\"},{\"attributes\":{},\"id\":\"5128\",\"type\":\"UnionRenderers\"},{\"attributes\":{},\"id\":\"4933\",\"type\":\"BasicTickFormatter\"},{\"attributes\":{},\"id\":\"5064\",\"type\":\"PanTool\"},{\"attributes\":{\"bottom_units\":\"screen\",\"coordinates\":null,\"fill_alpha\":0.5,\"fill_color\":\"lightgrey\",\"group\":null,\"left_units\":\"screen\",\"level\":\"overlay\",\"line_alpha\":1.0,\"line_color\":\"black\",\"line_dash\":[4,4],\"line_width\":2,\"right_units\":\"screen\",\"syncable\":false,\"top_units\":\"screen\"},\"id\":\"5068\",\"type\":\"BoxAnnotation\"},{\"attributes\":{\"children\":[{\"id\":\"5146\"}],\"margin\":[0,0,0,0],\"name\":\"Row04828\",\"tags\":[\"embedded\"]},\"id\":\"4884\",\"type\":\"Row\"},{\"attributes\":{\"axis\":{\"id\":\"5003\"},\"coordinates\":null,\"grid_line_color\":null,\"group\":null,\"ticker\":null},\"id\":\"5006\",\"type\":\"Grid\"},{\"attributes\":{\"coordinates\":null,\"group\":null,\"text\":\"sat: Wind\",\"text_color\":\"black\",\"text_font_size\":\"12pt\"},\"id\":\"5047\",\"type\":\"Title\"},{\"attributes\":{\"axis\":{\"id\":\"4899\"},\"coordinates\":null,\"grid_line_color\":null,\"group\":null,\"ticker\":null},\"id\":\"4902\",\"type\":\"Grid\"},{\"attributes\":{\"axis\":{\"id\":\"4903\"},\"coordinates\":null,\"dimension\":1,\"grid_line_color\":null,\"group\":null,\"ticker\":null},\"id\":\"4906\",\"type\":\"Grid\"},{\"attributes\":{\"active_drag\":{\"id\":\"5064\"},\"active_scroll\":{\"id\":\"5065\"},\"tools\":[{\"id\":\"5045\"},{\"id\":\"5063\"},{\"id\":\"5064\"},{\"id\":\"5065\"},{\"id\":\"5066\"},{\"id\":\"5067\"}]},\"id\":\"5069\",\"type\":\"Toolbar\"},{\"attributes\":{},\"id\":\"4911\",\"type\":\"ResetTool\"},{\"attributes\":{},\"id\":\"5035\",\"type\":\"AllLabels\"},{\"attributes\":{},\"id\":\"5077\",\"type\":\"Selection\"},{\"attributes\":{},\"id\":\"5065\",\"type\":\"WheelZoomTool\"},{\"attributes\":{\"fill_alpha\":0.5,\"fill_color\":\"#30a2da\",\"hatch_color\":\"#30a2da\",\"tags\":[\"apply_ranges\"],\"x\":{\"field\":\"x\"},\"y\":{\"field\":\"y\"}},\"id\":\"5084\",\"type\":\"Patch\"},{\"attributes\":{\"axis_label\":\"k_x\",\"coordinates\":null,\"formatter\":{\"id\":\"4982\"},\"group\":null,\"major_label_policy\":{\"id\":\"4983\"},\"ticker\":{\"id\":\"4952\"}},\"id\":\"4951\",\"type\":\"LinearAxis\"},{\"attributes\":{\"axis\":{\"id\":\"4951\"},\"coordinates\":null,\"grid_line_color\":null,\"group\":null,\"ticker\":null},\"id\":\"4954\",\"type\":\"Grid\"},{\"attributes\":{\"end\":2.4323517790718228,\"reset_end\":2.4323517790718228,\"reset_start\":0.0,\"tags\":[[[\"k_x_density\",\"Density\",null]],{\"autorange\":false,\"invert_yaxis\":false}]},\"id\":\"4886\",\"type\":\"Range1d\"},{\"attributes\":{\"active_drag\":{\"id\":\"4960\"},\"active_scroll\":{\"id\":\"4961\"},\"tools\":[{\"id\":\"4941\"},{\"id\":\"4959\"},{\"id\":\"4960\"},{\"id\":\"4961\"},{\"id\":\"4962\"},{\"id\":\"4963\"}]},\"id\":\"4965\",\"type\":\"Toolbar\"},{\"attributes\":{},\"id\":\"4930\",\"type\":\"BasicTickFormatter\"},{\"attributes\":{\"fill_alpha\":0.5,\"fill_color\":\"#30a2da\",\"hatch_alpha\":0.1,\"hatch_color\":\"#30a2da\",\"line_alpha\":1,\"tags\":[\"apply_ranges\"],\"x\":{\"field\":\"x\"},\"y\":{\"field\":\"y\"}},\"id\":\"5080\",\"type\":\"Patch\"},{\"attributes\":{\"below\":[{\"id\":\"4899\"}],\"center\":[{\"id\":\"4902\"},{\"id\":\"4906\"}],\"height\":300,\"left\":[{\"id\":\"4903\"}],\"margin\":null,\"min_border_bottom\":10,\"min_border_left\":10,\"min_border_right\":10,\"min_border_top\":10,\"output_backend\":\"webgl\",\"renderers\":[{\"id\":\"4926\"}],\"sizing_mode\":\"fixed\",\"title\":{\"id\":\"4891\"},\"toolbar\":{\"id\":\"4913\"},\"toolbar_location\":null,\"width\":300,\"x_range\":{\"id\":\"4885\"},\"x_scale\":{\"id\":\"4897\"},\"y_range\":{\"id\":\"4886\"},\"y_scale\":{\"id\":\"4898\"}},\"id\":\"4890\",\"subtype\":\"Figure\",\"type\":\"Plot\"},{\"attributes\":{},\"id\":\"4983\",\"type\":\"AllLabels\"},{\"attributes\":{\"axis_label\":\"Density\",\"coordinates\":null,\"formatter\":{\"id\":\"5037\"},\"group\":null,\"major_label_policy\":{\"id\":\"5038\"},\"ticker\":{\"id\":\"5008\"}},\"id\":\"5007\",\"type\":\"LinearAxis\"},{\"attributes\":{\"callback\":null,\"renderers\":[{\"id\":\"5030\"}],\"tags\":[\"hv_created\"],\"tooltips\":[[\"k_x\",\"@{k_x}\"],[\"Density\",\"@{k_x_density}\"]]},\"id\":\"4993\",\"type\":\"HoverTool\"},{\"attributes\":{},\"id\":\"4898\",\"type\":\"LinearScale\"},{\"attributes\":{},\"id\":\"5060\",\"type\":\"BasicTicker\"},{\"attributes\":{},\"id\":\"4909\",\"type\":\"WheelZoomTool\"},{\"attributes\":{\"axis_label\":\"Density\",\"coordinates\":null,\"formatter\":{\"id\":\"4933\"},\"group\":null,\"major_label_policy\":{\"id\":\"4934\"},\"ticker\":{\"id\":\"4904\"}},\"id\":\"4903\",\"type\":\"LinearAxis\"},{\"attributes\":{},\"id\":\"5038\",\"type\":\"AllLabels\"},{\"attributes\":{},\"id\":\"5034\",\"type\":\"BasicTickFormatter\"},{\"attributes\":{\"fill_alpha\":0.5,\"fill_color\":\"#30a2da\",\"hatch_color\":\"#30a2da\",\"tags\":[\"apply_ranges\"],\"x\":{\"field\":\"x\"},\"y\":{\"field\":\"y\"}},\"id\":\"4975\",\"type\":\"Patch\"},{\"attributes\":{},\"id\":\"4982\",\"type\":\"BasicTickFormatter\"},{\"attributes\":{\"data\":{\"x\":{\"__ndarray__\":\"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\",\"dtype\":\"float64\",\"order\":\"little\",\"shape\":[200]},\"y\":{\"__ndarray__\":\"AAAAAAAAAAAAAAAAAAAAAAAAAAAAAAAAAAAAAAAAAAAAAAAAAAAAAAAAAAAAAAAAAAAAAAAAAAAAAAAAAAAAAAAAAAAAAAAAAAAAAAAAAAAAAAAAAAAAAAAAAAAAAAAAAAAAAAAAAAAAAAAAAAAAAAAAAAAAAAAAAAAAAAAAAAAAAAAAAAAAAAAAAAAAAAAAAAAAAAAAAAAAAAAAAAAAAAAAAAAAAAAAAAAAAAAAAAAAAAAAAAAAAAAAAAAAAAAAAAAAAAAAAAAAAAAAAAAAAAAAAAAAAAAAAAAAAAAAAAAAAAAAAAAAAAAAAAAAAAAAAAAAAAAAAAAAAAAAAAAAAAAAAAAAAAAAAAAAAAAAAAAAAAAAAAAAAAAAAAAAAAAAAAAAAAAAAAAAAAAAAAAAAAAAAAAAAAAAAAAAAAAAAAAAAAAAAAAAAAAAAAAAAAAAAAAAAAAAAAAAAAAAAAAAAAAAAAAAAAAAAAAAAAAAAAAAAAAAAAAAAAAAAAAAAAAAAAAAAAAAAAAAAAAAAAAAAAAAAAAAAAAAAAAAAAAAAAAAAAAAAAAAAAAAAAAAAAAAAAAAAAAAAAAAAAAAAAAAAAAAAAAAAAAAAAAAAAAAAAAAAAAAAAAAAAAAAAAAAAAAAAAAAAAAAAAAAAAAAAAAAAAAAAAAAAAAAAAAAAAAAAAAAAAAAAAAAAAAAAAAAAAAAAAAAAAAAAAAAAAAAAAAAAAAAAAAAAAAAAAAAAAAAAAAAAAAAAAAAAAAAAAAAAAAAAAAAAAAAAAAAAAAAAAAAAAAAAAAAAAAAAAAAAAAAAAAAAAAAAAAAAAAAAAAAAAAAAAAAAAAAAAAAAAAAAAAAAAAAAAAAAAAAAAAAAAAAAAAAAAAAAAAAAAAAAAAAAAAAAAAAAAAAAAAAAAAAAAAAAAAAAAAAAAAAAAAAAAAAAAAAAAAAAAAAAAAAAAAAAAAAAAAAAAAAAAAAAAAAAAAAAAAAAAAAAAAAAAAAAAAAAAAAAAAAAAAAAAAAAAAAAAAAAAAAAAAAAAAAAAAAAAAAAAAAAAAAAAAAAAAAAAAAAATkeRxg0BdP8pI2d7x0HU/bKCkcHQSjT/7a+mR5FahP7X/16lwj7I/hxmtBUPiwT9qKmvr4iXPPwTiShv9o9g/uYAjynPS4T80UCYF6sLnP2KYBZ+7e+0/4hKgWhU38T/EC9l62ibzP7GfwopHi/Q/waB0rxh79T9DMny5fBX2P27KvXq7dvY/tOwmJy209j/DYr5Cgdz2Pw1IeHCh+PY/4zFjmwgM9z8i9jSlpxX3P4G+yXtrEvc/IN3j1tAA9z8DSfZVieP2P8q/tTliwfY/YS4TQlui9j8pZ4aT5Yv2P2LRIzHafvY/YE481C549j8w4FWLJXP2P4t/ZY3pavY/B9eHc+da9j9iykjI7z72P7f3sLNHFPY/427P0T7b9T/9X9I5rZf1P0w7ftJjT/U/O0GVS24H9T+jOrJnD8L0Px6QevShfvQ/4ifsEvo69D9cVZwCEvXzP7JZibkcrPM/ui6q9bhg8z+J4+2oVRTzP6L9UpMeyPI/hJsuQC588j9iBPM1uC/yPxJ77u3u4fE/LHHt0m+S8T8YJupXZkDxPxHvaqE96fA/ah+j8aaI8D9FlZOSlhrwP2kRVhemO+8/7sjVTDoq7j9EphNEtAztPz97RTKO8es/g6vy5tjm6j+xkmmkIvjpP3T3qA+FLOk/nIyFzaqE6D9rYgwzCPrnP+jU+w6qgOc/FCDp41oL5z895uZw4Y/mPxjARyPKCOY/E+GAeiJ05T+Qlv9pG9HkP4Jof/EyH+Q/3iFlCaNf4z+Aft+RW5fiPz0nCas3z+E/r/W6VcYR4T9ygQzC/WfgP2MPLZpgrd8/pVdI7E+73j8UcrWmlfDdP4jYojDOPt0/CPPObnuX3D9YfuK20/DbPyMPx8ZwR9s/INoc/L+a2j9nnv91/eTZPz3XWnexEtk/dGT05iT/1z+7Wc3DhnrWP3GPt+w1W9Q/ugFOMUOV0T/H8R5lIZjMP5cPoslPocU/R8Msm/Ujvj/eKb2LZS+zP/RPFnaoK6Y/8VxDuBIklz9po8NqSbuFP6VTC/tiTnI/VL6xBYOZWz9G2YQoeJVCPw==\",\"dtype\":\"float64\",\"order\":\"little\",\"shape\":[200]}},\"selected\":{\"id\":\"5025\"},\"selection_policy\":{\"id\":\"5128\"}},\"id\":\"5024\",\"type\":\"ColumnDataSource\"},{\"attributes\":{},\"id\":\"4985\",\"type\":\"BasicTickFormatter\"},{\"attributes\":{},\"id\":\"5001\",\"type\":\"LinearScale\"},{\"attributes\":{\"source\":{\"id\":\"5024\"}},\"id\":\"5031\",\"type\":\"CDSView\"},{\"attributes\":{\"coordinates\":null,\"group\":null,\"text\":\"sat: JNO\",\"text_color\":\"black\",\"text_font_size\":\"12pt\"},\"id\":\"4891\",\"type\":\"Title\"},{\"attributes\":{},\"id\":\"4952\",\"type\":\"BasicTicker\"},{\"attributes\":{\"axis_label\":\"k_x\",\"coordinates\":null,\"formatter\":{\"id\":\"4930\"},\"group\":null,\"major_label_policy\":{\"id\":\"4931\"},\"ticker\":{\"id\":\"4900\"}},\"id\":\"4899\",\"type\":\"LinearAxis\"},{\"attributes\":{},\"id\":\"4931\",\"type\":\"AllLabels\"},{\"attributes\":{},\"id\":\"5086\",\"type\":\"BasicTickFormatter\"},{\"attributes\":{},\"id\":\"5011\",\"type\":\"SaveTool\"},{\"attributes\":{},\"id\":\"4961\",\"type\":\"WheelZoomTool\"},{\"attributes\":{\"bottom_units\":\"screen\",\"coordinates\":null,\"fill_alpha\":0.5,\"fill_color\":\"lightgrey\",\"group\":null,\"left_units\":\"screen\",\"level\":\"overlay\",\"line_alpha\":1.0,\"line_color\":\"black\",\"line_dash\":[4,4],\"line_width\":2,\"right_units\":\"screen\",\"syncable\":false,\"top_units\":\"screen\"},\"id\":\"4964\",\"type\":\"BoxAnnotation\"},{\"attributes\":{},\"id\":\"5090\",\"type\":\"AllLabels\"},{\"attributes\":{\"fill_alpha\":0.5,\"fill_color\":\"#30a2da\",\"hatch_color\":\"#30a2da\",\"tags\":[\"apply_ranges\"],\"x\":{\"field\":\"x\"},\"y\":{\"field\":\"y\"}},\"id\":\"4928\",\"type\":\"Patch\"},{\"attributes\":{\"source\":{\"id\":\"4972\"}},\"id\":\"4979\",\"type\":\"CDSView\"},{\"attributes\":{\"end\":1.1044366341653509,\"reset_end\":1.1044366341653509,\"reset_start\":-0.10438622568509431,\"start\":-0.10438622568509431,\"tags\":[[[\"k_x\",\"k_x\",null]],[]]},\"id\":\"4885\",\"type\":\"Range1d\"},{\"attributes\":{},\"id\":\"5008\",\"type\":\"BasicTicker\"},{\"attributes\":{\"callback\":null,\"renderers\":[{\"id\":\"4926\"}],\"tags\":[\"hv_created\"],\"tooltips\":[[\"k_x\",\"@{k_x}\"],[\"Density\",\"@{k_x_density}\"]]},\"id\":\"4889\",\"type\":\"HoverTool\"},{\"attributes\":{\"toolbar\":{\"id\":\"5144\"},\"toolbar_location\":\"above\"},\"id\":\"5145\",\"type\":\"ToolbarBox\"},{\"attributes\":{},\"id\":\"5002\",\"type\":\"LinearScale\"},{\"attributes\":{\"fill_alpha\":0.5,\"fill_color\":\"#30a2da\",\"hatch_alpha\":0.1,\"hatch_color\":\"#30a2da\",\"line_alpha\":1,\"tags\":[\"apply_ranges\"],\"x\":{\"field\":\"x\"},\"y\":{\"field\":\"y\"}},\"id\":\"4924\",\"type\":\"Patch\"},{\"attributes\":{\"overlay\":{\"id\":\"5068\"}},\"id\":\"5066\",\"type\":\"BoxZoomTool\"},{\"attributes\":{},\"id\":\"5012\",\"type\":\"PanTool\"},{\"attributes\":{\"coordinates\":null,\"group\":null,\"text\":\"sat: THB\",\"text_color\":\"black\",\"text_font_size\":\"12pt\"},\"id\":\"4995\",\"type\":\"Title\"},{\"attributes\":{\"children\":[[{\"id\":\"4890\"},0,0],[{\"id\":\"4942\"},1,0],[{\"id\":\"4994\"},2,0],[{\"id\":\"5046\"},3,0]]},\"id\":\"5143\",\"type\":\"GridBox\"},{\"attributes\":{\"axis\":{\"id\":\"5059\"},\"coordinates\":null,\"dimension\":1,\"grid_line_color\":null,\"group\":null,\"ticker\":null},\"id\":\"5062\",\"type\":\"Grid\"},{\"attributes\":{},\"id\":\"4897\",\"type\":\"LinearScale\"},{\"attributes\":{},\"id\":\"4900\",\"type\":\"BasicTicker\"},{\"attributes\":{},\"id\":\"4949\",\"type\":\"LinearScale\"},{\"attributes\":{},\"id\":\"4956\",\"type\":\"BasicTicker\"},{\"attributes\":{},\"id\":\"4921\",\"type\":\"Selection\"},{\"attributes\":{},\"id\":\"4963\",\"type\":\"ResetTool\"},{\"attributes\":{\"fill_alpha\":0.2,\"fill_color\":\"#30a2da\",\"hatch_alpha\":0.2,\"hatch_color\":\"#30a2da\",\"line_alpha\":0.2,\"tags\":[\"apply_ranges\"],\"x\":{\"field\":\"x\"},\"y\":{\"field\":\"y\"}},\"id\":\"4977\",\"type\":\"Patch\"},{\"attributes\":{},\"id\":\"5004\",\"type\":\"BasicTicker\"},{\"attributes\":{\"callback\":null,\"renderers\":[{\"id\":\"4978\"}],\"tags\":[\"hv_created\"],\"tooltips\":[[\"k_x\",\"@{k_x}\"],[\"Density\",\"@{k_x_density}\"]]},\"id\":\"4941\",\"type\":\"HoverTool\"},{\"attributes\":{},\"id\":\"4907\",\"type\":\"SaveTool\"},{\"attributes\":{\"axis\":{\"id\":\"4955\"},\"coordinates\":null,\"dimension\":1,\"grid_line_color\":null,\"group\":null,\"ticker\":null},\"id\":\"4958\",\"type\":\"Grid\"},{\"attributes\":{\"axis_label\":\"k_x\",\"coordinates\":null,\"formatter\":{\"id\":\"5034\"},\"group\":null,\"major_label_policy\":{\"id\":\"5035\"},\"ticker\":{\"id\":\"5004\"}},\"id\":\"5003\",\"type\":\"LinearAxis\"},{\"attributes\":{},\"id\":\"4973\",\"type\":\"Selection\"},{\"attributes\":{\"coordinates\":null,\"data_source\":{\"id\":\"5024\"},\"glyph\":{\"id\":\"5027\"},\"group\":null,\"hover_glyph\":null,\"muted_glyph\":{\"id\":\"5029\"},\"nonselection_glyph\":{\"id\":\"5028\"},\"selection_glyph\":{\"id\":\"5032\"},\"view\":{\"id\":\"5031\"}},\"id\":\"5030\",\"type\":\"GlyphRenderer\"},{\"attributes\":{\"fill_alpha\":0.5,\"fill_color\":\"#30a2da\",\"hatch_color\":\"#30a2da\",\"tags\":[\"apply_ranges\"],\"x\":{\"field\":\"x\"},\"y\":{\"field\":\"y\"}},\"id\":\"4980\",\"type\":\"Patch\"},{\"attributes\":{},\"id\":\"5054\",\"type\":\"LinearScale\"},{\"attributes\":{},\"id\":\"5067\",\"type\":\"ResetTool\"},{\"attributes\":{\"overlay\":{\"id\":\"4964\"}},\"id\":\"4962\",\"type\":\"BoxZoomTool\"},{\"attributes\":{},\"id\":\"5089\",\"type\":\"BasicTickFormatter\"},{\"attributes\":{\"coordinates\":null,\"data_source\":{\"id\":\"4972\"},\"glyph\":{\"id\":\"4975\"},\"group\":null,\"hover_glyph\":null,\"muted_glyph\":{\"id\":\"4977\"},\"nonselection_glyph\":{\"id\":\"4976\"},\"selection_glyph\":{\"id\":\"4980\"},\"view\":{\"id\":\"4979\"}},\"id\":\"4978\",\"type\":\"GlyphRenderer\"},{\"attributes\":{},\"id\":\"4986\",\"type\":\"AllLabels\"},{\"attributes\":{\"fill_alpha\":0.5,\"fill_color\":\"#30a2da\",\"hatch_alpha\":0.1,\"hatch_color\":\"#30a2da\",\"line_alpha\":1,\"tags\":[\"apply_ranges\"],\"x\":{\"field\":\"x\"},\"y\":{\"field\":\"y\"}},\"id\":\"4976\",\"type\":\"Patch\"},{\"attributes\":{\"fill_alpha\":0.5,\"fill_color\":\"#30a2da\",\"hatch_alpha\":0.1,\"hatch_color\":\"#30a2da\",\"line_alpha\":1,\"tags\":[\"apply_ranges\"],\"x\":{\"field\":\"x\"},\"y\":{\"field\":\"y\"}},\"id\":\"5028\",\"type\":\"Patch\"},{\"attributes\":{\"source\":{\"id\":\"4920\"}},\"id\":\"4927\",\"type\":\"CDSView\"},{\"attributes\":{},\"id\":\"4908\",\"type\":\"PanTool\"},{\"attributes\":{},\"id\":\"4904\",\"type\":\"BasicTicker\"},{\"attributes\":{\"fill_alpha\":0.5,\"fill_color\":\"#30a2da\",\"hatch_color\":\"#30a2da\",\"tags\":[\"apply_ranges\"],\"x\":{\"field\":\"x\"},\"y\":{\"field\":\"y\"}},\"id\":\"5032\",\"type\":\"Patch\"},{\"attributes\":{},\"id\":\"4950\",\"type\":\"LinearScale\"},{\"attributes\":{\"data\":{\"x\":{\"__ndarray__\":\"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\",\"dtype\":\"float64\",\"order\":\"little\",\"shape\":[200]},\"y\":{\"__ndarray__\":\"AAAAAAAAAAAAAAAAAAAAAAAAAAAAAAAAAAAAAAAAAAAAAAAAAAAAAAAAAAAAAAAAAAAAAAAAAAAAAAAAAAAAAAAAAAAAAAAAAAAAAAAAAAAAAAAAAAAAAAAAAAAAAAAAAAAAAAAAAAAAAAAAAAAAAAAAAAAAAAAAAAAAAAAAAAAAAAAAAAAAAAAAAAAAAAAAAAAAAAAAAAAAAAAAAAAAAAAAAAAAAAAAAAAAAAAAAAAAAAAAAAAAAAAAAAAAAAAAAAAAAAAAAAAAAAAAAAAAAAAAAAAAAAAAAAAAAAAAAAAAAAAAAAAAAAAAAAAAAAAAAAAAAAAAAAAAAAAAAAAAAAAAAAAAAAAAAAAAAAAAAAAAAAAAAAAAAAAAAAAAAAAAAAAAAAAAAAAAAAAAAAAAAAAAAAAAAAAAAAAAAAAAAAAAAAAAAAAAAAAAAAAAAAAAAAAAAAAAAAAAAAAAAAAAAAAAAAAAAAAAAAAAAAAAAAAAAAAAAAAAAAAAAAAAAAAAAAAAAAAAAAAAAAAAAAAAAAAAAAAAAAAAAAAAAAAAAAAAAAAAAAAAAAAAAAAAAAAAAAAAAAAAAAAAAAAAAAAAAAAAAAAAAAAAAAAAAAAAAAAAAAAAAAAAAAAAAAAAAAAAAAAAAAAAAAAAAAAAAAAAAAAAAAAAAAAAAAAAAAAAAAAAAAAAAAAAAAAAAAAAAAAAAAAAAAAAAAAAAAAAAAAAAAAAAAAAAAAAAAAAAAAAAAAAAAAAAAAAAAAAAAAAAAAAAAAAAAAAAAAAAAAAAAAAAAAAAAAAAAAAAAAAAAAAAAAAAAAAAAAAAAAAAAAAAAAAAAAAAAAAAAAAAAAAAAAAAAAAAAAAAAAAAAAAAAAAAAAAAAAAAAAAAAAAAAAAAAAAAAAAAAAAAAAAAAAAAAAAAAAAAAAAAAAAAAAAAAAAAAAAAAAAAAAAAAAAAAAAAAAAAAAAAAAAAAAAAAAAAAAAAAAAAAAAAAAAAAAAAAAAAAAAAAAAAAAAAAAAAAAAAAAAAAAAAAAAAAAAAAAAAAAAAAAAAAAAAAAAAAAAAAAAAABzGZP42P1cP3GeCttVVX8/PWfbm4B8mz9OeEOw1K6zPy1ZPo24Mcc/KIPQNBW81j8CWesAqdDiPzG07a/80uo//gU291nk8D/jfWKTa1vzP/VSnKlhzvQ/jCmtQdGL9T8C8XBHZ+v1P8XDPtlmKPY/HA4DGGpf9j+n4JvVmJn2P86qO38t1vY/LG6W4egP9z8oh34QJ0D3PxDCR1A9YPc/sjcDfxNr9z8pXpz9pWD3P43VViEoSPc/dCrPGkMs9z8wjTI4vBP3P5Boc7wm/vY/R/fH/brn9j/w5/15As/2P+gnp53gtfY/iwVoxamd9j+7RTQHBYP2PyXhAKI8XvY/l6k9YNEo9j/5xJYqGOT1PwzeGZmmmvU/Tm1Ap2xa9T9xr2Bu1yv1P7Y3ob2iDPU/h14/l2Xx9D/mA57frcv0P/j9HTTgkPQ/F9cw3II/9D/DCxpYieDzP7uNHascgvM/d6AEBJAu8z+SbfPGt+fyPxMVgXoKqvI/GjnPWfFw8j+rmLfAqDbyPxt23hYL9PE/V06QBTCl8T/ITjvKsU3xP7mffNab9fA/tVacOaCi8D9rSoaK2lXwPxGgAbdLDvA/muJHD3+U7z+sRvMBNQzvP64SkP8Cee4/rKe+7trT7T9td1/qByDtP5GmqQd3aOw/UE8rZky16z/2rKr51gPrP40tkm6TSOo/9PyUmkp66T8grG9uBp3oP0GIetPOwec/VgnV0zj55j/92biBykTmP3nQcY4YluU//7hK/uLb5D+5h6U3hA7kP6w15+oUMeM/5i6UaghM4j8RmJXJF2rhPx7S5aG1luA/EJ+iw0Oy3z+Hxt1ZXV7eP4ML413AHd0/hHDR95rc2z+YTWNgP5TaP/Xg9vW4S9k/dJU18rMP2D8PSbRAyurWP0z+51ar4tU/LSgC/qD31D8Ooo0csSHUP3QQEmGvSNM/R0trPrQ50j9LP+yX8KfQP9l164f4nMw/y/xw4sRexj/sIMoaJeO+P8Wd/nAwXLI/NYPh241uoj+u4AcOos2OPzrfeGPlMnU//qCc23XYVz/ygAhWj8s1Pw==\",\"dtype\":\"float64\",\"order\":\"little\",\"shape\":[200]}},\"selected\":{\"id\":\"5077\"},\"selection_policy\":{\"id\":\"5139\"}},\"id\":\"5076\",\"type\":\"ColumnDataSource\"},{\"attributes\":{},\"id\":\"5037\",\"type\":\"BasicTickFormatter\"},{\"attributes\":{},\"id\":\"4959\",\"type\":\"SaveTool\"},{\"attributes\":{},\"id\":\"5106\",\"type\":\"UnionRenderers\"},{\"attributes\":{\"callback\":null,\"renderers\":[{\"id\":\"5082\"}],\"tags\":[\"hv_created\"],\"tooltips\":[[\"k_x\",\"@{k_x}\"],[\"Density\",\"@{k_x_density}\"]]},\"id\":\"5045\",\"type\":\"HoverTool\"},{\"attributes\":{\"axis_label\":\"Density\",\"coordinates\":null,\"formatter\":{\"id\":\"5089\"},\"group\":null,\"major_label_policy\":{\"id\":\"5090\"},\"ticker\":{\"id\":\"5060\"}},\"id\":\"5059\",\"type\":\"LinearAxis\"},{\"attributes\":{\"coordinates\":null,\"data_source\":{\"id\":\"5076\"},\"glyph\":{\"id\":\"5079\"},\"group\":null,\"hover_glyph\":null,\"muted_glyph\":{\"id\":\"5081\"},\"nonselection_glyph\":{\"id\":\"5080\"},\"selection_glyph\":{\"id\":\"5084\"},\"view\":{\"id\":\"5083\"}},\"id\":\"5082\",\"type\":\"GlyphRenderer\"},{\"attributes\":{\"overlay\":{\"id\":\"4912\"}},\"id\":\"4910\",\"type\":\"BoxZoomTool\"},{\"attributes\":{},\"id\":\"5025\",\"type\":\"Selection\"},{\"attributes\":{\"active_drag\":{\"id\":\"5012\"},\"active_scroll\":{\"id\":\"5013\"},\"tools\":[{\"id\":\"4993\"},{\"id\":\"5011\"},{\"id\":\"5012\"},{\"id\":\"5013\"},{\"id\":\"5014\"},{\"id\":\"5015\"}]},\"id\":\"5017\",\"type\":\"Toolbar\"},{\"attributes\":{\"active_drag\":{\"id\":\"4908\"},\"active_scroll\":{\"id\":\"4909\"},\"tools\":[{\"id\":\"4889\"},{\"id\":\"4907\"},{\"id\":\"4908\"},{\"id\":\"4909\"},{\"id\":\"4910\"},{\"id\":\"4911\"}]},\"id\":\"4913\",\"type\":\"Toolbar\"},{\"attributes\":{\"below\":[{\"id\":\"4951\"}],\"center\":[{\"id\":\"4954\"},{\"id\":\"4958\"}],\"height\":300,\"left\":[{\"id\":\"4955\"}],\"margin\":null,\"min_border_bottom\":10,\"min_border_left\":10,\"min_border_right\":10,\"min_border_top\":10,\"output_backend\":\"webgl\",\"renderers\":[{\"id\":\"4978\"}],\"sizing_mode\":\"fixed\",\"title\":{\"id\":\"4943\"},\"toolbar\":{\"id\":\"4965\"},\"toolbar_location\":null,\"width\":300,\"x_range\":{\"id\":\"4885\"},\"x_scale\":{\"id\":\"4949\"},\"y_range\":{\"id\":\"4886\"},\"y_scale\":{\"id\":\"4950\"}},\"id\":\"4942\",\"subtype\":\"Figure\",\"type\":\"Plot\"},{\"attributes\":{\"data\":{\"x\":{\"__ndarray__\":\"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\",\"dtype\":\"float64\",\"order\":\"little\",\"shape\":[200]},\"y\":{\"__ndarray__\":\"AAAAAAAAAAAAAAAAAAAAAAAAAAAAAAAAAAAAAAAAAAAAAAAAAAAAAAAAAAAAAAAAAAAAAAAAAAAAAAAAAAAAAAAAAAAAAAAAAAAAAAAAAAAAAAAAAAAAAAAAAAAAAAAAAAAAAAAAAAAAAAAAAAAAAAAAAAAAAAAAAAAAAAAAAAAAAAAAAAAAAAAAAAAAAAAAAAAAAAAAAAAAAAAAAAAAAAAAAAAAAAAAAAAAAAAAAAAAAAAAAAAAAAAAAAAAAAAAAAAAAAAAAAAAAAAAAAAAAAAAAAAAAAAAAAAAAAAAAAAAAAAAAAAAAAAAAAAAAAAAAAAAAAAAAAAAAAAAAAAAAAAAAAAAAAAAAAAAAAAAAAAAAAAAAAAAAAAAAAAAAAAAAAAAAAAAAAAAAAAAAAAAAAAAAAAAAAAAAAAAAAAAAAAAAAAAAAAAAAAAAAAAAAAAAAAAAAAAAAAAAAAAAAAAAAAAAAAAAAAAAAAAAAAAAAAAAAAAAAAAAAAAAAAAAAAAAAAAAAAAAAAAAAAAAAAAAAAAAAAAAAAAAAAAAAAAAAAAAAAAAAAAAAAAAAAAAAAAAAAAAAAAAAAAAAAAAAAAAAAAAAAAAAAAAAAAAAAAAAAAAAAAAAAAAAAAAAAAAAAAAAAAAAAAAAAAAAAAAAAAAAAAAAAAAAAAAAAAAAAAAAAAAAAAAAAAAAAAAAAAAAAAAAAAAAAAAAAAAAAAAAAAAAAAAAAAAAAAAAAAAAAAAAAAAAAAAAAAAAAAAAAAAAAAAAAAAAAAAAAAAAAAAAAAAAAAAAAAAAAAAAAAAAAAAAAAAAAAAAAAAAAAAAAAAAAAAAAAAAAAAAAAAAAAAAAAAAAAAAAAAAAAAAAAAAAAAAAAAAAAAAAAAAAAAAAAAAAAAAAAAAAAAAAAAAAAAAAAAAAAAAAAAAAAAAAAAAAAAAAAAAAAAAAAAAAAAAAAAAAAAAAAAAAAAAAAAAAAAAAAAAAAAAAAAAAAAAAAAAAAAAAAAAAAAAAAAAAAAAAAAAAAAAAAAAAAAAAAAAAAAAAAAAAAAAAAAAAAAAAAAAAAAABKbq1kQ0FePwkwRxQCIH4/R5ojzeD1mD9iHzm+MUixPyakXHijHMQ/j9lVBNTS0z8+2J/sOLrgPyuUGbpjheg/oTgiaIvT7z+8yg00urnyPxMLKrGIhPQ/gqjHRlt99T8SlyFhHvv1P0vpqk1dQvY/fVMb5YBy9j+vgkBcZ4/2P304ex5ElfY/uGy/2daG9j8xmWknFG72P8sVBhEUVPY/nDJOrCI89j9KIHp77Cb2PykmnlR6F/Y/ZmBZ0LkS9j+t3YCtiRr2P6cHk1OGKvY/hevZcDk69j/IDH9fgkL2P7ptmvjOQPY/llokMkk19j+dynXfjR/2P/YwobeI//U/qDXDsDnZ9T941jvN/bP1P2F5YyyOk/U/IegZPg1z9T9bIg25LEn1P0NfoAX/EPU/YXff967N9D9XNUStM4b0P9hyLGfsPvQ/P2CSdwr48z8N/I9lgLHzP2TWjE7UbvM/751w90Y18z8M7UWDlAXzP+zey3Za2PI/jca+09mh8j93qVvnMVryPw+h41LMAvI/ZEGwp7Gk8T/A0PdZKUrxP4pw7SIr+fA/fBYVA4Sx8D9rA2+mHG7wP3PKW5FGKPA/85L9mrm37z9VVtS6EhPvP5qQskm/ae4/ooFr+s6/7T8V3egDqhHtP0aE5CHuWOw/wPE4NNKU6z9PKJohU8zqP5E68NUOCeo/8Al6+OtR6T+NSc8V+6joPzNYaRfoCeg/z67gRExp5z9UA2vnQLnmP/y4lffM8uU/rnv3Xmwc5T/9SgJHgEbkP/BoLllff+M/H6mImTPJ4j9Y4W/5txriP5TgWEmOaeE/VkPGR7qz4D8UorqBjf7fPzlDpHB3o94/eygjPvdS3T9CuPVxDwDcP9mF4ww1o9o/BOrG04xC2T/SEwwwgOzXP7awqQ+wrdY/MO39cE6L1T8JusqR3X7UPzVF6gu7bNM/+2Y5jlYb0j/wt2UL9j7QPwKxymTVTMs/l4pL48LhxD9oz9gftF28P5hiyfNuxbA/gZOys9cBoT/F1Ypk2UGNP0nlx4G8LHU/hDyxxj2jWT9+SBPMp9k5Pw==\",\"dtype\":\"float64\",\"order\":\"little\",\"shape\":[200]}},\"selected\":{\"id\":\"4973\"},\"selection_policy\":{\"id\":\"5117\"}},\"id\":\"4972\",\"type\":\"ColumnDataSource\"},{\"attributes\":{\"axis\":{\"id\":\"5007\"},\"coordinates\":null,\"dimension\":1,\"grid_line_color\":null,\"group\":null,\"ticker\":null},\"id\":\"5010\",\"type\":\"Grid\"},{\"attributes\":{},\"id\":\"4960\",\"type\":\"PanTool\"},{\"attributes\":{\"fill_alpha\":0.2,\"fill_color\":\"#30a2da\",\"hatch_alpha\":0.2,\"hatch_color\":\"#30a2da\",\"line_alpha\":0.2,\"tags\":[\"apply_ranges\"],\"x\":{\"field\":\"x\"},\"y\":{\"field\":\"y\"}},\"id\":\"5029\",\"type\":\"Patch\"},{\"attributes\":{\"below\":[{\"id\":\"5055\"}],\"center\":[{\"id\":\"5058\"},{\"id\":\"5062\"}],\"height\":300,\"left\":[{\"id\":\"5059\"}],\"margin\":null,\"min_border_bottom\":10,\"min_border_left\":10,\"min_border_right\":10,\"min_border_top\":10,\"output_backend\":\"webgl\",\"renderers\":[{\"id\":\"5082\"}],\"sizing_mode\":\"fixed\",\"title\":{\"id\":\"5047\"},\"toolbar\":{\"id\":\"5069\"},\"toolbar_location\":null,\"width\":300,\"x_range\":{\"id\":\"4885\"},\"x_scale\":{\"id\":\"5053\"},\"y_range\":{\"id\":\"4886\"},\"y_scale\":{\"id\":\"5054\"}},\"id\":\"5046\",\"subtype\":\"Figure\",\"type\":\"Plot\"},{\"attributes\":{\"coordinates\":null,\"data_source\":{\"id\":\"4920\"},\"glyph\":{\"id\":\"4923\"},\"group\":null,\"hover_glyph\":null,\"muted_glyph\":{\"id\":\"4925\"},\"nonselection_glyph\":{\"id\":\"4924\"},\"selection_glyph\":{\"id\":\"4928\"},\"view\":{\"id\":\"4927\"}},\"id\":\"4926\",\"type\":\"GlyphRenderer\"},{\"attributes\":{\"fill_alpha\":0.5,\"fill_color\":\"#30a2da\",\"hatch_color\":\"#30a2da\",\"tags\":[\"apply_ranges\"],\"x\":{\"field\":\"x\"},\"y\":{\"field\":\"y\"}},\"id\":\"5027\",\"type\":\"Patch\"},{\"attributes\":{\"bottom_units\":\"screen\",\"coordinates\":null,\"fill_alpha\":0.5,\"fill_color\":\"lightgrey\",\"group\":null,\"left_units\":\"screen\",\"level\":\"overlay\",\"line_alpha\":1.0,\"line_color\":\"black\",\"line_dash\":[4,4],\"line_width\":2,\"right_units\":\"screen\",\"syncable\":false,\"top_units\":\"screen\"},\"id\":\"5016\",\"type\":\"BoxAnnotation\"},{\"attributes\":{\"overlay\":{\"id\":\"5016\"}},\"id\":\"5014\",\"type\":\"BoxZoomTool\"},{\"attributes\":{},\"id\":\"5117\",\"type\":\"UnionRenderers\"},{\"attributes\":{\"data\":{\"x\":{\"__ndarray__\":\"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\",\"dtype\":\"float64\",\"order\":\"little\",\"shape\":[200]},\"y\":{\"__ndarray__\":\"AAAAAAAAAAAAAAAAAAAAAAAAAAAAAAAAAAAAAAAAAAAAAAAAAAAAAAAAAAAAAAAAAAAAAAAAAAAAAAAAAAAAAAAAAAAAAAAAAAAAAAAAAAAAAAAAAAAAAAAAAAAAAAAAAAAAAAAAAAAAAAAAAAAAAAAAAAAAAAAAAAAAAAAAAAAAAAAAAAAAAAAAAAAAAAAAAAAAAAAAAAAAAAAAAAAAAAAAAAAAAAAAAAAAAAAAAAAAAAAAAAAAAAAAAAAAAAAAAAAAAAAAAAAAAAAAAAAAAAAAAAAAAAAAAAAAAAAAAAAAAAAAAAAAAAAAAAAAAAAAAAAAAAAAAAAAAAAAAAAAAAAAAAAAAAAAAAAAAAAAAAAAAAAAAAAAAAAAAAAAAAAAAAAAAAAAAAAAAAAAAAAAAAAAAAAAAAAAAAAAAAAAAAAAAAAAAAAAAAAAAAAAAAAAAAAAAAAAAAAAAAAAAAAAAAAAAAAAAAAAAAAAAAAAAAAAAAAAAAAAAAAAAAAAAAAAAAAAAAAAAAAAAAAAAAAAAAAAAAAAAAAAAAAAAAAAAAAAAAAAAAAAAAAAAAAAAAAAAAAAAAAAAAAAAAAAAAAAAAAAAAAAAAAAAAAAAAAAAAAAAAAAAAAAAAAAAAAAAAAAAAAAAAAAAAAAAAAAAAAAAAAAAAAAAAAAAAAAAAAAAAAAAAAAAAAAAAAAAAAAAAAAAAAAAAAAAAAAAAAAAAAAAAAAAAAAAAAAAAAAAAAAAAAAAAAAAAAAAAAAAAAAAAAAAAAAAAAAAAAAAAAAAAAAAAAAAAAAAAAAAAAAAAAAAAAAAAAAAAAAAAAAAAAAAAAAAAAAAAAAAAAAAAAAAAAAAAAAAAAAAAAAAAAAAAAAAAAAAAAAAAAAAAAAAAAAAAAAAAAAAAAAAAAAAAAAAAAAAAAAAAAAAAAAAAAAAAAAAAAAAAAAAAAAAAAAAAAAAAAAAAAAAAAAAAAAAAAAAAAAAAAAAAAAAAAAAAAAAAAAAAAAAAAAAAAAAAAAAAAAAAAAAAAAAAAAAAAAAAAAAAAAAAAAAAAAAAAAAAAAAAAAAAD/+a5BlTpqPxjO37U5Log/0Y4MEVvwoj+EWqGH+0q5PxwtaMZa7sw/EdnypvGD3D8gAWZ5kGnoP1xSk6ItWPI/OlbcZ0SH+D8+Xz1BKa39P3lZNhw5kgBA3qek5/hzAUBkVjyWpbABQIF9dWEBiQFAYJBcHlMtAUAfNt8goLkAQIgrhzW9PgBACCw4+7qS/z/Ct/DYA8T+P0yL/CIlFP4/jguNBsV3/T+ID9Vhsd38P6XIktRPOfw/KaTQ+tqH+z8LwWXoOc76P5HhJ1BUE/o/eiK4zm9c+T//+YQsP634PzFq4Fm0CPg/sThS6dRv9z9xoAKkC+D2P4QsFKmFVPY/rYaAWpDK9T+7UpKxTET1PyO7VW84xvQ/4YwLSM5R9D/nlBAfduLzP8latxiUb/M/tq4rvFfy8j+sYkCu6GryP2kPwJE44PE/gdsIg+RZ8T8VcB26tNnwPxWUKqo/W/A/a/fgmKyz7z/h+vSbvqzuP1J/fUDZru0/Vfn+LGTI7D9ZQqXAeP/rP352Oad4UOs/QgOUX1Gy6j8wjI1NihnqP1omb+q/eOk/kusxM57D6D9sgq5PuvbnP1yjhaI8Hec/cA60Rd5K5j+R/R3RnYzlP8YwhmRk3+Q/l84bKq825D98MpX9u4rjP7Ux3+0x3uI/WzUTjsU34j/32mh7QZrhP4c7JCmWA+E/3YVnktlw4D8ZFlTqY8HfPxihDJ/zo94/0OequVqD3T/zHrXW1VfcPyN3Opc1INs/Fy1z3pjn2T+jEqwKtb/YP+wndSzQstc/qNtA6Qm71j/ghV+Fn8fVP0uffsO7ytQ/n9AZKdXD0z+p54yAsr/SP+4UxPN1z9E/k/z9AGP90D8oMLdTH0fQPyY7E6hCQs8/5spAvikAzj8lizIl3MHMP1nfp/AWk8s/ZvaU2PJ/yj8NcxNBe3jJPyzg73mHPcg/U6KFkJhtxj9TVbU2ALfDPzmSjvJ2FcA/GMpnPJvatz/Pe5w/55qvP37TAKWGcqI/jDp/XqvEkj/RvLMHSoCAP3O3FJ4X6Wg/Ax6QGYgPUD9U+LEnuJ4xPw==\",\"dtype\":\"float64\",\"order\":\"little\",\"shape\":[200]}},\"selected\":{\"id\":\"4921\"},\"selection_policy\":{\"id\":\"5106\"}},\"id\":\"4920\",\"type\":\"ColumnDataSource\"},{\"attributes\":{\"fill_alpha\":0.2,\"fill_color\":\"#30a2da\",\"hatch_alpha\":0.2,\"hatch_color\":\"#30a2da\",\"line_alpha\":0.2,\"tags\":[\"apply_ranges\"],\"x\":{\"field\":\"x\"},\"y\":{\"field\":\"y\"}},\"id\":\"5081\",\"type\":\"Patch\"},{\"attributes\":{\"below\":[{\"id\":\"5003\"}],\"center\":[{\"id\":\"5006\"},{\"id\":\"5010\"}],\"height\":300,\"left\":[{\"id\":\"5007\"}],\"margin\":null,\"min_border_bottom\":10,\"min_border_left\":10,\"min_border_right\":10,\"min_border_top\":10,\"output_backend\":\"webgl\",\"renderers\":[{\"id\":\"5030\"}],\"sizing_mode\":\"fixed\",\"title\":{\"id\":\"4995\"},\"toolbar\":{\"id\":\"5017\"},\"toolbar_location\":null,\"width\":300,\"x_range\":{\"id\":\"4885\"},\"x_scale\":{\"id\":\"5001\"},\"y_range\":{\"id\":\"4886\"},\"y_scale\":{\"id\":\"5002\"}},\"id\":\"4994\",\"subtype\":\"Figure\",\"type\":\"Plot\"},{\"attributes\":{\"children\":[{\"id\":\"5145\"},{\"id\":\"5143\"}]},\"id\":\"5146\",\"type\":\"Column\"},{\"attributes\":{\"toolbars\":[{\"id\":\"4913\"},{\"id\":\"4965\"},{\"id\":\"5017\"},{\"id\":\"5069\"}],\"tools\":[{\"id\":\"4889\"},{\"id\":\"4907\"},{\"id\":\"4908\"},{\"id\":\"4909\"},{\"id\":\"4910\"},{\"id\":\"4911\"},{\"id\":\"4941\"},{\"id\":\"4959\"},{\"id\":\"4960\"},{\"id\":\"4961\"},{\"id\":\"4962\"},{\"id\":\"4963\"},{\"id\":\"4993\"},{\"id\":\"5011\"},{\"id\":\"5012\"},{\"id\":\"5013\"},{\"id\":\"5014\"},{\"id\":\"5015\"},{\"id\":\"5045\"},{\"id\":\"5063\"},{\"id\":\"5064\"},{\"id\":\"5065\"},{\"id\":\"5066\"},{\"id\":\"5067\"}]},\"id\":\"5144\",\"type\":\"ProxyToolbar\"},{\"attributes\":{},\"id\":\"5053\",\"type\":\"LinearScale\"},{\"attributes\":{},\"id\":\"5087\",\"type\":\"AllLabels\"},{\"attributes\":{\"axis_label\":\"Density\",\"coordinates\":null,\"formatter\":{\"id\":\"4985\"},\"group\":null,\"major_label_policy\":{\"id\":\"4986\"},\"ticker\":{\"id\":\"4956\"}},\"id\":\"4955\",\"type\":\"LinearAxis\"},{\"attributes\":{\"fill_alpha\":0.5,\"fill_color\":\"#30a2da\",\"hatch_color\":\"#30a2da\",\"tags\":[\"apply_ranges\"],\"x\":{\"field\":\"x\"},\"y\":{\"field\":\"y\"}},\"id\":\"4923\",\"type\":\"Patch\"},{\"attributes\":{\"axis\":{\"id\":\"5055\"},\"coordinates\":null,\"grid_line_color\":null,\"group\":null,\"ticker\":null},\"id\":\"5058\",\"type\":\"Grid\"},{\"attributes\":{},\"id\":\"4934\",\"type\":\"AllLabels\"},{\"attributes\":{},\"id\":\"5015\",\"type\":\"ResetTool\"},{\"attributes\":{\"source\":{\"id\":\"5076\"}},\"id\":\"5083\",\"type\":\"CDSView\"},{\"attributes\":{},\"id\":\"5139\",\"type\":\"UnionRenderers\"},{\"attributes\":{\"fill_alpha\":0.2,\"fill_color\":\"#30a2da\",\"hatch_alpha\":0.2,\"hatch_color\":\"#30a2da\",\"line_alpha\":0.2,\"tags\":[\"apply_ranges\"],\"x\":{\"field\":\"x\"},\"y\":{\"field\":\"y\"}},\"id\":\"4925\",\"type\":\"Patch\"},{\"attributes\":{\"coordinates\":null,\"group\":null,\"text\":\"sat: STA\",\"text_color\":\"black\",\"text_font_size\":\"12pt\"},\"id\":\"4943\",\"type\":\"Title\"},{\"attributes\":{\"fill_alpha\":0.5,\"fill_color\":\"#30a2da\",\"hatch_color\":\"#30a2da\",\"tags\":[\"apply_ranges\"],\"x\":{\"field\":\"x\"},\"y\":{\"field\":\"y\"}},\"id\":\"5079\",\"type\":\"Patch\"},{\"attributes\":{},\"id\":\"5063\",\"type\":\"SaveTool\"},{\"attributes\":{},\"id\":\"5056\",\"type\":\"BasicTicker\"},{\"attributes\":{\"axis_label\":\"k_x\",\"coordinates\":null,\"formatter\":{\"id\":\"5086\"},\"group\":null,\"major_label_policy\":{\"id\":\"5087\"},\"ticker\":{\"id\":\"5056\"}},\"id\":\"5055\",\"type\":\"LinearAxis\"},{\"attributes\":{\"bottom_units\":\"screen\",\"coordinates\":null,\"fill_alpha\":0.5,\"fill_color\":\"lightgrey\",\"group\":null,\"left_units\":\"screen\",\"level\":\"overlay\",\"line_alpha\":1.0,\"line_color\":\"black\",\"line_dash\":[4,4],\"line_width\":2,\"right_units\":\"screen\",\"syncable\":false,\"top_units\":\"screen\"},\"id\":\"4912\",\"type\":\"BoxAnnotation\"}],\"root_ids\":[\"4884\"]},\"title\":\"Bokeh Application\",\"version\":\"2.4.3\"}};\n",
       "    var render_items = [{\"docid\":\"14d187ad-34dc-401a-8645-48def13b2d4a\",\"root_ids\":[\"4884\"],\"roots\":{\"4884\":\"d5d6c557-5e62-4e56-a709-a6e5dcdeb549\"}}];\n",
       "    root.Bokeh.embed.embed_items_notebook(docs_json, render_items);\n",
       "    for (const render_item of render_items) {\n",
       "      for (const root_id of render_item.root_ids) {\n",
       "\tconst id_el = document.getElementById(root_id)\n",
       "\tif (id_el.children.length && (id_el.children[0].className === 'bk-root')) {\n",
       "\t  const root_el = id_el.children[0]\n",
       "\t  root_el.id = root_el.id + '-rendered'\n",
       "\t}\n",
       "      }\n",
       "    }\n",
       "  }\n",
       "  if (root.Bokeh !== undefined && root.Bokeh.Panel !== undefined) {\n",
       "    embed_document(root);\n",
       "  } else {\n",
       "    var attempts = 0;\n",
       "    var timer = setInterval(function(root) {\n",
       "      if (root.Bokeh !== undefined && root.Bokeh.Panel !== undefined) {\n",
       "        clearInterval(timer);\n",
       "        embed_document(root);\n",
       "      } else if (document.readyState == \"complete\") {\n",
       "        attempts++;\n",
       "        if (attempts > 200) {\n",
       "          clearInterval(timer);\n",
       "          console.log(\"Bokeh: ERROR: Unable to run BokehJS code because BokehJS library is missing\");\n",
       "        }\n",
       "      }\n",
       "    }, 25, root)\n",
       "  }\n",
       "})(window);</script>"
      ],
      "text/plain": [
       "\n",
       ":NdLayout   \u001b[1m[\u001b[0msat\u001b[1m]\u001b[0m\n",
       "   :Distribution   \u001b[1m[\u001b[0mk_x\u001b[1m]\u001b[0m   \u001b[1m(\u001b[0mDensity\u001b[1m)\u001b[0m"
      ]
     },
     "execution_count": 64,
     "metadata": {
      "application/vnd.holoviews_exec.v0+json": {
       "id": "4884"
      }
     },
     "output_type": "execute_result"
    }
   ],
   "source": [
    "dist_plot(all_events_l1, \"k_x\")"
   ]
  },
  {
   "cell_type": "markdown",
   "metadata": {},
   "source": [
    "### Evolution"
   ]
  },
  {
   "cell_type": "code",
   "execution_count": 72,
   "metadata": {},
   "outputs": [
    {
     "name": "stdout",
     "output_type": "stream",
     "text": [
      "Saving 6.67 x 6.67 in image\n",
      "Error in `geom_line()`:\n",
      "! Problem while computing aesthetics.\n",
      "ℹ Error occurred in the 1st layer.\n",
      "Caused by error in `.data[[\"k_y\"]]`:\n",
      "! Column `k_y` not found in `.data`.\n",
      "Run `rlang::last_trace()` to see where the error occurred.\n",
      "Warning message:\n",
      "Removed 19 rows containing missing values (`geom_point()`).\n",
      "Error in geom_line() : \n",
      "ℹ Error occurred in the 1st layer.\n",
      "Caused by error in `.data[[\"k_y\"]]`:\n",
      "! Column `k_y` not found in `.data`.\n"
     ]
    },
    {
     "data": {
      "text/html": [
       "<pre style=\"white-space:pre;overflow-x:auto;line-height:normal;font-family:Menlo,'DejaVu Sans Mono',consolas,'Courier New',monospace\"><span style=\"color: #800000; text-decoration-color: #800000\">╭─────────────────────────────── </span><span style=\"color: #800000; text-decoration-color: #800000; font-weight: bold\">Traceback </span><span style=\"color: #bf7f7f; text-decoration-color: #bf7f7f; font-weight: bold\">(most recent call last)</span><span style=\"color: #800000; text-decoration-color: #800000\"> ────────────────────────────────╮</span>\n",
       "<span style=\"color: #800000; text-decoration-color: #800000\">│</span> <span style=\"color: #bfbf7f; text-decoration-color: #bfbf7f\">/Users/zijin/miniforge3/envs/cool_planet/lib/python3.10/site-packages/rpy2/ipython/</span><span style=\"color: #808000; text-decoration-color: #808000; font-weight: bold\">rmagic.py</span>:<span style=\"color: #0000ff; text-decoration-color: #0000ff\">401</span> <span style=\"color: #800000; text-decoration-color: #800000\">│</span>\n",
       "<span style=\"color: #800000; text-decoration-color: #800000\">│</span> in <span style=\"color: #00ff00; text-decoration-color: #00ff00\">eval</span>                                                                                          <span style=\"color: #800000; text-decoration-color: #800000\">│</span>\n",
       "<span style=\"color: #800000; text-decoration-color: #800000\">│</span>                                                                                                  <span style=\"color: #800000; text-decoration-color: #800000\">│</span>\n",
       "<span style=\"color: #800000; text-decoration-color: #800000\">│</span>   <span style=\"color: #7f7f7f; text-decoration-color: #7f7f7f\"> 398 </span><span style=\"color: #7f7f7f; text-decoration-color: #7f7f7f\">│   │   │   </span><span style=\"color: #0000ff; text-decoration-color: #0000ff\">try</span>:                                                                          <span style=\"color: #800000; text-decoration-color: #800000\">│</span>\n",
       "<span style=\"color: #800000; text-decoration-color: #800000\">│</span>   <span style=\"color: #7f7f7f; text-decoration-color: #7f7f7f\"> 399 </span><span style=\"color: #7f7f7f; text-decoration-color: #7f7f7f\">│   │   │   │   </span><span style=\"color: #7f7f7f; text-decoration-color: #7f7f7f\"># Need the newline in case the last line in code is a comment.</span>            <span style=\"color: #800000; text-decoration-color: #800000\">│</span>\n",
       "<span style=\"color: #800000; text-decoration-color: #800000\">│</span>   <span style=\"color: #7f7f7f; text-decoration-color: #7f7f7f\"> 400 </span><span style=\"color: #7f7f7f; text-decoration-color: #7f7f7f\">│   │   │   │   </span>r_expr = ri.parse(code)                                                   <span style=\"color: #800000; text-decoration-color: #800000\">│</span>\n",
       "<span style=\"color: #800000; text-decoration-color: #800000\">│</span> <span style=\"color: #800000; text-decoration-color: #800000\">❱ </span> 401 <span style=\"color: #7f7f7f; text-decoration-color: #7f7f7f\">│   │   │   │   </span>value, visible = ri.evalr_expr_with_visible(                              <span style=\"color: #800000; text-decoration-color: #800000\">│</span>\n",
       "<span style=\"color: #800000; text-decoration-color: #800000\">│</span>   <span style=\"color: #7f7f7f; text-decoration-color: #7f7f7f\"> 402 </span><span style=\"color: #7f7f7f; text-decoration-color: #7f7f7f\">│   │   │   │   │   </span>r_expr                                                                <span style=\"color: #800000; text-decoration-color: #800000\">│</span>\n",
       "<span style=\"color: #800000; text-decoration-color: #800000\">│</span>   <span style=\"color: #7f7f7f; text-decoration-color: #7f7f7f\"> 403 </span><span style=\"color: #7f7f7f; text-decoration-color: #7f7f7f\">│   │   │   │   </span>)                                                                         <span style=\"color: #800000; text-decoration-color: #800000\">│</span>\n",
       "<span style=\"color: #800000; text-decoration-color: #800000\">│</span>   <span style=\"color: #7f7f7f; text-decoration-color: #7f7f7f\"> 404 </span><span style=\"color: #7f7f7f; text-decoration-color: #7f7f7f\">│   │   │   </span><span style=\"color: #0000ff; text-decoration-color: #0000ff\">except</span> (ri.embedded.RRuntimeError, <span style=\"color: #00ffff; text-decoration-color: #00ffff\">ValueError</span>) <span style=\"color: #0000ff; text-decoration-color: #0000ff\">as</span> exception:                  <span style=\"color: #800000; text-decoration-color: #800000\">│</span>\n",
       "<span style=\"color: #800000; text-decoration-color: #800000\">│</span>                                                                                                  <span style=\"color: #800000; text-decoration-color: #800000\">│</span>\n",
       "<span style=\"color: #800000; text-decoration-color: #800000\">│</span> <span style=\"color: #bfbf7f; text-decoration-color: #bfbf7f\">/Users/zijin/miniforge3/envs/cool_planet/lib/python3.10/site-packages/rpy2/</span><span style=\"color: #808000; text-decoration-color: #808000; font-weight: bold\">rinterface.py</span>:<span style=\"color: #0000ff; text-decoration-color: #0000ff\">196</span> in  <span style=\"color: #800000; text-decoration-color: #800000\">│</span>\n",
       "<span style=\"color: #800000; text-decoration-color: #800000\">│</span> <span style=\"color: #00ff00; text-decoration-color: #00ff00\">evalr_expr_with_visible</span>                                                                          <span style=\"color: #800000; text-decoration-color: #800000\">│</span>\n",
       "<span style=\"color: #800000; text-decoration-color: #800000\">│</span>                                                                                                  <span style=\"color: #800000; text-decoration-color: #800000\">│</span>\n",
       "<span style=\"color: #800000; text-decoration-color: #800000\">│</span>   <span style=\"color: #7f7f7f; text-decoration-color: #7f7f7f\"> 193 </span><span style=\"color: #7f7f7f; text-decoration-color: #7f7f7f\">│   │   │   │   │   </span>error_occured)                                                        <span style=\"color: #800000; text-decoration-color: #800000\">│</span>\n",
       "<span style=\"color: #800000; text-decoration-color: #800000\">│</span>   <span style=\"color: #7f7f7f; text-decoration-color: #7f7f7f\"> 194 </span><span style=\"color: #7f7f7f; text-decoration-color: #7f7f7f\">│   │   </span>)                                                                                 <span style=\"color: #800000; text-decoration-color: #800000\">│</span>\n",
       "<span style=\"color: #800000; text-decoration-color: #800000\">│</span>   <span style=\"color: #7f7f7f; text-decoration-color: #7f7f7f\"> 195 </span><span style=\"color: #7f7f7f; text-decoration-color: #7f7f7f\">│   │   </span><span style=\"color: #0000ff; text-decoration-color: #0000ff\">if</span> error_occured[<span style=\"color: #0000ff; text-decoration-color: #0000ff\">0</span>]:                                                              <span style=\"color: #800000; text-decoration-color: #800000\">│</span>\n",
       "<span style=\"color: #800000; text-decoration-color: #800000\">│</span> <span style=\"color: #800000; text-decoration-color: #800000\">❱ </span> 196 <span style=\"color: #7f7f7f; text-decoration-color: #7f7f7f\">│   │   │   </span><span style=\"color: #0000ff; text-decoration-color: #0000ff\">raise</span> embedded.RRuntimeError(_rinterface._geterrmessage())                    <span style=\"color: #800000; text-decoration-color: #800000\">│</span>\n",
       "<span style=\"color: #800000; text-decoration-color: #800000\">│</span>   <span style=\"color: #7f7f7f; text-decoration-color: #7f7f7f\"> 197 </span><span style=\"color: #7f7f7f; text-decoration-color: #7f7f7f\">│   │   </span>res = conversion._cdata_to_rinterface(r_res)                                      <span style=\"color: #800000; text-decoration-color: #800000\">│</span>\n",
       "<span style=\"color: #800000; text-decoration-color: #800000\">│</span>   <span style=\"color: #7f7f7f; text-decoration-color: #7f7f7f\"> 198 </span><span style=\"color: #7f7f7f; text-decoration-color: #7f7f7f\">│   │   </span><span style=\"color: #0000ff; text-decoration-color: #0000ff\">assert</span> <span style=\"color: #00ffff; text-decoration-color: #00ffff\">isinstance</span>(res, ListSexpVector)                                            <span style=\"color: #800000; text-decoration-color: #800000\">│</span>\n",
       "<span style=\"color: #800000; text-decoration-color: #800000\">│</span>   <span style=\"color: #7f7f7f; text-decoration-color: #7f7f7f\"> 199 </span><span style=\"color: #7f7f7f; text-decoration-color: #7f7f7f\">│   </span><span style=\"color: #0000ff; text-decoration-color: #0000ff\">return</span> res                                                                            <span style=\"color: #800000; text-decoration-color: #800000\">│</span>\n",
       "<span style=\"color: #800000; text-decoration-color: #800000\">╰──────────────────────────────────────────────────────────────────────────────────────────────────╯</span>\n",
       "<span style=\"color: #ff0000; text-decoration-color: #ff0000; font-weight: bold\">RRuntimeError: </span>Error in <span style=\"color: #800080; text-decoration-color: #800080; font-weight: bold\">geom_line</span><span style=\"font-weight: bold\">()</span> : \n",
       "ℹ Error occurred in the 1st layer.\n",
       "Caused by error in `.data<span style=\"font-weight: bold\">[[</span><span style=\"color: #008000; text-decoration-color: #008000\">\"k_y\"</span><span style=\"font-weight: bold\">]]</span>`:\n",
       "! Column `k_y` not found in `.data`.\n",
       "\n",
       "\n",
       "<span style=\"font-style: italic\">During handling of the above exception, another exception occurred:</span>\n",
       "\n",
       "<span style=\"color: #800000; text-decoration-color: #800000\">╭─────────────────────────────── </span><span style=\"color: #800000; text-decoration-color: #800000; font-weight: bold\">Traceback </span><span style=\"color: #bf7f7f; text-decoration-color: #bf7f7f; font-weight: bold\">(most recent call last)</span><span style=\"color: #800000; text-decoration-color: #800000\"> ────────────────────────────────╮</span>\n",
       "<span style=\"color: #800000; text-decoration-color: #800000\">│</span> in <span style=\"color: #00ff00; text-decoration-color: #00ff00\">&lt;module&gt;</span>:<span style=\"color: #0000ff; text-decoration-color: #0000ff\">1</span>                                                                                    <span style=\"color: #800000; text-decoration-color: #800000\">│</span>\n",
       "<span style=\"color: #800000; text-decoration-color: #800000\">│</span>                                                                                                  <span style=\"color: #800000; text-decoration-color: #800000\">│</span>\n",
       "<span style=\"color: #800000; text-decoration-color: #800000\">│</span> <span style=\"color: #800000; text-decoration-color: #800000\">❱ </span>1 get_ipython().run_cell_magic(<span style=\"color: #808000; text-decoration-color: #808000\">'R'</span>, <span style=\"color: #808000; text-decoration-color: #808000\">''</span>, <span style=\"color: #808000; text-decoration-color: #808000\">'x_var &lt;- \"time\"\\ny_vars &lt;- c(\"k_x\", \"k_y\", \"k_z\")</span>     <span style=\"color: #800000; text-decoration-color: #800000\">│</span>\n",
       "<span style=\"color: #800000; text-decoration-color: #800000\">│</span>   <span style=\"color: #7f7f7f; text-decoration-color: #7f7f7f\">2 </span>                                                                                             <span style=\"color: #800000; text-decoration-color: #800000\">│</span>\n",
       "<span style=\"color: #800000; text-decoration-color: #800000\">│</span>                                                                                                  <span style=\"color: #800000; text-decoration-color: #800000\">│</span>\n",
       "<span style=\"color: #800000; text-decoration-color: #800000\">│</span> <span style=\"color: #bfbf7f; text-decoration-color: #bfbf7f\">/Users/zijin/miniforge3/envs/cool_planet/lib/python3.10/site-packages/IPython/core/</span><span style=\"color: #808000; text-decoration-color: #808000; font-weight: bold\">interactivesh</span> <span style=\"color: #800000; text-decoration-color: #800000\">│</span>\n",
       "<span style=\"color: #800000; text-decoration-color: #800000\">│</span> <span style=\"color: #808000; text-decoration-color: #808000; font-weight: bold\">ell.py</span>:<span style=\"color: #0000ff; text-decoration-color: #0000ff\">2493</span> in <span style=\"color: #00ff00; text-decoration-color: #00ff00\">run_cell_magic</span>                                                                    <span style=\"color: #800000; text-decoration-color: #800000\">│</span>\n",
       "<span style=\"color: #800000; text-decoration-color: #800000\">│</span>                                                                                                  <span style=\"color: #800000; text-decoration-color: #800000\">│</span>\n",
       "<span style=\"color: #800000; text-decoration-color: #800000\">│</span>   <span style=\"color: #7f7f7f; text-decoration-color: #7f7f7f\">2490 </span><span style=\"color: #7f7f7f; text-decoration-color: #7f7f7f\">│   │   │   </span>                                                                              <span style=\"color: #800000; text-decoration-color: #800000\">│</span>\n",
       "<span style=\"color: #800000; text-decoration-color: #800000\">│</span>   <span style=\"color: #7f7f7f; text-decoration-color: #7f7f7f\">2491 </span><span style=\"color: #7f7f7f; text-decoration-color: #7f7f7f\">│   │   │   </span><span style=\"color: #0000ff; text-decoration-color: #0000ff\">with</span> <span style=\"color: #00ffff; text-decoration-color: #00ffff\">self</span>.builtin_trap:                                                       <span style=\"color: #800000; text-decoration-color: #800000\">│</span>\n",
       "<span style=\"color: #800000; text-decoration-color: #800000\">│</span>   <span style=\"color: #7f7f7f; text-decoration-color: #7f7f7f\">2492 </span><span style=\"color: #7f7f7f; text-decoration-color: #7f7f7f\">│   │   │   │   </span>args = (magic_arg_s, cell)                                                <span style=\"color: #800000; text-decoration-color: #800000\">│</span>\n",
       "<span style=\"color: #800000; text-decoration-color: #800000\">│</span> <span style=\"color: #800000; text-decoration-color: #800000\">❱ </span>2493 <span style=\"color: #7f7f7f; text-decoration-color: #7f7f7f\">│   │   │   │   </span>result = fn(*args, **kwargs)                                              <span style=\"color: #800000; text-decoration-color: #800000\">│</span>\n",
       "<span style=\"color: #800000; text-decoration-color: #800000\">│</span>   <span style=\"color: #7f7f7f; text-decoration-color: #7f7f7f\">2494 </span><span style=\"color: #7f7f7f; text-decoration-color: #7f7f7f\">│   │   │   </span>                                                                              <span style=\"color: #800000; text-decoration-color: #800000\">│</span>\n",
       "<span style=\"color: #800000; text-decoration-color: #800000\">│</span>   <span style=\"color: #7f7f7f; text-decoration-color: #7f7f7f\">2495 </span><span style=\"color: #7f7f7f; text-decoration-color: #7f7f7f\">│   │   │   </span><span style=\"color: #7f7f7f; text-decoration-color: #7f7f7f\"># The code below prevents the output from being displayed</span>                     <span style=\"color: #800000; text-decoration-color: #800000\">│</span>\n",
       "<span style=\"color: #800000; text-decoration-color: #800000\">│</span>   <span style=\"color: #7f7f7f; text-decoration-color: #7f7f7f\">2496 </span><span style=\"color: #7f7f7f; text-decoration-color: #7f7f7f\">│   │   │   </span><span style=\"color: #7f7f7f; text-decoration-color: #7f7f7f\"># when using magics with decorator @output_can_be_silenced</span>                    <span style=\"color: #800000; text-decoration-color: #800000\">│</span>\n",
       "<span style=\"color: #800000; text-decoration-color: #800000\">│</span>                                                                                                  <span style=\"color: #800000; text-decoration-color: #800000\">│</span>\n",
       "<span style=\"color: #800000; text-decoration-color: #800000\">│</span> <span style=\"color: #bfbf7f; text-decoration-color: #bfbf7f\">/Users/zijin/miniforge3/envs/cool_planet/lib/python3.10/site-packages/rpy2/ipython/</span><span style=\"color: #808000; text-decoration-color: #808000; font-weight: bold\">rmagic.py</span>:<span style=\"color: #0000ff; text-decoration-color: #0000ff\">978</span> <span style=\"color: #800000; text-decoration-color: #800000\">│</span>\n",
       "<span style=\"color: #800000; text-decoration-color: #800000\">│</span> in <span style=\"color: #00ff00; text-decoration-color: #00ff00\">R</span>                                                                                             <span style=\"color: #800000; text-decoration-color: #800000\">│</span>\n",
       "<span style=\"color: #800000; text-decoration-color: #800000\">│</span>                                                                                                  <span style=\"color: #800000; text-decoration-color: #800000\">│</span>\n",
       "<span style=\"color: #800000; text-decoration-color: #800000\">│</span>   <span style=\"color: #7f7f7f; text-decoration-color: #7f7f7f\"> 975 </span><span style=\"color: #7f7f7f; text-decoration-color: #7f7f7f\">│   │   │   </span><span style=\"color: #00ffff; text-decoration-color: #00ffff\">print</span>(e.stdout)                                                               <span style=\"color: #800000; text-decoration-color: #800000\">│</span>\n",
       "<span style=\"color: #800000; text-decoration-color: #800000\">│</span>   <span style=\"color: #7f7f7f; text-decoration-color: #7f7f7f\"> 976 </span><span style=\"color: #7f7f7f; text-decoration-color: #7f7f7f\">│   │   │   </span><span style=\"color: #0000ff; text-decoration-color: #0000ff\">if</span> <span style=\"color: #ff00ff; text-decoration-color: #ff00ff\">not</span> e.stdout.endswith(e.err):                                              <span style=\"color: #800000; text-decoration-color: #800000\">│</span>\n",
       "<span style=\"color: #800000; text-decoration-color: #800000\">│</span>   <span style=\"color: #7f7f7f; text-decoration-color: #7f7f7f\"> 977 </span><span style=\"color: #7f7f7f; text-decoration-color: #7f7f7f\">│   │   │   │   </span><span style=\"color: #00ffff; text-decoration-color: #00ffff\">print</span>(e.err)                                                              <span style=\"color: #800000; text-decoration-color: #800000\">│</span>\n",
       "<span style=\"color: #800000; text-decoration-color: #800000\">│</span> <span style=\"color: #800000; text-decoration-color: #800000\">❱ </span> 978 <span style=\"color: #7f7f7f; text-decoration-color: #7f7f7f\">│   │   │   </span><span style=\"color: #0000ff; text-decoration-color: #0000ff\">raise</span> e                                                                       <span style=\"color: #800000; text-decoration-color: #800000\">│</span>\n",
       "<span style=\"color: #800000; text-decoration-color: #800000\">│</span>   <span style=\"color: #7f7f7f; text-decoration-color: #7f7f7f\"> 979 </span><span style=\"color: #7f7f7f; text-decoration-color: #7f7f7f\">│   │   </span><span style=\"color: #0000ff; text-decoration-color: #0000ff\">finally</span>:                                                                          <span style=\"color: #800000; text-decoration-color: #800000\">│</span>\n",
       "<span style=\"color: #800000; text-decoration-color: #800000\">│</span>   <span style=\"color: #7f7f7f; text-decoration-color: #7f7f7f\"> 980 </span><span style=\"color: #7f7f7f; text-decoration-color: #7f7f7f\">│   │   │   </span><span style=\"color: #0000ff; text-decoration-color: #0000ff\">if</span> <span style=\"color: #00ffff; text-decoration-color: #00ffff\">self</span>.device <span style=\"color: #ff00ff; text-decoration-color: #ff00ff\">in</span> DEVICES_STATIC:                                             <span style=\"color: #800000; text-decoration-color: #800000\">│</span>\n",
       "<span style=\"color: #800000; text-decoration-color: #800000\">│</span>   <span style=\"color: #7f7f7f; text-decoration-color: #7f7f7f\"> 981 </span><span style=\"color: #7f7f7f; text-decoration-color: #7f7f7f\">│   │   │   │   </span>ro.r(<span style=\"color: #808000; text-decoration-color: #808000\">'dev.off()'</span>)                                                         <span style=\"color: #800000; text-decoration-color: #800000\">│</span>\n",
       "<span style=\"color: #800000; text-decoration-color: #800000\">│</span>                                                                                                  <span style=\"color: #800000; text-decoration-color: #800000\">│</span>\n",
       "<span style=\"color: #800000; text-decoration-color: #800000\">│</span> <span style=\"color: #bfbf7f; text-decoration-color: #bfbf7f\">/Users/zijin/miniforge3/envs/cool_planet/lib/python3.10/site-packages/rpy2/ipython/</span><span style=\"color: #808000; text-decoration-color: #808000; font-weight: bold\">rmagic.py</span>:<span style=\"color: #0000ff; text-decoration-color: #0000ff\">943</span> <span style=\"color: #800000; text-decoration-color: #800000\">│</span>\n",
       "<span style=\"color: #800000; text-decoration-color: #800000\">│</span> in <span style=\"color: #00ff00; text-decoration-color: #00ff00\">R</span>                                                                                             <span style=\"color: #800000; text-decoration-color: #800000\">│</span>\n",
       "<span style=\"color: #800000; text-decoration-color: #800000\">│</span>                                                                                                  <span style=\"color: #800000; text-decoration-color: #800000\">│</span>\n",
       "<span style=\"color: #800000; text-decoration-color: #800000\">│</span>   <span style=\"color: #7f7f7f; text-decoration-color: #7f7f7f\"> 940 </span><span style=\"color: #7f7f7f; text-decoration-color: #7f7f7f\">│   │   │   │   │   </span><span style=\"color: #7f7f7f; text-decoration-color: #7f7f7f\"># we won't return it.</span>                                                 <span style=\"color: #800000; text-decoration-color: #800000\">│</span>\n",
       "<span style=\"color: #800000; text-decoration-color: #800000\">│</span>   <span style=\"color: #7f7f7f; text-decoration-color: #7f7f7f\"> 941 </span><span style=\"color: #7f7f7f; text-decoration-color: #7f7f7f\">│   │   │   │   │   </span>return_output = <span style=\"color: #0000ff; text-decoration-color: #0000ff\">False</span>                                                 <span style=\"color: #800000; text-decoration-color: #800000\">│</span>\n",
       "<span style=\"color: #800000; text-decoration-color: #800000\">│</span>   <span style=\"color: #7f7f7f; text-decoration-color: #7f7f7f\"> 942 </span><span style=\"color: #7f7f7f; text-decoration-color: #7f7f7f\">│   │   │   </span><span style=\"color: #0000ff; text-decoration-color: #0000ff\">else</span>:                                                                         <span style=\"color: #800000; text-decoration-color: #800000\">│</span>\n",
       "<span style=\"color: #800000; text-decoration-color: #800000\">│</span> <span style=\"color: #800000; text-decoration-color: #800000\">❱ </span> 943 <span style=\"color: #7f7f7f; text-decoration-color: #7f7f7f\">│   │   │   │   </span>text_result, result, visible = <span style=\"color: #00ffff; text-decoration-color: #00ffff\">self</span>.eval(code)                            <span style=\"color: #800000; text-decoration-color: #800000\">│</span>\n",
       "<span style=\"color: #800000; text-decoration-color: #800000\">│</span>   <span style=\"color: #7f7f7f; text-decoration-color: #7f7f7f\"> 944 </span><span style=\"color: #7f7f7f; text-decoration-color: #7f7f7f\">│   │   │   │   </span>text_output += text_result                                                <span style=\"color: #800000; text-decoration-color: #800000\">│</span>\n",
       "<span style=\"color: #800000; text-decoration-color: #800000\">│</span>   <span style=\"color: #7f7f7f; text-decoration-color: #7f7f7f\"> 945 </span><span style=\"color: #7f7f7f; text-decoration-color: #7f7f7f\">│   │   │   │   </span><span style=\"color: #0000ff; text-decoration-color: #0000ff\">if</span> visible:                                                               <span style=\"color: #800000; text-decoration-color: #800000\">│</span>\n",
       "<span style=\"color: #800000; text-decoration-color: #800000\">│</span>   <span style=\"color: #7f7f7f; text-decoration-color: #7f7f7f\"> 946 </span><span style=\"color: #7f7f7f; text-decoration-color: #7f7f7f\">│   │   │   │   │   </span><span style=\"color: #0000ff; text-decoration-color: #0000ff\">with</span> contextlib.ExitStack() <span style=\"color: #0000ff; text-decoration-color: #0000ff\">as</span> stack:                                 <span style=\"color: #800000; text-decoration-color: #800000\">│</span>\n",
       "<span style=\"color: #800000; text-decoration-color: #800000\">│</span>                                                                                                  <span style=\"color: #800000; text-decoration-color: #800000\">│</span>\n",
       "<span style=\"color: #800000; text-decoration-color: #800000\">│</span> <span style=\"color: #bfbf7f; text-decoration-color: #bfbf7f\">/Users/zijin/miniforge3/envs/cool_planet/lib/python3.10/site-packages/rpy2/ipython/</span><span style=\"color: #808000; text-decoration-color: #808000; font-weight: bold\">rmagic.py</span>:<span style=\"color: #0000ff; text-decoration-color: #0000ff\">407</span> <span style=\"color: #800000; text-decoration-color: #800000\">│</span>\n",
       "<span style=\"color: #800000; text-decoration-color: #800000\">│</span> in <span style=\"color: #00ff00; text-decoration-color: #00ff00\">eval</span>                                                                                          <span style=\"color: #800000; text-decoration-color: #800000\">│</span>\n",
       "<span style=\"color: #800000; text-decoration-color: #800000\">│</span>                                                                                                  <span style=\"color: #800000; text-decoration-color: #800000\">│</span>\n",
       "<span style=\"color: #800000; text-decoration-color: #800000\">│</span>   <span style=\"color: #7f7f7f; text-decoration-color: #7f7f7f\"> 404 </span><span style=\"color: #7f7f7f; text-decoration-color: #7f7f7f\">│   │   │   </span><span style=\"color: #0000ff; text-decoration-color: #0000ff\">except</span> (ri.embedded.RRuntimeError, <span style=\"color: #00ffff; text-decoration-color: #00ffff\">ValueError</span>) <span style=\"color: #0000ff; text-decoration-color: #0000ff\">as</span> exception:                  <span style=\"color: #800000; text-decoration-color: #800000\">│</span>\n",
       "<span style=\"color: #800000; text-decoration-color: #800000\">│</span>   <span style=\"color: #7f7f7f; text-decoration-color: #7f7f7f\"> 405 </span><span style=\"color: #7f7f7f; text-decoration-color: #7f7f7f\">│   │   │   │   </span><span style=\"color: #7f7f7f; text-decoration-color: #7f7f7f\"># Otherwise next return seems to have copy of error.</span>                      <span style=\"color: #800000; text-decoration-color: #800000\">│</span>\n",
       "<span style=\"color: #800000; text-decoration-color: #800000\">│</span>   <span style=\"color: #7f7f7f; text-decoration-color: #7f7f7f\"> 406 </span><span style=\"color: #7f7f7f; text-decoration-color: #7f7f7f\">│   │   │   │   </span>warning_or_other_msg = <span style=\"color: #00ffff; text-decoration-color: #00ffff\">self</span>.flush()                                       <span style=\"color: #800000; text-decoration-color: #800000\">│</span>\n",
       "<span style=\"color: #800000; text-decoration-color: #800000\">│</span> <span style=\"color: #800000; text-decoration-color: #800000\">❱ </span> 407 <span style=\"color: #7f7f7f; text-decoration-color: #7f7f7f\">│   │   │   │   </span><span style=\"color: #0000ff; text-decoration-color: #0000ff\">raise</span> RInterpreterError(code, <span style=\"color: #00ffff; text-decoration-color: #00ffff\">str</span>(exception),                             <span style=\"color: #800000; text-decoration-color: #800000\">│</span>\n",
       "<span style=\"color: #800000; text-decoration-color: #800000\">│</span>   <span style=\"color: #7f7f7f; text-decoration-color: #7f7f7f\"> 408 </span><span style=\"color: #7f7f7f; text-decoration-color: #7f7f7f\">│   │   │   │   │   │   │   │   │   │   </span>warning_or_other_msg)                             <span style=\"color: #800000; text-decoration-color: #800000\">│</span>\n",
       "<span style=\"color: #800000; text-decoration-color: #800000\">│</span>   <span style=\"color: #7f7f7f; text-decoration-color: #7f7f7f\"> 409 </span><span style=\"color: #7f7f7f; text-decoration-color: #7f7f7f\">│   │   │   </span><span style=\"color: #0000ff; text-decoration-color: #0000ff\">finally</span>:                                                                      <span style=\"color: #800000; text-decoration-color: #800000\">│</span>\n",
       "<span style=\"color: #800000; text-decoration-color: #800000\">│</span>   <span style=\"color: #7f7f7f; text-decoration-color: #7f7f7f\"> 410 </span><span style=\"color: #7f7f7f; text-decoration-color: #7f7f7f\">│   │   │   │   </span>ro._print_deferred_warnings()                                             <span style=\"color: #800000; text-decoration-color: #800000\">│</span>\n",
       "<span style=\"color: #800000; text-decoration-color: #800000\">╰──────────────────────────────────────────────────────────────────────────────────────────────────╯</span>\n",
       "<span style=\"color: #ff0000; text-decoration-color: #ff0000; font-weight: bold\">RInterpreterError: </span>Failed to parse and evaluate line <span style=\"color: #008000; text-decoration-color: #008000\">'x_var &lt;- \"time\"\\ny_vars &lt;- c(\"k_x\", \"k_y\", \"k_z\")\\nxlab &lt;- </span>\n",
       "<span style=\"color: #008000; text-decoration-color: #008000\">\"Time\"\\nylabs &lt;- c(\"Orientation (k_x)\", \"k_y\", \"k_z\")\\np &lt;- plot_util(all_events_l2, x_var = x_var, y_vars = </span>\n",
       "<span style=\"color: #008000; text-decoration-color: #008000\">y_vars, xlab=xlab, ylabs=ylabs)\\nsave_plot(\"orientation_time\")\\n\\nx_var &lt;- \"ref_radial_distance\"\\nxlab &lt;- \"Referred</span>\n",
       "<span style=\"color: #008000; text-decoration-color: #008000\">Radial Distance (AU)\"\\np &lt;- plot_util(all_events_l2, x_var=x_var, y_vars = y_vars, xlab=xlab, </span>\n",
       "<span style=\"color: #008000; text-decoration-color: #008000\">ylabs=ylabs)\\nsave_plot(\"orientation_r\")\\n'</span>.\n",
       "R error message: <span style=\"color: #008000; text-decoration-color: #008000\">'Error in geom_line() : \\nℹ Error occurred in the 1st layer.\\nCaused by error in </span>\n",
       "<span style=\"color: #008000; text-decoration-color: #008000\">`.data[[\"k_y\"]]`:\\n! Column `k_y` not found in `.data`.'</span>\n",
       "R stdout:\n",
       "Warning message:\n",
       "Removed <span style=\"color: #008080; text-decoration-color: #008080; font-weight: bold\">19</span> rows containing missing values <span style=\"font-weight: bold\">(</span>`<span style=\"color: #800080; text-decoration-color: #800080; font-weight: bold\">geom_point</span><span style=\"font-weight: bold\">()</span>`<span style=\"font-weight: bold\">)</span>.\n",
       "</pre>\n"
      ],
      "text/plain": [
       "\u001b[31m╭─\u001b[0m\u001b[31m──────────────────────────────\u001b[0m\u001b[31m \u001b[0m\u001b[1;31mTraceback \u001b[0m\u001b[1;2;31m(most recent call last)\u001b[0m\u001b[31m \u001b[0m\u001b[31m───────────────────────────────\u001b[0m\u001b[31m─╮\u001b[0m\n",
       "\u001b[31m│\u001b[0m \u001b[2;33m/Users/zijin/miniforge3/envs/cool_planet/lib/python3.10/site-packages/rpy2/ipython/\u001b[0m\u001b[1;33mrmagic.py\u001b[0m:\u001b[94m401\u001b[0m \u001b[31m│\u001b[0m\n",
       "\u001b[31m│\u001b[0m in \u001b[92meval\u001b[0m                                                                                          \u001b[31m│\u001b[0m\n",
       "\u001b[31m│\u001b[0m                                                                                                  \u001b[31m│\u001b[0m\n",
       "\u001b[31m│\u001b[0m   \u001b[2m 398 \u001b[0m\u001b[2m│   │   │   \u001b[0m\u001b[94mtry\u001b[0m:                                                                          \u001b[31m│\u001b[0m\n",
       "\u001b[31m│\u001b[0m   \u001b[2m 399 \u001b[0m\u001b[2m│   │   │   │   \u001b[0m\u001b[2m# Need the newline in case the last line in code is a comment.\u001b[0m            \u001b[31m│\u001b[0m\n",
       "\u001b[31m│\u001b[0m   \u001b[2m 400 \u001b[0m\u001b[2m│   │   │   │   \u001b[0mr_expr = ri.parse(code)                                                   \u001b[31m│\u001b[0m\n",
       "\u001b[31m│\u001b[0m \u001b[31m❱ \u001b[0m 401 \u001b[2m│   │   │   │   \u001b[0mvalue, visible = ri.evalr_expr_with_visible(                              \u001b[31m│\u001b[0m\n",
       "\u001b[31m│\u001b[0m   \u001b[2m 402 \u001b[0m\u001b[2m│   │   │   │   │   \u001b[0mr_expr                                                                \u001b[31m│\u001b[0m\n",
       "\u001b[31m│\u001b[0m   \u001b[2m 403 \u001b[0m\u001b[2m│   │   │   │   \u001b[0m)                                                                         \u001b[31m│\u001b[0m\n",
       "\u001b[31m│\u001b[0m   \u001b[2m 404 \u001b[0m\u001b[2m│   │   │   \u001b[0m\u001b[94mexcept\u001b[0m (ri.embedded.RRuntimeError, \u001b[96mValueError\u001b[0m) \u001b[94mas\u001b[0m exception:                  \u001b[31m│\u001b[0m\n",
       "\u001b[31m│\u001b[0m                                                                                                  \u001b[31m│\u001b[0m\n",
       "\u001b[31m│\u001b[0m \u001b[2;33m/Users/zijin/miniforge3/envs/cool_planet/lib/python3.10/site-packages/rpy2/\u001b[0m\u001b[1;33mrinterface.py\u001b[0m:\u001b[94m196\u001b[0m in  \u001b[31m│\u001b[0m\n",
       "\u001b[31m│\u001b[0m \u001b[92mevalr_expr_with_visible\u001b[0m                                                                          \u001b[31m│\u001b[0m\n",
       "\u001b[31m│\u001b[0m                                                                                                  \u001b[31m│\u001b[0m\n",
       "\u001b[31m│\u001b[0m   \u001b[2m 193 \u001b[0m\u001b[2m│   │   │   │   │   \u001b[0merror_occured)                                                        \u001b[31m│\u001b[0m\n",
       "\u001b[31m│\u001b[0m   \u001b[2m 194 \u001b[0m\u001b[2m│   │   \u001b[0m)                                                                                 \u001b[31m│\u001b[0m\n",
       "\u001b[31m│\u001b[0m   \u001b[2m 195 \u001b[0m\u001b[2m│   │   \u001b[0m\u001b[94mif\u001b[0m error_occured[\u001b[94m0\u001b[0m]:                                                              \u001b[31m│\u001b[0m\n",
       "\u001b[31m│\u001b[0m \u001b[31m❱ \u001b[0m 196 \u001b[2m│   │   │   \u001b[0m\u001b[94mraise\u001b[0m embedded.RRuntimeError(_rinterface._geterrmessage())                    \u001b[31m│\u001b[0m\n",
       "\u001b[31m│\u001b[0m   \u001b[2m 197 \u001b[0m\u001b[2m│   │   \u001b[0mres = conversion._cdata_to_rinterface(r_res)                                      \u001b[31m│\u001b[0m\n",
       "\u001b[31m│\u001b[0m   \u001b[2m 198 \u001b[0m\u001b[2m│   │   \u001b[0m\u001b[94massert\u001b[0m \u001b[96misinstance\u001b[0m(res, ListSexpVector)                                            \u001b[31m│\u001b[0m\n",
       "\u001b[31m│\u001b[0m   \u001b[2m 199 \u001b[0m\u001b[2m│   \u001b[0m\u001b[94mreturn\u001b[0m res                                                                            \u001b[31m│\u001b[0m\n",
       "\u001b[31m╰──────────────────────────────────────────────────────────────────────────────────────────────────╯\u001b[0m\n",
       "\u001b[1;91mRRuntimeError: \u001b[0mError in \u001b[1;35mgeom_line\u001b[0m\u001b[1m(\u001b[0m\u001b[1m)\u001b[0m : \n",
       "ℹ Error occurred in the 1st layer.\n",
       "Caused by error in `.data\u001b[1m[\u001b[0m\u001b[1m[\u001b[0m\u001b[32m\"k_y\"\u001b[0m\u001b[1m]\u001b[0m\u001b[1m]\u001b[0m`:\n",
       "! Column `k_y` not found in `.data`.\n",
       "\n",
       "\n",
       "\u001b[3mDuring handling of the above exception, another exception occurred:\u001b[0m\n",
       "\n",
       "\u001b[31m╭─\u001b[0m\u001b[31m──────────────────────────────\u001b[0m\u001b[31m \u001b[0m\u001b[1;31mTraceback \u001b[0m\u001b[1;2;31m(most recent call last)\u001b[0m\u001b[31m \u001b[0m\u001b[31m───────────────────────────────\u001b[0m\u001b[31m─╮\u001b[0m\n",
       "\u001b[31m│\u001b[0m in \u001b[92m<module>\u001b[0m:\u001b[94m1\u001b[0m                                                                                    \u001b[31m│\u001b[0m\n",
       "\u001b[31m│\u001b[0m                                                                                                  \u001b[31m│\u001b[0m\n",
       "\u001b[31m│\u001b[0m \u001b[31m❱ \u001b[0m1 get_ipython().run_cell_magic(\u001b[33m'\u001b[0m\u001b[33mR\u001b[0m\u001b[33m'\u001b[0m, \u001b[33m'\u001b[0m\u001b[33m'\u001b[0m, \u001b[33m'\u001b[0m\u001b[33mx_var <- \u001b[0m\u001b[33m\"\u001b[0m\u001b[33mtime\u001b[0m\u001b[33m\"\u001b[0m\u001b[33m\\n\u001b[0m\u001b[33my_vars <- c(\u001b[0m\u001b[33m\"\u001b[0m\u001b[33mk_x\u001b[0m\u001b[33m\"\u001b[0m\u001b[33m, \u001b[0m\u001b[33m\"\u001b[0m\u001b[33mk_y\u001b[0m\u001b[33m\"\u001b[0m\u001b[33m, \u001b[0m\u001b[33m\"\u001b[0m\u001b[33mk_z\u001b[0m\u001b[33m\"\u001b[0m\u001b[33m)\u001b[0m     \u001b[31m│\u001b[0m\n",
       "\u001b[31m│\u001b[0m   \u001b[2m2 \u001b[0m                                                                                             \u001b[31m│\u001b[0m\n",
       "\u001b[31m│\u001b[0m                                                                                                  \u001b[31m│\u001b[0m\n",
       "\u001b[31m│\u001b[0m \u001b[2;33m/Users/zijin/miniforge3/envs/cool_planet/lib/python3.10/site-packages/IPython/core/\u001b[0m\u001b[1;33minteractivesh\u001b[0m \u001b[31m│\u001b[0m\n",
       "\u001b[31m│\u001b[0m \u001b[1;33mell.py\u001b[0m:\u001b[94m2493\u001b[0m in \u001b[92mrun_cell_magic\u001b[0m                                                                    \u001b[31m│\u001b[0m\n",
       "\u001b[31m│\u001b[0m                                                                                                  \u001b[31m│\u001b[0m\n",
       "\u001b[31m│\u001b[0m   \u001b[2m2490 \u001b[0m\u001b[2m│   │   │   \u001b[0m                                                                              \u001b[31m│\u001b[0m\n",
       "\u001b[31m│\u001b[0m   \u001b[2m2491 \u001b[0m\u001b[2m│   │   │   \u001b[0m\u001b[94mwith\u001b[0m \u001b[96mself\u001b[0m.builtin_trap:                                                       \u001b[31m│\u001b[0m\n",
       "\u001b[31m│\u001b[0m   \u001b[2m2492 \u001b[0m\u001b[2m│   │   │   │   \u001b[0margs = (magic_arg_s, cell)                                                \u001b[31m│\u001b[0m\n",
       "\u001b[31m│\u001b[0m \u001b[31m❱ \u001b[0m2493 \u001b[2m│   │   │   │   \u001b[0mresult = fn(*args, **kwargs)                                              \u001b[31m│\u001b[0m\n",
       "\u001b[31m│\u001b[0m   \u001b[2m2494 \u001b[0m\u001b[2m│   │   │   \u001b[0m                                                                              \u001b[31m│\u001b[0m\n",
       "\u001b[31m│\u001b[0m   \u001b[2m2495 \u001b[0m\u001b[2m│   │   │   \u001b[0m\u001b[2m# The code below prevents the output from being displayed\u001b[0m                     \u001b[31m│\u001b[0m\n",
       "\u001b[31m│\u001b[0m   \u001b[2m2496 \u001b[0m\u001b[2m│   │   │   \u001b[0m\u001b[2m# when using magics with decorator @output_can_be_silenced\u001b[0m                    \u001b[31m│\u001b[0m\n",
       "\u001b[31m│\u001b[0m                                                                                                  \u001b[31m│\u001b[0m\n",
       "\u001b[31m│\u001b[0m \u001b[2;33m/Users/zijin/miniforge3/envs/cool_planet/lib/python3.10/site-packages/rpy2/ipython/\u001b[0m\u001b[1;33mrmagic.py\u001b[0m:\u001b[94m978\u001b[0m \u001b[31m│\u001b[0m\n",
       "\u001b[31m│\u001b[0m in \u001b[92mR\u001b[0m                                                                                             \u001b[31m│\u001b[0m\n",
       "\u001b[31m│\u001b[0m                                                                                                  \u001b[31m│\u001b[0m\n",
       "\u001b[31m│\u001b[0m   \u001b[2m 975 \u001b[0m\u001b[2m│   │   │   \u001b[0m\u001b[96mprint\u001b[0m(e.stdout)                                                               \u001b[31m│\u001b[0m\n",
       "\u001b[31m│\u001b[0m   \u001b[2m 976 \u001b[0m\u001b[2m│   │   │   \u001b[0m\u001b[94mif\u001b[0m \u001b[95mnot\u001b[0m e.stdout.endswith(e.err):                                              \u001b[31m│\u001b[0m\n",
       "\u001b[31m│\u001b[0m   \u001b[2m 977 \u001b[0m\u001b[2m│   │   │   │   \u001b[0m\u001b[96mprint\u001b[0m(e.err)                                                              \u001b[31m│\u001b[0m\n",
       "\u001b[31m│\u001b[0m \u001b[31m❱ \u001b[0m 978 \u001b[2m│   │   │   \u001b[0m\u001b[94mraise\u001b[0m e                                                                       \u001b[31m│\u001b[0m\n",
       "\u001b[31m│\u001b[0m   \u001b[2m 979 \u001b[0m\u001b[2m│   │   \u001b[0m\u001b[94mfinally\u001b[0m:                                                                          \u001b[31m│\u001b[0m\n",
       "\u001b[31m│\u001b[0m   \u001b[2m 980 \u001b[0m\u001b[2m│   │   │   \u001b[0m\u001b[94mif\u001b[0m \u001b[96mself\u001b[0m.device \u001b[95min\u001b[0m DEVICES_STATIC:                                             \u001b[31m│\u001b[0m\n",
       "\u001b[31m│\u001b[0m   \u001b[2m 981 \u001b[0m\u001b[2m│   │   │   │   \u001b[0mro.r(\u001b[33m'\u001b[0m\u001b[33mdev.off()\u001b[0m\u001b[33m'\u001b[0m)                                                         \u001b[31m│\u001b[0m\n",
       "\u001b[31m│\u001b[0m                                                                                                  \u001b[31m│\u001b[0m\n",
       "\u001b[31m│\u001b[0m \u001b[2;33m/Users/zijin/miniforge3/envs/cool_planet/lib/python3.10/site-packages/rpy2/ipython/\u001b[0m\u001b[1;33mrmagic.py\u001b[0m:\u001b[94m943\u001b[0m \u001b[31m│\u001b[0m\n",
       "\u001b[31m│\u001b[0m in \u001b[92mR\u001b[0m                                                                                             \u001b[31m│\u001b[0m\n",
       "\u001b[31m│\u001b[0m                                                                                                  \u001b[31m│\u001b[0m\n",
       "\u001b[31m│\u001b[0m   \u001b[2m 940 \u001b[0m\u001b[2m│   │   │   │   │   \u001b[0m\u001b[2m# we won't return it.\u001b[0m                                                 \u001b[31m│\u001b[0m\n",
       "\u001b[31m│\u001b[0m   \u001b[2m 941 \u001b[0m\u001b[2m│   │   │   │   │   \u001b[0mreturn_output = \u001b[94mFalse\u001b[0m                                                 \u001b[31m│\u001b[0m\n",
       "\u001b[31m│\u001b[0m   \u001b[2m 942 \u001b[0m\u001b[2m│   │   │   \u001b[0m\u001b[94melse\u001b[0m:                                                                         \u001b[31m│\u001b[0m\n",
       "\u001b[31m│\u001b[0m \u001b[31m❱ \u001b[0m 943 \u001b[2m│   │   │   │   \u001b[0mtext_result, result, visible = \u001b[96mself\u001b[0m.eval(code)                            \u001b[31m│\u001b[0m\n",
       "\u001b[31m│\u001b[0m   \u001b[2m 944 \u001b[0m\u001b[2m│   │   │   │   \u001b[0mtext_output += text_result                                                \u001b[31m│\u001b[0m\n",
       "\u001b[31m│\u001b[0m   \u001b[2m 945 \u001b[0m\u001b[2m│   │   │   │   \u001b[0m\u001b[94mif\u001b[0m visible:                                                               \u001b[31m│\u001b[0m\n",
       "\u001b[31m│\u001b[0m   \u001b[2m 946 \u001b[0m\u001b[2m│   │   │   │   │   \u001b[0m\u001b[94mwith\u001b[0m contextlib.ExitStack() \u001b[94mas\u001b[0m stack:                                 \u001b[31m│\u001b[0m\n",
       "\u001b[31m│\u001b[0m                                                                                                  \u001b[31m│\u001b[0m\n",
       "\u001b[31m│\u001b[0m \u001b[2;33m/Users/zijin/miniforge3/envs/cool_planet/lib/python3.10/site-packages/rpy2/ipython/\u001b[0m\u001b[1;33mrmagic.py\u001b[0m:\u001b[94m407\u001b[0m \u001b[31m│\u001b[0m\n",
       "\u001b[31m│\u001b[0m in \u001b[92meval\u001b[0m                                                                                          \u001b[31m│\u001b[0m\n",
       "\u001b[31m│\u001b[0m                                                                                                  \u001b[31m│\u001b[0m\n",
       "\u001b[31m│\u001b[0m   \u001b[2m 404 \u001b[0m\u001b[2m│   │   │   \u001b[0m\u001b[94mexcept\u001b[0m (ri.embedded.RRuntimeError, \u001b[96mValueError\u001b[0m) \u001b[94mas\u001b[0m exception:                  \u001b[31m│\u001b[0m\n",
       "\u001b[31m│\u001b[0m   \u001b[2m 405 \u001b[0m\u001b[2m│   │   │   │   \u001b[0m\u001b[2m# Otherwise next return seems to have copy of error.\u001b[0m                      \u001b[31m│\u001b[0m\n",
       "\u001b[31m│\u001b[0m   \u001b[2m 406 \u001b[0m\u001b[2m│   │   │   │   \u001b[0mwarning_or_other_msg = \u001b[96mself\u001b[0m.flush()                                       \u001b[31m│\u001b[0m\n",
       "\u001b[31m│\u001b[0m \u001b[31m❱ \u001b[0m 407 \u001b[2m│   │   │   │   \u001b[0m\u001b[94mraise\u001b[0m RInterpreterError(code, \u001b[96mstr\u001b[0m(exception),                             \u001b[31m│\u001b[0m\n",
       "\u001b[31m│\u001b[0m   \u001b[2m 408 \u001b[0m\u001b[2m│   │   │   │   │   │   │   │   │   │   \u001b[0mwarning_or_other_msg)                             \u001b[31m│\u001b[0m\n",
       "\u001b[31m│\u001b[0m   \u001b[2m 409 \u001b[0m\u001b[2m│   │   │   \u001b[0m\u001b[94mfinally\u001b[0m:                                                                      \u001b[31m│\u001b[0m\n",
       "\u001b[31m│\u001b[0m   \u001b[2m 410 \u001b[0m\u001b[2m│   │   │   │   \u001b[0mro._print_deferred_warnings()                                             \u001b[31m│\u001b[0m\n",
       "\u001b[31m╰──────────────────────────────────────────────────────────────────────────────────────────────────╯\u001b[0m\n",
       "\u001b[1;91mRInterpreterError: \u001b[0mFailed to parse and evaluate line \u001b[32m'x_var <- \"time\"\\ny_vars <- c\u001b[0m\u001b[32m(\u001b[0m\u001b[32m\"k_x\", \"k_y\", \"k_z\"\u001b[0m\u001b[32m)\u001b[0m\u001b[32m\\nxlab <- \u001b[0m\n",
       "\u001b[32m\"Time\"\\nylabs <- c\u001b[0m\u001b[32m(\u001b[0m\u001b[32m\"Orientation \u001b[0m\u001b[32m(\u001b[0m\u001b[32mk_x\u001b[0m\u001b[32m)\u001b[0m\u001b[32m\", \"k_y\", \"k_z\"\u001b[0m\u001b[32m)\u001b[0m\u001b[32m\\np <- plot_util\u001b[0m\u001b[32m(\u001b[0m\u001b[32mall_events_l2, x_var = x_var, y_vars = \u001b[0m\n",
       "\u001b[32my_vars, \u001b[0m\u001b[32mxlab\u001b[0m\u001b[32m=\u001b[0m\u001b[32mxlab\u001b[0m\u001b[32m, \u001b[0m\u001b[32mylabs\u001b[0m\u001b[32m=\u001b[0m\u001b[32mylabs\u001b[0m\u001b[32m)\u001b[0m\u001b[32m\\nsave_plot\u001b[0m\u001b[32m(\u001b[0m\u001b[32m\"orientation_time\"\u001b[0m\u001b[32m)\u001b[0m\u001b[32m\\n\\nx_var <- \"ref_radial_distance\"\\nxlab <- \"Referred\u001b[0m\n",
       "\u001b[32mRadial Distance \u001b[0m\u001b[32m(\u001b[0m\u001b[32mAU\u001b[0m\u001b[32m)\u001b[0m\u001b[32m\"\\np <- plot_util\u001b[0m\u001b[32m(\u001b[0m\u001b[32mall_events_l2, \u001b[0m\u001b[32mx_var\u001b[0m\u001b[32m=\u001b[0m\u001b[32mx_var\u001b[0m\u001b[32m, y_vars = y_vars, \u001b[0m\u001b[32mxlab\u001b[0m\u001b[32m=\u001b[0m\u001b[32mxlab\u001b[0m\u001b[32m, \u001b[0m\n",
       "\u001b[32mylabs\u001b[0m\u001b[32m=\u001b[0m\u001b[32mylabs\u001b[0m\u001b[32m)\u001b[0m\u001b[32m\\nsave_plot\u001b[0m\u001b[32m(\u001b[0m\u001b[32m\"orientation_r\"\u001b[0m\u001b[32m)\u001b[0m\u001b[32m\\n'\u001b[0m.\n",
       "R error message: \u001b[32m'Error in geom_line\u001b[0m\u001b[32m(\u001b[0m\u001b[32m)\u001b[0m\u001b[32m : \\nℹ Error occurred in the 1st layer.\\nCaused by error in \u001b[0m\n",
       "\u001b[32m`.data\u001b[0m\u001b[32m[\u001b[0m\u001b[32m[\u001b[0m\u001b[32m\"k_y\"\u001b[0m\u001b[32m]\u001b[0m\u001b[32m]\u001b[0m\u001b[32m`:\\n! Column `k_y` not found in `.data`.'\u001b[0m\n",
       "R stdout:\n",
       "Warning message:\n",
       "Removed \u001b[1;36m19\u001b[0m rows containing missing values \u001b[1m(\u001b[0m`\u001b[1;35mgeom_point\u001b[0m\u001b[1m(\u001b[0m\u001b[1m)\u001b[0m`\u001b[1m)\u001b[0m.\n"
      ]
     },
     "metadata": {},
     "output_type": "display_data"
    }
   ],
   "source": [
    "%%R\n",
    "x_var <- \"time\"\n",
    "y_vars <- c(\"k_x\", \"k_y\", \"k_z\")\n",
    "xlab <- \"Time\"\n",
    "ylabs <- c(\"Orientation (k_x)\", \"k_y\", \"k_z\")\n",
    "p <- plot_util(all_events_l2, x_var = x_var, y_vars = y_vars, xlab=xlab, ylabs=ylabs)\n",
    "save_plot(\"orientation_time\")\n",
    "\n",
    "x_var <- \"ref_radial_distance\"\n",
    "xlab <- \"Referred Radial Distance (AU)\"\n",
    "p <- plot_util(all_events_l2, x_var=x_var, y_vars = y_vars, xlab=xlab, ylabs=ylabs)\n",
    "save_plot(\"orientation_r\")"
   ]
  },
  {
   "cell_type": "code",
   "execution_count": 66,
   "metadata": {},
   "outputs": [
    {
     "name": "stdout",
     "output_type": "stream",
     "text": [
      "Saving 6.67 x 6.67 in image\n",
      "Saving 6.67 x 6.67 in image\n"
     ]
    }
   ],
   "source": [
    "%%R\n",
    "x_col <- \"radial_distance\"\n",
    "y_col <- \"k_x\"\n",
    "y_lim <- NULL\n",
    "x_bins <- 16\n",
    "y_bins <- 32\n",
    "xlab <- \"Radial Distance (AU)\"\n",
    "ylab <- \"Orientation (k_x)\"\n",
    "p <- plot_binned_data(jno_candidates_l1, x_col = x_col, y_col = y_col, x_bins = x_bins, y_bins=y_bins, y_lim = y_lim, log_y = FALSE)\n",
    "p <- p + labs(x = xlab, y= ylab)\n",
    "save_plot(\"orientation_r_dist\")"
   ]
  },
  {
   "cell_type": "markdown",
   "metadata": {},
   "source": [
    "Results\n",
    "\n",
    "![](../figures/orientation_time.png){width=30%}\n",
    "![](../figures/orientation_r.png){width=30%}\n",
    "![](../figures/orientation_r_dist.png){width=30%}"
   ]
  },
  {
   "cell_type": "code",
   "execution_count": 67,
   "metadata": {},
   "outputs": [
    {
     "data": {},
     "metadata": {},
     "output_type": "display_data"
    },
    {
     "data": {
      "text/html": [
       "<pre style=\"white-space:pre;overflow-x:auto;line-height:normal;font-family:Menlo,'DejaVu Sans Mono',consolas,'Courier New',monospace\"></pre>\n"
      ],
      "text/plain": []
     },
     "metadata": {},
     "output_type": "display_data"
    },
    {
     "data": {
      "application/vnd.holoviews_exec.v0+json": "",
      "text/html": [
       "<div id='5388'>\n",
       "  <div class=\"bk-root\" id=\"f33298c7-a37b-4aaa-b50b-ce937fd62eb9\" data-root-id=\"5388\"></div>\n",
       "</div>\n",
       "<script type=\"application/javascript\">(function(root) {\n",
       "  function embed_document(root) {\n",
       "    var docs_json = {\"25c2645b-bae4-4fc7-b6c3-8588819fa82e\":{\"defs\":[{\"extends\":null,\"module\":null,\"name\":\"ReactiveHTML1\",\"overrides\":[],\"properties\":[]},{\"extends\":null,\"module\":null,\"name\":\"FlexBox1\",\"overrides\":[],\"properties\":[{\"default\":\"flex-start\",\"kind\":null,\"name\":\"align_content\"},{\"default\":\"flex-start\",\"kind\":null,\"name\":\"align_items\"},{\"default\":\"row\",\"kind\":null,\"name\":\"flex_direction\"},{\"default\":\"wrap\",\"kind\":null,\"name\":\"flex_wrap\"},{\"default\":\"flex-start\",\"kind\":null,\"name\":\"justify_content\"}]},{\"extends\":null,\"module\":null,\"name\":\"GridStack1\",\"overrides\":[],\"properties\":[{\"default\":\"warn\",\"kind\":null,\"name\":\"mode\"},{\"default\":null,\"kind\":null,\"name\":\"ncols\"},{\"default\":null,\"kind\":null,\"name\":\"nrows\"},{\"default\":true,\"kind\":null,\"name\":\"allow_resize\"},{\"default\":true,\"kind\":null,\"name\":\"allow_drag\"},{\"default\":[],\"kind\":null,\"name\":\"state\"}]},{\"extends\":null,\"module\":null,\"name\":\"click1\",\"overrides\":[],\"properties\":[{\"default\":\"\",\"kind\":null,\"name\":\"terminal_output\"},{\"default\":\"\",\"kind\":null,\"name\":\"debug_name\"},{\"default\":0,\"kind\":null,\"name\":\"clears\"}]},{\"extends\":null,\"module\":null,\"name\":\"NotificationAreaBase1\",\"overrides\":[],\"properties\":[{\"default\":\"bottom-right\",\"kind\":null,\"name\":\"position\"},{\"default\":0,\"kind\":null,\"name\":\"_clear\"}]},{\"extends\":null,\"module\":null,\"name\":\"NotificationArea1\",\"overrides\":[],\"properties\":[{\"default\":[],\"kind\":null,\"name\":\"notifications\"},{\"default\":\"bottom-right\",\"kind\":null,\"name\":\"position\"},{\"default\":0,\"kind\":null,\"name\":\"_clear\"},{\"default\":[{\"background\":\"#ffc107\",\"icon\":{\"className\":\"fas fa-exclamation-triangle\",\"color\":\"white\",\"tagName\":\"i\"},\"type\":\"warning\"},{\"background\":\"#007bff\",\"icon\":{\"className\":\"fas fa-info-circle\",\"color\":\"white\",\"tagName\":\"i\"},\"type\":\"info\"}],\"kind\":null,\"name\":\"types\"}]},{\"extends\":null,\"module\":null,\"name\":\"Notification\",\"overrides\":[],\"properties\":[{\"default\":null,\"kind\":null,\"name\":\"background\"},{\"default\":3000,\"kind\":null,\"name\":\"duration\"},{\"default\":null,\"kind\":null,\"name\":\"icon\"},{\"default\":\"\",\"kind\":null,\"name\":\"message\"},{\"default\":null,\"kind\":null,\"name\":\"notification_type\"},{\"default\":false,\"kind\":null,\"name\":\"_destroyed\"}]},{\"extends\":null,\"module\":null,\"name\":\"TemplateActions1\",\"overrides\":[],\"properties\":[{\"default\":0,\"kind\":null,\"name\":\"open_modal\"},{\"default\":0,\"kind\":null,\"name\":\"close_modal\"}]},{\"extends\":null,\"module\":null,\"name\":\"MaterialTemplateActions1\",\"overrides\":[],\"properties\":[{\"default\":0,\"kind\":null,\"name\":\"open_modal\"},{\"default\":0,\"kind\":null,\"name\":\"close_modal\"}]}],\"roots\":{\"references\":[{\"attributes\":{\"end\":0.8319742669569501,\"reset_end\":0.8319742669569501,\"reset_start\":-0.036944498013791356,\"start\":-0.036944498013791356,\"tags\":[[[\"j0_norm\",\"j0_norm\",null]],{\"autorange\":false,\"invert_yaxis\":false}]},\"id\":\"5390\",\"type\":\"Range1d\"},{\"attributes\":{},\"id\":\"6048\",\"type\":\"UnionRenderers\"},{\"attributes\":{},\"id\":\"5690\",\"type\":\"Selection\"},{\"attributes\":{\"line_color\":\"#e5ae38\",\"line_width\":2,\"tags\":[\"apply_ranges\"],\"x\":{\"field\":\"time\"},\"y\":{\"field\":\"j0_norm\"}},\"id\":\"5454\",\"type\":\"Line\"},{\"attributes\":{\"line_color\":\"#30a2da\",\"line_width\":2,\"tags\":[\"apply_ranges\"],\"x\":{\"field\":\"time\"},\"y\":{\"field\":\"j0_norm\"}},\"id\":\"5436\",\"type\":\"Line\"},{\"attributes\":{\"line_alpha\":0.1,\"line_color\":\"#fc4f30\",\"line_width\":2,\"tags\":[\"apply_ranges\"],\"x\":{\"field\":\"time\"},\"y\":{\"field\":\"L_mn_norm\"}},\"id\":\"5775\",\"type\":\"Line\"},{\"attributes\":{\"data\":{\"L_mn_norm\":{\"__ndarray__\":\"dk/aum1WNEAkmPM/0G41QFtUYTZHwjJAugUCeMZeNEBTrDf6dfc0QKCo93ashTZA5OGbx0t8NkB+0lFAcEU1QNIPudRehTNAbl23BEy3NED7oKA1uLU0QM+1u/iRazRA6Gvk+kEaNUA1o34e9LgzQIZ7EseXgjJAFIJFq5afMkBXEDzmWcQzQGzFt1UhlDVAByvbyCrTNkDgk+37VMk0QBPnWyM+czRAF1jFmhQ2NkBlog9douYzQNeRDOZWIDRAFx9GTqwENUDpRaI+140yQJqYvF9ZXjJAzteeJmTbMUDqa2KN2S8zQEhs6q2iRjJAVjydw/FBNEBY08OeRJgzQIpUVU+30TNAdRca0HANNUDibrUOkuUzQE27MqwcxjNAuQQ8ayapNEAMf229r2I2QLRGcVOHEDhAp953V/tKOECRP7rGMVo5QCUewpdIgTlASUs0VVQwOEAYg2rOrdQ5QMdAfCC0TDlAuuiBovAGN0DrOisS1CA2QGroYGD0hjZAQ7LakQwUN0BVrhpBoV04QCpyNqByQTdApU0LSlZ8OECE5m8bQyM4QMvPH/QSATdAqcWQmuhAOEBNnFKaf7U4QNYiYWiknzdASCqZ29RgOEA=\",\"dtype\":\"float64\",\"order\":\"little\",\"shape\":[58]},\"id_count\":{\"__ndarray__\":\"AAAAAAC8n0AAAAAAAH6gQAAAAAAAPJ9AAAAAAAAgoUAAAAAAAAChQAAAAAAAlqFAAAAAAACYoEAAAAAAAAKiQAAAAAAATJ9AAAAAAAAKoEAAAAAAAJydQAAAAAAAzKBAAAAAAACgn0AAAAAAAOahQAAAAAAA/qFAAAAAAADKokAAAAAAAPKhQAAAAAAAHKJAAAAAAAA2o0AAAAAAAByhQAAAAAAAgKBAAAAAAAB4nkAAAAAAAPyeQAAAAAAAgKFAAAAAAADmoEAAAAAAACqhQAAAAAAApqBAAAAAAACkoEAAAAAAAHqhQAAAAAAAOKFAAAAAAAASoUAAAAAAAPigQAAAAAAAoKBAAAAAAACKoUAAAAAAAKqhQAAAAAAAEqNAAAAAAAAuoUAAAAAAAEigQAAAAAAAbJdAAAAAAABckEAAAAAAAFSgQAAAAAAAhqBAAAAAAAByoUAAAAAAAHChQAAAAAAApqBAAAAAAACeoEAAAAAAAHygQAAAAAAA9KBAAAAAAADKoEAAAAAAADCgQAAAAAAAIqBAAAAAAAAIokAAAAAAAIifQAAAAAAATKBAAAAAAADuoUAAAAAAAF6gQAAAAAAA2qBAAAAAAACAZEA=\",\"dtype\":\"float64\",\"order\":\"little\",\"shape\":[58]},\"sat\":[\"Wind\",\"Wind\",\"Wind\",\"Wind\",\"Wind\",\"Wind\",\"Wind\",\"Wind\",\"Wind\",\"Wind\",\"Wind\",\"Wind\",\"Wind\",\"Wind\",\"Wind\",\"Wind\",\"Wind\",\"Wind\",\"Wind\",\"Wind\",\"Wind\",\"Wind\",\"Wind\",\"Wind\",\"Wind\",\"Wind\",\"Wind\",\"Wind\",\"Wind\",\"Wind\",\"Wind\",\"Wind\",\"Wind\",\"Wind\",\"Wind\",\"Wind\",\"Wind\",\"Wind\",\"Wind\",\"Wind\",\"Wind\",\"Wind\",\"Wind\",\"Wind\",\"Wind\",\"Wind\",\"Wind\",\"Wind\",\"Wind\",\"Wind\",\"Wind\",\"Wind\",\"Wind\",\"Wind\",\"Wind\",\"Wind\",\"Wind\",\"Wind\"],\"time\":{\"__ndarray__\":\"AACAYZEfc0IAAABOOSlzQgAAgDrhMnNCAAAAJ4k8c0IAAIATMUZzQgAAAADZT3NCAACA7IBZc0IAAADZKGNzQgAAgMXQbHNCAAAAsnh2c0IAAICeIIBzQgAAAIvIiXNCAACAd3CTc0IAAABkGJ1zQgAAgFDApnNCAAAAPWiwc0IAAIApELpzQgAAABa4w3NCAACAAmDNc0IAAADvB9dzQgAAgNuv4HNCAAAAyFfqc0IAAIC0//NzQgAAAKGn/XNCAACAjU8HdEIAAAB69xB0QgAAgGafGnRCAAAAU0ckdEIAAIA/7y10QgAAACyXN3RCAACAGD9BdEIAAAAF50p0QgAAgPGOVHRCAAAA3jZedEIAAIDK3md0QgAAALeGcXRCAACAoy57dEIAAACQ1oR0QgAAgHx+jnRCAAAAaSaYdEIAAIBVzqF0QgAAAEJ2q3RCAACALh61dEIAAAAbxr50QgAAgAduyHRCAAAA9BXSdEIAAIDgvdt0QgAAAM1l5XRCAACAuQ3vdEIAAACmtfh0QgAAgJJdAnVCAAAAfwUMdUIAAIBrrRV1QgAAAFhVH3VCAACARP0odUIAAAAxpTJ1QgAAgB1NPHVCAAAACvVFdUI=\",\"dtype\":\"float64\",\"order\":\"little\",\"shape\":[58]}},\"selected\":{\"id\":\"5708\"},\"selection_policy\":{\"id\":\"5990\"}},\"id\":\"5707\",\"type\":\"ColumnDataSource\"},{\"attributes\":{},\"id\":\"5678\",\"type\":\"BasicTickFormatter\"},{\"attributes\":{\"line_alpha\":0.1,\"line_color\":\"#6d904f\",\"line_width\":2,\"tags\":[\"apply_ranges\"],\"x\":{\"field\":\"time\"},\"y\":{\"field\":\"L_mn_norm\"}},\"id\":\"5875\",\"type\":\"Line\"},{\"attributes\":{},\"id\":\"5595\",\"type\":\"BasicTickFormatter\"},{\"attributes\":{},\"id\":\"5986\",\"type\":\"UnionRenderers\"},{\"attributes\":{\"base\":60,\"mantissas\":[1,2,5,10,15,20,30],\"max_interval\":1800000.0,\"min_interval\":1000.0,\"num_minor_ticks\":0},\"id\":\"5907\",\"type\":\"AdaptiveTicker\"},{\"attributes\":{\"line_color\":\"#fc4f30\",\"line_width\":2,\"tags\":[\"apply_ranges\"],\"x\":{\"field\":\"time\"},\"y\":{\"field\":\"L_mn_norm\"}},\"id\":\"5697\",\"type\":\"Line\"},{\"attributes\":{},\"id\":\"5872\",\"type\":\"Selection\"},{\"attributes\":{\"months\":[0,6]},\"id\":\"6032\",\"type\":\"MonthsTicker\"},{\"attributes\":{\"line_alpha\":0.1,\"line_color\":\"#fc4f30\",\"line_width\":2,\"tags\":[\"apply_ranges\"],\"x\":{\"field\":\"time\"},\"y\":{\"field\":\"j0_norm\"}},\"id\":\"5610\",\"type\":\"Line\"},{\"attributes\":{},\"id\":\"5740\",\"type\":\"BasicTicker\"},{\"attributes\":{},\"id\":\"5990\",\"type\":\"UnionRenderers\"},{\"attributes\":{},\"id\":\"5661\",\"type\":\"SaveTool\"},{\"attributes\":{\"overlay\":{\"id\":\"5419\"}},\"id\":\"5417\",\"type\":\"BoxZoomTool\"},{\"attributes\":{\"line_alpha\":0.1,\"line_color\":\"#30a2da\",\"line_width\":2,\"tags\":[\"apply_ranges\"],\"x\":{\"field\":\"time\"},\"y\":{\"field\":\"L_mn_norm\"}},\"id\":\"5848\",\"type\":\"Line\"},{\"attributes\":{\"axis\":{\"id\":\"5570\"},\"coordinates\":null,\"grid_line_color\":null,\"group\":null,\"ticker\":null},\"id\":\"5573\",\"type\":\"Grid\"},{\"attributes\":{\"data\":{\"L_mn_norm\":{\"__ndarray__\":\"4cvXptQMNEC1ndhosnUzQPpdvaHvUjBA6G/cGy6aLECHcuyafacrQAzk+01MKCtAQ2R7Gj3cKECwA2M/EeEoQGEc6/o/oCVAmFy9jFarJkBcPFwIV/AmQAdG9M/E6ixAP06Q0HPeJUAAAAAAAAD4f+gvVIM17ydAE437jA09JkCE8v5/6LYrQBEgk7DqvCxAD+LbO/y/LEDF3LqnqKkvQN8z876lfDFA/22cLBUoM0AAAAAAAAD4fwAAAAAAAPh/AAAAAAAA+H/fceN7QmwxQAdyKdCVnTNAzimi4eFDMUB40qL1pkovQM4PfRD+CyxAULEyz5p1KkBzfGK/vsUmQPJkDtMJwiZAqgt7euIyJkDj/h7oc/QhQCTNhwB7wSNAuY31ZE7YI0CwdgVEijUkQHi045b73iNAHFRu1GblIkAKAXwyu4cjQNhCPi/nmiRA8zH1/Xz0IECuY/XxKp4iQBNQFm1fByRA+bIeLiRTIUBIveZqV28iQHIeZyoI4BtAIG6zve3GIEABo7OkrQMhQEkoG1aFCCJAtkFET/IIJkA1dIcoWEMhQMe5Y0Z8XyBAY5OEihwuIUBA+QfHKdMiQIubAxn/Qh9A\",\"dtype\":\"float64\",\"order\":\"little\",\"shape\":[57]},\"id_count\":{\"__ndarray__\":\"AAAAAABknEAAAAAAAPCdQAAAAAAAPJpAAAAAAADsmkAAAAAAAOSbQAAAAAAAYJtAAAAAAAD4mUAAAAAAAIyYQAAAAAAAaIxAAAAAAACAlUAAAAAAADCFQAAAAAAA6IdAAAAAAACAZUAAAAAAAAD4fwAAAAAArJVAAAAAAABYkEAAAAAAACCSQAAAAAAAXJFAAAAAAADcl0AAAAAAAJiWQAAAAAAAfJZAAAAAAADge0AAAAAAAAD4fwAAAAAAAPh/AAAAAAAA+H8AAAAAAIBqQAAAAAAADJNAAAAAAAA4mkAAAAAAALyZQAAAAAAAbJlAAAAAAABol0AAAAAAAAB8QAAAAAAAwI1AAAAAAADojkAAAAAAACCGQAAAAAAAAHpAAAAAAAB4gUAAAAAAAKCBQAAAAAAA2IBAAAAAAAAwgUAAAAAAANB0QAAAAAAA0H9AAAAAAAAwekAAAAAAAKB5QAAAAAAAsHdAAAAAAAAQc0AAAAAAAEByQAAAAAAA4HFAAAAAAADAbEAAAAAAAGB0QAAAAAAAkHRAAAAAAABgbEAAAAAAAFBzQAAAAAAAgHBAAAAAAAAQckAAAAAAAOByQAAAAAAA4HRA\",\"dtype\":\"float64\",\"order\":\"little\",\"shape\":[57]},\"sat\":[\"JNO\",\"JNO\",\"JNO\",\"JNO\",\"JNO\",\"JNO\",\"JNO\",\"JNO\",\"JNO\",\"JNO\",\"JNO\",\"JNO\",\"JNO\",\"JNO\",\"JNO\",\"JNO\",\"JNO\",\"JNO\",\"JNO\",\"JNO\",\"JNO\",\"JNO\",\"JNO\",\"JNO\",\"JNO\",\"JNO\",\"JNO\",\"JNO\",\"JNO\",\"JNO\",\"JNO\",\"JNO\",\"JNO\",\"JNO\",\"JNO\",\"JNO\",\"JNO\",\"JNO\",\"JNO\",\"JNO\",\"JNO\",\"JNO\",\"JNO\",\"JNO\",\"JNO\",\"JNO\",\"JNO\",\"JNO\",\"JNO\",\"JNO\",\"JNO\",\"JNO\",\"JNO\",\"JNO\",\"JNO\",\"JNO\",\"JNO\"],\"time\":{\"__ndarray__\":\"AACAYZEfc0IAAABOOSlzQgAAgDrhMnNCAAAAJ4k8c0IAAIATMUZzQgAAAADZT3NCAACA7IBZc0IAAADZKGNzQgAAgMXQbHNCAAAAsnh2c0IAAICeIIBzQgAAAIvIiXNCAACAd3CTc0IAAABkGJ1zQgAAgFDApnNCAAAAPWiwc0IAAIApELpzQgAAABa4w3NCAACAAmDNc0IAAADvB9dzQgAAgNuv4HNCAAAAyFfqc0IAAIC0//NzQgAAAKGn/XNCAACAjU8HdEIAAAB69xB0QgAAgGafGnRCAAAAU0ckdEIAAIA/7y10QgAAACyXN3RCAACAGD9BdEIAAAAF50p0QgAAgPGOVHRCAAAA3jZedEIAAIDK3md0QgAAALeGcXRCAACAoy57dEIAAACQ1oR0QgAAgHx+jnRCAAAAaSaYdEIAAIBVzqF0QgAAAEJ2q3RCAACALh61dEIAAAAbxr50QgAAgAduyHRCAAAA9BXSdEIAAIDgvdt0QgAAAM1l5XRCAACAuQ3vdEIAAACmtfh0QgAAgJJdAnVCAAAAfwUMdUIAAIBrrRV1QgAAAFhVH3VCAACARP0odUIAAAAxpTJ1QgAAgB1NPHVC\",\"dtype\":\"float64\",\"order\":\"little\",\"shape\":[57]}},\"selected\":{\"id\":\"5763\"},\"selection_policy\":{\"id\":\"6013\"}},\"id\":\"5762\",\"type\":\"ColumnDataSource\"},{\"attributes\":{\"mantissas\":[1,2,5],\"max_interval\":500.0,\"num_minor_ticks\":0},\"id\":\"5906\",\"type\":\"AdaptiveTicker\"},{\"attributes\":{\"base\":24,\"mantissas\":[1,2,4,6,8,12],\"max_interval\":43200000.0,\"min_interval\":3600000.0,\"num_minor_ticks\":0},\"id\":\"5966\",\"type\":\"AdaptiveTicker\"},{\"attributes\":{},\"id\":\"5443\",\"type\":\"Selection\"},{\"attributes\":{\"line_color\":\"#6d904f\",\"line_width\":2,\"tags\":[\"apply_ranges\"],\"x\":{\"field\":\"time\"},\"y\":{\"field\":\"L_mn_norm\"}},\"id\":\"5874\",\"type\":\"Line\"},{\"attributes\":{},\"id\":\"5496\",\"type\":\"SaveTool\"},{\"attributes\":{\"months\":[0,1,2,3,4,5,6,7,8,9,10,11]},\"id\":\"6029\",\"type\":\"MonthsTicker\"},{\"attributes\":{\"line_alpha\":0.2,\"line_color\":\"#e5ae38\",\"line_width\":2,\"tags\":[\"apply_ranges\"],\"x\":{\"field\":\"time\"},\"y\":{\"field\":\"L_mn_norm\"}},\"id\":\"5703\",\"type\":\"Line\"},{\"attributes\":{},\"id\":\"5917\",\"type\":\"YearsTicker\"},{\"attributes\":{\"line_alpha\":0.2,\"line_color\":\"#6d904f\",\"line_width\":2,\"tags\":[\"apply_ranges\"],\"x\":{\"field\":\"time\"},\"y\":{\"field\":\"j0_norm\"}},\"id\":\"5547\",\"type\":\"Line\"},{\"attributes\":{\"line_color\":\"#30a2da\",\"line_width\":2,\"tags\":[\"apply_ranges\"],\"x\":{\"field\":\"time\"},\"y\":{\"field\":\"L_mn_norm\"}},\"id\":\"5688\",\"type\":\"Line\"},{\"attributes\":{\"line_color\":\"#6d904f\",\"line_width\":2,\"tags\":[\"apply_ranges\"],\"x\":{\"field\":\"time\"},\"y\":{\"field\":\"j0_norm\"}},\"id\":\"5463\",\"type\":\"Line\"},{\"attributes\":{},\"id\":\"5592\",\"type\":\"DatetimeTickFormatter\"},{\"attributes\":{\"line_color\":\"#e5ae38\",\"line_width\":2,\"tags\":[\"apply_ranges\"],\"x\":{\"field\":\"time\"},\"y\":{\"field\":\"j0_norm\"}},\"id\":\"5618\",\"type\":\"Line\"},{\"attributes\":{\"data\":{\"id_count\":{\"__ndarray__\":\"AAAAAACAZUAAAAAAACBgQAAAAAAAQFtAAAAAAABAWkAAAAAAAEBXQAAAAAAAQFJAAAAAAAAAVUAAAAAAAIBUQAAAAAAAgEpAAAAAAAAATkAAAAAAAAD4fwAAAAAAADpAAAAAAAAA+H8AAAAAAAD4fwAAAAAAgEdAAAAAAACAR0AAAAAAAEBQQAAAAAAAgExAAAAAAACAUkAAAAAAAABSQAAAAAAAAFhAAAAAAAAA+H8AAAAAAAD4fwAAAAAAAPh/AAAAAAAA+H8AAAAAAAD4fwAAAAAAQFNAAAAAAAAAXUAAAAAAAMBWQAAAAAAAAFFAAAAAAACATkAAAAAAAAD4fwAAAAAAgEJAAAAAAAAAPUAAAAAAAAD4fwAAAAAAAPh/AAAAAAAA+H8AAAAAAAD4fwAAAAAAAPh/AAAAAAAA+H8AAAAAAAD4fwAAAAAAAPh/AAAAAAAA+H8AAAAAAIBFQA==\",\"dtype\":\"float64\",\"order\":\"little\",\"shape\":[44]},\"j0_norm\":{\"__ndarray__\":\"U5qoyE0CrT+uFkkCaaOxP/8hpNNwUbA/j+24bWxYtT/JT8MYZfG3PyXpQ24Ylbw/b8bJcdmNuj+LPgmy1AS6PxK5BuqgFME/w512i5w7xj8AAAAAAAD4f8AORhPnm78/AAAAAAAA+H8AAAAAAAD4f23QcW4mvsc/rI8qLsJnvj/90glWbTzEP9CeHcrx2LU/H/42ipiUtT+0bAaExMW5PyVs1mMhn64/AAAAAAAA+H8AAAAAAAD4fwAAAAAAAPh/AAAAAAAA+H8AAAAAAAD4fwqfubmpOKo/WnHvlLvOsj9n4cQ9S/S1P2IyBVSME7w/QARuPGU6uz8AAAAAAAD4fxvPrxTXjsM/fdnKyx+5xz8AAAAAAAD4fwAAAAAAAPh/AAAAAAAA+H8AAAAAAAD4fwAAAAAAAPh/AAAAAAAA+H8AAAAAAAD4fwAAAAAAAPh/AAAAAAAA+H9WYvrvWU7oPw==\",\"dtype\":\"float64\",\"order\":\"little\",\"shape\":[44]},\"sat\":[\"JNO\",\"JNO\",\"JNO\",\"JNO\",\"JNO\",\"JNO\",\"JNO\",\"JNO\",\"JNO\",\"JNO\",\"JNO\",\"JNO\",\"JNO\",\"JNO\",\"JNO\",\"JNO\",\"JNO\",\"JNO\",\"JNO\",\"JNO\",\"JNO\",\"JNO\",\"JNO\",\"JNO\",\"JNO\",\"JNO\",\"JNO\",\"JNO\",\"JNO\",\"JNO\",\"JNO\",\"JNO\",\"JNO\",\"JNO\",\"JNO\",\"JNO\",\"JNO\",\"JNO\",\"JNO\",\"JNO\",\"JNO\",\"JNO\",\"JNO\",\"JNO\"],\"time\":{\"__ndarray__\":\"AACAYZEfc0IAAABOOSlzQgAAgDrhMnNCAAAAJ4k8c0IAAIATMUZzQgAAAADZT3NCAACA7IBZc0IAAADZKGNzQgAAgMXQbHNCAAAAsnh2c0IAAICeIIBzQgAAAIvIiXNCAACAd3CTc0IAAABkGJ1zQgAAgFDApnNCAAAAPWiwc0IAAIApELpzQgAAABa4w3NCAACAAmDNc0IAAADvB9dzQgAAgNuv4HNCAAAAyFfqc0IAAIC0//NzQgAAAKGn/XNCAACAjU8HdEIAAAB69xB0QgAAgGafGnRCAAAAU0ckdEIAAIA/7y10QgAAACyXN3RCAACAGD9BdEIAAAAF50p0QgAAgPGOVHRCAAAA3jZedEIAAIDK3md0QgAAALeGcXRCAACAoy57dEIAAACQ1oR0QgAAgHx+jnRCAAAAaSaYdEIAAIBVzqF0QgAAAEJ2q3RCAACALh61dEIAAAAbxr50Qg==\",\"dtype\":\"float64\",\"order\":\"little\",\"shape\":[44]}},\"selected\":{\"id\":\"5598\"},\"selection_policy\":{\"id\":\"5955\"}},\"id\":\"5597\",\"type\":\"ColumnDataSource\"},{\"attributes\":{\"line_alpha\":0.2,\"line_color\":\"#30a2da\",\"line_width\":2,\"tags\":[\"apply_ranges\"],\"x\":{\"field\":\"time\"},\"y\":{\"field\":\"L_mn_norm\"}},\"id\":\"5849\",\"type\":\"Line\"},{\"attributes\":{\"active_drag\":{\"id\":\"5415\"},\"active_scroll\":{\"id\":\"5416\"},\"tools\":[{\"id\":\"5393\"},{\"id\":\"5414\"},{\"id\":\"5415\"},{\"id\":\"5416\"},{\"id\":\"5417\"},{\"id\":\"5418\"}]},\"id\":\"5420\",\"type\":\"Toolbar\"},{\"attributes\":{},\"id\":\"5513\",\"type\":\"BasicTickFormatter\"},{\"attributes\":{\"source\":{\"id\":\"5862\"}},\"id\":\"5869\",\"type\":\"CDSView\"},{\"attributes\":{},\"id\":\"5487\",\"type\":\"LinearScale\"},{\"attributes\":{\"source\":{\"id\":\"5442\"}},\"id\":\"5449\",\"type\":\"CDSView\"},{\"attributes\":{\"children\":[{\"id\":\"6067\"}],\"margin\":[0,0,0,0],\"name\":\"Row06008\",\"tags\":[\"embedded\"]},\"id\":\"5388\",\"type\":\"Row\"},{\"attributes\":{\"source\":{\"id\":\"5680\"}},\"id\":\"5687\",\"type\":\"CDSView\"},{\"attributes\":{\"line_color\":\"#e5ae38\",\"line_width\":2,\"tags\":[\"apply_ranges\"],\"x\":{\"field\":\"time\"},\"y\":{\"field\":\"L_mn_norm\"}},\"id\":\"5870\",\"type\":\"Line\"},{\"attributes\":{\"line_alpha\":0.1,\"line_color\":\"#6d904f\",\"line_width\":2,\"tags\":[\"apply_ranges\"],\"x\":{\"field\":\"time\"},\"y\":{\"field\":\"j0_norm\"}},\"id\":\"5628\",\"type\":\"Line\"},{\"attributes\":{\"days\":[1,15]},\"id\":\"6028\",\"type\":\"DaysTicker\"},{\"attributes\":{},\"id\":\"5745\",\"type\":\"WheelZoomTool\"},{\"attributes\":{\"days\":[1,2,3,4,5,6,7,8,9,10,11,12,13,14,15,16,17,18,19,20,21,22,23,24,25,26,27,28,29,30,31]},\"id\":\"6054\",\"type\":\"DaysTicker\"},{\"attributes\":{\"axis\":{\"id\":\"5653\"},\"coordinates\":null,\"grid_line_color\":null,\"group\":null,\"ticker\":null},\"id\":\"5656\",\"type\":\"Grid\"},{\"attributes\":{},\"id\":\"5901\",\"type\":\"UnionRenderers\"},{\"attributes\":{\"source\":{\"id\":\"5606\"}},\"id\":\"5613\",\"type\":\"CDSView\"},{\"attributes\":{\"toolbar\":{\"id\":\"6065\"},\"toolbar_location\":\"above\"},\"id\":\"6066\",\"type\":\"ToolbarBox\"},{\"attributes\":{},\"id\":\"5452\",\"type\":\"Selection\"},{\"attributes\":{},\"id\":\"5988\",\"type\":\"UnionRenderers\"},{\"attributes\":{\"coordinates\":null,\"data_source\":{\"id\":\"5606\"},\"glyph\":{\"id\":\"5609\"},\"group\":null,\"hover_glyph\":null,\"muted_glyph\":{\"id\":\"5611\"},\"nonselection_glyph\":{\"id\":\"5610\"},\"selection_glyph\":{\"id\":\"5614\"},\"view\":{\"id\":\"5613\"}},\"id\":\"5612\",\"type\":\"GlyphRenderer\"},{\"attributes\":{\"line_color\":\"#fc4f30\",\"line_width\":2,\"tags\":[\"apply_ranges\"],\"x\":{\"field\":\"time\"},\"y\":{\"field\":\"j0_norm\"}},\"id\":\"5614\",\"type\":\"Line\"},{\"attributes\":{},\"id\":\"5652\",\"type\":\"LinearScale\"},{\"attributes\":{\"data\":{\"id_count\":{\"__ndarray__\":\"AAAAAAAAPEAAAAAAAAD4fwAAAAAAAPh/AAAAAAAA+H8AAAAAAABCQAAAAAAAAD9AAAAAAAAA+H8AAAAAAABFQAAAAAAAgEBAAAAAAACAR0AAAAAAAAA7QAAAAAAAAEVAAAAAAAAA+H8AAAAAAAD4fwAAAAAAAEZAAAAAAAAAO0AAAAAAAAD4fwAAAAAAADpAAAAAAACARUAAAAAAAABCQAAAAAAAAPh/AAAAAAAAPkAAAAAAAIBHQAAAAAAAAPh/AAAAAACASUAAAAAAAAA8QAAAAAAAAEFAAAAAAACAREAAAAAAAAA9QAAAAAAAAEJAAAAAAACAQEAAAAAAAABDQAAAAAAAAEFAAAAAAAAA+H8AAAAAAAD4fwAAAAAAAENAAAAAAAAASkAAAAAAAIBBQAAAAAAAAPh/AAAAAACAQkAAAAAAAABEQAAAAAAAAEBAAAAAAACAREAAAAAAAAA/QAAAAAAAAERAAAAAAAAAQUAAAAAAAABKQAAAAAAAAEpAAAAAAACAQkAAAAAAAABAQAAAAAAAgEZAAAAAAAAAS0AAAAAAAAD4fwAAAAAAAD1AAAAAAACAQUA=\",\"dtype\":\"float64\",\"order\":\"little\",\"shape\":[55]},\"j0_norm\":{\"__ndarray__\":\"3QrLeMb8pj8AAAAAAAD4fwAAAAAAAPh/AAAAAAAA+H8ZGQ2sQsywP6Afoe/PGLI/AAAAAAAA+H+776cYpYmuP82qMLERjbE/bkzpP9kPpT9HDizur/KnP6BNVjRv6a4/AAAAAAAA+H8AAAAAAAD4f9eC/aLR7bI/Oepsfc8Ktj8AAAAAAAD4fw5WgMWqsqc/STer82x0sD8XeiFRzRavPwAAAAAAAPh/Cmnq31AMuD/CGnKhnKSzPwAAAAAAAPh/6BtwqoOitz+xbOjhuSqyP9JqWmWbzqs/48+E7AJ9tT9ypjqb7hezP+terHkuQbI/ZITUiSbDpT+vuq3zQDGwP21qURQoa64/AAAAAAAA+H8AAAAAAAD4fwjHHWxXE6w/LRh4g3kbpz86w+abVyurPwAAAAAAAPh/1hWWP8F+qT9gnEZ/FBKzP67L5gH1z7I/xfQSTipHrj9dEsFkxwGzPyZsr8I85K4/7DJbSkhCrD8542hK3hmsPzKd7H7zzbM/kRzY/I7kqD8Z5J5GYEeuPxAW7mpmZq4/JfwV+1cCsj8AAAAAAAD4f0aAYnIzjqc/Q6X009AOqT8=\",\"dtype\":\"float64\",\"order\":\"little\",\"shape\":[55]},\"sat\":[\"THB\",\"THB\",\"THB\",\"THB\",\"THB\",\"THB\",\"THB\",\"THB\",\"THB\",\"THB\",\"THB\",\"THB\",\"THB\",\"THB\",\"THB\",\"THB\",\"THB\",\"THB\",\"THB\",\"THB\",\"THB\",\"THB\",\"THB\",\"THB\",\"THB\",\"THB\",\"THB\",\"THB\",\"THB\",\"THB\",\"THB\",\"THB\",\"THB\",\"THB\",\"THB\",\"THB\",\"THB\",\"THB\",\"THB\",\"THB\",\"THB\",\"THB\",\"THB\",\"THB\",\"THB\",\"THB\",\"THB\",\"THB\",\"THB\",\"THB\",\"THB\",\"THB\",\"THB\",\"THB\",\"THB\"],\"time\":{\"__ndarray__\":\"AACAOuEyc0IAAAAniTxzQgAAgBMxRnNCAAAAANlPc0IAAIDsgFlzQgAAANkoY3NCAACAxdBsc0IAAACyeHZzQgAAgJ4ggHNCAAAAi8iJc0IAAIB3cJNzQgAAAGQYnXNCAACAUMCmc0IAAAA9aLBzQgAAgCkQunNCAAAAFrjDc0IAAIACYM1zQgAAAO8H13NCAACA26/gc0IAAADIV+pzQgAAgLT/83NCAAAAoaf9c0IAAICNTwd0QgAAAHr3EHRCAACAZp8adEIAAABTRyR0QgAAgD/vLXRCAAAALJc3dEIAAIAYP0F0QgAAAAXnSnRCAACA8Y5UdEIAAADeNl50QgAAgMreZ3RCAAAAt4ZxdEIAAICjLnt0QgAAAJDWhHRCAACAfH6OdEIAAABpJph0QgAAgFXOoXRCAAAAQnardEIAAIAuHrV0QgAAABvGvnRCAACAB27IdEIAAAD0FdJ0QgAAgOC923RCAAAAzWXldEIAAIC5De90QgAAAKa1+HRCAACAkl0CdUIAAAB/BQx1QgAAgGutFXVCAAAAWFUfdUIAAIBE/Sh1QgAAADGlMnVCAACAHU08dUI=\",\"dtype\":\"float64\",\"order\":\"little\",\"shape\":[55]}},\"selected\":{\"id\":\"5616\"},\"selection_policy\":{\"id\":\"5959\"}},\"id\":\"5615\",\"type\":\"ColumnDataSource\"},{\"attributes\":{\"mantissas\":[1,2,5],\"max_interval\":500.0,\"num_minor_ticks\":0},\"id\":\"5935\",\"type\":\"AdaptiveTicker\"},{\"attributes\":{},\"id\":\"5663\",\"type\":\"WheelZoomTool\"},{\"attributes\":{\"line_color\":\"#6d904f\",\"line_width\":2,\"tags\":[\"apply_ranges\"],\"x\":{\"field\":\"time\"},\"y\":{\"field\":\"j0_norm\"}},\"id\":\"5627\",\"type\":\"Line\"},{\"attributes\":{\"coordinates\":null,\"data_source\":{\"id\":\"5597\"},\"glyph\":{\"id\":\"5600\"},\"group\":null,\"hover_glyph\":null,\"muted_glyph\":{\"id\":\"5602\"},\"nonselection_glyph\":{\"id\":\"5601\"},\"selection_glyph\":{\"id\":\"5605\"},\"view\":{\"id\":\"5604\"}},\"id\":\"5603\",\"type\":\"GlyphRenderer\"},{\"attributes\":{\"coordinates\":null,\"data_source\":{\"id\":\"5862\"},\"glyph\":{\"id\":\"5865\"},\"group\":null,\"hover_glyph\":null,\"muted_glyph\":{\"id\":\"5867\"},\"nonselection_glyph\":{\"id\":\"5866\"},\"selection_glyph\":{\"id\":\"5870\"},\"view\":{\"id\":\"5869\"}},\"id\":\"5868\",\"type\":\"GlyphRenderer\"},{\"attributes\":{\"line_alpha\":0.1,\"line_color\":\"#e5ae38\",\"line_width\":2,\"tags\":[\"apply_ranges\"],\"x\":{\"field\":\"time\"},\"y\":{\"field\":\"j0_norm\"}},\"id\":\"5619\",\"type\":\"Line\"},{\"attributes\":{},\"id\":\"5744\",\"type\":\"PanTool\"},{\"attributes\":{\"axis\":{\"id\":\"5657\"},\"coordinates\":null,\"dimension\":1,\"grid_line_color\":null,\"group\":null,\"ticker\":null},\"id\":\"5660\",\"type\":\"Grid\"},{\"attributes\":{\"days\":[1,15]},\"id\":\"5999\",\"type\":\"DaysTicker\"},{\"attributes\":{},\"id\":\"5432\",\"type\":\"AllLabels\"},{\"attributes\":{\"line_alpha\":0.2,\"line_color\":\"#e5ae38\",\"line_width\":2,\"tags\":[\"apply_ranges\"],\"x\":{\"field\":\"time\"},\"y\":{\"field\":\"j0_norm\"}},\"id\":\"5620\",\"type\":\"Line\"},{\"attributes\":{\"days\":[1,4,7,10,13,16,19,22,25,28]},\"id\":\"5910\",\"type\":\"DaysTicker\"},{\"attributes\":{\"active_drag\":{\"id\":\"5662\"},\"active_scroll\":{\"id\":\"5663\"},\"tools\":[{\"id\":\"5640\"},{\"id\":\"5661\"},{\"id\":\"5662\"},{\"id\":\"5663\"},{\"id\":\"5664\"},{\"id\":\"5665\"}]},\"id\":\"5667\",\"type\":\"Toolbar\"},{\"attributes\":{\"months\":[0,1,2,3,4,5,6,7,8,9,10,11]},\"id\":\"6000\",\"type\":\"MonthsTicker\"},{\"attributes\":{\"line_color\":\"#e5ae38\",\"line_width\":2,\"tags\":[\"apply_ranges\"],\"x\":{\"field\":\"time\"},\"y\":{\"field\":\"j0_norm\"}},\"id\":\"5623\",\"type\":\"Line\"},{\"attributes\":{\"line_alpha\":0.2,\"line_color\":\"#30a2da\",\"line_width\":2,\"tags\":[\"apply_ranges\"],\"x\":{\"field\":\"time\"},\"y\":{\"field\":\"L_mn_norm\"}},\"id\":\"5685\",\"type\":\"Line\"},{\"attributes\":{\"data\":{\"L_mn_norm\":{\"__ndarray__\":\"fywaiZ6RM0B3jBaVVKw0QH6FMpC/IjJAueZaw6COM0C1cGwTFFM0QG3g2VVwEjZAhWx/PQIxNkDmJWQmqbY0QA6xVghK5zJA2l48RnIjNEDLid18KOczQLvQ6i1d8DNAPEgUDaKpNEAWXWrXURQzQADAV+zB/zFAFY0z5B4fMkCxMKVewA4zQL5tAeB5+jRA990hds/5NUCo30CVcy40QFRmSBBW/zNA6lj7f5DUNUA1NtUCu4wzQGJ76dGrjjNAOpO07qAnNECueo04VgEyQLLCr0M6JDJAbhQMyjx1MUDucTjvF5cyQKhrGuTmrjFAZtS5yKTxM0AG5150CPkyQK4MwCoPTzNAIJjN7Z13NECZcoP+G1wzQFr/d/LuWzNANZsrExUGNEAKOgikL+k1QDDzE5hHUjdACFils7CbN0A/VHpXyKU4QJGdTaDQpThA2GnUwsR6N0C7uF4Zey45QOES1G8MczhAgfzOIQtjNkDyrK5qLMo1QHY3Ifp7tTVAeB4Lb5ZRNkARRpF+g5E3QOwf2bDRWjZA7LV7k3LXN0A/YUe3Ux03QKbtJ0ARMDZANm+PgczNN0AMrXG48843QId8GfdQ0jZA0undHTQXOEA=\",\"dtype\":\"float64\",\"order\":\"little\",\"shape\":[58]},\"id_count\":{\"__ndarray__\":\"AAAAAAA4nUAAAAAAAISeQAAAAAAAHJ1AAAAAAABkn0AAAAAAAJifQAAAAAAAiqBAAAAAAADknkAAAAAAAOagQAAAAAAAMJ1AAAAAAACgnUAAAAAAAGCbQAAAAAAAiJ9AAAAAAABcnUAAAAAAALCgQAAAAAAA0qBAAAAAAACKoUAAAAAAAHigQAAAAAAA8KBAAAAAAADioUAAAAAAAEyfQAAAAAAAoJ5AAAAAAAD0m0AAAAAAACCdQAAAAAAAEqBAAAAAAADQnkAAAAAAAPifQAAAAAAAVJ9AAAAAAAC4nkAAAAAAAC6gQAAAAAAAzJ9AAAAAAADMn0AAAAAAAASfQAAAAAAAfJ9AAAAAAABooEAAAAAAAHagQAAAAAAAFKJAAAAAAAAcoEAAAAAAAHSeQAAAAAAAkJVAAAAAAADAjkAAAAAAAJCdQAAAAAAAfJ5AAAAAAAAcoEAAAAAAABqgQAAAAAAA6J1AAAAAAACwnkAAAAAAALieQAAAAAAAcJ9AAAAAAAAAn0AAAAAAAMidQAAAAAAANJ1AAAAAAACaoEAAAAAAAJCcQAAAAAAA8J1AAAAAAACsoEAAAAAAAPydQAAAAAAAHJ9AAAAAAACgY0A=\",\"dtype\":\"float64\",\"order\":\"little\",\"shape\":[58]},\"sat\":[\"Wind\",\"Wind\",\"Wind\",\"Wind\",\"Wind\",\"Wind\",\"Wind\",\"Wind\",\"Wind\",\"Wind\",\"Wind\",\"Wind\",\"Wind\",\"Wind\",\"Wind\",\"Wind\",\"Wind\",\"Wind\",\"Wind\",\"Wind\",\"Wind\",\"Wind\",\"Wind\",\"Wind\",\"Wind\",\"Wind\",\"Wind\",\"Wind\",\"Wind\",\"Wind\",\"Wind\",\"Wind\",\"Wind\",\"Wind\",\"Wind\",\"Wind\",\"Wind\",\"Wind\",\"Wind\",\"Wind\",\"Wind\",\"Wind\",\"Wind\",\"Wind\",\"Wind\",\"Wind\",\"Wind\",\"Wind\",\"Wind\",\"Wind\",\"Wind\",\"Wind\",\"Wind\",\"Wind\",\"Wind\",\"Wind\",\"Wind\",\"Wind\"],\"time\":{\"__ndarray__\":\"AACAYZEfc0IAAABOOSlzQgAAgDrhMnNCAAAAJ4k8c0IAAIATMUZzQgAAAADZT3NCAACA7IBZc0IAAADZKGNzQgAAgMXQbHNCAAAAsnh2c0IAAICeIIBzQgAAAIvIiXNCAACAd3CTc0IAAABkGJ1zQgAAgFDApnNCAAAAPWiwc0IAAIApELpzQgAAABa4w3NCAACAAmDNc0IAAADvB9dzQgAAgNuv4HNCAAAAyFfqc0IAAIC0//NzQgAAAKGn/XNCAACAjU8HdEIAAAB69xB0QgAAgGafGnRCAAAAU0ckdEIAAIA/7y10QgAAACyXN3RCAACAGD9BdEIAAAAF50p0QgAAgPGOVHRCAAAA3jZedEIAAIDK3md0QgAAALeGcXRCAACAoy57dEIAAACQ1oR0QgAAgHx+jnRCAAAAaSaYdEIAAIBVzqF0QgAAAEJ2q3RCAACALh61dEIAAAAbxr50QgAAgAduyHRCAAAA9BXSdEIAAIDgvdt0QgAAAM1l5XRCAACAuQ3vdEIAAACmtfh0QgAAgJJdAnVCAAAAfwUMdUIAAIBrrRV1QgAAAFhVH3VCAACARP0odUIAAAAxpTJ1QgAAgB1NPHVCAAAACvVFdUI=\",\"dtype\":\"float64\",\"order\":\"little\",\"shape\":[58]}},\"selected\":{\"id\":\"5790\"},\"selection_policy\":{\"id\":\"6019\"}},\"id\":\"5789\",\"type\":\"ColumnDataSource\"},{\"attributes\":{\"line_alpha\":0.1,\"line_color\":\"#6d904f\",\"line_width\":2,\"tags\":[\"apply_ranges\"],\"x\":{\"field\":\"time\"},\"y\":{\"field\":\"L_mn_norm\"}},\"id\":\"5711\",\"type\":\"Line\"},{\"attributes\":{},\"id\":\"5658\",\"type\":\"BasicTicker\"},{\"attributes\":{\"line_color\":\"#6d904f\",\"line_width\":2,\"tags\":[\"apply_ranges\"],\"x\":{\"field\":\"time\"},\"y\":{\"field\":\"j0_norm\"}},\"id\":\"5468\",\"type\":\"Line\"},{\"attributes\":{},\"id\":\"5743\",\"type\":\"SaveTool\"},{\"attributes\":{\"data\":{\"L_mn_norm\":{\"__ndarray__\":\"b86ZKW9qP0AAAAAAAAD4fwAAAAAAAPh/AAAAAAAA+H/5YpKkKrI7QOTg1Lx38j9AAAAAAAAA+H87hifW8Bo9QC0kk1yYnj9AN11CiSp1RUCnJa5N10ZEQOe8UOf/+UJAAAAAAAAA+H8AAAAAAAD4f5kzI2QUKUFAE+uwONyFPkAAAAAAAAD4f8wV2ySrUkBAh0AEkJjdOEDch3HT/AlAQAAAAAAAAPh/bX7YKhZoOEDTLct7MTxAQAAAAAAAAPh/UIjLcqpQQECXKN+VXUY6QHKm4WVVlENAnuSw0soUPEASNSJsjZ4+QLkBqTIb3DtAGCw0lDxLRUCg3nxYU3A/QGET6VYI3DdAAAAAAAAA+H8AAAAAAAD4f69cgdpHtUVAIaVr0N/iRkChk2jW6pRHQAAAAAAAAPh/8rjnbc7vSUDQ2FUd2DFJQN7iSFGnCEVAb3GUoF3DPkA6WVNYZGQ8QOTo4/kHFUBAUptfX3DXQUCaxGb6J/9DQNRuOBbFtkVAlDi4usnlQEDlYtNGjk4+QNRLoS+IFUVAjn1K0z8kP0AAAAAAAAD4f080KXfJpkZAdLfP2FgBQUA=\",\"dtype\":\"float64\",\"order\":\"little\",\"shape\":[55]},\"id_count\":{\"__ndarray__\":\"AAAAAAAAPEAAAAAAAAD4fwAAAAAAAPh/AAAAAAAA+H8AAAAAAABCQAAAAAAAAD9AAAAAAAAA+H8AAAAAAABFQAAAAAAAgEBAAAAAAACAR0AAAAAAAAA7QAAAAAAAAEVAAAAAAAAA+H8AAAAAAAD4fwAAAAAAAEZAAAAAAAAAO0AAAAAAAAD4fwAAAAAAADpAAAAAAACARUAAAAAAAABCQAAAAAAAAPh/AAAAAAAAPkAAAAAAAIBHQAAAAAAAAPh/AAAAAACASUAAAAAAAAA8QAAAAAAAAEFAAAAAAACAREAAAAAAAAA9QAAAAAAAAEJAAAAAAACAQEAAAAAAAABDQAAAAAAAAEFAAAAAAAAA+H8AAAAAAAD4fwAAAAAAAENAAAAAAAAASkAAAAAAAIBBQAAAAAAAAPh/AAAAAACAQkAAAAAAAABEQAAAAAAAAEBAAAAAAACAREAAAAAAAAA/QAAAAAAAAERAAAAAAAAAQUAAAAAAAABKQAAAAAAAAEpAAAAAAACAQkAAAAAAAABAQAAAAAAAgEZAAAAAAAAAS0AAAAAAAAD4fwAAAAAAAD1AAAAAAACAQUA=\",\"dtype\":\"float64\",\"order\":\"little\",\"shape\":[55]},\"sat\":[\"THB\",\"THB\",\"THB\",\"THB\",\"THB\",\"THB\",\"THB\",\"THB\",\"THB\",\"THB\",\"THB\",\"THB\",\"THB\",\"THB\",\"THB\",\"THB\",\"THB\",\"THB\",\"THB\",\"THB\",\"THB\",\"THB\",\"THB\",\"THB\",\"THB\",\"THB\",\"THB\",\"THB\",\"THB\",\"THB\",\"THB\",\"THB\",\"THB\",\"THB\",\"THB\",\"THB\",\"THB\",\"THB\",\"THB\",\"THB\",\"THB\",\"THB\",\"THB\",\"THB\",\"THB\",\"THB\",\"THB\",\"THB\",\"THB\",\"THB\",\"THB\",\"THB\",\"THB\",\"THB\",\"THB\"],\"time\":{\"__ndarray__\":\"AACAOuEyc0IAAAAniTxzQgAAgBMxRnNCAAAAANlPc0IAAIDsgFlzQgAAANkoY3NCAACAxdBsc0IAAACyeHZzQgAAgJ4ggHNCAAAAi8iJc0IAAIB3cJNzQgAAAGQYnXNCAACAUMCmc0IAAAA9aLBzQgAAgCkQunNCAAAAFrjDc0IAAIACYM1zQgAAAO8H13NCAACA26/gc0IAAADIV+pzQgAAgLT/83NCAAAAoaf9c0IAAICNTwd0QgAAAHr3EHRCAACAZp8adEIAAABTRyR0QgAAgD/vLXRCAAAALJc3dEIAAIAYP0F0QgAAAAXnSnRCAACA8Y5UdEIAAADeNl50QgAAgMreZ3RCAAAAt4ZxdEIAAICjLnt0QgAAAJDWhHRCAACAfH6OdEIAAABpJph0QgAAgFXOoXRCAAAAQnardEIAAIAuHrV0QgAAABvGvnRCAACAB27IdEIAAAD0FdJ0QgAAgOC923RCAAAAzWXldEIAAIC5De90QgAAAKa1+HRCAACAkl0CdUIAAAB/BQx1QgAAgGutFXVCAAAAWFUfdUIAAIBE/Sh1QgAAADGlMnVCAACAHU08dUI=\",\"dtype\":\"float64\",\"order\":\"little\",\"shape\":[55]}},\"selected\":{\"id\":\"5863\"},\"selection_policy\":{\"id\":\"6046\"}},\"id\":\"5862\",\"type\":\"ColumnDataSource\"},{\"attributes\":{\"num_minor_ticks\":5,\"tickers\":[{\"id\":\"6051\"},{\"id\":\"6052\"},{\"id\":\"6053\"},{\"id\":\"6054\"},{\"id\":\"6055\"},{\"id\":\"6056\"},{\"id\":\"6057\"},{\"id\":\"6058\"},{\"id\":\"6059\"},{\"id\":\"6060\"},{\"id\":\"6061\"},{\"id\":\"6062\"}]},\"id\":\"5818\",\"type\":\"DatetimeTicker\"},{\"attributes\":{},\"id\":\"5843\",\"type\":\"AllLabels\"},{\"attributes\":{},\"id\":\"5932\",\"type\":\"UnionRenderers\"},{\"attributes\":{\"line_color\":\"#30a2da\",\"line_width\":2,\"tags\":[\"apply_ranges\"],\"x\":{\"field\":\"time\"},\"y\":{\"field\":\"L_mn_norm\"}},\"id\":\"5852\",\"type\":\"Line\"},{\"attributes\":{\"days\":[1,2,3,4,5,6,7,8,9,10,11,12,13,14,15,16,17,18,19,20,21,22,23,24,25,26,27,28,29,30,31]},\"id\":\"6025\",\"type\":\"DaysTicker\"},{\"attributes\":{\"line_color\":\"#6d904f\",\"line_width\":2,\"tags\":[\"apply_ranges\"],\"x\":{\"field\":\"time\"},\"y\":{\"field\":\"j0_norm\"}},\"id\":\"5545\",\"type\":\"Line\"},{\"attributes\":{},\"id\":\"5984\",\"type\":\"UnionRenderers\"},{\"attributes\":{},\"id\":\"6017\",\"type\":\"UnionRenderers\"},{\"attributes\":{\"source\":{\"id\":\"5780\"}},\"id\":\"5787\",\"type\":\"CDSView\"},{\"attributes\":{\"coordinates\":null,\"data_source\":{\"id\":\"5542\"},\"glyph\":{\"id\":\"5545\"},\"group\":null,\"hover_glyph\":null,\"muted_glyph\":{\"id\":\"5547\"},\"nonselection_glyph\":{\"id\":\"5546\"},\"selection_glyph\":{\"id\":\"5550\"},\"view\":{\"id\":\"5549\"}},\"id\":\"5548\",\"type\":\"GlyphRenderer\"},{\"attributes\":{\"line_color\":\"#e5ae38\",\"line_width\":2,\"tags\":[\"apply_ranges\"],\"x\":{\"field\":\"time\"},\"y\":{\"field\":\"j0_norm\"}},\"id\":\"5536\",\"type\":\"Line\"},{\"attributes\":{},\"id\":\"5675\",\"type\":\"DatetimeTickFormatter\"},{\"attributes\":{\"axis\":{\"id\":\"5492\"},\"coordinates\":null,\"dimension\":1,\"grid_line_color\":null,\"group\":null,\"ticker\":null},\"id\":\"5495\",\"type\":\"Grid\"},{\"attributes\":{\"line_alpha\":0.1,\"line_color\":\"#30a2da\",\"line_width\":2,\"tags\":[\"apply_ranges\"],\"x\":{\"field\":\"time\"},\"y\":{\"field\":\"j0_norm\"}},\"id\":\"5601\",\"type\":\"Line\"},{\"attributes\":{\"active_drag\":{\"id\":\"5744\"},\"active_scroll\":{\"id\":\"5745\"},\"tools\":[{\"id\":\"5722\"},{\"id\":\"5743\"},{\"id\":\"5744\"},{\"id\":\"5745\"},{\"id\":\"5746\"},{\"id\":\"5747\"}]},\"id\":\"5749\",\"type\":\"Toolbar\"},{\"attributes\":{\"line_alpha\":0.1,\"line_color\":\"#fc4f30\",\"line_width\":2,\"tags\":[\"apply_ranges\"],\"x\":{\"field\":\"time\"},\"y\":{\"field\":\"j0_norm\"}},\"id\":\"5446\",\"type\":\"Line\"},{\"attributes\":{},\"id\":\"5582\",\"type\":\"ResetTool\"},{\"attributes\":{\"line_alpha\":0.1,\"line_color\":\"#6d904f\",\"line_width\":2,\"tags\":[\"apply_ranges\"],\"x\":{\"field\":\"time\"},\"y\":{\"field\":\"j0_norm\"}},\"id\":\"5546\",\"type\":\"Line\"},{\"attributes\":{},\"id\":\"5593\",\"type\":\"AllLabels\"},{\"attributes\":{\"below\":[{\"id\":\"5570\"}],\"center\":[{\"id\":\"5573\"},{\"id\":\"5577\"}],\"height\":300,\"left\":[{\"id\":\"5574\"}],\"margin\":null,\"min_border_bottom\":10,\"min_border_left\":10,\"min_border_right\":10,\"min_border_top\":10,\"output_backend\":\"webgl\",\"renderers\":[{\"id\":\"5603\"},{\"id\":\"5612\"},{\"id\":\"5621\"},{\"id\":\"5630\"}],\"sizing_mode\":\"fixed\",\"title\":{\"id\":\"5562\"},\"toolbar\":{\"id\":\"5584\"},\"toolbar_location\":null,\"width\":300,\"x_range\":{\"id\":\"5389\"},\"x_scale\":{\"id\":\"5568\"},\"y_range\":{\"id\":\"5390\"},\"y_scale\":{\"id\":\"5569\"}},\"id\":\"5561\",\"subtype\":\"Figure\",\"type\":\"Plot\"},{\"attributes\":{},\"id\":\"5758\",\"type\":\"AllLabels\"},{\"attributes\":{},\"id\":\"5607\",\"type\":\"Selection\"},{\"attributes\":{\"coordinates\":null,\"data_source\":{\"id\":\"5853\"},\"glyph\":{\"id\":\"5856\"},\"group\":null,\"hover_glyph\":null,\"muted_glyph\":{\"id\":\"5858\"},\"nonselection_glyph\":{\"id\":\"5857\"},\"selection_glyph\":{\"id\":\"5861\"},\"view\":{\"id\":\"5860\"}},\"id\":\"5859\",\"type\":\"GlyphRenderer\"},{\"attributes\":{\"months\":[0,2,4,6,8,10]},\"id\":\"5943\",\"type\":\"MonthsTicker\"},{\"attributes\":{\"days\":[1,8,15,22]},\"id\":\"6027\",\"type\":\"DaysTicker\"},{\"attributes\":{\"data\":{\"id_count\":{\"__ndarray__\":\"AAAAAAAAZkAAAAAAAMBjQAAAAAAAYGVAAAAAAADAZUAAAAAAACBvQAAAAAAAoGpAAAAAAABgY0AAAAAAAABSQAAAAAAAYGZAAAAAAADAaEAAAAAAAKBmQAAAAAAAgGVAAAAAAAAgaEAAAAAAAEBkQAAAAAAAYGJAAAAAAACAY0AAAAAAAEBhQAAAAAAAwFdAAAAAAACAZUAAAAAAAEBiQAAAAAAAgGJAAAAAAADAaUAAAAAAAEBmQAAAAAAAYGNAAAAAAADgZEAAAAAAACBkQAAAAAAAoGNAAAAAAACgYkAAAAAAAIBdQAAAAAAAAGBAAAAAAACgZ0AAAAAAACBkQAAAAAAA4GRAAAAAAAAAZUAAAAAAAIBeQAAAAAAAYGdAAAAAAAAA+H8AAAAAAAD4fwAAAAAAAPh/AAAAAAAA+H8AAAAAAAD4fwAAAAAAAPh/AAAAAAAA+H8AAAAAAAD4fwAAAAAAAPh/AAAAAAAA+H8AAAAAAAD4fwAAAAAAAPh/AAAAAAAA+H8AAAAAAAD4fwAAAAAAAPh/AAAAAABAVEAAAAAAAKBmQAAAAAAAIGxAAAAAAADAZUAAAAAAAGBqQAAAAAAAoGVA\",\"dtype\":\"float64\",\"order\":\"little\",\"shape\":[57]},\"j0_norm\":{\"__ndarray__\":\"szQglLgErz8G8kAd7Tm2Pzyc4SDQc6w/eesSPHeAqT84FWxx/h6uPwpnDNdQWac/5PhChFOTrz+rryF4LZq+P7bMSHcMFa8/FOPI99Igsz8ftsuTrmisP0ZzBgmRw68/Dd0OJV6trT/T/KK8gYuwP08pnOhLFrQ/LpKgyHd1rz8T/Rrxz86tP24wmHrrvLA/06f2PhxZrT8ZfM9wkkGyPz2GuAoKmqk/71HDjWbasD9t6fqRC36uP7ICogrblrE/BCGeN7J6sT8OUN47NyuyP+ihUEexd7E/r3NBJ9n6sj9XN7atJjS1P/pmwpVMgK8/6RBX/JoMsD8O1ARHbu6wPy1WFA5worE/bL+gxPVOqz+DYJrm0hOsP1wSQSny+6k/AAAAAAAA+H8AAAAAAAD4fwAAAAAAAPh/AAAAAAAA+H8AAAAAAAD4fwAAAAAAAPh/AAAAAAAA+H8AAAAAAAD4fwAAAAAAAPh/AAAAAAAA+H8AAAAAAAD4fwAAAAAAAPh/AAAAAAAA+H8AAAAAAAD4fwAAAAAAAPh/unLT1yqjpz8MYJPXPlqlP2ZsvUXteKQ/8oRMStsIpj8G7wRkhiqoP2twua0CLac/\",\"dtype\":\"float64\",\"order\":\"little\",\"shape\":[57]},\"sat\":[\"STA\",\"STA\",\"STA\",\"STA\",\"STA\",\"STA\",\"STA\",\"STA\",\"STA\",\"STA\",\"STA\",\"STA\",\"STA\",\"STA\",\"STA\",\"STA\",\"STA\",\"STA\",\"STA\",\"STA\",\"STA\",\"STA\",\"STA\",\"STA\",\"STA\",\"STA\",\"STA\",\"STA\",\"STA\",\"STA\",\"STA\",\"STA\",\"STA\",\"STA\",\"STA\",\"STA\",\"STA\",\"STA\",\"STA\",\"STA\",\"STA\",\"STA\",\"STA\",\"STA\",\"STA\",\"STA\",\"STA\",\"STA\",\"STA\",\"STA\",\"STA\",\"STA\",\"STA\",\"STA\",\"STA\",\"STA\",\"STA\"],\"time\":{\"__ndarray__\":\"AACAYZEfc0IAAABOOSlzQgAAgDrhMnNCAAAAJ4k8c0IAAIATMUZzQgAAAADZT3NCAACA7IBZc0IAAADZKGNzQgAAgMXQbHNCAAAAsnh2c0IAAICeIIBzQgAAAIvIiXNCAACAd3CTc0IAAABkGJ1zQgAAgFDApnNCAAAAPWiwc0IAAIApELpzQgAAABa4w3NCAACAAmDNc0IAAADvB9dzQgAAgNuv4HNCAAAAyFfqc0IAAIC0//NzQgAAAKGn/XNCAACAjU8HdEIAAAB69xB0QgAAgGafGnRCAAAAU0ckdEIAAIA/7y10QgAAACyXN3RCAACAGD9BdEIAAAAF50p0QgAAgPGOVHRCAAAA3jZedEIAAIDK3md0QgAAALeGcXRCAACAoy57dEIAAACQ1oR0QgAAgHx+jnRCAAAAaSaYdEIAAIBVzqF0QgAAAEJ2q3RCAACALh61dEIAAAAbxr50QgAAgAduyHRCAAAA9BXSdEIAAIDgvdt0QgAAAM1l5XRCAACAuQ3vdEIAAACmtfh0QgAAgJJdAnVCAAAAfwUMdUIAAIBrrRV1QgAAAFhVH3VCAACARP0odUIAAAAxpTJ1QgAAgB1NPHVC\",\"dtype\":\"float64\",\"order\":\"little\",\"shape\":[57]}},\"selected\":{\"id\":\"5607\"},\"selection_policy\":{\"id\":\"5957\"}},\"id\":\"5606\",\"type\":\"ColumnDataSource\"},{\"attributes\":{\"source\":{\"id\":\"5844\"}},\"id\":\"5851\",\"type\":\"CDSView\"},{\"attributes\":{\"line_alpha\":0.2,\"line_color\":\"#fc4f30\",\"line_width\":2,\"tags\":[\"apply_ranges\"],\"x\":{\"field\":\"time\"},\"y\":{\"field\":\"L_mn_norm\"}},\"id\":\"5858\",\"type\":\"Line\"},{\"attributes\":{},\"id\":\"5662\",\"type\":\"PanTool\"},{\"attributes\":{\"months\":[0,1,2,3,4,5,6,7,8,9,10,11]},\"id\":\"6058\",\"type\":\"MonthsTicker\"},{\"attributes\":{\"base\":60,\"mantissas\":[1,2,5,10,15,20,30],\"max_interval\":1800000.0,\"min_interval\":1000.0,\"num_minor_ticks\":0},\"id\":\"5936\",\"type\":\"AdaptiveTicker\"},{\"attributes\":{\"line_alpha\":0.1,\"line_color\":\"#fc4f30\",\"line_width\":2,\"tags\":[\"apply_ranges\"],\"x\":{\"field\":\"time\"},\"y\":{\"field\":\"L_mn_norm\"}},\"id\":\"5857\",\"type\":\"Line\"},{\"attributes\":{},\"id\":\"6004\",\"type\":\"YearsTicker\"},{\"attributes\":{\"overlay\":{\"id\":\"5748\"}},\"id\":\"5746\",\"type\":\"BoxZoomTool\"},{\"attributes\":{\"coordinates\":null,\"data_source\":{\"id\":\"5680\"},\"glyph\":{\"id\":\"5683\"},\"group\":null,\"hover_glyph\":null,\"muted_glyph\":{\"id\":\"5685\"},\"nonselection_glyph\":{\"id\":\"5684\"},\"selection_glyph\":{\"id\":\"5688\"},\"view\":{\"id\":\"5687\"}},\"id\":\"5686\",\"type\":\"GlyphRenderer\"},{\"attributes\":{\"data\":{\"id_count\":{\"__ndarray__\":\"AAAAAAC8n0AAAAAAAH6gQAAAAAAAPJ9AAAAAAAAgoUAAAAAAAAChQAAAAAAAlqFAAAAAAACYoEAAAAAAAAKiQAAAAAAATJ9AAAAAAAAKoEAAAAAAAJydQAAAAAAAzKBAAAAAAACgn0AAAAAAAOahQAAAAAAA/qFAAAAAAADKokAAAAAAAPKhQAAAAAAAHKJAAAAAAAA2o0AAAAAAAByhQAAAAAAAgKBAAAAAAAB4nkAAAAAAAPyeQAAAAAAAgKFAAAAAAADmoEAAAAAAACqhQAAAAAAApqBAAAAAAACkoEAAAAAAAHqhQAAAAAAAOKFAAAAAAAASoUAAAAAAAPigQAAAAAAAoKBAAAAAAACKoUAAAAAAAKqhQAAAAAAAEqNAAAAAAAAuoUAAAAAAAEigQAAAAAAAbJdAAAAAAABckEAAAAAAAFSgQAAAAAAAhqBAAAAAAAByoUAAAAAAAHChQAAAAAAApqBAAAAAAACeoEAAAAAAAHygQAAAAAAA9KBAAAAAAADKoEAAAAAAADCgQAAAAAAAIqBAAAAAAAAIokAAAAAAAIifQAAAAAAATKBAAAAAAADuoUAAAAAAAF6gQAAAAAAA2qBAAAAAAACAZEA=\",\"dtype\":\"float64\",\"order\":\"little\",\"shape\":[58]},\"j0_norm\":{\"__ndarray__\":\"yjnGDN+9tD89J+hpXHK1PzasKbGMLLM/+itUPlpxtD8r2yFA1ruyPw19Ms9Vn7E/OLFsFhkItT8LP3AOkUCxP7iOLGOgzLY/XOgOlyLltD/lNNH90Ty0PygGxx7ZxbI/GGJn/Hm5tT8Ugqh6cxuzP7HewjzxS7M/L+6qYPDGtD/4+EIV4m6xP5jTHgqc67E/CEXr6ni4sD8mvDjU4YOzP0SpU1au1rM/8wwPIo91tD8z+RlrPYOyP9YlT/rWALU/MkvOAyhctz/y7tj27J+2Pxanf7wZXbM/tqSFey7Ttj+6UOb5ThK2Px6+PybVDbU/yC2+Z/8jtT8OD3HE0zy2P1UavbbE5bM/6I8eOUM5sj8SKEqHxJ6yP8GxVgOj7rQ/ZYBCSP99sT8fMYu2HIq0PyiLEP/+ArQ/pGT2CSsYtD8TjlFo2ha0P+SX70wds7M/L4foJepasT9f7bxWRVSyP2O0iMdQf7E/6Vxv3eEksz9UA8l6ZDy0P6JWrKVe37Q/7UfdQ6B8tD9Cn4x74ICyP5xvpqwoxLI/cAffhvIEsT/OOJtrltC0PyVAhe+AzrM/3ntyny3OsD+pXv7t6TmyPxWN3E/Y1rE/FLdJxnTerz8=\",\"dtype\":\"float64\",\"order\":\"little\",\"shape\":[58]},\"sat\":[\"Wind\",\"Wind\",\"Wind\",\"Wind\",\"Wind\",\"Wind\",\"Wind\",\"Wind\",\"Wind\",\"Wind\",\"Wind\",\"Wind\",\"Wind\",\"Wind\",\"Wind\",\"Wind\",\"Wind\",\"Wind\",\"Wind\",\"Wind\",\"Wind\",\"Wind\",\"Wind\",\"Wind\",\"Wind\",\"Wind\",\"Wind\",\"Wind\",\"Wind\",\"Wind\",\"Wind\",\"Wind\",\"Wind\",\"Wind\",\"Wind\",\"Wind\",\"Wind\",\"Wind\",\"Wind\",\"Wind\",\"Wind\",\"Wind\",\"Wind\",\"Wind\",\"Wind\",\"Wind\",\"Wind\",\"Wind\",\"Wind\",\"Wind\",\"Wind\",\"Wind\",\"Wind\",\"Wind\",\"Wind\",\"Wind\",\"Wind\",\"Wind\"],\"time\":{\"__ndarray__\":\"AACAYZEfc0IAAABOOSlzQgAAgDrhMnNCAAAAJ4k8c0IAAIATMUZzQgAAAADZT3NCAACA7IBZc0IAAADZKGNzQgAAgMXQbHNCAAAAsnh2c0IAAICeIIBzQgAAAIvIiXNCAACAd3CTc0IAAABkGJ1zQgAAgFDApnNCAAAAPWiwc0IAAIApELpzQgAAABa4w3NCAACAAmDNc0IAAADvB9dzQgAAgNuv4HNCAAAAyFfqc0IAAIC0//NzQgAAAKGn/XNCAACAjU8HdEIAAAB69xB0QgAAgGafGnRCAAAAU0ckdEIAAIA/7y10QgAAACyXN3RCAACAGD9BdEIAAAAF50p0QgAAgPGOVHRCAAAA3jZedEIAAIDK3md0QgAAALeGcXRCAACAoy57dEIAAACQ1oR0QgAAgHx+jnRCAAAAaSaYdEIAAIBVzqF0QgAAAEJ2q3RCAACALh61dEIAAAAbxr50QgAAgAduyHRCAAAA9BXSdEIAAIDgvdt0QgAAAM1l5XRCAACAuQ3vdEIAAACmtfh0QgAAgJJdAnVCAAAAfwUMdUIAAIBrrRV1QgAAAFhVH3VCAACARP0odUIAAAAxpTJ1QgAAgB1NPHVCAAAACvVFdUI=\",\"dtype\":\"float64\",\"order\":\"little\",\"shape\":[58]}},\"selected\":{\"id\":\"5461\"},\"selection_policy\":{\"id\":\"5903\"}},\"id\":\"5460\",\"type\":\"ColumnDataSource\"},{\"attributes\":{},\"id\":\"5525\",\"type\":\"Selection\"},{\"attributes\":{\"coordinates\":null,\"data_source\":{\"id\":\"5844\"},\"glyph\":{\"id\":\"5847\"},\"group\":null,\"hover_glyph\":null,\"muted_glyph\":{\"id\":\"5849\"},\"nonselection_glyph\":{\"id\":\"5848\"},\"selection_glyph\":{\"id\":\"5852\"},\"view\":{\"id\":\"5851\"}},\"id\":\"5850\",\"type\":\"GlyphRenderer\"},{\"attributes\":{\"line_alpha\":0.2,\"line_color\":\"#fc4f30\",\"line_width\":2,\"tags\":[\"apply_ranges\"],\"x\":{\"field\":\"time\"},\"y\":{\"field\":\"j0_norm\"}},\"id\":\"5529\",\"type\":\"Line\"},{\"attributes\":{\"axis_label\":\"time\",\"coordinates\":null,\"formatter\":{\"id\":\"5510\"},\"group\":null,\"major_label_policy\":{\"id\":\"5511\"},\"ticker\":{\"id\":\"5489\"}},\"id\":\"5488\",\"type\":\"DatetimeAxis\"},{\"attributes\":{\"source\":{\"id\":\"5853\"}},\"id\":\"5860\",\"type\":\"CDSView\"},{\"attributes\":{},\"id\":\"5840\",\"type\":\"AllLabels\"},{\"attributes\":{\"axis_label\":\"j0_norm\",\"coordinates\":null,\"formatter\":{\"id\":\"5595\"},\"group\":null,\"major_label_policy\":{\"id\":\"5596\"},\"ticker\":{\"id\":\"5575\"}},\"id\":\"5574\",\"type\":\"LinearAxis\"},{\"attributes\":{\"line_alpha\":0.1,\"line_color\":\"#30a2da\",\"line_width\":2,\"tags\":[\"apply_ranges\"],\"x\":{\"field\":\"time\"},\"y\":{\"field\":\"L_mn_norm\"}},\"id\":\"5684\",\"type\":\"Line\"},{\"attributes\":{\"axis\":{\"id\":\"5739\"},\"coordinates\":null,\"dimension\":1,\"grid_line_color\":null,\"group\":null,\"ticker\":null},\"id\":\"5742\",\"type\":\"Grid\"},{\"attributes\":{},\"id\":\"5516\",\"type\":\"Selection\"},{\"attributes\":{},\"id\":\"5961\",\"type\":\"UnionRenderers\"},{\"attributes\":{\"months\":[0,2,4,6,8,10]},\"id\":\"6001\",\"type\":\"MonthsTicker\"},{\"attributes\":{},\"id\":\"5897\",\"type\":\"UnionRenderers\"},{\"attributes\":{\"data\":{\"id_count\":{\"__ndarray__\":\"AAAAAADAb0AAAAAAAEBwQAAAAAAAUHVAAAAAAAAQcEAAAAAAAIBwQAAAAAAAQHNAAAAAAADgdUAAAAAAAAB2QAAAAAAAoHdAAAAAAADgdkAAAAAAADB5QAAAAAAAUHhAAAAAAADAeEAAAAAAAOB2QAAAAAAAcHJAAAAAAAAgdUAAAAAAAHB2QAAAAAAAsHZAAAAAAAAwdUAAAAAAAIB4QAAAAAAAQHdAAAAAAACQeUAAAAAAAGB3QAAAAAAAgHVAAAAAAACQeUAAAAAAAKBsQAAAAAAAMHZAAAAAAADgd0AAAAAAADB5QAAAAAAAcHZAAAAAAAAge0AAAAAAABB2QAAAAAAAsHlAAAAAAABwdkAAAAAAAFB2QAAAAAAA0HpAAAAAAADAd0AAAAAAALB4QAAAAAAA4HlAAAAAAADAd0AAAAAAAIB3QAAAAAAAsHlAAAAAAACgd0AAAAAAAPBzQAAAAAAAwHRAAAAAAACwdEAAAAAAAPBwQAAAAAAAMHdAAAAAAABQd0AAAAAAALB3QAAAAAAAkHdAAAAAAABwdUAAAAAAAEBzQAAAAAAA0HRAAAAAAADAakAAAAAAAEBxQAAAAAAAUHJA\",\"dtype\":\"float64\",\"order\":\"little\",\"shape\":[57]},\"j0_norm\":{\"__ndarray__\":\"S4ZSlidXuT+RU3ud4qC4P4Yb5v8xBrQ/79Tc7FR5uT+T6r/fJw+1P/mRqgfEArA/IW+ZFTVUwD+cOUEXHFS2P2bl73xUJbc/A5q1a1vYtD95aRUZ5fm0Px1MYqHjO7U/hq7EvSWVuD92jPSzwXm2P5qdD4cQg7k/jXNLJE2Vtj9nMwjbhgu2PzD4Ng/qUbU/gRSN13jJsD8WOc+H43uzP02GY8iNu7k/hOnAiEsftD9hPkK3SUayPzxnLGnP0rk/DbqYh1bquD+986Uwema3P2thITnnO7c/utUJsoTYsj8yr0+Laqq3P57nP1iwgLo/nUzsK/tkuT9JF2K9sey3P93DcGvu37c/Y9MpxEFStD9GTIOh5sGwP7can4w8lLg/zdXGl8DEsz95EztZWt61P8yyBC3JHrU/USc/W+oEuj8EwZaYzKy2PxyxKGXuTbY/ePh8143tsz9wVqJhXmKwPzg9xbL0XbQ/j219jfI6tD/GIft4/lm0P21IJydEebU/FVr/CopxuT/BVTdXx7a1P/VlGxLpBLI/pAOd0wWcsT9WN7vUCie4P3p0204ye7Q/i6XgsJ2Lrz+1YNhxHKC0P6ONlP4KZrM/\",\"dtype\":\"float64\",\"order\":\"little\",\"shape\":[57]},\"sat\":[\"THB\",\"THB\",\"THB\",\"THB\",\"THB\",\"THB\",\"THB\",\"THB\",\"THB\",\"THB\",\"THB\",\"THB\",\"THB\",\"THB\",\"THB\",\"THB\",\"THB\",\"THB\",\"THB\",\"THB\",\"THB\",\"THB\",\"THB\",\"THB\",\"THB\",\"THB\",\"THB\",\"THB\",\"THB\",\"THB\",\"THB\",\"THB\",\"THB\",\"THB\",\"THB\",\"THB\",\"THB\",\"THB\",\"THB\",\"THB\",\"THB\",\"THB\",\"THB\",\"THB\",\"THB\",\"THB\",\"THB\",\"THB\",\"THB\",\"THB\",\"THB\",\"THB\",\"THB\",\"THB\",\"THB\",\"THB\",\"THB\"],\"time\":{\"__ndarray__\":\"AACAYZEfc0IAAABOOSlzQgAAgDrhMnNCAAAAJ4k8c0IAAIATMUZzQgAAAADZT3NCAACA7IBZc0IAAADZKGNzQgAAgMXQbHNCAAAAsnh2c0IAAICeIIBzQgAAAIvIiXNCAACAd3CTc0IAAABkGJ1zQgAAgFDApnNCAAAAPWiwc0IAAIApELpzQgAAABa4w3NCAACAAmDNc0IAAADvB9dzQgAAgNuv4HNCAAAAyFfqc0IAAIC0//NzQgAAAKGn/XNCAACAjU8HdEIAAAB69xB0QgAAgGafGnRCAAAAU0ckdEIAAIA/7y10QgAAACyXN3RCAACAGD9BdEIAAAAF50p0QgAAgPGOVHRCAAAA3jZedEIAAIDK3md0QgAAALeGcXRCAACAoy57dEIAAACQ1oR0QgAAgHx+jnRCAAAAaSaYdEIAAIBVzqF0QgAAAEJ2q3RCAACALh61dEIAAAAbxr50QgAAgAduyHRCAAAA9BXSdEIAAIDgvdt0QgAAAM1l5XRCAACAuQ3vdEIAAACmtfh0QgAAgJJdAnVCAAAAfwUMdUIAAIBrrRV1QgAAAFhVH3VCAACARP0odUIAAAAxpTJ1QgAAgB1NPHVC\",\"dtype\":\"float64\",\"order\":\"little\",\"shape\":[57]}},\"selected\":{\"id\":\"5534\"},\"selection_policy\":{\"id\":\"5930\"}},\"id\":\"5533\",\"type\":\"ColumnDataSource\"},{\"attributes\":{\"source\":{\"id\":\"5615\"}},\"id\":\"5622\",\"type\":\"CDSView\"},{\"attributes\":{},\"id\":\"5854\",\"type\":\"Selection\"},{\"attributes\":{},\"id\":\"5431\",\"type\":\"BasicTickFormatter\"},{\"attributes\":{\"overlay\":{\"id\":\"5501\"}},\"id\":\"5499\",\"type\":\"BoxZoomTool\"},{\"attributes\":{},\"id\":\"5930\",\"type\":\"UnionRenderers\"},{\"attributes\":{},\"id\":\"5815\",\"type\":\"LinearScale\"},{\"attributes\":{},\"id\":\"5903\",\"type\":\"UnionRenderers\"},{\"attributes\":{\"months\":[0,6]},\"id\":\"6061\",\"type\":\"MonthsTicker\"},{\"attributes\":{\"line_color\":\"#fc4f30\",\"line_width\":2,\"tags\":[\"apply_ranges\"],\"x\":{\"field\":\"time\"},\"y\":{\"field\":\"j0_norm\"}},\"id\":\"5450\",\"type\":\"Line\"},{\"attributes\":{\"data\":{\"L_mn_norm\":{\"__ndarray__\":\"ZDrRkZ9uNUB7zBhDCKw1QEaT8to3XzRA5vNU8n2qNkAIij5aAiU2QNa6uei28TdAs1TQRWVHOEB5myV8/dI0QO2QhC/DcDZA2GkcAPIFNUDQB22Sars1QBOjbygiNjZA6d0CppFtNEALgdLLavkzQDizw3NExjNAIxObpbxwM0Ax2JubMS41QLkYlr3DKDNAoJzQCG2kNECHLtNEkkA0QDXn0E62fjdAdSnw4yi/N0DYdDZJAsM0QCqbYp8GYjRAlbesoyBxM0AbvZu3YYExQFPcsnI2gzJAPxKxvAZqMkC9jaqAygw1QCGBC7sHzzRA1Mnb3OtANECJboisku4yQMWw07hOAzNA38PafRYBNEDZ4O20Q58yQLeQRjgx/jZAAAAAAAAA+H8AAAAAAAD4fwAAAAAAAPh/AAAAAAAA+H8AAAAAAAD4fwAAAAAAAPh/AAAAAAAA+H8AAAAAAAD4fwAAAAAAAPh/AAAAAAAA+H8AAAAAAAD4fwAAAAAAAPh/AAAAAAAA+H8AAAAAAAD4fwAAAAAAAPh/s/M5L2whPUAFHnhudyo8QE7F8AQDjTtARmcMu8KlO0Ch7FAvWuQ7QC1Qz9+yUDxA20NqI7aSOEA=\",\"dtype\":\"float64\",\"order\":\"little\",\"shape\":[58]},\"id_count\":{\"__ndarray__\":\"AAAAAAConkAAAAAAAJKhQAAAAAAAxKFAAAAAAACmoEAAAAAAACKiQAAAAAAAkqBAAAAAAADcoUAAAAAAAKSWQAAAAAAAdKFAAAAAAABmoEAAAAAAALifQAAAAAAA8J9AAAAAAABcoUAAAAAAAI6hQAAAAAAARKJAAAAAAACcoEAAAAAAAACdQAAAAAAAqJ5AAAAAAAB+oEAAAAAAAMCiQAAAAAAAbqBAAAAAAAAMoUAAAAAAAOShQAAAAAAApJ9AAAAAAAACoUAAAAAAAIShQAAAAAAAxqBAAAAAAACUnkAAAAAAAOSbQAAAAAAADJ5AAAAAAACwoEAAAAAAAJagQAAAAAAA4qBAAAAAAABioUAAAAAAAJSeQAAAAAAAkJ5AAAAAAAAA+H8AAAAAAAD4fwAAAAAAAPh/AAAAAAAA+H8AAAAAAAD4fwAAAAAAAPh/AAAAAAAA+H8AAAAAAAD4fwAAAAAAAPh/AAAAAAAA+H8AAAAAAAD4fwAAAAAAAPh/AAAAAAAA+H8AAAAAAAD4fwAAAAAAAPh/AAAAAAAEkEAAAAAAAASfQAAAAAAA6qFAAAAAAACuokAAAAAAABihQAAAAAAAwKFAAAAAAACAYEA=\",\"dtype\":\"float64\",\"order\":\"little\",\"shape\":[58]},\"sat\":[\"STA\",\"STA\",\"STA\",\"STA\",\"STA\",\"STA\",\"STA\",\"STA\",\"STA\",\"STA\",\"STA\",\"STA\",\"STA\",\"STA\",\"STA\",\"STA\",\"STA\",\"STA\",\"STA\",\"STA\",\"STA\",\"STA\",\"STA\",\"STA\",\"STA\",\"STA\",\"STA\",\"STA\",\"STA\",\"STA\",\"STA\",\"STA\",\"STA\",\"STA\",\"STA\",\"STA\",\"STA\",\"STA\",\"STA\",\"STA\",\"STA\",\"STA\",\"STA\",\"STA\",\"STA\",\"STA\",\"STA\",\"STA\",\"STA\",\"STA\",\"STA\",\"STA\",\"STA\",\"STA\",\"STA\",\"STA\",\"STA\",\"STA\"],\"time\":{\"__ndarray__\":\"AACAYZEfc0IAAABOOSlzQgAAgDrhMnNCAAAAJ4k8c0IAAIATMUZzQgAAAADZT3NCAACA7IBZc0IAAADZKGNzQgAAgMXQbHNCAAAAsnh2c0IAAICeIIBzQgAAAIvIiXNCAACAd3CTc0IAAABkGJ1zQgAAgFDApnNCAAAAPWiwc0IAAIApELpzQgAAABa4w3NCAACAAmDNc0IAAADvB9dzQgAAgNuv4HNCAAAAyFfqc0IAAIC0//NzQgAAAKGn/XNCAACAjU8HdEIAAAB69xB0QgAAgGafGnRCAAAAU0ckdEIAAIA/7y10QgAAACyXN3RCAACAGD9BdEIAAAAF50p0QgAAgPGOVHRCAAAA3jZedEIAAIDK3md0QgAAALeGcXRCAACAoy57dEIAAACQ1oR0QgAAgHx+jnRCAAAAaSaYdEIAAIBVzqF0QgAAAEJ2q3RCAACALh61dEIAAAAbxr50QgAAgAduyHRCAAAA9BXSdEIAAIDgvdt0QgAAAM1l5XRCAACAuQ3vdEIAAACmtfh0QgAAgJJdAnVCAAAAfwUMdUIAAIBrrRV1QgAAAFhVH3VCAACARP0odUIAAAAxpTJ1QgAAgB1NPHVCAAAACvVFdUI=\",\"dtype\":\"float64\",\"order\":\"little\",\"shape\":[58]}},\"selected\":{\"id\":\"5690\"},\"selection_policy\":{\"id\":\"5986\"}},\"id\":\"5689\",\"type\":\"ColumnDataSource\"},{\"attributes\":{\"base\":24,\"mantissas\":[1,2,4,6,8,12],\"max_interval\":43200000.0,\"min_interval\":3600000.0,\"num_minor_ticks\":0},\"id\":\"6024\",\"type\":\"AdaptiveTicker\"},{\"attributes\":{\"line_alpha\":0.1,\"line_color\":\"#fc4f30\",\"line_width\":2,\"tags\":[\"apply_ranges\"],\"x\":{\"field\":\"time\"},\"y\":{\"field\":\"L_mn_norm\"}},\"id\":\"5693\",\"type\":\"Line\"},{\"attributes\":{\"days\":[1,2,3,4,5,6,7,8,9,10,11,12,13,14,15,16,17,18,19,20,21,22,23,24,25,26,27,28,29,30,31]},\"id\":\"5967\",\"type\":\"DaysTicker\"},{\"attributes\":{\"active_drag\":{\"id\":\"5579\"},\"active_scroll\":{\"id\":\"5580\"},\"tools\":[{\"id\":\"5557\"},{\"id\":\"5578\"},{\"id\":\"5579\"},{\"id\":\"5580\"},{\"id\":\"5581\"},{\"id\":\"5582\"}]},\"id\":\"5584\",\"type\":\"Toolbar\"},{\"attributes\":{},\"id\":\"5429\",\"type\":\"AllLabels\"},{\"attributes\":{\"days\":[1,8,15,22]},\"id\":\"5940\",\"type\":\"DaysTicker\"},{\"attributes\":{\"line_color\":\"#6d904f\",\"line_width\":2,\"tags\":[\"apply_ranges\"],\"x\":{\"field\":\"time\"},\"y\":{\"field\":\"L_mn_norm\"}},\"id\":\"5710\",\"type\":\"Line\"},{\"attributes\":{\"data\":{\"id_count\":{\"__ndarray__\":\"AAAAAABknEAAAAAAAPCdQAAAAAAAPJpAAAAAAADsmkAAAAAAAOSbQAAAAAAAYJtAAAAAAAD4mUAAAAAAAIyYQAAAAAAAaIxAAAAAAACAlUAAAAAAADCFQAAAAAAA6IdAAAAAAACAZUAAAAAAAAD4fwAAAAAArJVAAAAAAABYkEAAAAAAACCSQAAAAAAAXJFAAAAAAADcl0AAAAAAAJiWQAAAAAAAfJZAAAAAAADge0AAAAAAAAD4fwAAAAAAAPh/AAAAAAAA+H8AAAAAAIBqQAAAAAAADJNAAAAAAAA4mkAAAAAAALyZQAAAAAAAbJlAAAAAAABol0AAAAAAAAB8QAAAAAAAwI1AAAAAAADojkAAAAAAACCGQAAAAAAAAHpAAAAAAAB4gUAAAAAAAKCBQAAAAAAA2IBAAAAAAAAwgUAAAAAAANB0QAAAAAAA0H9AAAAAAAAwekAAAAAAAKB5QAAAAAAAsHdAAAAAAAAQc0AAAAAAAEByQAAAAAAA4HFAAAAAAADAbEAAAAAAAGB0QAAAAAAAkHRAAAAAAABgbEAAAAAAAFBzQAAAAAAAgHBAAAAAAAAQckAAAAAAAOByQAAAAAAA4HRA\",\"dtype\":\"float64\",\"order\":\"little\",\"shape\":[57]},\"j0_norm\":{\"__ndarray__\":\"Bidy09umsz8cvFB/ytKxP2WGvgjDsLE/wSE2T/yPtT+Yb7K+sry3P59UGnkbPbk/OF16oDMHvz+NrXH/Nne/P8BQECrGy7s/YfwyU0hmwD8+PwvVUsTCPzCOM6S97r0/zcLuh5IzwD8AAAAAAAD4fx0nGPSYvLw/2thhtU5WvT8+nI77FOa5PwaYXcp1n7Y/aZTkhecJtT/iyQOk3ZS1Pzjh/zZwcrI/u73fH0JLqT8AAAAAAAD4fwAAAAAAAPh/AAAAAAAA+H+Id9xyPGSqP7GymXYKBKw/+UNJBrjDsz/jc7dJyxS2P3A+e1zpLbo/DPwBngJfuD+GQrR67RK9Px/n91FrJro/InMo+hI7wD+bfcLIOrzAP9EISD4fycI/AHdrVfURwj9SOQSxgaHAP868Lyc8j8U/Dt6bhE1Mxj99ebPEnInCP0C6kKS3jMQ/SfspqnGPyT87mJAj8QnQPwVs0CeH/cc/VNgWBo0ryz9GqB8X9VfGPxL6iBd+GtI/hnq0RiQNyz9HExsnfDvOPwdDjgclyco/UOv7whizyj+MHliTo37GPxB862K9gsc/u/cm8WTwzT8f35gY9jPJP3gJ4SeyQ8w/\",\"dtype\":\"float64\",\"order\":\"little\",\"shape\":[57]},\"sat\":[\"JNO\",\"JNO\",\"JNO\",\"JNO\",\"JNO\",\"JNO\",\"JNO\",\"JNO\",\"JNO\",\"JNO\",\"JNO\",\"JNO\",\"JNO\",\"JNO\",\"JNO\",\"JNO\",\"JNO\",\"JNO\",\"JNO\",\"JNO\",\"JNO\",\"JNO\",\"JNO\",\"JNO\",\"JNO\",\"JNO\",\"JNO\",\"JNO\",\"JNO\",\"JNO\",\"JNO\",\"JNO\",\"JNO\",\"JNO\",\"JNO\",\"JNO\",\"JNO\",\"JNO\",\"JNO\",\"JNO\",\"JNO\",\"JNO\",\"JNO\",\"JNO\",\"JNO\",\"JNO\",\"JNO\",\"JNO\",\"JNO\",\"JNO\",\"JNO\",\"JNO\",\"JNO\",\"JNO\",\"JNO\",\"JNO\",\"JNO\"],\"time\":{\"__ndarray__\":\"AACAYZEfc0IAAABOOSlzQgAAgDrhMnNCAAAAJ4k8c0IAAIATMUZzQgAAAADZT3NCAACA7IBZc0IAAADZKGNzQgAAgMXQbHNCAAAAsnh2c0IAAICeIIBzQgAAAIvIiXNCAACAd3CTc0IAAABkGJ1zQgAAgFDApnNCAAAAPWiwc0IAAIApELpzQgAAABa4w3NCAACAAmDNc0IAAADvB9dzQgAAgNuv4HNCAAAAyFfqc0IAAIC0//NzQgAAAKGn/XNCAACAjU8HdEIAAAB69xB0QgAAgGafGnRCAAAAU0ckdEIAAIA/7y10QgAAACyXN3RCAACAGD9BdEIAAAAF50p0QgAAgPGOVHRCAAAA3jZedEIAAIDK3md0QgAAALeGcXRCAACAoy57dEIAAACQ1oR0QgAAgHx+jnRCAAAAaSaYdEIAAIBVzqF0QgAAAEJ2q3RCAACALh61dEIAAAAbxr50QgAAgAduyHRCAAAA9BXSdEIAAIDgvdt0QgAAAM1l5XRCAACAuQ3vdEIAAACmtfh0QgAAgJJdAnVCAAAAfwUMdUIAAIBrrRV1QgAAAFhVH3VCAACARP0odUIAAAAxpTJ1QgAAgB1NPHVC\",\"dtype\":\"float64\",\"order\":\"little\",\"shape\":[57]}},\"selected\":{\"id\":\"5516\"},\"selection_policy\":{\"id\":\"5926\"}},\"id\":\"5515\",\"type\":\"ColumnDataSource\"},{\"attributes\":{},\"id\":\"5946\",\"type\":\"YearsTicker\"},{\"attributes\":{\"below\":[{\"id\":\"5488\"}],\"center\":[{\"id\":\"5491\"},{\"id\":\"5495\"}],\"height\":300,\"left\":[{\"id\":\"5492\"}],\"margin\":null,\"min_border_bottom\":10,\"min_border_left\":10,\"min_border_right\":10,\"min_border_top\":10,\"output_backend\":\"webgl\",\"renderers\":[{\"id\":\"5521\"},{\"id\":\"5530\"},{\"id\":\"5539\"},{\"id\":\"5548\"}],\"sizing_mode\":\"fixed\",\"title\":{\"id\":\"5480\"},\"toolbar\":{\"id\":\"5502\"},\"toolbar_location\":null,\"width\":300,\"x_range\":{\"id\":\"5389\"},\"x_scale\":{\"id\":\"5486\"},\"y_range\":{\"id\":\"5390\"},\"y_scale\":{\"id\":\"5487\"}},\"id\":\"5479\",\"subtype\":\"Figure\",\"type\":\"Plot\"},{\"attributes\":{\"axis\":{\"id\":\"5735\"},\"coordinates\":null,\"grid_line_color\":null,\"group\":null,\"ticker\":null},\"id\":\"5738\",\"type\":\"Grid\"},{\"attributes\":{},\"id\":\"6019\",\"type\":\"UnionRenderers\"},{\"attributes\":{},\"id\":\"5957\",\"type\":\"UnionRenderers\"},{\"attributes\":{\"line_color\":\"#e5ae38\",\"line_width\":2,\"tags\":[\"apply_ranges\"],\"x\":{\"field\":\"time\"},\"y\":{\"field\":\"L_mn_norm\"}},\"id\":\"5865\",\"type\":\"Line\"},{\"attributes\":{},\"id\":\"5928\",\"type\":\"UnionRenderers\"},{\"attributes\":{\"line_color\":\"#6d904f\",\"line_width\":2,\"tags\":[\"apply_ranges\"],\"x\":{\"field\":\"time\"},\"y\":{\"field\":\"L_mn_norm\"}},\"id\":\"5792\",\"type\":\"Line\"},{\"attributes\":{\"months\":[0,1,2,3,4,5,6,7,8,9,10,11]},\"id\":\"5942\",\"type\":\"MonthsTicker\"},{\"attributes\":{\"line_color\":\"#30a2da\",\"line_width\":2,\"tags\":[\"apply_ranges\"],\"x\":{\"field\":\"time\"},\"y\":{\"field\":\"j0_norm\"}},\"id\":\"5600\",\"type\":\"Line\"},{\"attributes\":{},\"id\":\"5781\",\"type\":\"Selection\"},{\"attributes\":{\"line_color\":\"#e5ae38\",\"line_width\":2,\"tags\":[\"apply_ranges\"],\"x\":{\"field\":\"time\"},\"y\":{\"field\":\"L_mn_norm\"}},\"id\":\"5788\",\"type\":\"Line\"},{\"attributes\":{},\"id\":\"5708\",\"type\":\"Selection\"},{\"attributes\":{\"line_alpha\":0.2,\"line_color\":\"#e5ae38\",\"line_width\":2,\"tags\":[\"apply_ranges\"],\"x\":{\"field\":\"time\"},\"y\":{\"field\":\"j0_norm\"}},\"id\":\"5456\",\"type\":\"Line\"},{\"attributes\":{\"axis_label\":\"L_mn_norm\",\"coordinates\":null,\"formatter\":{\"id\":\"5760\"},\"group\":null,\"major_label_policy\":{\"id\":\"5761\"},\"ticker\":{\"id\":\"5740\"}},\"id\":\"5739\",\"type\":\"LinearAxis\"},{\"attributes\":{\"coordinates\":null,\"data_source\":{\"id\":\"5524\"},\"glyph\":{\"id\":\"5527\"},\"group\":null,\"hover_glyph\":null,\"muted_glyph\":{\"id\":\"5529\"},\"nonselection_glyph\":{\"id\":\"5528\"},\"selection_glyph\":{\"id\":\"5532\"},\"view\":{\"id\":\"5531\"}},\"id\":\"5530\",\"type\":\"GlyphRenderer\"},{\"attributes\":{\"line_alpha\":0.2,\"line_color\":\"#30a2da\",\"line_width\":2,\"tags\":[\"apply_ranges\"],\"x\":{\"field\":\"time\"},\"y\":{\"field\":\"j0_norm\"}},\"id\":\"5520\",\"type\":\"Line\"},{\"attributes\":{},\"id\":\"5418\",\"type\":\"ResetTool\"},{\"attributes\":{},\"id\":\"5665\",\"type\":\"ResetTool\"},{\"attributes\":{\"source\":{\"id\":\"5433\"}},\"id\":\"5440\",\"type\":\"CDSView\"},{\"attributes\":{\"overlay\":{\"id\":\"5666\"}},\"id\":\"5664\",\"type\":\"BoxZoomTool\"},{\"attributes\":{\"bottom_units\":\"screen\",\"coordinates\":null,\"fill_alpha\":0.5,\"fill_color\":\"lightgrey\",\"group\":null,\"left_units\":\"screen\",\"level\":\"overlay\",\"line_alpha\":1.0,\"line_color\":\"black\",\"line_dash\":[4,4],\"line_width\":2,\"right_units\":\"screen\",\"syncable\":false,\"top_units\":\"screen\"},\"id\":\"5419\",\"type\":\"BoxAnnotation\"},{\"attributes\":{\"callback\":null,\"formatters\":{\"@{time}\":\"datetime\"},\"renderers\":[{\"id\":\"5603\"},{\"id\":\"5612\"},{\"id\":\"5621\"},{\"id\":\"5630\"}],\"tags\":[\"hv_created\"],\"tooltips\":[[\"sat\",\"@{sat}\"],[\"time\",\"@{time}{%F %T}\"],[\"j0_norm\",\"@{j0_norm}\"],[\"id_count\",\"@{id_count}\"]]},\"id\":\"5557\",\"type\":\"HoverTool\"},{\"attributes\":{\"num_minor_ticks\":5,\"tickers\":[{\"id\":\"5964\"},{\"id\":\"5965\"},{\"id\":\"5966\"},{\"id\":\"5967\"},{\"id\":\"5968\"},{\"id\":\"5969\"},{\"id\":\"5970\"},{\"id\":\"5971\"},{\"id\":\"5972\"},{\"id\":\"5973\"},{\"id\":\"5974\"},{\"id\":\"5975\"}]},\"id\":\"5571\",\"type\":\"DatetimeTicker\"},{\"attributes\":{\"line_alpha\":0.2,\"line_color\":\"#30a2da\",\"line_width\":2,\"tags\":[\"apply_ranges\"],\"x\":{\"field\":\"time\"},\"y\":{\"field\":\"j0_norm\"}},\"id\":\"5602\",\"type\":\"Line\"},{\"attributes\":{\"below\":[{\"id\":\"5817\"}],\"center\":[{\"id\":\"5820\"},{\"id\":\"5824\"}],\"height\":300,\"left\":[{\"id\":\"5821\"}],\"margin\":null,\"min_border_bottom\":10,\"min_border_left\":10,\"min_border_right\":10,\"min_border_top\":10,\"output_backend\":\"webgl\",\"renderers\":[{\"id\":\"5850\"},{\"id\":\"5859\"},{\"id\":\"5868\"},{\"id\":\"5877\"}],\"sizing_mode\":\"fixed\",\"title\":{\"id\":\"5809\"},\"toolbar\":{\"id\":\"5831\"},\"toolbar_location\":null,\"width\":300,\"x_range\":{\"id\":\"5389\"},\"x_scale\":{\"id\":\"5815\"},\"y_range\":{\"id\":\"5637\"},\"y_scale\":{\"id\":\"5816\"}},\"id\":\"5808\",\"subtype\":\"Figure\",\"type\":\"Plot\"},{\"attributes\":{\"num_minor_ticks\":5,\"tickers\":[{\"id\":\"5993\"},{\"id\":\"5994\"},{\"id\":\"5995\"},{\"id\":\"5996\"},{\"id\":\"5997\"},{\"id\":\"5998\"},{\"id\":\"5999\"},{\"id\":\"6000\"},{\"id\":\"6001\"},{\"id\":\"6002\"},{\"id\":\"6003\"},{\"id\":\"6004\"}]},\"id\":\"5654\",\"type\":\"DatetimeTicker\"},{\"attributes\":{\"line_alpha\":0.2,\"line_color\":\"#6d904f\",\"line_width\":2,\"tags\":[\"apply_ranges\"],\"x\":{\"field\":\"time\"},\"y\":{\"field\":\"L_mn_norm\"}},\"id\":\"5794\",\"type\":\"Line\"},{\"attributes\":{},\"id\":\"5676\",\"type\":\"AllLabels\"},{\"attributes\":{},\"id\":\"5975\",\"type\":\"YearsTicker\"},{\"attributes\":{\"line_color\":\"#6d904f\",\"line_width\":2,\"tags\":[\"apply_ranges\"],\"x\":{\"field\":\"time\"},\"y\":{\"field\":\"j0_norm\"}},\"id\":\"5632\",\"type\":\"Line\"},{\"attributes\":{\"line_color\":\"#fc4f30\",\"line_width\":2,\"tags\":[\"apply_ranges\"],\"x\":{\"field\":\"time\"},\"y\":{\"field\":\"L_mn_norm\"}},\"id\":\"5861\",\"type\":\"Line\"},{\"attributes\":{\"days\":[1,8,15,22]},\"id\":\"5969\",\"type\":\"DaysTicker\"},{\"attributes\":{},\"id\":\"5733\",\"type\":\"LinearScale\"},{\"attributes\":{\"axis_label\":\"time\",\"coordinates\":null,\"formatter\":{\"id\":\"5757\"},\"group\":null,\"major_label_policy\":{\"id\":\"5758\"},\"ticker\":{\"id\":\"5736\"}},\"id\":\"5735\",\"type\":\"DatetimeAxis\"},{\"attributes\":{\"source\":{\"id\":\"5515\"}},\"id\":\"5522\",\"type\":\"CDSView\"},{\"attributes\":{\"line_alpha\":0.2,\"line_color\":\"#fc4f30\",\"line_width\":2,\"tags\":[\"apply_ranges\"],\"x\":{\"field\":\"time\"},\"y\":{\"field\":\"j0_norm\"}},\"id\":\"5447\",\"type\":\"Line\"},{\"attributes\":{\"num_minor_ticks\":5,\"tickers\":[{\"id\":\"6022\"},{\"id\":\"6023\"},{\"id\":\"6024\"},{\"id\":\"6025\"},{\"id\":\"6026\"},{\"id\":\"6027\"},{\"id\":\"6028\"},{\"id\":\"6029\"},{\"id\":\"6030\"},{\"id\":\"6031\"},{\"id\":\"6032\"},{\"id\":\"6033\"}]},\"id\":\"5736\",\"type\":\"DatetimeTicker\"},{\"attributes\":{},\"id\":\"5616\",\"type\":\"Selection\"},{\"attributes\":{},\"id\":\"5763\",\"type\":\"Selection\"},{\"attributes\":{},\"id\":\"5534\",\"type\":\"Selection\"},{\"attributes\":{\"source\":{\"id\":\"5762\"}},\"id\":\"5769\",\"type\":\"CDSView\"},{\"attributes\":{},\"id\":\"5434\",\"type\":\"Selection\"},{\"attributes\":{\"coordinates\":null,\"group\":null,\"text_color\":\"black\",\"text_font_size\":\"12pt\"},\"id\":\"5809\",\"type\":\"Title\"},{\"attributes\":{},\"id\":\"5747\",\"type\":\"ResetTool\"},{\"attributes\":{\"days\":[1,15]},\"id\":\"5970\",\"type\":\"DaysTicker\"},{\"attributes\":{\"line_alpha\":0.2,\"line_color\":\"#e5ae38\",\"line_width\":2,\"tags\":[\"apply_ranges\"],\"x\":{\"field\":\"time\"},\"y\":{\"field\":\"L_mn_norm\"}},\"id\":\"5867\",\"type\":\"Line\"},{\"attributes\":{\"toolbars\":[{\"id\":\"5420\"},{\"id\":\"5502\"},{\"id\":\"5584\"},{\"id\":\"5667\"},{\"id\":\"5749\"},{\"id\":\"5831\"}],\"tools\":[{\"id\":\"5393\"},{\"id\":\"5414\"},{\"id\":\"5415\"},{\"id\":\"5416\"},{\"id\":\"5417\"},{\"id\":\"5418\"},{\"id\":\"5475\"},{\"id\":\"5496\"},{\"id\":\"5497\"},{\"id\":\"5498\"},{\"id\":\"5499\"},{\"id\":\"5500\"},{\"id\":\"5557\"},{\"id\":\"5578\"},{\"id\":\"5579\"},{\"id\":\"5580\"},{\"id\":\"5581\"},{\"id\":\"5582\"},{\"id\":\"5640\"},{\"id\":\"5661\"},{\"id\":\"5662\"},{\"id\":\"5663\"},{\"id\":\"5664\"},{\"id\":\"5665\"},{\"id\":\"5722\"},{\"id\":\"5743\"},{\"id\":\"5744\"},{\"id\":\"5745\"},{\"id\":\"5746\"},{\"id\":\"5747\"},{\"id\":\"5804\"},{\"id\":\"5825\"},{\"id\":\"5826\"},{\"id\":\"5827\"},{\"id\":\"5828\"},{\"id\":\"5829\"}]},\"id\":\"6065\",\"type\":\"ProxyToolbar\"},{\"attributes\":{},\"id\":\"6062\",\"type\":\"YearsTicker\"},{\"attributes\":{},\"id\":\"5500\",\"type\":\"ResetTool\"},{\"attributes\":{\"overlay\":{\"id\":\"5583\"}},\"id\":\"5581\",\"type\":\"BoxZoomTool\"},{\"attributes\":{\"end\":56.61449680871675,\"reset_end\":56.61449680871675,\"reset_start\":-0.2776182221585062,\"start\":-0.2776182221585062,\"tags\":[[[\"L_mn_norm\",\"L_mn_norm\",null]],{\"autorange\":false,\"invert_yaxis\":false}]},\"id\":\"5637\",\"type\":\"Range1d\"},{\"attributes\":{\"coordinates\":null,\"data_source\":{\"id\":\"5451\"},\"glyph\":{\"id\":\"5454\"},\"group\":null,\"hover_glyph\":null,\"muted_glyph\":{\"id\":\"5456\"},\"nonselection_glyph\":{\"id\":\"5455\"},\"selection_glyph\":{\"id\":\"5459\"},\"view\":{\"id\":\"5458\"}},\"id\":\"5457\",\"type\":\"GlyphRenderer\"},{\"attributes\":{\"base\":60,\"mantissas\":[1,2,5,10,15,20,30],\"max_interval\":1800000.0,\"min_interval\":1000.0,\"num_minor_ticks\":0},\"id\":\"5965\",\"type\":\"AdaptiveTicker\"},{\"attributes\":{\"data\":{\"L_mn_norm\":{\"__ndarray__\":\"IHYh5iBDPUBPVZnZJ8o+QBStDnkVSDtA9RkuhNhLPUCXB4QYvXE9QEzdO7rpnT1AA2UVONVwOkAiY4rVRME9QFpIdQQQDDxApdvX682wO0BUZ2k/dZg+QBiqyMchxztABBXbArjNOkBK+S0Et5U8QE6NN/Gk1zlA2Jy21lKQOUBJvR4K0K07QIpV69jxQD5AqTbr4ecgQUBz6hLWSkQ7QJ+LBrvTSTpA5RgJxqhxOkB1qPa/32Y5QMwixey2hTpAdwsOt97uPUC9yjiU+Pg5QO+zPyg4+zVANIc5kv2jNkBFTJl4n6E6QOyjug25aTlA23G7dVuDOEA7iuklizI6QG/PWttp6jxAbZLpVk2HPUCXsNUaSj47QChWmY28VDtAT54WjVhQPkAvKqrFyjw9QC3k83NjV0BAtQvlXURsQUADhI6hEAtAQEbkyqi71kFALvA0B7dcQEDh1e7L5tNAQAT/jZk9ZkBA0mZ27r29PkC8aZqS6L86QLKTpX0xeUBAd8tEhSYbQEBTjfiSo8JAQH2dAh2o2D9Azjrvnwn3P0AXjxxHrf1AQDHupdlZGkBASMf2K6Y2PkB4ZiHDnkNBQGWTBYkon0BA\",\"dtype\":\"float64\",\"order\":\"little\",\"shape\":[57]},\"id_count\":{\"__ndarray__\":\"AAAAAAAgZEAAAAAAAMBjQAAAAAAAAGFAAAAAAADgZkAAAAAAAEBjQAAAAAAAwGBAAAAAAABgYkAAAAAAAMBhQAAAAAAA4GBAAAAAAACgY0AAAAAAAOBhQAAAAAAAgGBAAAAAAAAgYkAAAAAAAGBjQAAAAAAAwGJAAAAAAAAAZEAAAAAAAKBnQAAAAAAAwGJAAAAAAABAZUAAAAAAAGBnQAAAAAAAAGNAAAAAAAAgZEAAAAAAAMBdQAAAAAAA4GZAAAAAAADgZ0AAAAAAAOBiQAAAAAAAgF9AAAAAAACAZEAAAAAAAMBkQAAAAAAAIGVAAAAAAADAYkAAAAAAAGBnQAAAAAAAQFxAAAAAAAAgYkAAAAAAAEBjQAAAAAAAwF9AAAAAAAAgYUAAAAAAAOBgQAAAAAAAwF1AAAAAAACAT0AAAAAAAMBoQAAAAAAAgGRAAAAAAABgZUAAAAAAAGBlQAAAAAAAIGtAAAAAAABgZEAAAAAAAABiQAAAAAAAwGNAAAAAAACgZEAAAAAAAMBkQAAAAAAAgGhAAAAAAADgZkAAAAAAAMBnQAAAAAAAQGVAAAAAAAAgZEAAAAAAAABmQAAAAAAAwGRA\",\"dtype\":\"float64\",\"order\":\"little\",\"shape\":[57]},\"sat\":[\"Wind\",\"Wind\",\"Wind\",\"Wind\",\"Wind\",\"Wind\",\"Wind\",\"Wind\",\"Wind\",\"Wind\",\"Wind\",\"Wind\",\"Wind\",\"Wind\",\"Wind\",\"Wind\",\"Wind\",\"Wind\",\"Wind\",\"Wind\",\"Wind\",\"Wind\",\"Wind\",\"Wind\",\"Wind\",\"Wind\",\"Wind\",\"Wind\",\"Wind\",\"Wind\",\"Wind\",\"Wind\",\"Wind\",\"Wind\",\"Wind\",\"Wind\",\"Wind\",\"Wind\",\"Wind\",\"Wind\",\"Wind\",\"Wind\",\"Wind\",\"Wind\",\"Wind\",\"Wind\",\"Wind\",\"Wind\",\"Wind\",\"Wind\",\"Wind\",\"Wind\",\"Wind\",\"Wind\",\"Wind\",\"Wind\",\"Wind\"],\"time\":{\"__ndarray__\":\"AACAYZEfc0IAAABOOSlzQgAAgDrhMnNCAAAAJ4k8c0IAAIATMUZzQgAAAADZT3NCAACA7IBZc0IAAADZKGNzQgAAgMXQbHNCAAAAsnh2c0IAAICeIIBzQgAAAIvIiXNCAACAd3CTc0IAAABkGJ1zQgAAgFDApnNCAAAAPWiwc0IAAIApELpzQgAAABa4w3NCAACAAmDNc0IAAADvB9dzQgAAgNuv4HNCAAAAyFfqc0IAAIC0//NzQgAAAKGn/XNCAACAjU8HdEIAAAB69xB0QgAAgGafGnRCAAAAU0ckdEIAAIA/7y10QgAAACyXN3RCAACAGD9BdEIAAAAF50p0QgAAgPGOVHRCAAAA3jZedEIAAIDK3md0QgAAALeGcXRCAACAoy57dEIAAACQ1oR0QgAAgHx+jnRCAAAAaSaYdEIAAIBVzqF0QgAAAEJ2q3RCAACALh61dEIAAAAbxr50QgAAgAduyHRCAAAA9BXSdEIAAIDgvdt0QgAAAM1l5XRCAACAuQ3vdEIAAACmtfh0QgAAgJJdAnVCAAAAfwUMdUIAAIBrrRV1QgAAAFhVH3VCAACARP0odUIAAAAxpTJ1QgAAgB1NPHVC\",\"dtype\":\"float64\",\"order\":\"little\",\"shape\":[57]}},\"selected\":{\"id\":\"5872\"},\"selection_policy\":{\"id\":\"6048\"}},\"id\":\"5871\",\"type\":\"ColumnDataSource\"},{\"attributes\":{\"axis_label\":\"time\",\"coordinates\":null,\"formatter\":{\"id\":\"5675\"},\"group\":null,\"major_label_policy\":{\"id\":\"5676\"},\"ticker\":{\"id\":\"5654\"}},\"id\":\"5653\",\"type\":\"DatetimeAxis\"},{\"attributes\":{},\"id\":\"5578\",\"type\":\"SaveTool\"},{\"attributes\":{\"line_alpha\":0.1,\"line_color\":\"#6d904f\",\"line_width\":2,\"tags\":[\"apply_ranges\"],\"x\":{\"field\":\"time\"},\"y\":{\"field\":\"L_mn_norm\"}},\"id\":\"5793\",\"type\":\"Line\"},{\"attributes\":{\"line_color\":\"#fc4f30\",\"line_width\":2,\"tags\":[\"apply_ranges\"],\"x\":{\"field\":\"time\"},\"y\":{\"field\":\"j0_norm\"}},\"id\":\"5445\",\"type\":\"Line\"},{\"attributes\":{\"children\":[{\"id\":\"6066\"},{\"id\":\"6064\"}]},\"id\":\"6067\",\"type\":\"Column\"},{\"attributes\":{\"source\":{\"id\":\"5542\"}},\"id\":\"5549\",\"type\":\"CDSView\"},{\"attributes\":{},\"id\":\"5761\",\"type\":\"AllLabels\"},{\"attributes\":{\"days\":[1,8,15,22]},\"id\":\"5998\",\"type\":\"DaysTicker\"},{\"attributes\":{\"coordinates\":null,\"data_source\":{\"id\":\"5871\"},\"glyph\":{\"id\":\"5874\"},\"group\":null,\"hover_glyph\":null,\"muted_glyph\":{\"id\":\"5876\"},\"nonselection_glyph\":{\"id\":\"5875\"},\"selection_glyph\":{\"id\":\"5879\"},\"view\":{\"id\":\"5878\"}},\"id\":\"5877\",\"type\":\"GlyphRenderer\"},{\"attributes\":{\"line_alpha\":0.2,\"line_color\":\"#6d904f\",\"line_width\":2,\"tags\":[\"apply_ranges\"],\"x\":{\"field\":\"time\"},\"y\":{\"field\":\"j0_norm\"}},\"id\":\"5629\",\"type\":\"Line\"},{\"attributes\":{},\"id\":\"6044\",\"type\":\"UnionRenderers\"},{\"attributes\":{},\"id\":\"5498\",\"type\":\"WheelZoomTool\"},{\"attributes\":{\"months\":[0,6]},\"id\":\"6003\",\"type\":\"MonthsTicker\"},{\"attributes\":{\"coordinates\":null,\"group\":null,\"text_color\":\"black\",\"text_font_size\":\"12pt\"},\"id\":\"5727\",\"type\":\"Title\"},{\"attributes\":{\"source\":{\"id\":\"5524\"}},\"id\":\"5531\",\"type\":\"CDSView\"},{\"attributes\":{\"line_alpha\":0.2,\"line_color\":\"#6d904f\",\"line_width\":2,\"tags\":[\"apply_ranges\"],\"x\":{\"field\":\"time\"},\"y\":{\"field\":\"L_mn_norm\"}},\"id\":\"5876\",\"type\":\"Line\"},{\"attributes\":{},\"id\":\"5486\",\"type\":\"LinearScale\"},{\"attributes\":{\"months\":[0,4,8]},\"id\":\"6031\",\"type\":\"MonthsTicker\"},{\"attributes\":{},\"id\":\"6042\",\"type\":\"UnionRenderers\"},{\"attributes\":{\"base\":24,\"mantissas\":[1,2,4,6,8,12],\"max_interval\":43200000.0,\"min_interval\":3600000.0,\"num_minor_ticks\":0},\"id\":\"5908\",\"type\":\"AdaptiveTicker\"},{\"attributes\":{\"line_color\":\"#6d904f\",\"line_width\":2,\"tags\":[\"apply_ranges\"],\"x\":{\"field\":\"time\"},\"y\":{\"field\":\"j0_norm\"}},\"id\":\"5550\",\"type\":\"Line\"},{\"attributes\":{\"data\":{\"L_mn_norm\":{\"__ndarray__\":\"UG/z6qscNECDKz7VrFM3QN98kUvQjjVAAwPenwK7NkCY0l1WX4I3QLsvbrUHPT1AtSwZArwyNUCuLtfSfOU6QCwYXhryEDZA1bvuWqdXOECaE8iryrw4QGpvXM7BIDhAA3PGk5chOEDEfyuR4cI4QAnwu4vbXDdA8vpkSJOeN0CjNwWeeR46QLYPO0HxCDpAydKv/qFgOECXzzWXOsQ2QPFssoxu5DRAWX3FR18eO0D8XUbW7Vc2QHigNYpbDjVAs8/9Nm/FO0B66mmZhUA3QFa7Yw1OyTdAAfogxqNbN0DMsRbMz7I4QK9c1RJm1zNAQSqdDyy9NUCE8/7ARk43QBmGGKDRSTdAw+j0f/TqOEDBVa+6hCs4QAczTiIn8TVAdVV/poDtOEDuliydxxo8QOat2DYLxD1ATTrtAYESOkAJDI3Zfhk7QAU+Wrtu5ztARVf9JwlbPUC+dJvxa/tCQJLa90bjgj9Aab+NduU0OEA2pjhuTCA9QDgF9KkaQzpA8MufsuVePEAtrNMDIRM/QPAXhu+dVD5AAKrYfpD5OUD5ymxf/VU+QOazqVyKbT5AJLDtNlsEQECAJYghH6tAQGJnc1A3gzxA\",\"dtype\":\"float64\",\"order\":\"little\",\"shape\":[57]},\"id_count\":{\"__ndarray__\":\"AAAAAADQcEAAAAAAAIBxQAAAAAAAEHdAAAAAAAAwcUAAAAAAACBxQAAAAAAAwHRAAAAAAAAgeEAAAAAAAPB3QAAAAAAAMHlAAAAAAACAeUAAAAAAAEB7QAAAAAAAQHtAAAAAAABwekAAAAAAAIB5QAAAAAAAUHNAAAAAAABwdkAAAAAAADB5QAAAAAAAYHhAAAAAAABwdkAAAAAAACB6QAAAAAAA8HlAAAAAAADQe0AAAAAAAOB4QAAAAAAAYHdAAAAAAACAfEAAAAAAAEBvQAAAAAAAYHlAAAAAAACgeUAAAAAAAFB7QAAAAAAAAHlAAAAAAADwfEAAAAAAAFB4QAAAAAAAwHtAAAAAAADQeEAAAAAAAHB4QAAAAAAAUHxAAAAAAABAeUAAAAAAABB7QAAAAAAAIH1AAAAAAADweUAAAAAAABB5QAAAAAAAAHxAAAAAAAAgekAAAAAAAPB1QAAAAAAAUHdAAAAAAACgdkAAAAAAAHBzQAAAAAAAUHlAAAAAAACQekAAAAAAAPB6QAAAAAAA4HlAAAAAAABwd0AAAAAAABB2QAAAAAAAMHhAAAAAAACAbUAAAAAAABBzQAAAAAAAgHRA\",\"dtype\":\"float64\",\"order\":\"little\",\"shape\":[57]},\"sat\":[\"THB\",\"THB\",\"THB\",\"THB\",\"THB\",\"THB\",\"THB\",\"THB\",\"THB\",\"THB\",\"THB\",\"THB\",\"THB\",\"THB\",\"THB\",\"THB\",\"THB\",\"THB\",\"THB\",\"THB\",\"THB\",\"THB\",\"THB\",\"THB\",\"THB\",\"THB\",\"THB\",\"THB\",\"THB\",\"THB\",\"THB\",\"THB\",\"THB\",\"THB\",\"THB\",\"THB\",\"THB\",\"THB\",\"THB\",\"THB\",\"THB\",\"THB\",\"THB\",\"THB\",\"THB\",\"THB\",\"THB\",\"THB\",\"THB\",\"THB\",\"THB\",\"THB\",\"THB\",\"THB\",\"THB\",\"THB\",\"THB\"],\"time\":{\"__ndarray__\":\"AACAYZEfc0IAAABOOSlzQgAAgDrhMnNCAAAAJ4k8c0IAAIATMUZzQgAAAADZT3NCAACA7IBZc0IAAADZKGNzQgAAgMXQbHNCAAAAsnh2c0IAAICeIIBzQgAAAIvIiXNCAACAd3CTc0IAAABkGJ1zQgAAgFDApnNCAAAAPWiwc0IAAIApELpzQgAAABa4w3NCAACAAmDNc0IAAADvB9dzQgAAgNuv4HNCAAAAyFfqc0IAAIC0//NzQgAAAKGn/XNCAACAjU8HdEIAAAB69xB0QgAAgGafGnRCAAAAU0ckdEIAAIA/7y10QgAAACyXN3RCAACAGD9BdEIAAAAF50p0QgAAgPGOVHRCAAAA3jZedEIAAIDK3md0QgAAALeGcXRCAACAoy57dEIAAACQ1oR0QgAAgHx+jnRCAAAAaSaYdEIAAIBVzqF0QgAAAEJ2q3RCAACALh61dEIAAAAbxr50QgAAgAduyHRCAAAA9BXSdEIAAIDgvdt0QgAAAM1l5XRCAACAuQ3vdEIAAACmtfh0QgAAgJJdAnVCAAAAfwUMdUIAAIBrrRV1QgAAAFhVH3VCAACARP0odUIAAAAxpTJ1QgAAgB1NPHVC\",\"dtype\":\"float64\",\"order\":\"little\",\"shape\":[57]}},\"selected\":{\"id\":\"5699\"},\"selection_policy\":{\"id\":\"5988\"}},\"id\":\"5698\",\"type\":\"ColumnDataSource\"},{\"attributes\":{},\"id\":\"5428\",\"type\":\"DatetimeTickFormatter\"},{\"attributes\":{\"days\":[1,4,7,10,13,16,19,22,25,28]},\"id\":\"5968\",\"type\":\"DaysTicker\"},{\"attributes\":{\"data\":{\"L_mn_norm\":{\"__ndarray__\":\"c0LqeaHEN0AnXJUvd1I6QF6EwASIKjdA4PQM5N2FO0BWRAwtQ+A4QHEc0oIFuDxAbfuiINqZOkAG4U9QP1A4QH+pg2RT+TtAgMLDp0xnOUBFDtZRXgI4QGt2N33UUTxA3HKPbJDQOEDgczepneI0QLw8GL0PnzVAIeAZbfbeNUAremyW6wM6QOYbtJSI9jNA00ChoMUAOECjY7EurNk4QExAwgHa+jtAsOoFrCwaOkAN70Ryqhk6QBoyobhckzhA1D7KS2WbN0AcjG3CfdcyQBUXBKmJsTRA2AynntkUNkCcpzV0ZGE2QNt7GM2KaTdAu6fsDWE6OUBMWcxQWN02QMtM+cqOBTZAC8zNOJrAN0BurOeP30I1QIl7lomtLDxAAAAAAAAA+H8AAAAAAAD4fwAAAAAAAPh/AAAAAAAA+H8AAAAAAAD4fwAAAAAAAPh/AAAAAAAA+H8AAAAAAAD4fwAAAAAAAPh/AAAAAAAA+H8AAAAAAAD4fwAAAAAAAPh/AAAAAAAA+H8AAAAAAAD4fwAAAAAAAPh/b7zsxNBDQ0BzpoPVEi9CQP9YwddWh0FA68JWGU0EQUCbAguzVqtBQD0MfWwWBkFA\",\"dtype\":\"float64\",\"order\":\"little\",\"shape\":[57]},\"id_count\":{\"__ndarray__\":\"AAAAAAAAZkAAAAAAAMBjQAAAAAAAYGVAAAAAAADAZUAAAAAAACBvQAAAAAAAoGpAAAAAAABgY0AAAAAAAABSQAAAAAAAYGZAAAAAAADAaEAAAAAAAKBmQAAAAAAAgGVAAAAAAAAgaEAAAAAAAEBkQAAAAAAAYGJAAAAAAACAY0AAAAAAAEBhQAAAAAAAwFdAAAAAAACAZUAAAAAAAEBiQAAAAAAAgGJAAAAAAADAaUAAAAAAAEBmQAAAAAAAYGNAAAAAAADgZEAAAAAAACBkQAAAAAAAoGNAAAAAAACgYkAAAAAAAIBdQAAAAAAAAGBAAAAAAACgZ0AAAAAAACBkQAAAAAAA4GRAAAAAAAAAZUAAAAAAAIBeQAAAAAAAYGdAAAAAAAAA+H8AAAAAAAD4fwAAAAAAAPh/AAAAAAAA+H8AAAAAAAD4fwAAAAAAAPh/AAAAAAAA+H8AAAAAAAD4fwAAAAAAAPh/AAAAAAAA+H8AAAAAAAD4fwAAAAAAAPh/AAAAAAAA+H8AAAAAAAD4fwAAAAAAAPh/AAAAAABAVEAAAAAAAKBmQAAAAAAAIGxAAAAAAADAZUAAAAAAAGBqQAAAAAAAoGVA\",\"dtype\":\"float64\",\"order\":\"little\",\"shape\":[57]},\"sat\":[\"STA\",\"STA\",\"STA\",\"STA\",\"STA\",\"STA\",\"STA\",\"STA\",\"STA\",\"STA\",\"STA\",\"STA\",\"STA\",\"STA\",\"STA\",\"STA\",\"STA\",\"STA\",\"STA\",\"STA\",\"STA\",\"STA\",\"STA\",\"STA\",\"STA\",\"STA\",\"STA\",\"STA\",\"STA\",\"STA\",\"STA\",\"STA\",\"STA\",\"STA\",\"STA\",\"STA\",\"STA\",\"STA\",\"STA\",\"STA\",\"STA\",\"STA\",\"STA\",\"STA\",\"STA\",\"STA\",\"STA\",\"STA\",\"STA\",\"STA\",\"STA\",\"STA\",\"STA\",\"STA\",\"STA\",\"STA\",\"STA\"],\"time\":{\"__ndarray__\":\"AACAYZEfc0IAAABOOSlzQgAAgDrhMnNCAAAAJ4k8c0IAAIATMUZzQgAAAADZT3NCAACA7IBZc0IAAADZKGNzQgAAgMXQbHNCAAAAsnh2c0IAAICeIIBzQgAAAIvIiXNCAACAd3CTc0IAAABkGJ1zQgAAgFDApnNCAAAAPWiwc0IAAIApELpzQgAAABa4w3NCAACAAmDNc0IAAADvB9dzQgAAgNuv4HNCAAAAyFfqc0IAAIC0//NzQgAAAKGn/XNCAACAjU8HdEIAAAB69xB0QgAAgGafGnRCAAAAU0ckdEIAAIA/7y10QgAAACyXN3RCAACAGD9BdEIAAAAF50p0QgAAgPGOVHRCAAAA3jZedEIAAIDK3md0QgAAALeGcXRCAACAoy57dEIAAACQ1oR0QgAAgHx+jnRCAAAAaSaYdEIAAIBVzqF0QgAAAEJ2q3RCAACALh61dEIAAAAbxr50QgAAgAduyHRCAAAA9BXSdEIAAIDgvdt0QgAAAM1l5XRCAACAuQ3vdEIAAACmtfh0QgAAgJJdAnVCAAAAfwUMdUIAAIBrrRV1QgAAAFhVH3VCAACARP0odUIAAAAxpTJ1QgAAgB1NPHVC\",\"dtype\":\"float64\",\"order\":\"little\",\"shape\":[57]}},\"selected\":{\"id\":\"5854\"},\"selection_policy\":{\"id\":\"6044\"}},\"id\":\"5853\",\"type\":\"ColumnDataSource\"},{\"attributes\":{\"axis\":{\"id\":\"5574\"},\"coordinates\":null,\"dimension\":1,\"grid_line_color\":null,\"group\":null,\"ticker\":null},\"id\":\"5577\",\"type\":\"Grid\"},{\"attributes\":{\"coordinates\":null,\"data_source\":{\"id\":\"5707\"},\"glyph\":{\"id\":\"5710\"},\"group\":null,\"hover_glyph\":null,\"muted_glyph\":{\"id\":\"5712\"},\"nonselection_glyph\":{\"id\":\"5711\"},\"selection_glyph\":{\"id\":\"5715\"},\"view\":{\"id\":\"5714\"}},\"id\":\"5713\",\"type\":\"GlyphRenderer\"},{\"attributes\":{\"line_alpha\":0.1,\"line_color\":\"#e5ae38\",\"line_width\":2,\"tags\":[\"apply_ranges\"],\"x\":{\"field\":\"time\"},\"y\":{\"field\":\"L_mn_norm\"}},\"id\":\"5866\",\"type\":\"Line\"},{\"attributes\":{\"mantissas\":[1,2,5],\"max_interval\":500.0,\"num_minor_ticks\":0},\"id\":\"6051\",\"type\":\"AdaptiveTicker\"},{\"attributes\":{\"base\":60,\"mantissas\":[1,2,5,10,15,20,30],\"max_interval\":1800000.0,\"min_interval\":1000.0,\"num_minor_ticks\":0},\"id\":\"6023\",\"type\":\"AdaptiveTicker\"},{\"attributes\":{\"line_alpha\":0.1,\"line_color\":\"#6d904f\",\"line_width\":2,\"tags\":[\"apply_ranges\"],\"x\":{\"field\":\"time\"},\"y\":{\"field\":\"j0_norm\"}},\"id\":\"5464\",\"type\":\"Line\"},{\"attributes\":{\"months\":[0,1,2,3,4,5,6,7,8,9,10,11]},\"id\":\"5971\",\"type\":\"MonthsTicker\"},{\"attributes\":{\"line_color\":\"#fc4f30\",\"line_width\":2,\"tags\":[\"apply_ranges\"],\"x\":{\"field\":\"time\"},\"y\":{\"field\":\"L_mn_norm\"}},\"id\":\"5774\",\"type\":\"Line\"},{\"attributes\":{\"bottom_units\":\"screen\",\"coordinates\":null,\"fill_alpha\":0.5,\"fill_color\":\"lightgrey\",\"group\":null,\"left_units\":\"screen\",\"level\":\"overlay\",\"line_alpha\":1.0,\"line_color\":\"black\",\"line_dash\":[4,4],\"line_width\":2,\"right_units\":\"screen\",\"syncable\":false,\"top_units\":\"screen\"},\"id\":\"5501\",\"type\":\"BoxAnnotation\"},{\"attributes\":{\"data\":{\"id_count\":{\"__ndarray__\":\"AAAAAADQcEAAAAAAAIBxQAAAAAAAEHdAAAAAAAAwcUAAAAAAACBxQAAAAAAAwHRAAAAAAAAgeEAAAAAAAPB3QAAAAAAAMHlAAAAAAACAeUAAAAAAAEB7QAAAAAAAQHtAAAAAAABwekAAAAAAAIB5QAAAAAAAUHNAAAAAAABwdkAAAAAAADB5QAAAAAAAYHhAAAAAAABwdkAAAAAAACB6QAAAAAAA8HlAAAAAAADQe0AAAAAAAOB4QAAAAAAAYHdAAAAAAACAfEAAAAAAAEBvQAAAAAAAYHlAAAAAAACgeUAAAAAAAFB7QAAAAAAAAHlAAAAAAADwfEAAAAAAAFB4QAAAAAAAwHtAAAAAAADQeEAAAAAAAHB4QAAAAAAAUHxAAAAAAABAeUAAAAAAABB7QAAAAAAAIH1AAAAAAADweUAAAAAAABB5QAAAAAAAAHxAAAAAAAAgekAAAAAAAPB1QAAAAAAAUHdAAAAAAACgdkAAAAAAAHBzQAAAAAAAUHlAAAAAAACQekAAAAAAAPB6QAAAAAAA4HlAAAAAAABwd0AAAAAAABB2QAAAAAAAMHhAAAAAAACAbUAAAAAAABBzQAAAAAAAgHRA\",\"dtype\":\"float64\",\"order\":\"little\",\"shape\":[57]},\"j0_norm\":{\"__ndarray__\":\"u+hz+SequD+0Dlyxm7S3P0Pg+n98YLM/F9NPG65guD8D3TfisqW0P4ukgwYfRa8/io0HW78tvz/V2/D8Tfa1P/NHikNjBLc/vTIRr2dFtD9sya2Xh7e0P/RPsKeGFLQ/1qOuDR7Htz92OoltxMC1P1NWYuA5Gbk/69LOr90Mtj8itI2fbrS1P4WkPv22XrU/0CJUR86fsD+vFAlHUAKzP1neZ8p0xbg/zJQRen3Asz/JEoQi/l2yP16B6Xparrk/UwLOszhfuD/PA3MA5lW2P9vPIfTKSLc/Q/VoTKbMsj+9Mckq+ue2P8rOKqYc/bk/yZvLpPL/uD8pV38zXWa3P6QXy8Cz6LY/VNvRMRXtsz/AHQwlcJ+wPwziecWA+Lc/gCcwbt1qsz8YbIYhbC61PxmSqef8B7Q/3+fMLYDkuD/aHSupXEi2P4sIWRQhgbU/o5LDYmfZsz8ePvKmCZuwP0Y4RqrXyrM/VscSESEgtD9yisN2d7izP5taebZt27Q/E+IOHK8MuD8Hbw9DzXu1P4bQPdpohbE/7HiLQxBmsT/FcJCQ4QK3P7TgQjfkIrQ/IYM1+o2Jrj8F86vbv8izPwYMNjtiqrI/\",\"dtype\":\"float64\",\"order\":\"little\",\"shape\":[57]},\"sat\":[\"THB\",\"THB\",\"THB\",\"THB\",\"THB\",\"THB\",\"THB\",\"THB\",\"THB\",\"THB\",\"THB\",\"THB\",\"THB\",\"THB\",\"THB\",\"THB\",\"THB\",\"THB\",\"THB\",\"THB\",\"THB\",\"THB\",\"THB\",\"THB\",\"THB\",\"THB\",\"THB\",\"THB\",\"THB\",\"THB\",\"THB\",\"THB\",\"THB\",\"THB\",\"THB\",\"THB\",\"THB\",\"THB\",\"THB\",\"THB\",\"THB\",\"THB\",\"THB\",\"THB\",\"THB\",\"THB\",\"THB\",\"THB\",\"THB\",\"THB\",\"THB\",\"THB\",\"THB\",\"THB\",\"THB\",\"THB\",\"THB\"],\"time\":{\"__ndarray__\":\"AACAYZEfc0IAAABOOSlzQgAAgDrhMnNCAAAAJ4k8c0IAAIATMUZzQgAAAADZT3NCAACA7IBZc0IAAADZKGNzQgAAgMXQbHNCAAAAsnh2c0IAAICeIIBzQgAAAIvIiXNCAACAd3CTc0IAAABkGJ1zQgAAgFDApnNCAAAAPWiwc0IAAIApELpzQgAAABa4w3NCAACAAmDNc0IAAADvB9dzQgAAgNuv4HNCAAAAyFfqc0IAAIC0//NzQgAAAKGn/XNCAACAjU8HdEIAAAB69xB0QgAAgGafGnRCAAAAU0ckdEIAAIA/7y10QgAAACyXN3RCAACAGD9BdEIAAAAF50p0QgAAgPGOVHRCAAAA3jZedEIAAIDK3md0QgAAALeGcXRCAACAoy57dEIAAACQ1oR0QgAAgHx+jnRCAAAAaSaYdEIAAIBVzqF0QgAAAEJ2q3RCAACALh61dEIAAAAbxr50QgAAgAduyHRCAAAA9BXSdEIAAIDgvdt0QgAAAM1l5XRCAACAuQ3vdEIAAACmtfh0QgAAgJJdAnVCAAAAfwUMdUIAAIBrrRV1QgAAAFhVH3VCAACARP0odUIAAAAxpTJ1QgAAgB1NPHVC\",\"dtype\":\"float64\",\"order\":\"little\",\"shape\":[57]}},\"selected\":{\"id\":\"5452\"},\"selection_policy\":{\"id\":\"5901\"}},\"id\":\"5451\",\"type\":\"ColumnDataSource\"},{\"attributes\":{\"source\":{\"id\":\"5789\"}},\"id\":\"5796\",\"type\":\"CDSView\"},{\"attributes\":{\"coordinates\":null,\"data_source\":{\"id\":\"5789\"},\"glyph\":{\"id\":\"5792\"},\"group\":null,\"hover_glyph\":null,\"muted_glyph\":{\"id\":\"5794\"},\"nonselection_glyph\":{\"id\":\"5793\"},\"selection_glyph\":{\"id\":\"5797\"},\"view\":{\"id\":\"5796\"}},\"id\":\"5795\",\"type\":\"GlyphRenderer\"},{\"attributes\":{\"source\":{\"id\":\"5624\"}},\"id\":\"5631\",\"type\":\"CDSView\"},{\"attributes\":{\"source\":{\"id\":\"5871\"}},\"id\":\"5878\",\"type\":\"CDSView\"},{\"attributes\":{},\"id\":\"5416\",\"type\":\"WheelZoomTool\"},{\"attributes\":{\"line_alpha\":0.1,\"line_color\":\"#fc4f30\",\"line_width\":2,\"tags\":[\"apply_ranges\"],\"x\":{\"field\":\"time\"},\"y\":{\"field\":\"j0_norm\"}},\"id\":\"5528\",\"type\":\"Line\"},{\"attributes\":{},\"id\":\"5651\",\"type\":\"LinearScale\"},{\"attributes\":{\"line_color\":\"#30a2da\",\"line_width\":2,\"tags\":[\"apply_ranges\"],\"x\":{\"field\":\"time\"},\"y\":{\"field\":\"j0_norm\"}},\"id\":\"5518\",\"type\":\"Line\"},{\"attributes\":{\"base\":60,\"mantissas\":[1,2,5,10,15,20,30],\"max_interval\":1800000.0,\"min_interval\":1000.0,\"num_minor_ticks\":0},\"id\":\"6052\",\"type\":\"AdaptiveTicker\"},{\"attributes\":{},\"id\":\"5414\",\"type\":\"SaveTool\"},{\"attributes\":{\"bottom_units\":\"screen\",\"coordinates\":null,\"fill_alpha\":0.5,\"fill_color\":\"lightgrey\",\"group\":null,\"left_units\":\"screen\",\"level\":\"overlay\",\"line_alpha\":1.0,\"line_color\":\"black\",\"line_dash\":[4,4],\"line_width\":2,\"right_units\":\"screen\",\"syncable\":false,\"top_units\":\"screen\"},\"id\":\"5666\",\"type\":\"BoxAnnotation\"},{\"attributes\":{\"axis_label\":\"time\",\"coordinates\":null,\"formatter\":{\"id\":\"5592\"},\"group\":null,\"major_label_policy\":{\"id\":\"5593\"},\"ticker\":{\"id\":\"5571\"}},\"id\":\"5570\",\"type\":\"DatetimeAxis\"},{\"attributes\":{\"coordinates\":null,\"data_source\":{\"id\":\"5624\"},\"glyph\":{\"id\":\"5627\"},\"group\":null,\"hover_glyph\":null,\"muted_glyph\":{\"id\":\"5629\"},\"nonselection_glyph\":{\"id\":\"5628\"},\"selection_glyph\":{\"id\":\"5632\"},\"view\":{\"id\":\"5631\"}},\"id\":\"5630\",\"type\":\"GlyphRenderer\"},{\"attributes\":{\"line_color\":\"#fc4f30\",\"line_width\":2,\"tags\":[\"apply_ranges\"],\"x\":{\"field\":\"time\"},\"y\":{\"field\":\"L_mn_norm\"}},\"id\":\"5856\",\"type\":\"Line\"},{\"attributes\":{\"source\":{\"id\":\"5451\"}},\"id\":\"5458\",\"type\":\"CDSView\"},{\"attributes\":{\"below\":[{\"id\":\"5735\"}],\"center\":[{\"id\":\"5738\"},{\"id\":\"5742\"}],\"height\":300,\"left\":[{\"id\":\"5739\"}],\"margin\":null,\"min_border_bottom\":10,\"min_border_left\":10,\"min_border_right\":10,\"min_border_top\":10,\"output_backend\":\"webgl\",\"renderers\":[{\"id\":\"5768\"},{\"id\":\"5777\"},{\"id\":\"5786\"},{\"id\":\"5795\"}],\"sizing_mode\":\"fixed\",\"title\":{\"id\":\"5727\"},\"toolbar\":{\"id\":\"5749\"},\"toolbar_location\":null,\"width\":300,\"x_range\":{\"id\":\"5389\"},\"x_scale\":{\"id\":\"5733\"},\"y_range\":{\"id\":\"5637\"},\"y_scale\":{\"id\":\"5734\"}},\"id\":\"5726\",\"subtype\":\"Figure\",\"type\":\"Plot\"},{\"attributes\":{},\"id\":\"5596\",\"type\":\"AllLabels\"},{\"attributes\":{},\"id\":\"5575\",\"type\":\"BasicTicker\"},{\"attributes\":{\"days\":[1,4,7,10,13,16,19,22,25,28]},\"id\":\"5997\",\"type\":\"DaysTicker\"},{\"attributes\":{\"line_alpha\":0.1,\"line_color\":\"#30a2da\",\"line_width\":2,\"tags\":[\"apply_ranges\"],\"x\":{\"field\":\"time\"},\"y\":{\"field\":\"j0_norm\"}},\"id\":\"5519\",\"type\":\"Line\"},{\"attributes\":{},\"id\":\"5772\",\"type\":\"Selection\"},{\"attributes\":{\"line_color\":\"#30a2da\",\"line_width\":2,\"tags\":[\"apply_ranges\"],\"x\":{\"field\":\"time\"},\"y\":{\"field\":\"L_mn_norm\"}},\"id\":\"5683\",\"type\":\"Line\"},{\"attributes\":{\"line_color\":\"#30a2da\",\"line_width\":2,\"tags\":[\"apply_ranges\"],\"x\":{\"field\":\"time\"},\"y\":{\"field\":\"L_mn_norm\"}},\"id\":\"5770\",\"type\":\"Line\"},{\"attributes\":{\"source\":{\"id\":\"5460\"}},\"id\":\"5467\",\"type\":\"CDSView\"},{\"attributes\":{},\"id\":\"5926\",\"type\":\"UnionRenderers\"},{\"attributes\":{\"days\":[1,2,3,4,5,6,7,8,9,10,11,12,13,14,15,16,17,18,19,20,21,22,23,24,25,26,27,28,29,30,31]},\"id\":\"5938\",\"type\":\"DaysTicker\"},{\"attributes\":{\"coordinates\":null,\"data_source\":{\"id\":\"5762\"},\"glyph\":{\"id\":\"5765\"},\"group\":null,\"hover_glyph\":null,\"muted_glyph\":{\"id\":\"5767\"},\"nonselection_glyph\":{\"id\":\"5766\"},\"selection_glyph\":{\"id\":\"5770\"},\"view\":{\"id\":\"5769\"}},\"id\":\"5768\",\"type\":\"GlyphRenderer\"},{\"attributes\":{\"months\":[0,1,2,3,4,5,6,7,8,9,10,11]},\"id\":\"5913\",\"type\":\"MonthsTicker\"},{\"attributes\":{\"months\":[0,2,4,6,8,10]},\"id\":\"5972\",\"type\":\"MonthsTicker\"},{\"attributes\":{},\"id\":\"5863\",\"type\":\"Selection\"},{\"attributes\":{\"bottom_units\":\"screen\",\"coordinates\":null,\"fill_alpha\":0.5,\"fill_color\":\"lightgrey\",\"group\":null,\"left_units\":\"screen\",\"level\":\"overlay\",\"line_alpha\":1.0,\"line_color\":\"black\",\"line_dash\":[4,4],\"line_width\":2,\"right_units\":\"screen\",\"syncable\":false,\"top_units\":\"screen\"},\"id\":\"5583\",\"type\":\"BoxAnnotation\"},{\"attributes\":{},\"id\":\"5845\",\"type\":\"Selection\"},{\"attributes\":{},\"id\":\"5510\",\"type\":\"DatetimeTickFormatter\"},{\"attributes\":{\"callback\":null,\"formatters\":{\"@{time}\":\"datetime\"},\"renderers\":[{\"id\":\"5850\"},{\"id\":\"5859\"},{\"id\":\"5868\"},{\"id\":\"5877\"}],\"tags\":[\"hv_created\"],\"tooltips\":[[\"sat\",\"@{sat}\"],[\"time\",\"@{time}{%F %T}\"],[\"L_mn_norm\",\"@{L_mn_norm}\"],[\"id_count\",\"@{id_count}\"]]},\"id\":\"5804\",\"type\":\"HoverTool\"},{\"attributes\":{\"children\":[[{\"id\":\"5397\"},0,0],[{\"id\":\"5479\"},0,1],[{\"id\":\"5561\"},0,2],[{\"id\":\"5644\"},1,0],[{\"id\":\"5726\"},1,1],[{\"id\":\"5808\"},1,2]]},\"id\":\"6064\",\"type\":\"GridBox\"},{\"attributes\":{},\"id\":\"6046\",\"type\":\"UnionRenderers\"},{\"attributes\":{},\"id\":\"5461\",\"type\":\"Selection\"},{\"attributes\":{\"line_color\":\"#30a2da\",\"line_width\":2,\"tags\":[\"apply_ranges\"],\"x\":{\"field\":\"time\"},\"y\":{\"field\":\"j0_norm\"}},\"id\":\"5605\",\"type\":\"Line\"},{\"attributes\":{},\"id\":\"5816\",\"type\":\"LinearScale\"},{\"attributes\":{\"source\":{\"id\":\"5707\"}},\"id\":\"5714\",\"type\":\"CDSView\"},{\"attributes\":{\"months\":[0,6]},\"id\":\"5974\",\"type\":\"MonthsTicker\"},{\"attributes\":{\"axis\":{\"id\":\"5410\"},\"coordinates\":null,\"dimension\":1,\"grid_line_color\":null,\"group\":null,\"ticker\":null},\"id\":\"5413\",\"type\":\"Grid\"},{\"attributes\":{},\"id\":\"5415\",\"type\":\"PanTool\"},{\"attributes\":{\"line_alpha\":0.2,\"line_color\":\"#e5ae38\",\"line_width\":2,\"tags\":[\"apply_ranges\"],\"x\":{\"field\":\"time\"},\"y\":{\"field\":\"j0_norm\"}},\"id\":\"5538\",\"type\":\"Line\"},{\"attributes\":{\"base\":24,\"mantissas\":[1,2,4,6,8,12],\"max_interval\":43200000.0,\"min_interval\":3600000.0,\"num_minor_ticks\":0},\"id\":\"5995\",\"type\":\"AdaptiveTicker\"},{\"attributes\":{\"source\":{\"id\":\"5533\"}},\"id\":\"5540\",\"type\":\"CDSView\"},{\"attributes\":{\"axis_label\":\"j0_norm\",\"coordinates\":null,\"formatter\":{\"id\":\"5431\"},\"group\":null,\"major_label_policy\":{\"id\":\"5432\"},\"ticker\":{\"id\":\"5411\"}},\"id\":\"5410\",\"type\":\"LinearAxis\"},{\"attributes\":{},\"id\":\"5839\",\"type\":\"DatetimeTickFormatter\"},{\"attributes\":{\"line_alpha\":0.2,\"line_color\":\"#6d904f\",\"line_width\":2,\"tags\":[\"apply_ranges\"],\"x\":{\"field\":\"time\"},\"y\":{\"field\":\"j0_norm\"}},\"id\":\"5465\",\"type\":\"Line\"},{\"attributes\":{\"line_alpha\":0.2,\"line_color\":\"#e5ae38\",\"line_width\":2,\"tags\":[\"apply_ranges\"],\"x\":{\"field\":\"time\"},\"y\":{\"field\":\"L_mn_norm\"}},\"id\":\"5785\",\"type\":\"Line\"},{\"attributes\":{\"coordinates\":null,\"data_source\":{\"id\":\"5460\"},\"glyph\":{\"id\":\"5463\"},\"group\":null,\"hover_glyph\":null,\"muted_glyph\":{\"id\":\"5465\"},\"nonselection_glyph\":{\"id\":\"5464\"},\"selection_glyph\":{\"id\":\"5468\"},\"view\":{\"id\":\"5467\"}},\"id\":\"5466\",\"type\":\"GlyphRenderer\"},{\"attributes\":{\"base\":24,\"mantissas\":[1,2,4,6,8,12],\"max_interval\":43200000.0,\"min_interval\":3600000.0,\"num_minor_ticks\":0},\"id\":\"6053\",\"type\":\"AdaptiveTicker\"},{\"attributes\":{\"axis\":{\"id\":\"5406\"},\"coordinates\":null,\"grid_line_color\":null,\"group\":null,\"ticker\":null},\"id\":\"5409\",\"type\":\"Grid\"},{\"attributes\":{\"months\":[0,2,4,6,8,10]},\"id\":\"6030\",\"type\":\"MonthsTicker\"},{\"attributes\":{\"active_drag\":{\"id\":\"5826\"},\"active_scroll\":{\"id\":\"5827\"},\"tools\":[{\"id\":\"5804\"},{\"id\":\"5825\"},{\"id\":\"5826\"},{\"id\":\"5827\"},{\"id\":\"5828\"},{\"id\":\"5829\"}]},\"id\":\"5831\",\"type\":\"Toolbar\"},{\"attributes\":{\"coordinates\":null,\"group\":null,\"text_color\":\"black\",\"text_font_size\":\"12pt\"},\"id\":\"5645\",\"type\":\"Title\"},{\"attributes\":{},\"id\":\"5497\",\"type\":\"PanTool\"},{\"attributes\":{\"line_color\":\"#6d904f\",\"line_width\":2,\"tags\":[\"apply_ranges\"],\"x\":{\"field\":\"time\"},\"y\":{\"field\":\"L_mn_norm\"}},\"id\":\"5797\",\"type\":\"Line\"},{\"attributes\":{\"num_minor_ticks\":5,\"tickers\":[{\"id\":\"5906\"},{\"id\":\"5907\"},{\"id\":\"5908\"},{\"id\":\"5909\"},{\"id\":\"5910\"},{\"id\":\"5911\"},{\"id\":\"5912\"},{\"id\":\"5913\"},{\"id\":\"5914\"},{\"id\":\"5915\"},{\"id\":\"5916\"},{\"id\":\"5917\"}]},\"id\":\"5407\",\"type\":\"DatetimeTicker\"},{\"attributes\":{\"line_alpha\":0.1,\"line_color\":\"#e5ae38\",\"line_width\":2,\"tags\":[\"apply_ranges\"],\"x\":{\"field\":\"time\"},\"y\":{\"field\":\"j0_norm\"}},\"id\":\"5455\",\"type\":\"Line\"},{\"attributes\":{\"axis\":{\"id\":\"5488\"},\"coordinates\":null,\"grid_line_color\":null,\"group\":null,\"ticker\":null},\"id\":\"5491\",\"type\":\"Grid\"},{\"attributes\":{\"line_alpha\":0.2,\"line_color\":\"#fc4f30\",\"line_width\":2,\"tags\":[\"apply_ranges\"],\"x\":{\"field\":\"time\"},\"y\":{\"field\":\"L_mn_norm\"}},\"id\":\"5776\",\"type\":\"Line\"},{\"attributes\":{\"line_color\":\"#30a2da\",\"line_width\":2,\"tags\":[\"apply_ranges\"],\"x\":{\"field\":\"time\"},\"y\":{\"field\":\"L_mn_norm\"}},\"id\":\"5847\",\"type\":\"Line\"},{\"attributes\":{},\"id\":\"5790\",\"type\":\"Selection\"},{\"attributes\":{},\"id\":\"5580\",\"type\":\"WheelZoomTool\"},{\"attributes\":{\"data\":{\"L_mn_norm\":{\"__ndarray__\":\"B5ffG+bQMkBFjTkf6dw2QCJDZXWYvzRAUkveudOwNUBC9o1Ilxw3QALgArVIpzxAV7yBdqOHNEDpxqpX6Wo6QC7Nm1GVfDVA9dbKTLzLN0Ba069fhiw4QEgEtcym2zVAV4ETGfMCN0Awu0PNVz83QAPGP40NHDdAcN+ufjmsNkBIw73UIR05QIjdBVd8szlArwf++8QaOECiEqhdexw2QHyU3D3bbjRAZOJrTp+uOkAvX61xEtU1QIFasD2OwzRA+LQOqDI7O0Dq41V0+r01QEpMg+MMhDZA0GHV6eckN0AfWVsRf3o3QGdl0jh+5jJAD7pio0MlNUDtPm2tYdc2QHtVZLwfvTVAraSbvkA6OEBDaM6rFjM4QOV+HMoZsTVAS1f+awoUOEBf+enTr6E6QFlO326jtTtApTQxMJD4N0DUdpwNxTo7QPb78d7XtjlAMB3tha86O0DZXCvbu8ZCQMfmxCSKmj9AmoIQd4vQN0BaY9Ddf608QNeOyD0UZjlA3IDWFRjAOkDngCl3PGE9QFqYCmKR/T1Ann4tCBqSOUBWhBwhbps8QLq823npTz5AH4QQD5w3P0CldGeNLwpAQCFU8FgW2ztA\",\"dtype\":\"float64\",\"order\":\"little\",\"shape\":[57]},\"id_count\":{\"__ndarray__\":\"AAAAAADAb0AAAAAAAEBwQAAAAAAAUHVAAAAAAAAQcEAAAAAAAIBwQAAAAAAAQHNAAAAAAADgdUAAAAAAAAB2QAAAAAAAoHdAAAAAAADgdkAAAAAAADB5QAAAAAAAUHhAAAAAAADAeEAAAAAAAOB2QAAAAAAAcHJAAAAAAAAgdUAAAAAAAHB2QAAAAAAAsHZAAAAAAAAwdUAAAAAAAIB4QAAAAAAAQHdAAAAAAACQeUAAAAAAAGB3QAAAAAAAgHVAAAAAAACQeUAAAAAAAKBsQAAAAAAAMHZAAAAAAADgd0AAAAAAADB5QAAAAAAAcHZAAAAAAAAge0AAAAAAABB2QAAAAAAAsHlAAAAAAABwdkAAAAAAAFB2QAAAAAAA0HpAAAAAAADAd0AAAAAAALB4QAAAAAAA4HlAAAAAAADAd0AAAAAAAIB3QAAAAAAAsHlAAAAAAACgd0AAAAAAAPBzQAAAAAAAwHRAAAAAAACwdEAAAAAAAPBwQAAAAAAAMHdAAAAAAABQd0AAAAAAALB3QAAAAAAAkHdAAAAAAABwdUAAAAAAAEBzQAAAAAAA0HRAAAAAAADAakAAAAAAAEBxQAAAAAAAUHJA\",\"dtype\":\"float64\",\"order\":\"little\",\"shape\":[57]},\"sat\":[\"THB\",\"THB\",\"THB\",\"THB\",\"THB\",\"THB\",\"THB\",\"THB\",\"THB\",\"THB\",\"THB\",\"THB\",\"THB\",\"THB\",\"THB\",\"THB\",\"THB\",\"THB\",\"THB\",\"THB\",\"THB\",\"THB\",\"THB\",\"THB\",\"THB\",\"THB\",\"THB\",\"THB\",\"THB\",\"THB\",\"THB\",\"THB\",\"THB\",\"THB\",\"THB\",\"THB\",\"THB\",\"THB\",\"THB\",\"THB\",\"THB\",\"THB\",\"THB\",\"THB\",\"THB\",\"THB\",\"THB\",\"THB\",\"THB\",\"THB\",\"THB\",\"THB\",\"THB\",\"THB\",\"THB\",\"THB\",\"THB\"],\"time\":{\"__ndarray__\":\"AACAYZEfc0IAAABOOSlzQgAAgDrhMnNCAAAAJ4k8c0IAAIATMUZzQgAAAADZT3NCAACA7IBZc0IAAADZKGNzQgAAgMXQbHNCAAAAsnh2c0IAAICeIIBzQgAAAIvIiXNCAACAd3CTc0IAAABkGJ1zQgAAgFDApnNCAAAAPWiwc0IAAIApELpzQgAAABa4w3NCAACAAmDNc0IAAADvB9dzQgAAgNuv4HNCAAAAyFfqc0IAAIC0//NzQgAAAKGn/XNCAACAjU8HdEIAAAB69xB0QgAAgGafGnRCAAAAU0ckdEIAAIA/7y10QgAAACyXN3RCAACAGD9BdEIAAAAF50p0QgAAgPGOVHRCAAAA3jZedEIAAIDK3md0QgAAALeGcXRCAACAoy57dEIAAACQ1oR0QgAAgHx+jnRCAAAAaSaYdEIAAIBVzqF0QgAAAEJ2q3RCAACALh61dEIAAAAbxr50QgAAgAduyHRCAAAA9BXSdEIAAIDgvdt0QgAAAM1l5XRCAACAuQ3vdEIAAACmtfh0QgAAgJJdAnVCAAAAfwUMdUIAAIBrrRV1QgAAAFhVH3VCAACARP0odUIAAAAxpTJ1QgAAgB1NPHVC\",\"dtype\":\"float64\",\"order\":\"little\",\"shape\":[57]}},\"selected\":{\"id\":\"5781\"},\"selection_policy\":{\"id\":\"6017\"}},\"id\":\"5780\",\"type\":\"ColumnDataSource\"},{\"attributes\":{\"days\":[1,4,7,10,13,16,19,22,25,28]},\"id\":\"5939\",\"type\":\"DaysTicker\"},{\"attributes\":{\"coordinates\":null,\"data_source\":{\"id\":\"5442\"},\"glyph\":{\"id\":\"5445\"},\"group\":null,\"hover_glyph\":null,\"muted_glyph\":{\"id\":\"5447\"},\"nonselection_glyph\":{\"id\":\"5446\"},\"selection_glyph\":{\"id\":\"5450\"},\"view\":{\"id\":\"5449\"}},\"id\":\"5448\",\"type\":\"GlyphRenderer\"},{\"attributes\":{\"months\":[0,4,8]},\"id\":\"5944\",\"type\":\"MonthsTicker\"},{\"attributes\":{},\"id\":\"5568\",\"type\":\"LinearScale\"},{\"attributes\":{},\"id\":\"5955\",\"type\":\"UnionRenderers\"},{\"attributes\":{\"days\":[1,4,7,10,13,16,19,22,25,28]},\"id\":\"6026\",\"type\":\"DaysTicker\"},{\"attributes\":{},\"id\":\"5411\",\"type\":\"BasicTicker\"},{\"attributes\":{},\"id\":\"6015\",\"type\":\"UnionRenderers\"},{\"attributes\":{\"line_alpha\":0.1,\"line_color\":\"#30a2da\",\"line_width\":2,\"tags\":[\"apply_ranges\"],\"x\":{\"field\":\"time\"},\"y\":{\"field\":\"j0_norm\"}},\"id\":\"5437\",\"type\":\"Line\"},{\"attributes\":{\"line_color\":\"#6d904f\",\"line_width\":2,\"tags\":[\"apply_ranges\"],\"x\":{\"field\":\"time\"},\"y\":{\"field\":\"L_mn_norm\"}},\"id\":\"5715\",\"type\":\"Line\"},{\"attributes\":{},\"id\":\"5760\",\"type\":\"BasicTickFormatter\"},{\"attributes\":{\"days\":[1,8,15,22]},\"id\":\"6056\",\"type\":\"DaysTicker\"},{\"attributes\":{\"axis_label\":\"time\",\"coordinates\":null,\"formatter\":{\"id\":\"5839\"},\"group\":null,\"major_label_policy\":{\"id\":\"5840\"},\"ticker\":{\"id\":\"5818\"}},\"id\":\"5817\",\"type\":\"DatetimeAxis\"},{\"attributes\":{\"axis_label\":\"time\",\"coordinates\":null,\"formatter\":{\"id\":\"5428\"},\"group\":null,\"major_label_policy\":{\"id\":\"5429\"},\"ticker\":{\"id\":\"5407\"}},\"id\":\"5406\",\"type\":\"DatetimeAxis\"},{\"attributes\":{},\"id\":\"5699\",\"type\":\"Selection\"},{\"attributes\":{},\"id\":\"5404\",\"type\":\"LinearScale\"},{\"attributes\":{\"data\":{\"L_mn_norm\":{\"__ndarray__\":\"JyHRZ0JtOUDcCUugs/06QPhmeu7qhDdA2gqKAteoNECOxzRIMqEtQPKTIK/8CitAlFL5FfsvM0Az43QXh4MxQDX/VT9T7yVA4r2vf54oJUAAAAAAAAD4f4XddWxBaStAAAAAAAAA+H8AAAAAAAD4fz8EydtyFSVAteNN8nXZKkB8v/sSyvMwQL7lQ+7vSDFAm9gu+fiyMECp4lywbvUvQL9momsmwzNAAAAAAAAA+H8AAAAAAAD4fwAAAAAAAPh/AAAAAAAA+H8AAAAAAAD4f1ZF89QVfzxAHn0lgfMvNEAJ6irm7BMzQNks80ffiyVAbrkPOM3NKkAAAAAAAAD4fyXX7f/ogyRA6LoVi2evI0AAAAAAAAD4fwAAAAAAAPh/AAAAAAAA+H8AAAAAAAD4fwAAAAAAAPh/AAAAAAAA+H8AAAAAAAD4fwAAAAAAAPh/AAAAAAAA+H+WLgJEg9oRQA==\",\"dtype\":\"float64\",\"order\":\"little\",\"shape\":[44]},\"id_count\":{\"__ndarray__\":\"AAAAAACAZUAAAAAAACBgQAAAAAAAQFtAAAAAAABAWkAAAAAAAEBXQAAAAAAAQFJAAAAAAAAAVUAAAAAAAIBUQAAAAAAAgEpAAAAAAAAATkAAAAAAAAD4fwAAAAAAADpAAAAAAAAA+H8AAAAAAAD4fwAAAAAAgEdAAAAAAACAR0AAAAAAAEBQQAAAAAAAgExAAAAAAACAUkAAAAAAAABSQAAAAAAAAFhAAAAAAAAA+H8AAAAAAAD4fwAAAAAAAPh/AAAAAAAA+H8AAAAAAAD4fwAAAAAAQFNAAAAAAAAAXUAAAAAAAMBWQAAAAAAAAFFAAAAAAACATkAAAAAAAAD4fwAAAAAAgEJAAAAAAAAAPUAAAAAAAAD4fwAAAAAAAPh/AAAAAAAA+H8AAAAAAAD4fwAAAAAAAPh/AAAAAAAA+H8AAAAAAAD4fwAAAAAAAPh/AAAAAAAA+H8AAAAAAIBFQA==\",\"dtype\":\"float64\",\"order\":\"little\",\"shape\":[44]},\"sat\":[\"JNO\",\"JNO\",\"JNO\",\"JNO\",\"JNO\",\"JNO\",\"JNO\",\"JNO\",\"JNO\",\"JNO\",\"JNO\",\"JNO\",\"JNO\",\"JNO\",\"JNO\",\"JNO\",\"JNO\",\"JNO\",\"JNO\",\"JNO\",\"JNO\",\"JNO\",\"JNO\",\"JNO\",\"JNO\",\"JNO\",\"JNO\",\"JNO\",\"JNO\",\"JNO\",\"JNO\",\"JNO\",\"JNO\",\"JNO\",\"JNO\",\"JNO\",\"JNO\",\"JNO\",\"JNO\",\"JNO\",\"JNO\",\"JNO\",\"JNO\",\"JNO\"],\"time\":{\"__ndarray__\":\"AACAYZEfc0IAAABOOSlzQgAAgDrhMnNCAAAAJ4k8c0IAAIATMUZzQgAAAADZT3NCAACA7IBZc0IAAADZKGNzQgAAgMXQbHNCAAAAsnh2c0IAAICeIIBzQgAAAIvIiXNCAACAd3CTc0IAAABkGJ1zQgAAgFDApnNCAAAAPWiwc0IAAIApELpzQgAAABa4w3NCAACAAmDNc0IAAADvB9dzQgAAgNuv4HNCAAAAyFfqc0IAAIC0//NzQgAAAKGn/XNCAACAjU8HdEIAAAB69xB0QgAAgGafGnRCAAAAU0ckdEIAAIA/7y10QgAAACyXN3RCAACAGD9BdEIAAAAF50p0QgAAgPGOVHRCAAAA3jZedEIAAIDK3md0QgAAALeGcXRCAACAoy57dEIAAACQ1oR0QgAAgHx+jnRCAAAAaSaYdEIAAIBVzqF0QgAAAEJ2q3RCAACALh61dEIAAAAbxr50Qg==\",\"dtype\":\"float64\",\"order\":\"little\",\"shape\":[44]}},\"selected\":{\"id\":\"5845\"},\"selection_policy\":{\"id\":\"6042\"}},\"id\":\"5844\",\"type\":\"ColumnDataSource\"},{\"attributes\":{\"mantissas\":[1,2,5],\"max_interval\":500.0,\"num_minor_ticks\":0},\"id\":\"6022\",\"type\":\"AdaptiveTicker\"},{\"attributes\":{\"line_alpha\":0.1,\"line_color\":\"#e5ae38\",\"line_width\":2,\"tags\":[\"apply_ranges\"],\"x\":{\"field\":\"time\"},\"y\":{\"field\":\"L_mn_norm\"}},\"id\":\"5702\",\"type\":\"Line\"},{\"attributes\":{\"coordinates\":null,\"data_source\":{\"id\":\"5780\"},\"glyph\":{\"id\":\"5783\"},\"group\":null,\"hover_glyph\":null,\"muted_glyph\":{\"id\":\"5785\"},\"nonselection_glyph\":{\"id\":\"5784\"},\"selection_glyph\":{\"id\":\"5788\"},\"view\":{\"id\":\"5787\"}},\"id\":\"5786\",\"type\":\"GlyphRenderer\"},{\"attributes\":{\"data\":{\"id_count\":{\"__ndarray__\":\"AAAAAAA4nUAAAAAAAISeQAAAAAAAHJ1AAAAAAABkn0AAAAAAAJifQAAAAAAAiqBAAAAAAADknkAAAAAAAOagQAAAAAAAMJ1AAAAAAACgnUAAAAAAAGCbQAAAAAAAiJ9AAAAAAABcnUAAAAAAALCgQAAAAAAA0qBAAAAAAACKoUAAAAAAAHigQAAAAAAA8KBAAAAAAADioUAAAAAAAEyfQAAAAAAAoJ5AAAAAAAD0m0AAAAAAACCdQAAAAAAAEqBAAAAAAADQnkAAAAAAAPifQAAAAAAAVJ9AAAAAAAC4nkAAAAAAAC6gQAAAAAAAzJ9AAAAAAADMn0AAAAAAAASfQAAAAAAAfJ9AAAAAAABooEAAAAAAAHagQAAAAAAAFKJAAAAAAAAcoEAAAAAAAHSeQAAAAAAAkJVAAAAAAADAjkAAAAAAAJCdQAAAAAAAfJ5AAAAAAAAcoEAAAAAAABqgQAAAAAAA6J1AAAAAAACwnkAAAAAAALieQAAAAAAAcJ9AAAAAAAAAn0AAAAAAAMidQAAAAAAANJ1AAAAAAACaoEAAAAAAAJCcQAAAAAAA8J1AAAAAAACsoEAAAAAAAPydQAAAAAAAHJ9AAAAAAACgY0A=\",\"dtype\":\"float64\",\"order\":\"little\",\"shape\":[58]},\"j0_norm\":{\"__ndarray__\":\"1ao3v1dKtT8maJhRLkS2PxzIJ32QpbM/ltJ3WHw/tT/ftDHEAw+zP+aIwzQZKrI/LM7e20SktT/42dlMapWxPz4cF5d8mrc/UyyzxbejtT9RJoO88se0PxUWF5QlF7M/Wabj3ml1tj9g9UJ1hYWzPyu03MaIwbM/aW1B0I19tT/zc2BTEAKyP0ysDj+/8bE/BBC0gy4RsT+I8PyFSy20P83rJklrRrQ/r/8WHD4YtT/9D/E1gMmyP5sYIkobo7U/Kyqr4IgjuD9tOY9sSFy3P4LhTHWxnbM/nW7CfXFytz+2fKmKesC2P0Tp4W5xvLQ/bSgn6s2GtT9WvxAEQdC2PwL2yubpYbQ/f+nU5MDLsj+Uxbb+aR6zP9CCU6iXNbU/pNVvPujUsT8+bY23PvO0P5XFZK7InrQ/uku70CjAtD/I+u0l2+60P/WodgzGV7Q/hDkqd1z3sT8cGivEPdmyPxSSJbVnILI/msw94Zfdsz8HeD3GPLW0P6okBd1Al7U/sYZY+M8XtT/izKpeGPGyP7gKB+61erM/y/MXrHFfsT8Q+gG2r5e1P4WJnt2VRLQ/7J2ZXc9HsT9mRUUf872yP5DdodZsTrI/TtQSIU5asD8=\",\"dtype\":\"float64\",\"order\":\"little\",\"shape\":[58]},\"sat\":[\"Wind\",\"Wind\",\"Wind\",\"Wind\",\"Wind\",\"Wind\",\"Wind\",\"Wind\",\"Wind\",\"Wind\",\"Wind\",\"Wind\",\"Wind\",\"Wind\",\"Wind\",\"Wind\",\"Wind\",\"Wind\",\"Wind\",\"Wind\",\"Wind\",\"Wind\",\"Wind\",\"Wind\",\"Wind\",\"Wind\",\"Wind\",\"Wind\",\"Wind\",\"Wind\",\"Wind\",\"Wind\",\"Wind\",\"Wind\",\"Wind\",\"Wind\",\"Wind\",\"Wind\",\"Wind\",\"Wind\",\"Wind\",\"Wind\",\"Wind\",\"Wind\",\"Wind\",\"Wind\",\"Wind\",\"Wind\",\"Wind\",\"Wind\",\"Wind\",\"Wind\",\"Wind\",\"Wind\",\"Wind\",\"Wind\",\"Wind\",\"Wind\"],\"time\":{\"__ndarray__\":\"AACAYZEfc0IAAABOOSlzQgAAgDrhMnNCAAAAJ4k8c0IAAIATMUZzQgAAAADZT3NCAACA7IBZc0IAAADZKGNzQgAAgMXQbHNCAAAAsnh2c0IAAICeIIBzQgAAAIvIiXNCAACAd3CTc0IAAABkGJ1zQgAAgFDApnNCAAAAPWiwc0IAAIApELpzQgAAABa4w3NCAACAAmDNc0IAAADvB9dzQgAAgNuv4HNCAAAAyFfqc0IAAIC0//NzQgAAAKGn/XNCAACAjU8HdEIAAAB69xB0QgAAgGafGnRCAAAAU0ckdEIAAIA/7y10QgAAACyXN3RCAACAGD9BdEIAAAAF50p0QgAAgPGOVHRCAAAA3jZedEIAAIDK3md0QgAAALeGcXRCAACAoy57dEIAAACQ1oR0QgAAgHx+jnRCAAAAaSaYdEIAAIBVzqF0QgAAAEJ2q3RCAACALh61dEIAAAAbxr50QgAAgAduyHRCAAAA9BXSdEIAAIDgvdt0QgAAAM1l5XRCAACAuQ3vdEIAAACmtfh0QgAAgJJdAnVCAAAAfwUMdUIAAIBrrRV1QgAAAFhVH3VCAACARP0odUIAAAAxpTJ1QgAAgB1NPHVCAAAACvVFdUI=\",\"dtype\":\"float64\",\"order\":\"little\",\"shape\":[58]}},\"selected\":{\"id\":\"5543\"},\"selection_policy\":{\"id\":\"5932\"}},\"id\":\"5542\",\"type\":\"ColumnDataSource\"},{\"attributes\":{},\"id\":\"6033\",\"type\":\"YearsTicker\"},{\"attributes\":{\"line_color\":\"#e5ae38\",\"line_width\":2,\"tags\":[\"apply_ranges\"],\"x\":{\"field\":\"time\"},\"y\":{\"field\":\"j0_norm\"}},\"id\":\"5541\",\"type\":\"Line\"},{\"attributes\":{\"line_alpha\":0.2,\"line_color\":\"#30a2da\",\"line_width\":2,\"tags\":[\"apply_ranges\"],\"x\":{\"field\":\"time\"},\"y\":{\"field\":\"j0_norm\"}},\"id\":\"5438\",\"type\":\"Line\"},{\"attributes\":{},\"id\":\"5511\",\"type\":\"AllLabels\"},{\"attributes\":{\"days\":[1,2,3,4,5,6,7,8,9,10,11,12,13,14,15,16,17,18,19,20,21,22,23,24,25,26,27,28,29,30,31]},\"id\":\"5996\",\"type\":\"DaysTicker\"},{\"attributes\":{\"line_color\":\"#30a2da\",\"line_width\":2,\"tags\":[\"apply_ranges\"],\"x\":{\"field\":\"time\"},\"y\":{\"field\":\"j0_norm\"}},\"id\":\"5441\",\"type\":\"Line\"},{\"attributes\":{\"months\":[0,4,8]},\"id\":\"5973\",\"type\":\"MonthsTicker\"},{\"attributes\":{\"below\":[{\"id\":\"5653\"}],\"center\":[{\"id\":\"5656\"},{\"id\":\"5660\"}],\"height\":300,\"left\":[{\"id\":\"5657\"}],\"margin\":null,\"min_border_bottom\":10,\"min_border_left\":10,\"min_border_right\":10,\"min_border_top\":10,\"output_backend\":\"webgl\",\"renderers\":[{\"id\":\"5686\"},{\"id\":\"5695\"},{\"id\":\"5704\"},{\"id\":\"5713\"}],\"sizing_mode\":\"fixed\",\"title\":{\"id\":\"5645\"},\"toolbar\":{\"id\":\"5667\"},\"toolbar_location\":null,\"width\":300,\"x_range\":{\"id\":\"5389\"},\"x_scale\":{\"id\":\"5651\"},\"y_range\":{\"id\":\"5637\"},\"y_scale\":{\"id\":\"5652\"}},\"id\":\"5644\",\"subtype\":\"Figure\",\"type\":\"Plot\"},{\"attributes\":{\"coordinates\":null,\"data_source\":{\"id\":\"5689\"},\"glyph\":{\"id\":\"5692\"},\"group\":null,\"hover_glyph\":null,\"muted_glyph\":{\"id\":\"5694\"},\"nonselection_glyph\":{\"id\":\"5693\"},\"selection_glyph\":{\"id\":\"5697\"},\"view\":{\"id\":\"5696\"}},\"id\":\"5695\",\"type\":\"GlyphRenderer\"},{\"attributes\":{\"months\":[0,4,8]},\"id\":\"5915\",\"type\":\"MonthsTicker\"},{\"attributes\":{\"source\":{\"id\":\"5597\"}},\"id\":\"5604\",\"type\":\"CDSView\"},{\"attributes\":{\"months\":[0,2,4,6,8,10]},\"id\":\"6059\",\"type\":\"MonthsTicker\"},{\"attributes\":{\"axis_label\":\"L_mn_norm\",\"coordinates\":null,\"formatter\":{\"id\":\"5842\"},\"group\":null,\"major_label_policy\":{\"id\":\"5843\"},\"ticker\":{\"id\":\"5822\"}},\"id\":\"5821\",\"type\":\"LinearAxis\"},{\"attributes\":{},\"id\":\"5681\",\"type\":\"Selection\"},{\"attributes\":{\"days\":[1,15]},\"id\":\"5941\",\"type\":\"DaysTicker\"},{\"attributes\":{\"line_color\":\"#30a2da\",\"line_width\":2,\"tags\":[\"apply_ranges\"],\"x\":{\"field\":\"time\"},\"y\":{\"field\":\"j0_norm\"}},\"id\":\"5523\",\"type\":\"Line\"},{\"attributes\":{\"data\":{\"L_mn_norm\":{\"__ndarray__\":\"EpItlI8zNUCGl4ixFFI1QPLWzukNJTRAeJSpCPE7NkDfjBiSgdE1QBUnrhBDaTdAUoaYRigcOEB2OPauSKQ0QJnJEYxf9TVAV+SwXiaRNECX9b7FWYI1QLhyGeB1pjVAjrvmsL8CNEDmPb9STOczQM+qtt+LpjNA+1JD1nY/M0Ad1LGvxco0QBBoJFhLHjNAGyzSxBtYNEBQOox8U/QzQAe7fk7LJzdAAAXVeUuAN0D+aueg0080QBXTuToPCTRAWS19fIkYM0AD51Px6WYxQGg8KfcpVzJAnNxVDKgcMkAbk79nrvQ0QPJsu3OAnzRAU7IIwE3FM0Az5vpG9ZsyQJTvDk/MwjJAB3De2LiyM0AWnf67WHIyQCLA3l/4cTZAAAAAAAAA+H8AAAAAAAD4fwAAAAAAAPh/AAAAAAAA+H8AAAAAAAD4fwAAAAAAAPh/AAAAAAAA+H8AAAAAAAD4fwAAAAAAAPh/AAAAAAAA+H8AAAAAAAD4fwAAAAAAAPh/AAAAAAAA+H8AAAAAAAD4fwAAAAAAAPh/5vluKvVSPEBOAxjVzFc7QL5ZZdfuuzpAwowdd3MlO0CE3CEu5Rg7QGqGDcC/1ztAZ2pRYIRBOEA=\",\"dtype\":\"float64\",\"order\":\"little\",\"shape\":[58]},\"id_count\":{\"__ndarray__\":\"AAAAAADom0AAAAAAAFagQAAAAAAAbqBAAAAAAACUnkAAAAAAADCgQAAAAAAA0J1AAAAAAACmoEAAAAAAAISVQAAAAAAADqBAAAAAAAC0nUAAAAAAAOScQAAAAAAAQJ1AAAAAAAC0n0AAAAAAAEqgQAAAAAAAHqFAAAAAAADInkAAAAAAANiaQAAAAAAALJ1AAAAAAABMnkAAAAAAAJyhQAAAAAAAjJ5AAAAAAADgnkAAAAAAAICgQAAAAAAAOJ1AAAAAAABon0AAAAAAAEKgQAAAAAAAGJ9AAAAAAABAnEAAAAAAAAyaQAAAAAAADJxAAAAAAABsnkAAAAAAAKieQAAAAAAAKJ9AAAAAAAASoEAAAAAAAKycQAAAAAAApJtAAAAAAAAA+H8AAAAAAAD4fwAAAAAAAPh/AAAAAAAA+H8AAAAAAAD4fwAAAAAAAPh/AAAAAAAA+H8AAAAAAAD4fwAAAAAAAPh/AAAAAAAA+H8AAAAAAAD4fwAAAAAAAPh/AAAAAAAA+H8AAAAAAAD4fwAAAAAAAPh/AAAAAACAjUAAAAAAADCcQAAAAAAAKKBAAAAAAABSoUAAAAAAAOSeQAAAAAAAZqBAAAAAAABAXkA=\",\"dtype\":\"float64\",\"order\":\"little\",\"shape\":[58]},\"sat\":[\"STA\",\"STA\",\"STA\",\"STA\",\"STA\",\"STA\",\"STA\",\"STA\",\"STA\",\"STA\",\"STA\",\"STA\",\"STA\",\"STA\",\"STA\",\"STA\",\"STA\",\"STA\",\"STA\",\"STA\",\"STA\",\"STA\",\"STA\",\"STA\",\"STA\",\"STA\",\"STA\",\"STA\",\"STA\",\"STA\",\"STA\",\"STA\",\"STA\",\"STA\",\"STA\",\"STA\",\"STA\",\"STA\",\"STA\",\"STA\",\"STA\",\"STA\",\"STA\",\"STA\",\"STA\",\"STA\",\"STA\",\"STA\",\"STA\",\"STA\",\"STA\",\"STA\",\"STA\",\"STA\",\"STA\",\"STA\",\"STA\",\"STA\"],\"time\":{\"__ndarray__\":\"AACAYZEfc0IAAABOOSlzQgAAgDrhMnNCAAAAJ4k8c0IAAIATMUZzQgAAAADZT3NCAACA7IBZc0IAAADZKGNzQgAAgMXQbHNCAAAAsnh2c0IAAICeIIBzQgAAAIvIiXNCAACAd3CTc0IAAABkGJ1zQgAAgFDApnNCAAAAPWiwc0IAAIApELpzQgAAABa4w3NCAACAAmDNc0IAAADvB9dzQgAAgNuv4HNCAAAAyFfqc0IAAIC0//NzQgAAAKGn/XNCAACAjU8HdEIAAAB69xB0QgAAgGafGnRCAAAAU0ckdEIAAIA/7y10QgAAACyXN3RCAACAGD9BdEIAAAAF50p0QgAAgPGOVHRCAAAA3jZedEIAAIDK3md0QgAAALeGcXRCAACAoy57dEIAAACQ1oR0QgAAgHx+jnRCAAAAaSaYdEIAAIBVzqF0QgAAAEJ2q3RCAACALh61dEIAAAAbxr50QgAAgAduyHRCAAAA9BXSdEIAAIDgvdt0QgAAAM1l5XRCAACAuQ3vdEIAAACmtfh0QgAAgJJdAnVCAAAAfwUMdUIAAIBrrRV1QgAAAFhVH3VCAACARP0odUIAAAAxpTJ1QgAAgB1NPHVCAAAACvVFdUI=\",\"dtype\":\"float64\",\"order\":\"little\",\"shape\":[58]}},\"selected\":{\"id\":\"5772\"},\"selection_policy\":{\"id\":\"6015\"}},\"id\":\"5771\",\"type\":\"ColumnDataSource\"},{\"attributes\":{},\"id\":\"5757\",\"type\":\"DatetimeTickFormatter\"},{\"attributes\":{\"data\":{\"id_count\":{\"__ndarray__\":\"AAAAAAAUn0AAAAAAAPSfQAAAAAAA8JtAAAAAAACQnEAAAAAAAFidQAAAAAAAhJxAAAAAAABIm0AAAAAAANSZQAAAAAAAEI5AAAAAAABwlkAAAAAAANiFQAAAAAAAuIhAAAAAAAAAZkAAAAAAAAD4fwAAAAAAaJZAAAAAAAAUkUAAAAAAACSTQAAAAAAAQJJAAAAAAAAEmUAAAAAAALiXQAAAAAAA/JdAAAAAAABAfUAAAAAAAAD4fwAAAAAAAPh/AAAAAAAA+H8AAAAAAKBrQAAAAAAAQJRAAAAAAAAInEAAAAAAACibQAAAAAAAfJpAAAAAAABcmEAAAAAAANB8QAAAAAAA6I5AAAAAAADQj0AAAAAAAJCGQAAAAAAA8HpAAAAAAAAggkAAAAAAADiCQAAAAAAAkIFAAAAAAADIgUAAAAAAAKB1QAAAAAAAeIBAAAAAAACQe0AAAAAAAFB8QAAAAAAAUHhAAAAAAADwc0AAAAAAABBzQAAAAAAAwHJAAAAAAABgbUAAAAAAAAB1QAAAAAAAgHVAAAAAAAAAbUAAAAAAANBzQAAAAAAAIHFAAAAAAACwckAAAAAAAMBzQAAAAAAAgHVA\",\"dtype\":\"float64\",\"order\":\"little\",\"shape\":[57]},\"j0_norm\":{\"__ndarray__\":\"m+KywOg0sz/jh2Nczc+xPyNCVjlYm7E/XlTNSsuMtT+EaSfMTr+3P6zflspYX7k//J6JSxnQvj+pMr8/CzK/PxQt50+MJbw/GhKbia2kwD/mc/K/iePCP1M8BeXY/L0/USMjcV5iwD8AAAAAAAD4fzlrw+/oWb0/1/j+6xBivT82kAeTCqy6P1SDb7TFlbY/TEK4mlAQtT+Yzvogwce1P7DNSuA5QLI/lcE1FpNKqj8AAAAAAAD4fwAAAAAAAPh/AAAAAAAA+H+N1ITYThaqPzqr5WG/6Ks/yCPgx+Czsz+q54moFxO2Pyz9BfNkQbo/sVXGqqB7uD+kgbNDnW+9P3NwXwyZoro/UE7UzLZxwD/zVp+Xl8/AP177CNNE6MI/lXBHfJppwj9P/jvRnLbAP3JOfmxoysU/rNSL6eS5yD/VnL+glfXCP2Fd/hp6S8U/XVhQNawuyz8t20ndeiHTPyn3Rz/In8g/cA+3lyb4yz/ZT1NDk4nGP4U+Lmszm9I/BZ81fKduyz8M4yZHHyHOP1nefT4C0Mo/c0NS8z/xyj8vFolbR8TGP8BWakocSsg/NCdS2B51zz/UvoJC/iTLPw1EKb3O+8w/\",\"dtype\":\"float64\",\"order\":\"little\",\"shape\":[57]},\"sat\":[\"JNO\",\"JNO\",\"JNO\",\"JNO\",\"JNO\",\"JNO\",\"JNO\",\"JNO\",\"JNO\",\"JNO\",\"JNO\",\"JNO\",\"JNO\",\"JNO\",\"JNO\",\"JNO\",\"JNO\",\"JNO\",\"JNO\",\"JNO\",\"JNO\",\"JNO\",\"JNO\",\"JNO\",\"JNO\",\"JNO\",\"JNO\",\"JNO\",\"JNO\",\"JNO\",\"JNO\",\"JNO\",\"JNO\",\"JNO\",\"JNO\",\"JNO\",\"JNO\",\"JNO\",\"JNO\",\"JNO\",\"JNO\",\"JNO\",\"JNO\",\"JNO\",\"JNO\",\"JNO\",\"JNO\",\"JNO\",\"JNO\",\"JNO\",\"JNO\",\"JNO\",\"JNO\",\"JNO\",\"JNO\",\"JNO\",\"JNO\"],\"time\":{\"__ndarray__\":\"AACAYZEfc0IAAABOOSlzQgAAgDrhMnNCAAAAJ4k8c0IAAIATMUZzQgAAAADZT3NCAACA7IBZc0IAAADZKGNzQgAAgMXQbHNCAAAAsnh2c0IAAICeIIBzQgAAAIvIiXNCAACAd3CTc0IAAABkGJ1zQgAAgFDApnNCAAAAPWiwc0IAAIApELpzQgAAABa4w3NCAACAAmDNc0IAAADvB9dzQgAAgNuv4HNCAAAAyFfqc0IAAIC0//NzQgAAAKGn/XNCAACAjU8HdEIAAAB69xB0QgAAgGafGnRCAAAAU0ckdEIAAIA/7y10QgAAACyXN3RCAACAGD9BdEIAAAAF50p0QgAAgPGOVHRCAAAA3jZedEIAAIDK3md0QgAAALeGcXRCAACAoy57dEIAAACQ1oR0QgAAgHx+jnRCAAAAaSaYdEIAAIBVzqF0QgAAAEJ2q3RCAACALh61dEIAAAAbxr50QgAAgAduyHRCAAAA9BXSdEIAAIDgvdt0QgAAAM1l5XRCAACAuQ3vdEIAAACmtfh0QgAAgJJdAnVCAAAAfwUMdUIAAIBrrRV1QgAAAFhVH3VCAACARP0odUIAAAAxpTJ1QgAAgB1NPHVC\",\"dtype\":\"float64\",\"order\":\"little\",\"shape\":[57]}},\"selected\":{\"id\":\"5434\"},\"selection_policy\":{\"id\":\"5897\"}},\"id\":\"5433\",\"type\":\"ColumnDataSource\"},{\"attributes\":{\"base\":24,\"mantissas\":[1,2,4,6,8,12],\"max_interval\":43200000.0,\"min_interval\":3600000.0,\"num_minor_ticks\":0},\"id\":\"5937\",\"type\":\"AdaptiveTicker\"},{\"attributes\":{},\"id\":\"5493\",\"type\":\"BasicTicker\"},{\"attributes\":{},\"id\":\"5842\",\"type\":\"BasicTickFormatter\"},{\"attributes\":{\"coordinates\":null,\"data_source\":{\"id\":\"5698\"},\"glyph\":{\"id\":\"5701\"},\"group\":null,\"hover_glyph\":null,\"muted_glyph\":{\"id\":\"5703\"},\"nonselection_glyph\":{\"id\":\"5702\"},\"selection_glyph\":{\"id\":\"5706\"},\"view\":{\"id\":\"5705\"}},\"id\":\"5704\",\"type\":\"GlyphRenderer\"},{\"attributes\":{},\"id\":\"5514\",\"type\":\"AllLabels\"},{\"attributes\":{\"source\":{\"id\":\"5771\"}},\"id\":\"5778\",\"type\":\"CDSView\"},{\"attributes\":{},\"id\":\"5543\",\"type\":\"Selection\"},{\"attributes\":{\"axis_label\":\"j0_norm\",\"coordinates\":null,\"formatter\":{\"id\":\"5513\"},\"group\":null,\"major_label_policy\":{\"id\":\"5514\"},\"ticker\":{\"id\":\"5493\"}},\"id\":\"5492\",\"type\":\"LinearAxis\"},{\"attributes\":{\"coordinates\":null,\"data_source\":{\"id\":\"5771\"},\"glyph\":{\"id\":\"5774\"},\"group\":null,\"hover_glyph\":null,\"muted_glyph\":{\"id\":\"5776\"},\"nonselection_glyph\":{\"id\":\"5775\"},\"selection_glyph\":{\"id\":\"5779\"},\"view\":{\"id\":\"5778\"}},\"id\":\"5777\",\"type\":\"GlyphRenderer\"},{\"attributes\":{\"months\":[0,4,8]},\"id\":\"6060\",\"type\":\"MonthsTicker\"},{\"attributes\":{\"end\":1461888000000.0,\"reset_end\":1461888000000.0,\"reset_start\":1314144000000.0,\"start\":1314144000000.0,\"tags\":[[[\"time\",\"time\",null]],[]]},\"id\":\"5389\",\"type\":\"Range1d\"},{\"attributes\":{\"line_alpha\":0.2,\"line_color\":\"#6d904f\",\"line_width\":2,\"tags\":[\"apply_ranges\"],\"x\":{\"field\":\"time\"},\"y\":{\"field\":\"L_mn_norm\"}},\"id\":\"5712\",\"type\":\"Line\"},{\"attributes\":{\"line_alpha\":0.2,\"line_color\":\"#fc4f30\",\"line_width\":2,\"tags\":[\"apply_ranges\"],\"x\":{\"field\":\"time\"},\"y\":{\"field\":\"L_mn_norm\"}},\"id\":\"5694\",\"type\":\"Line\"},{\"attributes\":{\"line_color\":\"#e5ae38\",\"line_width\":2,\"tags\":[\"apply_ranges\"],\"x\":{\"field\":\"time\"},\"y\":{\"field\":\"j0_norm\"}},\"id\":\"5459\",\"type\":\"Line\"},{\"attributes\":{\"coordinates\":null,\"data_source\":{\"id\":\"5615\"},\"glyph\":{\"id\":\"5618\"},\"group\":null,\"hover_glyph\":null,\"muted_glyph\":{\"id\":\"5620\"},\"nonselection_glyph\":{\"id\":\"5619\"},\"selection_glyph\":{\"id\":\"5623\"},\"view\":{\"id\":\"5622\"}},\"id\":\"5621\",\"type\":\"GlyphRenderer\"},{\"attributes\":{\"months\":[0,4,8]},\"id\":\"6002\",\"type\":\"MonthsTicker\"},{\"attributes\":{\"coordinates\":null,\"group\":null,\"text_color\":\"black\",\"text_font_size\":\"12pt\"},\"id\":\"5398\",\"type\":\"Title\"},{\"attributes\":{\"source\":{\"id\":\"5689\"}},\"id\":\"5696\",\"type\":\"CDSView\"},{\"attributes\":{},\"id\":\"5734\",\"type\":\"LinearScale\"},{\"attributes\":{\"active_drag\":{\"id\":\"5497\"},\"active_scroll\":{\"id\":\"5498\"},\"tools\":[{\"id\":\"5475\"},{\"id\":\"5496\"},{\"id\":\"5497\"},{\"id\":\"5498\"},{\"id\":\"5499\"},{\"id\":\"5500\"}]},\"id\":\"5502\",\"type\":\"Toolbar\"},{\"attributes\":{\"line_color\":\"#fc4f30\",\"line_width\":2,\"tags\":[\"apply_ranges\"],\"x\":{\"field\":\"time\"},\"y\":{\"field\":\"j0_norm\"}},\"id\":\"5527\",\"type\":\"Line\"},{\"attributes\":{\"line_alpha\":0.1,\"line_color\":\"#e5ae38\",\"line_width\":2,\"tags\":[\"apply_ranges\"],\"x\":{\"field\":\"time\"},\"y\":{\"field\":\"L_mn_norm\"}},\"id\":\"5784\",\"type\":\"Line\"},{\"attributes\":{\"coordinates\":null,\"data_source\":{\"id\":\"5533\"},\"glyph\":{\"id\":\"5536\"},\"group\":null,\"hover_glyph\":null,\"muted_glyph\":{\"id\":\"5538\"},\"nonselection_glyph\":{\"id\":\"5537\"},\"selection_glyph\":{\"id\":\"5541\"},\"view\":{\"id\":\"5540\"}},\"id\":\"5539\",\"type\":\"GlyphRenderer\"},{\"attributes\":{},\"id\":\"5598\",\"type\":\"Selection\"},{\"attributes\":{\"coordinates\":null,\"data_source\":{\"id\":\"5515\"},\"glyph\":{\"id\":\"5518\"},\"group\":null,\"hover_glyph\":null,\"muted_glyph\":{\"id\":\"5520\"},\"nonselection_glyph\":{\"id\":\"5519\"},\"selection_glyph\":{\"id\":\"5523\"},\"view\":{\"id\":\"5522\"}},\"id\":\"5521\",\"type\":\"GlyphRenderer\"},{\"attributes\":{\"data\":{\"id_count\":{\"__ndarray__\":\"AAAAAADom0AAAAAAAFagQAAAAAAAbqBAAAAAAACUnkAAAAAAADCgQAAAAAAA0J1AAAAAAACmoEAAAAAAAISVQAAAAAAADqBAAAAAAAC0nUAAAAAAAOScQAAAAAAAQJ1AAAAAAAC0n0AAAAAAAEqgQAAAAAAAHqFAAAAAAADInkAAAAAAANiaQAAAAAAALJ1AAAAAAABMnkAAAAAAAJyhQAAAAAAAjJ5AAAAAAADgnkAAAAAAAICgQAAAAAAAOJ1AAAAAAABon0AAAAAAAEKgQAAAAAAAGJ9AAAAAAABAnEAAAAAAAAyaQAAAAAAADJxAAAAAAABsnkAAAAAAAKieQAAAAAAAKJ9AAAAAAAASoEAAAAAAAKycQAAAAAAApJtAAAAAAAAA+H8AAAAAAAD4fwAAAAAAAPh/AAAAAAAA+H8AAAAAAAD4fwAAAAAAAPh/AAAAAAAA+H8AAAAAAAD4fwAAAAAAAPh/AAAAAAAA+H8AAAAAAAD4fwAAAAAAAPh/AAAAAAAA+H8AAAAAAAD4fwAAAAAAAPh/AAAAAACAjUAAAAAAADCcQAAAAAAAKKBAAAAAAABSoUAAAAAAAOSeQAAAAAAAZqBAAAAAAABAXkA=\",\"dtype\":\"float64\",\"order\":\"little\",\"shape\":[58]},\"j0_norm\":{\"__ndarray__\":\"M3601iSgrz8GGtj+wl6wPxm7esuBdrA/LQcHOl5VsD8oIUUAzyyyPzu8GvMUXqw/kT6U16vIrj9VdGKahnyyPw/EZreWlbA/sB+KJVW0tD/+3QqawrWwP3DL1F/OtbE/3QWvUP6isD+N9x6l6d+vP05x3H8is7M/zjqdiE3bsD8JaMxdBX+xPyj92ylAQa8/PVAry4rtsD9n7xoUf3CyP76hINysUrA/qa3nGHJ6sj88zBLidAmzPwkUrHzAhbE/HdxeXJHKsj/t2VxO0O6yP+jC+HLjFbI/TnG4UNLNsD9cj9A7pu6wP9VXvlMWXa4/pI8gy99nsz/B2r1v5YO1P23WHsSa+7I/n74eQWO7sD8pPY00XeOuP5NXUUzUHq4/AAAAAAAA+H8AAAAAAAD4fwAAAAAAAPh/AAAAAAAA+H8AAAAAAAD4fwAAAAAAAPh/AAAAAAAA+H8AAAAAAAD4fwAAAAAAAPh/AAAAAAAA+H8AAAAAAAD4fwAAAAAAAPh/AAAAAAAA+H8AAAAAAAD4fwAAAAAAAPh/KwRV1ZA+rj+EjOsYiiCrP8FvHRysxaw/d4G9rHOnqj/T2CTAYsKoP8CvWiZR2qo/EoOulEUVsj8=\",\"dtype\":\"float64\",\"order\":\"little\",\"shape\":[58]},\"sat\":[\"STA\",\"STA\",\"STA\",\"STA\",\"STA\",\"STA\",\"STA\",\"STA\",\"STA\",\"STA\",\"STA\",\"STA\",\"STA\",\"STA\",\"STA\",\"STA\",\"STA\",\"STA\",\"STA\",\"STA\",\"STA\",\"STA\",\"STA\",\"STA\",\"STA\",\"STA\",\"STA\",\"STA\",\"STA\",\"STA\",\"STA\",\"STA\",\"STA\",\"STA\",\"STA\",\"STA\",\"STA\",\"STA\",\"STA\",\"STA\",\"STA\",\"STA\",\"STA\",\"STA\",\"STA\",\"STA\",\"STA\",\"STA\",\"STA\",\"STA\",\"STA\",\"STA\",\"STA\",\"STA\",\"STA\",\"STA\",\"STA\",\"STA\"],\"time\":{\"__ndarray__\":\"AACAYZEfc0IAAABOOSlzQgAAgDrhMnNCAAAAJ4k8c0IAAIATMUZzQgAAAADZT3NCAACA7IBZc0IAAADZKGNzQgAAgMXQbHNCAAAAsnh2c0IAAICeIIBzQgAAAIvIiXNCAACAd3CTc0IAAABkGJ1zQgAAgFDApnNCAAAAPWiwc0IAAIApELpzQgAAABa4w3NCAACAAmDNc0IAAADvB9dzQgAAgNuv4HNCAAAAyFfqc0IAAIC0//NzQgAAAKGn/XNCAACAjU8HdEIAAAB69xB0QgAAgGafGnRCAAAAU0ckdEIAAIA/7y10QgAAACyXN3RCAACAGD9BdEIAAAAF50p0QgAAgPGOVHRCAAAA3jZedEIAAIDK3md0QgAAALeGcXRCAACAoy57dEIAAACQ1oR0QgAAgHx+jnRCAAAAaSaYdEIAAIBVzqF0QgAAAEJ2q3RCAACALh61dEIAAAAbxr50QgAAgAduyHRCAAAA9BXSdEIAAIDgvdt0QgAAAM1l5XRCAACAuQ3vdEIAAACmtfh0QgAAgJJdAnVCAAAAfwUMdUIAAIBrrRV1QgAAAFhVH3VCAACARP0odUIAAAAxpTJ1QgAAgB1NPHVCAAAACvVFdUI=\",\"dtype\":\"float64\",\"order\":\"little\",\"shape\":[58]}},\"selected\":{\"id\":\"5525\"},\"selection_policy\":{\"id\":\"5928\"}},\"id\":\"5524\",\"type\":\"ColumnDataSource\"},{\"attributes\":{\"data\":{\"id_count\":{\"__ndarray__\":\"AAAAAAAgZEAAAAAAAMBjQAAAAAAAAGFAAAAAAADgZkAAAAAAAEBjQAAAAAAAwGBAAAAAAABgYkAAAAAAAMBhQAAAAAAA4GBAAAAAAACgY0AAAAAAAOBhQAAAAAAAgGBAAAAAAAAgYkAAAAAAAGBjQAAAAAAAwGJAAAAAAAAAZEAAAAAAAKBnQAAAAAAAwGJAAAAAAABAZUAAAAAAAGBnQAAAAAAAAGNAAAAAAAAgZEAAAAAAAMBdQAAAAAAA4GZAAAAAAADgZ0AAAAAAAOBiQAAAAAAAgF9AAAAAAACAZEAAAAAAAMBkQAAAAAAAIGVAAAAAAADAYkAAAAAAAGBnQAAAAAAAQFxAAAAAAAAgYkAAAAAAAEBjQAAAAAAAwF9AAAAAAAAgYUAAAAAAAOBgQAAAAAAAwF1AAAAAAACAT0AAAAAAAMBoQAAAAAAAgGRAAAAAAABgZUAAAAAAAGBlQAAAAAAAIGtAAAAAAABgZEAAAAAAAABiQAAAAAAAwGNAAAAAAACgZEAAAAAAAMBkQAAAAAAAgGhAAAAAAADgZkAAAAAAAMBnQAAAAAAAQGVAAAAAAAAgZEAAAAAAAABmQAAAAAAAwGRA\",\"dtype\":\"float64\",\"order\":\"little\",\"shape\":[57]},\"j0_norm\":{\"__ndarray__\":\"aQZkhly+rD/fL9T2PrSmP8VNw9L8aqk/BwhcIck0pz8j0e9XWOOsP0/+Q1KFKKI/6FxZ64OnqT+tkvnO0muoP5vGD292ZKc/AGGrlibPpz88y+EyhSirPxVU9o/t1as/48yHpCRsqD/0WQlDeMuqP28vIpXHaak/LE2at63SpT9v6lkxoAqmP4IVON3mkrE/cgVvwA0cqD/ewX4ehtqoP5YKXxuya6w/V5BdabTLqj+S7GRxXW2sP6ZeNW3Hwas/F+9pTE6jrj8L4LrX91upPyhc3Y+Dsq4/HMqLK/e7rj/BGR2dwSqrP2J7NsPg4bg/5Q1+dArPrz9q+V5s5R+wP15O4qVAgqY/CjvQJ1ffoz+Jeg+/qpinP+WWujeVw68/CNd5ttqxqD+KfJN7nDitPyrJAgTD6Kk/npxGQ0D2oz/OqPWopg2oP6KUU+uVIqg/Qu83ISIApD9JAzU3QSOoP3BTmA/s5Kc//uYUzZHmpD9wzZA+DJWrPzdLvXiGc6c/d6MVa0Flqj+WnN/qyfCqP/O+LGjL7qc/l6uSQTLUqT+u3ZpiGKqqPxUHVTlON60/tgpt9foDpT/jJoFmizSpP9ZhldA0eag/\",\"dtype\":\"float64\",\"order\":\"little\",\"shape\":[57]},\"sat\":[\"Wind\",\"Wind\",\"Wind\",\"Wind\",\"Wind\",\"Wind\",\"Wind\",\"Wind\",\"Wind\",\"Wind\",\"Wind\",\"Wind\",\"Wind\",\"Wind\",\"Wind\",\"Wind\",\"Wind\",\"Wind\",\"Wind\",\"Wind\",\"Wind\",\"Wind\",\"Wind\",\"Wind\",\"Wind\",\"Wind\",\"Wind\",\"Wind\",\"Wind\",\"Wind\",\"Wind\",\"Wind\",\"Wind\",\"Wind\",\"Wind\",\"Wind\",\"Wind\",\"Wind\",\"Wind\",\"Wind\",\"Wind\",\"Wind\",\"Wind\",\"Wind\",\"Wind\",\"Wind\",\"Wind\",\"Wind\",\"Wind\",\"Wind\",\"Wind\",\"Wind\",\"Wind\",\"Wind\",\"Wind\",\"Wind\",\"Wind\"],\"time\":{\"__ndarray__\":\"AACAYZEfc0IAAABOOSlzQgAAgDrhMnNCAAAAJ4k8c0IAAIATMUZzQgAAAADZT3NCAACA7IBZc0IAAADZKGNzQgAAgMXQbHNCAAAAsnh2c0IAAICeIIBzQgAAAIvIiXNCAACAd3CTc0IAAABkGJ1zQgAAgFDApnNCAAAAPWiwc0IAAIApELpzQgAAABa4w3NCAACAAmDNc0IAAADvB9dzQgAAgNuv4HNCAAAAyFfqc0IAAIC0//NzQgAAAKGn/XNCAACAjU8HdEIAAAB69xB0QgAAgGafGnRCAAAAU0ckdEIAAIA/7y10QgAAACyXN3RCAACAGD9BdEIAAAAF50p0QgAAgPGOVHRCAAAA3jZedEIAAIDK3md0QgAAALeGcXRCAACAoy57dEIAAACQ1oR0QgAAgHx+jnRCAAAAaSaYdEIAAIBVzqF0QgAAAEJ2q3RCAACALh61dEIAAAAbxr50QgAAgAduyHRCAAAA9BXSdEIAAIDgvdt0QgAAAM1l5XRCAACAuQ3vdEIAAACmtfh0QgAAgJJdAnVCAAAAfwUMdUIAAIBrrRV1QgAAAFhVH3VCAACARP0odUIAAAAxpTJ1QgAAgB1NPHVC\",\"dtype\":\"float64\",\"order\":\"little\",\"shape\":[57]}},\"selected\":{\"id\":\"5625\"},\"selection_policy\":{\"id\":\"5961\"}},\"id\":\"5624\",\"type\":\"ColumnDataSource\"},{\"attributes\":{\"source\":{\"id\":\"5698\"}},\"id\":\"5705\",\"type\":\"CDSView\"},{\"attributes\":{\"line_color\":\"#e5ae38\",\"line_width\":2,\"tags\":[\"apply_ranges\"],\"x\":{\"field\":\"time\"},\"y\":{\"field\":\"L_mn_norm\"}},\"id\":\"5783\",\"type\":\"Line\"},{\"attributes\":{},\"id\":\"5959\",\"type\":\"UnionRenderers\"},{\"attributes\":{\"callback\":null,\"formatters\":{\"@{time}\":\"datetime\"},\"renderers\":[{\"id\":\"5768\"},{\"id\":\"5777\"},{\"id\":\"5786\"},{\"id\":\"5795\"}],\"tags\":[\"hv_created\"],\"tooltips\":[[\"sat\",\"@{sat}\"],[\"time\",\"@{time}{%F %T}\"],[\"L_mn_norm\",\"@{L_mn_norm}\"],[\"id_count\",\"@{id_count}\"]]},\"id\":\"5722\",\"type\":\"HoverTool\"},{\"attributes\":{\"bottom_units\":\"screen\",\"coordinates\":null,\"fill_alpha\":0.5,\"fill_color\":\"lightgrey\",\"group\":null,\"left_units\":\"screen\",\"level\":\"overlay\",\"line_alpha\":1.0,\"line_color\":\"black\",\"line_dash\":[4,4],\"line_width\":2,\"right_units\":\"screen\",\"syncable\":false,\"top_units\":\"screen\"},\"id\":\"5830\",\"type\":\"BoxAnnotation\"},{\"attributes\":{\"line_color\":\"#fc4f30\",\"line_width\":2,\"tags\":[\"apply_ranges\"],\"x\":{\"field\":\"time\"},\"y\":{\"field\":\"j0_norm\"}},\"id\":\"5609\",\"type\":\"Line\"},{\"attributes\":{\"line_alpha\":0.2,\"line_color\":\"#30a2da\",\"line_width\":2,\"tags\":[\"apply_ranges\"],\"x\":{\"field\":\"time\"},\"y\":{\"field\":\"L_mn_norm\"}},\"id\":\"5767\",\"type\":\"Line\"},{\"attributes\":{\"days\":[1,2,3,4,5,6,7,8,9,10,11,12,13,14,15,16,17,18,19,20,21,22,23,24,25,26,27,28,29,30,31]},\"id\":\"5909\",\"type\":\"DaysTicker\"},{\"attributes\":{},\"id\":\"5579\",\"type\":\"PanTool\"},{\"attributes\":{\"data\":{\"id_count\":{\"__ndarray__\":\"AAAAAAConkAAAAAAAJKhQAAAAAAAxKFAAAAAAACmoEAAAAAAACKiQAAAAAAAkqBAAAAAAADcoUAAAAAAAKSWQAAAAAAAdKFAAAAAAABmoEAAAAAAALifQAAAAAAA8J9AAAAAAABcoUAAAAAAAI6hQAAAAAAARKJAAAAAAACcoEAAAAAAAACdQAAAAAAAqJ5AAAAAAAB+oEAAAAAAAMCiQAAAAAAAbqBAAAAAAAAMoUAAAAAAAOShQAAAAAAApJ9AAAAAAAACoUAAAAAAAIShQAAAAAAAxqBAAAAAAACUnkAAAAAAAOSbQAAAAAAADJ5AAAAAAACwoEAAAAAAAJagQAAAAAAA4qBAAAAAAABioUAAAAAAAJSeQAAAAAAAkJ5AAAAAAAAA+H8AAAAAAAD4fwAAAAAAAPh/AAAAAAAA+H8AAAAAAAD4fwAAAAAAAPh/AAAAAAAA+H8AAAAAAAD4fwAAAAAAAPh/AAAAAAAA+H8AAAAAAAD4fwAAAAAAAPh/AAAAAAAA+H8AAAAAAAD4fwAAAAAAAPh/AAAAAAAEkEAAAAAAAASfQAAAAAAA6qFAAAAAAACuokAAAAAAABihQAAAAAAAwKFAAAAAAACAYEA=\",\"dtype\":\"float64\",\"order\":\"little\",\"shape\":[58]},\"j0_norm\":{\"__ndarray__\":\"TgqqXSySrz/pDfhKFciwP6L4eNtyS7A/WHLQeXsKsD88ULG3wNexP88uiWAP3as/6g4qfmnWrj8uxcknpRazP8N9MaswgLA/BsjH9kSOtD94s0/QkXywP0Tw0TBsjrE/UeQR9AJ7sD9m3jKDV/avP978ipZeubM/W5ff4yDGsD9cwyrNrU2xP0mGCx7IXK8/kBlmyoe+sD+pnEpPpG2yP7q/NXs4E7A/osEV2SpTsj9+3q2EBr6yPyHzt6IPh7E/ynd5gM2wsj+vh7qDxOCyPxuIMwJSCrI/WAboWjv4sD87Ww/W7zaxPyU3PZd4cK4/4GpK6Ncbsz8dRx685yq1P9wKSy7u4LI/0mP1cOV/sD+wtKr5gbauP2GRQrmYua0/AAAAAAAA+H8AAAAAAAD4fwAAAAAAAPh/AAAAAAAA+H8AAAAAAAD4fwAAAAAAAPh/AAAAAAAA+H8AAAAAAAD4fwAAAAAAAPh/AAAAAAAA+H8AAAAAAAD4fwAAAAAAAPh/AAAAAAAA+H8AAAAAAAD4fwAAAAAAAPh/X0Fhbue4rT8iSV4svpmqP1cy9KYu9as/OfCjFmRRqj+5q3O0vbOoP+ZAK02kkqo/4WEi3ycOsj8=\",\"dtype\":\"float64\",\"order\":\"little\",\"shape\":[58]},\"sat\":[\"STA\",\"STA\",\"STA\",\"STA\",\"STA\",\"STA\",\"STA\",\"STA\",\"STA\",\"STA\",\"STA\",\"STA\",\"STA\",\"STA\",\"STA\",\"STA\",\"STA\",\"STA\",\"STA\",\"STA\",\"STA\",\"STA\",\"STA\",\"STA\",\"STA\",\"STA\",\"STA\",\"STA\",\"STA\",\"STA\",\"STA\",\"STA\",\"STA\",\"STA\",\"STA\",\"STA\",\"STA\",\"STA\",\"STA\",\"STA\",\"STA\",\"STA\",\"STA\",\"STA\",\"STA\",\"STA\",\"STA\",\"STA\",\"STA\",\"STA\",\"STA\",\"STA\",\"STA\",\"STA\",\"STA\",\"STA\",\"STA\",\"STA\"],\"time\":{\"__ndarray__\":\"AACAYZEfc0IAAABOOSlzQgAAgDrhMnNCAAAAJ4k8c0IAAIATMUZzQgAAAADZT3NCAACA7IBZc0IAAADZKGNzQgAAgMXQbHNCAAAAsnh2c0IAAICeIIBzQgAAAIvIiXNCAACAd3CTc0IAAABkGJ1zQgAAgFDApnNCAAAAPWiwc0IAAIApELpzQgAAABa4w3NCAACAAmDNc0IAAADvB9dzQgAAgNuv4HNCAAAAyFfqc0IAAIC0//NzQgAAAKGn/XNCAACAjU8HdEIAAAB69xB0QgAAgGafGnRCAAAAU0ckdEIAAIA/7y10QgAAACyXN3RCAACAGD9BdEIAAAAF50p0QgAAgPGOVHRCAAAA3jZedEIAAIDK3md0QgAAALeGcXRCAACAoy57dEIAAACQ1oR0QgAAgHx+jnRCAAAAaSaYdEIAAIBVzqF0QgAAAEJ2q3RCAACALh61dEIAAAAbxr50QgAAgAduyHRCAAAA9BXSdEIAAIDgvdt0QgAAAM1l5XRCAACAuQ3vdEIAAACmtfh0QgAAgJJdAnVCAAAAfwUMdUIAAIBrrRV1QgAAAFhVH3VCAACARP0odUIAAAAxpTJ1QgAAgB1NPHVCAAAACvVFdUI=\",\"dtype\":\"float64\",\"order\":\"little\",\"shape\":[58]}},\"selected\":{\"id\":\"5443\"},\"selection_policy\":{\"id\":\"5899\"}},\"id\":\"5442\",\"type\":\"ColumnDataSource\"},{\"attributes\":{\"line_color\":\"#30a2da\",\"line_width\":2,\"tags\":[\"apply_ranges\"],\"x\":{\"field\":\"time\"},\"y\":{\"field\":\"L_mn_norm\"}},\"id\":\"5765\",\"type\":\"Line\"},{\"attributes\":{\"axis\":{\"id\":\"5817\"},\"coordinates\":null,\"grid_line_color\":null,\"group\":null,\"ticker\":null},\"id\":\"5820\",\"type\":\"Grid\"},{\"attributes\":{},\"id\":\"6013\",\"type\":\"UnionRenderers\"},{\"attributes\":{\"mantissas\":[1,2,5],\"max_interval\":500.0,\"num_minor_ticks\":0},\"id\":\"5964\",\"type\":\"AdaptiveTicker\"},{\"attributes\":{\"below\":[{\"id\":\"5406\"}],\"center\":[{\"id\":\"5409\"},{\"id\":\"5413\"}],\"height\":300,\"left\":[{\"id\":\"5410\"}],\"margin\":null,\"min_border_bottom\":10,\"min_border_left\":10,\"min_border_right\":10,\"min_border_top\":10,\"output_backend\":\"webgl\",\"renderers\":[{\"id\":\"5439\"},{\"id\":\"5448\"},{\"id\":\"5457\"},{\"id\":\"5466\"}],\"sizing_mode\":\"fixed\",\"title\":{\"id\":\"5398\"},\"toolbar\":{\"id\":\"5420\"},\"toolbar_location\":null,\"width\":300,\"x_range\":{\"id\":\"5389\"},\"x_scale\":{\"id\":\"5404\"},\"y_range\":{\"id\":\"5390\"},\"y_scale\":{\"id\":\"5405\"}},\"id\":\"5397\",\"subtype\":\"Figure\",\"type\":\"Plot\"},{\"attributes\":{\"line_color\":\"#fc4f30\",\"line_width\":2,\"tags\":[\"apply_ranges\"],\"x\":{\"field\":\"time\"},\"y\":{\"field\":\"j0_norm\"}},\"id\":\"5532\",\"type\":\"Line\"},{\"attributes\":{\"mantissas\":[1,2,5],\"max_interval\":500.0,\"num_minor_ticks\":0},\"id\":\"5993\",\"type\":\"AdaptiveTicker\"},{\"attributes\":{\"overlay\":{\"id\":\"5830\"}},\"id\":\"5828\",\"type\":\"BoxZoomTool\"},{\"attributes\":{\"days\":[1,8,15,22]},\"id\":\"5911\",\"type\":\"DaysTicker\"},{\"attributes\":{\"callback\":null,\"formatters\":{\"@{time}\":\"datetime\"},\"renderers\":[{\"id\":\"5439\"},{\"id\":\"5448\"},{\"id\":\"5457\"},{\"id\":\"5466\"}],\"tags\":[\"hv_created\"],\"tooltips\":[[\"sat\",\"@{sat}\"],[\"time\",\"@{time}{%F %T}\"],[\"j0_norm\",\"@{j0_norm}\"],[\"id_count\",\"@{id_count}\"]]},\"id\":\"5393\",\"type\":\"HoverTool\"},{\"attributes\":{\"data\":{\"L_mn_norm\":{\"__ndarray__\":\"oMmCstuDNECqXvgXUe8zQCg7YRU6wzBAgTXR6SxVLUAyQ9+YiMArQNXg6CggJytAFQP3kq+CKUBf+Xv38WEpQOIg80CbpCVAi6uwDi6bJkBU7D7qtisnQCty+9gY3ixAfT9nXDHDJkAAAAAAAAD4f+yCaXJK1ydAbqGWwc9vJkAAhokl/gosQI6gbm/GBS1Az9rOjvz2LEA1QVS4QK0vQOVXGNwToTFAy1Yckr8aM0AAAAAAAAD4fwAAAAAAAPh/AAAAAAAA+H+MDvXbgyIyQDnb83epJDRAOpJ1oUB0MUAOJrRLqKYvQHMhsjQ7yStAvKrXPw55KkAZrbUzqcImQGIOcDKPrCZAXt4bwI0gJkCmM60ZqtEhQDyFIUajsCNAPn0cv7uWI0AEFZ6f0xIkQMJmHj+fsCNAh4mqQxzFIkABEGcxZ1wjQBbxlimdkyRA+LTMIqeQIEClfERArLIhQF26lXi92CNAse9euQklIUAAp4YysGgiQLralIgwphtAV0Snyq2dIEB1PmZXwxchQGfHihvf2iFAQkw3wbwEJkBJanI5VSwhQO/5YRrnRCBAltWB2Kz5IEAcG+lTQdIiQJkTVVCmZB9A\",\"dtype\":\"float64\",\"order\":\"little\",\"shape\":[57]},\"id_count\":{\"__ndarray__\":\"AAAAAAAUn0AAAAAAAPSfQAAAAAAA8JtAAAAAAACQnEAAAAAAAFidQAAAAAAAhJxAAAAAAABIm0AAAAAAANSZQAAAAAAAEI5AAAAAAABwlkAAAAAAANiFQAAAAAAAuIhAAAAAAAAAZkAAAAAAAAD4fwAAAAAAaJZAAAAAAAAUkUAAAAAAACSTQAAAAAAAQJJAAAAAAAAEmUAAAAAAALiXQAAAAAAA/JdAAAAAAABAfUAAAAAAAAD4fwAAAAAAAPh/AAAAAAAA+H8AAAAAAKBrQAAAAAAAQJRAAAAAAAAInEAAAAAAACibQAAAAAAAfJpAAAAAAABcmEAAAAAAANB8QAAAAAAA6I5AAAAAAADQj0AAAAAAAJCGQAAAAAAA8HpAAAAAAAAggkAAAAAAADiCQAAAAAAAkIFAAAAAAADIgUAAAAAAAKB1QAAAAAAAeIBAAAAAAACQe0AAAAAAAFB8QAAAAAAAUHhAAAAAAADwc0AAAAAAABBzQAAAAAAAwHJAAAAAAABgbUAAAAAAAAB1QAAAAAAAgHVAAAAAAAAAbUAAAAAAANBzQAAAAAAAIHFAAAAAAACwckAAAAAAAMBzQAAAAAAAgHVA\",\"dtype\":\"float64\",\"order\":\"little\",\"shape\":[57]},\"sat\":[\"JNO\",\"JNO\",\"JNO\",\"JNO\",\"JNO\",\"JNO\",\"JNO\",\"JNO\",\"JNO\",\"JNO\",\"JNO\",\"JNO\",\"JNO\",\"JNO\",\"JNO\",\"JNO\",\"JNO\",\"JNO\",\"JNO\",\"JNO\",\"JNO\",\"JNO\",\"JNO\",\"JNO\",\"JNO\",\"JNO\",\"JNO\",\"JNO\",\"JNO\",\"JNO\",\"JNO\",\"JNO\",\"JNO\",\"JNO\",\"JNO\",\"JNO\",\"JNO\",\"JNO\",\"JNO\",\"JNO\",\"JNO\",\"JNO\",\"JNO\",\"JNO\",\"JNO\",\"JNO\",\"JNO\",\"JNO\",\"JNO\",\"JNO\",\"JNO\",\"JNO\",\"JNO\",\"JNO\",\"JNO\",\"JNO\",\"JNO\"],\"time\":{\"__ndarray__\":\"AACAYZEfc0IAAABOOSlzQgAAgDrhMnNCAAAAJ4k8c0IAAIATMUZzQgAAAADZT3NCAACA7IBZc0IAAADZKGNzQgAAgMXQbHNCAAAAsnh2c0IAAICeIIBzQgAAAIvIiXNCAACAd3CTc0IAAABkGJ1zQgAAgFDApnNCAAAAPWiwc0IAAIApELpzQgAAABa4w3NCAACAAmDNc0IAAADvB9dzQgAAgNuv4HNCAAAAyFfqc0IAAIC0//NzQgAAAKGn/XNCAACAjU8HdEIAAAB69xB0QgAAgGafGnRCAAAAU0ckdEIAAIA/7y10QgAAACyXN3RCAACAGD9BdEIAAAAF50p0QgAAgPGOVHRCAAAA3jZedEIAAIDK3md0QgAAALeGcXRCAACAoy57dEIAAACQ1oR0QgAAgHx+jnRCAAAAaSaYdEIAAIBVzqF0QgAAAEJ2q3RCAACALh61dEIAAAAbxr50QgAAgAduyHRCAAAA9BXSdEIAAIDgvdt0QgAAAM1l5XRCAACAuQ3vdEIAAACmtfh0QgAAgJJdAnVCAAAAfwUMdUIAAIBrrRV1QgAAAFhVH3VCAACARP0odUIAAAAxpTJ1QgAAgB1NPHVC\",\"dtype\":\"float64\",\"order\":\"little\",\"shape\":[57]}},\"selected\":{\"id\":\"5681\"},\"selection_policy\":{\"id\":\"5984\"}},\"id\":\"5680\",\"type\":\"ColumnDataSource\"},{\"attributes\":{\"callback\":null,\"formatters\":{\"@{time}\":\"datetime\"},\"renderers\":[{\"id\":\"5686\"},{\"id\":\"5695\"},{\"id\":\"5704\"},{\"id\":\"5713\"}],\"tags\":[\"hv_created\"],\"tooltips\":[[\"sat\",\"@{sat}\"],[\"time\",\"@{time}{%F %T}\"],[\"L_mn_norm\",\"@{L_mn_norm}\"],[\"id_count\",\"@{id_count}\"]]},\"id\":\"5640\",\"type\":\"HoverTool\"},{\"attributes\":{\"line_color\":\"#6d904f\",\"line_width\":2,\"tags\":[\"apply_ranges\"],\"x\":{\"field\":\"time\"},\"y\":{\"field\":\"L_mn_norm\"}},\"id\":\"5879\",\"type\":\"Line\"},{\"attributes\":{\"days\":[1,15]},\"id\":\"6057\",\"type\":\"DaysTicker\"},{\"attributes\":{},\"id\":\"5827\",\"type\":\"WheelZoomTool\"},{\"attributes\":{\"callback\":null,\"formatters\":{\"@{time}\":\"datetime\"},\"renderers\":[{\"id\":\"5521\"},{\"id\":\"5530\"},{\"id\":\"5539\"},{\"id\":\"5548\"}],\"tags\":[\"hv_created\"],\"tooltips\":[[\"sat\",\"@{sat}\"],[\"time\",\"@{time}{%F %T}\"],[\"j0_norm\",\"@{j0_norm}\"],[\"id_count\",\"@{id_count}\"]]},\"id\":\"5475\",\"type\":\"HoverTool\"},{\"attributes\":{},\"id\":\"5625\",\"type\":\"Selection\"},{\"attributes\":{\"days\":[1,4,7,10,13,16,19,22,25,28]},\"id\":\"6055\",\"type\":\"DaysTicker\"},{\"attributes\":{},\"id\":\"5829\",\"type\":\"ResetTool\"},{\"attributes\":{\"months\":[0,2,4,6,8,10]},\"id\":\"5914\",\"type\":\"MonthsTicker\"},{\"attributes\":{},\"id\":\"5899\",\"type\":\"UnionRenderers\"},{\"attributes\":{\"coordinates\":null,\"group\":null,\"text_color\":\"black\",\"text_font_size\":\"12pt\"},\"id\":\"5562\",\"type\":\"Title\"},{\"attributes\":{\"base\":60,\"mantissas\":[1,2,5,10,15,20,30],\"max_interval\":1800000.0,\"min_interval\":1000.0,\"num_minor_ticks\":0},\"id\":\"5994\",\"type\":\"AdaptiveTicker\"},{\"attributes\":{},\"id\":\"5825\",\"type\":\"SaveTool\"},{\"attributes\":{\"line_alpha\":0.2,\"line_color\":\"#fc4f30\",\"line_width\":2,\"tags\":[\"apply_ranges\"],\"x\":{\"field\":\"time\"},\"y\":{\"field\":\"j0_norm\"}},\"id\":\"5611\",\"type\":\"Line\"},{\"attributes\":{\"coordinates\":null,\"group\":null,\"text_color\":\"black\",\"text_font_size\":\"12pt\"},\"id\":\"5480\",\"type\":\"Title\"},{\"attributes\":{},\"id\":\"5679\",\"type\":\"AllLabels\"},{\"attributes\":{},\"id\":\"5405\",\"type\":\"LinearScale\"},{\"attributes\":{\"line_alpha\":0.1,\"line_color\":\"#e5ae38\",\"line_width\":2,\"tags\":[\"apply_ranges\"],\"x\":{\"field\":\"time\"},\"y\":{\"field\":\"j0_norm\"}},\"id\":\"5537\",\"type\":\"Line\"},{\"attributes\":{},\"id\":\"5569\",\"type\":\"LinearScale\"},{\"attributes\":{\"axis_label\":\"L_mn_norm\",\"coordinates\":null,\"formatter\":{\"id\":\"5678\"},\"group\":null,\"major_label_policy\":{\"id\":\"5679\"},\"ticker\":{\"id\":\"5658\"}},\"id\":\"5657\",\"type\":\"LinearAxis\"},{\"attributes\":{\"line_alpha\":0.1,\"line_color\":\"#30a2da\",\"line_width\":2,\"tags\":[\"apply_ranges\"],\"x\":{\"field\":\"time\"},\"y\":{\"field\":\"L_mn_norm\"}},\"id\":\"5766\",\"type\":\"Line\"},{\"attributes\":{},\"id\":\"5822\",\"type\":\"BasicTicker\"},{\"attributes\":{\"days\":[1,15]},\"id\":\"5912\",\"type\":\"DaysTicker\"},{\"attributes\":{\"bottom_units\":\"screen\",\"coordinates\":null,\"fill_alpha\":0.5,\"fill_color\":\"lightgrey\",\"group\":null,\"left_units\":\"screen\",\"level\":\"overlay\",\"line_alpha\":1.0,\"line_color\":\"black\",\"line_dash\":[4,4],\"line_width\":2,\"right_units\":\"screen\",\"syncable\":false,\"top_units\":\"screen\"},\"id\":\"5748\",\"type\":\"BoxAnnotation\"},{\"attributes\":{},\"id\":\"5826\",\"type\":\"PanTool\"},{\"attributes\":{\"coordinates\":null,\"data_source\":{\"id\":\"5433\"},\"glyph\":{\"id\":\"5436\"},\"group\":null,\"hover_glyph\":null,\"muted_glyph\":{\"id\":\"5438\"},\"nonselection_glyph\":{\"id\":\"5437\"},\"selection_glyph\":{\"id\":\"5441\"},\"view\":{\"id\":\"5440\"}},\"id\":\"5439\",\"type\":\"GlyphRenderer\"},{\"attributes\":{\"months\":[0,6]},\"id\":\"5916\",\"type\":\"MonthsTicker\"},{\"attributes\":{\"months\":[0,6]},\"id\":\"5945\",\"type\":\"MonthsTicker\"},{\"attributes\":{\"num_minor_ticks\":5,\"tickers\":[{\"id\":\"5935\"},{\"id\":\"5936\"},{\"id\":\"5937\"},{\"id\":\"5938\"},{\"id\":\"5939\"},{\"id\":\"5940\"},{\"id\":\"5941\"},{\"id\":\"5942\"},{\"id\":\"5943\"},{\"id\":\"5944\"},{\"id\":\"5945\"},{\"id\":\"5946\"}]},\"id\":\"5489\",\"type\":\"DatetimeTicker\"},{\"attributes\":{\"line_color\":\"#fc4f30\",\"line_width\":2,\"tags\":[\"apply_ranges\"],\"x\":{\"field\":\"time\"},\"y\":{\"field\":\"L_mn_norm\"}},\"id\":\"5779\",\"type\":\"Line\"},{\"attributes\":{\"line_color\":\"#e5ae38\",\"line_width\":2,\"tags\":[\"apply_ranges\"],\"x\":{\"field\":\"time\"},\"y\":{\"field\":\"L_mn_norm\"}},\"id\":\"5706\",\"type\":\"Line\"},{\"attributes\":{\"line_color\":\"#e5ae38\",\"line_width\":2,\"tags\":[\"apply_ranges\"],\"x\":{\"field\":\"time\"},\"y\":{\"field\":\"L_mn_norm\"}},\"id\":\"5701\",\"type\":\"Line\"},{\"attributes\":{\"axis\":{\"id\":\"5821\"},\"coordinates\":null,\"dimension\":1,\"grid_line_color\":null,\"group\":null,\"ticker\":null},\"id\":\"5824\",\"type\":\"Grid\"},{\"attributes\":{\"line_color\":\"#fc4f30\",\"line_width\":2,\"tags\":[\"apply_ranges\"],\"x\":{\"field\":\"time\"},\"y\":{\"field\":\"L_mn_norm\"}},\"id\":\"5692\",\"type\":\"Line\"}],\"root_ids\":[\"5388\"]},\"title\":\"Bokeh Application\",\"version\":\"2.4.3\"}};\n",
       "    var render_items = [{\"docid\":\"25c2645b-bae4-4fc7-b6c3-8588819fa82e\",\"root_ids\":[\"5388\"],\"roots\":{\"5388\":\"f33298c7-a37b-4aaa-b50b-ce937fd62eb9\"}}];\n",
       "    root.Bokeh.embed.embed_items_notebook(docs_json, render_items);\n",
       "    for (const render_item of render_items) {\n",
       "      for (const root_id of render_item.root_ids) {\n",
       "\tconst id_el = document.getElementById(root_id)\n",
       "\tif (id_el.children.length && (id_el.children[0].className === 'bk-root')) {\n",
       "\t  const root_el = id_el.children[0]\n",
       "\t  root_el.id = root_el.id + '-rendered'\n",
       "\t}\n",
       "      }\n",
       "    }\n",
       "  }\n",
       "  if (root.Bokeh !== undefined && root.Bokeh.Panel !== undefined) {\n",
       "    embed_document(root);\n",
       "  } else {\n",
       "    var attempts = 0;\n",
       "    var timer = setInterval(function(root) {\n",
       "      if (root.Bokeh !== undefined && root.Bokeh.Panel !== undefined) {\n",
       "        clearInterval(timer);\n",
       "        embed_document(root);\n",
       "      } else if (document.readyState == \"complete\") {\n",
       "        attempts++;\n",
       "        if (attempts > 200) {\n",
       "          clearInterval(timer);\n",
       "          console.log(\"Bokeh: ERROR: Unable to run BokehJS code because BokehJS library is missing\");\n",
       "        }\n",
       "      }\n",
       "    }, 25, root)\n",
       "  }\n",
       "})(window);</script>"
      ],
      "text/plain": [
       "\n",
       ":Layout\n",
       "   .NdOverlay.I   :NdOverlay   \u001b[1m[\u001b[0msat\u001b[1m]\u001b[0m\n",
       "      :Curve   \u001b[1m[\u001b[0mtime\u001b[1m]\u001b[0m   \u001b[1m(\u001b[0mj0_norm,id_count\u001b[1m)\u001b[0m\n",
       "   .NdOverlay.II  :NdOverlay   \u001b[1m[\u001b[0msat\u001b[1m]\u001b[0m\n",
       "      :Curve   \u001b[1m[\u001b[0mtime\u001b[1m]\u001b[0m   \u001b[1m(\u001b[0mj0_norm,id_count\u001b[1m)\u001b[0m\n",
       "   .NdOverlay.III :NdOverlay   \u001b[1m[\u001b[0msat\u001b[1m]\u001b[0m\n",
       "      :Curve   \u001b[1m[\u001b[0mtime\u001b[1m]\u001b[0m   \u001b[1m(\u001b[0mj0_norm,id_count\u001b[1m)\u001b[0m\n",
       "   .NdOverlay.IV  :NdOverlay   \u001b[1m[\u001b[0msat\u001b[1m]\u001b[0m\n",
       "      :Curve   \u001b[1m[\u001b[0mtime\u001b[1m]\u001b[0m   \u001b[1m(\u001b[0mL_mn_norm,id_count\u001b[1m)\u001b[0m\n",
       "   .NdOverlay.V   :NdOverlay   \u001b[1m[\u001b[0msat\u001b[1m]\u001b[0m\n",
       "      :Curve   \u001b[1m[\u001b[0mtime\u001b[1m]\u001b[0m   \u001b[1m(\u001b[0mL_mn_norm,id_count\u001b[1m)\u001b[0m\n",
       "   .NdOverlay.VI  :NdOverlay   \u001b[1m[\u001b[0msat\u001b[1m]\u001b[0m\n",
       "      :Curve   \u001b[1m[\u001b[0mtime\u001b[1m]\u001b[0m   \u001b[1m(\u001b[0mL_mn_norm,id_count\u001b[1m)\u001b[0m"
      ]
     },
     "execution_count": 67,
     "metadata": {
      "application/vnd.holoviews_exec.v0+json": {
       "id": "5388"
      }
     },
     "output_type": "execute_result"
    }
   ],
   "source": [
    "thresold = 0.2\n",
    "\n",
    "def temp_plot(l1_df, y=\"j0_norm\"):\n",
    "    return l1_df.pipe(process_events_l2).hvplot(\n",
    "        x=\"time\", y=y, by=\"sat\", hover_cols=[\"id_count\"], width=300, height=300, legend=False\n",
    "    )\n",
    "\n",
    "direction_col = pl.col('k_x').abs()\n",
    "\n",
    "((\n",
    "    all_events_l1.pipe(temp_plot, y=\"j0_norm\")\n",
    "    + all_events_l1.filter(direction_col > thresold).pipe(temp_plot, y=\"j0_norm\")\n",
    "    + all_events_l1.filter(direction_col < thresold).pipe(temp_plot, y=\"j0_norm\")\n",
    ") + (\n",
    "    all_events_l1.pipe(temp_plot, y=\"L_mn_norm\")\n",
    "    + all_events_l1.filter(direction_col > thresold).pipe(temp_plot, y=\"L_mn_norm\")\n",
    "    + all_events_l1.filter(direction_col < thresold).pipe(temp_plot, y=\"L_mn_norm\")\n",
    ")).cols(3)"
   ]
  },
  {
   "cell_type": "markdown",
   "metadata": {},
   "source": [
    "## Thickness"
   ]
  },
  {
   "cell_type": "markdown",
   "metadata": {},
   "source": [
    "Note since want different y-axis titles (labels) for each facet, not different facet titles, it is not clear how to do this with `facet_wrap` after `pivot_longer`. Also these are different units, so it is better to plot them separately and combine them together."
   ]
  },
  {
   "cell_type": "markdown",
   "metadata": {},
   "source": [
    "### Evolution"
   ]
  },
  {
   "cell_type": "code",
   "execution_count": 20,
   "metadata": {},
   "outputs": [
    {
     "name": "stdout",
     "output_type": "stream",
     "text": [
      "Saving 6.67 x 6.67 in image\n",
      "Saving 6.67 x 6.67 in image\n",
      "Saving 6.67 x 6.67 in image\n",
      "Saving 6.67 x 6.67 in image\n",
      "Saving 6.67 x 6.67 in image\n",
      "Saving 6.67 x 6.67 in image\n"
     ]
    },
    {
     "data": {
      "text/plain": [
       "In addition: There were 20 warnings (use warnings() to see them)\n"
      ]
     },
     "metadata": {},
     "output_type": "display_data"
    }
   ],
   "source": [
    "%%R\n",
    "\n",
    "x_var <- \"time\"\n",
    "y_vars <- c(\"L_mn\", \"L_mn_norm\")\n",
    "xlab <- \"Time\"\n",
    "ylabs <- c(\"Thickness (km)\", \"Normalized thickness (d_i)\")\n",
    "p <- plot_util(all_events_l2, x_var = x_var, y_vars = y_vars, xlab=xlab, ylabs=ylabs)\n",
    "save_plot(\"thickness_time\")\n",
    "\n",
    "x_var <- \"ref_radial_distance\"\n",
    "xlab <- \"Referred Radial Distance (AU)\"\n",
    "p <- plot_util(all_events_l2, x_var=x_var, y_vars = y_vars, xlab=xlab, ylabs=ylabs)\n",
    "save_plot(\"thickness_r\")\n",
    "\n",
    "y_vars <- c(\"L_mn_n2\", \"L_mn_norm_n2\")\n",
    "ylabs <- c(\"Relative thickness\", \"Normalized relative thickness\")\n",
    "p <- plot_util(all_events_l2, x_var=x_var, y_vars = y_vars, xlab=xlab, ylabs=ylabs)\n",
    "save_plot(\"thickness_r_N2\")"
   ]
  },
  {
   "cell_type": "markdown",
   "metadata": {},
   "source": [
    "Results\n",
    "\n",
    "![](../figures/thickness_time.png){width=30%}\n",
    "![](../figures/thickness_r.png){width=30%}\n",
    "![](../figures/thickness_r_N2.png){width=30%}"
   ]
  },
  {
   "cell_type": "markdown",
   "metadata": {},
   "source": [
    "### Different thickness standard"
   ]
  },
  {
   "cell_type": "code",
   "execution_count": 83,
   "metadata": {},
   "outputs": [
    {
     "name": "stdout",
     "output_type": "stream",
     "text": [
      "Saving 6.67 x 6.67 in image\n",
      "Saving 6.67 x 6.67 in image\n",
      "Saving 6.67 x 6.67 in image\n",
      "Saving 6.67 x 6.67 in image\n"
     ]
    },
    {
     "data": {
      "text/plain": [
       "In addition: There were 32 warnings (use warnings() to see them)\n"
      ]
     },
     "metadata": {},
     "output_type": "display_data"
    }
   ],
   "source": [
    "%%R\n",
    "x_var <- \"ref_radial_distance\"\n",
    "y_vars <- c(\"L_mn\", \"L_n\", \"L_k\", \"L_R\")\n",
    "ylabs <- c(\"MN thickness\", \"N thickness\", \"k thickness\", \"R thickness\")\n",
    "p <- plot_util(all_events_l2, x_var=x_var, y_vars = y_vars, xlab=xlab, ylabs=ylabs)\n",
    "save_plot(\"thickness/thickness_r_diff\")\n",
    "\n",
    "y_vars <- c(\"L_mn_norm\", \"L_n_norm\", \"L_k_norm\", \"L_R_norm\")\n",
    "ylabs <- c(\"MN thickness\", \"N thickness\", \"k thickness\", \"R thickness\")\n",
    "p <- plot_util(all_events_l2, x_var=x_var, y_vars = y_vars, xlab=xlab, ylabs=ylabs)\n",
    "save_plot(\"thickness/thickness_norm_r_diff\")"
   ]
  },
  {
   "cell_type": "markdown",
   "metadata": {},
   "source": [
    "Results\n",
    "\n",
    "![](../figures/thickness/thickness_r_diff.png){width=30%}\n",
    "![](../figures/thickness/thickness_norm_r_diff.png){width=30%}\n"
   ]
  },
  {
   "cell_type": "markdown",
   "metadata": {},
   "source": [
    "### Map"
   ]
  },
  {
   "cell_type": "code",
   "execution_count": 80,
   "metadata": {},
   "outputs": [
    {
     "name": "stdout",
     "output_type": "stream",
     "text": [
      "Saving 6.67 x 6.67 in image\n",
      "Saving 6.67 x 6.67 in image\n",
      "Saving 6.67 x 6.67 in image\n",
      "Saving 6.67 x 6.67 in image\n",
      "Saving 6.67 x 6.67 in image\n",
      "Saving 6.67 x 6.67 in image\n",
      "Saving 6.67 x 6.67 in image\n",
      "Saving 6.67 x 6.67 in image\n",
      "Saving 6.67 x 6.67 in image\n",
      "Saving 6.67 x 6.67 in image\n",
      "Saving 6.67 x 6.67 in image\n",
      "Saving 6.67 x 6.67 in image\n"
     ]
    }
   ],
   "source": [
    "%%R\n",
    "x_col <- \"radial_distance\"\n",
    "y_col <- \"L_mn\"\n",
    "y_lim <- NULL\n",
    "xlab <- \"Radial Distance (AU)\"\n",
    "ylab <- \"Log Thickness (km)\"\n",
    "p <- plot_binned_data(jno_candidates_l1, x_col = x_col, y_col = y_col, x_bins = 8, y_bins = 32, y_lim = y_lim, log_y = TRUE)\n",
    "p <- p + labs(x = xlab, y= ylab)\n",
    "save_plot(\"thickness_r_dist\")\n",
    "\n",
    "y_col <- \"L_k\"\n",
    "y_lim <- c(100, 10000)\n",
    "ylab <- \"Log k Thickness (km)\"\n",
    "p <- plot_binned_data(jno_candidates_l1, x_col = x_col, y_col = y_col, x_bins = 8, y_bins = 32, y_lim = y_lim, log_y = TRUE)\n",
    "p <- p + labs(x = xlab, y= ylab)\n",
    "save_plot(\"thickness/thickness_k_r_dist\")\n",
    "\n",
    "y_col <- \"L_R\"\n",
    "ylab <- \"Log R Thickness (km)\"\n",
    "p <- plot_binned_data(jno_candidates_l1, x_col = x_col, y_col = y_col, x_bins = 8, y_bins = 32, y_lim = y_lim, log_y = TRUE)\n",
    "p <- p + labs(x = xlab, y= ylab)\n",
    "save_plot(\"thickness/thickness_R_r_dist\")\n",
    "\n",
    "\n",
    "y_col <- \"L_mn_norm\"\n",
    "y_lim <- c(1,100)\n",
    "ylab <- expression(Log~Normalized~Thickness~(d[i]))\n",
    "p <- plot_binned_data(jno_candidates_l1, x_col = x_col, y_col = y_col, x_bins = 8, y_bins = 32, y_lim = y_lim, log_y = TRUE)\n",
    "p <- p + labs(x = xlab, y= ylab)\n",
    "save_plot(\"thickness/thickness_N1_r_dist\")\n",
    "\n",
    "y_col <- \"L_k_norm\"\n",
    "ylab <- expression(Log~Normalized~k~Thickness~(d[i]))\n",
    "p <- plot_binned_data(jno_candidates_l1, x_col = x_col, y_col = y_col, x_bins = 8, y_bins = 32, y_lim = y_lim, log_y = TRUE)\n",
    "p <- p + labs(x = xlab, y= ylab)\n",
    "save_plot(\"thickness/thickness_k_N1_r_dist\")\n",
    "\n",
    "y_col <- \"L_R_norm\"\n",
    "ylab <- expression(Log~Normalized~R~Thickness~(d[i]))\n",
    "p <- plot_binned_data(jno_candidates_l1, x_col = x_col, y_col = y_col, x_bins = 8, y_bins = 32, y_lim = y_lim, log_y = TRUE)\n",
    "p <- p + labs(x = xlab, y= ylab)\n",
    "save_plot(\"thickness/thickness_R_N1_r_dist\")"
   ]
  },
  {
   "cell_type": "markdown",
   "metadata": {},
   "source": [
    "Results\n",
    "\n",
    "![](../figures/thickness_r_dist.png){width=\"25%\"} ![](../figures/thickness/thickness_k_r_dist.png){width=\"25%\"} ![](../figures/thickness/thickness_R_r_dist.png){width=\"25%\"}\n",
    "\n",
    "![](../figures/thickness/thickness_N1_r_dist.png){width=\"25%\"} ![](../figures/thickness/thickness_k_N1_r_dist.png){width=\"25%\"} ![](../figures/thickness/thickness_R_N1_r_dist.png){width=\"25%\"}\n",
    "\n"
   ]
  },
  {
   "cell_type": "markdown",
   "metadata": {},
   "source": [
    "### Histogram"
   ]
  },
  {
   "cell_type": "code",
   "execution_count": 22,
   "metadata": {},
   "outputs": [
    {
     "name": "stdout",
     "output_type": "stream",
     "text": [
      "Saving 6.67 x 6.67 in image\n",
      "Saving 6.67 x 6.67 in image\n",
      "Saving 6.67 x 6.67 in image\n",
      "Saving 6.67 x 6.67 in image\n"
     ]
    }
   ],
   "source": [
    "%%R\n",
    "x <- \"L_mn_norm\"\n",
    "x_lim <- c(0,60)\n",
    "bins <- 16\n",
    "facet_var <- \"r_bin\"\n",
    "p <- plot_limited_histogram(all_events_l1, x = x, x_lim = x_lim , bins = bins, facet_var=facet_var)\n",
    "save_plot(\"thickness_N1_r_hist\")\n",
    "\n",
    "x <- \"L_mn_norm_log\"\n",
    "x_lim <- c(0, 2)\n",
    "facet_var <- \"r_bin\"\n",
    "p <- plot_limited_histogram(all_events_l1, x = x, x_lim = x_lim , bins = bins, facet_var=facet_var)\n",
    "save_plot(\"thickness_N1_log_r_hist\")"
   ]
  },
  {
   "cell_type": "markdown",
   "metadata": {},
   "source": [
    "Results\n",
    "\n",
    "![](../figures/thickness_N1_r_hist.png){width=500}\n",
    "![](../figures/thickness_N1_log_r_hist.png){width=500}\n"
   ]
  },
  {
   "cell_type": "markdown",
   "metadata": {},
   "source": [
    "## Current intensity"
   ]
  },
  {
   "cell_type": "markdown",
   "metadata": {},
   "source": [
    "### Mean value"
   ]
  },
  {
   "cell_type": "code",
   "execution_count": 23,
   "metadata": {},
   "outputs": [
    {
     "name": "stdout",
     "output_type": "stream",
     "text": [
      "Saving 6.67 x 6.67 in image\n",
      "Saving 6.67 x 6.67 in image\n",
      "Saving 6.67 x 6.67 in image\n",
      "Saving 6.67 x 6.67 in image\n",
      "Saving 6.67 x 6.67 in image\n",
      "Saving 6.67 x 6.67 in image\n"
     ]
    },
    {
     "data": {
      "text/plain": [
       "In addition: There were 20 warnings (use warnings() to see them)\n"
      ]
     },
     "metadata": {},
     "output_type": "display_data"
    }
   ],
   "source": [
    "%%R\n",
    "x_var <- \"time\"\n",
    "y_vars <- c(\"j0\", \"j0_norm\")\n",
    "xlab <- \"Time\"\n",
    "ylabs <- c(\"J (nA/m^2)\",  \"Normalized J (J_A)\")\n",
    "p <- plot_util(all_events_l2, x_var = x_var, y_vars = y_vars, xlab=xlab, ylabs=ylabs)\n",
    "save_plot(\"current_time\")\n",
    "\n",
    "x_var <- \"ref_radial_distance\"\n",
    "xlab <- \"Referred Radial Distance (AU)\"\n",
    "p <- plot_util(all_events_l2, x_var=x_var, y_vars = y_vars, xlab=xlab, ylabs=ylabs)\n",
    "save_plot(\"current_r\")\n",
    "\n",
    "y_vars <- c(\"j0_n2\", \"j0_norm_n2\")\n",
    "ylabs <- c(\"Relative J\", \"Relative normalized J\")\n",
    "p <- plot_util(all_events_l2, x_var=x_var, y_vars = y_vars, xlab=xlab, ylabs=ylabs)\n",
    "save_plot(\"current_r_N2\")"
   ]
  },
  {
   "cell_type": "markdown",
   "metadata": {},
   "source": [
    "Results\n",
    "\n",
    "![](../figures/current_time.png){width=500}\n",
    "![](../figures/current_r.png){width=500}\n",
    "![](../figures/current_r_N2.png){width=500}"
   ]
  },
  {
   "cell_type": "markdown",
   "metadata": {},
   "source": [
    "### Map"
   ]
  },
  {
   "cell_type": "code",
   "execution_count": 24,
   "metadata": {},
   "outputs": [
    {
     "name": "stdout",
     "output_type": "stream",
     "text": [
      "Saving 6.67 x 6.67 in image\n",
      "Saving 6.67 x 6.67 in image\n",
      "Saving 6.67 x 6.67 in image\n",
      "Saving 6.67 x 6.67 in image\n"
     ]
    }
   ],
   "source": [
    "%%R\n",
    "x_col <- \"radial_distance\"\n",
    "y_col <- \"j0\"\n",
    "y_lim <- c(0, 15)\n",
    "xlab <- \"Radial Distance (AU)\"\n",
    "ylab <- expression(Log~J~(nA~m^-2))\n",
    "p <- plot_binned_data(jno_candidates_l1, x_col = x_col, y_col = y_col, x_bins = 8, y_bins = 32, y_lim = y_lim, log_y = TRUE)\n",
    "p <- p + labs(x = xlab, y= ylab)\n",
    "save_plot(\"current_r_dist\")\n",
    "\n",
    "y_col <- \"j0_norm\"\n",
    "y_lim <- c(0, 1)\n",
    "ylab <- expression(Log~Normalized~J~(J[A]))\n",
    "p <- plot_binned_data(jno_candidates_l1, x_col = x_col, y_col = y_col, x_bins = 8, y_bins = 32, y_lim = y_lim, log_y = TRUE)\n",
    "p <- p + labs(x = xlab, y= ylab)\n",
    "save_plot(\"current_N1_r_dist\")"
   ]
  },
  {
   "cell_type": "markdown",
   "metadata": {},
   "source": [
    "Results\n",
    "\n",
    "![](../figures/current_r_dist.png){width=500}\n",
    "![](../figures/current_N1_r_dist.png){width=500}\n"
   ]
  },
  {
   "cell_type": "markdown",
   "metadata": {},
   "source": [
    "### Histogram"
   ]
  },
  {
   "cell_type": "code",
   "execution_count": 25,
   "metadata": {},
   "outputs": [
    {
     "name": "stdout",
     "output_type": "stream",
     "text": [
      "Saving 6.67 x 6.67 in image\n",
      "Saving 6.67 x 6.67 in image\n",
      "Saving 6.67 x 6.67 in image\n",
      "Saving 6.67 x 6.67 in image\n"
     ]
    }
   ],
   "source": [
    "%%R\n",
    "x <- \"j0_norm\"\n",
    "x_lim <- c(0, 1)\n",
    "facet_var <- \"r_bin\"\n",
    "p <- plot_limited_histogram(all_events_l1, x = x, x_lim = x_lim, bins = 8, facet_var=facet_var)\n",
    "save_plot(\"current_N1_r_hist\")\n",
    "\n",
    "x <- \"j0_norm_log\"\n",
    "x_lim <- c(-2, 0)\n",
    "p <- plot_limited_histogram(all_events_l1, x = x, x_lim = x_lim, bins = 8, facet_var=facet_var)\n",
    "save_plot(\"current_N1_log_r_hist\")"
   ]
  },
  {
   "cell_type": "markdown",
   "metadata": {},
   "source": [
    "Results\n",
    "\n",
    "![](../figures/current_N1_r_hist.png){width=500}\n",
    "![](../figures/current_N1_log_r_hist.png){width=500}\n"
   ]
  }
 ],
 "metadata": {
  "kernelspec": {
   "display_name": "python3",
   "language": "python",
   "name": "python3"
  },
  "language_info": {
   "codemirror_mode": {
    "name": "ipython",
    "version": 3
   },
   "file_extension": ".py",
   "mimetype": "text/x-python",
   "name": "python",
   "nbconvert_exporter": "python",
   "pygments_lexer": "ipython3",
   "version": "3.10.12"
  }
 },
 "nbformat": 4,
 "nbformat_minor": 2
}
