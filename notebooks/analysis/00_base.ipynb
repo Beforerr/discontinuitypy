{
 "cells": [
  {
   "cell_type": "code",
   "execution_count": 1,
   "metadata": {},
   "outputs": [],
   "source": [
    "import polars as pl\n",
    "import polars.selectors as cs\n",
    "import pandas as pd\n",
    "import numpy as np\n",
    "\n",
    "from loguru import logger"
   ]
  },
  {
   "cell_type": "code",
   "execution_count": 2,
   "metadata": {},
   "outputs": [],
   "source": [
    "#| hide\n",
    "%load_ext autoreload\n",
    "%autoreload 2"
   ]
  },
  {
   "cell_type": "markdown",
   "metadata": {},
   "source": [
    "### Loading all datasets from different sources"
   ]
  },
  {
   "cell_type": "code",
   "execution_count": 3,
   "metadata": {},
   "outputs": [
    {
     "data": {
      "text/html": [
       "<pre style=\"white-space:pre;overflow-x:auto;line-height:normal;font-family:Menlo,'DejaVu Sans Mono',consolas,'Courier New',monospace\"><span style=\"color: #7fbfbf; text-decoration-color: #7fbfbf\">[11/16/23 23:41:28] </span><span style=\"color: #800000; text-decoration-color: #800000\">WARNING </span> <span style=\"color: #800080; text-decoration-color: #800080\">/Users/zijin/miniforge3/envs/cool_planet/lib/python3.10/site-packages/</span> <a href=\"file:///Users/zijin/miniforge3/envs/cool_planet/lib/python3.10/warnings.py\" target=\"_blank\"><span style=\"color: #7f7f7f; text-decoration-color: #7f7f7f\">warnings.py</span></a><span style=\"color: #7f7f7f; text-decoration-color: #7f7f7f\">:</span><a href=\"file:///Users/zijin/miniforge3/envs/cool_planet/lib/python3.10/warnings.py#109\" target=\"_blank\"><span style=\"color: #7f7f7f; text-decoration-color: #7f7f7f\">109</span></a>\n",
       "<span style=\"color: #7fbfbf; text-decoration-color: #7fbfbf\">                    </span>         <span style=\"color: #800080; text-decoration-color: #800080\">kedro_datasets/polars/</span><span style=\"color: #ff00ff; text-decoration-color: #ff00ff\">lazy_polars_dataset.py</span>:<span style=\"color: #008080; text-decoration-color: #008080; font-weight: bold\">14</span>:                       <span style=\"color: #7f7f7f; text-decoration-color: #7f7f7f\">               </span>\n",
       "<span style=\"color: #7fbfbf; text-decoration-color: #7fbfbf\">                    </span>         KedroDeprecationWarning: <span style=\"color: #008000; text-decoration-color: #008000\">'AbstractVersionedDataSet'</span> has been renamed   <span style=\"color: #7f7f7f; text-decoration-color: #7f7f7f\">               </span>\n",
       "<span style=\"color: #7fbfbf; text-decoration-color: #7fbfbf\">                    </span>         to <span style=\"color: #008000; text-decoration-color: #008000\">'AbstractVersionedDataset'</span>, and the alias will be removed in Kedro  <span style=\"color: #7f7f7f; text-decoration-color: #7f7f7f\">               </span>\n",
       "<span style=\"color: #7fbfbf; text-decoration-color: #7fbfbf\">                    </span>         <span style=\"color: #008080; text-decoration-color: #008080; font-weight: bold\">0.19</span>.<span style=\"color: #008080; text-decoration-color: #008080; font-weight: bold\">0</span>                                                                 <span style=\"color: #7f7f7f; text-decoration-color: #7f7f7f\">               </span>\n",
       "<span style=\"color: #7fbfbf; text-decoration-color: #7fbfbf\">                    </span>           from kedro.io.core import <span style=\"font-weight: bold\">(</span>                                          <span style=\"color: #7f7f7f; text-decoration-color: #7f7f7f\">               </span>\n",
       "<span style=\"color: #7fbfbf; text-decoration-color: #7fbfbf\">                    </span>                                                                                <span style=\"color: #7f7f7f; text-decoration-color: #7f7f7f\">               </span>\n",
       "</pre>\n"
      ],
      "text/plain": [
       "\u001b[2;36m[11/16/23 23:41:28]\u001b[0m\u001b[2;36m \u001b[0m\u001b[31mWARNING \u001b[0m \u001b[35m/Users/zijin/miniforge3/envs/cool_planet/lib/python3.10/site-packages/\u001b[0m \u001b]8;id=79803;file:///Users/zijin/miniforge3/envs/cool_planet/lib/python3.10/warnings.py\u001b\\\u001b[2mwarnings.py\u001b[0m\u001b]8;;\u001b\\\u001b[2m:\u001b[0m\u001b]8;id=432797;file:///Users/zijin/miniforge3/envs/cool_planet/lib/python3.10/warnings.py#109\u001b\\\u001b[2m109\u001b[0m\u001b]8;;\u001b\\\n",
       "\u001b[2;36m                    \u001b[0m         \u001b[35mkedro_datasets/polars/\u001b[0m\u001b[95mlazy_polars_dataset.py\u001b[0m:\u001b[1;36m14\u001b[0m:                       \u001b[2m               \u001b[0m\n",
       "\u001b[2;36m                    \u001b[0m         KedroDeprecationWarning: \u001b[32m'AbstractVersionedDataSet'\u001b[0m has been renamed   \u001b[2m               \u001b[0m\n",
       "\u001b[2;36m                    \u001b[0m         to \u001b[32m'AbstractVersionedDataset'\u001b[0m, and the alias will be removed in Kedro  \u001b[2m               \u001b[0m\n",
       "\u001b[2;36m                    \u001b[0m         \u001b[1;36m0.19\u001b[0m.\u001b[1;36m0\u001b[0m                                                                 \u001b[2m               \u001b[0m\n",
       "\u001b[2;36m                    \u001b[0m           from kedro.io.core import \u001b[1m(\u001b[0m                                          \u001b[2m               \u001b[0m\n",
       "\u001b[2;36m                    \u001b[0m                                                                                \u001b[2m               \u001b[0m\n"
      ]
     },
     "metadata": {},
     "output_type": "display_data"
    }
   ],
   "source": [
    "#| output: False\n",
    "from ids_finder.utils.basic import load_catalog\n",
    "\n",
    "catalog = load_catalog('../../')"
   ]
  },
  {
   "cell_type": "code",
   "execution_count": 5,
   "metadata": {},
   "outputs": [
    {
     "data": {
      "text/html": [
       "<pre style=\"white-space:pre;overflow-x:auto;line-height:normal;font-family:Menlo,'DejaVu Sans Mono',consolas,'Courier New',monospace\"><span style=\"color: #7fbfbf; text-decoration-color: #7fbfbf\">16-Nov-23 23:42:22 </span><span style=\"color: #000080; text-decoration-color: #000080\">INFO    </span> <span style=\"color: #008080; text-decoration-color: #008080; font-weight: bold\">16</span>-Nov-<span style=\"color: #008080; text-decoration-color: #008080; font-weight: bold\">23</span> <span style=\"color: #00ff00; text-decoration-color: #00ff00; font-weight: bold\">23:42:22</span>: Loading data from <span style=\"color: #008000; text-decoration-color: #008000\">'events.STA_ts_1s_tau_60s'</span>    <a href=\"file:///Users/zijin/miniforge3/envs/cool_planet/lib/python3.10/site-packages/kedro/io/data_catalog.py\" target=\"_blank\"><span style=\"color: #7f7f7f; text-decoration-color: #7f7f7f\">data_catalog.py</span></a><span style=\"color: #7f7f7f; text-decoration-color: #7f7f7f\">:</span><a href=\"file:///Users/zijin/miniforge3/envs/cool_planet/lib/python3.10/site-packages/kedro/io/data_catalog.py#502\" target=\"_blank\"><span style=\"color: #7f7f7f; text-decoration-color: #7f7f7f\">502</span></a>\n",
       "<span style=\"color: #7fbfbf; text-decoration-color: #7fbfbf\">                   </span>         <span style=\"font-weight: bold\">(</span>LazyPolarsDataset<span style=\"font-weight: bold\">)</span><span style=\"color: #808000; text-decoration-color: #808000\">...</span>                                              <span style=\"color: #7f7f7f; text-decoration-color: #7f7f7f\">                   </span>\n",
       "</pre>\n"
      ],
      "text/plain": [
       "\u001b[2;36m16-Nov-23 23:42:22\u001b[0m\u001b[2;36m \u001b[0m\u001b[34mINFO    \u001b[0m \u001b[1;36m16\u001b[0m-Nov-\u001b[1;36m23\u001b[0m \u001b[1;92m23:42:22\u001b[0m: Loading data from \u001b[32m'events.STA_ts_1s_tau_60s'\u001b[0m    \u001b]8;id=191559;file:///Users/zijin/miniforge3/envs/cool_planet/lib/python3.10/site-packages/kedro/io/data_catalog.py\u001b\\\u001b[2mdata_catalog.py\u001b[0m\u001b]8;;\u001b\\\u001b[2m:\u001b[0m\u001b]8;id=354347;file:///Users/zijin/miniforge3/envs/cool_planet/lib/python3.10/site-packages/kedro/io/data_catalog.py#502\u001b\\\u001b[2m502\u001b[0m\u001b]8;;\u001b\\\n",
       "\u001b[2;36m                   \u001b[0m         \u001b[1m(\u001b[0mLazyPolarsDataset\u001b[1m)\u001b[0m\u001b[33m...\u001b[0m                                              \u001b[2m                   \u001b[0m\n"
      ]
     },
     "metadata": {},
     "output_type": "display_data"
    },
    {
     "data": {
      "text/html": [
       "<pre style=\"white-space:pre;overflow-x:auto;line-height:normal;font-family:Menlo,'DejaVu Sans Mono',consolas,'Courier New',monospace\"><span style=\"color: #7fbfbf; text-decoration-color: #7fbfbf\">                   </span><span style=\"color: #000080; text-decoration-color: #000080\">INFO    </span> <span style=\"color: #008080; text-decoration-color: #008080; font-weight: bold\">16</span>-Nov-<span style=\"color: #008080; text-decoration-color: #008080; font-weight: bold\">23</span> <span style=\"color: #00ff00; text-decoration-color: #00ff00; font-weight: bold\">23:42:22</span>: Loading data from <span style=\"color: #008000; text-decoration-color: #008000\">'STA.MAG.primary_data_ts_1s'</span>  <a href=\"file:///Users/zijin/miniforge3/envs/cool_planet/lib/python3.10/site-packages/kedro/io/data_catalog.py\" target=\"_blank\"><span style=\"color: #7f7f7f; text-decoration-color: #7f7f7f\">data_catalog.py</span></a><span style=\"color: #7f7f7f; text-decoration-color: #7f7f7f\">:</span><a href=\"file:///Users/zijin/miniforge3/envs/cool_planet/lib/python3.10/site-packages/kedro/io/data_catalog.py#502\" target=\"_blank\"><span style=\"color: #7f7f7f; text-decoration-color: #7f7f7f\">502</span></a>\n",
       "<span style=\"color: #7fbfbf; text-decoration-color: #7fbfbf\">                   </span>         <span style=\"font-weight: bold\">(</span>PartitionedDataset<span style=\"font-weight: bold\">)</span><span style=\"color: #808000; text-decoration-color: #808000\">...</span>                                             <span style=\"color: #7f7f7f; text-decoration-color: #7f7f7f\">                   </span>\n",
       "</pre>\n"
      ],
      "text/plain": [
       "\u001b[2;36m                  \u001b[0m\u001b[2;36m \u001b[0m\u001b[34mINFO    \u001b[0m \u001b[1;36m16\u001b[0m-Nov-\u001b[1;36m23\u001b[0m \u001b[1;92m23:42:22\u001b[0m: Loading data from \u001b[32m'STA.MAG.primary_data_ts_1s'\u001b[0m  \u001b]8;id=251141;file:///Users/zijin/miniforge3/envs/cool_planet/lib/python3.10/site-packages/kedro/io/data_catalog.py\u001b\\\u001b[2mdata_catalog.py\u001b[0m\u001b]8;;\u001b\\\u001b[2m:\u001b[0m\u001b]8;id=369098;file:///Users/zijin/miniforge3/envs/cool_planet/lib/python3.10/site-packages/kedro/io/data_catalog.py#502\u001b\\\u001b[2m502\u001b[0m\u001b]8;;\u001b\\\n",
       "\u001b[2;36m                   \u001b[0m         \u001b[1m(\u001b[0mPartitionedDataset\u001b[1m)\u001b[0m\u001b[33m...\u001b[0m                                             \u001b[2m                   \u001b[0m\n"
      ]
     },
     "metadata": {},
     "output_type": "display_data"
    },
    {
     "data": {
      "text/html": [
       "<pre style=\"white-space:pre;overflow-x:auto;line-height:normal;font-family:Menlo,'DejaVu Sans Mono',consolas,'Courier New',monospace\"><span style=\"color: #7fbfbf; text-decoration-color: #7fbfbf\">                   </span><span style=\"color: #000080; text-decoration-color: #000080\">INFO    </span> <span style=\"color: #008080; text-decoration-color: #008080; font-weight: bold\">16</span>-Nov-<span style=\"color: #008080; text-decoration-color: #008080; font-weight: bold\">23</span> <span style=\"color: #00ff00; text-decoration-color: #00ff00; font-weight: bold\">23:42:22</span>: Loading data from <span style=\"color: #008000; text-decoration-color: #008000\">'events.JNO_ts_1s_tau_60s'</span>    <a href=\"file:///Users/zijin/miniforge3/envs/cool_planet/lib/python3.10/site-packages/kedro/io/data_catalog.py\" target=\"_blank\"><span style=\"color: #7f7f7f; text-decoration-color: #7f7f7f\">data_catalog.py</span></a><span style=\"color: #7f7f7f; text-decoration-color: #7f7f7f\">:</span><a href=\"file:///Users/zijin/miniforge3/envs/cool_planet/lib/python3.10/site-packages/kedro/io/data_catalog.py#502\" target=\"_blank\"><span style=\"color: #7f7f7f; text-decoration-color: #7f7f7f\">502</span></a>\n",
       "<span style=\"color: #7fbfbf; text-decoration-color: #7fbfbf\">                   </span>         <span style=\"font-weight: bold\">(</span>LazyPolarsDataset<span style=\"font-weight: bold\">)</span><span style=\"color: #808000; text-decoration-color: #808000\">...</span>                                              <span style=\"color: #7f7f7f; text-decoration-color: #7f7f7f\">                   </span>\n",
       "</pre>\n"
      ],
      "text/plain": [
       "\u001b[2;36m                  \u001b[0m\u001b[2;36m \u001b[0m\u001b[34mINFO    \u001b[0m \u001b[1;36m16\u001b[0m-Nov-\u001b[1;36m23\u001b[0m \u001b[1;92m23:42:22\u001b[0m: Loading data from \u001b[32m'events.JNO_ts_1s_tau_60s'\u001b[0m    \u001b]8;id=618138;file:///Users/zijin/miniforge3/envs/cool_planet/lib/python3.10/site-packages/kedro/io/data_catalog.py\u001b\\\u001b[2mdata_catalog.py\u001b[0m\u001b]8;;\u001b\\\u001b[2m:\u001b[0m\u001b]8;id=454013;file:///Users/zijin/miniforge3/envs/cool_planet/lib/python3.10/site-packages/kedro/io/data_catalog.py#502\u001b\\\u001b[2m502\u001b[0m\u001b]8;;\u001b\\\n",
       "\u001b[2;36m                   \u001b[0m         \u001b[1m(\u001b[0mLazyPolarsDataset\u001b[1m)\u001b[0m\u001b[33m...\u001b[0m                                              \u001b[2m                   \u001b[0m\n"
      ]
     },
     "metadata": {},
     "output_type": "display_data"
    },
    {
     "data": {
      "text/html": [
       "<pre style=\"white-space:pre;overflow-x:auto;line-height:normal;font-family:Menlo,'DejaVu Sans Mono',consolas,'Courier New',monospace\"><span style=\"color: #7fbfbf; text-decoration-color: #7fbfbf\">                   </span><span style=\"color: #000080; text-decoration-color: #000080\">INFO    </span> <span style=\"color: #008080; text-decoration-color: #008080; font-weight: bold\">16</span>-Nov-<span style=\"color: #008080; text-decoration-color: #008080; font-weight: bold\">23</span> <span style=\"color: #00ff00; text-decoration-color: #00ff00; font-weight: bold\">23:42:22</span>: Loading data from <span style=\"color: #008000; text-decoration-color: #008000\">'JNO.MAG.primary_data_ts_1s'</span>  <a href=\"file:///Users/zijin/miniforge3/envs/cool_planet/lib/python3.10/site-packages/kedro/io/data_catalog.py\" target=\"_blank\"><span style=\"color: #7f7f7f; text-decoration-color: #7f7f7f\">data_catalog.py</span></a><span style=\"color: #7f7f7f; text-decoration-color: #7f7f7f\">:</span><a href=\"file:///Users/zijin/miniforge3/envs/cool_planet/lib/python3.10/site-packages/kedro/io/data_catalog.py#502\" target=\"_blank\"><span style=\"color: #7f7f7f; text-decoration-color: #7f7f7f\">502</span></a>\n",
       "<span style=\"color: #7fbfbf; text-decoration-color: #7fbfbf\">                   </span>         <span style=\"font-weight: bold\">(</span>PartitionedDataset<span style=\"font-weight: bold\">)</span><span style=\"color: #808000; text-decoration-color: #808000\">...</span>                                             <span style=\"color: #7f7f7f; text-decoration-color: #7f7f7f\">                   </span>\n",
       "</pre>\n"
      ],
      "text/plain": [
       "\u001b[2;36m                  \u001b[0m\u001b[2;36m \u001b[0m\u001b[34mINFO    \u001b[0m \u001b[1;36m16\u001b[0m-Nov-\u001b[1;36m23\u001b[0m \u001b[1;92m23:42:22\u001b[0m: Loading data from \u001b[32m'JNO.MAG.primary_data_ts_1s'\u001b[0m  \u001b]8;id=365597;file:///Users/zijin/miniforge3/envs/cool_planet/lib/python3.10/site-packages/kedro/io/data_catalog.py\u001b\\\u001b[2mdata_catalog.py\u001b[0m\u001b]8;;\u001b\\\u001b[2m:\u001b[0m\u001b]8;id=585996;file:///Users/zijin/miniforge3/envs/cool_planet/lib/python3.10/site-packages/kedro/io/data_catalog.py#502\u001b\\\u001b[2m502\u001b[0m\u001b]8;;\u001b\\\n",
       "\u001b[2;36m                   \u001b[0m         \u001b[1m(\u001b[0mPartitionedDataset\u001b[1m)\u001b[0m\u001b[33m...\u001b[0m                                             \u001b[2m                   \u001b[0m\n"
      ]
     },
     "metadata": {},
     "output_type": "display_data"
    },
    {
     "data": {
      "text/html": [
       "<pre style=\"white-space:pre;overflow-x:auto;line-height:normal;font-family:Menlo,'DejaVu Sans Mono',consolas,'Courier New',monospace\"><span style=\"color: #7fbfbf; text-decoration-color: #7fbfbf\">                   </span><span style=\"color: #000080; text-decoration-color: #000080\">INFO    </span> <span style=\"color: #008080; text-decoration-color: #008080; font-weight: bold\">16</span>-Nov-<span style=\"color: #008080; text-decoration-color: #008080; font-weight: bold\">23</span> <span style=\"color: #00ff00; text-decoration-color: #00ff00; font-weight: bold\">23:42:22</span>: Loading data from <span style=\"color: #008000; text-decoration-color: #008000\">'events.THB_ts_1s_tau_60s'</span>    <a href=\"file:///Users/zijin/miniforge3/envs/cool_planet/lib/python3.10/site-packages/kedro/io/data_catalog.py\" target=\"_blank\"><span style=\"color: #7f7f7f; text-decoration-color: #7f7f7f\">data_catalog.py</span></a><span style=\"color: #7f7f7f; text-decoration-color: #7f7f7f\">:</span><a href=\"file:///Users/zijin/miniforge3/envs/cool_planet/lib/python3.10/site-packages/kedro/io/data_catalog.py#502\" target=\"_blank\"><span style=\"color: #7f7f7f; text-decoration-color: #7f7f7f\">502</span></a>\n",
       "<span style=\"color: #7fbfbf; text-decoration-color: #7fbfbf\">                   </span>         <span style=\"font-weight: bold\">(</span>LazyPolarsDataset<span style=\"font-weight: bold\">)</span><span style=\"color: #808000; text-decoration-color: #808000\">...</span>                                              <span style=\"color: #7f7f7f; text-decoration-color: #7f7f7f\">                   </span>\n",
       "</pre>\n"
      ],
      "text/plain": [
       "\u001b[2;36m                  \u001b[0m\u001b[2;36m \u001b[0m\u001b[34mINFO    \u001b[0m \u001b[1;36m16\u001b[0m-Nov-\u001b[1;36m23\u001b[0m \u001b[1;92m23:42:22\u001b[0m: Loading data from \u001b[32m'events.THB_ts_1s_tau_60s'\u001b[0m    \u001b]8;id=204428;file:///Users/zijin/miniforge3/envs/cool_planet/lib/python3.10/site-packages/kedro/io/data_catalog.py\u001b\\\u001b[2mdata_catalog.py\u001b[0m\u001b]8;;\u001b\\\u001b[2m:\u001b[0m\u001b]8;id=453799;file:///Users/zijin/miniforge3/envs/cool_planet/lib/python3.10/site-packages/kedro/io/data_catalog.py#502\u001b\\\u001b[2m502\u001b[0m\u001b]8;;\u001b\\\n",
       "\u001b[2;36m                   \u001b[0m         \u001b[1m(\u001b[0mLazyPolarsDataset\u001b[1m)\u001b[0m\u001b[33m...\u001b[0m                                              \u001b[2m                   \u001b[0m\n"
      ]
     },
     "metadata": {},
     "output_type": "display_data"
    },
    {
     "data": {
      "text/html": [
       "<pre style=\"white-space:pre;overflow-x:auto;line-height:normal;font-family:Menlo,'DejaVu Sans Mono',consolas,'Courier New',monospace\"><span style=\"color: #7fbfbf; text-decoration-color: #7fbfbf\">                   </span><span style=\"color: #000080; text-decoration-color: #000080\">INFO    </span> <span style=\"color: #008080; text-decoration-color: #008080; font-weight: bold\">16</span>-Nov-<span style=\"color: #008080; text-decoration-color: #008080; font-weight: bold\">23</span> <span style=\"color: #00ff00; text-decoration-color: #00ff00; font-weight: bold\">23:42:22</span>: Loading data from <span style=\"color: #008000; text-decoration-color: #008000\">'THB.MAG.primary_data_ts_1s'</span>  <a href=\"file:///Users/zijin/miniforge3/envs/cool_planet/lib/python3.10/site-packages/kedro/io/data_catalog.py\" target=\"_blank\"><span style=\"color: #7f7f7f; text-decoration-color: #7f7f7f\">data_catalog.py</span></a><span style=\"color: #7f7f7f; text-decoration-color: #7f7f7f\">:</span><a href=\"file:///Users/zijin/miniforge3/envs/cool_planet/lib/python3.10/site-packages/kedro/io/data_catalog.py#502\" target=\"_blank\"><span style=\"color: #7f7f7f; text-decoration-color: #7f7f7f\">502</span></a>\n",
       "<span style=\"color: #7fbfbf; text-decoration-color: #7fbfbf\">                   </span>         <span style=\"font-weight: bold\">(</span>PartitionedDataset<span style=\"font-weight: bold\">)</span><span style=\"color: #808000; text-decoration-color: #808000\">...</span>                                             <span style=\"color: #7f7f7f; text-decoration-color: #7f7f7f\">                   </span>\n",
       "</pre>\n"
      ],
      "text/plain": [
       "\u001b[2;36m                  \u001b[0m\u001b[2;36m \u001b[0m\u001b[34mINFO    \u001b[0m \u001b[1;36m16\u001b[0m-Nov-\u001b[1;36m23\u001b[0m \u001b[1;92m23:42:22\u001b[0m: Loading data from \u001b[32m'THB.MAG.primary_data_ts_1s'\u001b[0m  \u001b]8;id=771602;file:///Users/zijin/miniforge3/envs/cool_planet/lib/python3.10/site-packages/kedro/io/data_catalog.py\u001b\\\u001b[2mdata_catalog.py\u001b[0m\u001b]8;;\u001b\\\u001b[2m:\u001b[0m\u001b]8;id=560515;file:///Users/zijin/miniforge3/envs/cool_planet/lib/python3.10/site-packages/kedro/io/data_catalog.py#502\u001b\\\u001b[2m502\u001b[0m\u001b]8;;\u001b\\\n",
       "\u001b[2;36m                   \u001b[0m         \u001b[1m(\u001b[0mPartitionedDataset\u001b[1m)\u001b[0m\u001b[33m...\u001b[0m                                             \u001b[2m                   \u001b[0m\n"
      ]
     },
     "metadata": {},
     "output_type": "display_data"
    }
   ],
   "source": [
    "from ids_finder.datasets import cIDsDataset\n",
    "\n",
    "sta_dataset = cIDsDataset(sat_id=\"STA\", tau=60, ts=1, catalog=catalog)\n",
    "jno_dataset = cIDsDataset(sat_id=\"JNO\", tau=60, ts=1, catalog=catalog)\n",
    "thb_dataset = cIDsDataset(sat_id=\"THB\", tau=60, ts=1, catalog=catalog)"
   ]
  },
  {
   "cell_type": "code",
   "execution_count": 6,
   "metadata": {},
   "outputs": [],
   "source": [
    "from beforerr.basics import pmap\n",
    "from ids_finder.utils.analysis import filter_tranges_ds\n"
   ]
  },
  {
   "cell_type": "code",
   "execution_count": 7,
   "metadata": {},
   "outputs": [
    {
     "data": {
      "text/html": [
       "<pre style=\"white-space:pre;overflow-x:auto;line-height:normal;font-family:Menlo,'DejaVu Sans Mono',consolas,'Courier New',monospace\"><span style=\"color: #7fbfbf; text-decoration-color: #7fbfbf\">[11/13/23 20:28:03] </span><span style=\"color: #000080; text-decoration-color: #000080\">INFO    </span> Loading data from <span style=\"color: #008000; text-decoration-color: #008000\">'thb.inter_state_sw'</span> <span style=\"font-weight: bold\">(</span>LazyPolarsDataset<span style=\"font-weight: bold\">)</span><span style=\"color: #808000; text-decoration-color: #808000\">...</span>      <a href=\"file:///Users/zijin/miniforge3/envs/cool_planet/lib/python3.10/site-packages/kedro/io/data_catalog.py\" target=\"_blank\"><span style=\"color: #7f7f7f; text-decoration-color: #7f7f7f\">data_catalog.py</span></a><span style=\"color: #7f7f7f; text-decoration-color: #7f7f7f\">:</span><a href=\"file:///Users/zijin/miniforge3/envs/cool_planet/lib/python3.10/site-packages/kedro/io/data_catalog.py#502\" target=\"_blank\"><span style=\"color: #7f7f7f; text-decoration-color: #7f7f7f\">502</span></a>\n",
       "</pre>\n"
      ],
      "text/plain": [
       "\u001b[2;36m[11/13/23 20:28:03]\u001b[0m\u001b[2;36m \u001b[0m\u001b[34mINFO    \u001b[0m Loading data from \u001b[32m'thb.inter_state_sw'\u001b[0m \u001b[1m(\u001b[0mLazyPolarsDataset\u001b[1m)\u001b[0m\u001b[33m...\u001b[0m      \u001b]8;id=515019;file:///Users/zijin/miniforge3/envs/cool_planet/lib/python3.10/site-packages/kedro/io/data_catalog.py\u001b\\\u001b[2mdata_catalog.py\u001b[0m\u001b]8;;\u001b\\\u001b[2m:\u001b[0m\u001b]8;id=159360;file:///Users/zijin/miniforge3/envs/cool_planet/lib/python3.10/site-packages/kedro/io/data_catalog.py#502\u001b\\\u001b[2m502\u001b[0m\u001b]8;;\u001b\\\n"
      ]
     },
     "metadata": {},
     "output_type": "display_data"
    }
   ],
   "source": [
    "thb_inter_state_sw: pl.LazyFrame = catalog.load('thb.inter_state_sw')\n",
    "start, end = thb_inter_state_sw.select(['start', 'end']).collect()\n",
    "\n",
    "thb_sw_dataset = filter_tranges_ds(thb_dataset, (start, end))"
   ]
  },
  {
   "cell_type": "code",
   "execution_count": 8,
   "metadata": {},
   "outputs": [],
   "source": [
    "all_datasets = [sta_dataset, jno_dataset, thb_sw_dataset]"
   ]
  },
  {
   "cell_type": "code",
   "execution_count": null,
   "metadata": {},
   "outputs": [],
   "source": [
    "all_candidates_l0 : pl.DataFrame = pl.concat(\n",
    "    all_datasets | pmap(lambda x: x.candidates),\n",
    "    how=\"diagonal\",\n",
    ")"
   ]
  },
  {
   "cell_type": "code",
   "execution_count": null,
   "metadata": {},
   "outputs": [],
   "source": [
    "def combine_candidates(datasets):\n",
    "    return pl.concat(\n",
    "        datasets | pmap(lambda x: x.candidates),\n",
    "        how=\"diagonal\",\n",
    "    )\n"
   ]
  },
  {
   "cell_type": "markdown",
   "metadata": {},
   "source": [
    "## Processing datasets"
   ]
  },
  {
   "cell_type": "markdown",
   "metadata": {},
   "source": [
    "Some extreme values are present in the data. We will remove them."
   ]
  },
  {
   "cell_type": "code",
   "execution_count": null,
   "metadata": {},
   "outputs": [
    {
     "data": {
      "text/html": [
       "<pre style=\"white-space:pre;overflow-x:auto;line-height:normal;font-family:Menlo,'DejaVu Sans Mono',consolas,'Courier New',monospace\"></pre>\n"
      ],
      "text/plain": []
     },
     "metadata": {},
     "output_type": "display_data"
    },
    {
     "data": {
      "text/html": [
       "<div><style>\n",
       ".dataframe > thead > tr > th,\n",
       ".dataframe > tbody > tr > td {\n",
       "  text-align: right;\n",
       "  white-space: pre-wrap;\n",
       "}\n",
       "</style>\n",
       "<small>shape: (9, 8)</small><table border=\"1\" class=\"dataframe\"><thead><tr><th>describe</th><th>d_star</th><th>L_mn</th><th>L_mn_norm</th><th>j0</th><th>j0_norm</th><th>duration</th><th>v_mn</th></tr><tr><td>str</td><td>f64</td><td>f64</td><td>f64</td><td>f64</td><td>f64</td><td>str</td><td>f64</td></tr></thead><tbody><tr><td>&quot;count&quot;</td><td>185066.0</td><td>185066.0</td><td>185066.0</td><td>185066.0</td><td>185066.0</td><td>&quot;185066&quot;</td><td>185066.0</td></tr><tr><td>&quot;null_count&quot;</td><td>0.0</td><td>4120.0</td><td>4389.0</td><td>4120.0</td><td>4389.0</td><td>&quot;0&quot;</td><td>4120.0</td></tr><tr><td>&quot;mean&quot;</td><td>2.611712</td><td>2798.843381</td><td>22.307474</td><td>11.654787</td><td>4.713652</td><td>&quot;0:00:08.198437…</td><td>343.811034</td></tr><tr><td>&quot;std&quot;</td><td>491.756741</td><td>2179.474212</td><td>20.649185</td><td>2894.040891</td><td>1473.838227</td><td>null</td><td>99.930132</td></tr><tr><td>&quot;min&quot;</td><td>0.019601</td><td>3.381065</td><td>0.014144</td><td>0.0561</td><td>0.00082</td><td>&quot;0:00:01.999999…</td><td>0.41411</td></tr><tr><td>&quot;25%&quot;</td><td>0.247087</td><td>1582.102536</td><td>11.284664</td><td>0.601477</td><td>0.028203</td><td>&quot;0:00:05&quot;</td><td>286.126017</td></tr><tr><td>&quot;50%&quot;</td><td>0.510951</td><td>2240.279834</td><td>17.513617</td><td>1.239019</td><td>0.051221</td><td>&quot;0:00:07&quot;</td><td>343.325961</td></tr><tr><td>&quot;75%&quot;</td><td>0.983944</td><td>3346.020528</td><td>27.236719</td><td>2.34897</td><td>0.091488</td><td>&quot;0:00:10&quot;</td><td>402.282733</td></tr><tr><td>&quot;max&quot;</td><td>152023.367594</td><td>103745.212024</td><td>1614.132093</td><td>1.1500e6</td><td>583059.205803</td><td>&quot;0:03:16&quot;</td><td>864.604665</td></tr></tbody></table></div>"
      ],
      "text/plain": [
       "\n",
       "shape: \u001b[1m(\u001b[0m\u001b[1;36m9\u001b[0m, \u001b[1;36m8\u001b[0m\u001b[1m)\u001b[0m\n",
       "┌────────────┬────────────┬────────────┬───────────┬───────────┬───────────┬───────────┬───────────┐\n",
       "│ describe   ┆ d_star     ┆ L_mn       ┆ L_mn_norm ┆ j0        ┆ j0_norm   ┆ duration  ┆ v_mn      │\n",
       "│ ---        ┆ ---        ┆ ---        ┆ ---       ┆ ---       ┆ ---       ┆ ---       ┆ ---       │\n",
       "│ str        ┆ f64        ┆ f64        ┆ f64       ┆ f64       ┆ f64       ┆ str       ┆ f64       │\n",
       "╞════════════╪════════════╪════════════╪═══════════╪═══════════╪═══════════╪═══════════╪═══════════╡\n",
       "│ count      ┆ \u001b[1;36m185066.0\u001b[0m   ┆ \u001b[1;36m185066.0\u001b[0m   ┆ \u001b[1;36m185066.0\u001b[0m  ┆ \u001b[1;36m185066.0\u001b[0m  ┆ \u001b[1;36m185066.0\u001b[0m  ┆ \u001b[1;36m185066\u001b[0m    ┆ \u001b[1;36m185066.0\u001b[0m  │\n",
       "│ null_count ┆ \u001b[1;36m0.0\u001b[0m        ┆ \u001b[1;36m4120.0\u001b[0m     ┆ \u001b[1;36m4389.0\u001b[0m    ┆ \u001b[1;36m4120.0\u001b[0m    ┆ \u001b[1;36m4389.0\u001b[0m    ┆ \u001b[1;36m0\u001b[0m         ┆ \u001b[1;36m4120.0\u001b[0m    │\n",
       "│ mean       ┆ \u001b[1;36m2.611712\u001b[0m   ┆ \u001b[1;36m2798.84338\u001b[0m ┆ \u001b[1;36m22.307474\u001b[0m ┆ \u001b[1;36m11.654787\u001b[0m ┆ \u001b[1;36m4.713652\u001b[0m  ┆ \u001b[1;92m0:00:08\u001b[0m.\u001b[1;36m1\u001b[0m ┆ \u001b[1;36m343.81103\u001b[0m │\n",
       "│            ┆            ┆ \u001b[1;36m1\u001b[0m          ┆           ┆           ┆           ┆ \u001b[1;36m98437\u001b[0m     ┆ \u001b[1;36m4\u001b[0m         │\n",
       "│ std        ┆ \u001b[1;36m491.756741\u001b[0m ┆ \u001b[1;36m2179.47421\u001b[0m ┆ \u001b[1;36m20.649185\u001b[0m ┆ \u001b[1;36m2894.0408\u001b[0m ┆ \u001b[1;36m1473.8382\u001b[0m ┆ null      ┆ \u001b[1;36m99.930132\u001b[0m │\n",
       "│            ┆            ┆ \u001b[1;36m2\u001b[0m          ┆           ┆ \u001b[1;36m91\u001b[0m        ┆ \u001b[1;36m27\u001b[0m        ┆           ┆           │\n",
       "│ min        ┆ \u001b[1;36m0.019601\u001b[0m   ┆ \u001b[1;36m3.381065\u001b[0m   ┆ \u001b[1;36m0.014144\u001b[0m  ┆ \u001b[1;36m0.0561\u001b[0m    ┆ \u001b[1;36m0.00082\u001b[0m   ┆ \u001b[1;92m0:00:01\u001b[0m.\u001b[1;36m9\u001b[0m ┆ \u001b[1;36m0.41411\u001b[0m   │\n",
       "│            ┆            ┆            ┆           ┆           ┆           ┆ \u001b[1;36m99999\u001b[0m     ┆           │\n",
       "│ \u001b[1;36m25\u001b[0m%        ┆ \u001b[1;36m0.247087\u001b[0m   ┆ \u001b[1;36m1582.10253\u001b[0m ┆ \u001b[1;36m11.284664\u001b[0m ┆ \u001b[1;36m0.601477\u001b[0m  ┆ \u001b[1;36m0.028203\u001b[0m  ┆ \u001b[1;92m0:00:05\u001b[0m   ┆ \u001b[1;36m286.12601\u001b[0m │\n",
       "│            ┆            ┆ \u001b[1;36m6\u001b[0m          ┆           ┆           ┆           ┆           ┆ \u001b[1;36m7\u001b[0m         │\n",
       "│ \u001b[1;36m50\u001b[0m%        ┆ \u001b[1;36m0.510951\u001b[0m   ┆ \u001b[1;36m2240.27983\u001b[0m ┆ \u001b[1;36m17.513617\u001b[0m ┆ \u001b[1;36m1.239019\u001b[0m  ┆ \u001b[1;36m0.051221\u001b[0m  ┆ \u001b[1;92m0:00:07\u001b[0m   ┆ \u001b[1;36m343.32596\u001b[0m │\n",
       "│            ┆            ┆ \u001b[1;36m4\u001b[0m          ┆           ┆           ┆           ┆           ┆ \u001b[1;36m1\u001b[0m         │\n",
       "│ \u001b[1;36m75\u001b[0m%        ┆ \u001b[1;36m0.983944\u001b[0m   ┆ \u001b[1;36m3346.02052\u001b[0m ┆ \u001b[1;36m27.236719\u001b[0m ┆ \u001b[1;36m2.34897\u001b[0m   ┆ \u001b[1;36m0.091488\u001b[0m  ┆ \u001b[1;92m0:00:10\u001b[0m   ┆ \u001b[1;36m402.28273\u001b[0m │\n",
       "│            ┆            ┆ \u001b[1;36m8\u001b[0m          ┆           ┆           ┆           ┆           ┆ \u001b[1;36m3\u001b[0m         │\n",
       "│ max        ┆ \u001b[1;36m152023.367\u001b[0m ┆ \u001b[1;36m103745.212\u001b[0m ┆ \u001b[1;36m1614.1320\u001b[0m ┆ \u001b[1;36m1.1500e6\u001b[0m  ┆ \u001b[1;36m583059.20\u001b[0m ┆ \u001b[1;92m0:03:16\u001b[0m   ┆ \u001b[1;36m864.60466\u001b[0m │\n",
       "│            ┆ \u001b[1;36m594\u001b[0m        ┆ \u001b[1;36m024\u001b[0m        ┆ \u001b[1;36m93\u001b[0m        ┆           ┆ \u001b[1;36m5803\u001b[0m      ┆           ┆ \u001b[1;36m5\u001b[0m         │\n",
       "└────────────┴────────────┴────────────┴───────────┴───────────┴───────────┴───────────┴───────────┘"
      ]
     },
     "metadata": {},
     "output_type": "display_data"
    }
   ],
   "source": [
    "\n",
    "NVARS = ['d_star', 'L_mn', 'L_mn_norm', 'j0', 'j0_norm', 'duration', 'v_mn']\n",
    "DISPLAY_VARS = ['time', 'sat'] + NVARS\n",
    "\n",
    "\n",
    "def check_candidates(df):\n",
    "    return df[NVARS].describe()\n",
    "\n",
    "check_candidates(all_candidates_l0)"
   ]
  },
  {
   "cell_type": "code",
   "execution_count": null,
   "metadata": {},
   "outputs": [
    {
     "name": "stderr",
     "output_type": "stream",
     "text": [
      "\u001b[32m2023-11-08 14:11:23.225\u001b[0m | \u001b[1mINFO    \u001b[0m | \u001b[36m__main__\u001b[0m:\u001b[36mprocess_candidates_l1\u001b[0m:\u001b[36m18\u001b[0m - \u001b[1mcandidates_l1: 180718, with effective ratio: 97.65%\u001b[0m\n"
     ]
    },
    {
     "data": {
      "text/html": [
       "<pre style=\"white-space:pre;overflow-x:auto;line-height:normal;font-family:Menlo,'DejaVu Sans Mono',consolas,'Courier New',monospace\"></pre>\n"
      ],
      "text/plain": []
     },
     "metadata": {},
     "output_type": "display_data"
    },
    {
     "data": {
      "text/html": [
       "<div><style>\n",
       ".dataframe > thead > tr > th,\n",
       ".dataframe > tbody > tr > td {\n",
       "  text-align: right;\n",
       "  white-space: pre-wrap;\n",
       "}\n",
       "</style>\n",
       "<small>shape: (9, 8)</small><table border=\"1\" class=\"dataframe\"><thead><tr><th>describe</th><th>d_star</th><th>L_mn</th><th>L_mn_norm</th><th>j0</th><th>j0_norm</th><th>duration</th><th>v_mn</th></tr><tr><td>str</td><td>f64</td><td>f64</td><td>f64</td><td>f64</td><td>f64</td><td>str</td><td>f64</td></tr></thead><tbody><tr><td>&quot;count&quot;</td><td>180718.0</td><td>180718.0</td><td>180718.0</td><td>180718.0</td><td>180718.0</td><td>&quot;180718&quot;</td><td>180718.0</td></tr><tr><td>&quot;null_count&quot;</td><td>0.0</td><td>0.0</td><td>264.0</td><td>0.0</td><td>264.0</td><td>&quot;0&quot;</td><td>0.0</td></tr><tr><td>&quot;mean&quot;</td><td>0.745751</td><td>2768.506268</td><td>22.033678</td><td>1.865352</td><td>0.075518</td><td>&quot;0:00:08.118150…</td><td>343.880697</td></tr><tr><td>&quot;std&quot;</td><td>0.771981</td><td>1909.065522</td><td>17.629565</td><td>2.599027</td><td>0.097857</td><td>null</td><td>99.846681</td></tr><tr><td>&quot;min&quot;</td><td>0.019601</td><td>48.94197</td><td>0.124168</td><td>0.0561</td><td>0.00082</td><td>&quot;0:00:01.999999…</td><td>10.240242</td></tr><tr><td>&quot;25%&quot;</td><td>0.243875</td><td>1581.58393</td><td>11.279769</td><td>0.60174</td><td>0.028229</td><td>&quot;0:00:05&quot;</td><td>286.190021</td></tr><tr><td>&quot;50%&quot;</td><td>0.50421</td><td>2238.553736</td><td>17.499906</td><td>1.239576</td><td>0.051251</td><td>&quot;0:00:07&quot;</td><td>343.360031</td></tr><tr><td>&quot;75%&quot;</td><td>0.97075</td><td>3340.552536</td><td>27.186555</td><td>2.348456</td><td>0.091501</td><td>&quot;0:00:10&quot;</td><td>402.301723</td></tr><tr><td>&quot;max&quot;</td><td>13.805873</td><td>35975.767016</td><td>439.323024</td><td>393.479096</td><td>9.634978</td><td>&quot;0:00:59&quot;</td><td>864.604665</td></tr></tbody></table></div>"
      ],
      "text/plain": [
       "\n",
       "shape: \u001b[1m(\u001b[0m\u001b[1;36m9\u001b[0m, \u001b[1;36m8\u001b[0m\u001b[1m)\u001b[0m\n",
       "┌────────────┬───────────┬────────────┬────────────┬────────────┬──────────┬───────────┬───────────┐\n",
       "│ describe   ┆ d_star    ┆ L_mn       ┆ L_mn_norm  ┆ j0         ┆ j0_norm  ┆ duration  ┆ v_mn      │\n",
       "│ ---        ┆ ---       ┆ ---        ┆ ---        ┆ ---        ┆ ---      ┆ ---       ┆ ---       │\n",
       "│ str        ┆ f64       ┆ f64        ┆ f64        ┆ f64        ┆ f64      ┆ str       ┆ f64       │\n",
       "╞════════════╪═══════════╪════════════╪════════════╪════════════╪══════════╪═══════════╪═══════════╡\n",
       "│ count      ┆ \u001b[1;36m180718.0\u001b[0m  ┆ \u001b[1;36m180718.0\u001b[0m   ┆ \u001b[1;36m180718.0\u001b[0m   ┆ \u001b[1;36m180718.0\u001b[0m   ┆ \u001b[1;36m180718.0\u001b[0m ┆ \u001b[1;36m180718\u001b[0m    ┆ \u001b[1;36m180718.0\u001b[0m  │\n",
       "│ null_count ┆ \u001b[1;36m0.0\u001b[0m       ┆ \u001b[1;36m0.0\u001b[0m        ┆ \u001b[1;36m264.0\u001b[0m      ┆ \u001b[1;36m0.0\u001b[0m        ┆ \u001b[1;36m264.0\u001b[0m    ┆ \u001b[1;36m0\u001b[0m         ┆ \u001b[1;36m0.0\u001b[0m       │\n",
       "│ mean       ┆ \u001b[1;36m0.745751\u001b[0m  ┆ \u001b[1;36m2768.50626\u001b[0m ┆ \u001b[1;36m22.033678\u001b[0m  ┆ \u001b[1;36m1.865352\u001b[0m   ┆ \u001b[1;36m0.075518\u001b[0m ┆ \u001b[1;92m0:00:08\u001b[0m.\u001b[1;36m1\u001b[0m ┆ \u001b[1;36m343.88069\u001b[0m │\n",
       "│            ┆           ┆ \u001b[1;36m8\u001b[0m          ┆            ┆            ┆          ┆ \u001b[1;36m18150\u001b[0m     ┆ \u001b[1;36m7\u001b[0m         │\n",
       "│ std        ┆ \u001b[1;36m0.771981\u001b[0m  ┆ \u001b[1;36m1909.06552\u001b[0m ┆ \u001b[1;36m17.629565\u001b[0m  ┆ \u001b[1;36m2.599027\u001b[0m   ┆ \u001b[1;36m0.097857\u001b[0m ┆ null      ┆ \u001b[1;36m99.846681\u001b[0m │\n",
       "│            ┆           ┆ \u001b[1;36m2\u001b[0m          ┆            ┆            ┆          ┆           ┆           │\n",
       "│ min        ┆ \u001b[1;36m0.019601\u001b[0m  ┆ \u001b[1;36m48.94197\u001b[0m   ┆ \u001b[1;36m0.124168\u001b[0m   ┆ \u001b[1;36m0.0561\u001b[0m     ┆ \u001b[1;36m0.00082\u001b[0m  ┆ \u001b[1;92m0:00:01\u001b[0m.\u001b[1;36m9\u001b[0m ┆ \u001b[1;36m10.240242\u001b[0m │\n",
       "│            ┆           ┆            ┆            ┆            ┆          ┆ \u001b[1;36m99999\u001b[0m     ┆           │\n",
       "│ \u001b[1;36m25\u001b[0m%        ┆ \u001b[1;36m0.243875\u001b[0m  ┆ \u001b[1;36m1581.58393\u001b[0m ┆ \u001b[1;36m11.279769\u001b[0m  ┆ \u001b[1;36m0.60174\u001b[0m    ┆ \u001b[1;36m0.028229\u001b[0m ┆ \u001b[1;92m0:00:05\u001b[0m   ┆ \u001b[1;36m286.19002\u001b[0m │\n",
       "│            ┆           ┆            ┆            ┆            ┆          ┆           ┆ \u001b[1;36m1\u001b[0m         │\n",
       "│ \u001b[1;36m50\u001b[0m%        ┆ \u001b[1;36m0.50421\u001b[0m   ┆ \u001b[1;36m2238.55373\u001b[0m ┆ \u001b[1;36m17.499906\u001b[0m  ┆ \u001b[1;36m1.239576\u001b[0m   ┆ \u001b[1;36m0.051251\u001b[0m ┆ \u001b[1;92m0:00:07\u001b[0m   ┆ \u001b[1;36m343.36003\u001b[0m │\n",
       "│            ┆           ┆ \u001b[1;36m6\u001b[0m          ┆            ┆            ┆          ┆           ┆ \u001b[1;36m1\u001b[0m         │\n",
       "│ \u001b[1;36m75\u001b[0m%        ┆ \u001b[1;36m0.97075\u001b[0m   ┆ \u001b[1;36m3340.55253\u001b[0m ┆ \u001b[1;36m27.186555\u001b[0m  ┆ \u001b[1;36m2.348456\u001b[0m   ┆ \u001b[1;36m0.091501\u001b[0m ┆ \u001b[1;92m0:00:10\u001b[0m   ┆ \u001b[1;36m402.30172\u001b[0m │\n",
       "│            ┆           ┆ \u001b[1;36m6\u001b[0m          ┆            ┆            ┆          ┆           ┆ \u001b[1;36m3\u001b[0m         │\n",
       "│ max        ┆ \u001b[1;36m13.805873\u001b[0m ┆ \u001b[1;36m35975.7670\u001b[0m ┆ \u001b[1;36m439.323024\u001b[0m ┆ \u001b[1;36m393.479096\u001b[0m ┆ \u001b[1;36m9.634978\u001b[0m ┆ \u001b[1;92m0:00:59\u001b[0m   ┆ \u001b[1;36m864.60466\u001b[0m │\n",
       "│            ┆           ┆ \u001b[1;36m16\u001b[0m         ┆            ┆            ┆          ┆           ┆ \u001b[1;36m5\u001b[0m         │\n",
       "└────────────┴───────────┴────────────┴────────────┴────────────┴──────────┴───────────┴───────────┘"
      ]
     },
     "metadata": {},
     "output_type": "display_data"
    }
   ],
   "source": [
    "from datetime import timedelta\n",
    "def process_candidates_l1(raw_df: pl.DataFrame):\n",
    "    \"clean data to remove extreme values\"\n",
    "\n",
    "    df = raw_df.filter(\n",
    "        pl.col(\"d_star\") < 100, # exclude JUNO extreme values\n",
    "        pl.col('v_mn') > 10,\n",
    "        pl.col('duration') < timedelta(seconds=60),\n",
    "        # pl.col(\"j0\") < 100\n",
    "    ).with_columns(\n",
    "        pl.col('radial_distance').fill_null(1) # by default, fill with 1 AU\n",
    "    ).with_columns(\n",
    "        r_bin = pl.col('radial_distance').round(),\n",
    "        j0_norm_log = pl.col('j0_norm').log10(),\n",
    "        L_mn_norm_log = pl.col('L_mn_norm').log10(),\n",
    "    )\n",
    "\n",
    "    logger.info(\n",
    "        f\"candidates_l1: {len(df)}, with effective ratio: {len(df) / len(raw_df):.2%}\"\n",
    "    )\n",
    "\n",
    "    return df\n",
    "\n",
    "all_candidates_l1 = process_candidates_l1(all_candidates_l0)\n",
    "%R -i all_candidates_l1 -c conv_pl\n",
    "check_candidates(all_candidates_l1)\n"
   ]
  },
  {
   "cell_type": "code",
   "execution_count": null,
   "metadata": {},
   "outputs": [],
   "source": [
    "jno_candidates_l1 = all_candidates_l1.filter(pl.col('sat') == 'JNO')\n",
    "%R -i jno_candidates_l1 -c conv_pl"
   ]
  },
  {
   "cell_type": "code",
   "execution_count": null,
   "metadata": {},
   "outputs": [],
   "source": [
    "from ids_finder.utils.analysis import filter_before_jupiter\n",
    "from ids_finder.utils.analysis import link_coord2dim"
   ]
  },
  {
   "cell_type": "code",
   "execution_count": null,
   "metadata": {},
   "outputs": [],
   "source": [
    "def process_candidates_l2(raw_df: pl.DataFrame, avg_window=\"30d\"):\n",
    "    time_col = \"time\"\n",
    "\n",
    "    candidate = (\n",
    "        raw_df.sort(time_col)\n",
    "        .group_by_dynamic(time_col, every=avg_window, by=\"sat\")\n",
    "        .agg(cs.numeric().mean(), cs.duration().mean(), id_count=pl.count())\n",
    "        .filter(pl.col(\"id_count\") > 50)  # filter out JUNO extreme large thickness\n",
    "        .sort(time_col)\n",
    "        .upsample(time_col, every=avg_window, by=\"sat\", maintain_order=True)\n",
    "        .with_columns(pl.col(\"sat\").forward_fill())\n",
    "    )\n",
    "    return candidate"
   ]
  },
  {
   "cell_type": "code",
   "execution_count": null,
   "metadata": {},
   "outputs": [],
   "source": [
    "all_candidates_l2: pl.DataFrame = (\n",
    "    all_candidates_l1.pipe(filter_before_jupiter)\n",
    "    .pipe(process_candidates_l2)\n",
    "    .pipe(link_coord2dim)\n",
    ")"
   ]
  },
  {
   "cell_type": "code",
   "execution_count": null,
   "metadata": {},
   "outputs": [
    {
     "data": {
      "text/html": [
       "<pre style=\"white-space:pre;overflow-x:auto;line-height:normal;font-family:Menlo,'DejaVu Sans Mono',consolas,'Courier New',monospace\"></pre>\n"
      ],
      "text/plain": []
     },
     "metadata": {},
     "output_type": "display_data"
    },
    {
     "data": {
      "text/html": [
       "<div><style>\n",
       ".dataframe > thead > tr > th,\n",
       ".dataframe > tbody > tr > td {\n",
       "  text-align: right;\n",
       "  white-space: pre-wrap;\n",
       "}\n",
       "</style>\n",
       "<small>shape: (9, 8)</small><table border=\"1\" class=\"dataframe\"><thead><tr><th>describe</th><th>d_star</th><th>L_mn</th><th>L_mn_norm</th><th>j0</th><th>j0_norm</th><th>duration</th><th>v_mn</th></tr><tr><td>str</td><td>f64</td><td>f64</td><td>f64</td><td>f64</td><td>f64</td><td>str</td><td>f64</td></tr></thead><tbody><tr><td>&quot;count&quot;</td><td>172.0</td><td>172.0</td><td>172.0</td><td>172.0</td><td>172.0</td><td>&quot;172&quot;</td><td>172.0</td></tr><tr><td>&quot;null_count&quot;</td><td>19.0</td><td>19.0</td><td>19.0</td><td>19.0</td><td>19.0</td><td>&quot;19&quot;</td><td>19.0</td></tr><tr><td>&quot;mean&quot;</td><td>0.706261</td><td>2922.959632</td><td>22.028999</td><td>1.937378</td><td>0.090728</td><td>&quot;0:00:08.719631…</td><td>337.428018</td></tr><tr><td>&quot;std&quot;</td><td>0.358616</td><td>512.032439</td><td>8.140589</td><td>1.077249</td><td>0.051647</td><td>null</td><td>37.917741</td></tr><tr><td>&quot;min&quot;</td><td>0.108318</td><td>1877.983131</td><td>7.074407</td><td>0.229362</td><td>0.042024</td><td>&quot;0:00:06.751012…</td><td>256.771354</td></tr><tr><td>&quot;25%&quot;</td><td>0.331532</td><td>2590.280777</td><td>14.498058</td><td>0.795284</td><td>0.060267</td><td>&quot;0:00:07.707419…</td><td>315.324913</td></tr><tr><td>&quot;50%&quot;</td><td>0.794667</td><td>2786.745403</td><td>22.804505</td><td>2.087583</td><td>0.069789</td><td>&quot;0:00:08.730158…</td><td>335.332916</td></tr><tr><td>&quot;75%&quot;</td><td>0.931735</td><td>3182.843841</td><td>27.726721</td><td>2.633037</td><td>0.094061</td><td>&quot;0:00:09.315238…</td><td>359.837854</td></tr><tr><td>&quot;max&quot;</td><td>1.539393</td><td>4458.507484</td><td>41.436617</td><td>4.784021</td><td>0.306938</td><td>&quot;0:00:12.305699…</td><td>445.849288</td></tr></tbody></table></div>"
      ],
      "text/plain": [
       "\n",
       "shape: \u001b[1m(\u001b[0m\u001b[1;36m9\u001b[0m, \u001b[1;36m8\u001b[0m\u001b[1m)\u001b[0m\n",
       "┌────────────┬──────────┬─────────────┬───────────┬──────────┬──────────┬─────────────┬────────────┐\n",
       "│ describe   ┆ d_star   ┆ L_mn        ┆ L_mn_norm ┆ j0       ┆ j0_norm  ┆ duration    ┆ v_mn       │\n",
       "│ ---        ┆ ---      ┆ ---         ┆ ---       ┆ ---      ┆ ---      ┆ ---         ┆ ---        │\n",
       "│ str        ┆ f64      ┆ f64         ┆ f64       ┆ f64      ┆ f64      ┆ str         ┆ f64        │\n",
       "╞════════════╪══════════╪═════════════╪═══════════╪══════════╪══════════╪═════════════╪════════════╡\n",
       "│ count      ┆ \u001b[1;36m172.0\u001b[0m    ┆ \u001b[1;36m172.0\u001b[0m       ┆ \u001b[1;36m172.0\u001b[0m     ┆ \u001b[1;36m172.0\u001b[0m    ┆ \u001b[1;36m172.0\u001b[0m    ┆ \u001b[1;36m172\u001b[0m         ┆ \u001b[1;36m172.0\u001b[0m      │\n",
       "│ null_count ┆ \u001b[1;36m19.0\u001b[0m     ┆ \u001b[1;36m19.0\u001b[0m        ┆ \u001b[1;36m19.0\u001b[0m      ┆ \u001b[1;36m19.0\u001b[0m     ┆ \u001b[1;36m19.0\u001b[0m     ┆ \u001b[1;36m19\u001b[0m          ┆ \u001b[1;36m19.0\u001b[0m       │\n",
       "│ mean       ┆ \u001b[1;36m0.706261\u001b[0m ┆ \u001b[1;36m2922.959632\u001b[0m ┆ \u001b[1;36m22.028999\u001b[0m ┆ \u001b[1;36m1.937378\u001b[0m ┆ \u001b[1;36m0.090728\u001b[0m ┆ \u001b[1;92m0:00:08\u001b[0m.\u001b[1;36m719\u001b[0m ┆ \u001b[1;36m337.428018\u001b[0m │\n",
       "│            ┆          ┆             ┆           ┆          ┆          ┆ \u001b[1;36m631\u001b[0m         ┆            │\n",
       "│ std        ┆ \u001b[1;36m0.358616\u001b[0m ┆ \u001b[1;36m512.032439\u001b[0m  ┆ \u001b[1;36m8.140589\u001b[0m  ┆ \u001b[1;36m1.077249\u001b[0m ┆ \u001b[1;36m0.051647\u001b[0m ┆ null        ┆ \u001b[1;36m37.917741\u001b[0m  │\n",
       "│ min        ┆ \u001b[1;36m0.108318\u001b[0m ┆ \u001b[1;36m1877.983131\u001b[0m ┆ \u001b[1;36m7.074407\u001b[0m  ┆ \u001b[1;36m0.229362\u001b[0m ┆ \u001b[1;36m0.042024\u001b[0m ┆ \u001b[1;92m0:00:06\u001b[0m.\u001b[1;36m751\u001b[0m ┆ \u001b[1;36m256.771354\u001b[0m │\n",
       "│            ┆          ┆             ┆           ┆          ┆          ┆ \u001b[1;36m012\u001b[0m         ┆            │\n",
       "│ \u001b[1;36m25\u001b[0m%        ┆ \u001b[1;36m0.331532\u001b[0m ┆ \u001b[1;36m2590.280777\u001b[0m ┆ \u001b[1;36m14.498058\u001b[0m ┆ \u001b[1;36m0.795284\u001b[0m ┆ \u001b[1;36m0.060267\u001b[0m ┆ \u001b[1;92m0:00:07\u001b[0m.\u001b[1;36m707\u001b[0m ┆ \u001b[1;36m315.324913\u001b[0m │\n",
       "│            ┆          ┆             ┆           ┆          ┆          ┆ \u001b[1;36m419\u001b[0m         ┆            │\n",
       "│ \u001b[1;36m50\u001b[0m%        ┆ \u001b[1;36m0.794667\u001b[0m ┆ \u001b[1;36m2786.745403\u001b[0m ┆ \u001b[1;36m22.804505\u001b[0m ┆ \u001b[1;36m2.087583\u001b[0m ┆ \u001b[1;36m0.069789\u001b[0m ┆ \u001b[1;92m0:00:08\u001b[0m.\u001b[1;36m730\u001b[0m ┆ \u001b[1;36m335.332916\u001b[0m │\n",
       "│            ┆          ┆             ┆           ┆          ┆          ┆ \u001b[1;36m158\u001b[0m         ┆            │\n",
       "│ \u001b[1;36m75\u001b[0m%        ┆ \u001b[1;36m0.931735\u001b[0m ┆ \u001b[1;36m3182.843841\u001b[0m ┆ \u001b[1;36m27.726721\u001b[0m ┆ \u001b[1;36m2.633037\u001b[0m ┆ \u001b[1;36m0.094061\u001b[0m ┆ \u001b[1;92m0:00:09\u001b[0m.\u001b[1;36m315\u001b[0m ┆ \u001b[1;36m359.837854\u001b[0m │\n",
       "│            ┆          ┆             ┆           ┆          ┆          ┆ \u001b[1;36m238\u001b[0m         ┆            │\n",
       "│ max        ┆ \u001b[1;36m1.539393\u001b[0m ┆ \u001b[1;36m4458.507484\u001b[0m ┆ \u001b[1;36m41.436617\u001b[0m ┆ \u001b[1;36m4.784021\u001b[0m ┆ \u001b[1;36m0.306938\u001b[0m ┆ \u001b[1;92m0:00:12\u001b[0m.\u001b[1;36m305\u001b[0m ┆ \u001b[1;36m445.849288\u001b[0m │\n",
       "│            ┆          ┆             ┆           ┆          ┆          ┆ \u001b[1;36m699\u001b[0m         ┆            │\n",
       "└────────────┴──────────┴─────────────┴───────────┴──────────┴──────────┴─────────────┴────────────┘"
      ]
     },
     "metadata": {},
     "output_type": "display_data"
    }
   ],
   "source": [
    "inspect_df = all_candidates_l2[NVARS]\n",
    "inspect_df.describe()"
   ]
  },
  {
   "cell_type": "code",
   "execution_count": null,
   "metadata": {},
   "outputs": [],
   "source": [
    "from ids_finder.utils.analysis import n2_normalize\n",
    "\n",
    "all_candidates_l2_n2 = n2_normalize(all_candidates_l2, NVARS)"
   ]
  }
 ],
 "metadata": {
  "kernelspec": {
   "display_name": "cool_planet",
   "language": "python",
   "name": "python3"
  },
  "language_info": {
   "codemirror_mode": {
    "name": "ipython",
    "version": 3
   },
   "file_extension": ".py",
   "mimetype": "text/x-python",
   "name": "python",
   "nbconvert_exporter": "python",
   "pygments_lexer": "ipython3",
   "version": "3.10.12"
  }
 },
 "nbformat": 4,
 "nbformat_minor": 2
}
