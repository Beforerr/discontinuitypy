{
 "cells": [
  {
   "cell_type": "code",
   "execution_count": null,
   "metadata": {},
   "outputs": [],
   "source": []
  },
  {
   "cell_type": "markdown",
   "metadata": {},
   "source": [
    "## Map of thickness and current intensity"
   ]
  },
  {
   "cell_type": "markdown",
   "metadata": {},
   "source": [
    "Bin the data and fit the shape does not work. Using 2d gaussian kernel density estimation instead."
   ]
  },
  {
   "cell_type": "code",
   "execution_count": null,
   "metadata": {},
   "outputs": [],
   "source": [
    "def bin_df(df: pl.DataFrame, col_to_bin, bins=10):\n",
    "    binned_col = f\"{col_to_bin}_bin\"\n",
    "    \n",
    "    return (\n",
    "        df.with_columns(\n",
    "            pl.col(col_to_bin).qcut(bins).alias(binned_col),\n",
    "        )\n",
    "        .group_by(binned_col)\n",
    "        .agg(cs.numeric().median(), pl.count().alias(\"bin_count\"))\n",
    "        .drop(binned_col)\n",
    "    )\n",
    "\n",
    "col_to_bin=\"L_mn_norm_log\"\n",
    "# col_to_bin=\"j0_norm_log\"\n",
    "\n",
    "all_events_l1_L_binned = pl.concat(\n",
    "    [\n",
    "        data.pipe(bin_df, col_to_bin=col_to_bin, bins=64).with_columns(sat= pl.lit(name))\n",
    "        for name, data in all_events_l1.group_by(\"sat\")\n",
    "    ]\n",
    ")\n",
    "\n",
    "jno_events_l1_L_binned = pl.concat(\n",
    "    [\n",
    "        data.pipe(bin_df, col_to_bin=col_to_bin, bins=64).with_columns(sat= pl.lit(name))\n",
    "        for name, data in jno_candidates_l1.group_by(\"r_bin\")\n",
    "    ]\n",
    ")\n",
    "%R -i all_events_l1_L_binned -c conv_pl\n"
   ]
  },
  {
   "cell_type": "code",
   "execution_count": null,
   "metadata": {},
   "outputs": [],
   "source": [
    "df = all_events_l1.filter(pl.col('L_mn_norm_log').is_not_nan())\n",
    "# df = jno_candidates_l1.filter(pl.col('L_mn_norm_log').is_not_nan())\n",
    "%R -i df -c conv_pl"
   ]
  },
  {
   "cell_type": "code",
   "execution_count": null,
   "metadata": {},
   "outputs": [],
   "source": [
    "import lmfit\n",
    "import numpy as np\n",
    "\n",
    "def gaussian2d(x, y, amplitude=1., centerx=0., centery=0., sigmax=1., sigmay=1.,\n",
    "                 rotation=0, A0=0.):\n",
    "    \"\"\"Return a two dimensional lorentzian.\n",
    "\n",
    "    The maximum of the peak occurs at ``centerx`` and ``centery``\n",
    "    with widths ``sigmax`` and ``sigmay`` in the x and y directions\n",
    "    respectively. The peak can be rotated by choosing the value of ``rotation``\n",
    "    in radians.\n",
    "    \"\"\"\n",
    "    xp = (x - centerx)*np.cos(rotation) - (y - centery)*np.sin(rotation)\n",
    "    yp = (x - centerx)*np.sin(rotation) + (y - centery)*np.cos(rotation)\n",
    "    R = (xp/sigmax)**2 + (yp/sigmay)**2\n",
    "\n",
    "    return A0 + amplitude * np.exp(-R/2)\n",
    "\n",
    "model = lmfit.Model(gaussian2d, independent_vars=['x', 'y'])\n",
    "# params = model.make_params(amplitude=10, centerx=x[np.argmax(z)], centery=y[np.argmax(z)])"
   ]
  },
  {
   "cell_type": "code",
   "execution_count": null,
   "metadata": {},
   "outputs": [],
   "source": [
    "%%R\n",
    "fit_gaussian_2D_pdf(df)"
   ]
  },
  {
   "cell_type": "code",
   "execution_count": null,
   "metadata": {},
   "outputs": [],
   "source": [
    "%%R\n",
    "library(purrr)\n",
    "library(tidyr)\n",
    "fit_gaussian_2D_pdf <- function(data) {\n",
    "  kde_result <- MASS::kde2d(data$L_mn_norm_log, data$j0_norm_log)\n",
    "  x_values <- rep(kde_result$x, each = length(kde_result$y))\n",
    "  y_values <- rep(kde_result$y, length(kde_result$x))\n",
    "  response <- as.vector(kde_result$z)\n",
    "\n",
    "  density <- data.frame(X_values = x_values, Y_values = y_values, response = response)\n",
    "  model <- fit_gaussian_2D(density)\n",
    "  return(model)\n",
    "}\n",
    "\n",
    "results <- df %>% \n",
    "  # group_by(r_bin) %>% \n",
    "  nest() %>% \n",
    "  mutate(fitted = map(data, fit_gaussian_2D_pdf))\n"
   ]
  },
  {
   "cell_type": "code",
   "execution_count": null,
   "metadata": {},
   "outputs": [],
   "source": [
    "%%R -w 1000 -h 500\n",
    "# Creating a list of layers for the binned data\n",
    "# model <- lm(j0_norm_log ~ L_mn_norm_log, data = all_events_l1_L_binned)\n",
    "# slope <- coef(model)[2]\n",
    "\n",
    "binned_layer <- list(\n",
    "  geom_line(data = all_events_l1_L_binned, color = 'blue'),\n",
    "  geom_point(data = all_events_l1_L_binned, color = 'blue'), \n",
    "  geom_smooth(data = all_events_l1_L_binned, method = \"glm\", color = 'red')\n",
    ")\n",
    "\n",
    "\n",
    "# Plot creation\n",
    "p <- ggplot(mapping = aes(x = L_mn_norm_log, y = j0_norm_log)) +\n",
    "  geom_density_2d(data = all_events_l1) +\n",
    "  # stat_density_2d(data = all_events_l1, aes(fill = after_stat(density)), geom = \"raster\", contour = FALSE) +\n",
    "  binned_layer +\n",
    "  facet_wrap(~ sat, scales = \"free\")\n",
    "\n",
    "  \n",
    "# Print the plot\n",
    "print(p)\n"
   ]
  },
  {
   "cell_type": "code",
   "execution_count": null,
   "metadata": {},
   "outputs": [],
   "source": [
    "%%R\n",
    "p <- ggplot() +\n",
    "  geom_point(data = all_events_l1, aes(x = L_mn_norm_log, y = j0_norm_log)) +\n",
    "  binned_layer +\n",
    "  facet_wrap(~ sat, scales = \"free\")\n",
    "\n",
    "print(p)\n"
   ]
  },
  {
   "cell_type": "code",
   "execution_count": null,
   "metadata": {},
   "outputs": [],
   "source": [
    "%%R\n",
    "# Fit a linear model to the log-transformed data\n",
    "lm_fit <- lm(j0_norm_log ~ L_mn_norm_log, data = all_events_l1)\n",
    "\n",
    "# Extract the coefficients\n",
    "intercept <- coef(lm_fit)[1]\n",
    "slope <- coef(lm_fit)[2]\n",
    "\n",
    "# Create a scatter plot with the log-log transformation\n",
    "p <- ggplot(all_events_l1, aes(x = L_mn_norm_log, y = j0_norm_log)) +\n",
    "  geom_point() + # Add the scatter points\n",
    "  geom_abline(intercept = intercept, slope = slope, color = 'blue', size = 1) + # Add the fitted line\n",
    "  facet_wrap(~ sat, scales = \"free\") + # Facet by 'sat'\n",
    "  labs(x = \"Log10(L_mn_norm)\", y = \"Log10(j0_norm)\") # Label axes\n",
    "\n",
    "print(p)"
   ]
  },
  {
   "cell_type": "code",
   "execution_count": null,
   "metadata": {},
   "outputs": [],
   "source": [
    "%%R\n",
    "# Plot creation\n",
    "p <- ggplot(all_events_l1_L_binned, aes(x = L_mn_norm_log, y = j0_norm_log)) +\n",
    "    geom_line(color = 'blue') +\n",
    "    geom_point(color = 'blue') +\n",
    "    geom_smooth(method = \"glm\", color = 'red') +\n",
    "    facet_wrap(~ sat, scales = \"free\") +\n",
    "    stat_regline_equation()\n",
    "\n",
    "  \n",
    "# Print the plot\n",
    "print(p)\n"
   ]
  },
  {
   "cell_type": "code",
   "execution_count": null,
   "metadata": {},
   "outputs": [],
   "source": [
    "%%R -i jno_events_l1_L_binned -c conv_pl\n",
    "# Plot creation\n",
    "p <- ggplot(jno_events_l1_L_binned, aes(x = L_mn_norm_log, y = j0_norm_log)) +\n",
    "    geom_line(color = 'blue') +\n",
    "    geom_point(color = 'blue') +\n",
    "    geom_smooth(method = \"glm\", color = 'red') +\n",
    "    facet_wrap(~ r_bin, scales = \"free\") +\n",
    "    stat_regline_equation()\n",
    "\n",
    "  \n",
    "# Print the plot\n",
    "print(p)\n"
   ]
  },
  {
   "cell_type": "code",
   "execution_count": null,
   "metadata": {},
   "outputs": [],
   "source": [
    "%%R -i jno_candidates_l1 -c conv_pl\n",
    "\n",
    "p <- ggplot(jno_candidates_l1, aes(x = L_mn_norm, y = j0_norm)) +\n",
    "  stat_density_2d(aes(fill = ..density..), geom = \"raster\", contour = FALSE) +\n",
    "  facet_wrap(~ r_bin, nrow = length(unique(jno_candidates_l1$r_bin))) +\n",
    "  scale_x_log10() + \n",
    "  scale_y_log10() +\n",
    "  labs(fill = \"Density\")\n",
    "\n",
    "\n",
    "print(p)\n"
   ]
  }
 ],
 "metadata": {
  "language_info": {
   "name": "python"
  }
 },
 "nbformat": 4,
 "nbformat_minor": 2
}
