{
 "cells": [
  {
   "cell_type": "code",
   "execution_count": null,
   "metadata": {},
   "outputs": [],
   "source": [
    "import numpy as np"
   ]
  },
  {
   "cell_type": "markdown",
   "metadata": {},
   "source": [
    "### ID classification\n",
    "\n",
    "In this method, TDs and RDs satisfy $ \\frac{ |B_N| }{ |B_{bg}| } < 0.2$ and $ | \\frac{ \\Delta |B| }{ |B_{bg}| } | > 0.4$ B BN bg ∣∣ ∣∣ , < D 0.2 B B bg ∣∣ ∣ ∣ , respectively. Moreover, IDs with < 0.4 B BN bg ∣∣ ∣∣ , < D 0.2 B B bg ∣∣ ∣ ∣ could be either TDs or RDs, and so are termed EDs. Similarly, NDs are defined as > 0.4 B BN bg ∣∣ ∣∣ , > D 0.2 B B bg ∣∣ ∣ ∣ because they can be neither TDs nor RDs. It is worth noting that EDs and NDs here are not physical concepts like RDs and TDs. RDs or TDs correspond to specific types of structures in the MHD framework, while EDs and NDs are introduced just to better quantify the statistical results.\n",
    "\n",
    "\n",
    "Criteria Used to Classify Discontinuities on the Basis of Magnetic Data Type\n",
    "\n",
    "| Type   |  $\\|B_n/B\\|$      | $\\| \\Delta B / B \\|$  |\n",
    "|----------|-------------|------|\n",
    "| Rotational (RD) | large | small |\n",
    "| Tangential (TD) | small |  large |\n",
    "| Either (ED) | small | small |\n",
    "| Neither (ND) | large | large |\n"
   ]
  },
  {
   "cell_type": "code",
   "execution_count": null,
   "metadata": {},
   "outputs": [],
   "source": [
    "BnOverB_RD_lower_threshold = 0.4\n",
    "dBOverB_RD_upper_threshold = 0.2\n",
    "\n",
    "BnOverB_TD_upper_threshold = 0.2\n",
    "dBOverB_TD_lower_threshold = dBOverB_RD_upper_threshold\n",
    "\n",
    "BnOverB_ED_upper_threshold = BnOverB_RD_lower_threshold\n",
    "dBOverB_ED_upper_threshold = dBOverB_TD_lower_threshold\n",
    "\n",
    "BnOverB_ND_lower_threshold = BnOverB_TD_upper_threshold\n",
    "dBOverB_ND_lower_threshold = dBOverB_RD_upper_threshold"
   ]
  },
  {
   "cell_type": "code",
   "execution_count": null,
   "metadata": {},
   "outputs": [],
   "source": [
    "def classify_id(BnOverB, dBOverB):\n",
    "    BnOverB = np.abs(np.asarray(BnOverB))\n",
    "    dBOverB = np.asarray(dBOverB)\n",
    "\n",
    "    s1 = (BnOverB > BnOverB_RD_lower_threshold)\n",
    "    s2 = (dBOverB > dBOverB_RD_upper_threshold)\n",
    "    s3 = (BnOverB > BnOverB_TD_upper_threshold)\n",
    "    s4 = s2 # note: s4 = (dBOverB > dBOverB_TD_lower_threshold)\n",
    "    \n",
    "    RD = s1 & ~s2\n",
    "    TD = ~s3 & s4\n",
    "    ED = ~s1 & ~s4\n",
    "    ND = s3 & s2\n",
    "\n",
    "    # Create an empty result array with the same shape\n",
    "    result = np.empty_like(BnOverB, dtype=object)\n",
    "\n",
    "    result[RD] = \"RD\"\n",
    "    result[TD] = \"TD\"\n",
    "    result[ED] = \"ED\"\n",
    "    result[ND] = \"ND\"\n",
    "\n",
    "    return result"
   ]
  }
 ],
 "metadata": {
  "kernelspec": {
   "display_name": "python3",
   "language": "python",
   "name": "python3"
  }
 },
 "nbformat": 4,
 "nbformat_minor": 2
}
