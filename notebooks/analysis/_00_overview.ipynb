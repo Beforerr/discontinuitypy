{
 "cells": [
  {
   "cell_type": "markdown",
   "metadata": {},
   "source": [
    "---\n",
    "title: Results\n",
    "format:\n",
    "  html:\n",
    "    code-fold: true\n",
    "output-file: overview.html\n",
    "---"
   ]
  },
  {
   "cell_type": "code",
   "execution_count": null,
   "metadata": {},
   "outputs": [],
   "source": [
    "from beforerr.r import py2rpy_polars"
   ]
  },
  {
   "cell_type": "code",
   "execution_count": null,
   "metadata": {},
   "outputs": [],
   "source": [
    "#| hide\n",
    "%load_ext autoreload\n",
    "%autoreload 2"
   ]
  },
  {
   "cell_type": "markdown",
   "metadata": {},
   "source": [
    "## Setup"
   ]
  },
  {
   "cell_type": "markdown",
   "metadata": {},
   "source": [
    "### Import libraries"
   ]
  },
  {
   "cell_type": "code",
   "execution_count": null,
   "metadata": {},
   "outputs": [
    {
     "data": {
      "text/html": [
       "<pre style=\"white-space:pre;overflow-x:auto;line-height:normal;font-family:Menlo,'DejaVu Sans Mono',consolas,'Courier New',monospace\"></pre>\n"
      ],
      "text/plain": []
     },
     "metadata": {},
     "output_type": "display_data"
    },
    {
     "data": {
      "text/plain": [
       "\u001b[1;35mvegafusion.enable\u001b[0m\u001b[1m(\u001b[0m\u001b[33mmimetype\u001b[0m=\u001b[32m'html'\u001b[0m, \u001b[33mrow_limit\u001b[0m=\u001b[1;36m1000000\u001b[0m, \u001b[33membed_options\u001b[0m=\u001b[3;35mNone\u001b[0m\u001b[1m)\u001b[0m"
      ]
     },
     "execution_count": null,
     "metadata": {},
     "output_type": "execute_result"
    }
   ],
   "source": [
    "from fastcore.utils import *\n",
    "from fastcore.test import *\n",
    "\n",
    "from ids_finder.utils.basic import *\n",
    "from ids_finder.core import pl_norm\n",
    "\n",
    "from datetime import timedelta\n",
    "\n",
    "import polars as pl\n",
    "import polars.selectors as cs\n",
    "import pandas as pd\n",
    "import numpy as np\n",
    "\n",
    "import seaborn as sns\n",
    "import altair as alt\n",
    "import vegafusion as vf\n",
    "vf.enable(row_limit = int(1e6))"
   ]
  },
  {
   "cell_type": "markdown",
   "metadata": {},
   "source": [
    "## Visualization of data gaps"
   ]
  },
  {
   "cell_type": "markdown",
   "metadata": {},
   "source": [
    "## JUNO Overview\n",
    "### Magnetic field strength vs. distance"
   ]
  },
  {
   "cell_type": "markdown",
   "metadata": {},
   "source": [
    "## Classification of candidates"
   ]
  },
  {
   "cell_type": "code",
   "execution_count": null,
   "metadata": {},
   "outputs": [],
   "source": [
    "sns.jointplot(\n",
    "    candidates_jno_tau_60s,\n",
    "    x='dBOverB', y='BnOverB',\n",
    "    # kind='kde',\n",
    "    kind=\"hex\",\n",
    ")"
   ]
  },
  {
   "cell_type": "code",
   "execution_count": null,
   "metadata": {},
   "outputs": [],
   "source": [
    "sns.jointplot(\n",
    "    all_candidates,\n",
    "    x='dBOverB', y='BnOverB',\n",
    "    # kind='kde',\n",
    "    kind=\"hex\",\n",
    ")"
   ]
  },
  {
   "cell_type": "markdown",
   "metadata": {},
   "source": [
    "## Distribution of the DD types"
   ]
  },
  {
   "cell_type": "markdown",
   "metadata": {},
   "source": [
    "##### Plot distribution of types for each missions\n"
   ]
  },
  {
   "cell_type": "code",
   "execution_count": null,
   "metadata": {},
   "outputs": [],
   "source": [
    "alt.Chart(all_candidates).encode(\n",
    "    x=alt.X(\"count()\").stack(\"normalize\").title(\"Share of ID types\"),\n",
    "    y=alt.Y('sat').title(None),\n",
    "    color='type',\n",
    ").mark_bar()\n",
    "\n",
    "# alt.Chart(distributions).encode(\n",
    "#     alt.X('ratio:Q', title='DD type distribution').axis(format='.0%'),\n",
    "#     y=alt.Y('sat', title=None),\n",
    "#     color='type',\n",
    "# ).mark_bar()"
   ]
  },
  {
   "cell_type": "code",
   "execution_count": null,
   "metadata": {},
   "outputs": [
    {
     "data": {
      "text/html": [
       "<pre style=\"white-space:pre;overflow-x:auto;line-height:normal;font-family:Menlo,'DejaVu Sans Mono',consolas,'Courier New',monospace\"></pre>\n"
      ],
      "text/plain": []
     },
     "metadata": {},
     "output_type": "display_data"
    },
    {
     "data": {
      "text/html": [
       "<div>\n",
       "<style scoped>\n",
       "    .dataframe tbody tr th:only-of-type {\n",
       "        vertical-align: middle;\n",
       "    }\n",
       "\n",
       "    .dataframe tbody tr th {\n",
       "        vertical-align: top;\n",
       "    }\n",
       "\n",
       "    .dataframe thead th {\n",
       "        text-align: right;\n",
       "    }\n",
       "</style>\n",
       "<table border=\"1\" class=\"dataframe\">\n",
       "  <thead>\n",
       "    <tr style=\"text-align: right;\">\n",
       "      <th>type</th>\n",
       "      <th>RD</th>\n",
       "      <th>TD</th>\n",
       "      <th>ED</th>\n",
       "      <th>ND</th>\n",
       "    </tr>\n",
       "    <tr>\n",
       "      <th>sat</th>\n",
       "      <th></th>\n",
       "      <th></th>\n",
       "      <th></th>\n",
       "      <th></th>\n",
       "    </tr>\n",
       "  </thead>\n",
       "  <tbody>\n",
       "    <tr>\n",
       "      <th>JNO</th>\n",
       "      <td>34003</td>\n",
       "      <td>1576</td>\n",
       "      <td>15595</td>\n",
       "      <td>1277</td>\n",
       "    </tr>\n",
       "    <tr>\n",
       "      <th>STA</th>\n",
       "      <td>71337</td>\n",
       "      <td>2905</td>\n",
       "      <td>29916</td>\n",
       "      <td>1727</td>\n",
       "    </tr>\n",
       "    <tr>\n",
       "      <th>THB</th>\n",
       "      <td>26793</td>\n",
       "      <td>1093</td>\n",
       "      <td>8359</td>\n",
       "      <td>1193</td>\n",
       "    </tr>\n",
       "  </tbody>\n",
       "</table>\n",
       "</div>"
      ],
      "text/plain": [
       "\n",
       "type     RD    TD     ED    ND\n",
       "sat                           \n",
       "JNO   \u001b[1;36m34003\u001b[0m  \u001b[1;36m1576\u001b[0m  \u001b[1;36m15595\u001b[0m  \u001b[1;36m1277\u001b[0m\n",
       "STA   \u001b[1;36m71337\u001b[0m  \u001b[1;36m2905\u001b[0m  \u001b[1;36m29916\u001b[0m  \u001b[1;36m1727\u001b[0m\n",
       "THB   \u001b[1;36m26793\u001b[0m  \u001b[1;36m1093\u001b[0m   \u001b[1;36m8359\u001b[0m  \u001b[1;36m1193\u001b[0m"
      ]
     },
     "metadata": {},
     "output_type": "display_data"
    },
    {
     "data": {
      "text/html": [
       "<pre style=\"white-space:pre;overflow-x:auto;line-height:normal;font-family:Menlo,'DejaVu Sans Mono',consolas,'Courier New',monospace\"></pre>\n"
      ],
      "text/plain": []
     },
     "metadata": {},
     "output_type": "display_data"
    },
    {
     "data": {
      "text/html": [
       "<style type=\"text/css\">\n",
       "</style>\n",
       "<table id=\"T_c84ae\">\n",
       "  <thead>\n",
       "    <tr>\n",
       "      <th class=\"index_name level0\" >type</th>\n",
       "      <th id=\"T_c84ae_level0_col0\" class=\"col_heading level0 col0\" >RD</th>\n",
       "      <th id=\"T_c84ae_level0_col1\" class=\"col_heading level0 col1\" >TD</th>\n",
       "      <th id=\"T_c84ae_level0_col2\" class=\"col_heading level0 col2\" >ED</th>\n",
       "      <th id=\"T_c84ae_level0_col3\" class=\"col_heading level0 col3\" >ND</th>\n",
       "    </tr>\n",
       "    <tr>\n",
       "      <th class=\"index_name level0\" >sat</th>\n",
       "      <th class=\"blank col0\" >&nbsp;</th>\n",
       "      <th class=\"blank col1\" >&nbsp;</th>\n",
       "      <th class=\"blank col2\" >&nbsp;</th>\n",
       "      <th class=\"blank col3\" >&nbsp;</th>\n",
       "    </tr>\n",
       "  </thead>\n",
       "  <tbody>\n",
       "    <tr>\n",
       "      <th id=\"T_c84ae_level0_row0\" class=\"row_heading level0 row0\" >JNO</th>\n",
       "      <td id=\"T_c84ae_row0_col0\" class=\"data row0 col0\" >65%</td>\n",
       "      <td id=\"T_c84ae_row0_col1\" class=\"data row0 col1\" >3%</td>\n",
       "      <td id=\"T_c84ae_row0_col2\" class=\"data row0 col2\" >30%</td>\n",
       "      <td id=\"T_c84ae_row0_col3\" class=\"data row0 col3\" >2%</td>\n",
       "    </tr>\n",
       "    <tr>\n",
       "      <th id=\"T_c84ae_level0_row1\" class=\"row_heading level0 row1\" >STA</th>\n",
       "      <td id=\"T_c84ae_row1_col0\" class=\"data row1 col0\" >67%</td>\n",
       "      <td id=\"T_c84ae_row1_col1\" class=\"data row1 col1\" >3%</td>\n",
       "      <td id=\"T_c84ae_row1_col2\" class=\"data row1 col2\" >28%</td>\n",
       "      <td id=\"T_c84ae_row1_col3\" class=\"data row1 col3\" >2%</td>\n",
       "    </tr>\n",
       "    <tr>\n",
       "      <th id=\"T_c84ae_level0_row2\" class=\"row_heading level0 row2\" >THB</th>\n",
       "      <td id=\"T_c84ae_row2_col0\" class=\"data row2 col0\" >72%</td>\n",
       "      <td id=\"T_c84ae_row2_col1\" class=\"data row2 col1\" >3%</td>\n",
       "      <td id=\"T_c84ae_row2_col2\" class=\"data row2 col2\" >22%</td>\n",
       "      <td id=\"T_c84ae_row2_col3\" class=\"data row2 col3\" >3%</td>\n",
       "    </tr>\n",
       "  </tbody>\n",
       "</table>\n"
      ],
      "text/plain": [
       "\u001b[1m<\u001b[0m\u001b[1;95mpandas.io.formats.style.Styler\u001b[0m\u001b[39m object at \u001b[0m\u001b[1;36m0x2a0e246a0\u001b[0m\u001b[1m>\u001b[0m"
      ]
     },
     "metadata": {},
     "output_type": "display_data"
    }
   ],
   "source": [
    "distributions = all_candidates.group_by(\"sat\", \"type\").agg(pl.count()).with_columns(\n",
    "    (pl.col(\"count\") / pl.sum(\"count\").over(\"sat\")).alias(\"ratio\")\n",
    ")\n",
    "count_table = distributions.to_pandas().pivot(index='sat', columns='type', values='count')[['RD', 'TD', 'ED', 'ND']]\n",
    "ratio_table = distributions.to_pandas().pivot(index='sat', columns='type', values='ratio')[['RD', 'TD', 'ED', 'ND']]\n",
    "# display(distributions.to_pandas().pivot(index='sat', columns='type', values='ratio')[['RD', 'TD', 'ED', 'ND']].style.format(\"{:.0%}\"))\n",
    "display(count_table, ratio_table.style.format(\"{:.0%}\"))\n"
   ]
  },
  {
   "cell_type": "markdown",
   "metadata": {},
   "source": [
    "##### Plot distribution of types for each missions **over time**"
   ]
  },
  {
   "cell_type": "code",
   "execution_count": null,
   "metadata": {},
   "outputs": [
    {
     "data": {
      "text/html": [
       "<pre style=\"white-space:pre;overflow-x:auto;line-height:normal;font-family:Menlo,'DejaVu Sans Mono',consolas,'Courier New',monospace\"></pre>\n"
      ],
      "text/plain": []
     },
     "metadata": {},
     "output_type": "display_data"
    },
    {
     "data": {
      "text/plain": [
       "\u001b[1;35malt.Chart\u001b[0m\u001b[1m(\u001b[0m\u001b[33m...\u001b[0m\u001b[1m)\u001b[0m"
      ]
     },
     "execution_count": null,
     "metadata": {},
     "output_type": "execute_result"
    }
   ],
   "source": [
    "alt.Chart(all_candidates).mark_bar(binSpacing=0).encode(\n",
    "    x=\"yearmonth(time)\",\n",
    "    y=alt.Y(\"count()\").stack(\"normalize\").title(\"Share of ID types\"),\n",
    "    row=alt.Row(\"sat\").title(None),\n",
    "    color=\"type\",\n",
    ").configure_axis(grid=False).properties(height=100)"
   ]
  },
  {
   "cell_type": "code",
   "execution_count": null,
   "metadata": {},
   "outputs": [],
   "source": [
    "%%R\n",
    "plot_type_distribution <- function(data, bin_width = 30) { \n",
    "    data$date_only <- as.Date(data$time)\n",
    "    \n",
    "    p <- ggplot(data, aes(date_only, fill = type)) +\n",
    "        geom_histogram(binwidth = bin_width, position = \"fill\") + \n",
    "        theme_pubr(base_size = 16)\n",
    "        \n",
    "    return(p)\n",
    "}\n",
    "\n",
    "p1 <- plot_type_distribution(jno_candidates)\n",
    "p2 <- plot_type_distribution(thb_candidates)\n",
    "p3 <- plot_type_distribution(sta_candidates)\n",
    "\n",
    "p <- ggarrange(\n",
    "    p1 + rremove(\"xlab\"),\n",
    "    p2 + rremove(\"xlab\"), p3, \n",
    "    nrow = 3, align = 'hv', \n",
    "    labels=list(\"JUNO\", \"ARTEMIS-B\", \"STEREO-A\"), hjust=0, vjust=0,\n",
    "    legend = 'right', common.legend = TRUE\n",
    ")\n",
    "# save_plot(filename = \"type_distribution\")\n",
    "p"
   ]
  },
  {
   "cell_type": "markdown",
   "metadata": {},
   "source": [
    "### $dB_l/B$\n",
    "\n",
    "- $dB_l/B$ does not show any clear correlation with time."
   ]
  },
  {
   "cell_type": "markdown",
   "metadata": {},
   "source": [
    "### Waiting time"
   ]
  },
  {
   "cell_type": "markdown",
   "metadata": {},
   "source": [
    "### Amplitude"
   ]
  },
  {
   "cell_type": "markdown",
   "metadata": {},
   "source": [
    "### Plotting candidates of different types of discontinuities"
   ]
  },
  {
   "cell_type": "code",
   "execution_count": null,
   "metadata": {},
   "outputs": [],
   "source": [
    "# alt.Chart(candidates).mark_point().encode(\n",
    "#     x='yearmonth(time)',\n",
    "#     y='count()',\n",
    "#     color='type',\n",
    "# )"
   ]
  },
  {
   "cell_type": "code",
   "execution_count": null,
   "metadata": {},
   "outputs": [],
   "source": [
    "alt.Chart(candidates_jno_tau_60s.to_pandas()).mark_point().encode(\n",
    "    x='X',\n",
    "    y='count(type)',\n",
    "    color='type',\n",
    ")"
   ]
  },
  {
   "cell_type": "markdown",
   "metadata": {},
   "source": [
    "### Duration"
   ]
  }
 ],
 "metadata": {
  "kernelspec": {
   "display_name": "python3",
   "language": "python",
   "name": "python3"
  }
 },
 "nbformat": 4,
 "nbformat_minor": 2
}
