{
 "cells": [
  {
   "cell_type": "markdown",
   "metadata": {},
   "source": [
    "---\n",
    "title: Models\n",
    "subtitle: Validation of MHD data against observations for JUNO mission\n",
    "format:\n",
    "  html:\n",
    "    code-fold: true\n",
    "---"
   ]
  },
  {
   "cell_type": "markdown",
   "metadata": {},
   "source": [
    "## Setup"
   ]
  },
  {
   "cell_type": "markdown",
   "metadata": {},
   "source": [
    "Need to run command in shell first as `pipeline` is project-specific command\n",
    "\n",
    "```{sh}\n",
    "kedro pipeline create model\n",
    "```\n",
    "\n",
    "`kedro run --to-outputs=jno.primary_state_rtn_1h`"
   ]
  },
  {
   "cell_type": "code",
   "execution_count": null,
   "metadata": {},
   "outputs": [],
   "source": [
    "#| hide\n",
    "%load_ext autoreload\n",
    "%autoreload 2"
   ]
  },
  {
   "cell_type": "code",
   "execution_count": null,
   "metadata": {},
   "outputs": [],
   "source": [
    "from loguru import logger\n",
    "from typing import Union, Collection, Callable, Optional, Tuple\n",
    "from typing import Any, Dict\n",
    "\n",
    "\n",
    "import numpy as np\n",
    "import polars as pl\n",
    "import pandas"
   ]
  },
  {
   "cell_type": "markdown",
   "metadata": {},
   "source": [
    "#### `Kedro`"
   ]
  },
  {
   "cell_type": "code",
   "execution_count": null,
   "metadata": {},
   "outputs": [],
   "source": [
    "from kedro.pipeline import Pipeline, node\n",
    "from kedro.pipeline.modular_pipeline import pipeline\n"
   ]
  },
  {
   "cell_type": "code",
   "execution_count": null,
   "metadata": {},
   "outputs": [],
   "source": [
    "from ids_finder.utils.basic import load_catalog"
   ]
  },
  {
   "cell_type": "code",
   "execution_count": null,
   "metadata": {},
   "outputs": [],
   "source": [
    "catalog = load_catalog()\n",
    "catalog.list()"
   ]
  },
  {
   "cell_type": "markdown",
   "metadata": {},
   "source": [
    "## Process model data"
   ]
  },
  {
   "cell_type": "code",
   "execution_count": null,
   "metadata": {},
   "outputs": [],
   "source": [
    "def overview(df: pl.DataFrame):\n",
    "    \"\"\"Overview of the data\"\"\"\n",
    "    df_pd = df.to_pandas()\n",
    "    df_pd.hvplot(x=\"time\", y=bcols_rtn)\n",
    "    \n",
    "    b_fig = df_pd.hvplot.line(x=\"time\", y=bcols_rtn)\n",
    "    v_fig = df_pd.hvplot.line(x=\"time\", y=vcols_rtn)\n",
    "    rho_fig = df_pd.hvplot.line(x=\"time\", y=\"rho\", logy=True)\n",
    "    Ti_fig = df_pd.hvplot.line(x=\"time\", y=\"Ti\", logy=True)\n",
    "    return (b_fig + v_fig + rho_fig + Ti_fig).cols(1).opts(shared_axes=False)\n",
    "\n",
    "\n",
    "# jno_mswim2d_rtn.pipe(overview)"
   ]
  },
  {
   "cell_type": "code",
   "execution_count": null,
   "metadata": {},
   "outputs": [
    {
     "data": {
      "text/html": [
       "<pre style=\"white-space:pre;overflow-x:auto;line-height:normal;font-family:Menlo,'DejaVu Sans Mono',consolas,'Courier New',monospace\"><span style=\"color: #7fbfbf; text-decoration-color: #7fbfbf\">[10/15/23 16:13:04] </span><span style=\"color: #000080; text-decoration-color: #000080\">INFO    </span> Loading data from <span style=\"color: #008000; text-decoration-color: #008000\">'jno.primary_state_rtn_1h'</span> <span style=\"font-weight: bold\">(</span>GenericDataSet<span style=\"font-weight: bold\">)</span><span style=\"color: #808000; text-decoration-color: #808000\">...</span>   <a href=\"file:///Users/zijin/mambaforge/envs/cool_planet/lib/python3.10/site-packages/kedro/io/data_catalog.py\" target=\"_blank\"><span style=\"color: #7f7f7f; text-decoration-color: #7f7f7f\">data_catalog.py</span></a><span style=\"color: #7f7f7f; text-decoration-color: #7f7f7f\">:</span><a href=\"file:///Users/zijin/mambaforge/envs/cool_planet/lib/python3.10/site-packages/kedro/io/data_catalog.py#492\" target=\"_blank\"><span style=\"color: #7f7f7f; text-decoration-color: #7f7f7f\">492</span></a>\n",
       "</pre>\n"
      ],
      "text/plain": [
       "\u001b[2;36m[10/15/23 16:13:04]\u001b[0m\u001b[2;36m \u001b[0m\u001b[34mINFO    \u001b[0m Loading data from \u001b[32m'jno.primary_state_rtn_1h'\u001b[0m \u001b[1m(\u001b[0mGenericDataSet\u001b[1m)\u001b[0m\u001b[33m...\u001b[0m   \u001b]8;id=618515;file:///Users/zijin/mambaforge/envs/cool_planet/lib/python3.10/site-packages/kedro/io/data_catalog.py\u001b\\\u001b[2mdata_catalog.py\u001b[0m\u001b]8;;\u001b\\\u001b[2m:\u001b[0m\u001b]8;id=769668;file:///Users/zijin/mambaforge/envs/cool_planet/lib/python3.10/site-packages/kedro/io/data_catalog.py#492\u001b\\\u001b[2m492\u001b[0m\u001b]8;;\u001b\\\n"
      ]
     },
     "metadata": {},
     "output_type": "display_data"
    },
    {
     "data": {
      "text/html": [
       "<pre style=\"white-space:pre;overflow-x:auto;line-height:normal;font-family:Menlo,'DejaVu Sans Mono',consolas,'Courier New',monospace\"></pre>\n"
      ],
      "text/plain": []
     },
     "metadata": {},
     "output_type": "display_data"
    },
    {
     "data": {
      "text/html": [
       "<div><style>\n",
       ".dataframe > thead > tr > th,\n",
       ".dataframe > tbody > tr > td {\n",
       "  text-align: right;\n",
       "  white-space: pre-wrap;\n",
       "}\n",
       "</style>\n",
       "<small>shape: (42_385, 10)</small><table border=\"1\" class=\"dataframe\"><thead><tr><th>radial_distance</th><th>plasma_density</th><th>plasma_temperature</th><th>time</th><th>model_b_r</th><th>model_b_t</th><th>model_b_n</th><th>sw_vel_r</th><th>sw_vel_t</th><th>sw_vel_n</th></tr><tr><td>f64</td><td>f64</td><td>i64</td><td>datetime[ns]</td><td>f64</td><td>f64</td><td>f64</td><td>f64</td><td>f64</td><td>f64</td></tr></thead><tbody><tr><td>1.004</td><td>2.77562</td><td>76394</td><td>2011-08-25 00:00:00</td><td>-1.214485</td><td>2.724603</td><td>0.578</td><td>442.731905</td><td>1.438722</td><td>-0.0</td></tr><tr><td>1.003</td><td>2.82988</td><td>76600</td><td>2011-08-25 01:00:00</td><td>-1.101071</td><td>2.656081</td><td>0.523</td><td>440.550352</td><td>-6.464314</td><td>-0.0</td></tr><tr><td>1.003</td><td>2.94476</td><td>74014</td><td>2011-08-25 02:00:00</td><td>-0.721961</td><td>2.640019</td><td>0.949</td><td>441.072265</td><td>-7.503789</td><td>-0.0</td></tr><tr><td>1.004</td><td>2.89843</td><td>70426</td><td>2011-08-25 03:00:00</td><td>-0.69794</td><td>2.757097</td><td>1.18</td><td>439.112842</td><td>-4.326845</td><td>0.0</td></tr><tr><td>1.004</td><td>2.71252</td><td>68131</td><td>2011-08-25 04:00:00</td><td>-0.902173</td><td>3.002557</td><td>1.08</td><td>437.440827</td><td>0.11421</td><td>-0.0</td></tr><tr><td>1.004</td><td>2.89406</td><td>73654</td><td>2011-08-25 05:00:00</td><td>-0.715813</td><td>2.763938</td><td>0.807</td><td>437.643073</td><td>1.68236</td><td>-0.1</td></tr><tr><td>1.004</td><td>3.1065</td><td>80005</td><td>2011-08-25 06:00:00</td><td>-0.824154</td><td>2.315087</td><td>0.336</td><td>435.357101</td><td>-5.304179</td><td>-0.1</td></tr><tr><td>1.003</td><td>3.29236</td><td>78831</td><td>2011-08-25 07:00:00</td><td>-0.680414</td><td>2.02755</td><td>0.576</td><td>434.080668</td><td>-11.782328</td><td>0.0</td></tr><tr><td>1.004</td><td>3.45049</td><td>76311</td><td>2011-08-25 08:00:00</td><td>-0.418169</td><td>2.058053</td><td>1.08</td><td>434.591819</td><td>-12.90159</td><td>0.0</td></tr><tr><td>1.004</td><td>3.43728</td><td>75513</td><td>2011-08-25 09:00:00</td><td>-0.407522</td><td>2.487763</td><td>1.27</td><td>433.637723</td><td>-8.415747</td><td>0.0</td></tr><tr><td>1.004</td><td>3.23587</td><td>74375</td><td>2011-08-25 10:00:00</td><td>-0.587603</td><td>2.911467</td><td>1.01</td><td>432.557123</td><td>-3.750324</td><td>0.0</td></tr><tr><td>1.004</td><td>3.14977</td><td>78652</td><td>2011-08-25 11:00:00</td><td>-0.446334</td><td>2.612638</td><td>0.805</td><td>432.903021</td><td>-2.360952</td><td>0.1</td></tr><tr><td>&hellip;</td><td>&hellip;</td><td>&hellip;</td><td>&hellip;</td><td>&hellip;</td><td>&hellip;</td><td>&hellip;</td><td>&hellip;</td><td>&hellip;</td><td>&hellip;</td></tr><tr><td>5.41</td><td>0.02643</td><td>25693</td><td>2016-06-29 13:00:00</td><td>0.008422</td><td>-0.085061</td><td>0.0572</td><td>476.984855</td><td>5.561302</td><td>0.1</td></tr><tr><td>5.41</td><td>0.02693</td><td>25473</td><td>2016-06-29 14:00:00</td><td>0.008344</td><td>-0.085453</td><td>0.0581</td><td>476.161236</td><td>5.520671</td><td>0.0</td></tr><tr><td>5.41</td><td>0.02741</td><td>25243</td><td>2016-06-29 15:00:00</td><td>0.008148</td><td>-0.085924</td><td>0.0588</td><td>475.239525</td><td>5.499484</td><td>0.0</td></tr><tr><td>5.41</td><td>0.02788</td><td>25007</td><td>2016-06-29 16:00:00</td><td>0.007953</td><td>-0.086395</td><td>0.0596</td><td>474.415905</td><td>5.458853</td><td>0.0</td></tr><tr><td>5.41</td><td>0.02833</td><td>24769</td><td>2016-06-29 17:00:00</td><td>0.007719</td><td>-0.087062</td><td>0.0603</td><td>473.494194</td><td>5.437666</td><td>0.0</td></tr><tr><td>5.41</td><td>0.02876</td><td>24531</td><td>2016-06-29 18:00:00</td><td>0.007387</td><td>-0.08771</td><td>0.061</td><td>472.690019</td><td>5.495126</td><td>-0.0</td></tr><tr><td>5.41</td><td>0.02917</td><td>24295</td><td>2016-06-29 19:00:00</td><td>0.007114</td><td>-0.088574</td><td>0.0616</td><td>471.768308</td><td>5.473939</td><td>-0.0</td></tr><tr><td>5.41</td><td>0.02956</td><td>24063</td><td>2016-06-29 20:00:00</td><td>0.006723</td><td>-0.089516</td><td>0.0622</td><td>470.944688</td><td>5.433308</td><td>-0.0</td></tr><tr><td>5.41</td><td>0.02992</td><td>23837</td><td>2016-06-29 21:00:00</td><td>0.006411</td><td>-0.090575</td><td>0.0628</td><td>470.022977</td><td>5.412121</td><td>-0.0</td></tr><tr><td>5.41</td><td>0.03026</td><td>23619</td><td>2016-06-29 22:00:00</td><td>0.006001</td><td>-0.091615</td><td>0.0634</td><td>469.101266</td><td>5.390934</td><td>-0.0</td></tr><tr><td>5.41</td><td>0.03057</td><td>23409</td><td>2016-06-29 23:00:00</td><td>0.005552</td><td>-0.092852</td><td>0.064</td><td>468.297091</td><td>5.448394</td><td>-0.0</td></tr><tr><td>5.41</td><td>0.03085</td><td>23217</td><td>2016-06-30 00:00:00</td><td>0.005085</td><td>-0.094089</td><td>0.0645</td><td>467.395876</td><td>5.435565</td><td>-0.1</td></tr></tbody></table></div>"
      ],
      "text/plain": [
       "\n",
       "shape: \u001b[1m(\u001b[0m42_385, \u001b[1;36m10\u001b[0m\u001b[1m)\u001b[0m\n",
       "┌───────────┬───────────┬───────────┬───────────┬───┬───────────┬───────────┬───────────┬──────────┐\n",
       "│ radial_di ┆ sw_densit ┆ sw_temper ┆ time      ┆ … ┆ model_b_n ┆ sw_vel_r  ┆ sw_vel_t  ┆ sw_vel_n │\n",
       "│ stance    ┆ y         ┆ ature     ┆ ---       ┆   ┆ ---       ┆ ---       ┆ ---       ┆ ---      │\n",
       "│ ---       ┆ ---       ┆ ---       ┆ datetime\u001b[1m[\u001b[0m ┆   ┆ f64       ┆ f64       ┆ f64       ┆ f64      │\n",
       "│ f64       ┆ f64       ┆ i64       ┆ ns\u001b[1m]\u001b[0m       ┆   ┆           ┆           ┆           ┆          │\n",
       "╞═══════════╪═══════════╪═══════════╪═══════════╪═══╪═══════════╪═══════════╪═══════════╪══════════╡\n",
       "│ \u001b[1;36m1.004\u001b[0m     ┆ \u001b[1;36m2.77562\u001b[0m   ┆ \u001b[1;36m76394\u001b[0m     ┆ \u001b[1;36m2011\u001b[0m-\u001b[1;36m08\u001b[0m-\u001b[1;36m2\u001b[0m ┆ … ┆ \u001b[1;36m0.578\u001b[0m     ┆ \u001b[1;36m442.73190\u001b[0m ┆ \u001b[1;36m1.438722\u001b[0m  ┆ \u001b[1;36m-0.0\u001b[0m     │\n",
       "│           ┆           ┆           ┆ \u001b[1;36m5\u001b[0m         ┆   ┆           ┆ \u001b[1;36m5\u001b[0m         ┆           ┆          │\n",
       "│           ┆           ┆           ┆ \u001b[1;92m00:00:00\u001b[0m  ┆   ┆           ┆           ┆           ┆          │\n",
       "│ \u001b[1;36m1.003\u001b[0m     ┆ \u001b[1;36m2.82988\u001b[0m   ┆ \u001b[1;36m76600\u001b[0m     ┆ \u001b[1;36m2011\u001b[0m-\u001b[1;36m08\u001b[0m-\u001b[1;36m2\u001b[0m ┆ … ┆ \u001b[1;36m0.523\u001b[0m     ┆ \u001b[1;36m440.55035\u001b[0m ┆ \u001b[1;36m-6.464314\u001b[0m ┆ \u001b[1;36m-0.0\u001b[0m     │\n",
       "│           ┆           ┆           ┆ \u001b[1;36m5\u001b[0m         ┆   ┆           ┆ \u001b[1;36m2\u001b[0m         ┆           ┆          │\n",
       "│           ┆           ┆           ┆ \u001b[1;92m01:00:00\u001b[0m  ┆   ┆           ┆           ┆           ┆          │\n",
       "│ \u001b[1;36m1.003\u001b[0m     ┆ \u001b[1;36m2.94476\u001b[0m   ┆ \u001b[1;36m74014\u001b[0m     ┆ \u001b[1;36m2011\u001b[0m-\u001b[1;36m08\u001b[0m-\u001b[1;36m2\u001b[0m ┆ … ┆ \u001b[1;36m0.949\u001b[0m     ┆ \u001b[1;36m441.07226\u001b[0m ┆ \u001b[1;36m-7.503789\u001b[0m ┆ \u001b[1;36m-0.0\u001b[0m     │\n",
       "│           ┆           ┆           ┆ \u001b[1;36m5\u001b[0m         ┆   ┆           ┆ \u001b[1;36m5\u001b[0m         ┆           ┆          │\n",
       "│           ┆           ┆           ┆ \u001b[1;92m02:00:00\u001b[0m  ┆   ┆           ┆           ┆           ┆          │\n",
       "│ \u001b[1;36m1.004\u001b[0m     ┆ \u001b[1;36m2.89843\u001b[0m   ┆ \u001b[1;36m70426\u001b[0m     ┆ \u001b[1;36m2011\u001b[0m-\u001b[1;36m08\u001b[0m-\u001b[1;36m2\u001b[0m ┆ … ┆ \u001b[1;36m1.18\u001b[0m      ┆ \u001b[1;36m439.11284\u001b[0m ┆ \u001b[1;36m-4.326845\u001b[0m ┆ \u001b[1;36m0.0\u001b[0m      │\n",
       "│           ┆           ┆           ┆ \u001b[1;36m5\u001b[0m         ┆   ┆           ┆ \u001b[1;36m2\u001b[0m         ┆           ┆          │\n",
       "│           ┆           ┆           ┆ \u001b[1;92m03:00:00\u001b[0m  ┆   ┆           ┆           ┆           ┆          │\n",
       "│ …         ┆ …         ┆ …         ┆ …         ┆ … ┆ …         ┆ …         ┆ …         ┆ …        │\n",
       "│ \u001b[1;36m5.41\u001b[0m      ┆ \u001b[1;36m0.02992\u001b[0m   ┆ \u001b[1;36m23837\u001b[0m     ┆ \u001b[1;36m2016\u001b[0m-\u001b[1;36m06\u001b[0m-\u001b[1;36m2\u001b[0m ┆ … ┆ \u001b[1;36m0.0628\u001b[0m    ┆ \u001b[1;36m470.02297\u001b[0m ┆ \u001b[1;36m5.412121\u001b[0m  ┆ \u001b[1;36m-0.0\u001b[0m     │\n",
       "│           ┆           ┆           ┆ \u001b[1;36m9\u001b[0m         ┆   ┆           ┆ \u001b[1;36m7\u001b[0m         ┆           ┆          │\n",
       "│           ┆           ┆           ┆ \u001b[1;92m21:00:00\u001b[0m  ┆   ┆           ┆           ┆           ┆          │\n",
       "│ \u001b[1;36m5.41\u001b[0m      ┆ \u001b[1;36m0.03026\u001b[0m   ┆ \u001b[1;36m23619\u001b[0m     ┆ \u001b[1;36m2016\u001b[0m-\u001b[1;36m06\u001b[0m-\u001b[1;36m2\u001b[0m ┆ … ┆ \u001b[1;36m0.0634\u001b[0m    ┆ \u001b[1;36m469.10126\u001b[0m ┆ \u001b[1;36m5.390934\u001b[0m  ┆ \u001b[1;36m-0.0\u001b[0m     │\n",
       "│           ┆           ┆           ┆ \u001b[1;36m9\u001b[0m         ┆   ┆           ┆ \u001b[1;36m6\u001b[0m         ┆           ┆          │\n",
       "│           ┆           ┆           ┆ \u001b[1;92m22:00:00\u001b[0m  ┆   ┆           ┆           ┆           ┆          │\n",
       "│ \u001b[1;36m5.41\u001b[0m      ┆ \u001b[1;36m0.03057\u001b[0m   ┆ \u001b[1;36m23409\u001b[0m     ┆ \u001b[1;36m2016\u001b[0m-\u001b[1;36m06\u001b[0m-\u001b[1;36m2\u001b[0m ┆ … ┆ \u001b[1;36m0.064\u001b[0m     ┆ \u001b[1;36m468.29709\u001b[0m ┆ \u001b[1;36m5.448394\u001b[0m  ┆ \u001b[1;36m-0.0\u001b[0m     │\n",
       "│           ┆           ┆           ┆ \u001b[1;36m9\u001b[0m         ┆   ┆           ┆ \u001b[1;36m1\u001b[0m         ┆           ┆          │\n",
       "│           ┆           ┆           ┆ \u001b[1;92m23:00:00\u001b[0m  ┆   ┆           ┆           ┆           ┆          │\n",
       "│ \u001b[1;36m5.41\u001b[0m      ┆ \u001b[1;36m0.03085\u001b[0m   ┆ \u001b[1;36m23217\u001b[0m     ┆ \u001b[1;36m2016\u001b[0m-\u001b[1;36m06\u001b[0m-\u001b[1;36m3\u001b[0m ┆ … ┆ \u001b[1;36m0.0645\u001b[0m    ┆ \u001b[1;36m467.39587\u001b[0m ┆ \u001b[1;36m5.435565\u001b[0m  ┆ \u001b[1;36m-0.1\u001b[0m     │\n",
       "│           ┆           ┆           ┆ \u001b[1;36m0\u001b[0m         ┆   ┆           ┆ \u001b[1;36m6\u001b[0m         ┆           ┆          │\n",
       "│           ┆           ┆           ┆ \u001b[1;92m00:00:00\u001b[0m  ┆   ┆           ┆           ┆           ┆          │\n",
       "└───────────┴───────────┴───────────┴───────────┴───┴───────────┴───────────┴───────────┴──────────┘"
      ]
     },
     "execution_count": null,
     "metadata": {},
     "output_type": "execute_result"
    }
   ],
   "source": [
    "catalog.load('jno.primary_state_rtn_1h')"
   ]
  },
  {
   "cell_type": "markdown",
   "metadata": {},
   "source": [
    "## Compare JUNO data with model\n",
    "\n",
    "We are using juno 1min data to compare with model data"
   ]
  },
  {
   "cell_type": "code",
   "execution_count": null,
   "metadata": {},
   "outputs": [],
   "source": [
    "from ids_finder.utils.basic import resample\n",
    "from ids_finder.utils.polars import pl_norm"
   ]
  },
  {
   "cell_type": "code",
   "execution_count": null,
   "metadata": {},
   "outputs": [],
   "source": [
    "from ids_finder.pipelines.juno.pipeline import download_juno_data, preprocess_jno"
   ]
  },
  {
   "cell_type": "code",
   "execution_count": null,
   "metadata": {},
   "outputs": [],
   "source": [
    "def create_jno_data_pipeline(**kwargs) -> Pipeline:\n",
    "    nodes = [\n",
    "        node(download_juno_data, inputs=None, outputs=\"raw_jno_ss_se_1min\", name=\"download_JUNO_data_1min\"),\n",
    "        node(preprocess_jno, inputs=\"raw_jno_ss_se_1min\", outputs=\"preprocessed_jno_ss_se_1min\", name=\"preprocess_JUNO_node_1min\",),\n",
    "    ]\n",
    "    return pipeline(nodes, namespace=\"model\")"
   ]
  },
  {
   "cell_type": "markdown",
   "metadata": {},
   "source": []
  },
  {
   "cell_type": "code",
   "execution_count": null,
   "metadata": {},
   "outputs": [],
   "source": [
    "#| code-summary: load jno data and resample to 1h to match model resolution\n",
    "preprocessed_jno_ss_se_1min: pl.DataFrame = catalog.load('preprocessed_jno_ss_se_1min')\n",
    "jno_ss_se_1min = preprocessed_jno_ss_se_1min.lazy().rename(\n",
    "    {\"BX SE\": \"br\", \"BY SE\": \"bt\", \"BZ SE\": \"bn\"}\n",
    ")\n",
    "\n",
    "jno_ss_se_1h = jno_ss_se_1min.pipe(resample, every=\"1h\", period='2h')"
   ]
  },
  {
   "cell_type": "code",
   "execution_count": null,
   "metadata": {},
   "outputs": [],
   "source": [
    "import plotly.graph_objects as go;\n",
    "from plotly_resampler import register_plotly_resampler\n",
    "from plotly_resampler import FigureResampler\n",
    "import plotly.express as px"
   ]
  },
  {
   "cell_type": "code",
   "execution_count": null,
   "metadata": {},
   "outputs": [],
   "source": [
    "jno_mswim2d_1h = processed_jno_mswim2d.lazy()"
   ]
  },
  {
   "cell_type": "code",
   "execution_count": null,
   "metadata": {},
   "outputs": [],
   "source": [
    "def _tf(df: pl.DataFrame):\n",
    "    \"temporal function to select interesting columns and add norm\"\n",
    "    cols = [\"time\", \"br\", \"bt\", \"bn\"]\n",
    "\n",
    "    return df.select(cols).with_columns(\n",
    "        b=pl_norm(bcols_rtn),\n",
    "    )\n",
    "\n",
    "\n",
    "jno_joint_1h_wide: pl.DataFrame = (\n",
    "    jno_ss_se_1h.pipe(_tf).join(\n",
    "        jno_mswim2d_1h.pipe(_tf),\n",
    "        on=\"time\",\n",
    "        suffix=\"_model\",\n",
    "    )\n",
    ").collect()\n",
    "\n",
    "jno_joint_1h_long = pl.concat(\n",
    "    [\n",
    "        jno_ss_se_1h.pipe(_tf).with_columns(type=pl.lit(\"1h\")),\n",
    "        jno_mswim2d_1h.pipe(_tf).with_columns(type=pl.lit(\"1h_model\")),\n",
    "    ]\n",
    ").collect()"
   ]
  },
  {
   "cell_type": "markdown",
   "metadata": {},
   "source": [
    "#### Data Porfiling\n",
    "\n",
    "Results are showed in the following links\n",
    "\n",
    "[Timeseries Report Result](jno_model_ts.html)\n",
    "\n",
    "[Comparison Report Result](jno_model_comparison.html)"
   ]
  },
  {
   "cell_type": "code",
   "execution_count": null,
   "metadata": {},
   "outputs": [],
   "source": [
    "#| eval: false\n",
    "from ydata_profiling import ProfileReport, compare"
   ]
  },
  {
   "cell_type": "code",
   "execution_count": null,
   "metadata": {},
   "outputs": [],
   "source": [
    "from fastcore.utils import threaded"
   ]
  },
  {
   "cell_type": "code",
   "execution_count": null,
   "metadata": {},
   "outputs": [],
   "source": [
    "@threaded\n",
    "def get_report_t(df: pl.DataFrame, output, **kwargs):\n",
    "    '''get report and save to file in a thread\n",
    "    '''\n",
    "    get_report(df, **kwargs).to_file(output)\n",
    "    return output\n",
    "\n",
    "def get_report(df: pl.DataFrame, **kwargs):\n",
    "    return ProfileReport(\n",
    "        df.to_pandas().set_index(\"time\"), **kwargs\n",
    "    )\n",
    "\n",
    "def get_comparison_report(df: pl.DataFrame, compare_col=None, tsmode=False, **kwargs):\n",
    "    \n",
    "    dfs_dict: Dict[str, pl.DataFrame] = df.partition_by(compare_col, as_dict=True)\n",
    "    \n",
    "    if tsmode:\n",
    "        raise NotImplementedError(\"tsmode for comparison is not implemented yet in `ydata_profiling`\")\n",
    "        # UnionMatchError: can not match type \"list\" to any type of \"time_index_analysis.period\" union: typing.Union[float,  \n",
    "        \n",
    "        # Notes: for `tsmode`, we need to match the time first\n",
    "        # select common timestamps\n",
    "        from functools import reduce\n",
    "        basetimestamps = reduce(np.intersect1d, [df.get_column('time') for df in dfs_dict.values()])\n",
    "        dfs_dict = {\n",
    "            k: df.filter(pl.col(\"time\").is_in(basetimestamps))\n",
    "            for k, df in dfs_dict.items()\n",
    "        }\n",
    "\n",
    "        for k, df in dfs_dict.items():\n",
    "            logger.info(f\"{k}: {len(df)}\")\n",
    "    \n",
    "    comparison_report = compare(\n",
    "        [get_report(df, title=k, **kwargs) for k, df in dfs_dict.items()]\n",
    "    )\n",
    "    \n",
    "    # Obtain merged statistics\n",
    "    comparison_report.get_description()\n",
    "\n",
    "    return comparison_report"
   ]
  },
  {
   "cell_type": "code",
   "execution_count": null,
   "metadata": {},
   "outputs": [],
   "source": [
    "get_report_t(\n",
    "    jno_joint_1h_wide,\n",
    "    output=\"jno_model_ts.html\",\n",
    "    tsmode=True,\n",
    "    title=\"JUNO Model Timeseries Report\",\n",
    ")"
   ]
  },
  {
   "cell_type": "code",
   "execution_count": null,
   "metadata": {},
   "outputs": [],
   "source": [
    "get_comparison_report(jno_joint_1h_long, compare_col=\"type\").to_file(\n",
    "    \"jno_model_comparison.html\"\n",
    ")"
   ]
  },
  {
   "cell_type": "markdown",
   "metadata": {},
   "source": [
    "## Validation"
   ]
  },
  {
   "cell_type": "markdown",
   "metadata": {},
   "source": [
    "#### Connect `python` with `R` kernel"
   ]
  },
  {
   "cell_type": "code",
   "execution_count": null,
   "metadata": {},
   "outputs": [],
   "source": [
    "%load_ext rpy2.ipython\n",
    "\n",
    "from ids_finder.utils.r import py2rpy_polars\n",
    "conv_pl = py2rpy_polars()"
   ]
  },
  {
   "cell_type": "code",
   "execution_count": null,
   "metadata": {},
   "outputs": [],
   "source": [
    "%%R\n",
    "library(ggplot2)\n",
    "library(ggpubr)\n",
    "library(viridis)\n",
    "\n",
    "library(glue)\n",
    "library(arrow)"
   ]
  },
  {
   "cell_type": "code",
   "execution_count": null,
   "metadata": {},
   "outputs": [],
   "source": [
    "import warnings"
   ]
  },
  {
   "cell_type": "code",
   "execution_count": null,
   "metadata": {},
   "outputs": [],
   "source": []
  },
  {
   "cell_type": "code",
   "execution_count": null,
   "metadata": {},
   "outputs": [],
   "source": [
    "#| column: screen\n",
    "fig = px.line(\n",
    "    jno_joint_1h_long.sort(\"time\"),\n",
    "    x=\"time\",\n",
    "    y=\"b\",\n",
    "    color=\"type\",\n",
    ")\n",
    "fig"
   ]
  },
  {
   "cell_type": "markdown",
   "metadata": {},
   "source": [
    "### Compare directly with scatter plot"
   ]
  },
  {
   "cell_type": "code",
   "execution_count": null,
   "metadata": {},
   "outputs": [],
   "source": [
    "def bb_jointplot(data):\n",
    "    g = sns.jointplot(\n",
    "        x = 'b',\n",
    "        y = 'b_model',\n",
    "        data = data,\n",
    "        kind = 'hist',\n",
    "    )\n",
    "    return g"
   ]
  },
  {
   "cell_type": "code",
   "execution_count": null,
   "metadata": {},
   "outputs": [],
   "source": [
    "g = bb_jointplot(jno_joint_1h_wide)\n",
    "g.ax_marg_x.set_xlim(0, 5)\n",
    "g.ax_marg_y.set_ylim(0, 5)"
   ]
  },
  {
   "cell_type": "code",
   "execution_count": null,
   "metadata": {},
   "outputs": [],
   "source": [
    "%%R -i jno_joint_1h_wide -c conv_pl\n",
    "p1 <- ggplot(jno_joint_1h_wide, aes(x=b, y=b_model) ) +\n",
    "  geom_bin2d() +\n",
    "  geom_density_2d( colour=\"white\" ) +\n",
    "  scale_fill_continuous(trans=\"log\", type = \"viridis\") +\n",
    "  stat_regline_equation() + \n",
    "  xlim(-0.1, 10) +  # Set x-axis limits\n",
    "  ylim(-0.1, 10) +  # Set y-axis limits\n",
    "  theme_pubr(legend = 'right')\n",
    "  # theme(legend.position = c(0.8,0.8))\n",
    "  # stat_density_2d(aes(fill = ..level..), geom = \"polygon\", colour=\"white\")\n",
    "\n",
    "p1"
   ]
  },
  {
   "cell_type": "markdown",
   "metadata": {},
   "source": [
    "#### Test: remove outliers"
   ]
  },
  {
   "cell_type": "code",
   "execution_count": null,
   "metadata": {},
   "outputs": [],
   "source": [
    "#| eval: false\n",
    "from pyod.models.ecod import ECOD\n"
   ]
  },
  {
   "cell_type": "code",
   "execution_count": null,
   "metadata": {},
   "outputs": [],
   "source": [
    "data = jno_joint_1h_wide[['b', 'b_model']]\n",
    "\n",
    "clf = ECOD()\n",
    "clf.fit(data)"
   ]
  },
  {
   "cell_type": "code",
   "execution_count": null,
   "metadata": {},
   "outputs": [],
   "source": [
    "y_train_scores = clf.decision_scores_  # raw outlier scores on the train data\n",
    "y_train_pred = clf.labels_  # binary labels (0: inliers, 1: outliers)"
   ]
  },
  {
   "cell_type": "code",
   "execution_count": null,
   "metadata": {},
   "outputs": [],
   "source": [
    "bb_jointplot(jno_joint_1h_wide.filter(y_train_pred==1))\n",
    "data = jno_joint_1h_wide.filter(y_train_pred==0)\n",
    "g = sns.jointplot(\n",
    "    x = 'b',\n",
    "    y = 'b_model',\n",
    "    data = data,\n",
    "    kind = 'hist',\n",
    ")\n",
    "\n",
    "g.plot_joint(sns.kdeplot, color=\"r\", zorder=0, levels=6)\n"
   ]
  },
  {
   "cell_type": "code",
   "execution_count": null,
   "metadata": {},
   "outputs": [],
   "source": [
    "# def create_pipeline(**kwargs) -> Pipeline:\n",
    "    # return create_jno_model_pipeline(**kwargs) + create_jno_data_pipeline(**kwargs)"
   ]
  }
 ],
 "metadata": {
  "kernelspec": {
   "display_name": "python3",
   "language": "python",
   "name": "python3"
  },
  "language_info": {
   "name": "python",
   "version": "3.10.12"
  }
 },
 "nbformat": 4,
 "nbformat_minor": 2
}
