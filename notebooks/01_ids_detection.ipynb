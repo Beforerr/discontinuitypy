{
 "cells": [
  {
   "cell_type": "markdown",
   "metadata": {},
   "source": [
    "---\n",
    "title:  ID identification\n",
    "subtitle: limited feature extraction / anomaly detection\n",
    "---\n",
    "\n",
    "There are couple of ways to identify the ID.\n",
    "\n",
    "-   Variance method [@liuMagneticDiscontinuitiesSolar2022] : Large variance in the magnetic field compared with neighboring intervals (see [notebook](./detection/01_variance.ipynb))\n",
    "\n",
    "-   Partial variance increment (PVI) method :\n",
    "    \n",
    "    -   @vaskoKineticscaleCurrentSheets2022\n",
    "\n",
    "-   B-criterion [@burlagaTangentialDiscontinuitiesSolar1969] : a directional change of the magnetic ﬁeld larger than 30° during 60 s\n",
    "\n",
    "-   TS-criterion [@tsurutaniInterplanetaryDiscontinuitiesTemporal1979] : $|ΔB|/|B| \\geq 0.5$ within 3 minutes (see [notebook](./detection/02_TS_criterion.ipynb))\n",
    "\n",
    "\n",
    "\n",
    "Traditional methods (B-criterion and TS-criterion) rely on magnetic ﬁeld variations with a certain time lag. B-criterion has, as its main condition. In their methods, the IDs below the thresholds are artiﬁcially abandoned. Therefore, identiﬁcation criteria may affect the statistical results, and there is likely to be a discrepancy between the ﬁndings via B-criterion and TS-criterion."
   ]
  }
 ],
 "metadata": {
  "kernelspec": {
   "display_name": "python3",
   "language": "python",
   "name": "python3"
  }
 },
 "nbformat": 4,
 "nbformat_minor": 2
}
