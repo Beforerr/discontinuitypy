{
 "cells": [
  {
   "cell_type": "markdown",
   "metadata": {},
   "source": [
    "---\n",
    "title:  ID identification\n",
    "subtitle: limited feature extraction / anomaly detection\n",
    "---\n",
    "\n",
    "There are couple of ways to identify the ID.\n",
    "\n",
    "-   Variance method [@liuMagneticDiscontinuitiesSolar2022] : Large variance in the magnetic field compared with neighboring intervals (see [notebook](./detection/01_variance.ipynb))\n",
    "\n",
    "-   Partial variance increment (PVI) method :\n",
    "    \n",
    "    -   @vaskoKineticscaleCurrentSheets2022\n",
    "\n",
    "-   B-criterion [@burlagaTangentialDiscontinuitiesSolar1969] : a directional change of the magnetic ﬁeld larger than 30° during 60 s\n",
    "\n",
    "-   TS-criterion [@tsurutaniInterplanetaryDiscontinuitiesTemporal1979] : $|ΔB|/|B| \\geq 0.5$ within 3 minutes\n",
    "\n",
    "\n",
    "\n",
    "Traditional methods (B-criterion and TS-criterion) rely on magnetic ﬁeld variations with a certain time lag. B-criterion has, as its main condition. In their methods, the IDs below the thresholds are artiﬁcially abandoned. Therefore, identiﬁcation criteria may affect the statistical results, and there is likely to be a discrepancy between the ﬁndings via B-criterion and TS- criterion."
   ]
  },
  {
   "cell_type": "code",
   "execution_count": null,
   "metadata": {},
   "outputs": [],
   "source": [
    "#| default_exp core/detection"
   ]
  },
  {
   "cell_type": "code",
   "execution_count": null,
   "metadata": {},
   "outputs": [],
   "source": [
    "#| export\n",
    "from datetime import timedelta\n",
    "import polars as pl\n",
    "\n",
    "from typing import overload"
   ]
  },
  {
   "cell_type": "code",
   "execution_count": null,
   "metadata": {},
   "outputs": [],
   "source": [
    "#| export\n",
    "# some helper functions\n",
    "@overload\n",
    "def pl_format_time(df: pl.DataFrame, tau: timedelta) -> pl.DataFrame: pass\n",
    "\n",
    "@overload\n",
    "def pl_format_time(df: pl.LazyFrame, tau: timedelta) -> pl.LazyFrame: pass\n",
    "\n",
    "def pl_format_time(df: pl.LazyFrame, tau: timedelta):\n",
    "    return df.with_columns(\n",
    "        tstart=pl.col(\"time\"),\n",
    "        tstop=(pl.col(\"time\") + tau),\n",
    "        time=(pl.col(\"time\") + tau / 2),\n",
    "    )"
   ]
  },
  {
   "cell_type": "markdown",
   "metadata": {},
   "source": [
    "## Pipelines"
   ]
  },
  {
   "cell_type": "code",
   "execution_count": null,
   "metadata": {},
   "outputs": [],
   "source": [
    "# | export\n",
    "from discontinuitypy.detection.variance import compute_indices, filter_indices\n",
    "\n",
    "def detect_events(\n",
    "    data: pl.LazyFrame,\n",
    "    tau: timedelta,\n",
    "    ts: timedelta,\n",
    "    bcols,\n",
    "    sparse_num=None,\n",
    "    method=\"liu\",\n",
    "    **kwargs,\n",
    "):\n",
    "    indices = compute_indices(data, tau, bcols)\n",
    "    if sparse_num is None:\n",
    "        sparse_num = tau / ts // 3\n",
    "\n",
    "    events = indices.pipe(filter_indices, sparse_num=sparse_num).pipe(\n",
    "        pl_format_time, tau\n",
    "    ).collect()\n",
    "\n",
    "    return events"
   ]
  }
 ],
 "metadata": {
  "kernelspec": {
   "display_name": "cool_planet",
   "language": "python",
   "name": "python3"
  },
  "language_info": {
   "codemirror_mode": {
    "name": "ipython",
    "version": 3
   },
   "file_extension": ".py",
   "mimetype": "text/x-python",
   "name": "python",
   "nbconvert_exporter": "python",
   "pygments_lexer": "ipython3",
   "version": "3.10.13"
  }
 },
 "nbformat": 4,
 "nbformat_minor": 2
}
